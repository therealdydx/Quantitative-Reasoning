{
 "cells": [
  {
   "cell_type": "markdown",
   "metadata": {},
   "source": [
    "# Exercise 16 – Voting and Ethnicity in Malaysia during General Election\n",
    "\n",
    "### Introduction\n",
    "\n",
    "The learning goals for this script are as follows:\n",
    "\n",
    "- Use R-squared to assess predictive power of linear models\n",
    "- Examine the residuals from linear models\n",
    "- Think about outliers, leverage, and influence\n",
    "\n",
    "To achieve these goals, we will spend today’s class analyzing the relationship between voting and ethnicity in the following, recent general elections in Malaysia:\n",
    "\n",
    "- 2013 General Election\n",
    "- 2018 General Election\n"
   ]
  },
  {
   "cell_type": "markdown",
   "metadata": {},
   "source": [
    "Import ge2013.csv as a data frame ge13 and inspect:"
   ]
  },
  {
   "cell_type": "code",
   "execution_count": 18,
   "metadata": {},
   "outputs": [],
   "source": [
    "ge13 <- read.csv(\"C:/Users/User/OneDrive/Documents/Yale-NUS/Quantitative Reasoning/Quantitative Reasoning Repository/Exercise 16 - Malaysian General Election/ge2013.csv\", row.names = 1)"
   ]
  },
  {
   "cell_type": "code",
   "execution_count": 19,
   "metadata": {},
   "outputs": [
    {
     "name": "stdout",
     "output_type": "stream",
     "text": [
      "'data.frame':\t166 obs. of  10 variables:\n",
      " $ DISTNO  : Factor w/ 166 levels \"P001\",\"P002\",..: 1 2 3 4 5 6 7 8 9 10 ...\n",
      " $ STATE   : Factor w/ 14 levels \"FT Kuala Lumpur\",..: 12 12 12 5 5 5 5 5 5 5 ...\n",
      " $ DISTNAME: Factor w/ 166 levels \"ALOR GAJAH\",\"ALOR STAR\",..: 97 53 4 82 50 77 100 118 2 67 ...\n",
      " $ VOTESBN : int  21473 23343 19376 21407 24161 33334 20654 32263 25491 37923 ...\n",
      " $ VOTESPR : int  14047 19306 18005 9546 20891 22890 16212 36198 27364 42870 ...\n",
      " $ malay   : num  83.5 79.3 86.7 91 90.2 ...\n",
      " $ chinese : num  11.5 17.7 8.8 6.7 8.2 ...\n",
      " $ indian  : num  1.09 1.84 1.58 2.12 0.06 1.27 0.2 2.28 4.16 1.26 ...\n",
      " $ other   : num  4 1.15 2.92 0.22 1.51 0.43 5.72 0.76 0.33 0.27 ...\n",
      " $ pctBN   : num  60.5 54.7 51.8 69.2 53.6 ...\n"
     ]
    }
   ],
   "source": [
    "str(ge13)"
   ]
  },
  {
   "cell_type": "markdown",
   "metadata": {},
   "source": [
    "Dataset contains 166 constituency-level observations from the 2013 Malaysian general election. Observations come from the states of peninsular Malaysia (exclude states in East Malaysia)."
   ]
  },
  {
   "cell_type": "markdown",
   "metadata": {},
   "source": [
    "A codebook with descriptions of the variables and where they were collected were circulated as part of the pre-class materials. However, to review the critical variables for the first half of today’s activity:\n",
    "\n",
    "- DISTNO and DISTNAME: The constituency number and name\n",
    "- pctBN: Percent of the votes cast for ruling Barisan Nasional (BN) coalition out of the total number of valid votes cast in the constituency. The BN was in power from independence in 1957 until 2018.\n",
    "\n",
    "With respect to the ethnic composition of constituencies, the following variables are included:\n",
    "\n",
    "- MALAY: Percent of voters in the constituency classified as ethnic Malay.\n",
    "- CHINESE: Percent of voters in the constituency classified as ethnic Chinese.\n",
    "- INDIAN: Percent of voters in the constituency classified as ethnic Indian.\n",
    "- OTHER: Percent of voters in the constituency classified as “other” ethnicity (e.g. Eurasian, Thai)."
   ]
  },
  {
   "cell_type": "markdown",
   "metadata": {},
   "source": [
    "## Challenge 1\n",
    "Let’s begin out analysis of voting and ethnicity in Malaysia by examining BN vote share and whether it is related to ethnicity.\n",
    "\n",
    "### Step 1: Make a histogram of BN Vote Share\n",
    "BEFORE making any more plots, discuss the following based on context:\n",
    "- What patterns do you expect between BN vote share and ethnicity?\n",
    "- How much of the variation in BN vote share would you guess that ethnicity might account for?\n",
    "- Why do you expect this to be the case?"
   ]
  },
  {
   "cell_type": "code",
   "execution_count": 22,
   "metadata": {},
   "outputs": [
    {
     "data": {
      "text/html": [
       "<table>\n",
       "<thead><tr><th scope=col>DISTNO</th><th scope=col>STATE</th><th scope=col>DISTNAME</th><th scope=col>VOTESBN</th><th scope=col>VOTESPR</th><th scope=col>malay</th><th scope=col>chinese</th><th scope=col>indian</th><th scope=col>other</th><th scope=col>pctBN</th></tr></thead>\n",
       "<tbody>\n",
       "\t<tr><td>P001        </td><td>Perlis      </td><td>PADANG BESAR</td><td>21473       </td><td>14047       </td><td>83.48       </td><td>11.50       </td><td>1.09        </td><td>4.00        </td><td>60.45327    </td></tr>\n",
       "\t<tr><td>P002        </td><td>Perlis      </td><td>KANGAR      </td><td>23343       </td><td>19306       </td><td>79.26       </td><td>17.74       </td><td>1.84        </td><td>1.15        </td><td>54.73282    </td></tr>\n",
       "\t<tr><td>P003        </td><td>Perlis      </td><td>ARAU        </td><td>19376       </td><td>18005       </td><td>86.72       </td><td> 8.80       </td><td>1.58        </td><td>2.92        </td><td>51.83382    </td></tr>\n",
       "\t<tr><td>P004        </td><td>Kedah       </td><td>LANGKAWI    </td><td>21407       </td><td> 9546       </td><td>90.96       </td><td> 6.70       </td><td>2.12        </td><td>0.22        </td><td>69.15969    </td></tr>\n",
       "\t<tr><td>P005        </td><td>Kedah       </td><td>JERLUN      </td><td>24161       </td><td>20891       </td><td>90.23       </td><td> 8.20       </td><td>0.06        </td><td>1.51        </td><td>53.62914    </td></tr>\n",
       "\t<tr><td>P006        </td><td>Kedah       </td><td>KUBANG PASU </td><td>33334       </td><td>22890       </td><td>95.72       </td><td> 2.57       </td><td>1.27        </td><td>0.43        </td><td>59.28785    </td></tr>\n",
       "</tbody>\n",
       "</table>\n"
      ],
      "text/latex": [
       "\\begin{tabular}{r|llllllllll}\n",
       " DISTNO & STATE & DISTNAME & VOTESBN & VOTESPR & malay & chinese & indian & other & pctBN\\\\\n",
       "\\hline\n",
       "\t P001         & Perlis       & PADANG BESAR & 21473        & 14047        & 83.48        & 11.50        & 1.09         & 4.00         & 60.45327    \\\\\n",
       "\t P002         & Perlis       & KANGAR       & 23343        & 19306        & 79.26        & 17.74        & 1.84         & 1.15         & 54.73282    \\\\\n",
       "\t P003         & Perlis       & ARAU         & 19376        & 18005        & 86.72        &  8.80        & 1.58         & 2.92         & 51.83382    \\\\\n",
       "\t P004         & Kedah        & LANGKAWI     & 21407        &  9546        & 90.96        &  6.70        & 2.12         & 0.22         & 69.15969    \\\\\n",
       "\t P005         & Kedah        & JERLUN       & 24161        & 20891        & 90.23        &  8.20        & 0.06         & 1.51         & 53.62914    \\\\\n",
       "\t P006         & Kedah        & KUBANG PASU  & 33334        & 22890        & 95.72        &  2.57        & 1.27         & 0.43         & 59.28785    \\\\\n",
       "\\end{tabular}\n"
      ],
      "text/markdown": [
       "\n",
       "| DISTNO | STATE | DISTNAME | VOTESBN | VOTESPR | malay | chinese | indian | other | pctBN |\n",
       "|---|---|---|---|---|---|---|---|---|---|\n",
       "| P001         | Perlis       | PADANG BESAR | 21473        | 14047        | 83.48        | 11.50        | 1.09         | 4.00         | 60.45327     |\n",
       "| P002         | Perlis       | KANGAR       | 23343        | 19306        | 79.26        | 17.74        | 1.84         | 1.15         | 54.73282     |\n",
       "| P003         | Perlis       | ARAU         | 19376        | 18005        | 86.72        |  8.80        | 1.58         | 2.92         | 51.83382     |\n",
       "| P004         | Kedah        | LANGKAWI     | 21407        |  9546        | 90.96        |  6.70        | 2.12         | 0.22         | 69.15969     |\n",
       "| P005         | Kedah        | JERLUN       | 24161        | 20891        | 90.23        |  8.20        | 0.06         | 1.51         | 53.62914     |\n",
       "| P006         | Kedah        | KUBANG PASU  | 33334        | 22890        | 95.72        |  2.57        | 1.27         | 0.43         | 59.28785     |\n",
       "\n"
      ],
      "text/plain": [
       "  DISTNO STATE  DISTNAME     VOTESBN VOTESPR malay chinese indian other\n",
       "1 P001   Perlis PADANG BESAR 21473   14047   83.48 11.50   1.09   4.00 \n",
       "2 P002   Perlis KANGAR       23343   19306   79.26 17.74   1.84   1.15 \n",
       "3 P003   Perlis ARAU         19376   18005   86.72  8.80   1.58   2.92 \n",
       "4 P004   Kedah  LANGKAWI     21407    9546   90.96  6.70   2.12   0.22 \n",
       "5 P005   Kedah  JERLUN       24161   20891   90.23  8.20   0.06   1.51 \n",
       "6 P006   Kedah  KUBANG PASU  33334   22890   95.72  2.57   1.27   0.43 \n",
       "  pctBN   \n",
       "1 60.45327\n",
       "2 54.73282\n",
       "3 51.83382\n",
       "4 69.15969\n",
       "5 53.62914\n",
       "6 59.28785"
      ]
     },
     "metadata": {},
     "output_type": "display_data"
    },
    {
     "data": {
      "image/png": "[encoded data removed]",
      "text/plain": [
       "Plot with title \"Histogram of BN Vote Share\""
      ]
     },
     "metadata": {},
     "output_type": "display_data"
    }
   ],
   "source": [
    "hist(ge13$pctBN, \n",
    "     freq=FALSE, \n",
    "     col=\"lightblue\",\n",
    "     main = \"Histogram of BN Vote Share\",\n",
    "     xlab = \"BN Vote Share (%)\")"
   ]
  },
  {
   "cell_type": "markdown",
   "metadata": {},
   "source": [
    "## Challenge 2\n",
    "\n",
    "With the patterns you expect to see between BN vote share and ethnicity in mind, let’s now use the ethnic composition of constituencies to predict BN vote shares. Let’s start with the percentages of Malay and Chinese voters.\n",
    "\n",
    "### Step 2: Make scatter plots of BN vote shares by the percentage of voters classified as Malay and Chinese\n",
    "- Assess which conditions appear to be met for a linear model"
   ]
  },
  {
   "cell_type": "code",
   "execution_count": 38,
   "metadata": {},
   "outputs": [
    {
     "data": {
      "image/png": "[encoded data removed]",
      "text/plain": [
       "Plot with title \"BN Vote Share and Chinese Voters\""
      ]
     },
     "metadata": {},
     "output_type": "display_data"
    }
   ],
   "source": [
    "par(mfrow=c(2, 1))\n",
    "\n",
    "# PLOT THE SCATTER PLOT OF MALAYS\n",
    "plot(pctBN ~ malay, \n",
    "     data=ge13, \n",
    "     col=\"lightblue\", \n",
    "     pch=19,\n",
    "     xlab=\"Malay Voters (%)\", \n",
    "     ylab=\"BN Vote Share (%)\",\n",
    "     main=\"BN Vote Share and Malay Voters\")\n",
    "\n",
    "abline(lm(pctBN ~ malay, data=ge13), lwd = 3, col = \"lightblue\")\n",
    "\n",
    "# PLOT THE SCATTER PLOT OF CHINESE\n",
    "plot(pctBN ~ chinese, \n",
    "     data=ge13, \n",
    "     col=\"lightgreen\", \n",
    "     pch=19,\n",
    "     xlab=\"Chinese Voters (%)\", \n",
    "     ylab=\"BN Vote Share (%)\",\n",
    "     main=\"BN Vote Share and Chinese Voters\")\n",
    "\n",
    "abline(lm(pctBN ~ chinese, data=ge13), lwd = 3, col = \"lightgreen\")"
   ]
  },
  {
   "cell_type": "markdown",
   "metadata": {},
   "source": [
    "### Step 3: Estimate, interpret, and compare linear models\n",
    "- What are the intercepts and slopes? How would you interpret them?\n",
    "- What are the R-squares? How would you interpret them?\n",
    "- What about the residual standard errors?"
   ]
  },
  {
   "cell_type": "code",
   "execution_count": 33,
   "metadata": {},
   "outputs": [
    {
     "data": {
      "text/html": [
       "<dl class=dl-horizontal>\n",
       "\t<dt>(Intercept)</dt>\n",
       "\t\t<dd>26.9520695812512</dd>\n",
       "\t<dt>malay</dt>\n",
       "\t\t<dd>0.353464326555802</dd>\n",
       "</dl>\n"
      ],
      "text/latex": [
       "\\begin{description*}\n",
       "\\item[(Intercept)] 26.9520695812512\n",
       "\\item[malay] 0.353464326555802\n",
       "\\end{description*}\n"
      ],
      "text/markdown": [
       "(Intercept)\n",
       ":   26.9520695812512malay\n",
       ":   0.353464326555802\n",
       "\n"
      ],
      "text/plain": [
       "(Intercept)       malay \n",
       " 26.9520696   0.3534643 "
      ]
     },
     "metadata": {},
     "output_type": "display_data"
    },
    {
     "data": {
      "text/html": [
       "<dl class=dl-horizontal>\n",
       "\t<dt>(Intercept)</dt>\n",
       "\t\t<dd>60.8739595829916</dd>\n",
       "\t<dt>chinese</dt>\n",
       "\t\t<dd>-0.412502999561151</dd>\n",
       "</dl>\n"
      ],
      "text/latex": [
       "\\begin{description*}\n",
       "\\item[(Intercept)] 60.8739595829916\n",
       "\\item[chinese] -0.412502999561151\n",
       "\\end{description*}\n"
      ],
      "text/markdown": [
       "(Intercept)\n",
       ":   60.8739595829916chinese\n",
       ":   -0.412502999561151\n",
       "\n"
      ],
      "text/plain": [
       "(Intercept)     chinese \n",
       "  60.873960   -0.412503 "
      ]
     },
     "metadata": {},
     "output_type": "display_data"
    },
    {
     "name": "stdout",
     "output_type": "stream",
     "text": [
      "[1] \"R-Squared Values:\"\n"
     ]
    },
    {
     "data": {
      "text/html": [
       "0.439805252146735"
      ],
      "text/latex": [
       "0.439805252146735"
      ],
      "text/markdown": [
       "0.439805252146735"
      ],
      "text/plain": [
       "[1] 0.4398053"
      ]
     },
     "metadata": {},
     "output_type": "display_data"
    },
    {
     "data": {
      "text/html": [
       "0.455777956852352"
      ],
      "text/latex": [
       "0.455777956852352"
      ],
      "text/markdown": [
       "0.455777956852352"
      ],
      "text/plain": [
       "[1] 0.455778"
      ]
     },
     "metadata": {},
     "output_type": "display_data"
    },
    {
     "name": "stdout",
     "output_type": "stream",
     "text": [
      "[1] \"Residual Standard Deviations:\"\n"
     ]
    },
    {
     "data": {
      "text/html": [
       "9.81273947660321"
      ],
      "text/latex": [
       "9.81273947660321"
      ],
      "text/markdown": [
       "9.81273947660321"
      ],
      "text/plain": [
       "[1] 9.812739"
      ]
     },
     "metadata": {},
     "output_type": "display_data"
    },
    {
     "data": {
      "text/html": [
       "9.67183361085429"
      ],
      "text/latex": [
       "9.67183361085429"
      ],
      "text/markdown": [
       "9.67183361085429"
      ],
      "text/plain": [
       "[1] 9.671834"
      ]
     },
     "metadata": {},
     "output_type": "display_data"
    }
   ],
   "source": [
    "# ESTIMATE LINEAR MODELS\n",
    "\n",
    "lm13.BN.MALAY   <- lm(pctBN ~ malay, data=ge13)\n",
    "lm13.BN.CHINESE <- lm(pctBN ~ chinese, data=ge13)\n",
    "\n",
    "# INTERPRET THE INTERCEPTS AND THE SLOPES OF THE LINEAR MODELS\n",
    "coef(lm13.BN.MALAY)\n",
    "coef(lm13.BN.CHINESE)\n",
    "\n",
    "# NOW INTERPRET THE R SQUARES\n",
    "print(\"R-Squared Values:\")\n",
    "summary(lm13.BN.MALAY)$r.squared\n",
    "summary(lm13.BN.CHINESE)$r.squared\n",
    "\n",
    "# NOW FIND THE RESIDUAL STANDARD ERRORS / STANDARD DEVIATION OF THE RESIDUALS\n",
    "print(\"Residual Standard Deviations:\")\n",
    "sd(lm13.BN.MALAY$residuals)\n",
    "sd(lm13.BN.CHINESE$residuals)"
   ]
  },
  {
   "cell_type": "markdown",
   "metadata": {},
   "source": [
    "### Step 4: After you estimate the models, make residual plots:\n",
    "- What do you find?\n",
    "- Can you explain what it means vis-a-vis the conditions for a linear model?"
   ]
  },
  {
   "cell_type": "code",
   "execution_count": 35,
   "metadata": {},
   "outputs": [
    {
     "data": {
      "image/png": "[encoded data removed]",
      "text/plain": [
       "Plot with title \"BN Vote Share by Chinese Voters (%)\""
      ]
     },
     "metadata": {},
     "output_type": "display_data"
    }
   ],
   "source": [
    "par(mfrow = c(2,1))\n",
    "\n",
    "plot(lm13.BN.MALAY,\n",
    "    which = 1,\n",
    "    main = \"BN Vote Share by Malay Voters (%)\",\n",
    "    sub.caption = \"BN Vote Share (%)\")\n",
    "\n",
    "plot(lm13.BN.CHINESE,\n",
    "    which = 1,\n",
    "    main = \"BN Vote Share by Chinese Voters (%)\",\n",
    "    sub.caption = \"BN Vote Share (%)\")"
   ]
  },
  {
   "cell_type": "markdown",
   "metadata": {},
   "source": [
    "## Discussion\n",
    "Let’s take a moment to pause, think, and talk about the models so far:\n",
    "\n",
    "What have we found?\n",
    "- Positive relationship between percent Malay voters and BN vote share\n",
    "- Negative relationship between percent Chinese voters and BN vote share\n",
    "- CHINESE more predictive of BN vote share than MALAY\n",
    "- Residuals suggest relationship not strictly linear\n",
    "\n",
    "Things to think about:\n",
    "- Did you expect CHINESE to be more predictive than MALAY\n",
    "- What might explain the curve in the relationship?\n",
    "- What further might we do to find out?"
   ]
  },
  {
   "cell_type": "markdown",
   "metadata": {},
   "source": [
    "## MALAYSIAN GENERAL ELECTION 2018 ANALYSIS\n",
    "\n",
    "For the second half of this script, we will be using the dataset ge2018.csv to practice fitting and assessing linear models.\n",
    "\n",
    "To provide some background on the 2018 general election:\n",
    "\n",
    "1. Fought largely between the Barisan Nasional (BN) coalition and the opposition Pakatan Harapan (PH) coalition:\n",
    "- BN led by Prime Minister Najib Razak\n",
    "- PH led by former Prime Minister Mahathir Mohamad\n",
    "\n",
    "2. Election played out against backdrop of a major scandal over embezzlement funds from Malaysia’s 1MDB sovereign wealth fund (Najib accused of taking USD 700 million - currently on trial)\n",
    "\n",
    "\n",
    "3. The PH coalition defeated the BN:\n",
    "- First non-BN/UMNO-led government since Malaysia’s independence in 1957\n",
    "- Transition raised hopes of a Malaysia Baru (a new Malaysia) and that the country could potentially move beyond the politics of race/ethnicity that had dominated since independence"
   ]
  },
  {
   "cell_type": "markdown",
   "metadata": {},
   "source": [
    "Import ge2018.csv as a data frame ge18 and inspect:"
   ]
  },
  {
   "cell_type": "code",
   "execution_count": 9,
   "metadata": {},
   "outputs": [
    {
     "name": "stdout",
     "output_type": "stream",
     "text": [
      "'data.frame':\t222 obs. of  12 variables:\n",
      " $ ï..DISTNO: Factor w/ 222 levels \"P001\",\"P002\",..: 1 2 3 4 5 6 7 8 9 10 ...\n",
      " $ STATE    : Factor w/ 16 levels \"Johor\",\"Kedah\",..: 8 8 8 2 2 2 2 2 2 2 ...\n",
      " $ DISTNAME : Factor w/ 222 levels \"ALOR GAJAH\",\"ALOR SETAR\",..: 129 68 4 107 63 100 132 153 2 90 ...\n",
      " $ VOTESBN  : int  15032 15306 16547 10061 12413 16975 16384 18390 14181 19400 ...\n",
      " $ VOTESPH  : int  13594 20909 11691 18954 18695 29984 7254 28959 32475 36624 ...\n",
      " $ VOTERS   : int  46096 55938 48187 42697 54132 73881 46644 86892 80272 97753 ...\n",
      " $ TURNOUT  : int  37432 45703 40433 35250 44822 61452 39932 71910 65096 80555 ...\n",
      " $ AREA     : int  450 141 222 469 316 634 1357 322 111 233 ...\n",
      " $ BUMI     : num  0.876 0.819 0.878 0.907 0.913 0.869 0.922 0.816 0.637 0.783 ...\n",
      " $ CHINESE  : num  0.085 0.152 0.077 0.065 0.069 0.085 0.013 0.155 0.317 0.203 ...\n",
      " $ INDIAN   : num  0.009 0.017 0.017 0.024 0.001 0.035 0.002 0.025 0.042 0.011 ...\n",
      " $ OTHER    : num  0.031 0.012 0.029 0.004 0.017 0.012 0.064 0.005 0.004 0.003 ...\n"
     ]
    }
   ],
   "source": [
    "ge18 <- read.csv(\"ge2018.csv\")\n",
    "str(ge18)"
   ]
  },
  {
   "cell_type": "markdown",
   "metadata": {},
   "source": [
    "Dataset includes 222 observations for all constituencies. Includes constituencies from peninsular Malaysia as well as from the East Malaysian states of Sabah and Sarawak."
   ]
  },
  {
   "cell_type": "code",
   "execution_count": null,
   "metadata": {},
   "outputs": [],
   "source": [
    "ge2018 <- read.csv(\"C:/Users/User/OneDrive/Documents/Yale-NUS/Quantitative Reasoning/Quantitative Reasoning Repository/Exercise 16 - Malaysian General Election/ge2018.csv\")"
   ]
  },
  {
   "cell_type": "markdown",
   "metadata": {},
   "source": [
    "## Challenge 1\n",
    "\n",
    "Let’s start by replicating the main analysis for 2013 using the 2018 data.\n",
    "\n",
    "### Step 5: Make a histogram of BN Vote Share\n",
    "- Notice that the dataset does not contain a variable pctBN\n",
    "- So create pctBN using VOTESBN and TURNOUT, and append"
   ]
  },
  {
   "cell_type": "code",
   "execution_count": 40,
   "metadata": {},
   "outputs": [
    {
     "data": {
      "text/html": [
       "<table>\n",
       "<thead><tr><th scope=col>ï..DISTNO</th><th scope=col>STATE</th><th scope=col>DISTNAME</th><th scope=col>VOTESBN</th><th scope=col>VOTESPH</th><th scope=col>VOTERS</th><th scope=col>TURNOUT</th><th scope=col>AREA</th><th scope=col>BUMI</th><th scope=col>CHINESE</th><th scope=col>INDIAN</th><th scope=col>OTHER</th><th scope=col>pctBN</th></tr></thead>\n",
       "<tbody>\n",
       "\t<tr><td>P001        </td><td>Perlis      </td><td>PADANG BESAR</td><td>15032       </td><td>13594       </td><td>46096       </td><td>37432       </td><td>450         </td><td>0.876       </td><td>0.085       </td><td>0.009       </td><td>0.031       </td><td>40.15815    </td></tr>\n",
       "\t<tr><td>P002        </td><td>Perlis      </td><td>KANGAR      </td><td>15306       </td><td>20909       </td><td>55938       </td><td>45703       </td><td>141         </td><td>0.819       </td><td>0.152       </td><td>0.017       </td><td>0.012       </td><td>33.49014    </td></tr>\n",
       "\t<tr><td>P003        </td><td>Perlis      </td><td>ARAU        </td><td>16547       </td><td>11691       </td><td>48187       </td><td>40433       </td><td>222         </td><td>0.878       </td><td>0.077       </td><td>0.017       </td><td>0.029       </td><td>40.92449    </td></tr>\n",
       "\t<tr><td>P004        </td><td>Kedah       </td><td>LANGKAWI    </td><td>10061       </td><td>18954       </td><td>42697       </td><td>35250       </td><td>469         </td><td>0.907       </td><td>0.065       </td><td>0.024       </td><td>0.004       </td><td>28.54184    </td></tr>\n",
       "\t<tr><td>P005        </td><td>Kedah       </td><td>JERLUN      </td><td>12413       </td><td>18695       </td><td>54132       </td><td>44822       </td><td>316         </td><td>0.913       </td><td>0.069       </td><td>0.001       </td><td>0.017       </td><td>27.69399    </td></tr>\n",
       "\t<tr><td>P006        </td><td>Kedah       </td><td>KUBANG PASU </td><td>16975       </td><td>29984       </td><td>73881       </td><td>61452       </td><td>634         </td><td>0.869       </td><td>0.085       </td><td>0.035       </td><td>0.012       </td><td>27.62319    </td></tr>\n",
       "</tbody>\n",
       "</table>\n"
      ],
      "text/latex": [
       "\\begin{tabular}{r|lllllllllllll}\n",
       " ï..DISTNO & STATE & DISTNAME & VOTESBN & VOTESPH & VOTERS & TURNOUT & AREA & BUMI & CHINESE & INDIAN & OTHER & pctBN\\\\\n",
       "\\hline\n",
       "\t P001         & Perlis       & PADANG BESAR & 15032        & 13594        & 46096        & 37432        & 450          & 0.876        & 0.085        & 0.009        & 0.031        & 40.15815    \\\\\n",
       "\t P002         & Perlis       & KANGAR       & 15306        & 20909        & 55938        & 45703        & 141          & 0.819        & 0.152        & 0.017        & 0.012        & 33.49014    \\\\\n",
       "\t P003         & Perlis       & ARAU         & 16547        & 11691        & 48187        & 40433        & 222          & 0.878        & 0.077        & 0.017        & 0.029        & 40.92449    \\\\\n",
       "\t P004         & Kedah        & LANGKAWI     & 10061        & 18954        & 42697        & 35250        & 469          & 0.907        & 0.065        & 0.024        & 0.004        & 28.54184    \\\\\n",
       "\t P005         & Kedah        & JERLUN       & 12413        & 18695        & 54132        & 44822        & 316          & 0.913        & 0.069        & 0.001        & 0.017        & 27.69399    \\\\\n",
       "\t P006         & Kedah        & KUBANG PASU  & 16975        & 29984        & 73881        & 61452        & 634          & 0.869        & 0.085        & 0.035        & 0.012        & 27.62319    \\\\\n",
       "\\end{tabular}\n"
      ],
      "text/markdown": [
       "\n",
       "| ï..DISTNO | STATE | DISTNAME | VOTESBN | VOTESPH | VOTERS | TURNOUT | AREA | BUMI | CHINESE | INDIAN | OTHER | pctBN |\n",
       "|---|---|---|---|---|---|---|---|---|---|---|---|---|\n",
       "| P001         | Perlis       | PADANG BESAR | 15032        | 13594        | 46096        | 37432        | 450          | 0.876        | 0.085        | 0.009        | 0.031        | 40.15815     |\n",
       "| P002         | Perlis       | KANGAR       | 15306        | 20909        | 55938        | 45703        | 141          | 0.819        | 0.152        | 0.017        | 0.012        | 33.49014     |\n",
       "| P003         | Perlis       | ARAU         | 16547        | 11691        | 48187        | 40433        | 222          | 0.878        | 0.077        | 0.017        | 0.029        | 40.92449     |\n",
       "| P004         | Kedah        | LANGKAWI     | 10061        | 18954        | 42697        | 35250        | 469          | 0.907        | 0.065        | 0.024        | 0.004        | 28.54184     |\n",
       "| P005         | Kedah        | JERLUN       | 12413        | 18695        | 54132        | 44822        | 316          | 0.913        | 0.069        | 0.001        | 0.017        | 27.69399     |\n",
       "| P006         | Kedah        | KUBANG PASU  | 16975        | 29984        | 73881        | 61452        | 634          | 0.869        | 0.085        | 0.035        | 0.012        | 27.62319     |\n",
       "\n"
      ],
      "text/plain": [
       "  ï..DISTNO STATE  DISTNAME     VOTESBN VOTESPH VOTERS TURNOUT AREA BUMI \n",
       "1 P001      Perlis PADANG BESAR 15032   13594   46096  37432   450  0.876\n",
       "2 P002      Perlis KANGAR       15306   20909   55938  45703   141  0.819\n",
       "3 P003      Perlis ARAU         16547   11691   48187  40433   222  0.878\n",
       "4 P004      Kedah  LANGKAWI     10061   18954   42697  35250   469  0.907\n",
       "5 P005      Kedah  JERLUN       12413   18695   54132  44822   316  0.913\n",
       "6 P006      Kedah  KUBANG PASU  16975   29984   73881  61452   634  0.869\n",
       "  CHINESE INDIAN OTHER pctBN   \n",
       "1 0.085   0.009  0.031 40.15815\n",
       "2 0.152   0.017  0.012 33.49014\n",
       "3 0.077   0.017  0.029 40.92449\n",
       "4 0.065   0.024  0.004 28.54184\n",
       "5 0.069   0.001  0.017 27.69399\n",
       "6 0.085   0.035  0.012 27.62319"
      ]
     },
     "metadata": {},
     "output_type": "display_data"
    },
    {
     "data": {
      "image/png": "[encoded data removed]",
      "text/plain": [
       "Plot with title \"Histogram of BN Vote Share\""
      ]
     },
     "metadata": {},
     "output_type": "display_data"
    }
   ],
   "source": [
    "head(ge18)\n",
    "\n",
    "# FIND THE PERCENTAGE OF THE VOTES\n",
    "\n",
    "ge18$pctBN <- 100 * (ge18$VOTESBN/ge18$TURNOUT)\n",
    "\n",
    "# PLOT THE HISTOGRAM\n",
    "\n",
    "hist(ge18$pctBN, \n",
    "     freq=FALSE, \n",
    "     col=\"lightblue\", \n",
    "     breaks=seq(0, 100, 10),\n",
    "     main = \"Histogram of BN Vote Share\",\n",
    "     xlab = \"BN Vote Share (%)\")"
   ]
  },
  {
   "cell_type": "markdown",
   "metadata": {},
   "source": [
    "### Step 6: Make a scatter plot of BN Vote Share by the proportion of voters classified as Bumiputera\n",
    "- Assess which conditions appear to be met for a linear model"
   ]
  },
  {
   "cell_type": "code",
   "execution_count": 41,
   "metadata": {},
   "outputs": [
    {
     "data": {
      "image/png": "[encoded data removed]",
      "text/plain": [
       "Plot with title \"BN Vote Share by Proportion Bumiputera Voters\""
      ]
     },
     "metadata": {},
     "output_type": "display_data"
    }
   ],
   "source": [
    "plot(pctBN ~ BUMI, \n",
    "     data=ge18, \n",
    "     col=\"blue\", \n",
    "     pch=19,\n",
    "     xlab=\"Bumiputera Voters (%)\", \n",
    "     ylab=\"BN Vote Share (%)\",\n",
    "     main=\"BN Vote Share by Proportion Bumiputera Voters\")"
   ]
  },
  {
   "cell_type": "markdown",
   "metadata": {},
   "source": [
    "### Step 7: Estimate linear models for BN Vote Share and all ethnicities\n",
    "- Which model has the highest predictive power?\n",
    "- Is it the same as in the 2013 general election?"
   ]
  },
  {
   "cell_type": "code",
   "execution_count": 43,
   "metadata": {},
   "outputs": [
    {
     "data": {
      "text/html": [
       "<dl class=dl-horizontal>\n",
       "\t<dt>(Intercept)</dt>\n",
       "\t\t<dd>48.4817813064566</dd>\n",
       "\t<dt>CHINESE</dt>\n",
       "\t\t<dd>-43.2666845999285</dd>\n",
       "</dl>\n"
      ],
      "text/latex": [
       "\\begin{description*}\n",
       "\\item[(Intercept)] 48.4817813064566\n",
       "\\item[CHINESE] -43.2666845999285\n",
       "\\end{description*}\n"
      ],
      "text/markdown": [
       "(Intercept)\n",
       ":   48.4817813064566CHINESE\n",
       ":   -43.2666845999285\n",
       "\n"
      ],
      "text/plain": [
       "(Intercept)     CHINESE \n",
       "   48.48178   -43.26668 "
      ]
     },
     "metadata": {},
     "output_type": "display_data"
    },
    {
     "data": {
      "text/html": [
       "<dl class=dl-horizontal>\n",
       "\t<dt>(Intercept)</dt>\n",
       "\t\t<dd>60.8739595829916</dd>\n",
       "\t<dt>chinese</dt>\n",
       "\t\t<dd>-0.412502999561151</dd>\n",
       "</dl>\n"
      ],
      "text/latex": [
       "\\begin{description*}\n",
       "\\item[(Intercept)] 60.8739595829916\n",
       "\\item[chinese] -0.412502999561151\n",
       "\\end{description*}\n"
      ],
      "text/markdown": [
       "(Intercept)\n",
       ":   60.8739595829916chinese\n",
       ":   -0.412502999561151\n",
       "\n"
      ],
      "text/plain": [
       "(Intercept)     chinese \n",
       "  60.873960   -0.412503 "
      ]
     },
     "metadata": {},
     "output_type": "display_data"
    }
   ],
   "source": [
    "# CREATE LINEAR MODELS \n",
    "\n",
    "lm18.BN.BUMI    <- lm(pctBN ~ BUMI,    data=ge18)\n",
    "lm18.BN.CHINESE <- lm(pctBN ~ CHINESE, data=ge18)\n",
    "lm18.BN.INDIAN  <- lm(pctBN ~ INDIAN,  data=ge18)\n",
    "lm18.BN.OTHER   <- lm(pctBN ~ OTHER,   data=ge18)\n",
    "\n",
    "# FIND THE COEFFICIENTS\n",
    "\n",
    "coef(lm18.BN.CHINESE)\n",
    "coef(lm13.BN.CHINESE)"
   ]
  },
  {
   "cell_type": "code",
   "execution_count": 45,
   "metadata": {},
   "outputs": [
    {
     "data": {
      "text/html": [
       "0.441169931170613"
      ],
      "text/latex": [
       "0.441169931170613"
      ],
      "text/markdown": [
       "0.441169931170613"
      ],
      "text/plain": [
       "[1] 0.4411699"
      ]
     },
     "metadata": {},
     "output_type": "display_data"
    },
    {
     "data": {
      "text/html": [
       "0.376882056387738"
      ],
      "text/latex": [
       "0.376882056387738"
      ],
      "text/markdown": [
       "0.376882056387738"
      ],
      "text/plain": [
       "[1] 0.3768821"
      ]
     },
     "metadata": {},
     "output_type": "display_data"
    },
    {
     "data": {
      "text/html": [
       "0.214378877272195"
      ],
      "text/latex": [
       "0.214378877272195"
      ],
      "text/markdown": [
       "0.214378877272195"
      ],
      "text/plain": [
       "[1] 0.2143789"
      ]
     },
     "metadata": {},
     "output_type": "display_data"
    },
    {
     "data": {
      "text/html": [
       "0.00924359949672483"
      ],
      "text/latex": [
       "0.00924359949672483"
      ],
      "text/markdown": [
       "0.00924359949672483"
      ],
      "text/plain": [
       "[1] 0.009243599"
      ]
     },
     "metadata": {},
     "output_type": "display_data"
    }
   ],
   "source": [
    "# CHECK WHICH MODEL HAS THE HIGHEST PREDICTIVE POWER (THE HIGHER THE BETTER)\n",
    "\n",
    "summary(lm18.BN.BUMI)$r.squared\n",
    "summary(lm18.BN.CHINESE)$r.squared\n",
    "summary(lm18.BN.INDIAN)$r.squared\n",
    "summary(lm18.BN.OTHER)$r.squared\n",
    "\n",
    "# SINCE BUMI HAS THE HIGHEST VALUE, THUS IT HAS THE HIGHEST PREDICTIVE POWER"
   ]
  },
  {
   "cell_type": "markdown",
   "metadata": {},
   "source": [
    "## Challenge 2\n",
    "\n",
    "What about the relationship between the opposition Pakatan Harapan (PH) coalition’s vote share and ethnicity in 2018?\n",
    "\n",
    "Once done, compare the results you obtained against those for the Barisan Nasional (BN), and take a moment to think about what they tell you regarding voting and ethnicity in the 2018 General Election\n",
    "\n",
    "### Step 8: Make a histogram of PH Vote Share\n",
    "- Create pctPH using VOTESPH and TURNOUT, then append\n",
    "- Also, combine with a histogram of BN vote share to compare variation"
   ]
  },
  {
   "cell_type": "code",
   "execution_count": 48,
   "metadata": {},
   "outputs": [
    {
     "data": {
      "image/png": "[encoded data removed]",
      "text/plain": [
       "Plot with title \"Histogram of PH Vote Shares\""
      ]
     },
     "metadata": {},
     "output_type": "display_data"
    }
   ],
   "source": [
    "# CREATE A NEW ROW FOR THE PERCENTAGE OF PH VOTE SHARE (AS DID FOR BN EARLIER)\n",
    "\n",
    "ge18$pctPH <- 100 * (ge18$VOTESPH / ge18$TURNOUT) \n",
    "\n",
    "par(mfrow=c(1,2))\n",
    "\n",
    "hist(ge18$pctBN, \n",
    "     freq=FALSE, \n",
    "     col=\"lightblue\", \n",
    "     breaks=seq(0, 100, 10),\n",
    "  main = \"Histogram of BN Vote Shares\",\n",
    "  xlab = \"BN Vote Share (%)\",\n",
    "  xlim = c(0,100), ylim = c(0,0.03))\n",
    "\n",
    "hist(ge18$pctPH, \n",
    "     freq=FALSE, \n",
    "     col=\"pink\", \n",
    "     breaks=seq(0, 100, 10),\n",
    "  main = \"Histogram of PH Vote Shares\",\n",
    "  xlab = \"PH Vote Share (%)\",\n",
    "  xlim = c(0,100), ylim = c(0,0.03))"
   ]
  },
  {
   "cell_type": "markdown",
   "metadata": {},
   "source": [
    "### Step 9: Make a scatter plot of PH Vote Share by the proportion of voters classified as Bumiputera\n",
    "- Assess which conditions appear to be met for a linear model"
   ]
  },
  {
   "cell_type": "code",
   "execution_count": 49,
   "metadata": {},
   "outputs": [
    {
     "data": {
      "image/png": "[encoded data removed]",
      "text/plain": [
       "Plot with title \"PH Vote Share by Bumiputera Voters\""
      ]
     },
     "metadata": {},
     "output_type": "display_data"
    }
   ],
   "source": [
    "plot(pctPH ~ BUMI, \n",
    "     data=ge18, \n",
    "     col=\"red\", \n",
    "     pch=19,\n",
    "     xlab=\"Bumiputera Voters (%)\", \n",
    "     ylab=\"PH Vote Share (%)\",\n",
    "     main=\"PH Vote Share by Bumiputera Voters\")"
   ]
  },
  {
   "cell_type": "markdown",
   "metadata": {},
   "source": [
    "### Step 10: Estimate linear models for PH Vote Share and all ethnicities\n",
    "- Which model has the highest predictive power?"
   ]
  },
  {
   "cell_type": "code",
   "execution_count": 50,
   "metadata": {},
   "outputs": [
    {
     "data": {
      "text/html": [
       "0.729372089283814"
      ],
      "text/latex": [
       "0.729372089283814"
      ],
      "text/markdown": [
       "0.729372089283814"
      ],
      "text/plain": [
       "[1] 0.7293721"
      ]
     },
     "metadata": {},
     "output_type": "display_data"
    },
    {
     "data": {
      "text/html": [
       "0.698472469652606"
      ],
      "text/latex": [
       "0.698472469652606"
      ],
      "text/markdown": [
       "0.698472469652606"
      ],
      "text/plain": [
       "[1] 0.6984725"
      ]
     },
     "metadata": {},
     "output_type": "display_data"
    },
    {
     "data": {
      "text/html": [
       "0.368228581205825"
      ],
      "text/latex": [
       "0.368228581205825"
      ],
      "text/markdown": [
       "0.368228581205825"
      ],
      "text/plain": [
       "[1] 0.3682286"
      ]
     },
     "metadata": {},
     "output_type": "display_data"
    },
    {
     "data": {
      "text/html": [
       "0.00936941139469685"
      ],
      "text/latex": [
       "0.00936941139469685"
      ],
      "text/markdown": [
       "0.00936941139469685"
      ],
      "text/plain": [
       "[1] 0.009369411"
      ]
     },
     "metadata": {},
     "output_type": "display_data"
    }
   ],
   "source": [
    "# CREATE LINEAR MODELS FOR PH VOTE SHARE\n",
    "\n",
    "lm18.PH.BUMI    <-lm(pctPH ~ BUMI,    data=ge18)\n",
    "lm18.PH.CHINESE <-lm(pctPH ~ CHINESE, data=ge18)\n",
    "lm18.PH.INDIAN  <-lm(pctPH ~ INDIAN,  data=ge18)\n",
    "lm18.PH.OTHER   <-lm(pctPH ~ OTHER,   data=ge18)\n",
    "\n",
    "# FIND THE R SQUARED VALUES TO FIND THE BEST PREDICTIVE POWER MODEL\n",
    "summary(lm18.PH.BUMI)$r.squared\n",
    "summary(lm18.PH.CHINESE)$r.squared\n",
    "summary(lm18.PH.INDIAN)$r.squared\n",
    "summary(lm18.PH.OTHER)$r.squared"
   ]
  },
  {
   "cell_type": "markdown",
   "metadata": {},
   "source": [
    "## Challenge 3\n",
    "At this point it should be clear that there is a strong relationship between voting and ethnicity. But the following plot includes an interesting outlier (highlighted in red), with 77% voting for Pakatan Harapan in a district with 98% Bumiputera.\n",
    "\n",
    "Investigate the outlier. Can you come up with an explanation why it is so different from most other constituencies?"
   ]
  },
  {
   "cell_type": "code",
   "execution_count": 51,
   "metadata": {},
   "outputs": [
    {
     "data": {
      "text/html": [
       "<table>\n",
       "<thead><tr><th></th><th scope=col>ï..DISTNO</th><th scope=col>STATE</th><th scope=col>DISTNAME</th><th scope=col>VOTESBN</th><th scope=col>VOTESPH</th><th scope=col>VOTERS</th><th scope=col>TURNOUT</th><th scope=col>AREA</th><th scope=col>BUMI</th><th scope=col>CHINESE</th><th scope=col>INDIAN</th><th scope=col>OTHER</th><th scope=col>pctBN</th><th scope=col>pctPH</th></tr></thead>\n",
       "<tbody>\n",
       "\t<tr><th scope=row>189</th><td>P189    </td><td>Sabah   </td><td>SEMPORNA</td><td>6135    </td><td>26809   </td><td>48248   </td><td>34613   </td><td>1177    </td><td>0.981   </td><td>0.016   </td><td>NA      </td><td>0.003   </td><td>17.72455</td><td>77.45356</td></tr>\n",
       "</tbody>\n",
       "</table>\n"
      ],
      "text/latex": [
       "\\begin{tabular}{r|llllllllllllll}\n",
       "  & ï..DISTNO & STATE & DISTNAME & VOTESBN & VOTESPH & VOTERS & TURNOUT & AREA & BUMI & CHINESE & INDIAN & OTHER & pctBN & pctPH\\\\\n",
       "\\hline\n",
       "\t189 & P189     & Sabah    & SEMPORNA & 6135     & 26809    & 48248    & 34613    & 1177     & 0.981    & 0.016    & NA       & 0.003    & 17.72455 & 77.45356\\\\\n",
       "\\end{tabular}\n"
      ],
      "text/markdown": [
       "\n",
       "| <!--/--> | ï..DISTNO | STATE | DISTNAME | VOTESBN | VOTESPH | VOTERS | TURNOUT | AREA | BUMI | CHINESE | INDIAN | OTHER | pctBN | pctPH |\n",
       "|---|---|---|---|---|---|---|---|---|---|---|---|---|---|---|\n",
       "| 189 | P189     | Sabah    | SEMPORNA | 6135     | 26809    | 48248    | 34613    | 1177     | 0.981    | 0.016    | NA       | 0.003    | 17.72455 | 77.45356 |\n",
       "\n"
      ],
      "text/plain": [
       "    ï..DISTNO STATE DISTNAME VOTESBN VOTESPH VOTERS TURNOUT AREA BUMI  CHINESE\n",
       "189 P189      Sabah SEMPORNA 6135    26809   48248  34613   1177 0.981 0.016  \n",
       "    INDIAN OTHER pctBN    pctPH   \n",
       "189 NA     0.003 17.72455 77.45356"
      ]
     },
     "metadata": {},
     "output_type": "display_data"
    }
   ],
   "source": [
    "ge18[which(ge18$pctPH > 70 & ge18$BUMI > 0.9),]"
   ]
  },
  {
   "cell_type": "markdown",
   "metadata": {},
   "source": [
    "Interesting. The constituency is named SEMPORNA and is located in Sabah in East Malaysia.\n",
    "\n",
    "For those who are familiar with Sabah, can you think of anything special about Sabah or what happened in the state during the 2018 election that could help us to explain why voters behaved differently than the model would predict?"
   ]
  },
  {
   "cell_type": "markdown",
   "metadata": {},
   "source": [
    "### Analysis\n",
    "\n",
    "First and foremost, ethnic identity is different and more complicated in Sabah.\n",
    "\n",
    "- Much of Sabah’s population is legally classified as Bumiputera"
   ]
  },
  {
   "cell_type": "markdown",
   "metadata": {},
   "source": [
    "- But this is not the same thing as saying that people in Sabah fit into the MCIO model of race/ethnicity that shapes identity and you have talked about in CC courses like CSI.\n",
    "    - Sabah only became part of Malaysia along with Sarawak (and Singapore) in 1963.\n",
    "    - Prior to this, British colonialists did not use MCIO to divide and rule in Sabah as they had in Singapore and Malaya."
   ]
  },
  {
   "cell_type": "markdown",
   "metadata": {},
   "source": [
    "- The Bumiputera population of Sabah is quite diverse in terms of religion, language, and traditions:\n",
    "    - Not everyone who is Bumiputera in Sabah speaks the Malay language, or is Muslim.\n",
    "    - Over 42 distinct ethno-linguistic groups and 200 sub-groups."
   ]
  },
  {
   "cell_type": "markdown",
   "metadata": {},
   "source": [
    "Second and as a result, the relationship between ethnic identity and politics is more complicated and less straight-forward in Sabah than it is in peninsular Malaysia.\n",
    "\n",
    "Other forms of localised identity also matter for national politics:\n",
    "\n",
    "- One’s identity as a Sabahan — one who was born in or identifies with Sabah — is arguably more important that ethnic identity in many contexts.\n",
    "- Whether Bumiputera, Chinese, or Indian, you can be a Sabahan.\n",
    "- If you identify as a Sabahan, then it might also affect your politics and how you vote…"
   ]
  },
  {
   "cell_type": "markdown",
   "metadata": {},
   "source": [
    "To this end, the 2018 General Election also saw the emergence of a new, multi-ethnic party in Sabah: The Sabah Heritage Party (Parti Warisan Sabah or Warisan).\n",
    "\n",
    "- Warisan positioned itself as in favor of greater autonomy for Sabah.\n",
    "- It also allied itself with the opposition Pakatan Harapan (PH) coalition.\n",
    "- It proved to be quite popular across the state…"
   ]
  },
  {
   "cell_type": "markdown",
   "metadata": {},
   "source": [
    "Let us check whether this “Sabah effect” also applies to other constituencies in Sabah.\n",
    "\n",
    "### Step : Recreate the scatter plot of PH vote share versus Bumiputera voters with different colors for the districts outside and inside Sabah."
   ]
  },
  {
   "cell_type": "code",
   "execution_count": 58,
   "metadata": {},
   "outputs": [
    {
     "data": {
      "image/png": "[encoded data removed]",
      "text/plain": [
       "Plot with title \"PH Vote Share by Bumiputera Voters\""
      ]
     },
     "metadata": {},
     "output_type": "display_data"
    }
   ],
   "source": [
    "# PLOT ALL THE STATES VOTE SHARE BY BUMIPUTERA VOTERS\n",
    "\n",
    "plot(pctPH ~ BUMI, \n",
    "     data = ge18[ge18$STATE != \"Sabah\",], \n",
    "     col=\"pink\", \n",
    "     pch=19,\n",
    "     xlab=\"Bumiputera Voters (%)\", \n",
    "     ylab=\"PH Vote Share (%)\",\n",
    "     main=\"PH Vote Share by Bumiputera Voters\")\n",
    "\n",
    "# PLOT FOR SOLELY DISTRICTS IN SABAH\n",
    "\n",
    "points(pctPH ~ BUMI, \n",
    "       data = ge18[ge18$STATE == \"Sabah\",], \n",
    "       col = \"red\", \n",
    "       pch=19,\n",
    "     xlab=\"Bumiputera Voters (%)\", \n",
    "       ylab=\"PH Vote Share (%)\",\n",
    "     main=\"PH Vote Share by Bumiputera Voters\")\n",
    "\n",
    "# CREATE A LINEAR MODEL OF BUMIPUTERA VOTES NOT ACCOUNTING FOR SABAH AND ADD LINES WITH BOTH DEFAULT AND MODIFIED MODEL\n",
    "\n",
    "lm18.PH.BUMI_noSBH <-lm(pctPH ~ BUMI, data = ge18[ge18$STATE != \"Sabah\",])\n",
    "abline(lm18.PH.BUMI, col=\"red\")       \n",
    "abline(lm18.PH.BUMI_noSBH, col=\"blue\")"
   ]
  },
  {
   "cell_type": "markdown",
   "metadata": {},
   "source": [
    "Comparing the two lines shows that excluding Sabah does not influence the line of best fit by that much. Sabah constituencies are still different, but not influential with regards to the slope between PH vote share and Bumiputera voters."
   ]
  }
 ],
 "metadata": {
  "kernelspec": {
   "display_name": "R",
   "language": "R",
   "name": "ir"
  },
  "language_info": {
   "codemirror_mode": "r",
   "file_extension": ".r",
   "mimetype": "text/x-r-source",
   "name": "R",
   "pygments_lexer": "r",
   "version": "3.6.1"
  }
 },
 "nbformat": 4,
 "nbformat_minor": 4
}
