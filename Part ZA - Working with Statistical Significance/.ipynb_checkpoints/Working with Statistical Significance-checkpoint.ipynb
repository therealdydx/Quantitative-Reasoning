{
 "cells": [
  {
   "cell_type": "markdown",
   "metadata": {},
   "source": [
    "# Exercise 27 – Working with Statistical Significance\n",
    "\n",
    "Notebook Written By: WDY (Yale-NUS '24) \n",
    "(Come say hi at https://www.linkedin.com/in/dys-profile/)\n",
    "\n",
    "### Introduction\n",
    "\n",
    "We will be using the athletes dataset previously used earlier in the course. Upload the dataset and experiment with it. "
   ]
  },
  {
   "cell_type": "code",
   "execution_count": 1,
   "metadata": {},
   "outputs": [],
   "source": [
    "hept <- read.csv(\"C:/Users/Admin/OneDrive/Documents/Yale-NUS/Quantitative Reasoning/Quantitative Reasoning Repo/Part 27 - Working with Statistical Significance/hept.csv\")"
   ]
  },
  {
   "cell_type": "code",
   "execution_count": 2,
   "metadata": {},
   "outputs": [
    {
     "data": {
      "text/html": [
       "<table>\n",
       "<thead><tr><th scope=col>rank</th><th scope=col>athlete</th><th scope=col>country</th><th scope=col>hurdles</th><th scope=col>hj</th><th scope=col>sp</th><th scope=col>run200</th><th scope=col>lj</th><th scope=col>jt</th><th scope=col>run800</th></tr></thead>\n",
       "<tbody>\n",
       "\t<tr><td>1                        </td><td>Nafissatou Thiam         </td><td>BEL                      </td><td>13.56                    </td><td>1.98                     </td><td>14.91                    </td><td>25.10                    </td><td>6.58                     </td><td>53.13                    </td><td>136.54                   </td></tr>\n",
       "\t<tr><td>2                        </td><td>Jessica Ennis-Hill       </td><td>GBR                      </td><td>12.84                    </td><td>1.89                     </td><td>13.86                    </td><td>23.49                    </td><td>6.34                     </td><td>46.06                    </td><td>129.07                   </td></tr>\n",
       "\t<tr><td>3                        </td><td>Brianne Theisen Eaton    </td><td>CAN                      </td><td>13.18                    </td><td>1.86                     </td><td>13.45                    </td><td>24.18                    </td><td>6.48                     </td><td>47.36                    </td><td>129.50                   </td></tr>\n",
       "\t<tr><td>4                        </td><td>Laura Ikauniece-Admidina </td><td>LAT                      </td><td>13.33                    </td><td>1.77                     </td><td>13.52                    </td><td>23.76                    </td><td>6.12                     </td><td>55.93                    </td><td>129.43                   </td></tr>\n",
       "\t<tr><td>5                        </td><td>Carolin Schafer          </td><td>GER                      </td><td>13.12                    </td><td>1.83                     </td><td>14.57                    </td><td>23.99                    </td><td>6.20                     </td><td>47.99                    </td><td>136.52                   </td></tr>\n",
       "\t<tr><td>6                        </td><td>Katarina Johnson-Thompson</td><td>GBR                      </td><td>13.48                    </td><td>1.98                     </td><td>11.68                    </td><td>23.26                    </td><td>6.51                     </td><td>36.36                    </td><td>130.47                   </td></tr>\n",
       "</tbody>\n",
       "</table>\n"
      ],
      "text/latex": [
       "\\begin{tabular}{r|llllllllll}\n",
       " rank & athlete & country & hurdles & hj & sp & run200 & lj & jt & run800\\\\\n",
       "\\hline\n",
       "\t 1                         & Nafissatou Thiam          & BEL                       & 13.56                     & 1.98                      & 14.91                     & 25.10                     & 6.58                      & 53.13                     & 136.54                   \\\\\n",
       "\t 2                         & Jessica Ennis-Hill        & GBR                       & 12.84                     & 1.89                      & 13.86                     & 23.49                     & 6.34                      & 46.06                     & 129.07                   \\\\\n",
       "\t 3                         & Brianne Theisen Eaton     & CAN                       & 13.18                     & 1.86                      & 13.45                     & 24.18                     & 6.48                      & 47.36                     & 129.50                   \\\\\n",
       "\t 4                         & Laura Ikauniece-Admidina  & LAT                       & 13.33                     & 1.77                      & 13.52                     & 23.76                     & 6.12                      & 55.93                     & 129.43                   \\\\\n",
       "\t 5                         & Carolin Schafer           & GER                       & 13.12                     & 1.83                      & 14.57                     & 23.99                     & 6.20                      & 47.99                     & 136.52                   \\\\\n",
       "\t 6                         & Katarina Johnson-Thompson & GBR                       & 13.48                     & 1.98                      & 11.68                     & 23.26                     & 6.51                      & 36.36                     & 130.47                   \\\\\n",
       "\\end{tabular}\n"
      ],
      "text/markdown": [
       "\n",
       "| rank | athlete | country | hurdles | hj | sp | run200 | lj | jt | run800 |\n",
       "|---|---|---|---|---|---|---|---|---|---|\n",
       "| 1                         | Nafissatou Thiam          | BEL                       | 13.56                     | 1.98                      | 14.91                     | 25.10                     | 6.58                      | 53.13                     | 136.54                    |\n",
       "| 2                         | Jessica Ennis-Hill        | GBR                       | 12.84                     | 1.89                      | 13.86                     | 23.49                     | 6.34                      | 46.06                     | 129.07                    |\n",
       "| 3                         | Brianne Theisen Eaton     | CAN                       | 13.18                     | 1.86                      | 13.45                     | 24.18                     | 6.48                      | 47.36                     | 129.50                    |\n",
       "| 4                         | Laura Ikauniece-Admidina  | LAT                       | 13.33                     | 1.77                      | 13.52                     | 23.76                     | 6.12                      | 55.93                     | 129.43                    |\n",
       "| 5                         | Carolin Schafer           | GER                       | 13.12                     | 1.83                      | 14.57                     | 23.99                     | 6.20                      | 47.99                     | 136.52                    |\n",
       "| 6                         | Katarina Johnson-Thompson | GBR                       | 13.48                     | 1.98                      | 11.68                     | 23.26                     | 6.51                      | 36.36                     | 130.47                    |\n",
       "\n"
      ],
      "text/plain": [
       "  rank athlete                   country hurdles hj   sp    run200 lj   jt   \n",
       "1 1    Nafissatou Thiam          BEL     13.56   1.98 14.91 25.10  6.58 53.13\n",
       "2 2    Jessica Ennis-Hill        GBR     12.84   1.89 13.86 23.49  6.34 46.06\n",
       "3 3    Brianne Theisen Eaton     CAN     13.18   1.86 13.45 24.18  6.48 47.36\n",
       "4 4    Laura Ikauniece-Admidina  LAT     13.33   1.77 13.52 23.76  6.12 55.93\n",
       "5 5    Carolin Schafer           GER     13.12   1.83 14.57 23.99  6.20 47.99\n",
       "6 6    Katarina Johnson-Thompson GBR     13.48   1.98 11.68 23.26  6.51 36.36\n",
       "  run800\n",
       "1 136.54\n",
       "2 129.07\n",
       "3 129.50\n",
       "4 129.43\n",
       "5 136.52\n",
       "6 130.47"
      ]
     },
     "metadata": {},
     "output_type": "display_data"
    }
   ],
   "source": [
    "head(hept)"
   ]
  },
  {
   "cell_type": "markdown",
   "metadata": {},
   "source": [
    "The columns give details on the athletes and their times / distances in each event. The columns are given in the order the events took place.\n",
    "\n",
    "One might hypothesize that the same athletes would be better at events run200 and run800."
   ]
  },
  {
   "cell_type": "markdown",
   "metadata": {},
   "source": [
    "### Step 1: Investigate how well run200 predicts run800 with a linear model.\n",
    "\n",
    "- Study the correlation and give a linear model for how these variables relate.\n",
    "- Represent your results appropriately.\n",
    "- Record the slope of the linear model as the variable slope and describe in words what this value means."
   ]
  },
  {
   "cell_type": "code",
   "execution_count": 6,
   "metadata": {},
   "outputs": [
    {
     "data": {
      "text/html": [
       "0.334114554585955"
      ],
      "text/latex": [
       "0.334114554585955"
      ],
      "text/markdown": [
       "0.334114554585955"
      ],
      "text/plain": [
       "[1] 0.3341146"
      ]
     },
     "metadata": {},
     "output_type": "display_data"
    }
   ],
   "source": [
    "# FIND THE CORRELATION BETWEEN RUN200 AND RUN800 EVENTS\n",
    "cor(hept$run200, hept$run800, use = \"complete.obs\")"
   ]
  },
  {
   "cell_type": "code",
   "execution_count": 7,
   "metadata": {},
   "outputs": [
    {
     "data": {
      "image/png": "[encoded data removed]",
      "text/plain": [
       "plot without title"
      ]
     },
     "metadata": {},
     "output_type": "display_data"
    }
   ],
   "source": [
    "# CREATE A LINEAR MODEL FOR THE LINEAR CORRELATION BETWEEN RUN800 AND RUN200 COLUMNS\n",
    "lmrun800run200 <- lm(run800 ~ run200, data = hept)\n",
    "\n",
    "# PLOT THE VALUES OF RUN800 AND RUN200\n",
    "plot(run800 ~ run200,\n",
    "    data = hept)\n",
    "\n",
    "# PLOT A STRAIGHT LINE OF THE LINEAR CORRELATION\n",
    "abline(lmrun800run200,\n",
    "      col = \"red\")"
   ]
  },
  {
   "cell_type": "code",
   "execution_count": 16,
   "metadata": {},
   "outputs": [
    {
     "data": {
      "text/html": [
       "<dl class=dl-horizontal>\n",
       "\t<dt>(Intercept)</dt>\n",
       "\t\t<dd>47.7304671791875</dd>\n",
       "\t<dt>run200</dt>\n",
       "\t\t<dd>3.58721334122235</dd>\n",
       "</dl>\n"
      ],
      "text/latex": [
       "\\begin{description*}\n",
       "\\item[(Intercept)] 47.7304671791875\n",
       "\\item[run200] 3.58721334122235\n",
       "\\end{description*}\n"
      ],
      "text/markdown": [
       "(Intercept)\n",
       ":   47.7304671791875run200\n",
       ":   3.58721334122235\n",
       "\n"
      ],
      "text/plain": [
       "(Intercept)      run200 \n",
       "  47.730467    3.587213 "
      ]
     },
     "metadata": {},
     "output_type": "display_data"
    }
   ],
   "source": [
    "slope <- lmrun800run200$coefficients\n",
    "slope\n",
    "\n",
    "slope <- slope[2]"
   ]
  },
  {
   "cell_type": "markdown",
   "metadata": {},
   "source": [
    "For every extra second an athlete takes to complete the 200m run, the linear model predicts that athlete will take an extra 3.6 seconds to complete the 800m run."
   ]
  },
  {
   "cell_type": "markdown",
   "metadata": {},
   "source": [
    "As we predicted, the athletes who take longer to complete the 200m run also tend to take longer to complete the 800m run."
   ]
  },
  {
   "cell_type": "markdown",
   "metadata": {},
   "source": [
    "- That is not such a surprising number; 800m=4×200m and 3.6≈4. \n",
    "- Note that slope would be 0 if there was no correlation.\n",
    "- But does the slope of 3.6 really show that the same athletes are better at the two running events, or could it be just random chance? We are asking whether the slope is statistically significant.\n",
    "- As the response variable is a single number, the slope in the linear model, there is no need for a complicated chi-square statistic."
   ]
  },
  {
   "cell_type": "markdown",
   "metadata": {},
   "source": [
    "### Step 2: Is the slope statistically significant?\n",
    "\n",
    "- Use a permutation test to answer this question\n",
    "- Permute the athletes' 800m times, compute a linear model of those 800m times against the 200m times, and store its slope as a response. Repeat for 10000 trials."
   ]
  },
  {
   "cell_type": "code",
   "execution_count": 17,
   "metadata": {},
   "outputs": [],
   "source": [
    "# CREATE NUMBER OF TRIALS\n",
    "trials <- 10000\n",
    "\n",
    "# INITIALIZE ARRAY TO STORE RESULTS\n",
    "responses <- numeric(trials)\n",
    "\n",
    "# CREATE FOR LOOP TO APPEND VALUES INTO ARRAY\n",
    "for (i in 1:trials) {\n",
    "    \n",
    "    responses[i] <- lm(sample(run800) ~ run200,\n",
    "                      data = hept)$coefficients[2]\n",
    "}"
   ]
  },
  {
   "cell_type": "markdown",
   "metadata": {},
   "source": [
    "### Step 3: Plot a distribution of the responses"
   ]
  },
  {
   "cell_type": "code",
   "execution_count": 19,
   "metadata": {},
   "outputs": [
    {
     "data": {
      "image/png": "[encoded data removed]",
      "text/plain": [
       "Plot with title \"Histogram of responses\""
      ]
     },
     "metadata": {},
     "output_type": "display_data"
    }
   ],
   "source": [
    "hist(responses,\n",
    "    xlab = \"Slope of 800 vs 200m\",\n",
    "    col = \"lightblue\")\n",
    "\n",
    "# FIND THE RANGE OF 95% AND THE TWO EXTREME TAILS\n",
    "abline(v = quantile(responses, c(0.025, 0.975)), \n",
    "      col = \"orange\", \n",
    "      lwd = 2)\n",
    "\n",
    "# FIND THE VALUE OF THE SLOPE\n",
    "abline(v = slope, \n",
    "      col = \"blue\", \n",
    "      lwd = 2)\n",
    "\n",
    "# CREATE A LEGEND FOR THE HISTOGRAM\n",
    "legend(\"topleft\",\n",
    "      legend = c(\"Range of 95% of slopes\", \"Actual slope\"),\n",
    "      col = c(\"orange\", \"blue\"),\n",
    "      lwd = 2,\n",
    "      lty = 1)"
   ]
  },
  {
   "cell_type": "markdown",
   "metadata": {},
   "source": [
    "This slope is not statistically significant at 95%, because more than 5% of random permutations produced a slope more extreme than this slope."
   ]
  },
  {
   "cell_type": "code",
   "execution_count": 20,
   "metadata": {},
   "outputs": [
    {
     "data": {
      "text/html": [
       "0.0975"
      ],
      "text/latex": [
       "0.0975"
      ],
      "text/markdown": [
       "0.0975"
      ],
      "text/plain": [
       "[1] 0.0975"
      ]
     },
     "metadata": {},
     "output_type": "display_data"
    }
   ],
   "source": [
    "mean(abs(responses) > abs(slope))"
   ]
  },
  {
   "cell_type": "markdown",
   "metadata": {},
   "source": [
    "Approx 10% of slopes were more extreme than the observed slope."
   ]
  },
  {
   "cell_type": "markdown",
   "metadata": {},
   "source": [
    "### What should we (not) do with a negative result?\n",
    "\n",
    "- We should not claim with much surety that the athletes who take longer to complete the 200m run also tend to take longer to complete the 800m run. If we tried to claim that, there would be approx a 10% chance we were wrong. That’s too high a risk!\n",
    "\n",
    "\n",
    "- We should report the experiment as a negative result. Otherwise, others might waste time repeating the experiment.\n",
    "\n",
    "\n",
    "- If 20 people try a random experiment, we would expect 1 to get a positive result, because there is a 5% chance of getting a statistically significant result by chance alone. If only that person reports the positive result and none of the 19 report the negative result, then readers will be misled.\n",
    "\n",
    "\n",
    "- Would it be a good idea to search through the heptathlon data we have to look for another pair of variables whose linear models have statistically significant slope (better correlation)?"
   ]
  },
  {
   "cell_type": "markdown",
   "metadata": {},
   "source": [
    "### Step 4: Find a statistically significant slope"
   ]
  },
  {
   "cell_type": "code",
   "execution_count": 25,
   "metadata": {},
   "outputs": [
    {
     "data": {
      "image/png": "[encoded data removed]",
      "text/plain": [
       "Plot with title \"Responses\""
      ]
     },
     "metadata": {},
     "output_type": "display_data"
    }
   ],
   "source": [
    "# CREATE NUMBER OF TRIALS\n",
    "trials <- 1000\n",
    "\n",
    "# CREATE THE NECESSARY NUMBER OF PLOTS\n",
    "par(mfrow=c(3,7))\n",
    "\n",
    "# SHRINK THE MARGIN OF EACH PLOT\n",
    "par(mar=c(5,2,1.1,0.1)) \n",
    "\n",
    "# CREATE A FOR LOOP TO FIND VALUES, THIS LOOP STARTS AT COLUMN 4\n",
    "for (predictor.col in 4:9) { \n",
    "    \n",
    "    # THIS LOOP STARTS AT COLUMN 5, BECAUSE 4V5, 4V6, 4V7..., 5V6, 5V7, ... 8V9, 8V10, 9V10\n",
    "    for (response.col in (predictor.col+1):10) { \n",
    "        \n",
    "        # predictor.col IS THE COLUMN IN DATA FRAME USED FOR LM PREDICTOR VARIABLE\n",
    "        # response.col IS THE COLUMN USED FOR LM RESPONSE VARIABLE\n",
    "        \n",
    "        # SLOPE IS THE SLOPE OF THE LINEAR MODEL\n",
    "        slope <- lm(hept[, response.col] ~ hept[, predictor.col])$coefficients[2]\n",
    "        \n",
    "        # INITIALIZE AN ARRAY TO SLOT RESPONSES INSIDE\n",
    "        responses <- numeric(trials)\n",
    "    \n",
    "      for(i in 1:trials) {\n",
    "        \n",
    "          # EACH RESPONSE IS THE SLOPE OF A LINEAR MODEL\n",
    "          responses[i] <- lm(sample(hept[,response.col]) ~ hept[,predictor.col])$coefficients[2]\n",
    "      }\n",
    "    \n",
    "      histxlab = paste(\"Slope of\", names(hept)[response.col], \"vs\", names(hept)[predictor.col])\n",
    "    \n",
    "      hist(responses, \n",
    "           xlab = histxlab, \n",
    "           main=\"Responses\")\n",
    "    \n",
    "      abline(v=quantile(responses,c(0.025,0.975)), \n",
    "             col=\"orange\", \n",
    "             lwd=2)\n",
    "    \n",
    "      abline(v=slope, \n",
    "             col=\"blue\", \n",
    "             lwd=2)\n",
    "    }\n",
    "}\n",
    "\n",
    "par(mfrow=c(1,1))"
   ]
  },
  {
   "cell_type": "markdown",
   "metadata": {},
   "source": [
    "So the statistically significant comparisons appear to be:\n",
    "\n",
    "- hj vs hurdles,\n",
    "- run200 vs hurdles,\n",
    "- lj vs hurdles,\n",
    "- lj vs hj,\n",
    "- jt vs sp,\n",
    "- lj vs run200.\n",
    "\n",
    "But …"
   ]
  },
  {
   "cell_type": "markdown",
   "metadata": {},
   "source": [
    "### Why we should not search for a statistically significant slope\n",
    "\n",
    "- The whole point of statistical significance is that we are saying there is a very small (<5%) chance that the phenomenon occurred at random.\n",
    "\n",
    "\n",
    "- But the chance of some pair of times/distances being well correlated is much higher than the chance of any particular pair being well correlated.\n",
    "\n",
    "\n",
    "- Consider rolling a die 10 times. The chance of getting at least one 6 from 10 rolls is much higher than the chance of getting a 6 on any particular roll.\n",
    "\n",
    "\n",
    "- In this case, the chance of “at least one of the slopes being outside the range of 95% of the permutations” is actually 66%, not 5%. To prove the exact figure 66%, you can use the binomial theorem (see a later module).\n",
    "\n",
    "\n",
    "- What we did here, going fishing for statistically significant results and only reporting the statistically significant ones, is called p-hacking.\n",
    "\n",
    "\n",
    "- p-hacking is bad, and naughty, and wrong. We will never p-hack again.\n",
    "\n",
    "\n",
    "- See the the Holm-Bonferroni method to account for multiple hypotheses."
   ]
  }
 ],
 "metadata": {
  "kernelspec": {
   "display_name": "R",
   "language": "R",
   "name": "ir"
  },
  "language_info": {
   "codemirror_mode": "r",
   "file_extension": ".r",
   "mimetype": "text/x-r-source",
   "name": "R",
   "pygments_lexer": "r",
   "version": "3.6.1"
  }
 },
 "nbformat": 4,
 "nbformat_minor": 4
}
