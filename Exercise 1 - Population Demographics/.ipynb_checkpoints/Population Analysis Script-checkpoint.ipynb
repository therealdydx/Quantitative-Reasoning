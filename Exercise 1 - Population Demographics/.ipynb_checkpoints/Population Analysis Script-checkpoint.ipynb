{
 "cells": [
  {
   "cell_type": "markdown",
   "metadata": {},
   "source": [
    "# Exercise 1 – Analysis of Population Statistics\n",
    "\n",
    "Notebook Written By: WDY (Yale-NUS '24)\n",
    "(Come say hi at https://www.linkedin.com/in/dys-profile/)\n",
    "\n",
    "### Introduction\n",
    "\n",
    "We will be working with the dataset from the United Nations Population Division. Let's read the data into the notebook first. Following that, let's do a quick look through of the dataset to find any interesting information."
   ]
  },
  {
   "cell_type": "markdown",
   "metadata": {},
   "source": [
    "## Step 1: Insert dataset into the Notebook\n",
    "\n",
    "After inserting dataset, play aronud with the dataset and find some relationships if possible."
   ]
  },
  {
   "cell_type": "code",
   "execution_count": 3,
   "metadata": {},
   "outputs": [
    {
     "data": {
      "text/html": [
       "<ol class=list-inline>\n",
       "\t<li>193</li>\n",
       "\t<li>4</li>\n",
       "</ol>\n"
      ],
      "text/latex": [
       "\\begin{enumerate*}\n",
       "\\item 193\n",
       "\\item 4\n",
       "\\end{enumerate*}\n"
      ],
      "text/markdown": [
       "1. 193\n",
       "2. 4\n",
       "\n",
       "\n"
      ],
      "text/plain": [
       "[1] 193   4"
      ]
     },
     "metadata": {},
     "output_type": "display_data"
    },
    {
     "data": {
      "text/html": [
       "<ol class=list-inline>\n",
       "\t<li>'country'</li>\n",
       "\t<li>'continent'</li>\n",
       "\t<li>'pop'</li>\n",
       "\t<li>'electr_pct'</li>\n",
       "</ol>\n"
      ],
      "text/latex": [
       "\\begin{enumerate*}\n",
       "\\item 'country'\n",
       "\\item 'continent'\n",
       "\\item 'pop'\n",
       "\\item 'electr\\_pct'\n",
       "\\end{enumerate*}\n"
      ],
      "text/markdown": [
       "1. 'country'\n",
       "2. 'continent'\n",
       "3. 'pop'\n",
       "4. 'electr_pct'\n",
       "\n",
       "\n"
      ],
      "text/plain": [
       "[1] \"country\"    \"continent\"  \"pop\"        \"electr_pct\""
      ]
     },
     "metadata": {},
     "output_type": "display_data"
    },
    {
     "data": {
      "text/html": [
       "<table>\n",
       "<thead><tr><th scope=col>country</th><th scope=col>continent</th><th scope=col>pop</th><th scope=col>electr_pct</th></tr></thead>\n",
       "<tbody>\n",
       "\t<tr><td>Burundi  </td><td>Africa   </td><td> 11890784</td><td> 7.59    </td></tr>\n",
       "\t<tr><td>Comoros  </td><td>Africa   </td><td>   869601</td><td>77.80    </td></tr>\n",
       "\t<tr><td>Djibouti </td><td>Africa   </td><td>   988000</td><td>51.80    </td></tr>\n",
       "\t<tr><td>Eritrea  </td><td>Africa   </td><td>  3546421</td><td>46.70    </td></tr>\n",
       "\t<tr><td>Ethiopia </td><td>Africa   </td><td>114963588</td><td>42.90    </td></tr>\n",
       "\t<tr><td>Kenya    </td><td>Africa   </td><td> 53771296</td><td>56.00    </td></tr>\n",
       "</tbody>\n",
       "</table>\n"
      ],
      "text/latex": [
       "\\begin{tabular}{r|llll}\n",
       " country & continent & pop & electr\\_pct\\\\\n",
       "\\hline\n",
       "\t Burundi   & Africa    &  11890784 &  7.59    \\\\\n",
       "\t Comoros   & Africa    &    869601 & 77.80    \\\\\n",
       "\t Djibouti  & Africa    &    988000 & 51.80    \\\\\n",
       "\t Eritrea   & Africa    &   3546421 & 46.70    \\\\\n",
       "\t Ethiopia  & Africa    & 114963588 & 42.90    \\\\\n",
       "\t Kenya     & Africa    &  53771296 & 56.00    \\\\\n",
       "\\end{tabular}\n"
      ],
      "text/markdown": [
       "\n",
       "| country | continent | pop | electr_pct |\n",
       "|---|---|---|---|\n",
       "| Burundi   | Africa    |  11890784 |  7.59     |\n",
       "| Comoros   | Africa    |    869601 | 77.80     |\n",
       "| Djibouti  | Africa    |    988000 | 51.80     |\n",
       "| Eritrea   | Africa    |   3546421 | 46.70     |\n",
       "| Ethiopia  | Africa    | 114963588 | 42.90     |\n",
       "| Kenya     | Africa    |  53771296 | 56.00     |\n",
       "\n"
      ],
      "text/plain": [
       "  country  continent pop       electr_pct\n",
       "1 Burundi  Africa     11890784  7.59     \n",
       "2 Comoros  Africa       869601 77.80     \n",
       "3 Djibouti Africa       988000 51.80     \n",
       "4 Eritrea  Africa      3546421 46.70     \n",
       "5 Ethiopia Africa    114963588 42.90     \n",
       "6 Kenya    Africa     53771296 56.00     "
      ]
     },
     "metadata": {},
     "output_type": "display_data"
    },
    {
     "data": {
      "text/html": [
       "<ol class=list-inline>\n",
       "\t<li>Africa</li>\n",
       "\t<li>Asia</li>\n",
       "\t<li>Americas</li>\n",
       "\t<li>Oceania</li>\n",
       "\t<li>Europe</li>\n",
       "</ol>\n",
       "\n",
       "<details>\n",
       "\t<summary style=display:list-item;cursor:pointer>\n",
       "\t\t<strong>Levels</strong>:\n",
       "\t</summary>\n",
       "\t<ol class=list-inline>\n",
       "\t\t<li>'Africa'</li>\n",
       "\t\t<li>'Americas'</li>\n",
       "\t\t<li>'Asia'</li>\n",
       "\t\t<li>'Europe'</li>\n",
       "\t\t<li>'Oceania'</li>\n",
       "\t</ol>\n",
       "</details>"
      ],
      "text/latex": [
       "\\begin{enumerate*}\n",
       "\\item Africa\n",
       "\\item Asia\n",
       "\\item Americas\n",
       "\\item Oceania\n",
       "\\item Europe\n",
       "\\end{enumerate*}\n",
       "\n",
       "\\emph{Levels}: \\begin{enumerate*}\n",
       "\\item 'Africa'\n",
       "\\item 'Americas'\n",
       "\\item 'Asia'\n",
       "\\item 'Europe'\n",
       "\\item 'Oceania'\n",
       "\\end{enumerate*}\n"
      ],
      "text/markdown": [
       "1. Africa\n",
       "2. Asia\n",
       "3. Americas\n",
       "4. Oceania\n",
       "5. Europe\n",
       "\n",
       "\n",
       "\n",
       "**Levels**: 1. 'Africa'\n",
       "2. 'Americas'\n",
       "3. 'Asia'\n",
       "4. 'Europe'\n",
       "5. 'Oceania'\n",
       "\n",
       "\n"
      ],
      "text/plain": [
       "[1] Africa   Asia     Americas Oceania  Europe  \n",
       "Levels: Africa Americas Asia Europe Oceania"
      ]
     },
     "metadata": {},
     "output_type": "display_data"
    }
   ],
   "source": [
    "country_info <- read.csv(\"C:/Users/Admin/OneDrive/Documents/Yale-NUS/Quantitative Reasoning/Quantitative Reasoning Repository/Exercise 1 - Analyzing Continents and Populations/country_info.csv\")\n",
    "\n",
    "# Check the dimensions of the dataset\n",
    "dim(country_info)\n",
    "\n",
    "# Check the names of the columns\n",
    "names(country_info)\n",
    "\n",
    "# Take a sample look of the dataset\n",
    "head(country_info)\n",
    "\n",
    "# Check the unique continents\n",
    "unique(country_info$continent)"
   ]
  },
  {
   "cell_type": "markdown",
   "metadata": {},
   "source": [
    "## Step 2: Find Europe's Population"
   ]
  },
  {
   "cell_type": "code",
   "execution_count": 5,
   "metadata": {},
   "outputs": [
    {
     "data": {
      "text/html": [
       "43"
      ],
      "text/latex": [
       "43"
      ],
      "text/markdown": [
       "43"
      ],
      "text/plain": [
       "[1] 43"
      ]
     },
     "metadata": {},
     "output_type": "display_data"
    },
    {
     "data": {
      "text/html": [
       "<table>\n",
       "<thead><tr><th></th><th scope=col>country</th><th scope=col>continent</th><th scope=col>pop</th><th scope=col>electr_pct</th></tr></thead>\n",
       "<tbody>\n",
       "\t<tr><th scope=row>149</th><td>Belarus            </td><td>Europe             </td><td> 9449323           </td><td>100                </td></tr>\n",
       "\t<tr><th scope=row>150</th><td>Bulgaria           </td><td>Europe             </td><td> 6948445           </td><td>100                </td></tr>\n",
       "\t<tr><th scope=row>151</th><td>Czechia            </td><td>Europe             </td><td>10708981           </td><td>100                </td></tr>\n",
       "\t<tr><th scope=row>152</th><td>Hungary            </td><td>Europe             </td><td> 9660351           </td><td>100                </td></tr>\n",
       "\t<tr><th scope=row>153</th><td>Poland             </td><td>Europe             </td><td>37846611           </td><td>100                </td></tr>\n",
       "\t<tr><th scope=row>154</th><td>Republic of Moldova</td><td>Europe             </td><td> 4033963           </td><td>100                </td></tr>\n",
       "</tbody>\n",
       "</table>\n"
      ],
      "text/latex": [
       "\\begin{tabular}{r|llll}\n",
       "  & country & continent & pop & electr\\_pct\\\\\n",
       "\\hline\n",
       "\t149 & Belarus             & Europe              &  9449323            & 100                \\\\\n",
       "\t150 & Bulgaria            & Europe              &  6948445            & 100                \\\\\n",
       "\t151 & Czechia             & Europe              & 10708981            & 100                \\\\\n",
       "\t152 & Hungary             & Europe              &  9660351            & 100                \\\\\n",
       "\t153 & Poland              & Europe              & 37846611            & 100                \\\\\n",
       "\t154 & Republic of Moldova & Europe              &  4033963            & 100                \\\\\n",
       "\\end{tabular}\n"
      ],
      "text/markdown": [
       "\n",
       "| <!--/--> | country | continent | pop | electr_pct |\n",
       "|---|---|---|---|---|\n",
       "| 149 | Belarus             | Europe              |  9449323            | 100                 |\n",
       "| 150 | Bulgaria            | Europe              |  6948445            | 100                 |\n",
       "| 151 | Czechia             | Europe              | 10708981            | 100                 |\n",
       "| 152 | Hungary             | Europe              |  9660351            | 100                 |\n",
       "| 153 | Poland              | Europe              | 37846611            | 100                 |\n",
       "| 154 | Republic of Moldova | Europe              |  4033963            | 100                 |\n",
       "\n"
      ],
      "text/plain": [
       "    country             continent pop      electr_pct\n",
       "149 Belarus             Europe     9449323 100       \n",
       "150 Bulgaria            Europe     6948445 100       \n",
       "151 Czechia             Europe    10708981 100       \n",
       "152 Hungary             Europe     9660351 100       \n",
       "153 Poland              Europe    37846611 100       \n",
       "154 Republic of Moldova Europe     4033963 100       "
      ]
     },
     "metadata": {},
     "output_type": "display_data"
    },
    {
     "data": {
      "text/html": [
       "747293775"
      ],
      "text/latex": [
       "747293775"
      ],
      "text/markdown": [
       "747293775"
      ],
      "text/plain": [
       "[1] 747293775"
      ]
     },
     "metadata": {},
     "output_type": "display_data"
    }
   ],
   "source": [
    "# Break down this into a subset of the dataset\n",
    "europe_info <- country_info[country_info$continent == \"Europe\", ]\n",
    "\n",
    "# Check the number of rows in the new dataset\n",
    "nrow(europe_info)\n",
    "\n",
    "head(europe_info)\n",
    "\n",
    "# Now find Europe's total population\n",
    "sum(europe_info$pop)"
   ]
  },
  {
   "cell_type": "markdown",
   "metadata": {},
   "source": [
    "So there are about 747 Million Europeans."
   ]
  },
  {
   "cell_type": "markdown",
   "metadata": {},
   "source": [
    "## Step 3: Find Asia's Population"
   ]
  },
  {
   "cell_type": "code",
   "execution_count": 8,
   "metadata": {},
   "outputs": [
    {
     "data": {
      "text/html": [
       "4609091684"
      ],
      "text/latex": [
       "4609091684"
      ],
      "text/markdown": [
       "4609091684"
      ],
      "text/plain": [
       "[1] 4609091684"
      ]
     },
     "metadata": {},
     "output_type": "display_data"
    }
   ],
   "source": [
    "sum(country_info$pop[country_info$continent == \"Asia\"])"
   ]
  },
  {
   "cell_type": "markdown",
   "metadata": {},
   "source": [
    "So there are about 4.6 Billion Asians. Cool."
   ]
  },
  {
   "cell_type": "markdown",
   "metadata": {},
   "source": [
    "### New Function!\n",
    "\n",
    "So it turns out, R can do the entire calculation with aggregate()!\n",
    "\n",
    "We will be exploring this function in the practices later!"
   ]
  },
  {
   "cell_type": "markdown",
   "metadata": {},
   "source": [
    "## Step 4: Plot a barplot of the population by continents\n",
    "\n",
    "It may be better to use an aggregate function to get the populations by continent and assign it to a new dataset further."
   ]
  },
  {
   "cell_type": "code",
   "execution_count": 12,
   "metadata": {},
   "outputs": [
    {
     "data": {
      "text/html": [
       "<table>\n",
       "<thead><tr><th scope=col>continent</th><th scope=col>pop</th></tr></thead>\n",
       "<tbody>\n",
       "\t<tr><td>Africa    </td><td>1337666440</td></tr>\n",
       "\t<tr><td>Americas  </td><td>1018121141</td></tr>\n",
       "\t<tr><td>Asia      </td><td>4609091684</td></tr>\n",
       "\t<tr><td>Europe    </td><td> 747293775</td></tr>\n",
       "\t<tr><td>Oceania   </td><td>  41798096</td></tr>\n",
       "</tbody>\n",
       "</table>\n"
      ],
      "text/latex": [
       "\\begin{tabular}{r|ll}\n",
       " continent & pop\\\\\n",
       "\\hline\n",
       "\t Africa     & 1337666440\\\\\n",
       "\t Americas   & 1018121141\\\\\n",
       "\t Asia       & 4609091684\\\\\n",
       "\t Europe     &  747293775\\\\\n",
       "\t Oceania    &   41798096\\\\\n",
       "\\end{tabular}\n"
      ],
      "text/markdown": [
       "\n",
       "| continent | pop |\n",
       "|---|---|\n",
       "| Africa     | 1337666440 |\n",
       "| Americas   | 1018121141 |\n",
       "| Asia       | 4609091684 |\n",
       "| Europe     |  747293775 |\n",
       "| Oceania    |   41798096 |\n",
       "\n"
      ],
      "text/plain": [
       "  continent pop       \n",
       "1 Africa    1337666440\n",
       "2 Americas  1018121141\n",
       "3 Asia      4609091684\n",
       "4 Europe     747293775\n",
       "5 Oceania     41798096"
      ]
     },
     "metadata": {},
     "output_type": "display_data"
    },
    {
     "data": {
      "image/png": "[encoded data removed]",
      "text/plain": [
       "plot without title"
      ]
     },
     "metadata": {},
     "output_type": "display_data"
    }
   ],
   "source": [
    "# aggregate(column as a subset of column, data, formula)\n",
    "pop_by_cont <- aggregate(pop ~ continent, data = country_info, FUN = sum)\n",
    "head(pop_by_cont)\n",
    "\n",
    "# names.arg gives the names of the rows\n",
    "barplot(pop_by_cont$pop, \n",
    "        names.arg = pop_by_cont$continent)"
   ]
  },
  {
   "cell_type": "markdown",
   "metadata": {},
   "source": [
    "## Step 5: How many people in the world have some access to electricity?\n",
    "\n",
    "Find the total population with access to electricity."
   ]
  },
  {
   "cell_type": "code",
   "execution_count": 19,
   "metadata": {},
   "outputs": [
    {
     "data": {
      "text/html": [
       "6740892816.4473"
      ],
      "text/latex": [
       "6740892816.4473"
      ],
      "text/markdown": [
       "6740892816.4473"
      ],
      "text/plain": [
       "[1] 6740892816"
      ]
     },
     "metadata": {},
     "output_type": "display_data"
    }
   ],
   "source": [
    "# Create a column with electricity statistics\n",
    "\n",
    "country_info$pop_with_electr <- country_info$pop * country_info$electr_pct / 100\n",
    "\n",
    "total_pop <- sum(country_info$pop_with_electr)\n",
    "total_pop\n"
   ]
  },
  {
   "cell_type": "markdown",
   "metadata": {},
   "source": [
    "Now find the total percentage."
   ]
  },
  {
   "cell_type": "code",
   "execution_count": 23,
   "metadata": {},
   "outputs": [
    {
     "data": {
      "text/html": [
       "86.9347163952004"
      ],
      "text/latex": [
       "86.9347163952004"
      ],
      "text/markdown": [
       "86.9347163952004"
      ],
      "text/plain": [
       "[1] 86.93472"
      ]
     },
     "metadata": {},
     "output_type": "display_data"
    }
   ],
   "source": [
    "total_percentage <- total_pop / sum(country_info$pop) * 100\n",
    "total_percentage"
   ]
  },
  {
   "cell_type": "markdown",
   "metadata": {},
   "source": [
    "## Step 6: Analyse the primary school demographics of the population!\n",
    "\n",
    "For this, importing a new dataset is necessary. Download the file primary_education.csv from Canvas "
   ]
  },
  {
   "cell_type": "code",
   "execution_count": 24,
   "metadata": {},
   "outputs": [],
   "source": [
    "primary_education <- read.csv(\"C:/Users/Admin/OneDrive/Documents/Yale-NUS/Quantitative Reasoning/Quantitative Reasoning Repository/Exercise 1 - Analyzing Continents and Populations/primary_education.csv\")"
   ]
  },
  {
   "cell_type": "code",
   "execution_count": 26,
   "metadata": {},
   "outputs": [
    {
     "data": {
      "text/html": [
       "<ol class=list-inline>\n",
       "\t<li>117</li>\n",
       "\t<li>4</li>\n",
       "</ol>\n"
      ],
      "text/latex": [
       "\\begin{enumerate*}\n",
       "\\item 117\n",
       "\\item 4\n",
       "\\end{enumerate*}\n"
      ],
      "text/markdown": [
       "1. 117\n",
       "2. 4\n",
       "\n",
       "\n"
      ],
      "text/plain": [
       "[1] 117   4"
      ]
     },
     "metadata": {},
     "output_type": "display_data"
    },
    {
     "data": {
      "text/html": [
       "<ol class=list-inline>\n",
       "\t<li>'country'</li>\n",
       "\t<li>'income'</li>\n",
       "\t<li>'completion_f_pct'</li>\n",
       "\t<li>'f_age_last_grade'</li>\n",
       "</ol>\n"
      ],
      "text/latex": [
       "\\begin{enumerate*}\n",
       "\\item 'country'\n",
       "\\item 'income'\n",
       "\\item 'completion\\_f\\_pct'\n",
       "\\item 'f\\_age\\_last\\_grade'\n",
       "\\end{enumerate*}\n"
      ],
      "text/markdown": [
       "1. 'country'\n",
       "2. 'income'\n",
       "3. 'completion_f_pct'\n",
       "4. 'f_age_last_grade'\n",
       "\n",
       "\n"
      ],
      "text/plain": [
       "[1] \"country\"          \"income\"           \"completion_f_pct\" \"f_age_last_grade\""
      ]
     },
     "metadata": {},
     "output_type": "display_data"
    },
    {
     "data": {
      "text/html": [
       "<table>\n",
       "<thead><tr><th scope=col>country</th><th scope=col>income</th><th scope=col>completion_f_pct</th><th scope=col>f_age_last_grade</th></tr></thead>\n",
       "<tbody>\n",
       "\t<tr><td>Albania       </td><td>upper middle  </td><td>104.64122     </td><td> 18102.0      </td></tr>\n",
       "\t<tr><td>Argentina     </td><td>not classified</td><td>102.76964     </td><td>349201.0      </td></tr>\n",
       "\t<tr><td>Armenia       </td><td>lower middle  </td><td> 91.29588     </td><td> 16380.6      </td></tr>\n",
       "\t<tr><td>Austria       </td><td>high          </td><td> 99.59905     </td><td> 40829.6      </td></tr>\n",
       "\t<tr><td>Azerbaijan    </td><td>upper middle  </td><td>109.72021     </td><td> 59122.8      </td></tr>\n",
       "\t<tr><td>Burundi       </td><td>low           </td><td> 74.52029     </td><td>127731.8      </td></tr>\n",
       "</tbody>\n",
       "</table>\n"
      ],
      "text/latex": [
       "\\begin{tabular}{r|llll}\n",
       " country & income & completion\\_f\\_pct & f\\_age\\_last\\_grade\\\\\n",
       "\\hline\n",
       "\t Albania        & upper middle   & 104.64122      &  18102.0      \\\\\n",
       "\t Argentina      & not classified & 102.76964      & 349201.0      \\\\\n",
       "\t Armenia        & lower middle   &  91.29588      &  16380.6      \\\\\n",
       "\t Austria        & high           &  99.59905      &  40829.6      \\\\\n",
       "\t Azerbaijan     & upper middle   & 109.72021      &  59122.8      \\\\\n",
       "\t Burundi        & low            &  74.52029      & 127731.8      \\\\\n",
       "\\end{tabular}\n"
      ],
      "text/markdown": [
       "\n",
       "| country | income | completion_f_pct | f_age_last_grade |\n",
       "|---|---|---|---|\n",
       "| Albania        | upper middle   | 104.64122      |  18102.0       |\n",
       "| Argentina      | not classified | 102.76964      | 349201.0       |\n",
       "| Armenia        | lower middle   |  91.29588      |  16380.6       |\n",
       "| Austria        | high           |  99.59905      |  40829.6       |\n",
       "| Azerbaijan     | upper middle   | 109.72021      |  59122.8       |\n",
       "| Burundi        | low            |  74.52029      | 127731.8       |\n",
       "\n"
      ],
      "text/plain": [
       "  country    income         completion_f_pct f_age_last_grade\n",
       "1 Albania    upper middle   104.64122         18102.0        \n",
       "2 Argentina  not classified 102.76964        349201.0        \n",
       "3 Armenia    lower middle    91.29588         16380.6        \n",
       "4 Austria    high            99.59905         40829.6        \n",
       "5 Azerbaijan upper middle   109.72021         59122.8        \n",
       "6 Burundi    low             74.52029        127731.8        "
      ]
     },
     "metadata": {},
     "output_type": "display_data"
    }
   ],
   "source": [
    "# Look through the dataset\n",
    "dim(primary_education)\n",
    "names(primary_education)\n",
    "head(primary_education)"
   ]
  },
  {
   "cell_type": "markdown",
   "metadata": {},
   "source": [
    "You may be wondering why the output above shows a completion rate of >100% in some countries. Here is a quote from https://data.worldbank.org/indicator/SE.PRM.CMPT.FE.ZS:\n",
    "\n",
    "“There are many reasons why the primary completion rate can exceed 100 percent. The numerator may include late entrants and overage children who have repeated one or more grades of primary education as well as children who entered school early, while the denominator is the number of children at the entrance age for the last grade of primary education."
   ]
  },
  {
   "cell_type": "markdown",
   "metadata": {},
   "source": [
    "## Step 7: Create a subset that contains low-income countries"
   ]
  },
  {
   "cell_type": "code",
   "execution_count": 30,
   "metadata": {},
   "outputs": [
    {
     "data": {
      "text/html": [
       "16"
      ],
      "text/latex": [
       "16"
      ],
      "text/markdown": [
       "16"
      ],
      "text/plain": [
       "[1] 16"
      ]
     },
     "metadata": {},
     "output_type": "display_data"
    },
    {
     "name": "stdout",
     "output_type": "stream",
     "text": [
      "'data.frame':\t16 obs. of  4 variables:\n",
      " $ country         : Factor w/ 117 levels \"Albania\",\"Algeria\",..: 16 11 15 20 44 39 66 69 79 78 ...\n",
      " $ income          : Factor w/ 5 levels \"high\",\"low\",\"lower middle\",..: 2 2 2 2 2 2 2 2 2 2 ...\n",
      " $ completion_f_pct: num  74.5 76 64.1 33.5 52.4 ...\n",
      " $ f_age_last_grade: num  127732 132165 236609 62497 154588 ...\n"
     ]
    }
   ],
   "source": [
    "low_income <- primary_education[primary_education$income == \"low\", ]\n",
    "nrow(low_income)\n",
    "str(low_income)"
   ]
  },
  {
   "cell_type": "markdown",
   "metadata": {},
   "source": [
    "## Step 8: How many girls completed primary school education in low income countries?\n",
    "\n",
    "Find the percentage of girls that completed primary school education in low income countries. "
   ]
  },
  {
   "cell_type": "code",
   "execution_count": 31,
   "metadata": {},
   "outputs": [
    {
     "data": {
      "text/html": [
       "62.936136245625"
      ],
      "text/latex": [
       "62.936136245625"
      ],
      "text/markdown": [
       "62.936136245625"
      ],
      "text/plain": [
       "[1] 62.93614"
      ]
     },
     "metadata": {},
     "output_type": "display_data"
    }
   ],
   "source": [
    "# If above 100, change the score to 100.\n",
    "\n",
    "for (i in 1:length(primary_education$completion_f_pct)) {\n",
    "    if (primary_education$completion_f_pct[i] > 100) {\n",
    "        primary_education$completion_f_pct[i] <- 100\n",
    "    }\n",
    "}\n",
    "\n",
    "total_percentage <- mean(primary_education$completion_f_pct[primary_education$income == \"low\"])\n",
    "total_percentage"
   ]
  },
  {
   "cell_type": "markdown",
   "metadata": {},
   "source": [
    "# THANK YOU FOR VIEWING THIS NOTEBOOK :-)"
   ]
  }
 ],
 "metadata": {
  "kernelspec": {
   "display_name": "R",
   "language": "R",
   "name": "ir"
  },
  "language_info": {
   "codemirror_mode": "r",
   "file_extension": ".r",
   "mimetype": "text/x-r-source",
   "name": "R",
   "pygments_lexer": "r",
   "version": "3.6.1"
  }
 },
 "nbformat": 4,
 "nbformat_minor": 4
}
