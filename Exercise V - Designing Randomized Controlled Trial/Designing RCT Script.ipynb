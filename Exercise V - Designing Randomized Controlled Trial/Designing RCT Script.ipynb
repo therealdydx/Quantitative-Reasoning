{
 "cells": [
  {
   "cell_type": "markdown",
   "metadata": {},
   "source": [
    "# Exercise 22 – Designing Randomized Controlled Trials\n",
    "\n",
    "Notebook Written By: WDY (Yale-NUS '24) \n",
    "(Come say hi at https://www.linkedin.com/in/dys-profile/)\n",
    "\n",
    "### Introduction\n",
    "\n",
    "- Results from data also carry uncertainty. The quantification of uncertainty requires the concept of randomness.\n",
    "\n",
    "- Simulations provide hands-on experience with randomness. They generate a response variable under an assumed model.\n",
    "\n",
    "- Today we use the R function sample to implement a simulation for the investigation of a basketball phenomenon.\n"
   ]
  }
 ],
 "metadata": {
  "kernelspec": {
   "display_name": "R",
   "language": "R",
   "name": "ir"
  },
  "language_info": {
   "codemirror_mode": "r",
   "file_extension": ".r",
   "mimetype": "text/x-r-source",
   "name": "R",
   "pygments_lexer": "r",
   "version": "3.6.1"
  }
 },
 "nbformat": 4,
 "nbformat_minor": 4
}
