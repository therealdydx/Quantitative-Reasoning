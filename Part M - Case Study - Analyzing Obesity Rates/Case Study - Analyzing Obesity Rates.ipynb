{
 "cells": [
  {
   "cell_type": "markdown",
   "metadata": {},
   "source": [
    "# Exercise 13 – Using nhanes survey data to examine patterns of obesity\n",
    "\n",
    "### Introduction\n",
    "\n",
    "Today, we will work with the National Health and Nutrition Examination Survey (nhanes) data from the USA National Center for Health Statistics (https://www.cdc.gov/nchs/nhanes/about_nhanes.htm). As preparation for today’s class, you already took a look at the data and explored the variables that will be used today. \n",
    "\n",
    "The objective of this activity is to practice the R coding skills you acquired over the last few weeks, and to prepare you for the midterm exam of coming Thursday. Therefore, try to work on this activity independently, save your script as a .R file and upload it to Canvas, export the graphs as .pdf files uploading them to Canvas as well.\n",
    "\n",
    "\n",
    "This activity includes more questions than you are expected to be able to answer during class. The rest of the questions can be used for extra practice at home. A .html document with solutions to all questions will be available at the end of the day so you will be able to check your answers.\n",
    "\n",
    "Keep your own R script you created for the prep of this class at hand, or the .html file with solutions that was provided to you. They provide an overview of the variables in the data set and an overview of the range of values / categories for several of the variables you will use today.\n"
   ]
  },
  {
   "cell_type": "code",
   "execution_count": 114,
   "metadata": {},
   "outputs": [
    {
     "data": {
      "text/html": [
       "<table>\n",
       "<thead><tr><th scope=col>id</th><th scope=col>year</th><th scope=col>weight</th><th scope=col>height</th><th scope=col>gender</th><th scope=col>age_yrs</th><th scope=col>ethn</th><th scope=col>educ</th><th scope=col>marital</th><th scope=col>income_class</th><th scope=col>poverty</th><th scope=col>citizenship</th><th scope=col>household</th><th scope=col>income_mid</th><th scope=col>poverty_class</th><th scope=col>years_USA_mid</th><th scope=col>lead_conc</th><th scope=col>age_class</th></tr></thead>\n",
       "<tbody>\n",
       "\t<tr><td>8594                     </td><td>2000                     </td><td> 34.20                   </td><td>141.2                    </td><td>F                        </td><td>10                       </td><td>Mexican American         </td><td>NA                       </td><td>NA                       </td><td>NA                       </td><td>  NA                     </td><td>not_citizen              </td><td>7                        </td><td>    NA                   </td><td>NA                       </td><td>NA                       </td><td>   NA                    </td><td>12.5                     </td></tr>\n",
       "\t<tr><td>8073                     </td><td>2000                     </td><td> 83.60                   </td><td>167.0                    </td><td>F                        </td><td>19                       </td><td>Mexican American         </td><td>NA                       </td><td>Never married            </td><td>15,000 to 19,999         </td><td>1.56                     </td><td>citizen                  </td><td>2                        </td><td> 17500                   </td><td> 2                       </td><td>NA                       </td><td>0.039                    </td><td>17.5                     </td></tr>\n",
       "\t<tr><td>1604                     </td><td>2000                     </td><td> 55.20                   </td><td>169.9                    </td><td>F                        </td><td>47                       </td><td>Non-Hispanic White       </td><td>college graduate or above</td><td>Married                  </td><td>75,000 and over          </td><td>5.00                     </td><td>citizen                  </td><td>5                        </td><td>100000                   </td><td> 5                       </td><td>NA                       </td><td>0.072                    </td><td>47.5                     </td></tr>\n",
       "\t<tr><td>7197                     </td><td>2000                     </td><td> 64.70                   </td><td>180.3                    </td><td>M                        </td><td>63                       </td><td>Non-Hispanic Black       </td><td>9-11th grade             </td><td>Separated                </td><td>5,000 to 9,999           </td><td>0.62                     </td><td>citizen                  </td><td>1                        </td><td>  7500                   </td><td> 1                       </td><td>NA                       </td><td>0.531                    </td><td>62.5                     </td></tr>\n",
       "\t<tr><td>4492                     </td><td>2000                     </td><td>113.90                   </td><td>173.2                    </td><td>F                        </td><td>24                       </td><td>Mexican American         </td><td>High School              </td><td>Married                  </td><td>35,000 to 44,999         </td><td>3.38                     </td><td>citizen                  </td><td>2                        </td><td> 40000                   </td><td> 4                       </td><td>NA                       </td><td>0.014                    </td><td>22.5                     </td></tr>\n",
       "\t<tr><td>1443                     </td><td>2000                     </td><td> 52.74                   </td><td>169.0                    </td><td>F                        </td><td>25                       </td><td>Non-Hispanic White       </td><td>some college or AA       </td><td>Married                  </td><td>35,000 to 44,999         </td><td>2.47                     </td><td>citizen                  </td><td>3                        </td><td> 40000                   </td><td> 3                       </td><td>NA                       </td><td>0.024                    </td><td>27.5                     </td></tr>\n",
       "</tbody>\n",
       "</table>\n"
      ],
      "text/latex": [
       "\\begin{tabular}{r|llllllllllllllllll}\n",
       " id & year & weight & height & gender & age\\_yrs & ethn & educ & marital & income\\_class & poverty & citizenship & household & income\\_mid & poverty\\_class & years\\_USA\\_mid & lead\\_conc & age\\_class\\\\\n",
       "\\hline\n",
       "\t 8594                      & 2000                      &  34.20                    & 141.2                     & F                         & 10                        & Mexican American          & NA                        & NA                        & NA                        &   NA                      & not\\_citizen             & 7                         &     NA                    & NA                        & NA                        &    NA                     & 12.5                     \\\\\n",
       "\t 8073                      & 2000                      &  83.60                    & 167.0                     & F                         & 19                        & Mexican American          & NA                        & Never married             & 15,000 to 19,999          & 1.56                      & citizen                   & 2                         &  17500                    &  2                        & NA                        & 0.039                     & 17.5                     \\\\\n",
       "\t 1604                      & 2000                      &  55.20                    & 169.9                     & F                         & 47                        & Non-Hispanic White        & college graduate or above & Married                   & 75,000 and over           & 5.00                      & citizen                   & 5                         & 100000                    &  5                        & NA                        & 0.072                     & 47.5                     \\\\\n",
       "\t 7197                      & 2000                      &  64.70                    & 180.3                     & M                         & 63                        & Non-Hispanic Black        & 9-11th grade              & Separated                 & 5,000 to 9,999            & 0.62                      & citizen                   & 1                         &   7500                    &  1                        & NA                        & 0.531                     & 62.5                     \\\\\n",
       "\t 4492                      & 2000                      & 113.90                    & 173.2                     & F                         & 24                        & Mexican American          & High School               & Married                   & 35,000 to 44,999          & 3.38                      & citizen                   & 2                         &  40000                    &  4                        & NA                        & 0.014                     & 22.5                     \\\\\n",
       "\t 1443                      & 2000                      &  52.74                    & 169.0                     & F                         & 25                        & Non-Hispanic White        & some college or AA        & Married                   & 35,000 to 44,999          & 2.47                      & citizen                   & 3                         &  40000                    &  3                        & NA                        & 0.024                     & 27.5                     \\\\\n",
       "\\end{tabular}\n"
      ],
      "text/markdown": [
       "\n",
       "| id | year | weight | height | gender | age_yrs | ethn | educ | marital | income_class | poverty | citizenship | household | income_mid | poverty_class | years_USA_mid | lead_conc | age_class |\n",
       "|---|---|---|---|---|---|---|---|---|---|---|---|---|---|---|---|---|---|\n",
       "| 8594                      | 2000                      |  34.20                    | 141.2                     | F                         | 10                        | Mexican American          | NA                        | NA                        | NA                        |   NA                      | not_citizen               | 7                         |     NA                    | NA                        | NA                        |    NA                     | 12.5                      |\n",
       "| 8073                      | 2000                      |  83.60                    | 167.0                     | F                         | 19                        | Mexican American          | NA                        | Never married             | 15,000 to 19,999          | 1.56                      | citizen                   | 2                         |  17500                    |  2                        | NA                        | 0.039                     | 17.5                      |\n",
       "| 1604                      | 2000                      |  55.20                    | 169.9                     | F                         | 47                        | Non-Hispanic White        | college graduate or above | Married                   | 75,000 and over           | 5.00                      | citizen                   | 5                         | 100000                    |  5                        | NA                        | 0.072                     | 47.5                      |\n",
       "| 7197                      | 2000                      |  64.70                    | 180.3                     | M                         | 63                        | Non-Hispanic Black        | 9-11th grade              | Separated                 | 5,000 to 9,999            | 0.62                      | citizen                   | 1                         |   7500                    |  1                        | NA                        | 0.531                     | 62.5                      |\n",
       "| 4492                      | 2000                      | 113.90                    | 173.2                     | F                         | 24                        | Mexican American          | High School               | Married                   | 35,000 to 44,999          | 3.38                      | citizen                   | 2                         |  40000                    |  4                        | NA                        | 0.014                     | 22.5                      |\n",
       "| 1443                      | 2000                      |  52.74                    | 169.0                     | F                         | 25                        | Non-Hispanic White        | some college or AA        | Married                   | 35,000 to 44,999          | 2.47                      | citizen                   | 3                         |  40000                    |  3                        | NA                        | 0.024                     | 27.5                      |\n",
       "\n"
      ],
      "text/plain": [
       "  id   year weight height gender age_yrs ethn              \n",
       "1 8594 2000  34.20 141.2  F      10      Mexican American  \n",
       "2 8073 2000  83.60 167.0  F      19      Mexican American  \n",
       "3 1604 2000  55.20 169.9  F      47      Non-Hispanic White\n",
       "4 7197 2000  64.70 180.3  M      63      Non-Hispanic Black\n",
       "5 4492 2000 113.90 173.2  F      24      Mexican American  \n",
       "6 1443 2000  52.74 169.0  F      25      Non-Hispanic White\n",
       "  educ                      marital       income_class     poverty citizenship\n",
       "1 NA                        NA            NA                 NA    not_citizen\n",
       "2 NA                        Never married 15,000 to 19,999 1.56    citizen    \n",
       "3 college graduate or above Married       75,000 and over  5.00    citizen    \n",
       "4 9-11th grade              Separated     5,000 to 9,999   0.62    citizen    \n",
       "5 High School               Married       35,000 to 44,999 3.38    citizen    \n",
       "6 some college or AA        Married       35,000 to 44,999 2.47    citizen    \n",
       "  household income_mid poverty_class years_USA_mid lead_conc age_class\n",
       "1 7             NA     NA            NA               NA     12.5     \n",
       "2 2          17500      2            NA            0.039     17.5     \n",
       "3 5         100000      5            NA            0.072     47.5     \n",
       "4 1           7500      1            NA            0.531     62.5     \n",
       "5 2          40000      4            NA            0.014     22.5     \n",
       "6 3          40000      3            NA            0.024     27.5     "
      ]
     },
     "metadata": {},
     "output_type": "display_data"
    }
   ],
   "source": [
    "nhanes <- read.csv(\"C:/Users/Admin/OneDrive/Documents/Yale-NUS/Quantitative Reasoning/Quantitative Reasoning Repository/Exercise 9 - Analyzing Healthcare Statuses/nhanes.csv\")\n",
    "\n",
    "head(nhanes)"
   ]
  },
  {
   "cell_type": "markdown",
   "metadata": {},
   "source": [
    "### Step 1: Append a column with the body mass index (BMI) per participant.\n",
    "\n",
    "The BMI is calculated as a person’s weight in kilograms divided by their height in meters squared. For adults (20+ years) A BMI of 25.0 or more is overweight, while bmi > 30 is considered obese."
   ]
  },
  {
   "cell_type": "code",
   "execution_count": 115,
   "metadata": {},
   "outputs": [
    {
     "data": {
      "text/html": [
       "<table>\n",
       "<thead><tr><th scope=col>id</th><th scope=col>year</th><th scope=col>weight</th><th scope=col>height</th><th scope=col>gender</th><th scope=col>age_yrs</th><th scope=col>ethn</th><th scope=col>educ</th><th scope=col>marital</th><th scope=col>income_class</th><th scope=col>poverty</th><th scope=col>citizenship</th><th scope=col>household</th><th scope=col>income_mid</th><th scope=col>poverty_class</th><th scope=col>years_USA_mid</th><th scope=col>lead_conc</th><th scope=col>age_class</th><th scope=col>BMI</th></tr></thead>\n",
       "<tbody>\n",
       "\t<tr><td>8594                     </td><td>2000                     </td><td> 34.20                   </td><td>141.2                    </td><td>F                        </td><td>10                       </td><td>Mexican American         </td><td>NA                       </td><td>NA                       </td><td>NA                       </td><td>  NA                     </td><td>not_citizen              </td><td>7                        </td><td>    NA                   </td><td>NA                       </td><td>NA                       </td><td>   NA                    </td><td>12.5                     </td><td>17.15366                 </td></tr>\n",
       "\t<tr><td>8073                     </td><td>2000                     </td><td> 83.60                   </td><td>167.0                    </td><td>F                        </td><td>19                       </td><td>Mexican American         </td><td>NA                       </td><td>Never married            </td><td>15,000 to 19,999         </td><td>1.56                     </td><td>citizen                  </td><td>2                        </td><td> 17500                   </td><td> 2                       </td><td>NA                       </td><td>0.039                    </td><td>17.5                     </td><td>29.97598                 </td></tr>\n",
       "\t<tr><td>1604                     </td><td>2000                     </td><td> 55.20                   </td><td>169.9                    </td><td>F                        </td><td>47                       </td><td>Non-Hispanic White       </td><td>college graduate or above</td><td>Married                  </td><td>75,000 and over          </td><td>5.00                     </td><td>citizen                  </td><td>5                        </td><td>100000                   </td><td> 5                       </td><td>NA                       </td><td>0.072                    </td><td>47.5                     </td><td>19.12284                 </td></tr>\n",
       "\t<tr><td>7197                     </td><td>2000                     </td><td> 64.70                   </td><td>180.3                    </td><td>M                        </td><td>63                       </td><td>Non-Hispanic Black       </td><td>9-11th grade             </td><td>Separated                </td><td>5,000 to 9,999           </td><td>0.62                     </td><td>citizen                  </td><td>1                        </td><td>  7500                   </td><td> 1                       </td><td>NA                       </td><td>0.531                    </td><td>62.5                     </td><td>19.90274                 </td></tr>\n",
       "\t<tr><td>4492                     </td><td>2000                     </td><td>113.90                   </td><td>173.2                    </td><td>F                        </td><td>24                       </td><td>Mexican American         </td><td>High School              </td><td>Married                  </td><td>35,000 to 44,999         </td><td>3.38                     </td><td>citizen                  </td><td>2                        </td><td> 40000                   </td><td> 4                       </td><td>NA                       </td><td>0.014                    </td><td>22.5                     </td><td>37.96889                 </td></tr>\n",
       "\t<tr><td>1443                     </td><td>2000                     </td><td> 52.74                   </td><td>169.0                    </td><td>F                        </td><td>25                       </td><td>Non-Hispanic White       </td><td>some college or AA       </td><td>Married                  </td><td>35,000 to 44,999         </td><td>2.47                     </td><td>citizen                  </td><td>3                        </td><td> 40000                   </td><td> 3                       </td><td>NA                       </td><td>0.024                    </td><td>27.5                     </td><td>18.46574                 </td></tr>\n",
       "</tbody>\n",
       "</table>\n"
      ],
      "text/latex": [
       "\\begin{tabular}{r|lllllllllllllllllll}\n",
       " id & year & weight & height & gender & age\\_yrs & ethn & educ & marital & income\\_class & poverty & citizenship & household & income\\_mid & poverty\\_class & years\\_USA\\_mid & lead\\_conc & age\\_class & BMI\\\\\n",
       "\\hline\n",
       "\t 8594                      & 2000                      &  34.20                    & 141.2                     & F                         & 10                        & Mexican American          & NA                        & NA                        & NA                        &   NA                      & not\\_citizen             & 7                         &     NA                    & NA                        & NA                        &    NA                     & 12.5                      & 17.15366                 \\\\\n",
       "\t 8073                      & 2000                      &  83.60                    & 167.0                     & F                         & 19                        & Mexican American          & NA                        & Never married             & 15,000 to 19,999          & 1.56                      & citizen                   & 2                         &  17500                    &  2                        & NA                        & 0.039                     & 17.5                      & 29.97598                 \\\\\n",
       "\t 1604                      & 2000                      &  55.20                    & 169.9                     & F                         & 47                        & Non-Hispanic White        & college graduate or above & Married                   & 75,000 and over           & 5.00                      & citizen                   & 5                         & 100000                    &  5                        & NA                        & 0.072                     & 47.5                      & 19.12284                 \\\\\n",
       "\t 7197                      & 2000                      &  64.70                    & 180.3                     & M                         & 63                        & Non-Hispanic Black        & 9-11th grade              & Separated                 & 5,000 to 9,999            & 0.62                      & citizen                   & 1                         &   7500                    &  1                        & NA                        & 0.531                     & 62.5                      & 19.90274                 \\\\\n",
       "\t 4492                      & 2000                      & 113.90                    & 173.2                     & F                         & 24                        & Mexican American          & High School               & Married                   & 35,000 to 44,999          & 3.38                      & citizen                   & 2                         &  40000                    &  4                        & NA                        & 0.014                     & 22.5                      & 37.96889                 \\\\\n",
       "\t 1443                      & 2000                      &  52.74                    & 169.0                     & F                         & 25                        & Non-Hispanic White        & some college or AA        & Married                   & 35,000 to 44,999          & 2.47                      & citizen                   & 3                         &  40000                    &  3                        & NA                        & 0.024                     & 27.5                      & 18.46574                 \\\\\n",
       "\\end{tabular}\n"
      ],
      "text/markdown": [
       "\n",
       "| id | year | weight | height | gender | age_yrs | ethn | educ | marital | income_class | poverty | citizenship | household | income_mid | poverty_class | years_USA_mid | lead_conc | age_class | BMI |\n",
       "|---|---|---|---|---|---|---|---|---|---|---|---|---|---|---|---|---|---|---|\n",
       "| 8594                      | 2000                      |  34.20                    | 141.2                     | F                         | 10                        | Mexican American          | NA                        | NA                        | NA                        |   NA                      | not_citizen               | 7                         |     NA                    | NA                        | NA                        |    NA                     | 12.5                      | 17.15366                  |\n",
       "| 8073                      | 2000                      |  83.60                    | 167.0                     | F                         | 19                        | Mexican American          | NA                        | Never married             | 15,000 to 19,999          | 1.56                      | citizen                   | 2                         |  17500                    |  2                        | NA                        | 0.039                     | 17.5                      | 29.97598                  |\n",
       "| 1604                      | 2000                      |  55.20                    | 169.9                     | F                         | 47                        | Non-Hispanic White        | college graduate or above | Married                   | 75,000 and over           | 5.00                      | citizen                   | 5                         | 100000                    |  5                        | NA                        | 0.072                     | 47.5                      | 19.12284                  |\n",
       "| 7197                      | 2000                      |  64.70                    | 180.3                     | M                         | 63                        | Non-Hispanic Black        | 9-11th grade              | Separated                 | 5,000 to 9,999            | 0.62                      | citizen                   | 1                         |   7500                    |  1                        | NA                        | 0.531                     | 62.5                      | 19.90274                  |\n",
       "| 4492                      | 2000                      | 113.90                    | 173.2                     | F                         | 24                        | Mexican American          | High School               | Married                   | 35,000 to 44,999          | 3.38                      | citizen                   | 2                         |  40000                    |  4                        | NA                        | 0.014                     | 22.5                      | 37.96889                  |\n",
       "| 1443                      | 2000                      |  52.74                    | 169.0                     | F                         | 25                        | Non-Hispanic White        | some college or AA        | Married                   | 35,000 to 44,999          | 2.47                      | citizen                   | 3                         |  40000                    |  3                        | NA                        | 0.024                     | 27.5                      | 18.46574                  |\n",
       "\n"
      ],
      "text/plain": [
       "  id   year weight height gender age_yrs ethn              \n",
       "1 8594 2000  34.20 141.2  F      10      Mexican American  \n",
       "2 8073 2000  83.60 167.0  F      19      Mexican American  \n",
       "3 1604 2000  55.20 169.9  F      47      Non-Hispanic White\n",
       "4 7197 2000  64.70 180.3  M      63      Non-Hispanic Black\n",
       "5 4492 2000 113.90 173.2  F      24      Mexican American  \n",
       "6 1443 2000  52.74 169.0  F      25      Non-Hispanic White\n",
       "  educ                      marital       income_class     poverty citizenship\n",
       "1 NA                        NA            NA                 NA    not_citizen\n",
       "2 NA                        Never married 15,000 to 19,999 1.56    citizen    \n",
       "3 college graduate or above Married       75,000 and over  5.00    citizen    \n",
       "4 9-11th grade              Separated     5,000 to 9,999   0.62    citizen    \n",
       "5 High School               Married       35,000 to 44,999 3.38    citizen    \n",
       "6 some college or AA        Married       35,000 to 44,999 2.47    citizen    \n",
       "  household income_mid poverty_class years_USA_mid lead_conc age_class BMI     \n",
       "1 7             NA     NA            NA               NA     12.5      17.15366\n",
       "2 2          17500      2            NA            0.039     17.5      29.97598\n",
       "3 5         100000      5            NA            0.072     47.5      19.12284\n",
       "4 1           7500      1            NA            0.531     62.5      19.90274\n",
       "5 2          40000      4            NA            0.014     22.5      37.96889\n",
       "6 3          40000      3            NA            0.024     27.5      18.46574"
      ]
     },
     "metadata": {},
     "output_type": "display_data"
    }
   ],
   "source": [
    "nhanes$BMI <- nhanes$weight / ((nhanes$height)/100)^2\n",
    "head(nhanes)"
   ]
  },
  {
   "cell_type": "markdown",
   "metadata": {},
   "source": [
    "### Step 2: Select people >20 years old\n",
    "\n",
    "We’ll look at people from 20 years (because definitions of obesity is different for younger people) till 84 years old (because 85 years lumps all people of 85 and older). Create a new dataframe adults with only people in this age range."
   ]
  },
  {
   "cell_type": "code",
   "execution_count": 116,
   "metadata": {},
   "outputs": [
    {
     "data": {
      "text/html": [
       "<table>\n",
       "<thead><tr><th></th><th scope=col>id</th><th scope=col>year</th><th scope=col>weight</th><th scope=col>height</th><th scope=col>gender</th><th scope=col>age_yrs</th><th scope=col>ethn</th><th scope=col>educ</th><th scope=col>marital</th><th scope=col>income_class</th><th scope=col>poverty</th><th scope=col>citizenship</th><th scope=col>household</th><th scope=col>income_mid</th><th scope=col>poverty_class</th><th scope=col>years_USA_mid</th><th scope=col>lead_conc</th><th scope=col>age_class</th><th scope=col>BMI</th></tr></thead>\n",
       "<tbody>\n",
       "\t<tr><th scope=row>3</th><td>1604                     </td><td>2000                     </td><td> 55.20                   </td><td>169.9                    </td><td>F                        </td><td>47                       </td><td>Non-Hispanic White       </td><td>college graduate or above</td><td>Married                  </td><td>75,000 and over          </td><td>5.00                     </td><td>citizen                  </td><td>5                        </td><td>100000                   </td><td>5                        </td><td>NA                       </td><td>0.072                    </td><td>47.5                     </td><td>19.12284                 </td></tr>\n",
       "\t<tr><th scope=row>4</th><td>7197                     </td><td>2000                     </td><td> 64.70                   </td><td>180.3                    </td><td>M                        </td><td>63                       </td><td>Non-Hispanic Black       </td><td>9-11th grade             </td><td>Separated                </td><td>5,000 to 9,999           </td><td>0.62                     </td><td>citizen                  </td><td>1                        </td><td>  7500                   </td><td>1                        </td><td>NA                       </td><td>0.531                    </td><td>62.5                     </td><td>19.90274                 </td></tr>\n",
       "\t<tr><th scope=row>5</th><td>4492                     </td><td>2000                     </td><td>113.90                   </td><td>173.2                    </td><td>F                        </td><td>24                       </td><td>Mexican American         </td><td>High School              </td><td>Married                  </td><td>35,000 to 44,999         </td><td>3.38                     </td><td>citizen                  </td><td>2                        </td><td> 40000                   </td><td>4                        </td><td>NA                       </td><td>0.014                    </td><td>22.5                     </td><td>37.96889                 </td></tr>\n",
       "\t<tr><th scope=row>6</th><td>1443                     </td><td>2000                     </td><td> 52.74                   </td><td>169.0                    </td><td>F                        </td><td>25                       </td><td>Non-Hispanic White       </td><td>some college or AA       </td><td>Married                  </td><td>35,000 to 44,999         </td><td>2.47                     </td><td>citizen                  </td><td>3                        </td><td> 40000                   </td><td>3                        </td><td>NA                       </td><td>0.024                    </td><td>27.5                     </td><td>18.46574                 </td></tr>\n",
       "\t<tr><th scope=row>8</th><td>5341                                                                </td><td>2000                                                                </td><td> 96.30                                                              </td><td>179.5                                                               </td><td>M                                                                   </td><td>50                                                                  </td><td><span style=white-space:pre-wrap>Other Hispanic    </span>          </td><td><span style=white-space:pre-wrap>&lt; 9th grade              </span></td><td>Never married                                                       </td><td>20,000 to 24,999                                                    </td><td>0.96                                                                </td><td>not_citizen                                                         </td><td>2                                                                   </td><td> 22500                                                              </td><td>1                                                                   </td><td>25                                                                  </td><td>0.077                                                               </td><td>52.5                                                                </td><td>29.88804                                                            </td></tr>\n",
       "\t<tr><th scope=row>9</th><td>5286                                                                </td><td>2000                                                                </td><td> 51.40                                                              </td><td>156.4                                                               </td><td>M                                                                   </td><td>78                                                                  </td><td><span style=white-space:pre-wrap>Mexican American  </span>          </td><td><span style=white-space:pre-wrap>&lt; 9th grade              </span></td><td><span style=white-space:pre-wrap>NA           </span>               </td><td>35,000 to 44,999                                                    </td><td>3.48                                                                </td><td>not_citizen                                                         </td><td>2                                                                   </td><td> 40000                                                              </td><td>4                                                                   </td><td>75                                                                  </td><td>0.111                                                               </td><td>77.5                                                                </td><td>21.01308                                                            </td></tr>\n",
       "</tbody>\n",
       "</table>\n"
      ],
      "text/latex": [
       "\\begin{tabular}{r|lllllllllllllllllll}\n",
       "  & id & year & weight & height & gender & age\\_yrs & ethn & educ & marital & income\\_class & poverty & citizenship & household & income\\_mid & poverty\\_class & years\\_USA\\_mid & lead\\_conc & age\\_class & BMI\\\\\n",
       "\\hline\n",
       "\t3 & 1604                      & 2000                      &  55.20                    & 169.9                     & F                         & 47                        & Non-Hispanic White        & college graduate or above & Married                   & 75,000 and over           & 5.00                      & citizen                   & 5                         & 100000                    & 5                         & NA                        & 0.072                     & 47.5                      & 19.12284                 \\\\\n",
       "\t4 & 7197                      & 2000                      &  64.70                    & 180.3                     & M                         & 63                        & Non-Hispanic Black        & 9-11th grade              & Separated                 & 5,000 to 9,999            & 0.62                      & citizen                   & 1                         &   7500                    & 1                         & NA                        & 0.531                     & 62.5                      & 19.90274                 \\\\\n",
       "\t5 & 4492                      & 2000                      & 113.90                    & 173.2                     & F                         & 24                        & Mexican American          & High School               & Married                   & 35,000 to 44,999          & 3.38                      & citizen                   & 2                         &  40000                    & 4                         & NA                        & 0.014                     & 22.5                      & 37.96889                 \\\\\n",
       "\t6 & 1443                      & 2000                      &  52.74                    & 169.0                     & F                         & 25                        & Non-Hispanic White        & some college or AA        & Married                   & 35,000 to 44,999          & 2.47                      & citizen                   & 3                         &  40000                    & 3                         & NA                        & 0.024                     & 27.5                      & 18.46574                 \\\\\n",
       "\t8 & 5341                      & 2000                      &  96.30                    & 179.5                     & M                         & 50                        & Other Hispanic            & < 9th grade               & Never married             & 20,000 to 24,999          & 0.96                      & not\\_citizen             & 2                         &  22500                    & 1                         & 25                        & 0.077                     & 52.5                      & 29.88804                 \\\\\n",
       "\t9 & 5286                      & 2000                      &  51.40                    & 156.4                     & M                         & 78                        & Mexican American          & < 9th grade               & NA                        & 35,000 to 44,999          & 3.48                      & not\\_citizen             & 2                         &  40000                    & 4                         & 75                        & 0.111                     & 77.5                      & 21.01308                 \\\\\n",
       "\\end{tabular}\n"
      ],
      "text/markdown": [
       "\n",
       "| <!--/--> | id | year | weight | height | gender | age_yrs | ethn | educ | marital | income_class | poverty | citizenship | household | income_mid | poverty_class | years_USA_mid | lead_conc | age_class | BMI |\n",
       "|---|---|---|---|---|---|---|---|---|---|---|---|---|---|---|---|---|---|---|---|\n",
       "| 3 | 1604                      | 2000                      |  55.20                    | 169.9                     | F                         | 47                        | Non-Hispanic White        | college graduate or above | Married                   | 75,000 and over           | 5.00                      | citizen                   | 5                         | 100000                    | 5                         | NA                        | 0.072                     | 47.5                      | 19.12284                  |\n",
       "| 4 | 7197                      | 2000                      |  64.70                    | 180.3                     | M                         | 63                        | Non-Hispanic Black        | 9-11th grade              | Separated                 | 5,000 to 9,999            | 0.62                      | citizen                   | 1                         |   7500                    | 1                         | NA                        | 0.531                     | 62.5                      | 19.90274                  |\n",
       "| 5 | 4492                      | 2000                      | 113.90                    | 173.2                     | F                         | 24                        | Mexican American          | High School               | Married                   | 35,000 to 44,999          | 3.38                      | citizen                   | 2                         |  40000                    | 4                         | NA                        | 0.014                     | 22.5                      | 37.96889                  |\n",
       "| 6 | 1443                      | 2000                      |  52.74                    | 169.0                     | F                         | 25                        | Non-Hispanic White        | some college or AA        | Married                   | 35,000 to 44,999          | 2.47                      | citizen                   | 3                         |  40000                    | 3                         | NA                        | 0.024                     | 27.5                      | 18.46574                  |\n",
       "| 8 | 5341                      | 2000                      |  96.30                    | 179.5                     | M                         | 50                        | Other Hispanic            | < 9th grade               | Never married             | 20,000 to 24,999          | 0.96                      | not_citizen               | 2                         |  22500                    | 1                         | 25                        | 0.077                     | 52.5                      | 29.88804                  |\n",
       "| 9 | 5286                      | 2000                      |  51.40                    | 156.4                     | M                         | 78                        | Mexican American          | < 9th grade               | NA                        | 35,000 to 44,999          | 3.48                      | not_citizen               | 2                         |  40000                    | 4                         | 75                        | 0.111                     | 77.5                      | 21.01308                  |\n",
       "\n"
      ],
      "text/plain": [
       "  id   year weight height gender age_yrs ethn              \n",
       "3 1604 2000  55.20 169.9  F      47      Non-Hispanic White\n",
       "4 7197 2000  64.70 180.3  M      63      Non-Hispanic Black\n",
       "5 4492 2000 113.90 173.2  F      24      Mexican American  \n",
       "6 1443 2000  52.74 169.0  F      25      Non-Hispanic White\n",
       "8 5341 2000  96.30 179.5  M      50      Other Hispanic    \n",
       "9 5286 2000  51.40 156.4  M      78      Mexican American  \n",
       "  educ                      marital       income_class     poverty citizenship\n",
       "3 college graduate or above Married       75,000 and over  5.00    citizen    \n",
       "4 9-11th grade              Separated     5,000 to 9,999   0.62    citizen    \n",
       "5 High School               Married       35,000 to 44,999 3.38    citizen    \n",
       "6 some college or AA        Married       35,000 to 44,999 2.47    citizen    \n",
       "8 < 9th grade               Never married 20,000 to 24,999 0.96    not_citizen\n",
       "9 < 9th grade               NA            35,000 to 44,999 3.48    not_citizen\n",
       "  household income_mid poverty_class years_USA_mid lead_conc age_class BMI     \n",
       "3 5         100000     5             NA            0.072     47.5      19.12284\n",
       "4 1           7500     1             NA            0.531     62.5      19.90274\n",
       "5 2          40000     4             NA            0.014     22.5      37.96889\n",
       "6 3          40000     3             NA            0.024     27.5      18.46574\n",
       "8 2          22500     1             25            0.077     52.5      29.88804\n",
       "9 2          40000     4             75            0.111     77.5      21.01308"
      ]
     },
     "metadata": {},
     "output_type": "display_data"
    }
   ],
   "source": [
    "adults <- nhanes[which(nhanes$age_yrs > 19 & nhanes$age_yrs < 85), ]\n",
    "head(adults)"
   ]
  },
  {
   "cell_type": "markdown",
   "metadata": {},
   "source": [
    "### Step 3: How many NAs do we have in the column bmi?"
   ]
  },
  {
   "cell_type": "code",
   "execution_count": 117,
   "metadata": {},
   "outputs": [
    {
     "data": {
      "text/html": [
       "139"
      ],
      "text/latex": [
       "139"
      ],
      "text/markdown": [
       "139"
      ],
      "text/plain": [
       "[1] 139"
      ]
     },
     "metadata": {},
     "output_type": "display_data"
    }
   ],
   "source": [
    "totalsum <- sum(is.na(adults$BMI))\n",
    "totalsum"
   ]
  },
  {
   "cell_type": "markdown",
   "metadata": {},
   "source": [
    "### Step 4: Estimate the bmi statistics BMI of women in the 2000 survey\n",
    "\n",
    "Calculate the mean, standard deviation, first, second, third quartile, IQR, min and max of the BMI of women in the 2000 survey."
   ]
  },
  {
   "cell_type": "code",
   "execution_count": 118,
   "metadata": {},
   "outputs": [
    {
     "data": {
      "text/plain": [
       "   Min. 1st Qu.  Median    Mean 3rd Qu.    Max.    NA's \n",
       "  12.04   24.11   27.93   29.11   32.94   66.44      23 "
      ]
     },
     "metadata": {},
     "output_type": "display_data"
    }
   ],
   "source": [
    "# EASY WAY\n",
    "vector1 <- summary(adults$BMI[adults$gender == \"F\"  & adults$year == 2000])\n",
    "vector1"
   ]
  },
  {
   "cell_type": "markdown",
   "metadata": {},
   "source": [
    "### Step 5: Estimate the bmi statistics BMI of women in the 2018 survey"
   ]
  },
  {
   "cell_type": "code",
   "execution_count": 119,
   "metadata": {},
   "outputs": [
    {
     "data": {
      "text/plain": [
       "   Min. 1st Qu.  Median    Mean 3rd Qu.    Max.    NA's \n",
       "  14.20   24.54   28.88   30.29   34.50   84.40      42 "
      ]
     },
     "metadata": {},
     "output_type": "display_data"
    }
   ],
   "source": [
    "# EASY WAY\n",
    "vector2 <- summary(adults$BMI[adults$gender == \"F\"  & adults$year == 2018])\n",
    "vector2"
   ]
  },
  {
   "cell_type": "code",
   "execution_count": 120,
   "metadata": {},
   "outputs": [
    {
     "data": {
      "text/html": [
       "<table>\n",
       "<thead><tr><th></th><th scope=col>Year_2000</th><th scope=col>Year_2018</th></tr></thead>\n",
       "<tbody>\n",
       "\t<tr><th scope=row>min</th><td>12.04273</td><td>14.20340</td></tr>\n",
       "\t<tr><th scope=row>Q1</th><td>24.10678</td><td>24.54214</td></tr>\n",
       "\t<tr><th scope=row>median/Q2</th><td>27.93005</td><td>28.88355</td></tr>\n",
       "\t<tr><th scope=row>mean</th><td>29.11135</td><td>30.28845</td></tr>\n",
       "\t<tr><th scope=row>Q3</th><td>32.94270</td><td>34.49625</td></tr>\n",
       "\t<tr><th scope=row>max</th><td>66.43684</td><td>84.40411</td></tr>\n",
       "</tbody>\n",
       "</table>\n"
      ],
      "text/latex": [
       "\\begin{tabular}{r|ll}\n",
       "  & Year\\_2000 & Year\\_2018\\\\\n",
       "\\hline\n",
       "\tmin & 12.04273 & 14.20340\\\\\n",
       "\tQ1 & 24.10678 & 24.54214\\\\\n",
       "\tmedian/Q2 & 27.93005 & 28.88355\\\\\n",
       "\tmean & 29.11135 & 30.28845\\\\\n",
       "\tQ3 & 32.94270 & 34.49625\\\\\n",
       "\tmax & 66.43684 & 84.40411\\\\\n",
       "\\end{tabular}\n"
      ],
      "text/markdown": [
       "\n",
       "| <!--/--> | Year_2000 | Year_2018 |\n",
       "|---|---|---|\n",
       "| min | 12.04273 | 14.20340 |\n",
       "| Q1 | 24.10678 | 24.54214 |\n",
       "| median/Q2 | 27.93005 | 28.88355 |\n",
       "| mean | 29.11135 | 30.28845 |\n",
       "| Q3 | 32.94270 | 34.49625 |\n",
       "| max | 66.43684 | 84.40411 |\n",
       "\n"
      ],
      "text/plain": [
       "          Year_2000 Year_2018\n",
       "min       12.04273  14.20340 \n",
       "Q1        24.10678  24.54214 \n",
       "median/Q2 27.93005  28.88355 \n",
       "mean      29.11135  30.28845 \n",
       "Q3        32.94270  34.49625 \n",
       "max       66.43684  84.40411 "
      ]
     },
     "metadata": {},
     "output_type": "display_data"
    }
   ],
   "source": [
    "# Create a table\n",
    "\n",
    "df <- data.frame(matrix(ncol = 2, nrow = 6))\n",
    "\n",
    "row_names <- c(\"min\", \"Q1\", \"median/Q2\", \"mean\", \"Q3\", \"max\")\n",
    "col_names <- c(\"Year_2000\", \"Year_2018\")\n",
    "\n",
    "rownames(df) <- row_names\n",
    "colnames(df) <- col_names\n",
    "\n",
    "for (i in 1:6) {\n",
    "    df$Year_2000[i] <- vector1[i]\n",
    "    df$Year_2018[i] <- vector2[i]\n",
    "}\n",
    "df"
   ]
  },
  {
   "cell_type": "markdown",
   "metadata": {},
   "source": [
    "### Step 6: Remove all rows with NA in the column bmi from the dataset adults"
   ]
  },
  {
   "cell_type": "code",
   "execution_count": 121,
   "metadata": {},
   "outputs": [
    {
     "data": {
      "text/html": [
       "FALSE"
      ],
      "text/latex": [
       "FALSE"
      ],
      "text/markdown": [
       "FALSE"
      ],
      "text/plain": [
       "[1] FALSE"
      ]
     },
     "metadata": {},
     "output_type": "display_data"
    }
   ],
   "source": [
    "adults <- adults[!is.na(adults$BMI), ]\n",
    "any(is.na(adults$BMI))"
   ]
  },
  {
   "cell_type": "markdown",
   "metadata": {},
   "source": [
    "### Step 7: Use boxplots to examine the distribution of bmi values\n",
    "\n",
    "Use boxplots to compare how the distribution of bmi varies with the age of the male participants and how the distribution of bmi changed from 2000 to 2018. Start with creating separate data frames for each survey year, with in both cases only data for males. If you use the function which() as part of your subsetting, all NAs are removed (To convince yourself, compare the code with and without which())"
   ]
  },
  {
   "cell_type": "code",
   "execution_count": 122,
   "metadata": {},
   "outputs": [],
   "source": [
    "male_adults_2000 <- adults[which(adults$gender == \"M\" & adults$year == 2000), ]\n",
    "\n",
    "male_adults_2018 <- adults[which(adults$gender == \"M\" & adults$year == 2018), ]"
   ]
  },
  {
   "cell_type": "markdown",
   "metadata": {},
   "source": [
    "Now use boxplots to assess to what extent BMI differs between census years (‘year’) and with age. We’ll use 5-year age classes (‘age_class’) to get larger sample size per age class and reduce the variability a bit. The values in the column ‘age_class’ are the midpoints of the 5-year age ranges. Plot the two graphs above each other in one graphical display. Make sure the range of values oin the y-axis is the same."
   ]
  },
  {
   "cell_type": "code",
   "execution_count": 123,
   "metadata": {},
   "outputs": [
    {
     "data": {
      "image/png": "[encoded data removed]",
      "text/plain": [
       "Plot with title \"Year 2018 BMI against Age\""
      ]
     },
     "metadata": {},
     "output_type": "display_data"
    }
   ],
   "source": [
    "par(mfrow = c(2, 1))\n",
    "\n",
    "boxplot(male_adults_2000$BMI ~ male_adults_2000$age_class,\n",
    "       main = \"Year 2000 BMI against Age\")\n",
    "\n",
    "boxplot(male_adults_2018$BMI ~ male_adults_2018$age_class,\n",
    "       main = \"Year 2018 BMI against Age\")\n",
    "\n",
    "par(mfrow = c(1, 1))"
   ]
  },
  {
   "cell_type": "markdown",
   "metadata": {},
   "source": [
    "There seem to be some differences between years, and some age trend, but the differences in the medians among groups are very limited compared with the variation within each of these groups (Boxplots do a good job showing just that, think about the air pollution assignment from a few weeks ago).\n",
    "\n",
    "Let’s now examine to what extent the level of obesity (% of people with a bmi > 30) differs among age classes and the extent to which levels of obesity changed from 2000 till 2018. Calculate per 1-year age class the percentage of people that are obese (bmi > 30)."
   ]
  },
  {
   "cell_type": "markdown",
   "metadata": {},
   "source": [
    "### Step 8: Calculate the number of >20 year old men per age class\n",
    "\n",
    "Use table() to get the number of men in each age class, separately for 2000 and 2018."
   ]
  },
  {
   "cell_type": "code",
   "execution_count": 135,
   "metadata": {},
   "outputs": [
    {
     "name": "stdout",
     "output_type": "stream",
     "text": [
      "[1] \"Year 2000:\"\n"
     ]
    },
    {
     "data": {
      "text/plain": [
       "\n",
       "22.5 27.5 32.5 37.5 42.5 47.5 52.5 57.5 62.5 67.5 72.5 77.5 82.5 \n",
       " 154  148  161  166  182  132  141  110  186  164  143  105   85 "
      ]
     },
     "metadata": {},
     "output_type": "display_data"
    },
    {
     "name": "stdout",
     "output_type": "stream",
     "text": [
      "[1] \"Year 2018:\"\n"
     ]
    },
    {
     "data": {
      "text/plain": [
       "\n",
       "22.5 27.5 32.5 37.5 42.5 47.5 52.5 57.5 62.5 67.5 72.5 77.5 82.5 \n",
       " 185  186  195  163  175  191  195  209  310  217  181  115  171 "
      ]
     },
     "metadata": {},
     "output_type": "display_data"
    }
   ],
   "source": [
    "print(\"Year 2000:\")\n",
    "table1 <- table(male_adults_2000$age_class)\n",
    "table1\n",
    "\n",
    "print(\"Year 2018:\")\n",
    "table2 <- table(male_adults_2018$age_class)\n",
    "table2"
   ]
  },
  {
   "cell_type": "markdown",
   "metadata": {},
   "source": [
    "### Step 9: Get the number of obese men in each age class\n",
    "\n",
    "Subset the data frames adult_2000_men and adult_2018_men for men with bmi >= 30 and then use table() to get the number of obese men in each age class, separately for 2000 and 2018."
   ]
  },
  {
   "cell_type": "code",
   "execution_count": 138,
   "metadata": {},
   "outputs": [
    {
     "data": {
      "text/plain": [
       "\n",
       "22.5 27.5 32.5 37.5 42.5 47.5 52.5 57.5 62.5 67.5 72.5 77.5 82.5 \n",
       "  27   32   45   49   54   32   47   29   64   59   39   27    8 "
      ]
     },
     "metadata": {},
     "output_type": "display_data"
    },
    {
     "data": {
      "text/plain": [
       "\n",
       "22.5 27.5 32.5 37.5 42.5 47.5 52.5 57.5 62.5 67.5 72.5 77.5 82.5 \n",
       "  59   74   90   62   81   83   89   82  114   87   75   43   43 "
      ]
     },
     "metadata": {},
     "output_type": "display_data"
    }
   ],
   "source": [
    "male_adults_2000_new <- male_adults_2000[male_adults_2000$BMI >= 30, ]\n",
    "\n",
    "male_adults_2018_new <- male_adults_2018[male_adults_2018$BMI >= 30, ]\n",
    "\n",
    "table1_new <- table(male_adults_2000_new$age_class)\n",
    "table1_new\n",
    "\n",
    "table2_new <- table(male_adults_2018_new$age_class)\n",
    "table2_new"
   ]
  },
  {
   "cell_type": "markdown",
   "metadata": {},
   "source": [
    "### Step 10: Calculate for each age class the percentage of men with a bmi >= 30.\n",
    "\n",
    "Do this separately for the 2000 and the 2018 data, using the tables you created in steps 8 and 9. (Hint: you can perform element-wise arithmetic on R tables.)."
   ]
  },
  {
   "cell_type": "code",
   "execution_count": 142,
   "metadata": {},
   "outputs": [
    {
     "data": {
      "text/html": [
       "<table>\n",
       "<thead><tr><th></th><th scope=col>Year2000</th><th scope=col>Year2018</th></tr></thead>\n",
       "<tbody>\n",
       "\t<tr><th scope=row>22.5</th><td>17.532468</td><td>31.89189 </td></tr>\n",
       "\t<tr><th scope=row>27.5</th><td>21.621622</td><td>39.78495 </td></tr>\n",
       "\t<tr><th scope=row>32.5</th><td>27.950311</td><td>46.15385 </td></tr>\n",
       "\t<tr><th scope=row>37.5</th><td>29.518072</td><td>38.03681 </td></tr>\n",
       "\t<tr><th scope=row>42.5</th><td>29.670330</td><td>46.28571 </td></tr>\n",
       "\t<tr><th scope=row>47.5</th><td>24.242424</td><td>43.45550 </td></tr>\n",
       "\t<tr><th scope=row>52.5</th><td>33.333333</td><td>45.64103 </td></tr>\n",
       "\t<tr><th scope=row>57.5</th><td>26.363636</td><td>39.23445 </td></tr>\n",
       "\t<tr><th scope=row>62.5</th><td>34.408602</td><td>36.77419 </td></tr>\n",
       "\t<tr><th scope=row>67.5</th><td>35.975610</td><td>40.09217 </td></tr>\n",
       "\t<tr><th scope=row>72.5</th><td>27.272727</td><td>41.43646 </td></tr>\n",
       "\t<tr><th scope=row>77.5</th><td>25.714286</td><td>37.39130 </td></tr>\n",
       "\t<tr><th scope=row>82.5</th><td> 9.411765</td><td>25.14620 </td></tr>\n",
       "</tbody>\n",
       "</table>\n"
      ],
      "text/latex": [
       "\\begin{tabular}{r|ll}\n",
       "  & Year2000 & Year2018\\\\\n",
       "\\hline\n",
       "\t22.5 & 17.532468 & 31.89189 \\\\\n",
       "\t27.5 & 21.621622 & 39.78495 \\\\\n",
       "\t32.5 & 27.950311 & 46.15385 \\\\\n",
       "\t37.5 & 29.518072 & 38.03681 \\\\\n",
       "\t42.5 & 29.670330 & 46.28571 \\\\\n",
       "\t47.5 & 24.242424 & 43.45550 \\\\\n",
       "\t52.5 & 33.333333 & 45.64103 \\\\\n",
       "\t57.5 & 26.363636 & 39.23445 \\\\\n",
       "\t62.5 & 34.408602 & 36.77419 \\\\\n",
       "\t67.5 & 35.975610 & 40.09217 \\\\\n",
       "\t72.5 & 27.272727 & 41.43646 \\\\\n",
       "\t77.5 & 25.714286 & 37.39130 \\\\\n",
       "\t82.5 &  9.411765 & 25.14620 \\\\\n",
       "\\end{tabular}\n"
      ],
      "text/markdown": [
       "\n",
       "| <!--/--> | Year2000 | Year2018 |\n",
       "|---|---|---|\n",
       "| 22.5 | 17.532468 | 31.89189  |\n",
       "| 27.5 | 21.621622 | 39.78495  |\n",
       "| 32.5 | 27.950311 | 46.15385  |\n",
       "| 37.5 | 29.518072 | 38.03681  |\n",
       "| 42.5 | 29.670330 | 46.28571  |\n",
       "| 47.5 | 24.242424 | 43.45550  |\n",
       "| 52.5 | 33.333333 | 45.64103  |\n",
       "| 57.5 | 26.363636 | 39.23445  |\n",
       "| 62.5 | 34.408602 | 36.77419  |\n",
       "| 67.5 | 35.975610 | 40.09217  |\n",
       "| 72.5 | 27.272727 | 41.43646  |\n",
       "| 77.5 | 25.714286 | 37.39130  |\n",
       "| 82.5 |  9.411765 | 25.14620  |\n",
       "\n"
      ],
      "text/plain": [
       "     Year2000  Year2018\n",
       "22.5 17.532468 31.89189\n",
       "27.5 21.621622 39.78495\n",
       "32.5 27.950311 46.15385\n",
       "37.5 29.518072 38.03681\n",
       "42.5 29.670330 46.28571\n",
       "47.5 24.242424 43.45550\n",
       "52.5 33.333333 45.64103\n",
       "57.5 26.363636 39.23445\n",
       "62.5 34.408602 36.77419\n",
       "67.5 35.975610 40.09217\n",
       "72.5 27.272727 41.43646\n",
       "77.5 25.714286 37.39130\n",
       "82.5  9.411765 25.14620"
      ]
     },
     "metadata": {},
     "output_type": "display_data"
    },
    {
     "data": {
      "text/plain": [
       "\n",
       "     22.5      27.5      32.5      37.5      42.5      47.5      52.5      57.5 \n",
       "17.532468 21.621622 27.950311 29.518072 29.670330 24.242424 33.333333 26.363636 \n",
       "     62.5      67.5      72.5      77.5      82.5 \n",
       "34.408602 35.975610 27.272727 25.714286  9.411765 "
      ]
     },
     "metadata": {},
     "output_type": "display_data"
    },
    {
     "data": {
      "text/plain": [
       "\n",
       "    22.5     27.5     32.5     37.5     42.5     47.5     52.5     57.5 \n",
       "31.89189 39.78495 46.15385 38.03681 46.28571 43.45550 45.64103 39.23445 \n",
       "    62.5     67.5     72.5     77.5     82.5 \n",
       "36.77419 40.09217 41.43646 37.39130 25.14620 "
      ]
     },
     "metadata": {},
     "output_type": "display_data"
    }
   ],
   "source": [
    "df <- data.frame(matrix(ncol = 2, nrow = 13))\n",
    "\n",
    "colnames <- sort(unique(male_adults_2000$age_class, na.rm = TRUE))\n",
    "\n",
    "rownames(df) <- sort(unique(male_adults_2000$age_class, na.rm = TRUE))\n",
    "colnames(df) <- c(\"Year2000\", \"Year2018\")\n",
    "\n",
    "for (i in 1:13) {\n",
    "    df$Year2000[i] <- table1_new[i] / sum(male_adults_2000$age_class == colnames[i], na.rm = TRUE) * 100\n",
    "    df$Year2018[i] <- table2_new[i] / sum(male_adults_2018$age_class == colnames[i], na.rm = TRUE) * 100\n",
    "}\n",
    "df\n",
    "\n",
    "# OTHERWISE, THIS CAN ALSO BE TRIED\n",
    "\n",
    "table3 <- table1_new / table1 * 100\n",
    "table3\n",
    "\n",
    "table4 <- table2_new / table2 * 100\n",
    "table4"
   ]
  },
  {
   "cell_type": "markdown",
   "metadata": {},
   "source": [
    "### Step 11: Plot the percentage of people that are obese as function of age_class in a scatter plot.\n",
    "\n",
    "Use a different color for the points of each of the two years. Add for each year a lowess curve. Tip: Plot the points for one of the years, then add the points of the other year and finally add the lowess curves of both years. However, first get a list of the age classes, which you will use as x-variable"
   ]
  },
  {
   "cell_type": "code",
   "execution_count": 146,
   "metadata": {},
   "outputs": [
    {
     "data": {
      "text/html": [
       "<ol class=list-inline>\n",
       "\t<li>22.5</li>\n",
       "\t<li>27.5</li>\n",
       "\t<li>32.5</li>\n",
       "\t<li>37.5</li>\n",
       "\t<li>42.5</li>\n",
       "\t<li>47.5</li>\n",
       "\t<li>52.5</li>\n",
       "\t<li>57.5</li>\n",
       "\t<li>62.5</li>\n",
       "\t<li>67.5</li>\n",
       "\t<li>72.5</li>\n",
       "\t<li>77.5</li>\n",
       "\t<li>82.5</li>\n",
       "</ol>\n"
      ],
      "text/latex": [
       "\\begin{enumerate*}\n",
       "\\item 22.5\n",
       "\\item 27.5\n",
       "\\item 32.5\n",
       "\\item 37.5\n",
       "\\item 42.5\n",
       "\\item 47.5\n",
       "\\item 52.5\n",
       "\\item 57.5\n",
       "\\item 62.5\n",
       "\\item 67.5\n",
       "\\item 72.5\n",
       "\\item 77.5\n",
       "\\item 82.5\n",
       "\\end{enumerate*}\n"
      ],
      "text/markdown": [
       "1. 22.5\n",
       "2. 27.5\n",
       "3. 32.5\n",
       "4. 37.5\n",
       "5. 42.5\n",
       "6. 47.5\n",
       "7. 52.5\n",
       "8. 57.5\n",
       "9. 62.5\n",
       "10. 67.5\n",
       "11. 72.5\n",
       "12. 77.5\n",
       "13. 82.5\n",
       "\n",
       "\n"
      ],
      "text/plain": [
       " [1] 22.5 27.5 32.5 37.5 42.5 47.5 52.5 57.5 62.5 67.5 72.5 77.5 82.5"
      ]
     },
     "metadata": {},
     "output_type": "display_data"
    }
   ],
   "source": [
    "age_ranges <- sort(unique(male_adults_2000$age_class))\n",
    "age_ranges "
   ]
  },
  {
   "cell_type": "markdown",
   "metadata": {},
   "source": [
    "Then define highest and lowest percentages of obese men in any of the age classes across all years"
   ]
  },
  {
   "cell_type": "code",
   "execution_count": 158,
   "metadata": {},
   "outputs": [
    {
     "data": {
      "text/html": [
       "9.41176470588235"
      ],
      "text/latex": [
       "9.41176470588235"
      ],
      "text/markdown": [
       "9.41176470588235"
      ],
      "text/plain": [
       "[1] 9.411765"
      ]
     },
     "metadata": {},
     "output_type": "display_data"
    },
    {
     "data": {
      "text/html": [
       "46.2857142857143"
      ],
      "text/latex": [
       "46.2857142857143"
      ],
      "text/markdown": [
       "46.2857142857143"
      ],
      "text/plain": [
       "[1] 46.28571"
      ]
     },
     "metadata": {},
     "output_type": "display_data"
    }
   ],
   "source": [
    "min_obese <- min(table3, table4)\n",
    "min_obese\n",
    "max_obese <- max(table3, table4)\n",
    "max_obese"
   ]
  },
  {
   "cell_type": "markdown",
   "metadata": {},
   "source": [
    "And then finally plot the data"
   ]
  },
  {
   "cell_type": "code",
   "execution_count": 160,
   "metadata": {},
   "outputs": [
    {
     "data": {
      "image/png": "[encoded data removed]",
      "text/plain": [
       "Plot with title \"Blue = 2000, orange = 2018\""
      ]
     },
     "metadata": {},
     "output_type": "display_data"
    }
   ],
   "source": [
    "# plot(x, y, ...) where x and y are coordinates\n",
    "\n",
    "plot(age_ranges, table3, \n",
    "     ylim = c(min_obese, max_obese),\n",
    "     col  = \"deepskyblue\", \n",
    "     type = \"p\",\n",
    "     xlab = \"Age (midpoint 5-year age ranges)\",\n",
    "     ylab = \"percentage obese men\",\n",
    "     main = \"Blue = 2000, orange = 2018\", cex.main = 0.8)\n",
    "\n",
    "points(age_ranges, table4, col = \"coral\", type = \"p\")\n",
    "\n",
    "lines(lowess(age_ranges, table3), col=\"deepskyblue\")\n",
    "\n",
    "lines(lowess(age_ranges, table4), col=\"coral\")"
   ]
  },
  {
   "cell_type": "markdown",
   "metadata": {},
   "source": [
    "Conclusions? There seems to be an similar unimodal age-related trend, although prevalence of obesity shifted from men in their sixties towards men in their late thirties / early forties. Overall, the percentage of mean with obesity increased with around 10% over the 2000-2018 time interval!"
   ]
  }
 ],
 "metadata": {
  "kernelspec": {
   "display_name": "R",
   "language": "R",
   "name": "ir"
  },
  "language_info": {
   "codemirror_mode": "r",
   "file_extension": ".r",
   "mimetype": "text/x-r-source",
   "name": "R",
   "pygments_lexer": "r",
   "version": "3.6.1"
  }
 },
 "nbformat": 4,
 "nbformat_minor": 4
}
