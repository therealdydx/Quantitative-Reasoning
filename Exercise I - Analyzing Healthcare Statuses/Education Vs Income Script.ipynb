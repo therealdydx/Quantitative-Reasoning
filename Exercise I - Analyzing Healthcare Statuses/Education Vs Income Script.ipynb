{
 "cells": [
  {
   "cell_type": "markdown",
   "metadata": {},
   "source": [
    "# Exercise 9 – Using nhanes survey data to examine the link between education and income\n",
    "\n",
    "### Introduction\n",
    "\n",
    "Today, we will work with the National Health and Nutrition Examination Survey (nhanes) data from the USA National Center for Health Statistics (https://www.cdc.gov/nchs/nhanes/about_nhanes.htm). As preparation for today’s class, you already took a look at the data and explored the variables that will be used today. The objective of this activity is to practice the R coding skills you acquired over the last few weeks, and to prepare you for the midterm exam of coming Thursday. Therefore, try to work on this activity independently,\n",
    "save your script as a .R file and upload it to Canvas, export the graphs as .pdf files uploading them to Canvas as well.\n",
    "\n",
    "This activity includes more questions than you are expected to be able to answer during class. The rest of the questions can be used for extra practice at home. A .html document with solutions to all questions will be available at the end of the day so you will be able to check your answers."
   ]
  },
  {
   "cell_type": "code",
   "execution_count": 1,
   "metadata": {},
   "outputs": [],
   "source": [
    "nhanes <- read.csv(\"C:/Users/Admin/OneDrive/Documents/Yale-NUS/Quantitative Reasoning/Quantitative Reasoning Repository/Exercise 9 - Analyzing Healthcare Statuses/nhanes.csv\")"
   ]
  },
  {
   "cell_type": "markdown",
   "metadata": {},
   "source": [
    "### Challenge: Use the Nhanes survey data to examine the relationship between income and education.\n",
    "\n",
    "You just started college. For many of you, the idea that a better education augments the probability of landing a good paying job will have played at least some role in your decision to go to college, apart from the obvious fact that Yale-NUS is such a great place to be spending the coming 4 years of your life. There are many studies that provide support for the notion that income and level of education are positively correlated. On the other hand, students are taking out more and more loans to finance their studies, which often turns out to be a significant long-term financial burden. In this challenge, we will explore the Nhanes survey data from 2000 and 2018 to see if we can find support for the idea that higher education increases the probability that you will earn more later in life."
   ]
  },
  {
   "cell_type": "markdown",
   "metadata": {},
   "source": [
    "### Step 1: Check what the categories are for income and educational level."
   ]
  },
  {
   "cell_type": "code",
   "execution_count": 2,
   "metadata": {},
   "outputs": [
    {
     "data": {
      "text/html": [
       "<ol class=list-inline>\n",
       "\t<li>&lt;NA&gt;</li>\n",
       "\t<li>15,000 to 19,999</li>\n",
       "\t<li>75,000 and over</li>\n",
       "\t<li>5,000 to 9,999</li>\n",
       "\t<li>35,000 to 44,999</li>\n",
       "\t<li>Over 20,000</li>\n",
       "\t<li>20,000 to 24,999</li>\n",
       "\t<li>25,000 to 34,999</li>\n",
       "\t<li>65,000 to 74,999</li>\n",
       "\t<li>45,000 to 54,999</li>\n",
       "\t<li>10,000 to 14,999</li>\n",
       "\t<li>0 to 4,999</li>\n",
       "\t<li>55,000 to 64,999</li>\n",
       "\t<li>Under 20,000</li>\n",
       "</ol>\n",
       "\n",
       "<details>\n",
       "\t<summary style=display:list-item;cursor:pointer>\n",
       "\t\t<strong>Levels</strong>:\n",
       "\t</summary>\n",
       "\t<ol class=list-inline>\n",
       "\t\t<li>'0 to 4,999'</li>\n",
       "\t\t<li>'10,000 to 14,999'</li>\n",
       "\t\t<li>'15,000 to 19,999'</li>\n",
       "\t\t<li>'20,000 to 24,999'</li>\n",
       "\t\t<li>'25,000 to 34,999'</li>\n",
       "\t\t<li>'35,000 to 44,999'</li>\n",
       "\t\t<li>'45,000 to 54,999'</li>\n",
       "\t\t<li>'5,000 to 9,999'</li>\n",
       "\t\t<li>'55,000 to 64,999'</li>\n",
       "\t\t<li>'65,000 to 74,999'</li>\n",
       "\t\t<li>'75,000 and over'</li>\n",
       "\t\t<li>'Over 20,000'</li>\n",
       "\t\t<li>'Under 20,000'</li>\n",
       "\t</ol>\n",
       "</details>"
      ],
      "text/latex": [
       "\\begin{enumerate*}\n",
       "\\item <NA>\n",
       "\\item 15,000 to 19,999\n",
       "\\item 75,000 and over\n",
       "\\item 5,000 to 9,999\n",
       "\\item 35,000 to 44,999\n",
       "\\item Over 20,000\n",
       "\\item 20,000 to 24,999\n",
       "\\item 25,000 to 34,999\n",
       "\\item 65,000 to 74,999\n",
       "\\item 45,000 to 54,999\n",
       "\\item 10,000 to 14,999\n",
       "\\item 0 to 4,999\n",
       "\\item 55,000 to 64,999\n",
       "\\item Under 20,000\n",
       "\\end{enumerate*}\n",
       "\n",
       "\\emph{Levels}: \\begin{enumerate*}\n",
       "\\item '0 to 4,999'\n",
       "\\item '10,000 to 14,999'\n",
       "\\item '15,000 to 19,999'\n",
       "\\item '20,000 to 24,999'\n",
       "\\item '25,000 to 34,999'\n",
       "\\item '35,000 to 44,999'\n",
       "\\item '45,000 to 54,999'\n",
       "\\item '5,000 to 9,999'\n",
       "\\item '55,000 to 64,999'\n",
       "\\item '65,000 to 74,999'\n",
       "\\item '75,000 and over'\n",
       "\\item 'Over 20,000'\n",
       "\\item 'Under 20,000'\n",
       "\\end{enumerate*}\n"
      ],
      "text/markdown": [
       "1. &lt;NA&gt;\n",
       "2. 15,000 to 19,999\n",
       "3. 75,000 and over\n",
       "4. 5,000 to 9,999\n",
       "5. 35,000 to 44,999\n",
       "6. Over 20,000\n",
       "7. 20,000 to 24,999\n",
       "8. 25,000 to 34,999\n",
       "9. 65,000 to 74,999\n",
       "10. 45,000 to 54,999\n",
       "11. 10,000 to 14,999\n",
       "12. 0 to 4,999\n",
       "13. 55,000 to 64,999\n",
       "14. Under 20,000\n",
       "\n",
       "\n",
       "\n",
       "**Levels**: 1. '0 to 4,999'\n",
       "2. '10,000 to 14,999'\n",
       "3. '15,000 to 19,999'\n",
       "4. '20,000 to 24,999'\n",
       "5. '25,000 to 34,999'\n",
       "6. '35,000 to 44,999'\n",
       "7. '45,000 to 54,999'\n",
       "8. '5,000 to 9,999'\n",
       "9. '55,000 to 64,999'\n",
       "10. '65,000 to 74,999'\n",
       "11. '75,000 and over'\n",
       "12. 'Over 20,000'\n",
       "13. 'Under 20,000'\n",
       "\n",
       "\n"
      ],
      "text/plain": [
       " [1] <NA>             15,000 to 19,999 75,000 and over  5,000 to 9,999  \n",
       " [5] 35,000 to 44,999 Over 20,000      20,000 to 24,999 25,000 to 34,999\n",
       " [9] 65,000 to 74,999 45,000 to 54,999 10,000 to 14,999 0 to 4,999      \n",
       "[13] 55,000 to 64,999 Under 20,000    \n",
       "13 Levels: 0 to 4,999 10,000 to 14,999 15,000 to 19,999 ... Under 20,000"
      ]
     },
     "metadata": {},
     "output_type": "display_data"
    }
   ],
   "source": [
    "unique(nhanes$income_class)"
   ]
  },
  {
   "cell_type": "code",
   "execution_count": 3,
   "metadata": {},
   "outputs": [
    {
     "data": {
      "text/html": [
       "<ol class=list-inline>\n",
       "\t<li>&lt;NA&gt;</li>\n",
       "\t<li>college graduate or above</li>\n",
       "\t<li>9-11th grade</li>\n",
       "\t<li>High School</li>\n",
       "\t<li>some college or AA</li>\n",
       "\t<li>&lt; 9th grade</li>\n",
       "</ol>\n",
       "\n",
       "<details>\n",
       "\t<summary style=display:list-item;cursor:pointer>\n",
       "\t\t<strong>Levels</strong>:\n",
       "\t</summary>\n",
       "\t<ol class=list-inline>\n",
       "\t\t<li>'&lt; 9th grade'</li>\n",
       "\t\t<li>'9-11th grade'</li>\n",
       "\t\t<li>'college graduate or above'</li>\n",
       "\t\t<li>'High School'</li>\n",
       "\t\t<li>'some college or AA'</li>\n",
       "\t</ol>\n",
       "</details>"
      ],
      "text/latex": [
       "\\begin{enumerate*}\n",
       "\\item <NA>\n",
       "\\item college graduate or above\n",
       "\\item 9-11th grade\n",
       "\\item High School\n",
       "\\item some college or AA\n",
       "\\item < 9th grade\n",
       "\\end{enumerate*}\n",
       "\n",
       "\\emph{Levels}: \\begin{enumerate*}\n",
       "\\item '< 9th grade'\n",
       "\\item '9-11th grade'\n",
       "\\item 'college graduate or above'\n",
       "\\item 'High School'\n",
       "\\item 'some college or AA'\n",
       "\\end{enumerate*}\n"
      ],
      "text/markdown": [
       "1. &lt;NA&gt;\n",
       "2. college graduate or above\n",
       "3. 9-11th grade\n",
       "4. High School\n",
       "5. some college or AA\n",
       "6. &lt; 9th grade\n",
       "\n",
       "\n",
       "\n",
       "**Levels**: 1. '&lt; 9th grade'\n",
       "2. '9-11th grade'\n",
       "3. 'college graduate or above'\n",
       "4. 'High School'\n",
       "5. 'some college or AA'\n",
       "\n",
       "\n"
      ],
      "text/plain": [
       "[1] <NA>                      college graduate or above\n",
       "[3] 9-11th grade              High School              \n",
       "[5] some college or AA        < 9th grade              \n",
       "5 Levels: < 9th grade 9-11th grade college graduate or above ... some college or AA"
      ]
     },
     "metadata": {},
     "output_type": "display_data"
    }
   ],
   "source": [
    "unique(nhanes$educ)"
   ]
  },
  {
   "cell_type": "markdown",
   "metadata": {},
   "source": [
    "### Step 2: Make a new dataframe with variables and values we need"
   ]
  },
  {
   "cell_type": "markdown",
   "metadata": {},
   "source": [
    "Make a new data frame from which all NA in the columns educ and income_class are removed, and only the columns id, year, income_class, income_mid, and educ are included. Also, remove the income classes “Under 20,000” and “Over 20,000”."
   ]
  },
  {
   "cell_type": "code",
   "execution_count": 5,
   "metadata": {},
   "outputs": [],
   "source": [
    "# Remove NA values and include only these 5 columns\n",
    "income_educ <- nhanes[!is.na(nhanes$income_class) & !is.na(nhanes$educ),\n",
    "                      c(\"id\", \"year\", \"income_class\", \"income_mid\", \"educ\")]\n",
    "\n",
    "# Remove the income classes\n",
    "income_educ <- income_educ[income_educ$income_class != \"Under 20,000\" &\n",
    "                             income_educ$income_class != \"Over 20,000\", ]"
   ]
  },
  {
   "cell_type": "markdown",
   "metadata": {},
   "source": [
    "## Question 1: What is the proportion of people with at least a college degree in each of the income groups?"
   ]
  },
  {
   "cell_type": "markdown",
   "metadata": {},
   "source": [
    "### Step 1: Get the number of participants per income class\n",
    "\n",
    "Use the function table() to get the number of participants per income class. Use the variable income_mid instead of income_class, that will be easier for plotting later on."
   ]
  },
  {
   "cell_type": "code",
   "execution_count": 7,
   "metadata": {},
   "outputs": [
    {
     "data": {
      "text/plain": [
       "\n",
       "  2500   7500  12500  17500  22500  30000  40000  50000  60000  70000  87500 \n",
       "   210    428    601    594    625   1025    873    649    549    407    460 \n",
       "100000 \n",
       "  1491 "
      ]
     },
     "metadata": {},
     "output_type": "display_data"
    }
   ],
   "source": [
    "table_all_income <- table(income_educ$income_mid)\n",
    "table_all_income"
   ]
  },
  {
   "cell_type": "markdown",
   "metadata": {},
   "source": [
    "### Step 2: Use subsetting to create a new data frame coll_grads with only college graduates or above."
   ]
  },
  {
   "cell_type": "code",
   "execution_count": 8,
   "metadata": {},
   "outputs": [],
   "source": [
    "coll_grads <- income_educ[income_educ$educ == \"college graduate or above\", ]"
   ]
  },
  {
   "cell_type": "markdown",
   "metadata": {},
   "source": [
    "### Step 3: get the number of college graduates per income class\n",
    "\n",
    "Again use table() to get the number of college graduates per income class (use income_mid, as before)."
   ]
  },
  {
   "cell_type": "code",
   "execution_count": 9,
   "metadata": {},
   "outputs": [
    {
     "data": {
      "text/plain": [
       "\n",
       "  2500   7500  12500  17500  22500  30000  40000  50000  60000  70000  87500 \n",
       "    21     14     35     48     57    112    123    121    120    114    167 \n",
       "100000 \n",
       "   760 "
      ]
     },
     "metadata": {},
     "output_type": "display_data"
    }
   ],
   "source": [
    "table_coll_income <- table(coll_grads$income_mid)\n",
    "table_coll_income"
   ]
  },
  {
   "cell_type": "markdown",
   "metadata": {},
   "source": [
    "### Step 4: calculate the percentage of college graduates in each income class\n",
    "\n",
    "From the previous two tables, calculate the percentage of college graduates in each income class. (Hint: you can perform element-wise arithmetic on R tables.)"
   ]
  },
  {
   "cell_type": "code",
   "execution_count": 10,
   "metadata": {},
   "outputs": [
    {
     "data": {
      "text/plain": [
       "\n",
       "     2500      7500     12500     17500     22500     30000     40000     50000 \n",
       "10.000000  3.271028  5.823627  8.080808  9.120000 10.926829 14.089347 18.644068 \n",
       "    60000     70000     87500    100000 \n",
       "21.857923 28.009828 36.304348 50.972502 "
      ]
     },
     "metadata": {},
     "output_type": "display_data"
    }
   ],
   "source": [
    "table_perc_coll <- 100 * table_coll_income / table_all_income\n",
    "table_perc_coll"
   ]
  },
  {
   "cell_type": "markdown",
   "metadata": {},
   "source": [
    "### Step 5: plot the percentage of college graduates per income class.\n",
    "\n",
    "Finally, plot the results in a barplot, with percentage of college graduates per income class."
   ]
  },
  {
   "cell_type": "code",
   "execution_count": 11,
   "metadata": {},
   "outputs": [
    {
     "data": {
      "image/png": "[encoded data removed]",
      "text/plain": [
       "Plot with title \"% college graduates / income class\""
      ]
     },
     "metadata": {},
     "output_type": "display_data"
    }
   ],
   "source": [
    "barplot(table_perc_coll,\n",
    "        col = \"dodgerblue2\",\n",
    "        ylab=\"Percentage\",\n",
    "        xlab = \"Income class\",\n",
    "        main = \"% college graduates / income class\",\n",
    "        las = 2)\n",
    "grid()"
   ]
  },
  {
   "cell_type": "markdown",
   "metadata": {},
   "source": [
    "## Question 2: What is the proportion of people with an income of <= 20,000 in each of the educational levels?"
   ]
  },
  {
   "cell_type": "markdown",
   "metadata": {},
   "source": [
    "### Step 1: get the number of participants per educational level.\n",
    "\n",
    "Use table() to get the number of participants per educational level."
   ]
  },
  {
   "cell_type": "code",
   "execution_count": 12,
   "metadata": {},
   "outputs": [
    {
     "data": {
      "text/plain": [
       "\n",
       "              < 9th grade              9-11th grade college graduate or above \n",
       "                      933                      1157                      1692 \n",
       "              High School        some college or AA \n",
       "                     1862                      2268 "
      ]
     },
     "metadata": {},
     "output_type": "display_data"
    }
   ],
   "source": [
    "table_educ_all <- table(income_educ$educ)\n",
    "table_educ_all"
   ]
  },
  {
   "cell_type": "markdown",
   "metadata": {},
   "source": [
    "### Step 2: Create a new data frame with only lower-income participants\n",
    "\n",
    "Use subsetting to create a new data frame low_income with only participants with an income of 20,000 or below. First take again a good look at which income classes you need to include here first."
   ]
  },
  {
   "cell_type": "code",
   "execution_count": 14,
   "metadata": {},
   "outputs": [
    {
     "data": {
      "text/html": [
       "<ol class=list-inline>\n",
       "\t<li>0 to 4,999</li>\n",
       "\t<li>10,000 to 14,999</li>\n",
       "\t<li>15,000 to 19,999</li>\n",
       "\t<li>20,000 to 24,999</li>\n",
       "\t<li>25,000 to 34,999</li>\n",
       "\t<li>35,000 to 44,999</li>\n",
       "\t<li>45,000 to 54,999</li>\n",
       "\t<li>5,000 to 9,999</li>\n",
       "\t<li>55,000 to 64,999</li>\n",
       "\t<li>65,000 to 74,999</li>\n",
       "\t<li>75,000 and over</li>\n",
       "</ol>\n",
       "\n",
       "<details>\n",
       "\t<summary style=display:list-item;cursor:pointer>\n",
       "\t\t<strong>Levels</strong>:\n",
       "\t</summary>\n",
       "\t<ol class=list-inline>\n",
       "\t\t<li>'0 to 4,999'</li>\n",
       "\t\t<li>'10,000 to 14,999'</li>\n",
       "\t\t<li>'15,000 to 19,999'</li>\n",
       "\t\t<li>'20,000 to 24,999'</li>\n",
       "\t\t<li>'25,000 to 34,999'</li>\n",
       "\t\t<li>'35,000 to 44,999'</li>\n",
       "\t\t<li>'45,000 to 54,999'</li>\n",
       "\t\t<li>'5,000 to 9,999'</li>\n",
       "\t\t<li>'55,000 to 64,999'</li>\n",
       "\t\t<li>'65,000 to 74,999'</li>\n",
       "\t\t<li>'75,000 and over'</li>\n",
       "\t\t<li>'Over 20,000'</li>\n",
       "\t\t<li>'Under 20,000'</li>\n",
       "\t</ol>\n",
       "</details>"
      ],
      "text/latex": [
       "\\begin{enumerate*}\n",
       "\\item 0 to 4,999\n",
       "\\item 10,000 to 14,999\n",
       "\\item 15,000 to 19,999\n",
       "\\item 20,000 to 24,999\n",
       "\\item 25,000 to 34,999\n",
       "\\item 35,000 to 44,999\n",
       "\\item 45,000 to 54,999\n",
       "\\item 5,000 to 9,999\n",
       "\\item 55,000 to 64,999\n",
       "\\item 65,000 to 74,999\n",
       "\\item 75,000 and over\n",
       "\\end{enumerate*}\n",
       "\n",
       "\\emph{Levels}: \\begin{enumerate*}\n",
       "\\item '0 to 4,999'\n",
       "\\item '10,000 to 14,999'\n",
       "\\item '15,000 to 19,999'\n",
       "\\item '20,000 to 24,999'\n",
       "\\item '25,000 to 34,999'\n",
       "\\item '35,000 to 44,999'\n",
       "\\item '45,000 to 54,999'\n",
       "\\item '5,000 to 9,999'\n",
       "\\item '55,000 to 64,999'\n",
       "\\item '65,000 to 74,999'\n",
       "\\item '75,000 and over'\n",
       "\\item 'Over 20,000'\n",
       "\\item 'Under 20,000'\n",
       "\\end{enumerate*}\n"
      ],
      "text/markdown": [
       "1. 0 to 4,999\n",
       "2. 10,000 to 14,999\n",
       "3. 15,000 to 19,999\n",
       "4. 20,000 to 24,999\n",
       "5. 25,000 to 34,999\n",
       "6. 35,000 to 44,999\n",
       "7. 45,000 to 54,999\n",
       "8. 5,000 to 9,999\n",
       "9. 55,000 to 64,999\n",
       "10. 65,000 to 74,999\n",
       "11. 75,000 and over\n",
       "\n",
       "\n",
       "\n",
       "**Levels**: 1. '0 to 4,999'\n",
       "2. '10,000 to 14,999'\n",
       "3. '15,000 to 19,999'\n",
       "4. '20,000 to 24,999'\n",
       "5. '25,000 to 34,999'\n",
       "6. '35,000 to 44,999'\n",
       "7. '45,000 to 54,999'\n",
       "8. '5,000 to 9,999'\n",
       "9. '55,000 to 64,999'\n",
       "10. '65,000 to 74,999'\n",
       "11. '75,000 and over'\n",
       "12. 'Over 20,000'\n",
       "13. 'Under 20,000'\n",
       "\n",
       "\n"
      ],
      "text/plain": [
       " [1] 0 to 4,999       10,000 to 14,999 15,000 to 19,999 20,000 to 24,999\n",
       " [5] 25,000 to 34,999 35,000 to 44,999 45,000 to 54,999 5,000 to 9,999  \n",
       " [9] 55,000 to 64,999 65,000 to 74,999 75,000 and over \n",
       "13 Levels: 0 to 4,999 10,000 to 14,999 15,000 to 19,999 ... Under 20,000"
      ]
     },
     "metadata": {},
     "output_type": "display_data"
    }
   ],
   "source": [
    "sort(unique(income_educ$income_class))"
   ]
  },
  {
   "cell_type": "markdown",
   "metadata": {},
   "source": [
    "Now create a new data frame low_income with only participants with an income of 20,000 or below. Tip: You’ll need to subset 5 of the income categories, and you’ll need the | symbol (which stands for “or”)."
   ]
  },
  {
   "cell_type": "code",
   "execution_count": 19,
   "metadata": {},
   "outputs": [
    {
     "data": {
      "text/html": [
       "<ol class=list-inline>\n",
       "\t<li>0 to 4,999</li>\n",
       "\t<li>10,000 to 14,999</li>\n",
       "\t<li>15,000 to 19,999</li>\n",
       "\t<li>5,000 to 9,999</li>\n",
       "</ol>\n",
       "\n",
       "<details>\n",
       "\t<summary style=display:list-item;cursor:pointer>\n",
       "\t\t<strong>Levels</strong>:\n",
       "\t</summary>\n",
       "\t<ol class=list-inline>\n",
       "\t\t<li>'0 to 4,999'</li>\n",
       "\t\t<li>'10,000 to 14,999'</li>\n",
       "\t\t<li>'15,000 to 19,999'</li>\n",
       "\t\t<li>'20,000 to 24,999'</li>\n",
       "\t\t<li>'25,000 to 34,999'</li>\n",
       "\t\t<li>'35,000 to 44,999'</li>\n",
       "\t\t<li>'45,000 to 54,999'</li>\n",
       "\t\t<li>'5,000 to 9,999'</li>\n",
       "\t\t<li>'55,000 to 64,999'</li>\n",
       "\t\t<li>'65,000 to 74,999'</li>\n",
       "\t\t<li>'75,000 and over'</li>\n",
       "\t\t<li>'Over 20,000'</li>\n",
       "\t\t<li>'Under 20,000'</li>\n",
       "\t</ol>\n",
       "</details>"
      ],
      "text/latex": [
       "\\begin{enumerate*}\n",
       "\\item 0 to 4,999\n",
       "\\item 10,000 to 14,999\n",
       "\\item 15,000 to 19,999\n",
       "\\item 5,000 to 9,999\n",
       "\\end{enumerate*}\n",
       "\n",
       "\\emph{Levels}: \\begin{enumerate*}\n",
       "\\item '0 to 4,999'\n",
       "\\item '10,000 to 14,999'\n",
       "\\item '15,000 to 19,999'\n",
       "\\item '20,000 to 24,999'\n",
       "\\item '25,000 to 34,999'\n",
       "\\item '35,000 to 44,999'\n",
       "\\item '45,000 to 54,999'\n",
       "\\item '5,000 to 9,999'\n",
       "\\item '55,000 to 64,999'\n",
       "\\item '65,000 to 74,999'\n",
       "\\item '75,000 and over'\n",
       "\\item 'Over 20,000'\n",
       "\\item 'Under 20,000'\n",
       "\\end{enumerate*}\n"
      ],
      "text/markdown": [
       "1. 0 to 4,999\n",
       "2. 10,000 to 14,999\n",
       "3. 15,000 to 19,999\n",
       "4. 5,000 to 9,999\n",
       "\n",
       "\n",
       "\n",
       "**Levels**: 1. '0 to 4,999'\n",
       "2. '10,000 to 14,999'\n",
       "3. '15,000 to 19,999'\n",
       "4. '20,000 to 24,999'\n",
       "5. '25,000 to 34,999'\n",
       "6. '35,000 to 44,999'\n",
       "7. '45,000 to 54,999'\n",
       "8. '5,000 to 9,999'\n",
       "9. '55,000 to 64,999'\n",
       "10. '65,000 to 74,999'\n",
       "11. '75,000 and over'\n",
       "12. 'Over 20,000'\n",
       "13. 'Under 20,000'\n",
       "\n",
       "\n"
      ],
      "text/plain": [
       "[1] 0 to 4,999       10,000 to 14,999 15,000 to 19,999 5,000 to 9,999  \n",
       "13 Levels: 0 to 4,999 10,000 to 14,999 15,000 to 19,999 ... Under 20,000"
      ]
     },
     "metadata": {},
     "output_type": "display_data"
    },
    {
     "data": {
      "text/html": [
       "<table>\n",
       "<thead><tr><th></th><th scope=col>id</th><th scope=col>year</th><th scope=col>income_class</th><th scope=col>income_mid</th><th scope=col>educ</th></tr></thead>\n",
       "<tbody>\n",
       "\t<tr><th scope=row>4</th><td>7197              </td><td>2000              </td><td>5,000 to 9,999    </td><td> 7500             </td><td>9-11th grade      </td></tr>\n",
       "\t<tr><th scope=row>34</th><td>1080              </td><td>2000              </td><td>5,000 to 9,999    </td><td> 7500             </td><td>9-11th grade      </td></tr>\n",
       "\t<tr><th scope=row>41</th><td>2745                                                         </td><td>2000                                                         </td><td>15,000 to 19,999                                             </td><td>17500                                                        </td><td><span style=white-space:pre-wrap>&lt; 9th grade       </span></td></tr>\n",
       "\t<tr><th scope=row>60</th><td> 773              </td><td>2000              </td><td>10,000 to 14,999  </td><td>12500             </td><td>some college or AA</td></tr>\n",
       "\t<tr><th scope=row>72</th><td>5420              </td><td>2000              </td><td>15,000 to 19,999  </td><td>17500             </td><td>some college or AA</td></tr>\n",
       "\t<tr><th scope=row>89</th><td>8719                                                         </td><td>2000                                                         </td><td><span style=white-space:pre-wrap>5,000 to 9,999  </span>     </td><td> 7500                                                        </td><td><span style=white-space:pre-wrap>&lt; 9th grade       </span></td></tr>\n",
       "</tbody>\n",
       "</table>\n"
      ],
      "text/latex": [
       "\\begin{tabular}{r|lllll}\n",
       "  & id & year & income\\_class & income\\_mid & educ\\\\\n",
       "\\hline\n",
       "\t4 & 7197               & 2000               & 5,000 to 9,999     &  7500              & 9-11th grade      \\\\\n",
       "\t34 & 1080               & 2000               & 5,000 to 9,999     &  7500              & 9-11th grade      \\\\\n",
       "\t41 & 2745               & 2000               & 15,000 to 19,999   & 17500              & < 9th grade       \\\\\n",
       "\t60 &  773               & 2000               & 10,000 to 14,999   & 12500              & some college or AA\\\\\n",
       "\t72 & 5420               & 2000               & 15,000 to 19,999   & 17500              & some college or AA\\\\\n",
       "\t89 & 8719               & 2000               & 5,000 to 9,999     &  7500              & < 9th grade       \\\\\n",
       "\\end{tabular}\n"
      ],
      "text/markdown": [
       "\n",
       "| <!--/--> | id | year | income_class | income_mid | educ |\n",
       "|---|---|---|---|---|---|\n",
       "| 4 | 7197               | 2000               | 5,000 to 9,999     |  7500              | 9-11th grade       |\n",
       "| 34 | 1080               | 2000               | 5,000 to 9,999     |  7500              | 9-11th grade       |\n",
       "| 41 | 2745               | 2000               | 15,000 to 19,999   | 17500              | < 9th grade        |\n",
       "| 60 |  773               | 2000               | 10,000 to 14,999   | 12500              | some college or AA |\n",
       "| 72 | 5420               | 2000               | 15,000 to 19,999   | 17500              | some college or AA |\n",
       "| 89 | 8719               | 2000               | 5,000 to 9,999     |  7500              | < 9th grade        |\n",
       "\n"
      ],
      "text/plain": [
       "   id   year income_class     income_mid educ              \n",
       "4  7197 2000 5,000 to 9,999    7500      9-11th grade      \n",
       "34 1080 2000 5,000 to 9,999    7500      9-11th grade      \n",
       "41 2745 2000 15,000 to 19,999 17500      < 9th grade       \n",
       "60  773 2000 10,000 to 14,999 12500      some college or AA\n",
       "72 5420 2000 15,000 to 19,999 17500      some college or AA\n",
       "89 8719 2000 5,000 to 9,999    7500      < 9th grade       "
      ]
     },
     "metadata": {},
     "output_type": "display_data"
    }
   ],
   "source": [
    "low_income <- income_educ[income_educ$income_class == \"Under 20,000\" |\n",
    "                            income_educ$income_class == \"0 to 4,999\" |\n",
    "                            income_educ$income_class == \"5,000 to 9,999\" |\n",
    "                            income_educ$income_class == \"10,000 to 14,999\" |\n",
    "                            income_educ$income_class == \"15,000 to 19,999\", ]\n",
    "\n",
    "sort(unique(low_income$income_class))\n",
    "\n",
    "head(low_income)"
   ]
  },
  {
   "cell_type": "markdown",
   "metadata": {},
   "source": [
    "### Step 3: get the number of participants with low income per educational level\n",
    "\n",
    "Use again the table() function to get the number of participants with low income per educational level."
   ]
  },
  {
   "cell_type": "code",
   "execution_count": 20,
   "metadata": {},
   "outputs": [
    {
     "data": {
      "text/plain": [
       "\n",
       "              < 9th grade              9-11th grade college graduate or above \n",
       "                      460                       408                       118 \n",
       "              High School        some college or AA \n",
       "                      450                       397 "
      ]
     },
     "metadata": {},
     "output_type": "display_data"
    }
   ],
   "source": [
    "table_educ_low_income <- table(low_income$educ)\n",
    "table_educ_low_income"
   ]
  },
  {
   "cell_type": "markdown",
   "metadata": {},
   "source": [
    "### Step 4: Calculate the percentage of low-income participants in each education level\n",
    "\n",
    "From the previous tables, find the percentage of low-income participants in each education level."
   ]
  },
  {
   "cell_type": "code",
   "execution_count": 21,
   "metadata": {},
   "outputs": [
    {
     "data": {
      "text/plain": [
       "\n",
       "              < 9th grade              9-11th grade college graduate or above \n",
       "                49.303323                 35.263613                  6.973995 \n",
       "              High School        some college or AA \n",
       "                24.167562                 17.504409 "
      ]
     },
     "metadata": {},
     "output_type": "display_data"
    }
   ],
   "source": [
    "table_perc_low_income <- 100 * table_educ_low_income / table_educ_all\n",
    "table_perc_low_income"
   ]
  },
  {
   "cell_type": "markdown",
   "metadata": {},
   "source": [
    "### Step 5: Plot the results\n",
    "First re-orders the values in table_perc_low_income in order of educational level."
   ]
  },
  {
   "cell_type": "code",
   "execution_count": 22,
   "metadata": {},
   "outputs": [],
   "source": [
    "table_perc_low_income <- table_perc_low_income[c(\"< 9th grade\", \n",
    "                                                 \"9-11th grade\", \n",
    "                                                 \"High School\", \n",
    "                                                 \"some college or AA\", \n",
    "                                                 \"college graduate or above\")]"
   ]
  },
  {
   "cell_type": "markdown",
   "metadata": {},
   "source": [
    "Finally, plot the results in a bar plot where each bar is an educational level, and the height of each bar represents the percentage of low-income participants per educational level. Use names.arg = c() to add (short) x-axis labels."
   ]
  },
  {
   "cell_type": "code",
   "execution_count": 23,
   "metadata": {},
   "outputs": [
    {
     "data": {
      "image/png": "[encoded data removed]",
      "text/plain": [
       "Plot with title \"% low-income participants / educational level\""
      ]
     },
     "metadata": {},
     "output_type": "display_data"
    }
   ],
   "source": [
    "barplot(table_perc_low_income,\n",
    "        col  = \"dodgerblue2\",\n",
    "        main = \"% low-income participants / educational level\",\n",
    "        ylab = \"Percentage\",\n",
    "        names.arg =\n",
    "          c(\"<grade 9\", \"grade 9-11\", \"High sch.\", \"Coll./AA\", \"College\"),\n",
    "        las = 2)\n",
    "grid()"
   ]
  }
 ],
 "metadata": {
  "kernelspec": {
   "display_name": "R",
   "language": "R",
   "name": "ir"
  },
  "language_info": {
   "codemirror_mode": "r",
   "file_extension": ".r",
   "mimetype": "text/x-r-source",
   "name": "R",
   "pygments_lexer": "r",
   "version": "3.6.1"
  }
 },
 "nbformat": 4,
 "nbformat_minor": 4
}
