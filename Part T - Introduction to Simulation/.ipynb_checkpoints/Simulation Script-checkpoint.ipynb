{
 "cells": [
  {
   "cell_type": "markdown",
   "metadata": {},
   "source": [
    "# Exercise 18 – Simulations and Basketball\n",
    "\n",
    "Notebook Written By: WDY (Yale-NUS '24) \n",
    "(Come say hi at https://www.linkedin.com/in/dys-profile/)\n",
    "\n",
    "### Introduction\n",
    "\n",
    "- Results from data also carry uncertainty. The quantification of uncertainty requires the concept of randomness.\n",
    "\n",
    "- Simulations provide hands-on experience with randomness. They generate a response variable under an assumed model.\n",
    "\n",
    "- Today we use the R function sample to implement a simulation for the investigation of a basketball phenomenon.\n"
   ]
  },
  {
   "cell_type": "markdown",
   "metadata": {},
   "source": [
    "### What is uncertainty in data?\n",
    "Until the early 20th century the scientific view of the world was dominated by Newtonian mechanics and determinism, where to every cause there is a reaction. The world was thought of as some kind of complicating but in principle predictably machine.\n",
    "\n",
    "Then Bohr-Heisenberg introduced causal non-determinism: At its most fundamental level the behaviour of the world cannot be predicted with certainty. We can only make statements of the form “x is likely to occur”, not “x is certain to occur.”\n",
    "\n",
    "Not everyone was ready to accept this. Einstein: “God does not play dice.”\n",
    "\n",
    "Does it matter? Whether or not the world is inherently unpredictable, the fact that we never have complete information/knowledge about the world suggests that we might as well treat it as inherently unpredictable (predictive non-determinism).\n"
   ]
  },
  {
   "cell_type": "markdown",
   "metadata": {},
   "source": [
    "A random process is an ongoing process in which the next state might depend on the previous state and some element..."
   ]
  },
  {
   "cell_type": "code",
   "execution_count": 13,
   "metadata": {},
   "outputs": [],
   "source": [
    "outcomes <- c(\"heads\", \"tails\")"
   ]
  },
  {
   "cell_type": "markdown",
   "metadata": {},
   "source": [
    "To simulate flipping a fair coin 100 times, you could either run the function sample 100 ties or adjust its size argument which determines how many samples to draw."
   ]
  },
  {
   "cell_type": "markdown",
   "metadata": {},
   "source": [
    "### Step 1: Create a vector sim_fair_coin that simulates flipping a fair coin 100 times.\n",
    "\n",
    "- Compute the proportion of heads in simulating a fair and compare your result with your teammates\n",
    "- How can you make sim_fair_coin reproducible such that the proportion of heads stays the same when repeatedly evaluating your code?\n",
    "- Does the next flip in this random process depend on the previous flip or only on psuedo randomness"
   ]
  },
  {
   "cell_type": "code",
   "execution_count": 15,
   "metadata": {},
   "outputs": [
    {
     "data": {
      "text/plain": [
       "sim_fair_coin\n",
       "heads tails \n",
       " 0.44  0.56 "
      ]
     },
     "metadata": {},
     "output_type": "display_data"
    }
   ],
   "source": [
    "set.seed(3)\n",
    "\n",
    "sim_fair_coin <- sample(outcomes, size = 100, replace = TRUE)\n",
    "table(sim_fair_coin)/length(sim_fair_coin)\n",
    "\n",
    "# In this simulation, each of the outcomes are independent of the previous outcomes"
   ]
  },
  {
   "cell_type": "markdown",
   "metadata": {},
   "source": [
    "In this simulation each of the outcomes is independent of the previous outcomes."
   ]
  },
  {
   "cell_type": "markdown",
   "metadata": {},
   "source": [
    "### Step 2: Repeat simulation but now with an unfairly weight coin that we know lands heads only 20% of the time\n",
    "\n",
    "- What proportion of heads do you obtain?\n",
    "- Does this proportion vary more or less?"
   ]
  },
  {
   "cell_type": "code",
   "execution_count": 18,
   "metadata": {},
   "outputs": [
    {
     "data": {
      "text/plain": [
       "sim_unfair_coin\n",
       "heads tails \n",
       " 0.18  0.82 "
      ]
     },
     "metadata": {},
     "output_type": "display_data"
    }
   ],
   "source": [
    "sim_unfair_coin <- sample(outcomes, size = 100, replace = TRUE, prob = c(0.2, 0.8))\n",
    "table(sim_unfair_coin)/length(sim_unfair_coin)"
   ]
  },
  {
   "cell_type": "markdown",
   "metadata": {},
   "source": [
    "We can adjust the unfairness by adding the argument prob and providing with a vector of probabilities.\n",
    "\n",
    "prob=c(.2,.8) indicates that for the two elements in the outcomes vector, the first, ‘heads’, is selected with probability .2 and the second, ‘tails’, with probability .8. The default for prob is that each outcome is equally likely.\n",
    "\n",
    "The proportion of an unfair coin varies less than that of a fair coin. This is because uncertainty is maximized when the proportion of heads versus tails is exactly 50/50."
   ]
  },
  {
   "cell_type": "markdown",
   "metadata": {},
   "source": [
    "# Challenge: Analyze Basketball\n",
    "\n",
    "- Basketball players who make several baskets in succession are described as having a “hot hand”.\n",
    "\n",
    "- Fans and players have long believed in the hot hand phenomenon, which refutes the assumption that each shot is independent of the next. Instead they believe that previous success can change the psychological attitude and subsequent success rate of a player.\n",
    "\n",
    "- A 1985 paper by Gilovich et al. collected evidence to show that successive shots are independent events.\n",
    "\n",
    "- This paper started a great controversy as you can see by Googling “hot hand basketball”.\n",
    "\n",
    "Goals:\n",
    "\n",
    "We do not expect to resolve the controversy. But we will apply a simulation approach towards answering questions like this.\n",
    "\n",
    "- Think about effects of independent and dependent events\n",
    "- Learn how to simulate shooting streaks in R\n",
    "- Compare simulation to actual data to determine if hot hand phenomenon is real\n",
    "- Think about limitations of a simulation in its ability to model reality\n",
    "\n",
    "We will focus on the player of Kobe Bryant and his performance in the 2009 NBA Finals.\n",
    "\n",
    "### Step 3: "
   ]
  },
  {
   "cell_type": "code",
   "execution_count": 2,
   "metadata": {},
   "outputs": [],
   "source": [
    "load(url(\"http://www.openintro.org/stat/data/kobe.RData\"))"
   ]
  },
  {
   "cell_type": "markdown",
   "metadata": {},
   "source": [
    "Load a custom function we will be using.\n",
    "\n",
    "- Do some basic exploration of the new data\n",
    "- What does a row in this data frame represent\n",
    "- Which part of the data is most relevant for our hot hand investigation?"
   ]
  },
  {
   "cell_type": "code",
   "execution_count": 3,
   "metadata": {},
   "outputs": [
    {
     "data": {
      "text/html": [
       "<table>\n",
       "<thead><tr><th scope=col>vs</th><th scope=col>game</th><th scope=col>quarter</th><th scope=col>time</th><th scope=col>description</th><th scope=col>basket</th></tr></thead>\n",
       "<tbody>\n",
       "\t<tr><td>ORL                                                    </td><td>1                                                      </td><td>1                                                      </td><td>9:47                                                   </td><td>Kobe Bryant makes 4-foot two point shot                </td><td>H                                                      </td></tr>\n",
       "\t<tr><td>ORL                                                    </td><td>1                                                      </td><td>1                                                      </td><td>9:07                                                   </td><td>Kobe Bryant misses jumper                              </td><td>M                                                      </td></tr>\n",
       "\t<tr><td>ORL                                                    </td><td>1                                                      </td><td>1                                                      </td><td>8:11                                                   </td><td>Kobe Bryant misses 7-foot jumper                       </td><td>M                                                      </td></tr>\n",
       "\t<tr><td>ORL                                                    </td><td>1                                                      </td><td>1                                                      </td><td>7:41                                                   </td><td>Kobe Bryant makes 16-foot jumper (Derek Fisher assists)</td><td>H                                                      </td></tr>\n",
       "\t<tr><td>ORL                                                    </td><td>1                                                      </td><td>1                                                      </td><td>7:03                                                   </td><td>Kobe Bryant makes driving layup                        </td><td>H                                                      </td></tr>\n",
       "\t<tr><td>ORL                                                    </td><td>1                                                      </td><td>1                                                      </td><td>6:01                                                   </td><td>Kobe Bryant misses jumper                              </td><td>M                                                      </td></tr>\n",
       "</tbody>\n",
       "</table>\n"
      ],
      "text/latex": [
       "\\begin{tabular}{r|llllll}\n",
       " vs & game & quarter & time & description & basket\\\\\n",
       "\\hline\n",
       "\t ORL                                                     & 1                                                       & 1                                                       & 9:47                                                    & Kobe Bryant makes 4-foot two point shot                 & H                                                      \\\\\n",
       "\t ORL                                                     & 1                                                       & 1                                                       & 9:07                                                    & Kobe Bryant misses jumper                               & M                                                      \\\\\n",
       "\t ORL                                                     & 1                                                       & 1                                                       & 8:11                                                    & Kobe Bryant misses 7-foot jumper                        & M                                                      \\\\\n",
       "\t ORL                                                     & 1                                                       & 1                                                       & 7:41                                                    & Kobe Bryant makes 16-foot jumper (Derek Fisher assists) & H                                                      \\\\\n",
       "\t ORL                                                     & 1                                                       & 1                                                       & 7:03                                                    & Kobe Bryant makes driving layup                         & H                                                      \\\\\n",
       "\t ORL                                                     & 1                                                       & 1                                                       & 6:01                                                    & Kobe Bryant misses jumper                               & M                                                      \\\\\n",
       "\\end{tabular}\n"
      ],
      "text/markdown": [
       "\n",
       "| vs | game | quarter | time | description | basket |\n",
       "|---|---|---|---|---|---|\n",
       "| ORL                                                     | 1                                                       | 1                                                       | 9:47                                                    | Kobe Bryant makes 4-foot two point shot                 | H                                                       |\n",
       "| ORL                                                     | 1                                                       | 1                                                       | 9:07                                                    | Kobe Bryant misses jumper                               | M                                                       |\n",
       "| ORL                                                     | 1                                                       | 1                                                       | 8:11                                                    | Kobe Bryant misses 7-foot jumper                        | M                                                       |\n",
       "| ORL                                                     | 1                                                       | 1                                                       | 7:41                                                    | Kobe Bryant makes 16-foot jumper (Derek Fisher assists) | H                                                       |\n",
       "| ORL                                                     | 1                                                       | 1                                                       | 7:03                                                    | Kobe Bryant makes driving layup                         | H                                                       |\n",
       "| ORL                                                     | 1                                                       | 1                                                       | 6:01                                                    | Kobe Bryant misses jumper                               | M                                                       |\n",
       "\n"
      ],
      "text/plain": [
       "  vs  game quarter time description                                            \n",
       "1 ORL 1    1       9:47 Kobe Bryant makes 4-foot two point shot                \n",
       "2 ORL 1    1       9:07 Kobe Bryant misses jumper                              \n",
       "3 ORL 1    1       8:11 Kobe Bryant misses 7-foot jumper                       \n",
       "4 ORL 1    1       7:41 Kobe Bryant makes 16-foot jumper (Derek Fisher assists)\n",
       "5 ORL 1    1       7:03 Kobe Bryant makes driving layup                        \n",
       "6 ORL 1    1       6:01 Kobe Bryant misses jumper                              \n",
       "  basket\n",
       "1 H     \n",
       "2 M     \n",
       "3 M     \n",
       "4 H     \n",
       "5 H     \n",
       "6 M     "
      ]
     },
     "metadata": {},
     "output_type": "display_data"
    }
   ],
   "source": [
    "head(kobe)"
   ]
  },
  {
   "cell_type": "markdown",
   "metadata": {},
   "source": [
    "- Every row records a shot taken by Kobe Bryant.\n",
    "- If he hit the shot (made a basket) an H, for hit, is recorded in the column named basket. Otherwise an M, for miss, is recorded."
   ]
  },
  {
   "cell_type": "code",
   "execution_count": 4,
   "metadata": {
    "scrolled": true
   },
   "outputs": [
    {
     "name": "stdout",
     "output_type": "stream",
     "text": [
      "'data.frame':\t133 obs. of  6 variables:\n",
      " $ vs         : Factor w/ 1 level \"ORL\": 1 1 1 1 1 1 1 1 1 1 ...\n",
      " $ game       : int  1 1 1 1 1 1 1 1 1 1 ...\n",
      " $ quarter    : Factor w/ 5 levels \"1\",\"1OT\",\"2\",..: 1 1 1 1 1 1 1 1 1 3 ...\n",
      " $ time       : Factor w/ 116 levels \"00:00.0\",\"00:00.5\",..: 114 109 102 100 96 85 64 21 11 91 ...\n",
      " $ description: Factor w/ 80 levels \"Bryant 3pt Shot: Made (16 PTS) Assist: Bynum (1 AST)  \",..: 40 78 75 27 44 78 52 62 79 45 ...\n",
      " $ basket     : chr  \"H\" \"M\" \"M\" \"H\" ...\n"
     ]
    }
   ],
   "source": [
    "str(kobe)"
   ]
  },
  {
   "cell_type": "markdown",
   "metadata": {},
   "source": [
    "How could we use these data for our hot hand investigation?\n",
    "\n",
    "- Just looking at the string of hits and misses, it can be difficult to gauge whether there was a hot hand.\n",
    "- One way we can approach this is by considering that hot hand shooters tend to go on streaks."
   ]
  },
  {
   "cell_type": "markdown",
   "metadata": {},
   "source": [
    "- Let's define the length of a shooting streak to be no. of consecutive baskets.\n",
    "- In game 1, Kobe had the following sequence from his attempts as shown below."
   ]
  },
  {
   "cell_type": "code",
   "execution_count": 5,
   "metadata": {},
   "outputs": [
    {
     "data": {
      "text/html": [
       "<ol class=list-inline>\n",
       "\t<li>'H'</li>\n",
       "\t<li>'M'</li>\n",
       "\t<li>'M'</li>\n",
       "\t<li>'H'</li>\n",
       "\t<li>'H'</li>\n",
       "\t<li>'M'</li>\n",
       "\t<li>'M'</li>\n",
       "\t<li>'M'</li>\n",
       "\t<li>'M'</li>\n",
       "</ol>\n"
      ],
      "text/latex": [
       "\\begin{enumerate*}\n",
       "\\item 'H'\n",
       "\\item 'M'\n",
       "\\item 'M'\n",
       "\\item 'H'\n",
       "\\item 'H'\n",
       "\\item 'M'\n",
       "\\item 'M'\n",
       "\\item 'M'\n",
       "\\item 'M'\n",
       "\\end{enumerate*}\n"
      ],
      "text/markdown": [
       "1. 'H'\n",
       "2. 'M'\n",
       "3. 'M'\n",
       "4. 'H'\n",
       "5. 'H'\n",
       "6. 'M'\n",
       "7. 'M'\n",
       "8. 'M'\n",
       "9. 'M'\n",
       "\n",
       "\n"
      ],
      "text/plain": [
       "[1] \"H\" \"M\" \"M\" \"H\" \"H\" \"M\" \"M\" \"M\" \"M\""
      ]
     },
     "metadata": {},
     "output_type": "display_data"
    }
   ],
   "source": [
    "kobe$basket[1:9]"
   ]
  },
  {
   "cell_type": "markdown",
   "metadata": {},
   "source": [
    "Based on this, we should address a few questions.\n",
    "\n",
    "Questions: \n",
    "- What does a streak length of 1 mean?\n",
    "- How many hits and misses are in a streak of 1?\n",
    "- What about a streak length of 0?\n",
    "\n",
    "Answers:\n",
    "- A streak of length 1 means that you get 1 hit before a miss\n",
    "- A streak of length 0 implies you simply miss at first attempt, i.e. no hits."
   ]
  },
  {
   "cell_type": "markdown",
   "metadata": {},
   "source": [
    "### Step 4: Visualize the distribution of shooting streaks\n",
    "\n",
    "- The custom function calc_streak(), which was loaded in with the data, may be used to calculate the lengths of all shooting streaks, and then to look at their distribution.\n",
    "\n",
    "- Use it to visualize the distribution of shooting streaks. What would be an appropriate visualization, given that shooting streaks are discrete.\n",
    "\n",
    "- Describe the distribution of Kobe's streak lengths. What was his typical streak length and what was his longest streak."
   ]
  },
  {
   "cell_type": "code",
   "execution_count": 6,
   "metadata": {},
   "outputs": [
    {
     "data": {
      "image/png": "[encoded data removed]",
      "text/plain": [
       "Plot with title \"Kobe's Streaks\""
      ]
     },
     "metadata": {},
     "output_type": "display_data"
    }
   ],
   "source": [
    "bp <- barplot(table(calc_streak(kobe$basket)),\n",
    "        main = \"Kobe's Streaks\",\n",
    "        ylim = c(0,40),\n",
    "        col = \"lightblue\",\n",
    "        xlab = \"length of shooting streaks\")\n",
    "\n",
    "text(bp, 0, round(table(calc_streak(kobe$basket)), 1), pos=3) \n"
   ]
  },
  {
   "cell_type": "markdown",
   "metadata": {},
   "source": [
    "Skewed to the right, with a mode at 0. His longest streak was 4.\n",
    "\n",
    "Here, a bar plot from a table is preferable to a histogram since our variable is discrete - counts - instead of continuous."
   ]
  },
  {
   "cell_type": "markdown",
   "metadata": {},
   "source": [
    "### Step 5: Compute the relative frequencies of Kobe's streak lengths"
   ]
  },
  {
   "cell_type": "code",
   "execution_count": 7,
   "metadata": {},
   "outputs": [
    {
     "data": {
      "text/plain": [
       "kobe_streak\n",
       "        0         1         2         3         4 \n",
       "51.315789 31.578947  7.894737  7.894737  1.315789 "
      ]
     },
     "metadata": {},
     "output_type": "display_data"
    }
   ],
   "source": [
    "kobe_streak <- calc_streak(kobe$basket)\n",
    "\n",
    "table(kobe_streak) * 100 / length(kobe_streak)"
   ]
  },
  {
   "cell_type": "markdown",
   "metadata": {},
   "source": [
    "We’ve shown that Kobe had some long shooting streaks, but are they long enough to support the belief that he had hot hands?\n",
    "\n",
    "What can we compare them to?\n",
    "\n",
    "Think back to the activities from the beginning of today’s class."
   ]
  },
  {
   "cell_type": "markdown",
   "metadata": {},
   "source": [
    "### Independence: Not having hot hands\n",
    "\n",
    "Two processes are independent if the outcome of one process doesn’t affect the outcome of the second.\n",
    "\n",
    "If each shot that a player takes is an independent process, having made or missed your first shot will not affect the probability that you will make or miss your second shot.\n",
    "\n",
    "A shooter with a hot hand will have shots that are not independent of one another. Psychologically, she is “in the zone”. Specifically, if the shooter makes her first shot, the hot hand model says she will have a higher probability of making her second shot.\n",
    "\n",
    "If there are no hot hands, then Kobe Bryant should be an independent shooter.\n",
    "\n",
    "We shall generate shots of an independent shooter with a simulation to test this."
   ]
  },
  {
   "cell_type": "markdown",
   "metadata": {},
   "source": [
    "### Simulating an independent shooter\n",
    "\n",
    "An independent shooter is modeled by simulating hitting or missing a basket 133 times.\n",
    "\n",
    "We will record the streak lengths computed from the 133 hits and misses.\n",
    "\n",
    "We will align the success rate of our independent shooter with Kobe’s.\n",
    "\n",
    "For an independent shooter each shot has the same success probability. As an estimate of the success probability of an independent Kobe Bryant let’s use the proportion of hits out of the 133 shots in our data.\n",
    "\n",
    "Our simulation does not precisely reflect a real final series, e.g.:\n",
    "\n",
    "We will be counting shooting streaks across quarters and games.\n",
    "If opponent players believe in the hot hands phenomenon they would likely guard a player more once they believe he starts a streak. This would influence the success probability."
   ]
  },
  {
   "cell_type": "markdown",
   "metadata": {},
   "source": [
    "### Step 6: Generate shots of an independent shooter with a simulation\n",
    "\n",
    "- Generate shots of an independent shooter with a simulation.\n",
    "- What probabilities do you use in your simulation? How many shots do you include in the simulation?"
   ]
  },
  {
   "cell_type": "code",
   "execution_count": 8,
   "metadata": {},
   "outputs": [
    {
     "data": {
      "text/html": [
       "0.43609022556391"
      ],
      "text/latex": [
       "0.43609022556391"
      ],
      "text/markdown": [
       "0.43609022556391"
      ],
      "text/plain": [
       "[1] 0.4360902"
      ]
     },
     "metadata": {},
     "output_type": "display_data"
    },
    {
     "data": {
      "image/png": "[encoded data removed]",
      "text/plain": [
       "Plot with title \"Shooter's Streaks\""
      ]
     },
     "metadata": {},
     "output_type": "display_data"
    }
   ],
   "source": [
    "set.seed(1)\n",
    "\n",
    "# CREATE OUTCOMES\n",
    "outcomes <- c(\"H\", \"M\")\n",
    "\n",
    "# SET PROBABILITIES OF SHOTS TO BE EQUAL TO KOBE\n",
    "hit_prop <- mean(kobe$basket == \"H\")\n",
    "hit_prop\n",
    "\n",
    "# NOW SIMULATE THE SHOTS PROBABILITIES\n",
    "sim_basket <- sample(outcomes, \n",
    "                     size = length(kobe$basket), \n",
    "                     replace = TRUE, \n",
    "                     prob = c(hit_prop, 1 - hit_prop))\n",
    "\n",
    "# CALCULATE STREAKS OF SHOOTER INTO A VECTOR\n",
    "sim_streak <- calc_streak(sim_basket)\n",
    "\n",
    "# PLOT THE STREAKS OF THE SHOOTER\n",
    "shooterbp <- barplot(table(sim_streak),\n",
    "        main = \"Shooter's Streaks\",\n",
    "        ylim = c(0,40),\n",
    "        col = \"lightblue\",\n",
    "        xlab = \"length of shooting streaks\")\n",
    "\n",
    "# ADD LABELS TO THE GRAPH\n",
    "text(shooterbp, 0, round(table(sim_streak), 1), pos=3)\n"
   ]
  },
  {
   "cell_type": "markdown",
   "metadata": {},
   "source": [
    "### Step 7: Find the statistics of the independent shooter\n",
    "\n",
    "- What is the independent shooter's typical streak length?\n",
    "- What is the independent shooter's longest streak length?\n"
   ]
  },
  {
   "cell_type": "code",
   "execution_count": 9,
   "metadata": {},
   "outputs": [
    {
     "data": {
      "text/html": [
       "0.763157894736842"
      ],
      "text/latex": [
       "0.763157894736842"
      ],
      "text/markdown": [
       "0.763157894736842"
      ],
      "text/plain": [
       "[1] 0.7631579"
      ]
     },
     "metadata": {},
     "output_type": "display_data"
    },
    {
     "data": {
      "text/html": [
       "4"
      ],
      "text/latex": [
       "4"
      ],
      "text/markdown": [
       "4"
      ],
      "text/plain": [
       "[1] 4"
      ]
     },
     "metadata": {},
     "output_type": "display_data"
    }
   ],
   "source": [
    "mean(sim_streak)\n",
    "max(sim_streak)"
   ]
  },
  {
   "cell_type": "markdown",
   "metadata": {},
   "source": [
    "### Step 8: Compare the 2 shooters' streak distributions\n",
    "\n",
    "Create a visualization of kobe_streak and sim_streak to compare our simulated independent shooter with Kobe Bryant with regards to their “hot handedness”."
   ]
  },
  {
   "cell_type": "code",
   "execution_count": 71,
   "metadata": {},
   "outputs": [
    {
     "data": {
      "image/png": "[encoded data removed]",
      "text/plain": [
       "Plot with title \"Simulated shooter\""
      ]
     },
     "metadata": {},
     "output_type": "display_data"
    }
   ],
   "source": [
    "par(mfrow = c(1,2))\n",
    "\n",
    "barplot(table(kobe_streak),\n",
    "        main = \"Kobe Bryant\",\n",
    "        col = \"lightblue\", \n",
    "        ylim = c(0,40))\n",
    "\n",
    "barplot(table(sim_streak),\n",
    "        main = \"Simulated shooter\", \n",
    "        col = \"pink\", \n",
    "        ylim = c(0, 40))"
   ]
  },
  {
   "cell_type": "markdown",
   "metadata": {},
   "source": [
    "### Discussion\n",
    "- Do we have evidence in favor of Kobe Bryant having a hot hand?\n",
    "- Do we have evidence against it?\n",
    "- Can we generate more evidence one way or the other with the tools we have discussed?"
   ]
  },
  {
   "cell_type": "markdown",
   "metadata": {},
   "source": [
    "### Discussion – remarks\n",
    "- Our example does not show strong evidence of a hot hand: Both the simulated data and Kobe’s shots have similar streak lengths.\n",
    "- Evidence against any hot hand is difficult to establish because the hot hand effect could be tiny to the point of being indiscernible.\n",
    "- Repeated simulations yield different distributions of streak lengths. Maybe our independent shooter just got lucky. Repeating the simulation might give us a better sense of whether Kobe’s streak lengths are expected if we assume him to be an independent shooter."
   ]
  }
 ],
 "metadata": {
  "kernelspec": {
   "display_name": "R",
   "language": "R",
   "name": "ir"
  },
  "language_info": {
   "codemirror_mode": "r",
   "file_extension": ".r",
   "mimetype": "text/x-r-source",
   "name": "R",
   "pygments_lexer": "r",
   "version": "3.6.1"
  }
 },
 "nbformat": 4,
 "nbformat_minor": 4
}
