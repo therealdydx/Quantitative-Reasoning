{
 "cells": [
  {
   "cell_type": "markdown",
   "metadata": {},
   "source": [
    "# Exercise 16 – Candidate News Coverage and Facebook Followers during GE2020\n",
    "\n",
    "### Introduction\n",
    "\n",
    "Today, we will work with data collected during the recent 2020 general election (GE2020). The objective of this activity is to draw on the R coding skills you acquired over the last few weeks, and to further practice using linear models to predict data. Therefore,\n",
    "\n",
    "try to work on this activity independently,\n",
    "if you get stuck, then feel free to ask for help of work with others\n",
    "This activity includes more questions than you are expected to be able to answer during class. The rest of the questions can be used for extra practice at home. A .html document with solutions to all questions will be available at the end of the day so you will be able to check your answers.\n",
    "\n",
    "Now, let’s start. Download fb_followers.csv from Canvas. After setting the correct working directory, import this dataset in R using the command read.csv()."
   ]
  },
  {
   "cell_type": "code",
   "execution_count": 16,
   "metadata": {},
   "outputs": [],
   "source": [
    "fbf <- read.csv(\"C:/Users/User/OneDrive/Documents/Yale-NUS/Quantitative Reasoning/Quantitative Reasoning Repository/Exercise 13 - Election Coverages/fb_followers.csv\")"
   ]
  },
  {
   "cell_type": "markdown",
   "metadata": {},
   "source": [
    "Inspect the file and you will find that it contains five variables:\n",
    "\n",
    "- candidate: The names of the 93 PAP candidates nominated by the People’s Action Party in GE2020\n",
    "- fb_followers: A numeric variable that records the number of Facebook followers of their official Facebook page at midnight the night before polling day (00:00 July 10, 2020)\n",
    "- articles: A numeric variable that records the number of articles published by local newspapers between nomination day and polling day that mentioned the candidate by name\n",
    "- incumbent: A logical variable that indicates whether the candidate was an incumbent MP (i.e. they had served as an MP in the previous Parliament) or a first-time candidate\n",
    "- officeholder: A logical verctor that indicates whether the candidate was an officeholder (e.g. Cabinet Minister, Minister of State) in the previous Parliament"
   ]
  },
  {
   "cell_type": "code",
   "execution_count": 17,
   "metadata": {},
   "outputs": [
    {
     "data": {
      "text/html": [
       "<table>\n",
       "<thead><tr><th scope=col>candidate</th><th scope=col>fb_followers</th><th scope=col>articles</th><th scope=col>incumbent</th><th scope=col>officeholder</th></tr></thead>\n",
       "<tbody>\n",
       "\t<tr><td>Alex Yam    </td><td> 3979       </td><td> 4          </td><td> TRUE       </td><td>FALSE       </td></tr>\n",
       "\t<tr><td>Alex Yeo    </td><td> 1234       </td><td> 8          </td><td>FALSE       </td><td>FALSE       </td></tr>\n",
       "\t<tr><td>Alvin Tan   </td><td> 3579       </td><td> 7          </td><td>FALSE       </td><td>FALSE       </td></tr>\n",
       "\t<tr><td>Amrin Amin  </td><td>48340       </td><td>13          </td><td> TRUE       </td><td> TRUE       </td></tr>\n",
       "\t<tr><td>Amy Khor    </td><td>31959       </td><td> 3          </td><td> TRUE       </td><td> TRUE       </td></tr>\n",
       "\t<tr><td>Ang Wei Neng</td><td> 9227       </td><td>15          </td><td> TRUE       </td><td>FALSE       </td></tr>\n",
       "</tbody>\n",
       "</table>\n"
      ],
      "text/latex": [
       "\\begin{tabular}{r|lllll}\n",
       " candidate & fb\\_followers & articles & incumbent & officeholder\\\\\n",
       "\\hline\n",
       "\t Alex Yam     &  3979        &  4           &  TRUE        & FALSE       \\\\\n",
       "\t Alex Yeo     &  1234        &  8           & FALSE        & FALSE       \\\\\n",
       "\t Alvin Tan    &  3579        &  7           & FALSE        & FALSE       \\\\\n",
       "\t Amrin Amin   & 48340        & 13           &  TRUE        &  TRUE       \\\\\n",
       "\t Amy Khor     & 31959        &  3           &  TRUE        &  TRUE       \\\\\n",
       "\t Ang Wei Neng &  9227        & 15           &  TRUE        & FALSE       \\\\\n",
       "\\end{tabular}\n"
      ],
      "text/markdown": [
       "\n",
       "| candidate | fb_followers | articles | incumbent | officeholder |\n",
       "|---|---|---|---|---|\n",
       "| Alex Yam     |  3979        |  4           |  TRUE        | FALSE        |\n",
       "| Alex Yeo     |  1234        |  8           | FALSE        | FALSE        |\n",
       "| Alvin Tan    |  3579        |  7           | FALSE        | FALSE        |\n",
       "| Amrin Amin   | 48340        | 13           |  TRUE        |  TRUE        |\n",
       "| Amy Khor     | 31959        |  3           |  TRUE        |  TRUE        |\n",
       "| Ang Wei Neng |  9227        | 15           |  TRUE        | FALSE        |\n",
       "\n"
      ],
      "text/plain": [
       "  candidate    fb_followers articles incumbent officeholder\n",
       "1 Alex Yam      3979         4        TRUE     FALSE       \n",
       "2 Alex Yeo      1234         8       FALSE     FALSE       \n",
       "3 Alvin Tan     3579         7       FALSE     FALSE       \n",
       "4 Amrin Amin   48340        13        TRUE      TRUE       \n",
       "5 Amy Khor     31959         3        TRUE      TRUE       \n",
       "6 Ang Wei Neng  9227        15        TRUE     FALSE       "
      ]
     },
     "metadata": {},
     "output_type": "display_data"
    }
   ],
   "source": [
    "head(fbf)"
   ]
  },
  {
   "cell_type": "code",
   "execution_count": 18,
   "metadata": {},
   "outputs": [
    {
     "data": {
      "text/html": [
       "<ol class=list-inline>\n",
       "\t<li>Alex Yam</li>\n",
       "\t<li>Alex Yeo</li>\n",
       "\t<li>Alvin Tan</li>\n",
       "\t<li>Amrin Amin</li>\n",
       "\t<li>Amy Khor</li>\n",
       "\t<li>Ang Wei Neng</li>\n",
       "\t<li>Muhamad Faishal Ibrahim</li>\n",
       "\t<li>Baey Yam Keng</li>\n",
       "\t<li>Carrie Tan</li>\n",
       "\t<li>Chan Chun Sing</li>\n",
       "\t<li>Chan Hui Yuh</li>\n",
       "\t<li>Chee Hong Tat</li>\n",
       "\t<li>Cheng Li Hui</li>\n",
       "\t<li>Cheryl Chan</li>\n",
       "\t<li>Chong Kee Hiong</li>\n",
       "\t<li>Christopher de Souza</li>\n",
       "\t<li>Chua Eng Leong</li>\n",
       "\t<li>Darryl David</li>\n",
       "\t<li>Denise Phua Lay Peng</li>\n",
       "\t<li>Derrick Goh</li>\n",
       "\t<li>Desmond Choo</li>\n",
       "\t<li>Desmond Lee</li>\n",
       "\t<li>Desmond Tan</li>\n",
       "\t<li>Don Wee</li>\n",
       "\t<li>Lim Wee Kiak</li>\n",
       "\t<li>Maliki Osman</li>\n",
       "\t<li>Edward Chia Bing Hui</li>\n",
       "\t<li>Edwin Tong</li>\n",
       "\t<li>Eric Chua</li>\n",
       "\t<li>Fahmi Aliman</li>\n",
       "\t<li>Foo Mee Har</li>\n",
       "\t<li>Gan Kim Yong</li>\n",
       "\t<li>Gan Siow Huang</li>\n",
       "\t<li>Gan Thiam Poh</li>\n",
       "\t<li>Grace Fu</li>\n",
       "\t<li>Hany Soh</li>\n",
       "\t<li>Heng Chee How</li>\n",
       "\t<li>Heng Swee Keat</li>\n",
       "\t<li>Indranee Rajah</li>\n",
       "\t<li>Janil Puthucheary</li>\n",
       "\t<li>Jessica Tan Soon Neo</li>\n",
       "\t<li>Joan Pereira</li>\n",
       "\t<li>Josephine Teo</li>\n",
       "\t<li>K Shanmugam</li>\n",
       "\t<li>Koh Poh Koon</li>\n",
       "\t<li>Kwek Hian Chuan</li>\n",
       "\t<li>Lam Pin Min</li>\n",
       "\t<li>Lawrence Wong</li>\n",
       "\t<li>Lee Hong Chuang</li>\n",
       "\t<li>Lee Hsien Loong</li>\n",
       "\t<li>Liang Eng Hwa</li>\n",
       "\t<li>Lim Biow Chuan</li>\n",
       "\t<li>Louis Ng Kok Kwang</li>\n",
       "\t<li>Low Yen Ling</li>\n",
       "\t<li>Mariam Jaafar</li>\n",
       "\t<li>Masagos Zukifli</li>\n",
       "\t<li>Melvin Yong</li>\n",
       "\t<li>Murali Pillai</li>\n",
       "\t<li>Nadia A. Samdin</li>\n",
       "\t<li>Ng Chee Meng</li>\n",
       "\t<li>Ng Eng Hen</li>\n",
       "\t<li>Ng Ling Ling</li>\n",
       "\t<li>Ong Ye Kung</li>\n",
       "\t<li>Patrick Tay</li>\n",
       "\t<li>Poh Li San</li>\n",
       "\t<li>Rachel Ong Sin Yen</li>\n",
       "\t<li>Rahayu Mahzam</li>\n",
       "\t<li>Raymond Lye</li>\n",
       "\t<li>S Iswaran</li>\n",
       "\t<li>Saktiandi Supaat</li>\n",
       "\t<li>Seah Kian Peng</li>\n",
       "\t<li>Shamsul Kamar</li>\n",
       "\t<li>Sharael Taha</li>\n",
       "\t<li>Shawn Huang Wei Zhong</li>\n",
       "\t<li>Sim Ann</li>\n",
       "\t<li>Sitoh Yi Pin</li>\n",
       "\t<li>Sun Xueling</li>\n",
       "\t<li>Tan Chuan-Jin</li>\n",
       "\t<li>Tan Kiat How</li>\n",
       "\t<li>Tan See Leng</li>\n",
       "\t<li>Tan Wu Meng</li>\n",
       "\t<li>Teo Chee Hean</li>\n",
       "\t<li>Tharman Shanmugaratnam</li>\n",
       "\t<li>Tin Pei Ling</li>\n",
       "\t<li>Victor Lye Thiam Fatt</li>\n",
       "\t<li>Vikram Nair</li>\n",
       "\t<li>Vivian Balakrishnan</li>\n",
       "\t<li>Wan Rizal</li>\n",
       "\t<li>Xie Yao Quan</li>\n",
       "\t<li>Yeo Wan Ling</li>\n",
       "\t<li>Yip Hon Weng</li>\n",
       "\t<li>Zaqy Mohamad</li>\n",
       "\t<li>Zhul Rahim</li>\n",
       "</ol>\n",
       "\n",
       "<details>\n",
       "\t<summary style=display:list-item;cursor:pointer>\n",
       "\t\t<strong>Levels</strong>:\n",
       "\t</summary>\n",
       "\t<ol class=list-inline>\n",
       "\t\t<li>'Alex Yam'</li>\n",
       "\t\t<li>'Alex Yeo'</li>\n",
       "\t\t<li>'Alvin Tan'</li>\n",
       "\t\t<li>'Amrin Amin'</li>\n",
       "\t\t<li>'Amy Khor'</li>\n",
       "\t\t<li>'Ang Wei Neng'</li>\n",
       "\t\t<li>'Baey Yam Keng'</li>\n",
       "\t\t<li>'Carrie Tan'</li>\n",
       "\t\t<li>'Chan Chun Sing'</li>\n",
       "\t\t<li>'Chan Hui Yuh'</li>\n",
       "\t\t<li>'Chee Hong Tat'</li>\n",
       "\t\t<li>'Cheng Li Hui'</li>\n",
       "\t\t<li>'Cheryl Chan'</li>\n",
       "\t\t<li>'Chong Kee Hiong'</li>\n",
       "\t\t<li>'Christopher de Souza'</li>\n",
       "\t\t<li>'Chua Eng Leong'</li>\n",
       "\t\t<li>'Darryl David'</li>\n",
       "\t\t<li>'Denise Phua Lay Peng'</li>\n",
       "\t\t<li>'Derrick Goh'</li>\n",
       "\t\t<li>'Desmond Choo'</li>\n",
       "\t\t<li>'Desmond Lee'</li>\n",
       "\t\t<li>'Desmond Tan'</li>\n",
       "\t\t<li>'Don Wee'</li>\n",
       "\t\t<li>'Edward Chia Bing Hui'</li>\n",
       "\t\t<li>'Edwin Tong'</li>\n",
       "\t\t<li>'Eric Chua'</li>\n",
       "\t\t<li>'Fahmi Aliman'</li>\n",
       "\t\t<li>'Foo Mee Har'</li>\n",
       "\t\t<li>'Gan Kim Yong'</li>\n",
       "\t\t<li>'Gan Siow Huang'</li>\n",
       "\t\t<li>'Gan Thiam Poh'</li>\n",
       "\t\t<li>'Grace Fu'</li>\n",
       "\t\t<li>'Hany Soh'</li>\n",
       "\t\t<li>'Heng Chee How'</li>\n",
       "\t\t<li>'Heng Swee Keat'</li>\n",
       "\t\t<li>'Indranee Rajah'</li>\n",
       "\t\t<li>'Janil Puthucheary'</li>\n",
       "\t\t<li>'Jessica Tan Soon Neo'</li>\n",
       "\t\t<li>'Joan Pereira'</li>\n",
       "\t\t<li>'Josephine Teo'</li>\n",
       "\t\t<li>'K Shanmugam'</li>\n",
       "\t\t<li>'Koh Poh Koon'</li>\n",
       "\t\t<li>'Kwek Hian Chuan'</li>\n",
       "\t\t<li>'Lam Pin Min'</li>\n",
       "\t\t<li>'Lawrence Wong'</li>\n",
       "\t\t<li>'Lee Hong Chuang'</li>\n",
       "\t\t<li>'Lee Hsien Loong'</li>\n",
       "\t\t<li>'Liang Eng Hwa'</li>\n",
       "\t\t<li>'Lim Biow Chuan'</li>\n",
       "\t\t<li>'Lim Wee Kiak'</li>\n",
       "\t\t<li>'Louis Ng Kok Kwang'</li>\n",
       "\t\t<li>'Low Yen Ling'</li>\n",
       "\t\t<li>'Maliki Osman'</li>\n",
       "\t\t<li>'Mariam Jaafar'</li>\n",
       "\t\t<li>'Masagos Zukifli'</li>\n",
       "\t\t<li>'Melvin Yong'</li>\n",
       "\t\t<li>'Muhamad Faishal Ibrahim'</li>\n",
       "\t\t<li>'Murali Pillai'</li>\n",
       "\t\t<li>'Nadia A. Samdin'</li>\n",
       "\t\t<li>'Ng Chee Meng'</li>\n",
       "\t\t<li>'Ng Eng Hen'</li>\n",
       "\t\t<li>'Ng Ling Ling'</li>\n",
       "\t\t<li>'Ong Ye Kung'</li>\n",
       "\t\t<li>'Patrick Tay'</li>\n",
       "\t\t<li>'Poh Li San'</li>\n",
       "\t\t<li>'Rachel Ong Sin Yen'</li>\n",
       "\t\t<li>'Rahayu Mahzam'</li>\n",
       "\t\t<li>'Raymond Lye'</li>\n",
       "\t\t<li>'S Iswaran'</li>\n",
       "\t\t<li>'Saktiandi Supaat'</li>\n",
       "\t\t<li>'Seah Kian Peng'</li>\n",
       "\t\t<li>'Shamsul Kamar'</li>\n",
       "\t\t<li>'Sharael Taha'</li>\n",
       "\t\t<li>'Shawn Huang Wei Zhong'</li>\n",
       "\t\t<li>'Sim Ann'</li>\n",
       "\t\t<li>'Sitoh Yi Pin'</li>\n",
       "\t\t<li>'Sun Xueling'</li>\n",
       "\t\t<li>'Tan Chuan-Jin'</li>\n",
       "\t\t<li>'Tan Kiat How'</li>\n",
       "\t\t<li>'Tan See Leng'</li>\n",
       "\t\t<li>'Tan Wu Meng'</li>\n",
       "\t\t<li>'Teo Chee Hean'</li>\n",
       "\t\t<li>'Tharman Shanmugaratnam'</li>\n",
       "\t\t<li>'Tin Pei Ling'</li>\n",
       "\t\t<li>'Victor Lye Thiam Fatt'</li>\n",
       "\t\t<li>'Vikram Nair'</li>\n",
       "\t\t<li>'Vivian Balakrishnan'</li>\n",
       "\t\t<li>'Wan Rizal'</li>\n",
       "\t\t<li>'Xie Yao Quan'</li>\n",
       "\t\t<li>'Yeo Wan Ling'</li>\n",
       "\t\t<li>'Yip Hon Weng'</li>\n",
       "\t\t<li>'Zaqy Mohamad'</li>\n",
       "\t\t<li>'Zhul Rahim'</li>\n",
       "\t</ol>\n",
       "</details>"
      ],
      "text/latex": [
       "\\begin{enumerate*}\n",
       "\\item Alex Yam\n",
       "\\item Alex Yeo\n",
       "\\item Alvin Tan\n",
       "\\item Amrin Amin\n",
       "\\item Amy Khor\n",
       "\\item Ang Wei Neng\n",
       "\\item Muhamad Faishal Ibrahim\n",
       "\\item Baey Yam Keng\n",
       "\\item Carrie Tan\n",
       "\\item Chan Chun Sing\n",
       "\\item Chan Hui Yuh\n",
       "\\item Chee Hong Tat\n",
       "\\item Cheng Li Hui\n",
       "\\item Cheryl Chan\n",
       "\\item Chong Kee Hiong\n",
       "\\item Christopher de Souza\n",
       "\\item Chua Eng Leong\n",
       "\\item Darryl David\n",
       "\\item Denise Phua Lay Peng\n",
       "\\item Derrick Goh\n",
       "\\item Desmond Choo\n",
       "\\item Desmond Lee\n",
       "\\item Desmond Tan\n",
       "\\item Don Wee\n",
       "\\item Lim Wee Kiak\n",
       "\\item Maliki Osman\n",
       "\\item Edward Chia Bing Hui\n",
       "\\item Edwin Tong\n",
       "\\item Eric Chua\n",
       "\\item Fahmi Aliman\n",
       "\\item Foo Mee Har\n",
       "\\item Gan Kim Yong\n",
       "\\item Gan Siow Huang\n",
       "\\item Gan Thiam Poh\n",
       "\\item Grace Fu\n",
       "\\item Hany Soh\n",
       "\\item Heng Chee How\n",
       "\\item Heng Swee Keat\n",
       "\\item Indranee Rajah\n",
       "\\item Janil Puthucheary\n",
       "\\item Jessica Tan Soon Neo\n",
       "\\item Joan Pereira\n",
       "\\item Josephine Teo\n",
       "\\item K Shanmugam\n",
       "\\item Koh Poh Koon\n",
       "\\item Kwek Hian Chuan\n",
       "\\item Lam Pin Min\n",
       "\\item Lawrence Wong\n",
       "\\item Lee Hong Chuang\n",
       "\\item Lee Hsien Loong\n",
       "\\item Liang Eng Hwa\n",
       "\\item Lim Biow Chuan\n",
       "\\item Louis Ng Kok Kwang\n",
       "\\item Low Yen Ling\n",
       "\\item Mariam Jaafar\n",
       "\\item Masagos Zukifli\n",
       "\\item Melvin Yong\n",
       "\\item Murali Pillai\n",
       "\\item Nadia A. Samdin\n",
       "\\item Ng Chee Meng\n",
       "\\item Ng Eng Hen\n",
       "\\item Ng Ling Ling\n",
       "\\item Ong Ye Kung\n",
       "\\item Patrick Tay\n",
       "\\item Poh Li San\n",
       "\\item Rachel Ong Sin Yen\n",
       "\\item Rahayu Mahzam\n",
       "\\item Raymond Lye\n",
       "\\item S Iswaran\n",
       "\\item Saktiandi Supaat\n",
       "\\item Seah Kian Peng\n",
       "\\item Shamsul Kamar\n",
       "\\item Sharael Taha\n",
       "\\item Shawn Huang Wei Zhong\n",
       "\\item Sim Ann\n",
       "\\item Sitoh Yi Pin\n",
       "\\item Sun Xueling\n",
       "\\item Tan Chuan-Jin\n",
       "\\item Tan Kiat How\n",
       "\\item Tan See Leng\n",
       "\\item Tan Wu Meng\n",
       "\\item Teo Chee Hean\n",
       "\\item Tharman Shanmugaratnam\n",
       "\\item Tin Pei Ling\n",
       "\\item Victor Lye Thiam Fatt\n",
       "\\item Vikram Nair\n",
       "\\item Vivian Balakrishnan\n",
       "\\item Wan Rizal\n",
       "\\item Xie Yao Quan\n",
       "\\item Yeo Wan Ling\n",
       "\\item Yip Hon Weng\n",
       "\\item Zaqy Mohamad\n",
       "\\item Zhul Rahim\n",
       "\\end{enumerate*}\n",
       "\n",
       "\\emph{Levels}: \\begin{enumerate*}\n",
       "\\item 'Alex Yam'\n",
       "\\item 'Alex Yeo'\n",
       "\\item 'Alvin Tan'\n",
       "\\item 'Amrin Amin'\n",
       "\\item 'Amy Khor'\n",
       "\\item 'Ang Wei Neng'\n",
       "\\item 'Baey Yam Keng'\n",
       "\\item 'Carrie Tan'\n",
       "\\item 'Chan Chun Sing'\n",
       "\\item 'Chan Hui Yuh'\n",
       "\\item 'Chee Hong Tat'\n",
       "\\item 'Cheng Li Hui'\n",
       "\\item 'Cheryl Chan'\n",
       "\\item 'Chong Kee Hiong'\n",
       "\\item 'Christopher de Souza'\n",
       "\\item 'Chua Eng Leong'\n",
       "\\item 'Darryl David'\n",
       "\\item 'Denise Phua Lay Peng'\n",
       "\\item 'Derrick Goh'\n",
       "\\item 'Desmond Choo'\n",
       "\\item 'Desmond Lee'\n",
       "\\item 'Desmond Tan'\n",
       "\\item 'Don Wee'\n",
       "\\item 'Edward Chia Bing Hui'\n",
       "\\item 'Edwin Tong'\n",
       "\\item 'Eric Chua'\n",
       "\\item 'Fahmi Aliman'\n",
       "\\item 'Foo Mee Har'\n",
       "\\item 'Gan Kim Yong'\n",
       "\\item 'Gan Siow Huang'\n",
       "\\item 'Gan Thiam Poh'\n",
       "\\item 'Grace Fu'\n",
       "\\item 'Hany Soh'\n",
       "\\item 'Heng Chee How'\n",
       "\\item 'Heng Swee Keat'\n",
       "\\item 'Indranee Rajah'\n",
       "\\item 'Janil Puthucheary'\n",
       "\\item 'Jessica Tan Soon Neo'\n",
       "\\item 'Joan Pereira'\n",
       "\\item 'Josephine Teo'\n",
       "\\item 'K Shanmugam'\n",
       "\\item 'Koh Poh Koon'\n",
       "\\item 'Kwek Hian Chuan'\n",
       "\\item 'Lam Pin Min'\n",
       "\\item 'Lawrence Wong'\n",
       "\\item 'Lee Hong Chuang'\n",
       "\\item 'Lee Hsien Loong'\n",
       "\\item 'Liang Eng Hwa'\n",
       "\\item 'Lim Biow Chuan'\n",
       "\\item 'Lim Wee Kiak'\n",
       "\\item 'Louis Ng Kok Kwang'\n",
       "\\item 'Low Yen Ling'\n",
       "\\item 'Maliki Osman'\n",
       "\\item 'Mariam Jaafar'\n",
       "\\item 'Masagos Zukifli'\n",
       "\\item 'Melvin Yong'\n",
       "\\item 'Muhamad Faishal Ibrahim'\n",
       "\\item 'Murali Pillai'\n",
       "\\item 'Nadia A. Samdin'\n",
       "\\item 'Ng Chee Meng'\n",
       "\\item 'Ng Eng Hen'\n",
       "\\item 'Ng Ling Ling'\n",
       "\\item 'Ong Ye Kung'\n",
       "\\item 'Patrick Tay'\n",
       "\\item 'Poh Li San'\n",
       "\\item 'Rachel Ong Sin Yen'\n",
       "\\item 'Rahayu Mahzam'\n",
       "\\item 'Raymond Lye'\n",
       "\\item 'S Iswaran'\n",
       "\\item 'Saktiandi Supaat'\n",
       "\\item 'Seah Kian Peng'\n",
       "\\item 'Shamsul Kamar'\n",
       "\\item 'Sharael Taha'\n",
       "\\item 'Shawn Huang Wei Zhong'\n",
       "\\item 'Sim Ann'\n",
       "\\item 'Sitoh Yi Pin'\n",
       "\\item 'Sun Xueling'\n",
       "\\item 'Tan Chuan-Jin'\n",
       "\\item 'Tan Kiat How'\n",
       "\\item 'Tan See Leng'\n",
       "\\item 'Tan Wu Meng'\n",
       "\\item 'Teo Chee Hean'\n",
       "\\item 'Tharman Shanmugaratnam'\n",
       "\\item 'Tin Pei Ling'\n",
       "\\item 'Victor Lye Thiam Fatt'\n",
       "\\item 'Vikram Nair'\n",
       "\\item 'Vivian Balakrishnan'\n",
       "\\item 'Wan Rizal'\n",
       "\\item 'Xie Yao Quan'\n",
       "\\item 'Yeo Wan Ling'\n",
       "\\item 'Yip Hon Weng'\n",
       "\\item 'Zaqy Mohamad'\n",
       "\\item 'Zhul Rahim'\n",
       "\\end{enumerate*}\n"
      ],
      "text/markdown": [
       "1. Alex Yam\n",
       "2. Alex Yeo\n",
       "3. Alvin Tan\n",
       "4. Amrin Amin\n",
       "5. Amy Khor\n",
       "6. Ang Wei Neng\n",
       "7. Muhamad Faishal Ibrahim\n",
       "8. Baey Yam Keng\n",
       "9. Carrie Tan\n",
       "10. Chan Chun Sing\n",
       "11. Chan Hui Yuh\n",
       "12. Chee Hong Tat\n",
       "13. Cheng Li Hui\n",
       "14. Cheryl Chan\n",
       "15. Chong Kee Hiong\n",
       "16. Christopher de Souza\n",
       "17. Chua Eng Leong\n",
       "18. Darryl David\n",
       "19. Denise Phua Lay Peng\n",
       "20. Derrick Goh\n",
       "21. Desmond Choo\n",
       "22. Desmond Lee\n",
       "23. Desmond Tan\n",
       "24. Don Wee\n",
       "25. Lim Wee Kiak\n",
       "26. Maliki Osman\n",
       "27. Edward Chia Bing Hui\n",
       "28. Edwin Tong\n",
       "29. Eric Chua\n",
       "30. Fahmi Aliman\n",
       "31. Foo Mee Har\n",
       "32. Gan Kim Yong\n",
       "33. Gan Siow Huang\n",
       "34. Gan Thiam Poh\n",
       "35. Grace Fu\n",
       "36. Hany Soh\n",
       "37. Heng Chee How\n",
       "38. Heng Swee Keat\n",
       "39. Indranee Rajah\n",
       "40. Janil Puthucheary\n",
       "41. Jessica Tan Soon Neo\n",
       "42. Joan Pereira\n",
       "43. Josephine Teo\n",
       "44. K Shanmugam\n",
       "45. Koh Poh Koon\n",
       "46. Kwek Hian Chuan\n",
       "47. Lam Pin Min\n",
       "48. Lawrence Wong\n",
       "49. Lee Hong Chuang\n",
       "50. Lee Hsien Loong\n",
       "51. Liang Eng Hwa\n",
       "52. Lim Biow Chuan\n",
       "53. Louis Ng Kok Kwang\n",
       "54. Low Yen Ling\n",
       "55. Mariam Jaafar\n",
       "56. Masagos Zukifli\n",
       "57. Melvin Yong\n",
       "58. Murali Pillai\n",
       "59. Nadia A. Samdin\n",
       "60. Ng Chee Meng\n",
       "61. Ng Eng Hen\n",
       "62. Ng Ling Ling\n",
       "63. Ong Ye Kung\n",
       "64. Patrick Tay\n",
       "65. Poh Li San\n",
       "66. Rachel Ong Sin Yen\n",
       "67. Rahayu Mahzam\n",
       "68. Raymond Lye\n",
       "69. S Iswaran\n",
       "70. Saktiandi Supaat\n",
       "71. Seah Kian Peng\n",
       "72. Shamsul Kamar\n",
       "73. Sharael Taha\n",
       "74. Shawn Huang Wei Zhong\n",
       "75. Sim Ann\n",
       "76. Sitoh Yi Pin\n",
       "77. Sun Xueling\n",
       "78. Tan Chuan-Jin\n",
       "79. Tan Kiat How\n",
       "80. Tan See Leng\n",
       "81. Tan Wu Meng\n",
       "82. Teo Chee Hean\n",
       "83. Tharman Shanmugaratnam\n",
       "84. Tin Pei Ling\n",
       "85. Victor Lye Thiam Fatt\n",
       "86. Vikram Nair\n",
       "87. Vivian Balakrishnan\n",
       "88. Wan Rizal\n",
       "89. Xie Yao Quan\n",
       "90. Yeo Wan Ling\n",
       "91. Yip Hon Weng\n",
       "92. Zaqy Mohamad\n",
       "93. Zhul Rahim\n",
       "\n",
       "\n",
       "\n",
       "**Levels**: 1. 'Alex Yam'\n",
       "2. 'Alex Yeo'\n",
       "3. 'Alvin Tan'\n",
       "4. 'Amrin Amin'\n",
       "5. 'Amy Khor'\n",
       "6. 'Ang Wei Neng'\n",
       "7. 'Baey Yam Keng'\n",
       "8. 'Carrie Tan'\n",
       "9. 'Chan Chun Sing'\n",
       "10. 'Chan Hui Yuh'\n",
       "11. 'Chee Hong Tat'\n",
       "12. 'Cheng Li Hui'\n",
       "13. 'Cheryl Chan'\n",
       "14. 'Chong Kee Hiong'\n",
       "15. 'Christopher de Souza'\n",
       "16. 'Chua Eng Leong'\n",
       "17. 'Darryl David'\n",
       "18. 'Denise Phua Lay Peng'\n",
       "19. 'Derrick Goh'\n",
       "20. 'Desmond Choo'\n",
       "21. 'Desmond Lee'\n",
       "22. 'Desmond Tan'\n",
       "23. 'Don Wee'\n",
       "24. 'Edward Chia Bing Hui'\n",
       "25. 'Edwin Tong'\n",
       "26. 'Eric Chua'\n",
       "27. 'Fahmi Aliman'\n",
       "28. 'Foo Mee Har'\n",
       "29. 'Gan Kim Yong'\n",
       "30. 'Gan Siow Huang'\n",
       "31. 'Gan Thiam Poh'\n",
       "32. 'Grace Fu'\n",
       "33. 'Hany Soh'\n",
       "34. 'Heng Chee How'\n",
       "35. 'Heng Swee Keat'\n",
       "36. 'Indranee Rajah'\n",
       "37. 'Janil Puthucheary'\n",
       "38. 'Jessica Tan Soon Neo'\n",
       "39. 'Joan Pereira'\n",
       "40. 'Josephine Teo'\n",
       "41. 'K Shanmugam'\n",
       "42. 'Koh Poh Koon'\n",
       "43. 'Kwek Hian Chuan'\n",
       "44. 'Lam Pin Min'\n",
       "45. 'Lawrence Wong'\n",
       "46. 'Lee Hong Chuang'\n",
       "47. 'Lee Hsien Loong'\n",
       "48. 'Liang Eng Hwa'\n",
       "49. 'Lim Biow Chuan'\n",
       "50. 'Lim Wee Kiak'\n",
       "51. 'Louis Ng Kok Kwang'\n",
       "52. 'Low Yen Ling'\n",
       "53. 'Maliki Osman'\n",
       "54. 'Mariam Jaafar'\n",
       "55. 'Masagos Zukifli'\n",
       "56. 'Melvin Yong'\n",
       "57. 'Muhamad Faishal Ibrahim'\n",
       "58. 'Murali Pillai'\n",
       "59. 'Nadia A. Samdin'\n",
       "60. 'Ng Chee Meng'\n",
       "61. 'Ng Eng Hen'\n",
       "62. 'Ng Ling Ling'\n",
       "63. 'Ong Ye Kung'\n",
       "64. 'Patrick Tay'\n",
       "65. 'Poh Li San'\n",
       "66. 'Rachel Ong Sin Yen'\n",
       "67. 'Rahayu Mahzam'\n",
       "68. 'Raymond Lye'\n",
       "69. 'S Iswaran'\n",
       "70. 'Saktiandi Supaat'\n",
       "71. 'Seah Kian Peng'\n",
       "72. 'Shamsul Kamar'\n",
       "73. 'Sharael Taha'\n",
       "74. 'Shawn Huang Wei Zhong'\n",
       "75. 'Sim Ann'\n",
       "76. 'Sitoh Yi Pin'\n",
       "77. 'Sun Xueling'\n",
       "78. 'Tan Chuan-Jin'\n",
       "79. 'Tan Kiat How'\n",
       "80. 'Tan See Leng'\n",
       "81. 'Tan Wu Meng'\n",
       "82. 'Teo Chee Hean'\n",
       "83. 'Tharman Shanmugaratnam'\n",
       "84. 'Tin Pei Ling'\n",
       "85. 'Victor Lye Thiam Fatt'\n",
       "86. 'Vikram Nair'\n",
       "87. 'Vivian Balakrishnan'\n",
       "88. 'Wan Rizal'\n",
       "89. 'Xie Yao Quan'\n",
       "90. 'Yeo Wan Ling'\n",
       "91. 'Yip Hon Weng'\n",
       "92. 'Zaqy Mohamad'\n",
       "93. 'Zhul Rahim'\n",
       "\n",
       "\n"
      ],
      "text/plain": [
       " [1] Alex Yam                Alex Yeo                Alvin Tan              \n",
       " [4] Amrin Amin              Amy Khor                Ang Wei Neng           \n",
       " [7] Muhamad Faishal Ibrahim Baey Yam Keng           Carrie Tan             \n",
       "[10] Chan Chun Sing          Chan Hui Yuh            Chee Hong Tat          \n",
       "[13] Cheng Li Hui            Cheryl Chan             Chong Kee Hiong        \n",
       "[16] Christopher de Souza    Chua Eng Leong          Darryl David           \n",
       "[19] Denise Phua Lay Peng    Derrick Goh             Desmond Choo           \n",
       "[22] Desmond Lee             Desmond Tan             Don Wee                \n",
       "[25] Lim Wee Kiak            Maliki Osman            Edward Chia Bing Hui   \n",
       "[28] Edwin Tong              Eric Chua               Fahmi Aliman           \n",
       "[31] Foo Mee Har             Gan Kim Yong            Gan Siow Huang         \n",
       "[34] Gan Thiam Poh           Grace Fu                Hany Soh               \n",
       "[37] Heng Chee How           Heng Swee Keat          Indranee Rajah         \n",
       "[40] Janil Puthucheary       Jessica Tan Soon Neo    Joan Pereira           \n",
       "[43] Josephine Teo           K Shanmugam             Koh Poh Koon           \n",
       "[46] Kwek Hian Chuan         Lam Pin Min             Lawrence Wong          \n",
       "[49] Lee Hong Chuang         Lee Hsien Loong         Liang Eng Hwa          \n",
       "[52] Lim Biow Chuan          Louis Ng Kok Kwang      Low Yen Ling           \n",
       "[55] Mariam Jaafar           Masagos Zukifli         Melvin Yong            \n",
       "[58] Murali Pillai           Nadia A. Samdin         Ng Chee Meng           \n",
       "[61] Ng Eng Hen              Ng Ling Ling            Ong Ye Kung            \n",
       "[64] Patrick Tay             Poh Li San              Rachel Ong Sin Yen     \n",
       "[67] Rahayu Mahzam           Raymond Lye             S Iswaran              \n",
       "[70] Saktiandi Supaat        Seah Kian Peng          Shamsul Kamar          \n",
       "[73] Sharael Taha            Shawn Huang Wei Zhong   Sim Ann                \n",
       "[76] Sitoh Yi Pin            Sun Xueling             Tan Chuan-Jin          \n",
       "[79] Tan Kiat How            Tan See Leng            Tan Wu Meng            \n",
       "[82] Teo Chee Hean           Tharman Shanmugaratnam  Tin Pei Ling           \n",
       "[85] Victor Lye Thiam Fatt   Vikram Nair             Vivian Balakrishnan    \n",
       "[88] Wan Rizal               Xie Yao Quan            Yeo Wan Ling           \n",
       "[91] Yip Hon Weng            Zaqy Mohamad            Zhul Rahim             \n",
       "93 Levels: Alex Yam Alex Yeo Alvin Tan Amrin Amin Amy Khor ... Zhul Rahim"
      ]
     },
     "metadata": {},
     "output_type": "display_data"
    }
   ],
   "source": [
    "unique(fbf$candidate)"
   ]
  },
  {
   "cell_type": "code",
   "execution_count": 19,
   "metadata": {},
   "outputs": [
    {
     "name": "stdout",
     "output_type": "stream",
     "text": [
      "'data.frame':\t93 obs. of  5 variables:\n",
      " $ candidate   : Factor w/ 93 levels \"Alex Yam\",\"Alex Yeo\",..: 1 2 3 4 5 6 57 7 8 9 ...\n",
      " $ fb_followers: int  3979 1234 3579 48340 31959 9227 22023 39247 2253 83875 ...\n",
      " $ articles    : int  4 8 7 13 3 15 6 4 7 39 ...\n",
      " $ incumbent   : logi  TRUE FALSE FALSE TRUE TRUE TRUE ...\n",
      " $ officeholder: logi  FALSE FALSE FALSE TRUE TRUE FALSE ...\n"
     ]
    }
   ],
   "source": [
    "str(fbf)"
   ]
  },
  {
   "cell_type": "markdown",
   "metadata": {},
   "source": [
    "## Challenge: Use fb_followers data to examine the relationship between news coverage of PAP candidates during the campaign and the number of Facebook followers they accumulate\n",
    "\n",
    "Is there an relationship between news coverage of candidates during electoral campaigns and the number of followers they collect on social media platforms such as Facebook? If all press is good press and success in politics is at least partly contingent on name recognition (you cannot vote for who you don’t know), then the relationship between news coverage of candidates and their online followings seems worthy of investigation.\n",
    "\n",
    "This exercise involves examining the relationship between local newspaper coverage of candidates running for the People’s Action Party (PAP) during Singapore’s recent GE2020 and the number of Facebook followers that the candidate had accumulated on their official Facebook page as of midnight the night before polling day on July 10, 2020. In particular, let’s see if we can use the amount of news coverage received by candidates (articles) to predict their Facebook followings (fb_followers)."
   ]
  },
  {
   "cell_type": "markdown",
   "metadata": {},
   "source": [
    "## Q1: Does the relationship meet the conditions for linear regression?\n",
    "\n",
    "Before we attempt to run any linear regressions, let’s first visualise the data and check to see whether our variables meet the conditions for regression. To recall, these are:\n",
    "\n",
    "- The variables are quantitative (already know this)\n",
    "- No outliers\n",
    "- The relationship is straight enough"
   ]
  },
  {
   "cell_type": "markdown",
   "metadata": {},
   "source": [
    "### Step 1: Make a scatter plot of fb_followers by articles\n",
    "\n",
    "Do you see any outliers? Does the relationship seem straight enough?"
   ]
  },
  {
   "cell_type": "code",
   "execution_count": 21,
   "metadata": {},
   "outputs": [
    {
     "data": {
      "image/png": "[encoded data removed]",
      "text/plain": [
       "Plot with title \"Scatter Plot of FB Followers by Articles\""
      ]
     },
     "metadata": {},
     "output_type": "display_data"
    }
   ],
   "source": [
    "plot(fb_followers ~ articles,\n",
    "     data = fbf,\n",
    "    main = \"Scatter Plot of FB Followers by Articles\",\n",
    "    xlab = \"Number of Articles\",\n",
    "    ylab = \"FB Followers\")\n",
    "\n",
    "# THERE IS ONE MAJOR OUTLIER ON THE VERY END OF IT"
   ]
  },
  {
   "cell_type": "markdown",
   "metadata": {},
   "source": [
    "### Step 2: Make Histograms of fb_followers and articles"
   ]
  },
  {
   "cell_type": "code",
   "execution_count": 26,
   "metadata": {},
   "outputs": [
    {
     "data": {
      "image/png": "[encoded data removed]",
      "text/plain": [
       "Plot with title \"Histogram of Articles\""
      ]
     },
     "metadata": {},
     "output_type": "display_data"
    }
   ],
   "source": [
    "par(mfrow = c(1,2))\n",
    "\n",
    "hist(fbf$fb_followers,\n",
    "    col = \"lightblue\",\n",
    "    main = \"Histogram of FB Followers\",\n",
    "    xlab = \"FB Followers\",\n",
    "    freq = FALSE)\n",
    "\n",
    "hist(fbf$articles,\n",
    "    col = \"red\",\n",
    "    main = \"Histogram of Articles\",\n",
    "    xlab = \"Articles\",\n",
    "    freq = FALSE)"
   ]
  },
  {
   "cell_type": "markdown",
   "metadata": {},
   "source": [
    "### Step 3: Make Boxplots of fb_followers and articles"
   ]
  },
  {
   "cell_type": "code",
   "execution_count": 30,
   "metadata": {},
   "outputs": [
    {
     "data": {
      "image/png": "[encoded data removed]",
      "text/plain": [
       "Plot with title \"Boxplot of Articles\""
      ]
     },
     "metadata": {},
     "output_type": "display_data"
    }
   ],
   "source": [
    "par(mfrow = c(1,2))\n",
    "\n",
    "boxplot(fbf$fb_followers,\n",
    "       data = fbf,\n",
    "       main = \"Boxplot of FB Followers\",\n",
    "       xlab = \"FB Followers\")\n",
    "\n",
    "boxplot(fbf$articles,\n",
    "        main = \"Boxplot of Articles\",\n",
    "        xlab = \"Articles\")"
   ]
  },
  {
   "cell_type": "markdown",
   "metadata": {},
   "source": [
    "The results from Steps 1-3 would seem to indicate that we may have issues with outliers. Before going any further, we should probably transform both of our variables and reassess the relationship of the transformed variables."
   ]
  },
  {
   "cell_type": "markdown",
   "metadata": {},
   "source": [
    "### Step 4: Transform variables using decadal log"
   ]
  },
  {
   "cell_type": "code",
   "execution_count": 32,
   "metadata": {},
   "outputs": [],
   "source": [
    "fbf$log_fb_followers <- log(fbf$fb_followers, 10)\n",
    "\n",
    "fbf$log_articles <- log(fbf$articles, 10)"
   ]
  },
  {
   "cell_type": "markdown",
   "metadata": {},
   "source": [
    "### Step 5: Reassess the relationship of logged variables using scatter plot"
   ]
  },
  {
   "cell_type": "code",
   "execution_count": 34,
   "metadata": {},
   "outputs": [
    {
     "data": {
      "image/png": "[encoded data removed]",
      "text/plain": [
       "Plot with title \"Scatter plot of FB Followers and Articles (logged)\""
      ]
     },
     "metadata": {},
     "output_type": "display_data"
    }
   ],
   "source": [
    "plot(log_fb_followers ~ log_articles,\n",
    "    data = fbf,\n",
    "    main = 'Scatter plot of FB Followers and Articles (logged)',\n",
    "    xlab = \"(log) Articles\",\n",
    "    ylab = \"(log) FB Followers\",\n",
    "    col = \"lightblue\",\n",
    "    pch = 19)"
   ]
  },
  {
   "cell_type": "markdown",
   "metadata": {},
   "source": [
    "### Step 6: Make Histograms of logged variables"
   ]
  },
  {
   "cell_type": "code",
   "execution_count": 38,
   "metadata": {},
   "outputs": [
    {
     "data": {
      "image/png": "[encoded data removed]",
      "text/plain": [
       "Plot with title \"Histogram of Articles (log)\""
      ]
     },
     "metadata": {},
     "output_type": "display_data"
    }
   ],
   "source": [
    "par(mfrow = c(1,2))\n",
    "\n",
    "hist(fbf$log_fb_followers,\n",
    "    col = \"lightblue\",\n",
    "    main = \"Histogram of FB Followers (log)\",\n",
    "    xlab = \"FB Followers\",\n",
    "    freq = FALSE)\n",
    "\n",
    "hist(fbf$log_articles,\n",
    "    col = \"red\",\n",
    "    main = \"Histogram of Articles (log)\",\n",
    "    xlab = \"Articles\",\n",
    "    freq = FALSE)"
   ]
  },
  {
   "cell_type": "markdown",
   "metadata": {},
   "source": [
    "### Step 7: Make boxplots of logged variables"
   ]
  },
  {
   "cell_type": "code",
   "execution_count": 48,
   "metadata": {},
   "outputs": [
    {
     "data": {
      "image/png": "[encoded data removed]",
      "text/plain": [
       "Plot with title \"Boxplot of Articles\""
      ]
     },
     "metadata": {},
     "output_type": "display_data"
    }
   ],
   "source": [
    "par(mfrow = c(1,2))\n",
    "\n",
    "boxplot(fbf$log_fb_followers,\n",
    "       data = fbf,\n",
    "       main = \"Boxplot of FB Followers\",\n",
    "       xlab = \"FB Followers\",\n",
    "       col = \"lightblue\")\n",
    "\n",
    "boxplot(fbf$log_articles,\n",
    "        main = \"Boxplot of Articles\",\n",
    "        xlab = \"Articles\",\n",
    "        col = \"red\")"
   ]
  },
  {
   "cell_type": "markdown",
   "metadata": {},
   "source": [
    "Okay, so taking the decadal log of both fb_followers and articles seems to produce a scatter plot that is straight enough. While the scatter plot as well as the histograms and boxplots still seems indicate the presence of some outliers, they do not seem to be nearly as problematic as before. The resulting distributions also look somewhat normal.\n",
    "\n",
    "Let’s now proceed to estimating a linear model."
   ]
  },
  {
   "cell_type": "markdown",
   "metadata": {},
   "source": [
    "## Q2: Can you predict FB Followers using News Coverage?\n",
    "\n",
    "So lets see whether the news coverage a candidate receives during the campaign period predicts the number of Facebook followers that they have accumulated by the end of the campaign period by running a linear model on the log transformed variables."
   ]
  },
  {
   "cell_type": "markdown",
   "metadata": {},
   "source": [
    "### Step 8: Estimate the Linear Model"
   ]
  },
  {
   "cell_type": "code",
   "execution_count": 41,
   "metadata": {},
   "outputs": [
    {
     "data": {
      "text/plain": [
       "\n",
       "Call:\n",
       "lm(formula = log_fb_followers ~ log_articles, data = fbf)\n",
       "\n",
       "Coefficients:\n",
       " (Intercept)  log_articles  \n",
       "      3.2237        0.7241  \n"
      ]
     },
     "metadata": {},
     "output_type": "display_data"
    }
   ],
   "source": [
    "lm_fb_followers <- lm(log_fb_followers ~ log_articles, data = fbf)\n",
    "lm_fb_followers"
   ]
  },
  {
   "cell_type": "markdown",
   "metadata": {},
   "source": [
    "### Step 9: Interpret the Coefficients\n",
    "\n",
    "What is the intercept? What is the slope? How would you interpret it in everyday language?"
   ]
  },
  {
   "cell_type": "code",
   "execution_count": null,
   "metadata": {},
   "outputs": [],
   "source": [
    "# THE INTERCEPT IS 3.2237\n",
    "\n",
    "# THE SLOPE IS 0.7241\n",
    "\n",
    "# THIS MEANS THAT FOR EVERY INCREASE IN ARTICLE, THERE IS A CORRESPONDING INCREASE IN FB FOLLOWERS"
   ]
  },
  {
   "cell_type": "markdown",
   "metadata": {},
   "source": [
    "### Step 10: Create scatter plot with line of best fit"
   ]
  },
  {
   "cell_type": "code",
   "execution_count": 49,
   "metadata": {},
   "outputs": [
    {
     "data": {
      "image/png": "[encoded data removed]",
      "text/plain": [
       "Plot with title \"News Coverage and FB Followers\""
      ]
     },
     "metadata": {},
     "output_type": "display_data"
    }
   ],
   "source": [
    "plot(log_fb_followers ~ log_articles,\n",
    "    data = fbf,\n",
    "    xlab = \"Number of Articles (log)\",\n",
    "    ylab = \"Number of FB Followers (log)\",\n",
    "    main = \"News Coverage and FB Followers\",\n",
    "    col = \"blue\",\n",
    "    pch = 19)\n",
    "\n",
    "abline(lm_fb_followers, col = \"blue\")"
   ]
  },
  {
   "cell_type": "markdown",
   "metadata": {},
   "source": [
    "## Q3: Is the Relationship the Same for First-Time Candidates and Incumbents?\n",
    "\n",
    "Is the relationship between news coverage and FB followers the same for first-time candidates and incumbents? Do incumbents seem to have an advantage in the race for followers and name recognition?\n",
    "\n",
    "Every general election, the PAP retires approximately one-fourth to one third of incumbent PAP Members of Parliament (MPs) as part of the PAP’s self-renewal process and replaces them with first-time candidates. These first-time candidates represent the future of the party but (in most cases) are not yet known to the electorate and presumably do not yet enjoy widespread name recognition. By contrast, incumbent PAP MPs presumably enjoy greater name recognition at least within their own constituencies given a record of constituency service built up prior to the election.\n",
    "\n",
    "One way that we might find out whether incumbents have an advantage in their number of followers, or if news coverage during the campaign is associated with greater increases in the number of followers for first-time candidates (as opposed to incumbents) is by subsetting the data, and comparing the intercepts and slopes."
   ]
  },
  {
   "cell_type": "markdown",
   "metadata": {},
   "source": [
    "### Step 11: Subset the data by incumbent"
   ]
  },
  {
   "cell_type": "code",
   "execution_count": 52,
   "metadata": {},
   "outputs": [
    {
     "data": {
      "text/html": [
       "<table>\n",
       "<thead><tr><th scope=col>candidate</th><th scope=col>fb_followers</th><th scope=col>articles</th><th scope=col>incumbent</th><th scope=col>officeholder</th><th scope=col>log_fb_followers</th><th scope=col>log_articles</th></tr></thead>\n",
       "<tbody>\n",
       "\t<tr><td>Alex Yam    </td><td> 3979       </td><td> 4          </td><td> TRUE       </td><td>FALSE       </td><td>3.599774    </td><td>0.6020600   </td></tr>\n",
       "\t<tr><td>Alex Yeo    </td><td> 1234       </td><td> 8          </td><td>FALSE       </td><td>FALSE       </td><td>3.091315    </td><td>0.9030900   </td></tr>\n",
       "\t<tr><td>Alvin Tan   </td><td> 3579       </td><td> 7          </td><td>FALSE       </td><td>FALSE       </td><td>3.553762    </td><td>0.8450980   </td></tr>\n",
       "\t<tr><td>Amrin Amin  </td><td>48340       </td><td>13          </td><td> TRUE       </td><td> TRUE       </td><td>4.684307    </td><td>1.1139434   </td></tr>\n",
       "\t<tr><td>Amy Khor    </td><td>31959       </td><td> 3          </td><td> TRUE       </td><td> TRUE       </td><td>4.504593    </td><td>0.4771213   </td></tr>\n",
       "\t<tr><td>Ang Wei Neng</td><td> 9227       </td><td>15          </td><td> TRUE       </td><td>FALSE       </td><td>3.965061    </td><td>1.1760913   </td></tr>\n",
       "</tbody>\n",
       "</table>\n"
      ],
      "text/latex": [
       "\\begin{tabular}{r|lllllll}\n",
       " candidate & fb\\_followers & articles & incumbent & officeholder & log\\_fb\\_followers & log\\_articles\\\\\n",
       "\\hline\n",
       "\t Alex Yam     &  3979        &  4           &  TRUE        & FALSE        & 3.599774     & 0.6020600   \\\\\n",
       "\t Alex Yeo     &  1234        &  8           & FALSE        & FALSE        & 3.091315     & 0.9030900   \\\\\n",
       "\t Alvin Tan    &  3579        &  7           & FALSE        & FALSE        & 3.553762     & 0.8450980   \\\\\n",
       "\t Amrin Amin   & 48340        & 13           &  TRUE        &  TRUE        & 4.684307     & 1.1139434   \\\\\n",
       "\t Amy Khor     & 31959        &  3           &  TRUE        &  TRUE        & 4.504593     & 0.4771213   \\\\\n",
       "\t Ang Wei Neng &  9227        & 15           &  TRUE        & FALSE        & 3.965061     & 1.1760913   \\\\\n",
       "\\end{tabular}\n"
      ],
      "text/markdown": [
       "\n",
       "| candidate | fb_followers | articles | incumbent | officeholder | log_fb_followers | log_articles |\n",
       "|---|---|---|---|---|---|---|\n",
       "| Alex Yam     |  3979        |  4           |  TRUE        | FALSE        | 3.599774     | 0.6020600    |\n",
       "| Alex Yeo     |  1234        |  8           | FALSE        | FALSE        | 3.091315     | 0.9030900    |\n",
       "| Alvin Tan    |  3579        |  7           | FALSE        | FALSE        | 3.553762     | 0.8450980    |\n",
       "| Amrin Amin   | 48340        | 13           |  TRUE        |  TRUE        | 4.684307     | 1.1139434    |\n",
       "| Amy Khor     | 31959        |  3           |  TRUE        |  TRUE        | 4.504593     | 0.4771213    |\n",
       "| Ang Wei Neng |  9227        | 15           |  TRUE        | FALSE        | 3.965061     | 1.1760913    |\n",
       "\n"
      ],
      "text/plain": [
       "  candidate    fb_followers articles incumbent officeholder log_fb_followers\n",
       "1 Alex Yam      3979         4        TRUE     FALSE        3.599774        \n",
       "2 Alex Yeo      1234         8       FALSE     FALSE        3.091315        \n",
       "3 Alvin Tan     3579         7       FALSE     FALSE        3.553762        \n",
       "4 Amrin Amin   48340        13        TRUE      TRUE        4.684307        \n",
       "5 Amy Khor     31959         3        TRUE      TRUE        4.504593        \n",
       "6 Ang Wei Neng  9227        15        TRUE     FALSE        3.965061        \n",
       "  log_articles\n",
       "1 0.6020600   \n",
       "2 0.9030900   \n",
       "3 0.8450980   \n",
       "4 1.1139434   \n",
       "5 0.4771213   \n",
       "6 1.1760913   "
      ]
     },
     "metadata": {},
     "output_type": "display_data"
    }
   ],
   "source": [
    "head(fbf)\n",
    "\n",
    "firsttimers <- fbf[fbf$incumbent == \"FALSE\", ] \n",
    "\n",
    "incumbents <- fbf[fbf$incumbent == \"TRUE\", ]"
   ]
  },
  {
   "cell_type": "markdown",
   "metadata": {},
   "source": [
    "### Step 12: Estimate linear models on the subsets\n",
    "\n",
    "Lets estimate some linear models, inspect the output, and compare the slopes and intercepts:"
   ]
  },
  {
   "cell_type": "code",
   "execution_count": 54,
   "metadata": {},
   "outputs": [
    {
     "data": {
      "text/plain": [
       "\n",
       "Call:\n",
       "lm(formula = log_fb_followers ~ log_articles, data = firsttimers)\n",
       "\n",
       "Coefficients:\n",
       " (Intercept)  log_articles  \n",
       "     3.18075       0.03106  \n"
      ]
     },
     "metadata": {},
     "output_type": "display_data"
    },
    {
     "data": {
      "text/plain": [
       "\n",
       "Call:\n",
       "lm(formula = log_fb_followers ~ log_articles, data = incumbents)\n",
       "\n",
       "Coefficients:\n",
       " (Intercept)  log_articles  \n",
       "      3.5862        0.6343  \n"
      ]
     },
     "metadata": {},
     "output_type": "display_data"
    }
   ],
   "source": [
    "lm_firsttimers <- lm(log_fb_followers ~ log_articles, data = firsttimers)\n",
    "\n",
    "lm_incumbents <- lm(log_fb_followers ~ log_articles, data = incumbents)\n",
    "\n",
    "lm_firsttimers\n",
    "lm_incumbents"
   ]
  },
  {
   "cell_type": "markdown",
   "metadata": {},
   "source": [
    "### Step 13: Plot scatter plots and lines of best fit for both subsets in one plot"
   ]
  },
  {
   "cell_type": "code",
   "execution_count": 64,
   "metadata": {},
   "outputs": [
    {
     "data": {
      "image/png": "[encoded data removed]",
      "text/plain": [
       "Plot with title \"News Coverage and FB Followers (log)\""
      ]
     },
     "metadata": {},
     "output_type": "display_data"
    }
   ],
   "source": [
    "plot(log_fb_followers ~ log_articles,\n",
    "    data = incumbents,\n",
    "    col = \"blue\",\n",
    "    xlab = \"Number of FB Followers (log)\",\n",
    "    ylab = \"Number of Articles (log)\",\n",
    "    main = \"News Coverage and FB Followers (log)\",\n",
    "    pch = 19,\n",
    "    xlim = range(fbf$log_articles, na.rm = TRUE),\n",
    "    ylim = range(fbf$log_fb_followers, na.rm = TRUE))\n",
    "\n",
    "points(log_fb_followers ~ log_articles,\n",
    "    data = firsttimers,\n",
    "    col = \"red\",\n",
    "    pch = 19)\n",
    "\n",
    "abline(lm_firsttimers, col = \"red\", lwd = 3)\n",
    "abline(lm_incumbents, col = \"blue\", lwd = 3)"
   ]
  },
  {
   "cell_type": "markdown",
   "metadata": {},
   "source": [
    "## Q4: Is the Relationship different for Incumbent Backbenchers vs. Officeholders\n",
    "\n",
    "We can further divide the incumbent candidates into two types: Backbenchers and officeholders.\n",
    "\n",
    "Backbenchers are incumbent MPs who, prior to the election, held no office within government and were just regular MPs. Officeholders are those who, prior to the dissolution of Parliament, held positions within government. Even though the campaign is held in between Parliaments, these incumbents tend to appear a lot at campagin events, on television, and give longer speeches than other incumbents."
   ]
  },
  {
   "cell_type": "markdown",
   "metadata": {},
   "source": [
    "### Step 14: Subset incumbents by officeholder status"
   ]
  },
  {
   "cell_type": "code",
   "execution_count": 67,
   "metadata": {},
   "outputs": [],
   "source": [
    "backbenchers <- incumbents[incumbents$officeholder == FALSE, ]\n",
    "\n",
    "officeholders <- incumbents[incumbents$officeholder == TRUE, ]"
   ]
  },
  {
   "cell_type": "markdown",
   "metadata": {},
   "source": [
    "### Step 15: Estimate linear models on incumbent backbenchers, and incumbent officeholders"
   ]
  },
  {
   "cell_type": "code",
   "execution_count": 68,
   "metadata": {},
   "outputs": [],
   "source": [
    "lm_officeholders <- lm(officeholders$log_fb_followers ~ officeholders$log_articles, data = officeholders)  \n",
    "\n",
    "lm_backbenchers <- lm(backbenchers$log_fb_followers ~ backbenchers$log_articles, data = backbenchers)"
   ]
  },
  {
   "cell_type": "markdown",
   "metadata": {},
   "source": [
    "### Step 16: Plot scatterplots with lines of best fit for all three subsets in a single plot"
   ]
  },
  {
   "cell_type": "code",
   "execution_count": 70,
   "metadata": {},
   "outputs": [
    {
     "data": {
      "image/png": "[encoded data removed]",
      "text/plain": [
       "Plot with title \"News Coverage and Facebook Followers (logged)\""
      ]
     },
     "metadata": {},
     "output_type": "display_data"
    }
   ],
   "source": [
    "plot(log_fb_followers ~ log_articles,\n",
    "    data = firsttimers,\n",
    "    col = \"blue\",\n",
    "    pch = 19,\n",
    "    main = \"News Coverage and Facebook Followers (logged)\",\n",
    "    xlab = \"(log) News Articles\",\n",
    "    ylab = \"(log) Facebook Followers\",\n",
    "    xlim = range(fbf$log_articles, na.rm=TRUE), \n",
    "    ylim = range(fbf$log_fb_followers, na.rm=TRUE))\n",
    "\n",
    "points(log_fb_followers ~ log_articles, \n",
    "      data = backbenchers,\n",
    "      col = \"red\",\n",
    "      pch = 19)\n",
    "\n",
    "points(log_fb_followers ~ log_articles, \n",
    "      data = officeholders,\n",
    "      col = \"green\",\n",
    "      pch = 19)\n",
    "\n",
    "abline(lm_firsttimers, col = \"blue\")\n",
    "abline(lm_backbenchers, col = \"red\")\n",
    "abline(lm_officeholders, col = \"green\")"
   ]
  },
  {
   "cell_type": "markdown",
   "metadata": {},
   "source": [
    "## Conclusion\n",
    "\n",
    "So, what did we find? It would seem that there is ultimately little evidence of an association between candidate news coverage and Facebook followers for first-time candidates and incumbent backbenchers. In contrast, there appears to be some evidence of an association between news coverage and Facebook followers for incumbent officeholders.\n",
    "\n",
    "What might explain this? Well, let’s first think back to the lesson in the previous class regarding how correlation does not imply causation. As you likely remember, there are a number of things other than “A causes B” that can explain a correlation. For example perhaps the news coverage as well as the number of Facebook followers for incumbent officeholders are both driven by a third, “lurking variable”. Indeed, the act of subsetting incumbent PAPs would seem to suggest that the percieved power or status of the MP within the party or government (such that they are appointed to government office) may drive not only Facebook followers but also candidate news coverage during the campaign period.\n",
    "\n",
    "As an additional task, you might check to see which PAP candidate had the most news coverage during the campagin and the most Facebook followers. Do you think that this candidate got those Facebook followers because of the attention they received from the press during the campaign period? Or did they get those followers and the news coverage because they are, well, important?"
   ]
  }
 ],
 "metadata": {
  "kernelspec": {
   "display_name": "R",
   "language": "R",
   "name": "ir"
  },
  "language_info": {
   "codemirror_mode": "r",
   "file_extension": ".r",
   "mimetype": "text/x-r-source",
   "name": "R",
   "pygments_lexer": "r",
   "version": "3.6.1"
  }
 },
 "nbformat": 4,
 "nbformat_minor": 4
}
