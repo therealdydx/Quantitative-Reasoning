{
 "cells": [
  {
   "cell_type": "markdown",
   "metadata": {},
   "source": [
    "# Exercise 22 – More Sampling Variability\n",
    "\n",
    "Notebook Written By: WDY (Yale-NUS '24) \n",
    "(Come say hi at https://www.linkedin.com/in/dys-profile/)\n",
    "\n",
    "### Introduction\n",
    "\n",
    "In this activity, we have access to the entire population. This is rarely the case in real life.\n",
    "\n",
    "Gathering information on an entire population is often extremely costly or even impossible.\n",
    "\n",
    "Because of this, we often take a small sample of the population and use it to make educated guesses about the characteristics of the population under study.\n",
    "\n",
    "To illustrate this, let’s take as our population a data set of temperatures.\n"
   ]
  },
  {
   "cell_type": "markdown",
   "metadata": {},
   "source": [
    "Download the data frame temperatures.csv from the US Centre for Environmental Information provided on Canvas and do some preliminary data exploration."
   ]
  },
  {
   "cell_type": "code",
   "execution_count": 25,
   "metadata": {},
   "outputs": [],
   "source": [
    "pop <- read.csv(\"C:/Users/Admin/OneDrive/Documents/Yale-NUS/Quantitative Reasoning/Quantitative Reasoning Repository/Exercise T - More Simuations/temperatures.csv\")"
   ]
  },
  {
   "cell_type": "code",
   "execution_count": 26,
   "metadata": {},
   "outputs": [
    {
     "data": {
      "text/html": [
       "<table>\n",
       "<thead><tr><th scope=col>CITY</th><th scope=col>TEMP</th><th scope=col>DATE</th></tr></thead>\n",
       "<tbody>\n",
       "\t<tr><td>SEATTLE </td><td>3.10    </td><td>19610101</td></tr>\n",
       "\t<tr><td>SEATTLE </td><td>0.55    </td><td>19610102</td></tr>\n",
       "\t<tr><td>SEATTLE </td><td>0.00    </td><td>19610103</td></tr>\n",
       "\t<tr><td>SEATTLE </td><td>4.45    </td><td>19610104</td></tr>\n",
       "\t<tr><td>SEATTLE </td><td>8.35    </td><td>19610105</td></tr>\n",
       "\t<tr><td>SEATTLE </td><td>6.70    </td><td>19610106</td></tr>\n",
       "</tbody>\n",
       "</table>\n"
      ],
      "text/latex": [
       "\\begin{tabular}{r|lll}\n",
       " CITY & TEMP & DATE\\\\\n",
       "\\hline\n",
       "\t SEATTLE  & 3.10     & 19610101\\\\\n",
       "\t SEATTLE  & 0.55     & 19610102\\\\\n",
       "\t SEATTLE  & 0.00     & 19610103\\\\\n",
       "\t SEATTLE  & 4.45     & 19610104\\\\\n",
       "\t SEATTLE  & 8.35     & 19610105\\\\\n",
       "\t SEATTLE  & 6.70     & 19610106\\\\\n",
       "\\end{tabular}\n"
      ],
      "text/markdown": [
       "\n",
       "| CITY | TEMP | DATE |\n",
       "|---|---|---|\n",
       "| SEATTLE  | 3.10     | 19610101 |\n",
       "| SEATTLE  | 0.55     | 19610102 |\n",
       "| SEATTLE  | 0.00     | 19610103 |\n",
       "| SEATTLE  | 4.45     | 19610104 |\n",
       "| SEATTLE  | 8.35     | 19610105 |\n",
       "| SEATTLE  | 6.70     | 19610106 |\n",
       "\n"
      ],
      "text/plain": [
       "  CITY    TEMP DATE    \n",
       "1 SEATTLE 3.10 19610101\n",
       "2 SEATTLE 0.55 19610102\n",
       "3 SEATTLE 0.00 19610103\n",
       "4 SEATTLE 4.45 19610104\n",
       "5 SEATTLE 8.35 19610105\n",
       "6 SEATTLE 6.70 19610106"
      ]
     },
     "metadata": {},
     "output_type": "display_data"
    }
   ],
   "source": [
    "head(pop)"
   ]
  },
  {
   "cell_type": "code",
   "execution_count": 27,
   "metadata": {},
   "outputs": [
    {
     "data": {
      "text/html": [
       "<ol class=list-inline>\n",
       "\t<li>SEATTLE</li>\n",
       "\t<li>SAN DIEGO</li>\n",
       "\t<li>PHILADELPHIA</li>\n",
       "\t<li>PHOENIX</li>\n",
       "\t<li>LAS VEGAS</li>\n",
       "\t<li>CHARLOTTE</li>\n",
       "\t<li>DALLAS</li>\n",
       "\t<li>BALTIMORE</li>\n",
       "\t<li>SAN JUAN</li>\n",
       "\t<li>LOS ANGELES</li>\n",
       "\t<li>MIAMI</li>\n",
       "\t<li>NEW ORLEANS</li>\n",
       "\t<li>ALBUQUERQUE</li>\n",
       "\t<li>PORTLAND</li>\n",
       "\t<li>BOSTON</li>\n",
       "\t<li>SAN FRANCISCO</li>\n",
       "\t<li>TAMPA</li>\n",
       "\t<li>NEW YORK</li>\n",
       "\t<li>DETROIT</li>\n",
       "\t<li>ST LOUIS</li>\n",
       "\t<li>CHICAGO</li>\n",
       "</ol>\n",
       "\n",
       "<details>\n",
       "\t<summary style=display:list-item;cursor:pointer>\n",
       "\t\t<strong>Levels</strong>:\n",
       "\t</summary>\n",
       "\t<ol class=list-inline>\n",
       "\t\t<li>'ALBUQUERQUE'</li>\n",
       "\t\t<li>'BALTIMORE'</li>\n",
       "\t\t<li>'BOSTON'</li>\n",
       "\t\t<li>'CHARLOTTE'</li>\n",
       "\t\t<li>'CHICAGO'</li>\n",
       "\t\t<li>'DALLAS'</li>\n",
       "\t\t<li>'DETROIT'</li>\n",
       "\t\t<li>'LAS VEGAS'</li>\n",
       "\t\t<li>'LOS ANGELES'</li>\n",
       "\t\t<li>'MIAMI'</li>\n",
       "\t\t<li>'NEW ORLEANS'</li>\n",
       "\t\t<li>'NEW YORK'</li>\n",
       "\t\t<li>'PHILADELPHIA'</li>\n",
       "\t\t<li>'PHOENIX'</li>\n",
       "\t\t<li>'PORTLAND'</li>\n",
       "\t\t<li>'SAN DIEGO'</li>\n",
       "\t\t<li>'SAN FRANCISCO'</li>\n",
       "\t\t<li>'SAN JUAN'</li>\n",
       "\t\t<li>'SEATTLE'</li>\n",
       "\t\t<li>'ST LOUIS'</li>\n",
       "\t\t<li>'TAMPA'</li>\n",
       "\t</ol>\n",
       "</details>"
      ],
      "text/latex": [
       "\\begin{enumerate*}\n",
       "\\item SEATTLE\n",
       "\\item SAN DIEGO\n",
       "\\item PHILADELPHIA\n",
       "\\item PHOENIX\n",
       "\\item LAS VEGAS\n",
       "\\item CHARLOTTE\n",
       "\\item DALLAS\n",
       "\\item BALTIMORE\n",
       "\\item SAN JUAN\n",
       "\\item LOS ANGELES\n",
       "\\item MIAMI\n",
       "\\item NEW ORLEANS\n",
       "\\item ALBUQUERQUE\n",
       "\\item PORTLAND\n",
       "\\item BOSTON\n",
       "\\item SAN FRANCISCO\n",
       "\\item TAMPA\n",
       "\\item NEW YORK\n",
       "\\item DETROIT\n",
       "\\item ST LOUIS\n",
       "\\item CHICAGO\n",
       "\\end{enumerate*}\n",
       "\n",
       "\\emph{Levels}: \\begin{enumerate*}\n",
       "\\item 'ALBUQUERQUE'\n",
       "\\item 'BALTIMORE'\n",
       "\\item 'BOSTON'\n",
       "\\item 'CHARLOTTE'\n",
       "\\item 'CHICAGO'\n",
       "\\item 'DALLAS'\n",
       "\\item 'DETROIT'\n",
       "\\item 'LAS VEGAS'\n",
       "\\item 'LOS ANGELES'\n",
       "\\item 'MIAMI'\n",
       "\\item 'NEW ORLEANS'\n",
       "\\item 'NEW YORK'\n",
       "\\item 'PHILADELPHIA'\n",
       "\\item 'PHOENIX'\n",
       "\\item 'PORTLAND'\n",
       "\\item 'SAN DIEGO'\n",
       "\\item 'SAN FRANCISCO'\n",
       "\\item 'SAN JUAN'\n",
       "\\item 'SEATTLE'\n",
       "\\item 'ST LOUIS'\n",
       "\\item 'TAMPA'\n",
       "\\end{enumerate*}\n"
      ],
      "text/markdown": [
       "1. SEATTLE\n",
       "2. SAN DIEGO\n",
       "3. PHILADELPHIA\n",
       "4. PHOENIX\n",
       "5. LAS VEGAS\n",
       "6. CHARLOTTE\n",
       "7. DALLAS\n",
       "8. BALTIMORE\n",
       "9. SAN JUAN\n",
       "10. LOS ANGELES\n",
       "11. MIAMI\n",
       "12. NEW ORLEANS\n",
       "13. ALBUQUERQUE\n",
       "14. PORTLAND\n",
       "15. BOSTON\n",
       "16. SAN FRANCISCO\n",
       "17. TAMPA\n",
       "18. NEW YORK\n",
       "19. DETROIT\n",
       "20. ST LOUIS\n",
       "21. CHICAGO\n",
       "\n",
       "\n",
       "\n",
       "**Levels**: 1. 'ALBUQUERQUE'\n",
       "2. 'BALTIMORE'\n",
       "3. 'BOSTON'\n",
       "4. 'CHARLOTTE'\n",
       "5. 'CHICAGO'\n",
       "6. 'DALLAS'\n",
       "7. 'DETROIT'\n",
       "8. 'LAS VEGAS'\n",
       "9. 'LOS ANGELES'\n",
       "10. 'MIAMI'\n",
       "11. 'NEW ORLEANS'\n",
       "12. 'NEW YORK'\n",
       "13. 'PHILADELPHIA'\n",
       "14. 'PHOENIX'\n",
       "15. 'PORTLAND'\n",
       "16. 'SAN DIEGO'\n",
       "17. 'SAN FRANCISCO'\n",
       "18. 'SAN JUAN'\n",
       "19. 'SEATTLE'\n",
       "20. 'ST LOUIS'\n",
       "21. 'TAMPA'\n",
       "\n",
       "\n"
      ],
      "text/plain": [
       " [1] SEATTLE       SAN DIEGO     PHILADELPHIA  PHOENIX       LAS VEGAS    \n",
       " [6] CHARLOTTE     DALLAS        BALTIMORE     SAN JUAN      LOS ANGELES  \n",
       "[11] MIAMI         NEW ORLEANS   ALBUQUERQUE   PORTLAND      BOSTON       \n",
       "[16] SAN FRANCISCO TAMPA         NEW YORK      DETROIT       ST LOUIS     \n",
       "[21] CHICAGO      \n",
       "21 Levels: ALBUQUERQUE BALTIMORE BOSTON CHARLOTTE CHICAGO DALLAS ... TAMPA"
      ]
     },
     "metadata": {},
     "output_type": "display_data"
    }
   ],
   "source": [
    "unique(pop$CITY)"
   ]
  },
  {
   "cell_type": "code",
   "execution_count": 28,
   "metadata": {},
   "outputs": [
    {
     "data": {
      "text/html": [
       "421848"
      ],
      "text/latex": [
       "421848"
      ],
      "text/markdown": [
       "421848"
      ],
      "text/plain": [
       "[1] 421848"
      ]
     },
     "metadata": {},
     "output_type": "display_data"
    }
   ],
   "source": [
    "length(pop$CITY)"
   ]
  },
  {
   "cell_type": "code",
   "execution_count": 29,
   "metadata": {},
   "outputs": [],
   "source": [
    "pop <- pop$TEMP"
   ]
  },
  {
   "cell_type": "markdown",
   "metadata": {},
   "source": [
    "### Step 1: Draw a histogram of temperatures"
   ]
  },
  {
   "cell_type": "code",
   "execution_count": 30,
   "metadata": {},
   "outputs": [
    {
     "data": {
      "image/png": "[encoded data removed]",
      "text/plain": [
       "Plot with title \"Histogram of temperatures\""
      ]
     },
     "metadata": {},
     "output_type": "display_data"
    }
   ],
   "source": [
    "# DRAW STANDARD HISTOGRAM\n",
    "\n",
    "hist(pop, \n",
    "     breaks = 40, \n",
    "     col = \"lightblue\", \n",
    "     main = \"Histogram of temperatures\", \n",
    "     xlab = \"Temperature\")"
   ]
  },
  {
   "cell_type": "markdown",
   "metadata": {},
   "source": [
    "### Step 2: Find the deviation from normal distribution of the plot"
   ]
  },
  {
   "cell_type": "code",
   "execution_count": 31,
   "metadata": {},
   "outputs": [
    {
     "data": {
      "image/png": "[encoded data removed]",
      "text/plain": [
       "Plot with title \"Normal Q-Q Plot\""
      ]
     },
     "metadata": {},
     "output_type": "display_data"
    }
   ],
   "source": [
    "# DRAW QQNORM LINE\n",
    "\n",
    "qqnorm(pop)\n",
    "qqline(pop, col = \"deeppink\")"
   ]
  },
  {
   "cell_type": "markdown",
   "metadata": {},
   "source": [
    "### Step 3: Find the mean and standard deviation of the dataset"
   ]
  },
  {
   "cell_type": "code",
   "execution_count": 32,
   "metadata": {},
   "outputs": [
    {
     "data": {
      "text/html": [
       "16.2987694619863"
      ],
      "text/latex": [
       "16.2987694619863"
      ],
      "text/markdown": [
       "16.2987694619863"
      ],
      "text/plain": [
       "[1] 16.29877"
      ]
     },
     "metadata": {},
     "output_type": "display_data"
    },
    {
     "data": {
      "text/html": [
       "9.43756973079396"
      ],
      "text/latex": [
       "9.43756973079396"
      ],
      "text/markdown": [
       "9.43756973079396"
      ],
      "text/plain": [
       "[1] 9.43757"
      ]
     },
     "metadata": {},
     "output_type": "display_data"
    }
   ],
   "source": [
    "# MEAN\n",
    "mu <- mean(pop)\n",
    "mu\n",
    "\n",
    "# STANDARD DEVIATION\n",
    "sigma <- sd(pop)\n",
    "sigma"
   ]
  },
  {
   "cell_type": "markdown",
   "metadata": {},
   "source": [
    "### Step 4: Draw a random sample of 100 temperatures\n",
    "\n",
    "Plot your sample next to the population and calculate the mean of your sample."
   ]
  },
  {
   "cell_type": "code",
   "execution_count": 33,
   "metadata": {},
   "outputs": [
    {
     "data": {
      "image/png": "[encoded data removed]",
      "text/plain": [
       "Plot with title \"Histogram of temperatures\""
      ]
     },
     "metadata": {},
     "output_type": "display_data"
    }
   ],
   "source": [
    "# GENERATE SAMPLE OF SIZE 100\n",
    "SRS <- sample(pop, size = 100, replace = TRUE)\n",
    "\n",
    "# SET GRAPHS BESIDE EACH OTHER\n",
    "par(mfrow = c(1,2))\n",
    "\n",
    "# SAMPLE GENERATED NUMBERS HISTOGRAM\n",
    "hist(SRS, \n",
    "    col = \"lightblue\",\n",
    "    xlim = range(pop),\n",
    "    freq = FALSE)\n",
    "\n",
    "# DATASET HISTOGRAM\n",
    "hist(pop,\n",
    "    col = \"lightblue\",\n",
    "    xlim = range(pop),\n",
    "    main = \"Histogram of temperatures\")"
   ]
  },
  {
   "cell_type": "markdown",
   "metadata": {},
   "source": [
    "- Generally, the sample will have similar characteristics as the population, like skew to the left. But it really depends on your particular sample!\n",
    "\n",
    "- With a sample size of only 100 out of over 400,000 data points, the mean and standard deviation of the sample are actually close to μ and σ."
   ]
  },
  {
   "cell_type": "code",
   "execution_count": 34,
   "metadata": {},
   "outputs": [
    {
     "data": {
      "text/html": [
       "16.704"
      ],
      "text/latex": [
       "16.704"
      ],
      "text/markdown": [
       "16.704"
      ],
      "text/plain": [
       "[1] 16.704"
      ]
     },
     "metadata": {},
     "output_type": "display_data"
    },
    {
     "data": {
      "text/html": [
       "8.84174750769886"
      ],
      "text/latex": [
       "8.84174750769886"
      ],
      "text/markdown": [
       "8.84174750769886"
      ],
      "text/plain": [
       "[1] 8.841748"
      ]
     },
     "metadata": {},
     "output_type": "display_data"
    }
   ],
   "source": [
    "mean(SRS)\n",
    "sd(SRS)"
   ]
  },
  {
   "cell_type": "markdown",
   "metadata": {},
   "source": [
    "Was that just luck or can we expect that?\n",
    "\n",
    "We note that anyone who took a sample of size 100 got a different sample mean. How much variability should we expect when estimating the population mean repeatedly from samples of size 100?"
   ]
  },
  {
   "cell_type": "markdown",
   "metadata": {},
   "source": [
    "### Step 5: Draw 1000 samples of size 100. \n",
    "\n",
    "- What do you observe from the histogram of those sample means? \n",
    "- Around what value is it centred? \n",
    "- What is its variability?"
   ]
  },
  {
   "cell_type": "markdown",
   "metadata": {},
   "source": [
    "We use a for-loop to draw 1000 random samples of size 100 and store the resulting means."
   ]
  },
  {
   "cell_type": "code",
   "execution_count": 35,
   "metadata": {},
   "outputs": [],
   "source": [
    "# GENERATE A VECTOR OF 1000 0s\n",
    "trials    <- 1000\n",
    "estimates <- numeric(trials)\n",
    "\n",
    "# CREATE A FOR LOOP TO APPEND VALUES INTO ESTIMATES ARRAY\n",
    "for (i in 1:trials) {\n",
    "  SRS <- sample(pop, size = 100, replace = FALSE)\n",
    "  estimates[i] <- mean(SRS)\n",
    "}"
   ]
  },
  {
   "cell_type": "markdown",
   "metadata": {},
   "source": [
    "### Step 6: Draw a histogram of all the sample means."
   ]
  },
  {
   "cell_type": "code",
   "execution_count": 36,
   "metadata": {},
   "outputs": [
    {
     "data": {
      "image/png": "[encoded data removed]",
      "text/plain": [
       "Plot with title \"Histogram of sample means\""
      ]
     },
     "metadata": {},
     "output_type": "display_data"
    }
   ],
   "source": [
    "# PLOT HISTOGRAM OF SAMPLE MEANS\n",
    "\n",
    "hist(estimates, \n",
    "     col=\"lightblue\", \n",
    "     breaks=20, \n",
    "     xlim=range(estimates),\n",
    "     main=\"Histogram of sample means\")\n",
    "\n",
    "# PLOT LINE TO SEPERATE DISTRIBUTION\n",
    "\n",
    "abline(v = mu, lwd = 2, col = \"deeppink\")"
   ]
  },
  {
   "cell_type": "markdown",
   "metadata": {},
   "source": [
    "### Step 7: Find the deviation of the sample means from normality"
   ]
  },
  {
   "cell_type": "code",
   "execution_count": 37,
   "metadata": {},
   "outputs": [
    {
     "data": {
      "image/png": "[encoded data removed]",
      "text/plain": [
       "Plot with title \"Normal Q-Q Plot\""
      ]
     },
     "metadata": {},
     "output_type": "display_data"
    }
   ],
   "source": [
    "# PLOT QQNORM LINE\n",
    "qqnorm(estimates)\n",
    "qqline(estimates, col=\"deeppink\")"
   ]
  },
  {
   "cell_type": "markdown",
   "metadata": {},
   "source": [
    "The histogram of the sample means looks like a normal distribution, centred around the true population mean."
   ]
  },
  {
   "cell_type": "markdown",
   "metadata": {},
   "source": [
    "### Step 8: Compare the summary statistics of the dataset against the samples"
   ]
  },
  {
   "cell_type": "code",
   "execution_count": 38,
   "metadata": {},
   "outputs": [
    {
     "data": {
      "text/html": [
       "16.2987694619863"
      ],
      "text/latex": [
       "16.2987694619863"
      ],
      "text/markdown": [
       "16.2987694619863"
      ],
      "text/plain": [
       "[1] 16.29877"
      ]
     },
     "metadata": {},
     "output_type": "display_data"
    },
    {
     "data": {
      "text/html": [
       "16.3139275"
      ],
      "text/latex": [
       "16.3139275"
      ],
      "text/markdown": [
       "16.3139275"
      ],
      "text/plain": [
       "[1] 16.31393"
      ]
     },
     "metadata": {},
     "output_type": "display_data"
    }
   ],
   "source": [
    "mu\n",
    "mean(estimates)"
   ]
  },
  {
   "cell_type": "code",
   "execution_count": 39,
   "metadata": {},
   "outputs": [
    {
     "data": {
      "text/html": [
       "9.43756973079396"
      ],
      "text/latex": [
       "9.43756973079396"
      ],
      "text/markdown": [
       "9.43756973079396"
      ],
      "text/plain": [
       "[1] 9.43757"
      ]
     },
     "metadata": {},
     "output_type": "display_data"
    },
    {
     "data": {
      "text/html": [
       "0.932200152122583"
      ],
      "text/latex": [
       "0.932200152122583"
      ],
      "text/markdown": [
       "0.932200152122583"
      ],
      "text/plain": [
       "[1] 0.9322002"
      ]
     },
     "metadata": {},
     "output_type": "display_data"
    }
   ],
   "source": [
    "sigma\n",
    "sd(estimates)"
   ]
  },
  {
   "cell_type": "markdown",
   "metadata": {},
   "source": [
    "### Step 9: Find the new standard deviation as a result of doing more trials"
   ]
  },
  {
   "cell_type": "markdown",
   "metadata": {},
   "source": [
    "Will doing more trials (i.e. collecting more sample means) change the standard deviation of the sample means?\n",
    "\n",
    "- What would you expect?\n",
    "\n",
    "- Then just try by increasing the number of trials to 2000."
   ]
  },
  {
   "cell_type": "code",
   "execution_count": 22,
   "metadata": {},
   "outputs": [],
   "source": [
    "# INITIALIZE ARRAY OF ESTIMATES OF 1000 0s\n",
    "\n",
    "trials <- 2000\n",
    "estimates_more_trials <-numeric(trials)\n",
    "\n",
    "# APPEND VALUES INTO ARRAY\n",
    "\n",
    "for (i in 1:trials) {\n",
    "  SRS <- sample(pop, size = 100, replace = FALSE)\n",
    "  estimates_more_trials[i] <- mean(SRS)\n",
    "}"
   ]
  },
  {
   "cell_type": "code",
   "execution_count": 23,
   "metadata": {},
   "outputs": [
    {
     "data": {
      "image/png": "[encoded data removed]",
      "text/plain": [
       "Plot with title \"Sample means from fewer trials\""
      ]
     },
     "metadata": {},
     "output_type": "display_data"
    }
   ],
   "source": [
    "# PUT 2 GRAPHS SIDE BY SIDE\n",
    "par(mfrow=c(1,2))\n",
    "\n",
    "# PLOT SAMPLE MEANS HISTOGRAM OF MORE TRIALS\n",
    "hist(estimates_more_trials, \n",
    "     breaks=40, \n",
    "     col=\"lightblue\", \n",
    "     main=\"Sample means from more trials\", \n",
    "     xlim=range(estimates), \n",
    "     freq = FALSE)\n",
    "\n",
    "# PLOT SAMPLE MEANS HISTOGRAM OF LESS TRIALS\n",
    "hist(estimates, \n",
    "     breaks=40, \n",
    "     col=\"lightblue\", \n",
    "     main=\"Sample means from fewer trials\",\n",
    "     xlim=range(estimates), \n",
    "     freq = FALSE)"
   ]
  },
  {
   "cell_type": "markdown",
   "metadata": {},
   "source": [
    "When taking more trials the standard deviation barely changed.\n",
    "\n",
    "Will taking bigger sample sizes make the standard deviation of the sample means drop?\n",
    "\n",
    "Go back to 1000 trials, but this time increase the sample size."
   ]
  },
  {
   "cell_type": "markdown",
   "metadata": {},
   "source": [
    "### Step 10: Find the new standard deviation of increasing sample size "
   ]
  },
  {
   "cell_type": "code",
   "execution_count": 40,
   "metadata": {},
   "outputs": [],
   "source": [
    "# INITIALIZE ARRAY OF 1000 0s of ESTIMATES\n",
    "\n",
    "trials <- 1000\n",
    "estimates_lss <-numeric(trials)\n",
    "\n",
    "# CREATE A FOR LOOP AND APPEND SAMPLE MEANS INTO ARRAY\n",
    "\n",
    "for (i in 1:trials) {\n",
    "  SRS <- sample(pop, size = 500, replace = FALSE)\n",
    "  estimates_lss[i] <- mean(SRS)\n",
    "}"
   ]
  },
  {
   "cell_type": "code",
   "execution_count": 42,
   "metadata": {
    "scrolled": false
   },
   "outputs": [
    {
     "data": {
      "image/png": "[encoded data removed]",
      "text/plain": [
       "Plot with title \"Sample means smaller sampling size\""
      ]
     },
     "metadata": {},
     "output_type": "display_data"
    }
   ],
   "source": [
    "# PUT 2 GRAPHS SIDE BY SIDE\n",
    "\n",
    "par(mfrow=c(2,1))\n",
    "\n",
    "# PLOT HISTOGRAM OF ESTIMATES WITH INCREASED SAMPLE SIZE\n",
    "hist(estimates_lss, \n",
    "     breaks=20, \n",
    "     col=\"lightblue\", \n",
    "     xlim=range(estimates), \n",
    "     freq=FALSE, \n",
    "     main=\"Sample means larger sampling size\")\n",
    "\n",
    "# PLOT HISTOGRAM OF NORMAL SAMPLE MEANS\n",
    "hist(estimates, \n",
    "     breaks=40, \n",
    "     col=\"lightblue\", \n",
    "     xlim=range(estimates), \n",
    "     freq=FALSE, \n",
    "     main=\"Sample means smaller sampling size\")\n",
    "\n"
   ]
  },
  {
   "cell_type": "code",
   "execution_count": 43,
   "metadata": {},
   "outputs": [
    {
     "data": {
      "text/html": [
       "0.411614814613577"
      ],
      "text/latex": [
       "0.411614814613577"
      ],
      "text/markdown": [
       "0.411614814613577"
      ],
      "text/plain": [
       "[1] 0.4116148"
      ]
     },
     "metadata": {},
     "output_type": "display_data"
    },
    {
     "data": {
      "text/html": [
       "0.932200152122583"
      ],
      "text/latex": [
       "0.932200152122583"
      ],
      "text/markdown": [
       "0.932200152122583"
      ],
      "text/plain": [
       "[1] 0.9322002"
      ]
     },
     "metadata": {},
     "output_type": "display_data"
    }
   ],
   "source": [
    "sd(estimates_lss)\n",
    "sd(estimates)"
   ]
  },
  {
   "cell_type": "markdown",
   "metadata": {},
   "source": [
    "Even going from sample size 100 to sample size 500 notably decreases the standard deviation, i.e. the spread of the histogram of the sample means."
   ]
  },
  {
   "cell_type": "markdown",
   "metadata": {},
   "source": [
    "### Sampling variability - discussion\n",
    "\n",
    "If we repeatedly choose samples from the population, the sample mean will take different values in different samples.\n",
    "\n",
    "Simple idea: if we repeat sampling many times and the mean does not change substantially (i.e. if we get similar answers each time), our estimates are fairly reliable."
   ]
  },
  {
   "cell_type": "markdown",
   "metadata": {},
   "source": [
    "- For larger sample size, the estimates tend to get better. Not every time though, since there is sampling variability.\n",
    "\n",
    "\n",
    "- On the other hand, the standard deviation of the distribution of sample means does get smaller with larger sample size.\n",
    "\n",
    "\n",
    "- Important is not that we happen to get a better estimate when we increase sample size, but that the chance to be closer to the true mean of the population is higher.\n",
    "\n",
    "\n",
    "- The distribution of sample means tends towards a normal distribution. We come back to this point on Thursday. (But if this is so and if we knew its standard deviation we could use the 68-95-99 rule to say e.g. that there is a 95% chance of the mean estimated from a sample to lie withing 2 standard deviations of the truth.)"
   ]
  },
  {
   "cell_type": "markdown",
   "metadata": {},
   "source": [
    "### Standard deviation of the sample means - discussion\n",
    "\n",
    "This sounds great! But is it practical?\n",
    "\n",
    "In order to find the standard deviation of the distribution of the sample means, we drew 1000 random samples of size 200.\n",
    "\n",
    "Loosely speaking: If our population were people and we were doing a political poll, we might as well hold an election, rather than asking 1000 people a hundred thousand times who they’re going to vote for.\n",
    "\n",
    "Is there a way out of this dilemma?"
   ]
  },
  {
   "cell_type": "markdown",
   "metadata": {},
   "source": [
    "We observed that the standard deviation of the sample means decreased with the sample size.\n",
    "\n",
    "Check from the estimates you got for sample size n=100 that it differs by roughly a factor of √100 from the population standard deviation."
   ]
  },
  {
   "cell_type": "code",
   "execution_count": 44,
   "metadata": {},
   "outputs": [
    {
     "data": {
      "text/html": [
       "9.43756973079396"
      ],
      "text/latex": [
       "9.43756973079396"
      ],
      "text/markdown": [
       "9.43756973079396"
      ],
      "text/plain": [
       "[1] 9.43757"
      ]
     },
     "metadata": {},
     "output_type": "display_data"
    }
   ],
   "source": [
    "sd(pop)"
   ]
  },
  {
   "cell_type": "markdown",
   "metadata": {},
   "source": [
    "For samples of size n = 100 we found"
   ]
  },
  {
   "cell_type": "code",
   "execution_count": 45,
   "metadata": {},
   "outputs": [
    {
     "data": {
      "text/html": [
       "0.932200152122583"
      ],
      "text/latex": [
       "0.932200152122583"
      ],
      "text/markdown": [
       "0.932200152122583"
      ],
      "text/plain": [
       "[1] 0.9322002"
      ]
     },
     "metadata": {},
     "output_type": "display_data"
    }
   ],
   "source": [
    "sd(estimates)"
   ]
  },
  {
   "cell_type": "markdown",
   "metadata": {},
   "source": [
    "which differs by a factor of √100.\n",
    "\n",
    "The approximation σ/√n is called the standard error of the means."
   ]
  },
  {
   "cell_type": "markdown",
   "metadata": {},
   "source": [
    "### Discussion\n",
    "\n",
    "What we found so far is not only true for the temperatures in the US but much more generally.\n",
    "\n",
    "Suppose the population is large and the sample size small compared to the population size. Then for sufficiently large sample size n:\n",
    "\n",
    "- The sample means from a set of samples will be approximately normally distributed.\n",
    "\n",
    "- They will have mean close to the unknown mean μ of the population.\n",
    "\n",
    "- The variance of the sample means will be close to σ/n−−√.\n",
    "\n",
    "Moral: The larger n is, the smaller is the standard deviation of the distribution of sample means and the closer the sample mean is likely to be to the population mean."
   ]
  }
 ],
 "metadata": {
  "kernelspec": {
   "display_name": "R",
   "language": "R",
   "name": "ir"
  },
  "language_info": {
   "codemirror_mode": "r",
   "file_extension": ".r",
   "mimetype": "text/x-r-source",
   "name": "R",
   "pygments_lexer": "r",
   "version": "3.6.1"
  }
 },
 "nbformat": 4,
 "nbformat_minor": 4
}
