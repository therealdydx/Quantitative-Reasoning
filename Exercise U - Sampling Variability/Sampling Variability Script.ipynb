{
 "cells": [
  {
   "cell_type": "markdown",
   "metadata": {},
   "source": [
    "# Exercise 20 – Simulations and Temperatures\n",
    "\n",
    "Notebook Written By: WDY (Yale-NUS '24) \n",
    "(Come say hi at https://www.linkedin.com/in/dys-profile/)\n",
    "\n",
    "### Introduction\n",
    "\n",
    "For today’s activities we consider the survey data you provided earlier in the semester. We have upscaled the population size to 100,000 though, since we want to repeatedly sample many times from the population.\n",
    "\n",
    "Explore the data. We have only kept some information from it.\n",
    "\n",
    "What is the mean height in this population?\n"
   ]
  },
  {
   "cell_type": "code",
   "execution_count": null,
   "metadata": {},
   "outputs": [],
   "source": []
  },
  {
   "cell_type": "code",
   "execution_count": null,
   "metadata": {},
   "outputs": [],
   "source": []
  },
  {
   "cell_type": "code",
   "execution_count": 1,
   "metadata": {},
   "outputs": [],
   "source": [
    "### Step 1: Explore the data with a histogram"
   ]
  },
  {
   "cell_type": "code",
   "execution_count": null,
   "metadata": {},
   "outputs": [],
   "source": []
  },
  {
   "cell_type": "code",
   "execution_count": null,
   "metadata": {},
   "outputs": [],
   "source": []
  },
  {
   "cell_type": "markdown",
   "metadata": {},
   "source": [
    "We aim to study how sample statistics behave.\n",
    "\n",
    "We will treat the data frame x as our population. In reality, it is unlikely you would have access to all the data from a population, so this should be considered a hypothetical exercise.\n",
    "\n",
    "We will sample from the population to see how our statistics (from looking at a sample) behave relative to the true population parameters.\n",
    "\n",
    "We will look for lessons in how to design sampling strategies so that our sample statistics are more likely to estimate well the corresponding population parameters."
   ]
  },
  {
   "cell_type": "markdown",
   "metadata": {},
   "source": [
    "### Step 2: Take a single sample of size 10 from the population and calculate its mean"
   ]
  },
  {
   "cell_type": "code",
   "execution_count": null,
   "metadata": {},
   "outputs": [],
   "source": []
  },
  {
   "cell_type": "markdown",
   "metadata": {},
   "source": [
    "### Step 3: Reiterate the sample 500 times"
   ]
  },
  {
   "cell_type": "code",
   "execution_count": null,
   "metadata": {},
   "outputs": [],
   "source": []
  },
  {
   "cell_type": "markdown",
   "metadata": {},
   "source": [
    "It would be better if we could change the sample size and the number of samples easily, so we use variables."
   ]
  },
  {
   "cell_type": "code",
   "execution_count": null,
   "metadata": {},
   "outputs": [],
   "source": []
  },
  {
   "cell_type": "markdown",
   "metadata": {},
   "source": [
    "This makes the code more easily reusable, and helps avoid errors."
   ]
  },
  {
   "cell_type": "markdown",
   "metadata": {},
   "source": [
    "### Step 4: Conduct sampling to estimate the mean\n",
    "\n",
    "- How does sample size affect the accuracy of the estimate of the mean for heights in the population?\n",
    "\n",
    "- Start with a small sample size and look at the distribution of the sample means if you repeat taking many samples of this size. What does the distribution of sample means look like?\n",
    "\n",
    "- Repeat the experiment with a larger sample size."
   ]
  },
  {
   "cell_type": "code",
   "execution_count": null,
   "metadata": {},
   "outputs": [],
   "source": []
  },
  {
   "cell_type": "code",
   "execution_count": null,
   "metadata": {},
   "outputs": [],
   "source": []
  },
  {
   "cell_type": "markdown",
   "metadata": {},
   "source": [
    "### Analysis\n",
    "\n",
    "- Already with a small sample size the distribution of the sample means looks quite Normal. This is because the distribution of heights in the population looks quite Normal, exhibiting just a bit of skewness.\n",
    "\n",
    "- With a larger sample size, the distribution of the sample means is more concentrated around the true population mean."
   ]
  },
  {
   "cell_type": "markdown",
   "metadata": {},
   "source": [
    "### Conclusion\n",
    "\n",
    "Imagine we are taking only one sample and we want to use the sample mean of that sample to estimate the population mean. Our experiment suggests that the estimate is more likely to be better if we user a sample of size 20 than if we use a sample of size 10.\n",
    "\n",
    "But it is not guaranteed to be better; there were samples of size 10 whose sample mean was within 1cm the population mean and some (albeit fewer) samples of size 20 whose mean was approx 5cm away from the population mean.\n",
    "\n",
    "Conclusion: the sample mean is more likely to be closer to the true mean when the sample size is bigger.\n",
    "\n",
    "Although we will not investigate it today, a smaller population standard deviation also improves how well sample means estimate the population mean. If you are designing a sampling strategy, is this fact relevant?"
   ]
  },
  {
   "cell_type": "markdown",
   "metadata": {},
   "source": [
    "### Step 5 - Find percentiles of samples of different size\n",
    "\n",
    "Recall the quantile() function, which can calculate what values correspond to different percentiles.\n",
    "\n",
    "- Which percentiles would we be interested in if we wanted to identify the range in which we can find 95% of the possible sample mean values?\n",
    "\n",
    "- Find those percentiles for the samples of size 10 and the samples of size 20. Compare."
   ]
  },
  {
   "cell_type": "code",
   "execution_count": null,
   "metadata": {},
   "outputs": [],
   "source": []
  },
  {
   "cell_type": "code",
   "execution_count": null,
   "metadata": {},
   "outputs": [],
   "source": []
  },
  {
   "cell_type": "code",
   "execution_count": null,
   "metadata": {},
   "outputs": [],
   "source": []
  },
  {
   "cell_type": "markdown",
   "metadata": {},
   "source": [
    "- By increasing the sample size, the 2.5% to 97.5% range of sample means decreases, concentrating sample means closer to the population mean.\n",
    "\n",
    "- In practice, we would only be taking one sample so, even with a large sample size, we can’t guarantee the sample mean is close to the population mean. But …\n",
    "\n",
    "- For a larger sample size, the “interval within which the sample mean is highly likely (95% chance) to fall” is closer to the true mean."
   ]
  },
  {
   "cell_type": "markdown",
   "metadata": {},
   "source": [
    "Recall that we found that for large enough sample size, the distribution of the sample mean is approximately Normal. But how large does the sample size have to be for this?\n",
    "\n",
    "If the true population is Normal, then for any sample size the distribution of sample means is Normal. But when the true population is not normal, what is large enough will depend on the shape of the population distribution."
   ]
  },
  {
   "cell_type": "markdown",
   "metadata": {},
   "source": [
    "### Step 6: Sample means for a skewed population\n",
    "\n",
    "- What happens when the population distribution is far from normal? Try with different sample sizes on the YouTube data, which are very skewed.\n",
    "\n",
    "- What happens now to the 2.5% to 97.5% interval that is likely to contain the true mean?"
   ]
  },
  {
   "cell_type": "code",
   "execution_count": null,
   "metadata": {},
   "outputs": [],
   "source": []
  },
  {
   "cell_type": "code",
   "execution_count": null,
   "metadata": {},
   "outputs": [],
   "source": []
  },
  {
   "cell_type": "code",
   "execution_count": null,
   "metadata": {},
   "outputs": [],
   "source": []
  },
  {
   "cell_type": "code",
   "execution_count": null,
   "metadata": {},
   "outputs": [],
   "source": []
  },
  {
   "cell_type": "markdown",
   "metadata": {},
   "source": [
    "- Even with this very skewed population distribution, the sample means better estimate the population mean when the sample size increases.\n",
    "\n",
    "\n",
    "- Sample means are distributed more Normally for larger samples.\n",
    "\n",
    "\n",
    "- But for a population distribution this skewed, perhaps it wasn’t a good idea to look at the mean to begin with! This was an fun experiment, but not much practical use.\n",
    "\n",
    "\n",
    "- What happens when we consider sample statistics other than the mean?"
   ]
  },
  {
   "cell_type": "markdown",
   "metadata": {},
   "source": [
    "### Step : \n",
    "\n",
    "Suppose that you are not interested in estimating the population mean but another population parameter, e.g. the population minimum.\n",
    "\n",
    "Then we could use the sample minimum to estimate the population minimum.\n",
    "\n",
    "Does the distribution of the sample minima taken from samples of certain size look Normal if you repeat taking samples many times?\n",
    "\n",
    "Use x$height as the population for the above.\n",
    "\n",
    "Try also for estimating the median of the YouTube views. Does larger sample size improve the estimate?"
   ]
  },
  {
   "cell_type": "code",
   "execution_count": null,
   "metadata": {},
   "outputs": [],
   "source": []
  },
  {
   "cell_type": "code",
   "execution_count": null,
   "metadata": {},
   "outputs": [],
   "source": []
  },
  {
   "cell_type": "code",
   "execution_count": null,
   "metadata": {},
   "outputs": [],
   "source": []
  },
  {
   "cell_type": "code",
   "execution_count": null,
   "metadata": {},
   "outputs": [],
   "source": []
  }
 ],
 "metadata": {
  "kernelspec": {
   "display_name": "R",
   "language": "R",
   "name": "ir"
  },
  "language_info": {
   "codemirror_mode": "r",
   "file_extension": ".r",
   "mimetype": "text/x-r-source",
   "name": "R",
   "pygments_lexer": "r",
   "version": "3.6.1"
  }
 },
 "nbformat": 4,
 "nbformat_minor": 4
}
