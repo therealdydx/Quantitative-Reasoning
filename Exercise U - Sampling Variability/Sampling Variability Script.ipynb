{
 "cells": [
  {
   "cell_type": "markdown",
   "metadata": {},
   "source": [
    "# Exercise 20 – Simulations and Populations\n",
    "\n",
    "Notebook Written By: WDY (Yale-NUS '24) \n",
    "(Come say hi at https://www.linkedin.com/in/dys-profile/)\n",
    "\n",
    "### Introduction\n",
    "\n",
    "For today’s activities we consider the survey data you provided earlier in the semester. We have upscaled the population size to 100,000 though, since we want to repeatedly sample many times from the population.\n",
    "\n",
    "Explore the data. We have only kept some information from it.\n",
    "\n",
    "What is the mean height in this population?\n"
   ]
  },
  {
   "cell_type": "code",
   "execution_count": 4,
   "metadata": {},
   "outputs": [],
   "source": [
    "x <- read.csv(\"C:/Users/User/OneDrive/Documents/Yale-NUS/Quantitative Reasoning/Quantitative Reasoning Repository/Exercise U - Sampling Variability/pop2020.csv\")"
   ]
  },
  {
   "cell_type": "code",
   "execution_count": 5,
   "metadata": {},
   "outputs": [
    {
     "name": "stdout",
     "output_type": "stream",
     "text": [
      "'data.frame':\t100000 obs. of  4 variables:\n",
      " $ height     : num  175 147 160 150 167 ...\n",
      " $ youtube    : int  1 984813 7822601 2 524 0 0 0 2 3136 ...\n",
      " $ nationality: Factor w/ 2 levels \"NSG\",\"SG\": 2 2 2 2 2 2 2 2 2 2 ...\n",
      " $ gender     : Factor w/ 2 levels \"F\",\"M\": 1 1 1 1 1 1 1 1 1 1 ...\n"
     ]
    }
   ],
   "source": [
    "str(x)"
   ]
  },
  {
   "cell_type": "code",
   "execution_count": 6,
   "metadata": {},
   "outputs": [
    {
     "data": {
      "text/html": [
       "<table>\n",
       "<thead><tr><th scope=col>height</th><th scope=col>youtube</th><th scope=col>nationality</th><th scope=col>gender</th></tr></thead>\n",
       "<tbody>\n",
       "\t<tr><td>175.0107</td><td>      1 </td><td>SG      </td><td>F       </td></tr>\n",
       "\t<tr><td>146.8246</td><td> 984813 </td><td>SG      </td><td>F       </td></tr>\n",
       "\t<tr><td>159.9964</td><td>7822601 </td><td>SG      </td><td>F       </td></tr>\n",
       "\t<tr><td>150.0489</td><td>      2 </td><td>SG      </td><td>F       </td></tr>\n",
       "\t<tr><td>167.4715</td><td>    524 </td><td>SG      </td><td>F       </td></tr>\n",
       "\t<tr><td>163.3703</td><td>      0 </td><td>SG      </td><td>F       </td></tr>\n",
       "</tbody>\n",
       "</table>\n"
      ],
      "text/latex": [
       "\\begin{tabular}{r|llll}\n",
       " height & youtube & nationality & gender\\\\\n",
       "\\hline\n",
       "\t 175.0107 &       1  & SG       & F       \\\\\n",
       "\t 146.8246 &  984813  & SG       & F       \\\\\n",
       "\t 159.9964 & 7822601  & SG       & F       \\\\\n",
       "\t 150.0489 &       2  & SG       & F       \\\\\n",
       "\t 167.4715 &     524  & SG       & F       \\\\\n",
       "\t 163.3703 &       0  & SG       & F       \\\\\n",
       "\\end{tabular}\n"
      ],
      "text/markdown": [
       "\n",
       "| height | youtube | nationality | gender |\n",
       "|---|---|---|---|\n",
       "| 175.0107 |       1  | SG       | F        |\n",
       "| 146.8246 |  984813  | SG       | F        |\n",
       "| 159.9964 | 7822601  | SG       | F        |\n",
       "| 150.0489 |       2  | SG       | F        |\n",
       "| 167.4715 |     524  | SG       | F        |\n",
       "| 163.3703 |       0  | SG       | F        |\n",
       "\n"
      ],
      "text/plain": [
       "  height   youtube nationality gender\n",
       "1 175.0107       1 SG          F     \n",
       "2 146.8246  984813 SG          F     \n",
       "3 159.9964 7822601 SG          F     \n",
       "4 150.0489       2 SG          F     \n",
       "5 167.4715     524 SG          F     \n",
       "6 163.3703       0 SG          F     "
      ]
     },
     "metadata": {},
     "output_type": "display_data"
    }
   ],
   "source": [
    "head(x)"
   ]
  },
  {
   "cell_type": "code",
   "execution_count": 7,
   "metadata": {},
   "outputs": [
    {
     "data": {
      "text/html": [
       "168.299119510484"
      ],
      "text/latex": [
       "168.299119510484"
      ],
      "text/markdown": [
       "168.299119510484"
      ],
      "text/plain": [
       "[1] 168.2991"
      ]
     },
     "metadata": {},
     "output_type": "display_data"
    }
   ],
   "source": [
    "# FIND MEAN HEIGHT\n",
    "\n",
    "trueM <- mean(x$height)\n",
    "trueM"
   ]
  },
  {
   "cell_type": "markdown",
   "metadata": {},
   "source": [
    "### Step 1: Explore the data with a histogram"
   ]
  },
  {
   "cell_type": "code",
   "execution_count": 8,
   "metadata": {},
   "outputs": [
    {
     "data": {
      "image/png": "[encoded data removed]",
      "text/plain": [
       "Plot with title \"histogram of heights\""
      ]
     },
     "metadata": {},
     "output_type": "display_data"
    }
   ],
   "source": [
    "# FIND HISTOGRAM OF HEIGHTS\n",
    "\n",
    "hist(x$height,\n",
    "    col = \"lightblue\",\n",
    "    main = \"histogram of heights\")"
   ]
  },
  {
   "cell_type": "code",
   "execution_count": 9,
   "metadata": {},
   "outputs": [
    {
     "data": {
      "image/png": "[encoded data removed]",
      "text/plain": [
       "Plot with title \"histogram of youtube views\""
      ]
     },
     "metadata": {},
     "output_type": "display_data"
    }
   ],
   "source": [
    "# FIND HISTOGRAM OF YOUTUBE VIEWS\n",
    "\n",
    "hist(x$youtube,\n",
    "    col = \"lightblue\",\n",
    "    main = \"histogram of youtube views\")"
   ]
  },
  {
   "cell_type": "markdown",
   "metadata": {},
   "source": [
    "We aim to study how sample statistics behave.\n",
    "\n",
    "We will treat the data frame x as our population. In reality, it is unlikely you would have access to all the data from a population, so this should be considered a hypothetical exercise.\n",
    "\n",
    "We will sample from the population to see how our statistics (from looking at a sample) behave relative to the true population parameters.\n",
    "\n",
    "We will look for lessons in how to design sampling strategies so that our sample statistics are more likely to estimate well the corresponding population parameters."
   ]
  },
  {
   "cell_type": "markdown",
   "metadata": {},
   "source": [
    "### Step 2: Take a single sample of size 10 from the population and calculate its mean"
   ]
  },
  {
   "cell_type": "code",
   "execution_count": 10,
   "metadata": {},
   "outputs": [],
   "source": [
    "my_first_sample_mean <- mean(sample(x$height, size = 10))"
   ]
  },
  {
   "cell_type": "markdown",
   "metadata": {},
   "source": [
    "### Step 3: Reiterate the sample 500 times"
   ]
  },
  {
   "cell_type": "code",
   "execution_count": 11,
   "metadata": {},
   "outputs": [],
   "source": [
    "# INITIALIZE H10 ARRAY\n",
    "h10 <- numeric(500)\n",
    "\n",
    "# USE A FOR LOOP \n",
    "for (i in 1:500) {\n",
    "    h10[i] <- mean(sample(x$height, size = 10))\n",
    "}"
   ]
  },
  {
   "cell_type": "markdown",
   "metadata": {},
   "source": [
    "It would be better if we could change the sample size and the number of samples easily, so we use variables."
   ]
  },
  {
   "cell_type": "code",
   "execution_count": 12,
   "metadata": {},
   "outputs": [],
   "source": [
    "# INITIALIZE VARIABLES FOR EASY CHANGING\n",
    "\n",
    "# INITIALIZE SAMPLE SIZE\n",
    "n <- 10          \n",
    "\n",
    "# INITIALIZE NUMBER OF SAMPLES\n",
    "reps <- 500\n",
    "\n",
    "h10 <- numeric(reps)\n",
    "\n",
    "for (i in 1:reps) { \n",
    "    h10[i] <- mean(sample(x$height, size = n)) \n",
    "}"
   ]
  },
  {
   "cell_type": "markdown",
   "metadata": {},
   "source": [
    "This makes the code more easily reusable, and helps avoid errors."
   ]
  },
  {
   "cell_type": "markdown",
   "metadata": {},
   "source": [
    "### Step 4: Conduct sampling to estimate the mean\n",
    "\n",
    "- How does sample size affect the accuracy of the estimate of the mean for heights in the population?\n",
    "\n",
    "- Start with a small sample size and look at the distribution of the sample means if you repeat taking many samples of this size. What does the distribution of sample means look like?\n",
    "\n",
    "- Repeat the experiment with a larger sample size."
   ]
  },
  {
   "cell_type": "code",
   "execution_count": 13,
   "metadata": {},
   "outputs": [],
   "source": [
    "# SAMPLE SIZE\n",
    "n <- 10\n",
    "\n",
    "# NUMBER OF SAMPLES\n",
    "reps <- 5000\n",
    "\n",
    "# INITIALIZE H10 ARRAY WITH 5000 SAMPLES\n",
    "h10 <- numeric(reps)\n",
    "\n",
    "# CREATE FOR LOOP AND APPEND SAMPLE MEAN VALUES INTO H10\n",
    "for (i in 1:reps) { \n",
    "    h10[i] <- mean(sample(x$height, size = n)) \n",
    "}"
   ]
  },
  {
   "cell_type": "code",
   "execution_count": 14,
   "metadata": {},
   "outputs": [
    {
     "data": {
      "image/png": "[encoded data removed]",
      "text/plain": [
       "Plot with title \"Sample means for sample size 10\""
      ]
     },
     "metadata": {},
     "output_type": "display_data"
    }
   ],
   "source": [
    "# DRAW A HISTOGRAM OF SAMPLE SIZE 10\n",
    "\n",
    "hist(h10, col='lightblue', \n",
    "     main=\"Sample means for sample size 10\", \n",
    "     freq=FALSE, \n",
    "     breaks=c(seq(158,182,1)), \n",
    "     ylim=c(0,0.22))\n",
    "\n",
    "abline(v=trueM, col=2, lwd=2)"
   ]
  },
  {
   "cell_type": "code",
   "execution_count": 15,
   "metadata": {},
   "outputs": [],
   "source": [
    "# SAMPLE SIZE OF 20\n",
    "n <- 20\n",
    "\n",
    "# NUMBER OF SAMPLES 5000\n",
    "reps <- 5000\n",
    "\n",
    "# INITIALIZE ARRAY H20 \n",
    "h20 <- numeric(reps)\n",
    "\n",
    "# CREATE FOR LOOP AND APPEND SAMPLE MEAN VALUES INTO H20\n",
    "for (i in 1:reps) { \n",
    "    h20[i] <- mean(sample(x$height, size = n)) \n",
    "}"
   ]
  },
  {
   "cell_type": "code",
   "execution_count": 16,
   "metadata": {},
   "outputs": [
    {
     "data": {
      "image/png": "[encoded data removed]",
      "text/plain": [
       "Plot with title \"Sample means for sample size 20\""
      ]
     },
     "metadata": {},
     "output_type": "display_data"
    }
   ],
   "source": [
    "# DRAW HISTOGRAM\n",
    "hist(h20, \n",
    "     col='lightblue', \n",
    "     main=\"Sample means for sample size 20\", \n",
    "     freq=FALSE, \n",
    "     breaks=c(seq(158,182,1)), \n",
    "     ylim=c(0,0.22))\n",
    "\n",
    "# DRAW BEST FIT LINE\n",
    "abline(v=trueM, col=2, lwd=2)"
   ]
  },
  {
   "cell_type": "markdown",
   "metadata": {},
   "source": [
    "### Analysis\n",
    "\n",
    "- Already with a small sample size the distribution of the sample means looks quite Normal. This is because the distribution of heights in the population looks quite Normal, exhibiting just a bit of skewness.\n",
    "\n",
    "- With a larger sample size, the distribution of the sample means is more concentrated around the true population mean."
   ]
  },
  {
   "cell_type": "markdown",
   "metadata": {},
   "source": [
    "### Conclusion\n",
    "\n",
    "Imagine we are taking only one sample and we want to use the sample mean of that sample to estimate the population mean. Our experiment suggests that the estimate is more likely to be better if we user a sample of size 20 than if we use a sample of size 10.\n",
    "\n",
    "But it is not guaranteed to be better; there were samples of size 10 whose sample mean was within 1cm the population mean and some (albeit fewer) samples of size 20 whose mean was approx 5cm away from the population mean.\n",
    "\n",
    "Conclusion: the sample mean is more likely to be closer to the true mean when the sample size is bigger.\n",
    "\n",
    "Although we will not investigate it today, a smaller population standard deviation also improves how well sample means estimate the population mean. If you are designing a sampling strategy, is this fact relevant?"
   ]
  },
  {
   "cell_type": "markdown",
   "metadata": {},
   "source": [
    "### Step 5 - Find percentiles of samples of different size\n",
    "\n",
    "Recall the quantile() function, which can calculate what values correspond to different percentiles.\n",
    "\n",
    "- Which percentiles would we be interested in if we wanted to identify the range in which we can find 95% of the possible sample mean values?\n",
    "\n",
    "- Find those percentiles for the samples of size 10 and the samples of size 20. Compare."
   ]
  },
  {
   "cell_type": "code",
   "execution_count": 17,
   "metadata": {},
   "outputs": [
    {
     "data": {
      "text/html": [
       "<dl class=dl-horizontal>\n",
       "\t<dt>2.5%</dt>\n",
       "\t\t<dd>164.528450983</dd>\n",
       "\t<dt>97.5%</dt>\n",
       "\t\t<dd>172.460112255125</dd>\n",
       "</dl>\n"
      ],
      "text/latex": [
       "\\begin{description*}\n",
       "\\item[2.5\\textbackslash{}\\%] 164.528450983\n",
       "\\item[97.5\\textbackslash{}\\%] 172.460112255125\n",
       "\\end{description*}\n"
      ],
      "text/markdown": [
       "2.5%\n",
       ":   164.52845098397.5%\n",
       ":   172.460112255125\n",
       "\n"
      ],
      "text/plain": [
       "    2.5%    97.5% \n",
       "164.5285 172.4601 "
      ]
     },
     "metadata": {},
     "output_type": "display_data"
    }
   ],
   "source": [
    "# FIND QUANTILES OF SAMPLES OF SIZE 20\n",
    "quantile(h20, c(0.025, 0.975)) "
   ]
  },
  {
   "cell_type": "code",
   "execution_count": 18,
   "metadata": {},
   "outputs": [
    {
     "data": {
      "text/html": [
       "<dl class=dl-horizontal>\n",
       "\t<dt>2.5%</dt>\n",
       "\t\t<dd>162.9392524025</dd>\n",
       "\t<dt>97.5%</dt>\n",
       "\t\t<dd>174.0752253925</dd>\n",
       "</dl>\n"
      ],
      "text/latex": [
       "\\begin{description*}\n",
       "\\item[2.5\\textbackslash{}\\%] 162.9392524025\n",
       "\\item[97.5\\textbackslash{}\\%] 174.0752253925\n",
       "\\end{description*}\n"
      ],
      "text/markdown": [
       "2.5%\n",
       ":   162.939252402597.5%\n",
       ":   174.0752253925\n",
       "\n"
      ],
      "text/plain": [
       "    2.5%    97.5% \n",
       "162.9393 174.0752 "
      ]
     },
     "metadata": {},
     "output_type": "display_data"
    }
   ],
   "source": [
    "# FIND QUANTILES OF SAMPLES OF SIZE 10\n",
    "quantile(h10, c(0.025, 0.975)) "
   ]
  },
  {
   "cell_type": "markdown",
   "metadata": {},
   "source": [
    "- By increasing the sample size, the 2.5% to 97.5% range of sample means decreases, concentrating sample means closer to the population mean.\n",
    "\n",
    "- In practice, we would only be taking one sample so, even with a large sample size, we can’t guarantee the sample mean is close to the population mean. But …\n",
    "\n",
    "- For a larger sample size, the “interval within which the sample mean is highly likely (95% chance) to fall” is closer to the true mean."
   ]
  },
  {
   "cell_type": "markdown",
   "metadata": {},
   "source": [
    "### Sample means for a skewed population\n",
    "\n",
    "Recall that we found that for large enough sample size, the distribution of the sample mean is approximately Normal. But how large does the sample size have to be for this?\n",
    "\n",
    "If the true population is Normal, then for any sample size the distribution of sample means is Normal. But when the true population is not normal, what is large enough will depend on the shape of the population distribution."
   ]
  },
  {
   "cell_type": "markdown",
   "metadata": {},
   "source": [
    "### Step 6: Test distribution of sample means for a skewed population\n",
    "\n",
    "- What happens when the population distribution is far from normal? Try with different sample sizes on the YouTube data, which are very skewed.\n",
    "\n",
    "- What happens now to the 2.5% to 97.5% interval that is likely to contain the true mean?"
   ]
  },
  {
   "cell_type": "code",
   "execution_count": 43,
   "metadata": {},
   "outputs": [],
   "source": [
    "# SAMPLE SIZE 10\n",
    "n <- 10\n",
    "\n",
    "# NUMBER OF SAMPLES 5000\n",
    "N <- 5000\n",
    "\n",
    "# INITIALIZE ARRAY\n",
    "y010 <- numeric(N)\n",
    "\n",
    "# APPEND VALUES INTO ARRAY\n",
    "for (i in 1:N) {\n",
    "  y010[i] <- mean(sample(x$youtube, size = n))\n",
    "}"
   ]
  },
  {
   "cell_type": "code",
   "execution_count": 44,
   "metadata": {},
   "outputs": [
    {
     "data": {
      "image/png": "[encoded data removed]",
      "text/plain": [
       "Plot with title \"Sample means for youtube, sample size  10\""
      ]
     },
     "metadata": {},
     "output_type": "display_data"
    }
   ],
   "source": [
    "# DRAW OUT THE DISTRIBUTION OF HISTOGRAM\n",
    "\n",
    "hist(y010, \n",
    "     col = \"lightblue\", \n",
    "     main = \"Sample means for youtube, sample size  10\")\n"
   ]
  },
  {
   "cell_type": "code",
   "execution_count": 45,
   "metadata": {},
   "outputs": [],
   "source": [
    "# SAMPLE SIZE\n",
    "n <- 30\n",
    "\n",
    "# NUMBER OF TRIALS\n",
    "N <- 5000\n",
    "\n",
    "# INITIALIZE ARRAY\n",
    "y030 <- numeric(N)"
   ]
  },
  {
   "cell_type": "code",
   "execution_count": 47,
   "metadata": {},
   "outputs": [
    {
     "data": {
      "image/png": "[encoded data removed]",
      "text/plain": [
       "Plot with title \"Sample means for youtube, sample size  30\""
      ]
     },
     "metadata": {},
     "output_type": "display_data"
    }
   ],
   "source": [
    "# APPEND SAMPLE MEANS INTO ARRAY\n",
    "for (i in 1:N) {\n",
    "  y030[i] <- mean(sample(x$youtube, size = n))\n",
    "}\n",
    "\n",
    "# DRAW OUT DISTRIBUTION\n",
    "hist(y030, \n",
    "     col=\"lightblue\", \n",
    "     main=\"Sample means for youtube, sample size  30\")"
   ]
  },
  {
   "cell_type": "code",
   "execution_count": 48,
   "metadata": {
    "scrolled": false
   },
   "outputs": [
    {
     "data": {
      "image/png": "[encoded data removed]",
      "text/plain": [
       "Plot with title \"Sample means for youtube, sample size 150\""
      ]
     },
     "metadata": {},
     "output_type": "display_data"
    }
   ],
   "source": [
    "n <- 150\n",
    "\n",
    "N <- 5000\n",
    "\n",
    "y150 <- numeric(N)\n",
    "\n",
    "for (i in 1:N) {\n",
    "  y150[i] <- mean(sample(x$youtube, size = n))\n",
    "}\n",
    "\n",
    "hist(y150, \n",
    "     col=\"lightblue\", \n",
    "     main=\"Sample means for youtube, sample size 150\")"
   ]
  },
  {
   "cell_type": "code",
   "execution_count": 49,
   "metadata": {
    "scrolled": true
   },
   "outputs": [
    {
     "data": {
      "text/html": [
       "<dl class=dl-horizontal>\n",
       "\t<dt>2.5%</dt>\n",
       "\t\t<dd>29897.8675</dd>\n",
       "\t<dt>97.5%</dt>\n",
       "\t\t<dd>3669683.6725</dd>\n",
       "</dl>\n"
      ],
      "text/latex": [
       "\\begin{description*}\n",
       "\\item[2.5\\textbackslash{}\\%] 29897.8675\n",
       "\\item[97.5\\textbackslash{}\\%] 3669683.6725\n",
       "\\end{description*}\n"
      ],
      "text/markdown": [
       "2.5%\n",
       ":   29897.867597.5%\n",
       ":   3669683.6725\n",
       "\n"
      ],
      "text/plain": [
       "      2.5%      97.5% \n",
       "  29897.87 3669683.67 "
      ]
     },
     "metadata": {},
     "output_type": "display_data"
    },
    {
     "data": {
      "text/html": [
       "<dl class=dl-horizontal>\n",
       "\t<dt>2.5%</dt>\n",
       "\t\t<dd>216766.479166667</dd>\n",
       "\t<dt>97.5%</dt>\n",
       "\t\t<dd>2376320.83666667</dd>\n",
       "</dl>\n"
      ],
      "text/latex": [
       "\\begin{description*}\n",
       "\\item[2.5\\textbackslash{}\\%] 216766.479166667\n",
       "\\item[97.5\\textbackslash{}\\%] 2376320.83666667\n",
       "\\end{description*}\n"
      ],
      "text/markdown": [
       "2.5%\n",
       ":   216766.47916666797.5%\n",
       ":   2376320.83666667\n",
       "\n"
      ],
      "text/plain": [
       "     2.5%     97.5% \n",
       " 216766.5 2376320.8 "
      ]
     },
     "metadata": {},
     "output_type": "display_data"
    },
    {
     "data": {
      "text/html": [
       "<dl class=dl-horizontal>\n",
       "\t<dt>2.5%</dt>\n",
       "\t\t<dd>584479.121833333</dd>\n",
       "\t<dt>97.5%</dt>\n",
       "\t\t<dd>1578250.4245</dd>\n",
       "</dl>\n"
      ],
      "text/latex": [
       "\\begin{description*}\n",
       "\\item[2.5\\textbackslash{}\\%] 584479.121833333\n",
       "\\item[97.5\\textbackslash{}\\%] 1578250.4245\n",
       "\\end{description*}\n"
      ],
      "text/markdown": [
       "2.5%\n",
       ":   584479.12183333397.5%\n",
       ":   1578250.4245\n",
       "\n"
      ],
      "text/plain": [
       "     2.5%     97.5% \n",
       " 584479.1 1578250.4 "
      ]
     },
     "metadata": {},
     "output_type": "display_data"
    }
   ],
   "source": [
    "quantile(y010, c(0.025, 0.975)) \n",
    "\n",
    "quantile(y030, c(0.025, 0.975))\n",
    "\n",
    "quantile(y150, c(0.025, 0.975)) "
   ]
  },
  {
   "cell_type": "markdown",
   "metadata": {},
   "source": [
    "The 2.5% to 97.5% ranges are reducing."
   ]
  },
  {
   "cell_type": "markdown",
   "metadata": {},
   "source": [
    "- Even with this very skewed population distribution, the sample means better estimate the population mean when the sample size increases.\n",
    "\n",
    "\n",
    "- Sample means are distributed more Normally for larger samples.\n",
    "\n",
    "\n",
    "- But for a population distribution this skewed, perhaps it wasn’t a good idea to look at the mean to begin with! This was an fun experiment, but not much practical use.\n",
    "\n",
    "\n",
    "- What happens when we consider sample statistics other than the mean?"
   ]
  },
  {
   "cell_type": "markdown",
   "metadata": {},
   "source": [
    "### Step 7: Plot sample minima of height\n",
    "\n",
    "Suppose that you are not interested in estimating the population mean but another population parameter, e.g. the population minimum.\n",
    "\n",
    "Then we could use the sample minimum to estimate the population minimum.\n",
    "\n",
    "Use x$height as the population for the above."
   ]
  },
  {
   "cell_type": "code",
   "execution_count": 50,
   "metadata": {},
   "outputs": [
    {
     "data": {
      "image/png": "[encoded data removed]",
      "text/plain": [
       "Plot with title \"Height sample minima for sample size 150\""
      ]
     },
     "metadata": {},
     "output_type": "display_data"
    }
   ],
   "source": [
    "# SAMPLE SIZE\n",
    "n <- 150\n",
    "\n",
    "# TRIALS\n",
    "reps <- 5000\n",
    "\n",
    "# INITIALIZE ARRAY\n",
    "h_min <- numeric(reps)\n",
    "\n",
    "# APPEND ARRAY WITH VALUES FROM X$HEIGHT\n",
    "for (i in 1:reps) {\n",
    "  h_min[i] <- min(sample(x$height, size = n))\n",
    "}\n",
    "\n",
    "# PLOT DISTRIBUTION\n",
    "hist(h_min, \n",
    "     col='lightblue', \n",
    "     main=\"Height sample minima for sample size 150\")"
   ]
  },
  {
   "cell_type": "markdown",
   "metadata": {},
   "source": [
    "### Step 8: Find the normality of the distribution\n",
    "\n",
    "Does the distribution of the sample minima taken from samples of certain size look Normal if you repeat taking samples many times?"
   ]
  },
  {
   "cell_type": "code",
   "execution_count": 51,
   "metadata": {},
   "outputs": [
    {
     "data": {
      "image/png": "[encoded data removed]",
      "text/plain": [
       "Plot with title \"Normal Q-Q Plot\""
      ]
     },
     "metadata": {},
     "output_type": "display_data"
    }
   ],
   "source": [
    "qqnorm(h_min)\n",
    "qqline(h_min, col=2, lwd=2)"
   ]
  },
  {
   "cell_type": "markdown",
   "metadata": {},
   "source": [
    "The distribution of sample minima looks less Normal than the original data!"
   ]
  },
  {
   "cell_type": "markdown",
   "metadata": {},
   "source": [
    "### Step 9: Plot sample median of YouTube views\n",
    "\n",
    "Try also for estimating the median of the YouTube views. "
   ]
  },
  {
   "cell_type": "code",
   "execution_count": 55,
   "metadata": {},
   "outputs": [
    {
     "data": {
      "image/png": "[encoded data removed]",
      "text/plain": [
       "Plot with title \"Sample medians for youtube, sample size  50\""
      ]
     },
     "metadata": {},
     "output_type": "display_data"
    }
   ],
   "source": [
    "# SAMPLE SIZE OF 50\n",
    "n <- 50\n",
    "\n",
    "# NUMBER OF TRIALS\n",
    "reps <- 5000\n",
    "\n",
    "# INITIALIZE ARRAY\n",
    "ymed050 <- numeric(reps)\n",
    "\n",
    "# APPEND ARRAY WITH VALUES\n",
    "for (i in 1:reps) { \n",
    "    ymed050[i] <- median(sample(x$youtube,size = n)) \n",
    "}\n",
    "\n",
    "# PLOT DISTRIBUTION OF SAMPLE MEDIANS OF YOUTUBE VIEWS\n",
    "hist(ymed050, \n",
    "     col=\"lightblue\", \n",
    "     main=\"Sample medians for youtube, sample size  50\")\n",
    "\n",
    "# PLOT MEDIAN LINE\n",
    "abline(v=median(x$youtube),col=2,lwd=2)"
   ]
  },
  {
   "cell_type": "markdown",
   "metadata": {},
   "source": [
    "### Step 10: Plot for a larger sample size of YouTube Views\n",
    "Does larger sample size improve the estimate?"
   ]
  },
  {
   "cell_type": "code",
   "execution_count": 56,
   "metadata": {},
   "outputs": [
    {
     "data": {
      "image/png": "[encoded data removed]",
      "text/plain": [
       "Plot with title \"Sample medians for youtube, sample size 150\""
      ]
     },
     "metadata": {},
     "output_type": "display_data"
    }
   ],
   "source": [
    "# SAMPLE SIZE OF 150\n",
    "n <- 150\n",
    "\n",
    "# NUMBER OF TRIALS\n",
    "reps <- 5000\n",
    "\n",
    "# INITIALIZE ARRAY\n",
    "ymed150 <- numeric(reps)\n",
    "\n",
    "# APPEND VALUES INTO ARRAY\n",
    "for (i in 1:reps) { \n",
    "    ymed150[i] <- median(sample(x$youtube, size = n)) \n",
    "}\n",
    "\n",
    "# PLOT DISTRIBUTION OF SAMPLE SIZES\n",
    "hist(ymed150, \n",
    "     col=\"lightblue\", \n",
    "     main=\"Sample medians for youtube, sample size 150\")\n",
    "\n",
    "abline(v=median(x$youtube),col=2,lwd=2) "
   ]
  },
  {
   "cell_type": "code",
   "execution_count": 58,
   "metadata": {},
   "outputs": [
    {
     "data": {
      "image/png": "[encoded data removed]",
      "text/plain": [
       "Plot with title \"Sample medians for youtube, sample size 500\""
      ]
     },
     "metadata": {},
     "output_type": "display_data"
    }
   ],
   "source": [
    "# SAMPLE SIZE\n",
    "n <- 500\n",
    "\n",
    "# NUMBER OF TRIALS\n",
    "reps <- 5000\n",
    "\n",
    "# INITIALIZE ARRAY\n",
    "ymed500 <- numeric(reps)\n",
    "\n",
    "# APPEND VALUES INTO ARRAY\n",
    "for (i in 1:reps) { \n",
    "    ymed500[i] <- median(sample(x$youtube, size = n)) \n",
    "}\n",
    "\n",
    "# PLOT NUMBER DISTRIBUTION\n",
    "hist(ymed500, \n",
    "     col=\"lightblue\", \n",
    "     main=\"Sample medians for youtube, sample size 500\")\n",
    "\n",
    "abline(v=median(x$youtube), col = 2, lwd = 2)"
   ]
  },
  {
   "cell_type": "markdown",
   "metadata": {},
   "source": [
    "### Step 11: Find quantiles of the sample sizes"
   ]
  },
  {
   "cell_type": "code",
   "execution_count": 60,
   "metadata": {},
   "outputs": [
    {
     "data": {
      "text/html": [
       "<dl class=dl-horizontal>\n",
       "\t<dt>2.5%</dt>\n",
       "\t\t<dd>290.9375</dd>\n",
       "\t<dt>97.5%</dt>\n",
       "\t\t<dd>68501.6125</dd>\n",
       "</dl>\n"
      ],
      "text/latex": [
       "\\begin{description*}\n",
       "\\item[2.5\\textbackslash{}\\%] 290.9375\n",
       "\\item[97.5\\textbackslash{}\\%] 68501.6125\n",
       "\\end{description*}\n"
      ],
      "text/markdown": [
       "2.5%\n",
       ":   290.937597.5%\n",
       ":   68501.6125\n",
       "\n"
      ],
      "text/plain": [
       "      2.5%      97.5% \n",
       "  290.9375 68501.6125 "
      ]
     },
     "metadata": {},
     "output_type": "display_data"
    },
    {
     "data": {
      "text/html": [
       "<dl class=dl-horizontal>\n",
       "\t<dt>2.5%</dt>\n",
       "\t\t<dd>1098.4125</dd>\n",
       "\t<dt>97.5%</dt>\n",
       "\t\t<dd>26902.2375</dd>\n",
       "</dl>\n"
      ],
      "text/latex": [
       "\\begin{description*}\n",
       "\\item[2.5\\textbackslash{}\\%] 1098.4125\n",
       "\\item[97.5\\textbackslash{}\\%] 26902.2375\n",
       "\\end{description*}\n"
      ],
      "text/markdown": [
       "2.5%\n",
       ":   1098.412597.5%\n",
       ":   26902.2375\n",
       "\n"
      ],
      "text/plain": [
       "     2.5%     97.5% \n",
       " 1098.413 26902.237 "
      ]
     },
     "metadata": {},
     "output_type": "display_data"
    },
    {
     "data": {
      "text/html": [
       "<dl class=dl-horizontal>\n",
       "\t<dt>2.5%</dt>\n",
       "\t\t<dd>2407.925</dd>\n",
       "\t<dt>97.5%</dt>\n",
       "\t\t<dd>14202.1875</dd>\n",
       "</dl>\n"
      ],
      "text/latex": [
       "\\begin{description*}\n",
       "\\item[2.5\\textbackslash{}\\%] 2407.925\n",
       "\\item[97.5\\textbackslash{}\\%] 14202.1875\n",
       "\\end{description*}\n"
      ],
      "text/markdown": [
       "2.5%\n",
       ":   2407.92597.5%\n",
       ":   14202.1875\n",
       "\n"
      ],
      "text/plain": [
       "     2.5%     97.5% \n",
       " 2407.925 14202.187 "
      ]
     },
     "metadata": {},
     "output_type": "display_data"
    }
   ],
   "source": [
    "quantile(ymed050, c(0.025, 0.975))\n",
    "\n",
    "quantile(ymed150, c(0.025, 0.975))\n",
    "\n",
    "quantile(ymed500, c(0.025, 0.975))"
   ]
  },
  {
   "cell_type": "markdown",
   "metadata": {},
   "source": [
    "The 2.5% to 97.5% ranges are reducing.\n",
    "\n",
    "The interval in which 95% of sample medians fall is narrower for larger samples than it is for smaller samples."
   ]
  },
  {
   "cell_type": "markdown",
   "metadata": {},
   "source": [
    "### Analysis\n",
    "\n",
    "- The distribution of sample medians and looks more symmetric with increasing sample size, but it is still skewed, and we had to increase the sample size greatly!\n",
    "\n",
    "- The distribution of sample minima looks less symmetric than the population.\n",
    "\n",
    "- The Normal distribution approximation applies to the distribution of the sample mean but not to other sample statistics."
   ]
  },
  {
   "cell_type": "markdown",
   "metadata": {},
   "source": [
    "### Step 12: Subset populations using categorical variables\n",
    "\n",
    "There is a difference in the height for different subgroups.\n",
    "\n",
    "- Try subsetting the population using the categorical variables.\n",
    "\n",
    "- Try also combinations of the categorical variables.\n",
    "\n",
    "Where do you see the biggest difference?"
   ]
  },
  {
   "cell_type": "code",
   "execution_count": 61,
   "metadata": {},
   "outputs": [
    {
     "data": {
      "text/html": [
       "175.324412186157"
      ],
      "text/latex": [
       "175.324412186157"
      ],
      "text/markdown": [
       "175.324412186157"
      ],
      "text/plain": [
       "[1] 175.3244"
      ]
     },
     "metadata": {},
     "output_type": "display_data"
    },
    {
     "data": {
      "text/html": [
       "175.324412186157"
      ],
      "text/latex": [
       "175.324412186157"
      ],
      "text/markdown": [
       "175.324412186157"
      ],
      "text/plain": [
       "[1] 175.3244"
      ]
     },
     "metadata": {},
     "output_type": "display_data"
    },
    {
     "data": {
      "text/html": [
       "167.890519808232"
      ],
      "text/latex": [
       "167.890519808232"
      ],
      "text/markdown": [
       "167.890519808232"
      ],
      "text/plain": [
       "[1] 167.8905"
      ]
     },
     "metadata": {},
     "output_type": "display_data"
    },
    {
     "data": {
      "text/html": [
       "168.820444709236"
      ],
      "text/latex": [
       "168.820444709236"
      ],
      "text/markdown": [
       "168.820444709236"
      ],
      "text/plain": [
       "[1] 168.8204"
      ]
     },
     "metadata": {},
     "output_type": "display_data"
    }
   ],
   "source": [
    "# MALE GENDER\n",
    "mean(x$height[x$gender == 'M']) \n",
    "\n",
    "# FEMALE GENDER\n",
    "mean(x$height[x$gender == 'M'])\n",
    "\n",
    "# SINGAPOREAN NATIONALITY\n",
    "mean(x$height[x$nationality == 'SG'])\n",
    "\n",
    "# NON SINGAPOREAN NATIONALITY\n",
    "mean(x$height[x$nationality == 'NSG'])"
   ]
  },
  {
   "cell_type": "code",
   "execution_count": 63,
   "metadata": {},
   "outputs": [
    {
     "data": {
      "image/png": "[encoded data removed]",
      "text/plain": [
       "plot without title"
      ]
     },
     "metadata": {},
     "output_type": "display_data"
    }
   ],
   "source": [
    "# PLOT 2 SIDE BY SIDE\n",
    "par(mfrow=c(1,2))\n",
    "\n",
    "# PLOT BOXPLOTS\n",
    "boxplot(x$height~x$gender, col=\"lightblue\")\n",
    "boxplot(x$height~x$nationality, col=\"lightblue\")\n",
    "\n",
    "# REVERT TO ORIGINAL\n",
    "par(mfrow=c(1,1))"
   ]
  },
  {
   "cell_type": "code",
   "execution_count": 64,
   "metadata": {},
   "outputs": [
    {
     "data": {
      "text/html": [
       "173.694684338757"
      ],
      "text/latex": [
       "173.694684338757"
      ],
      "text/markdown": [
       "173.694684338757"
      ],
      "text/plain": [
       "[1] 173.6947"
      ]
     },
     "metadata": {},
     "output_type": "display_data"
    },
    {
     "data": {
      "text/html": [
       "162.189990079104"
      ],
      "text/latex": [
       "162.189990079104"
      ],
      "text/markdown": [
       "162.189990079104"
      ],
      "text/plain": [
       "[1] 162.19"
      ]
     },
     "metadata": {},
     "output_type": "display_data"
    },
    {
     "data": {
      "text/html": [
       "177.622761180677"
      ],
      "text/latex": [
       "177.622761180677"
      ],
      "text/markdown": [
       "177.622761180677"
      ],
      "text/plain": [
       "[1] 177.6228"
      ]
     },
     "metadata": {},
     "output_type": "display_data"
    },
    {
     "data": {
      "text/html": [
       "161.668426412973"
      ],
      "text/latex": [
       "161.668426412973"
      ],
      "text/markdown": [
       "161.668426412973"
      ],
      "text/plain": [
       "[1] 161.6684"
      ]
     },
     "metadata": {},
     "output_type": "display_data"
    }
   ],
   "source": [
    "# SINGAPOREAN NATIONALITY\n",
    "\n",
    "mean(x$height[x$nationality == 'SG' & x$gender =='M'])\n",
    "\n",
    "mean(x$height[x$nationality == 'SG' & x$gender =='F'])\n",
    "\n",
    "# NON SINGAPOREAN NATIONALITY\n",
    "\n",
    "mean(x$height[x$nationality == 'NSG' & x$gender =='M'])\n",
    "\n",
    "mean(x$height[x$nationality == 'NSG' & x$gender =='F'])"
   ]
  },
  {
   "cell_type": "code",
   "execution_count": 65,
   "metadata": {},
   "outputs": [
    {
     "data": {
      "image/png": "[encoded data removed]",
      "text/plain": [
       "plot without title"
      ]
     },
     "metadata": {},
     "output_type": "display_data"
    }
   ],
   "source": [
    "boxplot(x$height ~ x$nationality + x$gender, col=\"lightblue\")"
   ]
  },
  {
   "cell_type": "markdown",
   "metadata": {},
   "source": [
    "There appear to be 3 subgroups in the population:\n",
    "\n",
    "- Women\n",
    "- Non Singaporean men\n",
    "- Singaporean men\n",
    "\n",
    "If we had only studied gender and nationality separately then we would have missed a subgroup!"
   ]
  },
  {
   "cell_type": "markdown",
   "metadata": {},
   "source": [
    "Suppose we know in advance (eg from a study in a previous year) that the population is divided into groups with different distributions. And suppose we know the proportion in each group in the population:"
   ]
  },
  {
   "cell_type": "code",
   "execution_count": 66,
   "metadata": {},
   "outputs": [
    {
     "data": {
      "text/plain": [
       "   \n",
       "        NSG      SG\n",
       "  F 0.24242 0.28283\n",
       "  M 0.19697 0.27778"
      ]
     },
     "metadata": {},
     "output_type": "display_data"
    }
   ],
   "source": [
    "table(x$gender, x$nationality)/nrow(x)"
   ]
  },
  {
   "cell_type": "markdown",
   "metadata": {},
   "source": [
    "So in every 25 people there are approximately 13 women, 5 non Singaporean men, and 7 Singaporean men.\n",
    "\n",
    "Randomly overselecting from one group could push us away from the mean.\n",
    "\n",
    "When we stratify our samples, we ensure that the proportion in each subgroup of the sample matches the proportion in the corresponding subgroup in the population."
   ]
  },
  {
   "cell_type": "markdown",
   "metadata": {},
   "source": [
    "Going back to estimating the mean height, stratify your sample such that each sample of size 25 contains 13 women, 5 non Singaporean men, and 7 Singaporean men.\n",
    "\n",
    "How does the distribution of the sample means from the stratified samples compare to that from simple random samples of size 25?"
   ]
  },
  {
   "cell_type": "markdown",
   "metadata": {},
   "source": [
    "### Step 13: Plot distribution of stratified samples VS simple random samples"
   ]
  },
  {
   "cell_type": "code",
   "execution_count": 70,
   "metadata": {},
   "outputs": [],
   "source": [
    "# NUMBER OF TRIALS\n",
    "N <- 5000\n",
    "\n",
    "# INITIALIZE ARRAY OF 5000\n",
    "samples_groupsStrat <- numeric(N)\n",
    "\n",
    "# APPEND VALUES INTO ARRAY (SAMPLE 13 FEMALES, 5 NSG MEN, 7 SG MEN)\n",
    "for (i in 1:N) {\n",
    "  samples_groupsStrat[i] <- mean(c(sample(x$height[x$gender == 'F'], size=13), \n",
    "                                   sample(x$height[x$gender == 'M' & x$nationality == \"NSG\"], size=5),\n",
    "                                   sample(x$height[x$gender == 'M' & x$nationality == \"SG\"], size=7)))\n",
    "}\n",
    "\n",
    "# INITIALIZE NORMAL ARRAY OF 5000\n",
    "samples_SRS25 <- numeric(N)\n",
    "\n",
    "# APPEND VALUES IF NO STRATIFY INTO SAMPLE\n",
    "for (i in 1:N) {\n",
    "  samples_SRS25[i] <- mean(sample(x$height, size=25))\n",
    "}"
   ]
  },
  {
   "cell_type": "code",
   "execution_count": 71,
   "metadata": {},
   "outputs": [
    {
     "data": {
      "image/png": "[encoded data removed]",
      "text/plain": [
       "Plot with title \"Histogram of samples_SRS25\""
      ]
     },
     "metadata": {},
     "output_type": "display_data"
    }
   ],
   "source": [
    "par(mfrow=c(1,2))\n",
    "\n",
    "# PLOT STRATIFIED SAMPLES\n",
    "hist(samples_groupsStrat, \n",
    "     freq=FALSE, \n",
    "     col=\"lightblue\", \n",
    "     breaks=c(seq(160,178,1)), \n",
    "     ylim=c(0,0.35))\n",
    "\n",
    "# PLOT SIMPLE SAMPLES\n",
    "hist(samples_SRS25, \n",
    "     freq=FALSE, \n",
    "     col=\"lightblue\", \n",
    "     breaks=c(seq(160,178,1)), \n",
    "     ylim=c(0,0.35))\n",
    "\n",
    "par(mfrow=c(1,1))"
   ]
  },
  {
   "cell_type": "markdown",
   "metadata": {},
   "source": [
    "### Step 14: Check standard deviations of samples"
   ]
  },
  {
   "cell_type": "code",
   "execution_count": 73,
   "metadata": {},
   "outputs": [
    {
     "data": {
      "text/html": [
       "1.19939664353956"
      ],
      "text/latex": [
       "1.19939664353956"
      ],
      "text/markdown": [
       "1.19939664353956"
      ],
      "text/plain": [
       "[1] 1.199397"
      ]
     },
     "metadata": {},
     "output_type": "display_data"
    },
    {
     "data": {
      "text/html": [
       "1.80833946951254"
      ],
      "text/latex": [
       "1.80833946951254"
      ],
      "text/markdown": [
       "1.80833946951254"
      ],
      "text/plain": [
       "[1] 1.808339"
      ]
     },
     "metadata": {},
     "output_type": "display_data"
    }
   ],
   "source": [
    "sd(samples_groupsStrat)\n",
    "\n",
    "sd(samples_SRS25)"
   ]
  },
  {
   "cell_type": "markdown",
   "metadata": {},
   "source": [
    "The distribution of means of stratified samples has smaller spread than the distribution of means of simple random samples.\n",
    "\n",
    "Making sure that each sample has the same characteristics as the population sometimes matters. But simple random sampling is still pretty good, and the right default. Taking a larger simple random sample can make up for not stratifying."
   ]
  },
  {
   "cell_type": "markdown",
   "metadata": {},
   "source": [
    "### Step 15: Compare stratified samples by nationality against random samples"
   ]
  },
  {
   "cell_type": "code",
   "execution_count": 74,
   "metadata": {},
   "outputs": [
    {
     "data": {
      "text/html": [
       "167.890519808232"
      ],
      "text/latex": [
       "167.890519808232"
      ],
      "text/markdown": [
       "167.890519808232"
      ],
      "text/plain": [
       "[1] 167.8905"
      ]
     },
     "metadata": {},
     "output_type": "display_data"
    },
    {
     "data": {
      "text/html": [
       "168.820444709236"
      ],
      "text/latex": [
       "168.820444709236"
      ],
      "text/markdown": [
       "168.820444709236"
      ],
      "text/plain": [
       "[1] 168.8204"
      ]
     },
     "metadata": {},
     "output_type": "display_data"
    }
   ],
   "source": [
    "mean(x$height[x$nationality == 'SG']) \n",
    "\n",
    "mean(x$height[x$nationality == 'NSG']) "
   ]
  },
  {
   "cell_type": "code",
   "execution_count": 76,
   "metadata": {},
   "outputs": [],
   "source": [
    "# NUMBER OF TRIALS\n",
    "N<-5000\n",
    "\n",
    "# INITIALIZE ARRAY\n",
    "samples_nationalityStrat <- numeric(N)\n",
    "\n",
    "\n",
    "for (i in 1:N) {\n",
    "  samples_nationalityStrat[i] <- mean(c(sample(x$height[x$nationality == 'SG'], 10), \n",
    "                                        sample(x$height[x$nationality == 'NSG'], 10)))\n",
    "}"
   ]
  },
  {
   "cell_type": "markdown",
   "metadata": {},
   "source": [
    "We can use the original h20 vector of sample means for the (unstratified) simple random sample."
   ]
  },
  {
   "cell_type": "code",
   "execution_count": 77,
   "metadata": {},
   "outputs": [
    {
     "data": {
      "image/png": "[encoded data removed]",
      "text/plain": [
       "Plot with title \"Histogram of h20\""
      ]
     },
     "metadata": {},
     "output_type": "display_data"
    }
   ],
   "source": [
    "par(mfrow=c(1,2))\n",
    "\n",
    "hist(samples_nationalityStrat, \n",
    "     freq= FALSE, \n",
    "     xlim=range(h20), \n",
    "     col=\"lightblue\")\n",
    "\n",
    "hist(h20, \n",
    "     freq= FALSE, \n",
    "     xlim=range(h20), \n",
    "     col=\"lightblue\")"
   ]
  },
  {
   "cell_type": "code",
   "execution_count": 78,
   "metadata": {},
   "outputs": [
    {
     "data": {
      "text/html": [
       "2.06674130936669"
      ],
      "text/latex": [
       "2.06674130936669"
      ],
      "text/markdown": [
       "2.06674130936669"
      ],
      "text/plain": [
       "[1] 2.066741"
      ]
     },
     "metadata": {},
     "output_type": "display_data"
    },
    {
     "data": {
      "text/html": [
       "2.02064653784533"
      ],
      "text/latex": [
       "2.02064653784533"
      ],
      "text/markdown": [
       "2.02064653784533"
      ],
      "text/plain": [
       "[1] 2.020647"
      ]
     },
     "metadata": {},
     "output_type": "display_data"
    }
   ],
   "source": [
    "sd(samples_nationalityStrat)\n",
    "sd(h20)"
   ]
  },
  {
   "cell_type": "markdown",
   "metadata": {},
   "source": [
    "Stratfication now does just about nothing.\n",
    "\n",
    "You should have a good reason for stratifying, or else you might introduce biases into your sample.\n",
    "\n",
    "When stratifying, you also need to have a good idea of the true proportion of each subgroup in the population (otherwise you might end up over/under-representing a group in your sample).\n",
    "\n",
    "Other cases where more control over sampling would be important: When you care about separate estimates for subgroups which vary in size. Think back to our Malaysian election results for the “other” category."
   ]
  },
  {
   "cell_type": "markdown",
   "metadata": {},
   "source": [
    "### Conclusion\n",
    "\n",
    "When we randomly take a sample from a large population to estimate a population parameter via the sample statistic, each sample will give us a different answer (sampling variablily).\n",
    "\n",
    "The larger the sample size, the higher the chance that the estimate from our sample is close to the true population parameter.\n",
    "\n",
    "We got an intuition concerning the interplay between sampling size, sampling variability, and shape of the population distribution:\n",
    "\n",
    "- Sample means are distributed quite symmetrically, even for very skewed populations, and the larger the sample, the more symmetric.\n",
    "- This does not necessarily work for other sample statistics."
   ]
  }
 ],
 "metadata": {
  "kernelspec": {
   "display_name": "R",
   "language": "R",
   "name": "ir"
  },
  "language_info": {
   "codemirror_mode": "r",
   "file_extension": ".r",
   "mimetype": "text/x-r-source",
   "name": "R",
   "pygments_lexer": "r",
   "version": "3.6.1"
  }
 },
 "nbformat": 4,
 "nbformat_minor": 4
}
