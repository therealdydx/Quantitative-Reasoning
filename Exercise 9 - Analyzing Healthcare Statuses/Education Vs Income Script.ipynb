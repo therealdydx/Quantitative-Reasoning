{
 "cells": [
  {
   "cell_type": "markdown",
   "metadata": {},
   "source": [
    "# Week 6 Tuesday – Using nhanes survey data to examine the link between education and income\n",
    "\n",
    "### Introduction\n",
    "\n",
    "Today, we will work with the National Health and Nutrition Examination Survey (nhanes) data from the USA National Center for Health Statistics (https://www.cdc.gov/nchs/nhanes/about_nhanes.htm). As preparation for today’s class, you already took a look at the data and explored the variables that will be used today. The objective of this activity is to practice the R coding skills you acquired over the last few weeks, and to prepare you for the midterm exam of coming Thursday. Therefore, try to work on this activity independently,\n",
    "save your script as a .R file and upload it to Canvas, export the graphs as .pdf files uploading them to Canvas as well.\n",
    "\n",
    "This activity includes more questions than you are expected to be able to answer during class. The rest of the questions can be used for extra practice at home. A .html document with solutions to all questions will be available at the end of the day so you will be able to check your answers."
   ]
  },
  {
   "cell_type": "code",
   "execution_count": 1,
   "metadata": {},
   "outputs": [],
   "source": [
    "nhanes <- read.csv(\"nhanes.csv\")"
   ]
  },
  {
   "cell_type": "markdown",
   "metadata": {},
   "source": [
    "### Challenge: Use the Nhanes survey data to examine the relationship between income and education.\n",
    "\n",
    "You just started college. For many of you, the idea that a better education augments the probability of landing a good paying job will have played at least some role in your decision to go to college, apart from the obvious fact that Yale-NUS is such a great place to be spending the coming 4 years of your life. There are many studies that provide support for the notion that income and level of education are positively correlated. On the other hand, students are taking out more and more loans to finance their studies, which often turns out to be a significant long-term financial burden. In this challenge, we will explore the Nhanes survey data from 2000 and 2018 to see if we can find support for the idea that higher education increases the probability that you will earn more later in life."
   ]
  },
  {
   "cell_type": "markdown",
   "metadata": {},
   "source": [
    "### Step 1: Check what the categories are for income and educational level."
   ]
  },
  {
   "cell_type": "code",
   "execution_count": null,
   "metadata": {},
   "outputs": [],
   "source": []
  },
  {
   "cell_type": "code",
   "execution_count": null,
   "metadata": {},
   "outputs": [],
   "source": []
  },
  {
   "cell_type": "markdown",
   "metadata": {},
   "source": [
    "### Step 2: Make a new dataframe with variables and values we need"
   ]
  },
  {
   "cell_type": "markdown",
   "metadata": {},
   "source": [
    "Make a new data frame from which all NA in the columns educ and income_class are removed, and only the columns id, year, income_class, income_mid, and educ are included. Also, remove the income classes “Under 20,000” and “Over 20,000”."
   ]
  },
  {
   "cell_type": "code",
   "execution_count": null,
   "metadata": {},
   "outputs": [],
   "source": []
  },
  {
   "cell_type": "markdown",
   "metadata": {},
   "source": [
    "## Question 1: What is the proportion of people with at least a college degree in each of the income groups?"
   ]
  },
  {
   "cell_type": "markdown",
   "metadata": {},
   "source": [
    "### Step 1: get the number of participants per income class\n",
    "\n",
    "Use the function table() to get the number of participants per income class. Use the variable income_mid instead of income_class, that will be easier for plotting later on."
   ]
  },
  {
   "cell_type": "code",
   "execution_count": null,
   "metadata": {},
   "outputs": [],
   "source": []
  },
  {
   "cell_type": "markdown",
   "metadata": {},
   "source": [
    "### Step 2: Use subsetting to create a new data frame coll_grads with only college graduates or above."
   ]
  },
  {
   "cell_type": "code",
   "execution_count": null,
   "metadata": {},
   "outputs": [],
   "source": []
  },
  {
   "cell_type": "markdown",
   "metadata": {},
   "source": [
    "### Step 3: get the number of college graduates per income class\n",
    "\n",
    "Again use table() to get the number of college graduates per income class (use income_mid, as before)."
   ]
  },
  {
   "cell_type": "code",
   "execution_count": null,
   "metadata": {},
   "outputs": [],
   "source": []
  },
  {
   "cell_type": "markdown",
   "metadata": {},
   "source": [
    "### Step 4: calculate the percentage of college graduates in each income class\n",
    "\n",
    "From the previous two tables, calculate the percentage of college graduates in each income class. (Hint: you can perform element-wise arithmetic on R tables.)"
   ]
  },
  {
   "cell_type": "code",
   "execution_count": null,
   "metadata": {},
   "outputs": [],
   "source": []
  },
  {
   "cell_type": "markdown",
   "metadata": {},
   "source": [
    "### Step 5: plot the percentage of college graduates per income class.\n",
    "\n",
    "Finally, plot the results in a barplot, with percentage of college graduates per income class."
   ]
  },
  {
   "cell_type": "code",
   "execution_count": null,
   "metadata": {},
   "outputs": [],
   "source": []
  },
  {
   "cell_type": "markdown",
   "metadata": {},
   "source": [
    "## Question 2: What is the proportion of people with an income of <= 20,000 in each of the educational levels?"
   ]
  },
  {
   "cell_type": "markdown",
   "metadata": {},
   "source": [
    "### Step 1: get the number of participants per educational level.\n",
    "\n",
    "Use table() to get the number of participants per educational level."
   ]
  },
  {
   "cell_type": "code",
   "execution_count": null,
   "metadata": {},
   "outputs": [],
   "source": []
  },
  {
   "cell_type": "markdown",
   "metadata": {},
   "source": [
    "### Step 2: Create a new data frame with only lower-income participants\n",
    "\n",
    "Use subsetting to create a new data frame low_income with only participants with an income of 20,000 or below. First take again a good look at which income classes you need to include here first."
   ]
  },
  {
   "cell_type": "code",
   "execution_count": null,
   "metadata": {},
   "outputs": [],
   "source": []
  },
  {
   "cell_type": "markdown",
   "metadata": {},
   "source": [
    "Now create a new data frame low_income with only participants with an income of 20,000 or below. Tip: You’ll need to subset 5 of the income categories, and you’ll need the | symbol (which stands for “or”)."
   ]
  },
  {
   "cell_type": "code",
   "execution_count": null,
   "metadata": {},
   "outputs": [],
   "source": []
  },
  {
   "cell_type": "markdown",
   "metadata": {},
   "source": [
    "### Step 3: get the number of participants with low income per educational level\n",
    "\n",
    "Use again the table() function to get the number of participants with low income per educational level."
   ]
  },
  {
   "cell_type": "code",
   "execution_count": null,
   "metadata": {},
   "outputs": [],
   "source": []
  },
  {
   "cell_type": "markdown",
   "metadata": {},
   "source": [
    "### Step 4: Calculate the percentage of low-income participants in each education level\n",
    "\n",
    "From the previous tables, find the percentage of low-income participants in each education level."
   ]
  },
  {
   "cell_type": "code",
   "execution_count": null,
   "metadata": {},
   "outputs": [],
   "source": []
  },
  {
   "cell_type": "code",
   "execution_count": null,
   "metadata": {},
   "outputs": [],
   "source": [
    "Step 5: Plot the results\n",
    "First re-orders the values in table_perc_low_income in order of educational level."
   ]
  }
 ],
 "metadata": {
  "kernelspec": {
   "display_name": "R",
   "language": "R",
   "name": "ir"
  },
  "language_info": {
   "codemirror_mode": "r",
   "file_extension": ".r",
   "mimetype": "text/x-r-source",
   "name": "R",
   "pygments_lexer": "r",
   "version": "3.6.1"
  }
 },
 "nbformat": 4,
 "nbformat_minor": 4
}
