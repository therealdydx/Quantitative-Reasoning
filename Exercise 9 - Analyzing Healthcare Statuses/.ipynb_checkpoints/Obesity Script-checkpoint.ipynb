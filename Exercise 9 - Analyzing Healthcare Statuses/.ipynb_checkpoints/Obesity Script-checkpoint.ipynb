{
 "cells": [
  {
   "cell_type": "markdown",
   "metadata": {},
   "source": [
    "# Week 6 Tuesday – Using nhanes survey data to examine patterns of obesity\n",
    "\n",
    "### Introduction\n",
    "\n",
    "Today, we will work with the National Health and Nutrition Examination Survey (nhanes) data from the USA National Center for Health Statistics (https://www.cdc.gov/nchs/nhanes/about_nhanes.htm). As preparation for today’s class, you already took a look at the data and explored the variables that will be used today. \n",
    "\n",
    "The objective of this activity is to practice the R coding skills you acquired over the last few weeks, and to prepare you for the midterm exam of coming Thursday. Therefore, try to work on this activity independently, save your script as a .R file and upload it to Canvas, export the graphs as .pdf files uploading them to Canvas as well.\n",
    "\n",
    "\n",
    "This activity includes more questions than you are expected to be able to answer during class. The rest of the questions can be used for extra practice at home. A .html document with solutions to all questions will be available at the end of the day so you will be able to check your answers.\n",
    "\n",
    "Keep your own R script you created for the prep of this class at hand, or the .html file with solutions that was provided to you. They provide an overview of the variables in the data set and an overview of the range of values / categories for several of the variables you will use today.\n"
   ]
  },
  {
   "cell_type": "code",
   "execution_count": 1,
   "metadata": {},
   "outputs": [
    {
     "data": {
      "text/html": [
       "<table>\n",
       "<thead><tr><th scope=col>id</th><th scope=col>year</th><th scope=col>weight</th><th scope=col>height</th><th scope=col>gender</th><th scope=col>age_yrs</th><th scope=col>ethn</th><th scope=col>educ</th><th scope=col>marital</th><th scope=col>income_class</th><th scope=col>poverty</th><th scope=col>citizenship</th><th scope=col>household</th><th scope=col>income_mid</th><th scope=col>poverty_class</th><th scope=col>years_USA_mid</th><th scope=col>lead_conc</th><th scope=col>age_class</th></tr></thead>\n",
       "<tbody>\n",
       "\t<tr><td>8594                     </td><td>2000                     </td><td> 34.20                   </td><td>141.2                    </td><td>F                        </td><td>10                       </td><td>Mexican American         </td><td>NA                       </td><td>NA                       </td><td>NA                       </td><td>  NA                     </td><td>not_citizen              </td><td>7                        </td><td>    NA                   </td><td>NA                       </td><td>NA                       </td><td>   NA                    </td><td>12.5                     </td></tr>\n",
       "\t<tr><td>8073                     </td><td>2000                     </td><td> 83.60                   </td><td>167.0                    </td><td>F                        </td><td>19                       </td><td>Mexican American         </td><td>NA                       </td><td>Never married            </td><td>15,000 to 19,999         </td><td>1.56                     </td><td>citizen                  </td><td>2                        </td><td> 17500                   </td><td> 2                       </td><td>NA                       </td><td>0.039                    </td><td>17.5                     </td></tr>\n",
       "\t<tr><td>1604                     </td><td>2000                     </td><td> 55.20                   </td><td>169.9                    </td><td>F                        </td><td>47                       </td><td>Non-Hispanic White       </td><td>college graduate or above</td><td>Married                  </td><td>75,000 and over          </td><td>5.00                     </td><td>citizen                  </td><td>5                        </td><td>100000                   </td><td> 5                       </td><td>NA                       </td><td>0.072                    </td><td>47.5                     </td></tr>\n",
       "\t<tr><td>7197                     </td><td>2000                     </td><td> 64.70                   </td><td>180.3                    </td><td>M                        </td><td>63                       </td><td>Non-Hispanic Black       </td><td>9-11th grade             </td><td>Separated                </td><td>5,000 to 9,999           </td><td>0.62                     </td><td>citizen                  </td><td>1                        </td><td>  7500                   </td><td> 1                       </td><td>NA                       </td><td>0.531                    </td><td>62.5                     </td></tr>\n",
       "\t<tr><td>4492                     </td><td>2000                     </td><td>113.90                   </td><td>173.2                    </td><td>F                        </td><td>24                       </td><td>Mexican American         </td><td>High School              </td><td>Married                  </td><td>35,000 to 44,999         </td><td>3.38                     </td><td>citizen                  </td><td>2                        </td><td> 40000                   </td><td> 4                       </td><td>NA                       </td><td>0.014                    </td><td>22.5                     </td></tr>\n",
       "\t<tr><td>1443                     </td><td>2000                     </td><td> 52.74                   </td><td>169.0                    </td><td>F                        </td><td>25                       </td><td>Non-Hispanic White       </td><td>some college or AA       </td><td>Married                  </td><td>35,000 to 44,999         </td><td>2.47                     </td><td>citizen                  </td><td>3                        </td><td> 40000                   </td><td> 3                       </td><td>NA                       </td><td>0.024                    </td><td>27.5                     </td></tr>\n",
       "</tbody>\n",
       "</table>\n"
      ],
      "text/latex": [
       "\\begin{tabular}{r|llllllllllllllllll}\n",
       " id & year & weight & height & gender & age\\_yrs & ethn & educ & marital & income\\_class & poverty & citizenship & household & income\\_mid & poverty\\_class & years\\_USA\\_mid & lead\\_conc & age\\_class\\\\\n",
       "\\hline\n",
       "\t 8594                      & 2000                      &  34.20                    & 141.2                     & F                         & 10                        & Mexican American          & NA                        & NA                        & NA                        &   NA                      & not\\_citizen             & 7                         &     NA                    & NA                        & NA                        &    NA                     & 12.5                     \\\\\n",
       "\t 8073                      & 2000                      &  83.60                    & 167.0                     & F                         & 19                        & Mexican American          & NA                        & Never married             & 15,000 to 19,999          & 1.56                      & citizen                   & 2                         &  17500                    &  2                        & NA                        & 0.039                     & 17.5                     \\\\\n",
       "\t 1604                      & 2000                      &  55.20                    & 169.9                     & F                         & 47                        & Non-Hispanic White        & college graduate or above & Married                   & 75,000 and over           & 5.00                      & citizen                   & 5                         & 100000                    &  5                        & NA                        & 0.072                     & 47.5                     \\\\\n",
       "\t 7197                      & 2000                      &  64.70                    & 180.3                     & M                         & 63                        & Non-Hispanic Black        & 9-11th grade              & Separated                 & 5,000 to 9,999            & 0.62                      & citizen                   & 1                         &   7500                    &  1                        & NA                        & 0.531                     & 62.5                     \\\\\n",
       "\t 4492                      & 2000                      & 113.90                    & 173.2                     & F                         & 24                        & Mexican American          & High School               & Married                   & 35,000 to 44,999          & 3.38                      & citizen                   & 2                         &  40000                    &  4                        & NA                        & 0.014                     & 22.5                     \\\\\n",
       "\t 1443                      & 2000                      &  52.74                    & 169.0                     & F                         & 25                        & Non-Hispanic White        & some college or AA        & Married                   & 35,000 to 44,999          & 2.47                      & citizen                   & 3                         &  40000                    &  3                        & NA                        & 0.024                     & 27.5                     \\\\\n",
       "\\end{tabular}\n"
      ],
      "text/markdown": [
       "\n",
       "| id | year | weight | height | gender | age_yrs | ethn | educ | marital | income_class | poverty | citizenship | household | income_mid | poverty_class | years_USA_mid | lead_conc | age_class |\n",
       "|---|---|---|---|---|---|---|---|---|---|---|---|---|---|---|---|---|---|\n",
       "| 8594                      | 2000                      |  34.20                    | 141.2                     | F                         | 10                        | Mexican American          | NA                        | NA                        | NA                        |   NA                      | not_citizen               | 7                         |     NA                    | NA                        | NA                        |    NA                     | 12.5                      |\n",
       "| 8073                      | 2000                      |  83.60                    | 167.0                     | F                         | 19                        | Mexican American          | NA                        | Never married             | 15,000 to 19,999          | 1.56                      | citizen                   | 2                         |  17500                    |  2                        | NA                        | 0.039                     | 17.5                      |\n",
       "| 1604                      | 2000                      |  55.20                    | 169.9                     | F                         | 47                        | Non-Hispanic White        | college graduate or above | Married                   | 75,000 and over           | 5.00                      | citizen                   | 5                         | 100000                    |  5                        | NA                        | 0.072                     | 47.5                      |\n",
       "| 7197                      | 2000                      |  64.70                    | 180.3                     | M                         | 63                        | Non-Hispanic Black        | 9-11th grade              | Separated                 | 5,000 to 9,999            | 0.62                      | citizen                   | 1                         |   7500                    |  1                        | NA                        | 0.531                     | 62.5                      |\n",
       "| 4492                      | 2000                      | 113.90                    | 173.2                     | F                         | 24                        | Mexican American          | High School               | Married                   | 35,000 to 44,999          | 3.38                      | citizen                   | 2                         |  40000                    |  4                        | NA                        | 0.014                     | 22.5                      |\n",
       "| 1443                      | 2000                      |  52.74                    | 169.0                     | F                         | 25                        | Non-Hispanic White        | some college or AA        | Married                   | 35,000 to 44,999          | 2.47                      | citizen                   | 3                         |  40000                    |  3                        | NA                        | 0.024                     | 27.5                      |\n",
       "\n"
      ],
      "text/plain": [
       "  id   year weight height gender age_yrs ethn              \n",
       "1 8594 2000  34.20 141.2  F      10      Mexican American  \n",
       "2 8073 2000  83.60 167.0  F      19      Mexican American  \n",
       "3 1604 2000  55.20 169.9  F      47      Non-Hispanic White\n",
       "4 7197 2000  64.70 180.3  M      63      Non-Hispanic Black\n",
       "5 4492 2000 113.90 173.2  F      24      Mexican American  \n",
       "6 1443 2000  52.74 169.0  F      25      Non-Hispanic White\n",
       "  educ                      marital       income_class     poverty citizenship\n",
       "1 NA                        NA            NA                 NA    not_citizen\n",
       "2 NA                        Never married 15,000 to 19,999 1.56    citizen    \n",
       "3 college graduate or above Married       75,000 and over  5.00    citizen    \n",
       "4 9-11th grade              Separated     5,000 to 9,999   0.62    citizen    \n",
       "5 High School               Married       35,000 to 44,999 3.38    citizen    \n",
       "6 some college or AA        Married       35,000 to 44,999 2.47    citizen    \n",
       "  household income_mid poverty_class years_USA_mid lead_conc age_class\n",
       "1 7             NA     NA            NA               NA     12.5     \n",
       "2 2          17500      2            NA            0.039     17.5     \n",
       "3 5         100000      5            NA            0.072     47.5     \n",
       "4 1           7500      1            NA            0.531     62.5     \n",
       "5 2          40000      4            NA            0.014     22.5     \n",
       "6 3          40000      3            NA            0.024     27.5     "
      ]
     },
     "metadata": {},
     "output_type": "display_data"
    }
   ],
   "source": [
    "nhanes <- read.csv(\"C:/Users/User/OneDrive/Documents/Yale-NUS/Quantitative Reasoning/Quantitative Reasoning Repository/Lesson 9 - NHANES Data/nhanes.csv\")\n",
    "\n",
    "head(nhanes)"
   ]
  },
  {
   "cell_type": "markdown",
   "metadata": {},
   "source": [
    "### Step 1: Append a column with the body mass index (BMI) per participant.\n",
    "\n",
    "the BMI is calculated as a person’s weight in kilograms divided by their height in meters squared. For adults (20+ years) A BMI of 25.0 or more is overweight, while bmi > 30 is considered obese."
   ]
  },
  {
   "cell_type": "code",
   "execution_count": 3,
   "metadata": {},
   "outputs": [
    {
     "data": {
      "text/html": [
       "<table>\n",
       "<thead><tr><th scope=col>id</th><th scope=col>year</th><th scope=col>weight</th><th scope=col>height</th><th scope=col>gender</th><th scope=col>age_yrs</th><th scope=col>ethn</th><th scope=col>educ</th><th scope=col>marital</th><th scope=col>income_class</th><th scope=col>poverty</th><th scope=col>citizenship</th><th scope=col>household</th><th scope=col>income_mid</th><th scope=col>poverty_class</th><th scope=col>years_USA_mid</th><th scope=col>lead_conc</th><th scope=col>age_class</th><th scope=col>BMI</th></tr></thead>\n",
       "<tbody>\n",
       "\t<tr><td>8594                     </td><td>2000                     </td><td> 34.20                   </td><td>141.2                    </td><td>F                        </td><td>10                       </td><td>Mexican American         </td><td>NA                       </td><td>NA                       </td><td>NA                       </td><td>  NA                     </td><td>not_citizen              </td><td>7                        </td><td>    NA                   </td><td>NA                       </td><td>NA                       </td><td>   NA                    </td><td>12.5                     </td><td>17.15366                 </td></tr>\n",
       "\t<tr><td>8073                     </td><td>2000                     </td><td> 83.60                   </td><td>167.0                    </td><td>F                        </td><td>19                       </td><td>Mexican American         </td><td>NA                       </td><td>Never married            </td><td>15,000 to 19,999         </td><td>1.56                     </td><td>citizen                  </td><td>2                        </td><td> 17500                   </td><td> 2                       </td><td>NA                       </td><td>0.039                    </td><td>17.5                     </td><td>29.97598                 </td></tr>\n",
       "\t<tr><td>1604                     </td><td>2000                     </td><td> 55.20                   </td><td>169.9                    </td><td>F                        </td><td>47                       </td><td>Non-Hispanic White       </td><td>college graduate or above</td><td>Married                  </td><td>75,000 and over          </td><td>5.00                     </td><td>citizen                  </td><td>5                        </td><td>100000                   </td><td> 5                       </td><td>NA                       </td><td>0.072                    </td><td>47.5                     </td><td>19.12284                 </td></tr>\n",
       "\t<tr><td>7197                     </td><td>2000                     </td><td> 64.70                   </td><td>180.3                    </td><td>M                        </td><td>63                       </td><td>Non-Hispanic Black       </td><td>9-11th grade             </td><td>Separated                </td><td>5,000 to 9,999           </td><td>0.62                     </td><td>citizen                  </td><td>1                        </td><td>  7500                   </td><td> 1                       </td><td>NA                       </td><td>0.531                    </td><td>62.5                     </td><td>19.90274                 </td></tr>\n",
       "\t<tr><td>4492                     </td><td>2000                     </td><td>113.90                   </td><td>173.2                    </td><td>F                        </td><td>24                       </td><td>Mexican American         </td><td>High School              </td><td>Married                  </td><td>35,000 to 44,999         </td><td>3.38                     </td><td>citizen                  </td><td>2                        </td><td> 40000                   </td><td> 4                       </td><td>NA                       </td><td>0.014                    </td><td>22.5                     </td><td>37.96889                 </td></tr>\n",
       "\t<tr><td>1443                     </td><td>2000                     </td><td> 52.74                   </td><td>169.0                    </td><td>F                        </td><td>25                       </td><td>Non-Hispanic White       </td><td>some college or AA       </td><td>Married                  </td><td>35,000 to 44,999         </td><td>2.47                     </td><td>citizen                  </td><td>3                        </td><td> 40000                   </td><td> 3                       </td><td>NA                       </td><td>0.024                    </td><td>27.5                     </td><td>18.46574                 </td></tr>\n",
       "</tbody>\n",
       "</table>\n"
      ],
      "text/latex": [
       "\\begin{tabular}{r|lllllllllllllllllll}\n",
       " id & year & weight & height & gender & age\\_yrs & ethn & educ & marital & income\\_class & poverty & citizenship & household & income\\_mid & poverty\\_class & years\\_USA\\_mid & lead\\_conc & age\\_class & BMI\\\\\n",
       "\\hline\n",
       "\t 8594                      & 2000                      &  34.20                    & 141.2                     & F                         & 10                        & Mexican American          & NA                        & NA                        & NA                        &   NA                      & not\\_citizen             & 7                         &     NA                    & NA                        & NA                        &    NA                     & 12.5                      & 17.15366                 \\\\\n",
       "\t 8073                      & 2000                      &  83.60                    & 167.0                     & F                         & 19                        & Mexican American          & NA                        & Never married             & 15,000 to 19,999          & 1.56                      & citizen                   & 2                         &  17500                    &  2                        & NA                        & 0.039                     & 17.5                      & 29.97598                 \\\\\n",
       "\t 1604                      & 2000                      &  55.20                    & 169.9                     & F                         & 47                        & Non-Hispanic White        & college graduate or above & Married                   & 75,000 and over           & 5.00                      & citizen                   & 5                         & 100000                    &  5                        & NA                        & 0.072                     & 47.5                      & 19.12284                 \\\\\n",
       "\t 7197                      & 2000                      &  64.70                    & 180.3                     & M                         & 63                        & Non-Hispanic Black        & 9-11th grade              & Separated                 & 5,000 to 9,999            & 0.62                      & citizen                   & 1                         &   7500                    &  1                        & NA                        & 0.531                     & 62.5                      & 19.90274                 \\\\\n",
       "\t 4492                      & 2000                      & 113.90                    & 173.2                     & F                         & 24                        & Mexican American          & High School               & Married                   & 35,000 to 44,999          & 3.38                      & citizen                   & 2                         &  40000                    &  4                        & NA                        & 0.014                     & 22.5                      & 37.96889                 \\\\\n",
       "\t 1443                      & 2000                      &  52.74                    & 169.0                     & F                         & 25                        & Non-Hispanic White        & some college or AA        & Married                   & 35,000 to 44,999          & 2.47                      & citizen                   & 3                         &  40000                    &  3                        & NA                        & 0.024                     & 27.5                      & 18.46574                 \\\\\n",
       "\\end{tabular}\n"
      ],
      "text/markdown": [
       "\n",
       "| id | year | weight | height | gender | age_yrs | ethn | educ | marital | income_class | poverty | citizenship | household | income_mid | poverty_class | years_USA_mid | lead_conc | age_class | BMI |\n",
       "|---|---|---|---|---|---|---|---|---|---|---|---|---|---|---|---|---|---|---|\n",
       "| 8594                      | 2000                      |  34.20                    | 141.2                     | F                         | 10                        | Mexican American          | NA                        | NA                        | NA                        |   NA                      | not_citizen               | 7                         |     NA                    | NA                        | NA                        |    NA                     | 12.5                      | 17.15366                  |\n",
       "| 8073                      | 2000                      |  83.60                    | 167.0                     | F                         | 19                        | Mexican American          | NA                        | Never married             | 15,000 to 19,999          | 1.56                      | citizen                   | 2                         |  17500                    |  2                        | NA                        | 0.039                     | 17.5                      | 29.97598                  |\n",
       "| 1604                      | 2000                      |  55.20                    | 169.9                     | F                         | 47                        | Non-Hispanic White        | college graduate or above | Married                   | 75,000 and over           | 5.00                      | citizen                   | 5                         | 100000                    |  5                        | NA                        | 0.072                     | 47.5                      | 19.12284                  |\n",
       "| 7197                      | 2000                      |  64.70                    | 180.3                     | M                         | 63                        | Non-Hispanic Black        | 9-11th grade              | Separated                 | 5,000 to 9,999            | 0.62                      | citizen                   | 1                         |   7500                    |  1                        | NA                        | 0.531                     | 62.5                      | 19.90274                  |\n",
       "| 4492                      | 2000                      | 113.90                    | 173.2                     | F                         | 24                        | Mexican American          | High School               | Married                   | 35,000 to 44,999          | 3.38                      | citizen                   | 2                         |  40000                    |  4                        | NA                        | 0.014                     | 22.5                      | 37.96889                  |\n",
       "| 1443                      | 2000                      |  52.74                    | 169.0                     | F                         | 25                        | Non-Hispanic White        | some college or AA        | Married                   | 35,000 to 44,999          | 2.47                      | citizen                   | 3                         |  40000                    |  3                        | NA                        | 0.024                     | 27.5                      | 18.46574                  |\n",
       "\n"
      ],
      "text/plain": [
       "  id   year weight height gender age_yrs ethn              \n",
       "1 8594 2000  34.20 141.2  F      10      Mexican American  \n",
       "2 8073 2000  83.60 167.0  F      19      Mexican American  \n",
       "3 1604 2000  55.20 169.9  F      47      Non-Hispanic White\n",
       "4 7197 2000  64.70 180.3  M      63      Non-Hispanic Black\n",
       "5 4492 2000 113.90 173.2  F      24      Mexican American  \n",
       "6 1443 2000  52.74 169.0  F      25      Non-Hispanic White\n",
       "  educ                      marital       income_class     poverty citizenship\n",
       "1 NA                        NA            NA                 NA    not_citizen\n",
       "2 NA                        Never married 15,000 to 19,999 1.56    citizen    \n",
       "3 college graduate or above Married       75,000 and over  5.00    citizen    \n",
       "4 9-11th grade              Separated     5,000 to 9,999   0.62    citizen    \n",
       "5 High School               Married       35,000 to 44,999 3.38    citizen    \n",
       "6 some college or AA        Married       35,000 to 44,999 2.47    citizen    \n",
       "  household income_mid poverty_class years_USA_mid lead_conc age_class BMI     \n",
       "1 7             NA     NA            NA               NA     12.5      17.15366\n",
       "2 2          17500      2            NA            0.039     17.5      29.97598\n",
       "3 5         100000      5            NA            0.072     47.5      19.12284\n",
       "4 1           7500      1            NA            0.531     62.5      19.90274\n",
       "5 2          40000      4            NA            0.014     22.5      37.96889\n",
       "6 3          40000      3            NA            0.024     27.5      18.46574"
      ]
     },
     "metadata": {},
     "output_type": "display_data"
    }
   ],
   "source": [
    "nhanes$BMI <- nhanes$weight / ((nhanes$height)/100)^2\n",
    "head(nhanes)"
   ]
  },
  {
   "cell_type": "markdown",
   "metadata": {},
   "source": [
    "### Step 2: Select people >20 years old\n",
    "\n",
    "We’ll look at people from 20 years (because definitions of obesity is different for younger people) till 84 years old (because 85 years lumps all people of 85 and older). Create a new dataframe adults with only people in this age range."
   ]
  },
  {
   "cell_type": "code",
   "execution_count": 39,
   "metadata": {},
   "outputs": [
    {
     "data": {
      "text/html": [
       "<table>\n",
       "<thead><tr><th></th><th scope=col>id</th><th scope=col>year</th><th scope=col>weight</th><th scope=col>height</th><th scope=col>gender</th><th scope=col>age_yrs</th><th scope=col>ethn</th><th scope=col>educ</th><th scope=col>marital</th><th scope=col>income_class</th><th scope=col>poverty</th><th scope=col>citizenship</th><th scope=col>household</th><th scope=col>income_mid</th><th scope=col>poverty_class</th><th scope=col>years_USA_mid</th><th scope=col>lead_conc</th><th scope=col>age_class</th><th scope=col>BMI</th></tr></thead>\n",
       "<tbody>\n",
       "\t<tr><th scope=row>3</th><td>1604                     </td><td>2000                     </td><td> 55.20                   </td><td>169.9                    </td><td>F                        </td><td>47                       </td><td>Non-Hispanic White       </td><td>college graduate or above</td><td>Married                  </td><td>75,000 and over          </td><td>5.00                     </td><td>citizen                  </td><td>5                        </td><td>100000                   </td><td>5                        </td><td>NA                       </td><td>0.072                    </td><td>47.5                     </td><td>19.12284                 </td></tr>\n",
       "\t<tr><th scope=row>4</th><td>7197                     </td><td>2000                     </td><td> 64.70                   </td><td>180.3                    </td><td>M                        </td><td>63                       </td><td>Non-Hispanic Black       </td><td>9-11th grade             </td><td>Separated                </td><td>5,000 to 9,999           </td><td>0.62                     </td><td>citizen                  </td><td>1                        </td><td>  7500                   </td><td>1                        </td><td>NA                       </td><td>0.531                    </td><td>62.5                     </td><td>19.90274                 </td></tr>\n",
       "\t<tr><th scope=row>5</th><td>4492                     </td><td>2000                     </td><td>113.90                   </td><td>173.2                    </td><td>F                        </td><td>24                       </td><td>Mexican American         </td><td>High School              </td><td>Married                  </td><td>35,000 to 44,999         </td><td>3.38                     </td><td>citizen                  </td><td>2                        </td><td> 40000                   </td><td>4                        </td><td>NA                       </td><td>0.014                    </td><td>22.5                     </td><td>37.96889                 </td></tr>\n",
       "\t<tr><th scope=row>6</th><td>1443                     </td><td>2000                     </td><td> 52.74                   </td><td>169.0                    </td><td>F                        </td><td>25                       </td><td>Non-Hispanic White       </td><td>some college or AA       </td><td>Married                  </td><td>35,000 to 44,999         </td><td>2.47                     </td><td>citizen                  </td><td>3                        </td><td> 40000                   </td><td>3                        </td><td>NA                       </td><td>0.024                    </td><td>27.5                     </td><td>18.46574                 </td></tr>\n",
       "\t<tr><th scope=row>8</th><td>5341                                                                </td><td>2000                                                                </td><td> 96.30                                                              </td><td>179.5                                                               </td><td>M                                                                   </td><td>50                                                                  </td><td><span style=white-space:pre-wrap>Other Hispanic    </span>          </td><td><span style=white-space:pre-wrap>&lt; 9th grade              </span></td><td>Never married                                                       </td><td>20,000 to 24,999                                                    </td><td>0.96                                                                </td><td>not_citizen                                                         </td><td>2                                                                   </td><td> 22500                                                              </td><td>1                                                                   </td><td>25                                                                  </td><td>0.077                                                               </td><td>52.5                                                                </td><td>29.88804                                                            </td></tr>\n",
       "\t<tr><th scope=row>9</th><td>5286                                                                </td><td>2000                                                                </td><td> 51.40                                                              </td><td>156.4                                                               </td><td>M                                                                   </td><td>78                                                                  </td><td><span style=white-space:pre-wrap>Mexican American  </span>          </td><td><span style=white-space:pre-wrap>&lt; 9th grade              </span></td><td><span style=white-space:pre-wrap>NA           </span>               </td><td>35,000 to 44,999                                                    </td><td>3.48                                                                </td><td>not_citizen                                                         </td><td>2                                                                   </td><td> 40000                                                              </td><td>4                                                                   </td><td>75                                                                  </td><td>0.111                                                               </td><td>77.5                                                                </td><td>21.01308                                                            </td></tr>\n",
       "</tbody>\n",
       "</table>\n"
      ],
      "text/latex": [
       "\\begin{tabular}{r|lllllllllllllllllll}\n",
       "  & id & year & weight & height & gender & age\\_yrs & ethn & educ & marital & income\\_class & poverty & citizenship & household & income\\_mid & poverty\\_class & years\\_USA\\_mid & lead\\_conc & age\\_class & BMI\\\\\n",
       "\\hline\n",
       "\t3 & 1604                      & 2000                      &  55.20                    & 169.9                     & F                         & 47                        & Non-Hispanic White        & college graduate or above & Married                   & 75,000 and over           & 5.00                      & citizen                   & 5                         & 100000                    & 5                         & NA                        & 0.072                     & 47.5                      & 19.12284                 \\\\\n",
       "\t4 & 7197                      & 2000                      &  64.70                    & 180.3                     & M                         & 63                        & Non-Hispanic Black        & 9-11th grade              & Separated                 & 5,000 to 9,999            & 0.62                      & citizen                   & 1                         &   7500                    & 1                         & NA                        & 0.531                     & 62.5                      & 19.90274                 \\\\\n",
       "\t5 & 4492                      & 2000                      & 113.90                    & 173.2                     & F                         & 24                        & Mexican American          & High School               & Married                   & 35,000 to 44,999          & 3.38                      & citizen                   & 2                         &  40000                    & 4                         & NA                        & 0.014                     & 22.5                      & 37.96889                 \\\\\n",
       "\t6 & 1443                      & 2000                      &  52.74                    & 169.0                     & F                         & 25                        & Non-Hispanic White        & some college or AA        & Married                   & 35,000 to 44,999          & 2.47                      & citizen                   & 3                         &  40000                    & 3                         & NA                        & 0.024                     & 27.5                      & 18.46574                 \\\\\n",
       "\t8 & 5341                      & 2000                      &  96.30                    & 179.5                     & M                         & 50                        & Other Hispanic            & < 9th grade               & Never married             & 20,000 to 24,999          & 0.96                      & not\\_citizen             & 2                         &  22500                    & 1                         & 25                        & 0.077                     & 52.5                      & 29.88804                 \\\\\n",
       "\t9 & 5286                      & 2000                      &  51.40                    & 156.4                     & M                         & 78                        & Mexican American          & < 9th grade               & NA                        & 35,000 to 44,999          & 3.48                      & not\\_citizen             & 2                         &  40000                    & 4                         & 75                        & 0.111                     & 77.5                      & 21.01308                 \\\\\n",
       "\\end{tabular}\n"
      ],
      "text/markdown": [
       "\n",
       "| <!--/--> | id | year | weight | height | gender | age_yrs | ethn | educ | marital | income_class | poverty | citizenship | household | income_mid | poverty_class | years_USA_mid | lead_conc | age_class | BMI |\n",
       "|---|---|---|---|---|---|---|---|---|---|---|---|---|---|---|---|---|---|---|---|\n",
       "| 3 | 1604                      | 2000                      |  55.20                    | 169.9                     | F                         | 47                        | Non-Hispanic White        | college graduate or above | Married                   | 75,000 and over           | 5.00                      | citizen                   | 5                         | 100000                    | 5                         | NA                        | 0.072                     | 47.5                      | 19.12284                  |\n",
       "| 4 | 7197                      | 2000                      |  64.70                    | 180.3                     | M                         | 63                        | Non-Hispanic Black        | 9-11th grade              | Separated                 | 5,000 to 9,999            | 0.62                      | citizen                   | 1                         |   7500                    | 1                         | NA                        | 0.531                     | 62.5                      | 19.90274                  |\n",
       "| 5 | 4492                      | 2000                      | 113.90                    | 173.2                     | F                         | 24                        | Mexican American          | High School               | Married                   | 35,000 to 44,999          | 3.38                      | citizen                   | 2                         |  40000                    | 4                         | NA                        | 0.014                     | 22.5                      | 37.96889                  |\n",
       "| 6 | 1443                      | 2000                      |  52.74                    | 169.0                     | F                         | 25                        | Non-Hispanic White        | some college or AA        | Married                   | 35,000 to 44,999          | 2.47                      | citizen                   | 3                         |  40000                    | 3                         | NA                        | 0.024                     | 27.5                      | 18.46574                  |\n",
       "| 8 | 5341                      | 2000                      |  96.30                    | 179.5                     | M                         | 50                        | Other Hispanic            | < 9th grade               | Never married             | 20,000 to 24,999          | 0.96                      | not_citizen               | 2                         |  22500                    | 1                         | 25                        | 0.077                     | 52.5                      | 29.88804                  |\n",
       "| 9 | 5286                      | 2000                      |  51.40                    | 156.4                     | M                         | 78                        | Mexican American          | < 9th grade               | NA                        | 35,000 to 44,999          | 3.48                      | not_citizen               | 2                         |  40000                    | 4                         | 75                        | 0.111                     | 77.5                      | 21.01308                  |\n",
       "\n"
      ],
      "text/plain": [
       "  id   year weight height gender age_yrs ethn              \n",
       "3 1604 2000  55.20 169.9  F      47      Non-Hispanic White\n",
       "4 7197 2000  64.70 180.3  M      63      Non-Hispanic Black\n",
       "5 4492 2000 113.90 173.2  F      24      Mexican American  \n",
       "6 1443 2000  52.74 169.0  F      25      Non-Hispanic White\n",
       "8 5341 2000  96.30 179.5  M      50      Other Hispanic    \n",
       "9 5286 2000  51.40 156.4  M      78      Mexican American  \n",
       "  educ                      marital       income_class     poverty citizenship\n",
       "3 college graduate or above Married       75,000 and over  5.00    citizen    \n",
       "4 9-11th grade              Separated     5,000 to 9,999   0.62    citizen    \n",
       "5 High School               Married       35,000 to 44,999 3.38    citizen    \n",
       "6 some college or AA        Married       35,000 to 44,999 2.47    citizen    \n",
       "8 < 9th grade               Never married 20,000 to 24,999 0.96    not_citizen\n",
       "9 < 9th grade               NA            35,000 to 44,999 3.48    not_citizen\n",
       "  household income_mid poverty_class years_USA_mid lead_conc age_class BMI     \n",
       "3 5         100000     5             NA            0.072     47.5      19.12284\n",
       "4 1           7500     1             NA            0.531     62.5      19.90274\n",
       "5 2          40000     4             NA            0.014     22.5      37.96889\n",
       "6 3          40000     3             NA            0.024     27.5      18.46574\n",
       "8 2          22500     1             25            0.077     52.5      29.88804\n",
       "9 2          40000     4             75            0.111     77.5      21.01308"
      ]
     },
     "metadata": {},
     "output_type": "display_data"
    }
   ],
   "source": [
    "adults <- nhanes[which(nhanes$age_yrs > 19 & nhanes$age_yrs < 85), ]\n",
    "head(adults)"
   ]
  },
  {
   "cell_type": "markdown",
   "metadata": {},
   "source": [
    "### Step 3: How many NAs do we have in the column bmi?"
   ]
  },
  {
   "cell_type": "code",
   "execution_count": 37,
   "metadata": {},
   "outputs": [
    {
     "data": {
      "text/html": [
       "139"
      ],
      "text/latex": [
       "139"
      ],
      "text/markdown": [
       "139"
      ],
      "text/plain": [
       "[1] 139"
      ]
     },
     "metadata": {},
     "output_type": "display_data"
    }
   ],
   "source": [
    "totalsum <- sum(is.na(adults$BMI))\n",
    "totalsum"
   ]
  },
  {
   "cell_type": "markdown",
   "metadata": {},
   "source": [
    "### Step 4: Estimate the bmi statistics BMI of women in the 2000 survey\n",
    "\n",
    "Calculate the mean, standard deviation, first, second, third quartile, IQR, min and max of the BMI of women in the 2000 survey."
   ]
  },
  {
   "cell_type": "code",
   "execution_count": 65,
   "metadata": {},
   "outputs": [
    {
     "name": "stdout",
     "output_type": "stream",
     "text": [
      "[1] \"mean score: 29.7622758570926\"\n",
      "[1] \"standard deviation: 7.62323391269072\"\n",
      "[1] \"quartiles:\"\n"
     ]
    },
    {
     "data": {
      "text/html": [
       "<dl class=dl-horizontal>\n",
       "\t<dt>0%</dt>\n",
       "\t\t<dd>12.0427291082171</dd>\n",
       "\t<dt>25%</dt>\n",
       "\t\t<dd>24.3159561652302</dd>\n",
       "\t<dt>50%</dt>\n",
       "\t\t<dd>28.4608152202229</dd>\n",
       "\t<dt>75%</dt>\n",
       "\t\t<dd>33.7092102842303</dd>\n",
       "\t<dt>100%</dt>\n",
       "\t\t<dd>84.4041112028008</dd>\n",
       "</dl>\n"
      ],
      "text/latex": [
       "\\begin{description*}\n",
       "\\item[0\\textbackslash{}\\%] 12.0427291082171\n",
       "\\item[25\\textbackslash{}\\%] 24.3159561652302\n",
       "\\item[50\\textbackslash{}\\%] 28.4608152202229\n",
       "\\item[75\\textbackslash{}\\%] 33.7092102842303\n",
       "\\item[100\\textbackslash{}\\%] 84.4041112028008\n",
       "\\end{description*}\n"
      ],
      "text/markdown": [
       "0%\n",
       ":   12.042729108217125%\n",
       ":   24.315956165230250%\n",
       ":   28.460815220222975%\n",
       ":   33.7092102842303100%\n",
       ":   84.4041112028008\n",
       "\n"
      ],
      "text/plain": [
       "      0%      25%      50%      75%     100% \n",
       "12.04273 24.31596 28.46082 33.70921 84.40411 "
      ]
     },
     "metadata": {},
     "output_type": "display_data"
    },
    {
     "name": "stdout",
     "output_type": "stream",
     "text": [
      "[1] \"interquartile range: 9.39325411900011\"\n",
      "[1] \"minimum score:  12.0427291082171\"\n",
      "[1] \"maximum score: 84.4041112028008\"\n"
     ]
    }
   ],
   "source": [
    "# MEAN BMI\n",
    "mean_score <- mean(adults$BMI[adults$gender == \"F\"], na.rm = TRUE)\n",
    "print(paste(\"mean score:\", mean_score))\n",
    "\n",
    "# STANDARD DEVIATION\n",
    "standard_deviation <- sd(adults$BMI[adults$gender == \"F\"], na.rm = TRUE)\n",
    "print(paste(\"standard deviation:\", standard_deviation))\n",
    "\n",
    "# DIFFERENT QUARTILES\n",
    "quartiles <- quantile(adults$BMI[adults$gender == \"F\"], na.rm = TRUE)\n",
    "print(\"quartiles:\")\n",
    "quartiles\n",
    "\n",
    "# INTERQUARTILE RANGE\n",
    "iqr_range <- IQR(adults$BMI[adults$gender == \"F\"], na.rm = TRUE)\n",
    "print(paste(\"interquartile range:\", iqr_range))\n",
    "\n",
    "# MINIMUM BMI\n",
    "minimum_score <- min(adults$BMI[adults$gender == \"F\"], na.rm = TRUE)\n",
    "print(paste(\"minimum score: \", minimum_score))\n",
    "\n",
    "# MAXIMUM BMI\n",
    "maximum_score <- max(adults$BMI[adults$gender == \"F\"], na.rm = TRUE)\n",
    "print(paste(\"maximum score:\", maximum_score))"
   ]
  },
  {
   "cell_type": "markdown",
   "metadata": {},
   "source": [
    "### Step 5: Estimate the bmi statistics BMI of women in the 2018 survey"
   ]
  },
  {
   "cell_type": "code",
   "execution_count": null,
   "metadata": {},
   "outputs": [],
   "source": []
  },
  {
   "cell_type": "markdown",
   "metadata": {},
   "source": [
    "### Step 6: Remove all rows with NA in the column bmi from the dataset adults"
   ]
  },
  {
   "cell_type": "code",
   "execution_count": null,
   "metadata": {},
   "outputs": [],
   "source": []
  },
  {
   "cell_type": "markdown",
   "metadata": {},
   "source": [
    "### Step 7: Use boxplots to examine the distribution of bmi values\n",
    "\n",
    "Use boxplots to compare how the distribution of bmi varies with the age of the male participants and how the distribution of bmi changed from 2000 to 2018. Start with creating separate data frames for each survey year, with in both cases only data for males. If you use the function which() as part of your subsetting, all NAs are removed (To convince yourself, compare the code with and without which())"
   ]
  },
  {
   "cell_type": "code",
   "execution_count": null,
   "metadata": {},
   "outputs": [],
   "source": []
  },
  {
   "cell_type": "markdown",
   "metadata": {},
   "source": [
    "Now use boxplots to assess to what extent BMI differs between census years (‘year’) and with age. We’ll use 5-year age classes (‘age_class’) to get larger sample size per age class and reduce the variability a bit. The values in the column ‘age_class’ are the midpoints of the 5-year age ranges. Plot the two graphs above each other in one graphical display. Make sure the range of values oin the y-axis is the same."
   ]
  },
  {
   "cell_type": "code",
   "execution_count": null,
   "metadata": {},
   "outputs": [],
   "source": []
  },
  {
   "cell_type": "markdown",
   "metadata": {},
   "source": [
    "There seem to be some differences between years, and some age trend, but the differences in the medians among groups are very limited compared with the variation within each of these groups (Boxplots do a good job showing just that, think about the air pollution assignment from a few weeks ago).\n",
    "\n",
    "Let’s now examine to what extent the level of obesity (% of people with a bmi > 30) differs among age classes and the extent to which levels of obesity changed from 2000 till 2018. Calculate per 1-year age class the percentage of people that are obese (bmi > 30)."
   ]
  },
  {
   "cell_type": "code",
   "execution_count": null,
   "metadata": {},
   "outputs": [],
   "source": []
  },
  {
   "cell_type": "markdown",
   "metadata": {},
   "source": [
    "### Step 8: Calculate the number of >20 year old men per age class\n",
    "\n",
    "Use table() to get the number of men in each age class, separately for 2000 and 2018."
   ]
  },
  {
   "cell_type": "code",
   "execution_count": null,
   "metadata": {},
   "outputs": [],
   "source": []
  },
  {
   "cell_type": "markdown",
   "metadata": {},
   "source": [
    "### Step 9: Get the number of obese men in each age class\n",
    "\n",
    "Subset the data frames adult_2000_men and adult_2018_men for men with bmi >= 30 and then use table() to get the number of obese men in each age class, separately for 2000 and 2018."
   ]
  },
  {
   "cell_type": "code",
   "execution_count": null,
   "metadata": {},
   "outputs": [],
   "source": []
  },
  {
   "cell_type": "markdown",
   "metadata": {},
   "source": [
    "### Step 10: Calculate for each age class the percentage of men with a bmi >= 30.\n",
    "\n",
    "Do this separately for the 2000 and the 2018 data, using the tables you created in steps 8 and 9. (Hint: you can perform element-wise arithmetic on R tables.)."
   ]
  },
  {
   "cell_type": "code",
   "execution_count": null,
   "metadata": {},
   "outputs": [],
   "source": []
  },
  {
   "cell_type": "markdown",
   "metadata": {},
   "source": [
    "### Step 11: Plot the percentage of people that are obese as function of age_class in a scatter plot.\n",
    "\n",
    "Use a different color for the points of each of the two years. Add for each year a lowess curve. Tip: Plot the points for one of the years, then add the points of the other year and finally add the lowess curves of both years. However, first get a list of the age classes, which you will use as x-variable"
   ]
  },
  {
   "cell_type": "code",
   "execution_count": 6,
   "metadata": {},
   "outputs": [
    {
     "ename": "ERROR",
     "evalue": "Error in unique(adults_2000_men$age_class): object 'adults_2000_men' not found\n",
     "output_type": "error",
     "traceback": [
      "Error in unique(adults_2000_men$age_class): object 'adults_2000_men' not found\nTraceback:\n",
      "1. sort(unique(adults_2000_men$age_class))",
      "2. unique(adults_2000_men$age_class)"
     ]
    }
   ],
   "source": [
    "age_ranges <- sort(unique(adults_2000_men$age_class))\n",
    "\n",
    "age_ranges"
   ]
  },
  {
   "cell_type": "markdown",
   "metadata": {},
   "source": [
    "Then define highest and lowest percentages of obese men in any of the age classes across all years"
   ]
  },
  {
   "cell_type": "code",
   "execution_count": null,
   "metadata": {},
   "outputs": [],
   "source": []
  },
  {
   "cell_type": "markdown",
   "metadata": {},
   "source": [
    "And then finally plot the data"
   ]
  },
  {
   "cell_type": "code",
   "execution_count": null,
   "metadata": {},
   "outputs": [],
   "source": []
  },
  {
   "cell_type": "markdown",
   "metadata": {},
   "source": [
    "Conclusions? There seems to be an similar unimodal age-related trend, although prevalence of obesity shifted from men in their sixties towards men in their late thirties / early forties. Overall, the percentage of mean with obesity increased with around 10% over the 2000-2018 time interval!"
   ]
  }
 ],
 "metadata": {
  "kernelspec": {
   "display_name": "R",
   "language": "R",
   "name": "ir"
  },
  "language_info": {
   "codemirror_mode": "r",
   "file_extension": ".r",
   "mimetype": "text/x-r-source",
   "name": "R",
   "pygments_lexer": "r",
   "version": "3.6.1"
  }
 },
 "nbformat": 4,
 "nbformat_minor": 4
}
