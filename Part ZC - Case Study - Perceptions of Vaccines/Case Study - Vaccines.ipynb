{
 "cells": [
  {
   "cell_type": "markdown",
   "metadata": {},
   "source": [
    "# Exercise 28 - Case Study (Perceptions of Vaccines)\n",
    "\n",
    "Notebook Written By: WDY (Yale-NUS '24) \n",
    "(Come say hi at https://www.linkedin.com/in/dys-profile/)\n",
    "\n",
    "### Introduction\n",
    "\n",
    "Many people worldwide are hoping that a COVID-19 vaccine will bring the current pandemic under control. However, fights against other diseases have often been hampered by sceptics who refuse to get vaccinated.\n",
    "\n",
    "In 2018, the Wellcome Trust asked more than 140,000 people in more than 140 countries whether they agree or disagree with the following two statements:\n",
    "\n",
    "- Vaccines are safe.\n",
    "- Vaccines are effective.\n",
    "\n",
    "You can find the results of the survey in vaccine_perception.csv on Canvas.\n",
    "\n",
    "In this activity, we want to answer the question:\n",
    "\n",
    "If a country has a higher percentage of people who believe vaccines are unsafe, is there also a higher percentage of people who believe vaccines are ineffective?"
   ]
  },
  {
   "cell_type": "code",
   "execution_count": 1,
   "metadata": {},
   "outputs": [],
   "source": [
    "vacc <- read.csv(\"C:/Users/Admin/OneDrive/Documents/Yale-NUS/Quantitative Reasoning/Quantitative Reasoning Repo/Part 28 - Case Study - Perceptions of Vaccines/vaccine_perception.csv\")"
   ]
  },
  {
   "cell_type": "code",
   "execution_count": 2,
   "metadata": {},
   "outputs": [
    {
     "name": "stdout",
     "output_type": "stream",
     "text": [
      "'data.frame':\t144 obs. of  3 variables:\n",
      " $ country        : Factor w/ 144 levels \"Afghanistan\",..: 1 2 3 4 5 6 7 8 9 10 ...\n",
      " $ unsafe_pct     : num  4.47 15.85 11.28 4.85 20.57 ...\n",
      " $ ineffective_pct: num  1.83 8.97 7.7 2.95 12.47 ...\n"
     ]
    }
   ],
   "source": [
    "str(vacc)"
   ]
  },
  {
   "cell_type": "code",
   "execution_count": 3,
   "metadata": {},
   "outputs": [
    {
     "data": {
      "text/html": [
       "<table>\n",
       "<thead><tr><th scope=col>country</th><th scope=col>unsafe_pct</th><th scope=col>ineffective_pct</th></tr></thead>\n",
       "<tbody>\n",
       "\t<tr><td>Afghanistan</td><td> 4.470986  </td><td> 1.831129  </td></tr>\n",
       "\t<tr><td>Albania    </td><td>15.848161  </td><td> 8.965412  </td></tr>\n",
       "\t<tr><td>Algeria    </td><td>11.275698  </td><td> 7.702428  </td></tr>\n",
       "\t<tr><td>Argentina  </td><td> 4.845372  </td><td> 2.947009  </td></tr>\n",
       "\t<tr><td>Armenia    </td><td>20.570262  </td><td>12.468820  </td></tr>\n",
       "\t<tr><td>Australia  </td><td> 6.906215  </td><td> 4.085790  </td></tr>\n",
       "</tbody>\n",
       "</table>\n"
      ],
      "text/latex": [
       "\\begin{tabular}{r|lll}\n",
       " country & unsafe\\_pct & ineffective\\_pct\\\\\n",
       "\\hline\n",
       "\t Afghanistan &  4.470986   &  1.831129  \\\\\n",
       "\t Albania     & 15.848161   &  8.965412  \\\\\n",
       "\t Algeria     & 11.275698   &  7.702428  \\\\\n",
       "\t Argentina   &  4.845372   &  2.947009  \\\\\n",
       "\t Armenia     & 20.570262   & 12.468820  \\\\\n",
       "\t Australia   &  6.906215   &  4.085790  \\\\\n",
       "\\end{tabular}\n"
      ],
      "text/markdown": [
       "\n",
       "| country | unsafe_pct | ineffective_pct |\n",
       "|---|---|---|\n",
       "| Afghanistan |  4.470986   |  1.831129   |\n",
       "| Albania     | 15.848161   |  8.965412   |\n",
       "| Algeria     | 11.275698   |  7.702428   |\n",
       "| Argentina   |  4.845372   |  2.947009   |\n",
       "| Armenia     | 20.570262   | 12.468820   |\n",
       "| Australia   |  6.906215   |  4.085790   |\n",
       "\n"
      ],
      "text/plain": [
       "  country     unsafe_pct ineffective_pct\n",
       "1 Afghanistan  4.470986   1.831129      \n",
       "2 Albania     15.848161   8.965412      \n",
       "3 Algeria     11.275698   7.702428      \n",
       "4 Argentina    4.845372   2.947009      \n",
       "5 Armenia     20.570262  12.468820      \n",
       "6 Australia    6.906215   4.085790      "
      ]
     },
     "metadata": {},
     "output_type": "display_data"
    }
   ],
   "source": [
    "head(vacc)"
   ]
  },
  {
   "cell_type": "markdown",
   "metadata": {},
   "source": [
    "### Step 1: Make a scatter plot in which each point represents a country.\n",
    "\n",
    "- Plot the percentage that believes vaccines are ineffective (y) versus the percentage that believes vaccines are unsafe (x).\n",
    "Add title and axis labels."
   ]
  },
  {
   "cell_type": "code",
   "execution_count": 4,
   "metadata": {},
   "outputs": [
    {
     "data": {
      "image/png": "[encoded data removed]",
      "text/plain": [
       "Plot with title \"Perceptions of Vaccine Effectiveness vs. Safety\""
      ]
     },
     "metadata": {},
     "output_type": "display_data"
    }
   ],
   "source": [
    "# MAKE A SCATTER PLOT\n",
    "plot(ineffective_pct ~ unsafe_pct,\n",
    "    data = vacc,\n",
    "    main = \"Perceptions of Vaccine Effectiveness vs. Safety\",\n",
    "    xlab = \"% disagree that vaccines are safe\",\n",
    "    ylab = \"% disagree that vaccines are effective\")\n",
    "\n",
    "grid()"
   ]
  },
  {
   "cell_type": "markdown",
   "metadata": {},
   "source": [
    "Check criteria (page 174 in our textbook).\n",
    "\n",
    "- Quantitative Variables Condition: satisfied.\n",
    "- Straight Enough Condition: there is no curvature in the data, so the condition is satisfied.\n",
    "- No Outliers Condition: there is one outlier with large x-value and another outlier with large y-value."
   ]
  },
  {
   "cell_type": "markdown",
   "metadata": {},
   "source": [
    "Taking the logarithm of both coordinates makes both outliers less conspicuous."
   ]
  },
  {
   "cell_type": "code",
   "execution_count": 7,
   "metadata": {},
   "outputs": [
    {
     "data": {
      "image/png": "[encoded data removed]",
      "text/plain": [
       "Plot with title \"Perceptions of Vaccine Effectiveness vs. Safety\""
      ]
     },
     "metadata": {},
     "output_type": "display_data"
    }
   ],
   "source": [
    "# CREATE A LOG VALUE FOR UNSAFE PCT\n",
    "vacc$log10_unsafe <- log10(vacc$unsafe_pct)\n",
    "\n",
    "# CREATE A LOG VALUE FOR INEFFECTIVE PCT\n",
    "vacc$log10_ineffective <- log10(vacc$ineffective_pct)\n",
    "\n",
    "# NOW PLOT THE LOG VALUES AGAINST EACH OTHER\n",
    "plot(log10_ineffective ~ log10_unsafe,\n",
    "    data = vacc,\n",
    "    main = \"Perceptions of Vaccine Effectiveness vs. Safety\",\n",
    "    xlab = \"log10(% disagree that vaccines are safe)\",\n",
    "    ylab = \"log10(% disagree that vaccines are effective)\")\n",
    "\n",
    "grid()"
   ]
  },
  {
   "cell_type": "markdown",
   "metadata": {},
   "source": [
    "### Step 2: Analyze the correlation coefficient of the plot\n",
    "\n",
    "- Looking at the plot, is the correlation coefficient a suitable quantity to summarise the association between x-values and y-values? (Check the textbook for the criteria.)\n",
    "- If yes, calculate the correlation coefficient. Otherwise, is it possible to re-express the variables to satisfy the textbook criteria?"
   ]
  },
  {
   "cell_type": "code",
   "execution_count": 9,
   "metadata": {},
   "outputs": [
    {
     "data": {
      "text/html": [
       "0.66495630372397"
      ],
      "text/latex": [
       "0.66495630372397"
      ],
      "text/markdown": [
       "0.66495630372397"
      ],
      "text/plain": [
       "[1] 0.6649563"
      ]
     },
     "metadata": {},
     "output_type": "display_data"
    }
   ],
   "source": [
    "# CALCULATE THE CORRELATION OF THE UNSAFE PCT AGAINST INEFFECTIVE PCT\n",
    "cor(vacc$log10_unsafe, vacc$log10_ineffective)"
   ]
  },
  {
   "cell_type": "markdown",
   "metadata": {},
   "source": [
    "### Step 3: Do the expressed data satisfy the conditions for linear regression?\n",
    "\n",
    "Suppose we want to develop a model that predicts the percentage of people who believe vaccines are ineffective as a function of the percentage who believe vaccines are unsafe.\n",
    "\n",
    "Do the re-expressed data satisfy the conditions for linear regression? (Check the textbook for the criteria.)"
   ]
  },
  {
   "cell_type": "markdown",
   "metadata": {},
   "source": [
    "We have already checked the first three conditions on page 213:\n",
    "\n",
    "- Quantitative Variable Condition.\n",
    "- Straight Enough Condition.\n",
    "- Outlier Condition.\n",
    "- The fourth condition is the “Does the Plot Thicken? Condition”. Looking at the scatter plot, the spread of the data appears to be independent of the x-coordinate. We conclude that the data meet all conditions for linear regression."
   ]
  },
  {
   "cell_type": "markdown",
   "metadata": {},
   "source": [
    "### Step 4: Fit a linear regression to the data\n",
    "\n",
    "- Fit a linear model to the re-expressed data.\n",
    "- Add the regression line to the scatter plot."
   ]
  },
  {
   "cell_type": "code",
   "execution_count": 10,
   "metadata": {},
   "outputs": [
    {
     "data": {
      "image/png": "[encoded data removed]",
      "text/plain": [
       "Plot with title \"Perceptions of Vaccine Effectiveness vs. Safety\""
      ]
     },
     "metadata": {},
     "output_type": "display_data"
    }
   ],
   "source": [
    "# FIT A LINEAR MODEL TO THE EXPRESSED DATA\n",
    "model <- lm(log10_ineffective ~ log10_unsafe,\n",
    "           data = vacc)\n",
    "\n",
    "# NOW PLOT THE LOG VALUES AGAINST EACH OTHER\n",
    "plot(log10_ineffective ~ log10_unsafe,\n",
    "    data = vacc,\n",
    "    main = \"Perceptions of Vaccine Effectiveness vs. Safety\",\n",
    "    xlab = \"log10(% disagree that vaccines are safe)\",\n",
    "    ylab = \"log10(% disagree that vaccines are effective)\")\n",
    "\n",
    "grid()\n",
    "\n",
    "# PLOT THE LINEAR REGRESSION LINE\n",
    "abline(model,\n",
    "      col = \"red\")"
   ]
  },
  {
   "cell_type": "markdown",
   "metadata": {},
   "source": [
    "### Step 5: Find the statistics of the linear model\n",
    "\n",
    "- What is the equation of the least-squares regression line?\n",
    "- How do you interpret the coefficients in this equation?\n",
    "- What is the R2-value of the model? How do you interpret it?"
   ]
  },
  {
   "cell_type": "code",
   "execution_count": 13,
   "metadata": {},
   "outputs": [
    {
     "data": {
      "text/html": [
       "<dl class=dl-horizontal>\n",
       "\t<dt>(Intercept)</dt>\n",
       "\t\t<dd>0.106326641025885</dd>\n",
       "\t<dt>log10_unsafe</dt>\n",
       "\t\t<dd>0.651205749723553</dd>\n",
       "</dl>\n"
      ],
      "text/latex": [
       "\\begin{description*}\n",
       "\\item[(Intercept)] 0.106326641025885\n",
       "\\item[log10\\textbackslash{}\\_unsafe] 0.651205749723553\n",
       "\\end{description*}\n"
      ],
      "text/markdown": [
       "(Intercept)\n",
       ":   0.106326641025885log10_unsafe\n",
       ":   0.651205749723553\n",
       "\n"
      ],
      "text/plain": [
       " (Intercept) log10_unsafe \n",
       "   0.1063266    0.6512057 "
      ]
     },
     "metadata": {},
     "output_type": "display_data"
    }
   ],
   "source": [
    "coef(model)"
   ]
  },
  {
   "cell_type": "markdown",
   "metadata": {},
   "source": [
    "The equation for the regression line is:\n",
    "\n",
    "- log10(% disagree that vaccines are effective) = 0.106 + 0.651⋅log10(% disagree that vaccines are safe).\n",
    "\n",
    "We conclude that, if the percentage that believes vaccines are unsafe increases by a factor 10, then the percentage that believes vaccines are ineffective tends to increase by a factor 10^(0.651) ≈ 4.479.\n",
    "\n",
    "If 1% of people believe vaccines are unsafe, the linear model predicts that 10^(0.106) ≈ 1.277 percent believe vaccines are ineffective."
   ]
  },
  {
   "cell_type": "code",
   "execution_count": 14,
   "metadata": {},
   "outputs": [
    {
     "data": {
      "text/html": [
       "0.442166885862244"
      ],
      "text/latex": [
       "0.442166885862244"
      ],
      "text/markdown": [
       "0.442166885862244"
      ],
      "text/plain": [
       "[1] 0.4421669"
      ]
     },
     "metadata": {},
     "output_type": "display_data"
    }
   ],
   "source": [
    "# FIND THE R-SQUARED VALUE OF THE LINEAR MODEL\n",
    "summary(model)$r.squared"
   ]
  },
  {
   "cell_type": "markdown",
   "metadata": {},
   "source": [
    "The R2-value is 0.442, equal to the square of the correlation coefficient 0.665, which we calculated earlier.\n",
    "\n",
    "We conclude that the linear model accounts for 44.2% of the variance in the data."
   ]
  },
  {
   "cell_type": "markdown",
   "metadata": {},
   "source": [
    "### Step 5: Confirm that Brunei is not in the column vacc$country\n",
    "\n",
    "The Wellcome Trust conducted the survey in most but not all countries in the world."
   ]
  },
  {
   "cell_type": "code",
   "execution_count": 16,
   "metadata": {},
   "outputs": [
    {
     "data": {
      "text/html": [
       "FALSE"
      ],
      "text/latex": [
       "FALSE"
      ],
      "text/markdown": [
       "FALSE"
      ],
      "text/plain": [
       "[1] FALSE"
      ]
     },
     "metadata": {},
     "output_type": "display_data"
    }
   ],
   "source": [
    "any(vacc$country == \"Brunei\")"
   ]
  },
  {
   "cell_type": "markdown",
   "metadata": {},
   "source": [
    "Because the output is FALSE, we conclude that Brunei is not in vacc$country."
   ]
  },
  {
   "cell_type": "markdown",
   "metadata": {},
   "source": [
    "### Step 6: Find the linear model's prediction for the percentage of Bruneians who believe vaccines are ineffective"
   ]
  },
  {
   "cell_type": "markdown",
   "metadata": {},
   "source": [
    "- Let’s speculate that we know that 4% of Bruneians believe vaccines are unsafe. \n",
    "- There is no good reason for this speculation other than practising our R skills. \n",
    "- What is the linear model’s prediction for the percentage of Bruneians who believe vaccines are ineffective?"
   ]
  },
  {
   "cell_type": "code",
   "execution_count": 18,
   "metadata": {},
   "outputs": [
    {
     "data": {
      "text/html": [
       "<strong>1:</strong> 3.15058767013594"
      ],
      "text/latex": [
       "\\textbf{1:} 3.15058767013594"
      ],
      "text/markdown": [
       "**1:** 3.15058767013594"
      ],
      "text/plain": [
       "       1 \n",
       "3.150588 "
      ]
     },
     "metadata": {},
     "output_type": "display_data"
    }
   ],
   "source": [
    "p <- predict(model, newdata = data.frame(log10_unsafe = log10(4)))\n",
    "10^p"
   ]
  },
  {
   "cell_type": "markdown",
   "metadata": {},
   "source": [
    "Based on an x-value log10(4), we predict that 3.151% of Bruneians believe vaccines are ineffective."
   ]
  },
  {
   "cell_type": "markdown",
   "metadata": {},
   "source": [
    "### Step 7: Investigating the residuals\n",
    "\n",
    "- Generate the residual plot for our linear model.\n",
    "- Which country has the largest residual?\n",
    "- What might be an explanation why this country has an unusually large residual? Try to find information on page 112 of https://wellcome.org/sites/default/files/wellcome-global-monitor-2018.pdf.\n",
    "- Some techniques for statistical inference, which are beyond the scope of this course, require residuals to be normally distributed. Do our data satisfy this condition? Support your answer with visualisations."
   ]
  },
  {
   "cell_type": "code",
   "execution_count": 22,
   "metadata": {},
   "outputs": [
    {
     "data": {
      "image/png": "[encoded data removed]",
      "text/plain": [
       "Plot with title \"Perceptions of Vaccine Effectiveness vs Safety\""
      ]
     },
     "metadata": {},
     "output_type": "display_data"
    }
   ],
   "source": [
    "plot(model,\n",
    "    which = 1,\n",
    "    main = \"Perceptions of Vaccine Effectiveness vs Safety\",\n",
    "    caption = \"Residuals of log10 (% disagree that vaccines are effective)\",\n",
    "    sub.caption = \"log10 (% disagree that vaccines are safe)\")\n",
    "\n",
    "grid()"
   ]
  },
  {
   "cell_type": "markdown",
   "metadata": {},
   "source": [
    "We can see from the residual plot that the country with the largest positive residual is in row 72 of the data frame vacc."
   ]
  },
  {
   "cell_type": "code",
   "execution_count": 23,
   "metadata": {},
   "outputs": [
    {
     "data": {
      "text/html": [
       "Liberia\n",
       "<details>\n",
       "\t<summary style=display:list-item;cursor:pointer>\n",
       "\t\t<strong>Levels</strong>:\n",
       "\t</summary>\n",
       "\t<ol class=list-inline>\n",
       "\t\t<li>'Afghanistan'</li>\n",
       "\t\t<li>'Albania'</li>\n",
       "\t\t<li>'Algeria'</li>\n",
       "\t\t<li>'Argentina'</li>\n",
       "\t\t<li>'Armenia'</li>\n",
       "\t\t<li>'Australia'</li>\n",
       "\t\t<li>'Austria'</li>\n",
       "\t\t<li>'Azerbaijan'</li>\n",
       "\t\t<li>'Bangladesh'</li>\n",
       "\t\t<li>'Belarus'</li>\n",
       "\t\t<li>'Belgium'</li>\n",
       "\t\t<li>'Benin'</li>\n",
       "\t\t<li>'Bolivia'</li>\n",
       "\t\t<li>'Bosnia and Herzegovina'</li>\n",
       "\t\t<li>'Botswana'</li>\n",
       "\t\t<li>'Brazil'</li>\n",
       "\t\t<li>'Bulgaria'</li>\n",
       "\t\t<li>'Burkina Faso'</li>\n",
       "\t\t<li>'Burundi'</li>\n",
       "\t\t<li>'Cambodia'</li>\n",
       "\t\t<li>'Cameroon'</li>\n",
       "\t\t<li>'Canada'</li>\n",
       "\t\t<li>'Chad'</li>\n",
       "\t\t<li>'Chile'</li>\n",
       "\t\t<li>'China'</li>\n",
       "\t\t<li>'Colombia'</li>\n",
       "\t\t<li>'Comoros'</li>\n",
       "\t\t<li>'Congo'</li>\n",
       "\t\t<li>'Costa Rica'</li>\n",
       "\t\t<li>'Cote d\\'Ivoire'</li>\n",
       "\t\t<li>'Croatia'</li>\n",
       "\t\t<li>'Cyprus'</li>\n",
       "\t\t<li>'Czech Republic'</li>\n",
       "\t\t<li>'Denmark'</li>\n",
       "\t\t<li>'Dominican Republic'</li>\n",
       "\t\t<li>'Ecuador'</li>\n",
       "\t\t<li>'Egypt'</li>\n",
       "\t\t<li>'El Salvador'</li>\n",
       "\t\t<li>'Estonia'</li>\n",
       "\t\t<li>'Ethiopia'</li>\n",
       "\t\t<li>'Finland'</li>\n",
       "\t\t<li>'France'</li>\n",
       "\t\t<li>'Gabon'</li>\n",
       "\t\t<li>'Gambia'</li>\n",
       "\t\t<li>'Georgia'</li>\n",
       "\t\t<li>'Germany'</li>\n",
       "\t\t<li>'Ghana'</li>\n",
       "\t\t<li>'Greece'</li>\n",
       "\t\t<li>'Guatemala'</li>\n",
       "\t\t<li>'Guinea'</li>\n",
       "\t\t<li>'Haiti'</li>\n",
       "\t\t<li>'Honduras'</li>\n",
       "\t\t<li>'Hungary'</li>\n",
       "\t\t<li>'Iceland'</li>\n",
       "\t\t<li>'India'</li>\n",
       "\t\t<li>'Indonesia'</li>\n",
       "\t\t<li>'Iran'</li>\n",
       "\t\t<li>'Iraq'</li>\n",
       "\t\t<li>'Ireland'</li>\n",
       "\t\t<li>'Israel'</li>\n",
       "\t\t<li>'Italy'</li>\n",
       "\t\t<li>'Japan'</li>\n",
       "\t\t<li>'Jordan'</li>\n",
       "\t\t<li>'Kazakhstan'</li>\n",
       "\t\t<li>'Kenya'</li>\n",
       "\t\t<li>'Kosovo'</li>\n",
       "\t\t<li>'Kuwait'</li>\n",
       "\t\t<li>'Kyrgyzstan'</li>\n",
       "\t\t<li>'Laos'</li>\n",
       "\t\t<li>'Latvia'</li>\n",
       "\t\t<li>'Lebanon'</li>\n",
       "\t\t<li>'Liberia'</li>\n",
       "\t\t<li>'Libya'</li>\n",
       "\t\t<li>'Lithuania'</li>\n",
       "\t\t<li>'Luxembourg'</li>\n",
       "\t\t<li>'Macedonia'</li>\n",
       "\t\t<li>'Madagascar'</li>\n",
       "\t\t<li>'Malawi'</li>\n",
       "\t\t<li>'Malaysia'</li>\n",
       "\t\t<li>'Mali'</li>\n",
       "\t\t<li>'Malta'</li>\n",
       "\t\t<li>'Mauritania'</li>\n",
       "\t\t<li>'Mauritius'</li>\n",
       "\t\t<li>'Mexico'</li>\n",
       "\t\t<li>'Moldova'</li>\n",
       "\t\t<li>'Mongolia'</li>\n",
       "\t\t<li>'Montenegro'</li>\n",
       "\t\t<li>'Morocco'</li>\n",
       "\t\t<li>'Mozambique'</li>\n",
       "\t\t<li>'Myanmar'</li>\n",
       "\t\t<li>'Namibia'</li>\n",
       "\t\t<li>'Nepal'</li>\n",
       "\t\t<li>'Netherlands'</li>\n",
       "\t\t<li>'New Zealand'</li>\n",
       "\t\t<li>'Nicaragua'</li>\n",
       "\t\t<li>'Niger'</li>\n",
       "\t\t<li>'Nigeria'</li>\n",
       "\t\t<li>'Northern Cyprus'</li>\n",
       "\t\t<li>'Norway'</li>\n",
       "\t\t<li>'Pakistan'</li>\n",
       "\t\t<li>'Palestine'</li>\n",
       "\t\t<li>'Panama'</li>\n",
       "\t\t<li>'Paraguay'</li>\n",
       "\t\t<li>'Peru'</li>\n",
       "\t\t<li>'Philippines'</li>\n",
       "\t\t<li>'Poland'</li>\n",
       "\t\t<li>'Portugal'</li>\n",
       "\t\t<li>'Romania'</li>\n",
       "\t\t<li>'Russia'</li>\n",
       "\t\t<li>'Rwanda'</li>\n",
       "\t\t<li>'Saudi Arabia'</li>\n",
       "\t\t<li>'Senegal'</li>\n",
       "\t\t<li>'Serbia'</li>\n",
       "\t\t<li>'Sierra Leone'</li>\n",
       "\t\t<li>'Singapore'</li>\n",
       "\t\t<li>'Slovakia'</li>\n",
       "\t\t<li>'Slovenia'</li>\n",
       "\t\t<li>'South Africa'</li>\n",
       "\t\t<li>'South Korea'</li>\n",
       "\t\t<li>'Spain'</li>\n",
       "\t\t<li>'Sri Lanka'</li>\n",
       "\t\t<li>'Swaziland'</li>\n",
       "\t\t<li>'Sweden'</li>\n",
       "\t\t<li>'Switzerland'</li>\n",
       "\t\t<li>'Taiwan'</li>\n",
       "\t\t<li>'Tajikistan'</li>\n",
       "\t\t<li>'Tanzania'</li>\n",
       "\t\t<li>'Thailand'</li>\n",
       "\t\t<li>'Togo'</li>\n",
       "\t\t<li>'Tunisia'</li>\n",
       "\t\t<li>'Turkey'</li>\n",
       "\t\t<li>'Turkmenistan'</li>\n",
       "\t\t<li>'Uganda'</li>\n",
       "\t\t<li>'Ukraine'</li>\n",
       "\t\t<li>'United Arab Emirates'</li>\n",
       "\t\t<li>'United Kingdom'</li>\n",
       "\t\t<li>'United States'</li>\n",
       "\t\t<li>'Uruguay'</li>\n",
       "\t\t<li>'Uzbekistan'</li>\n",
       "\t\t<li>'Venezuela'</li>\n",
       "\t\t<li>'Vietnam'</li>\n",
       "\t\t<li>'Yemen'</li>\n",
       "\t\t<li>'Zambia'</li>\n",
       "\t\t<li>'Zimbabwe'</li>\n",
       "\t</ol>\n",
       "</details>"
      ],
      "text/latex": [
       "Liberia\n",
       "\\emph{Levels}: \\begin{enumerate*}\n",
       "\\item 'Afghanistan'\n",
       "\\item 'Albania'\n",
       "\\item 'Algeria'\n",
       "\\item 'Argentina'\n",
       "\\item 'Armenia'\n",
       "\\item 'Australia'\n",
       "\\item 'Austria'\n",
       "\\item 'Azerbaijan'\n",
       "\\item 'Bangladesh'\n",
       "\\item 'Belarus'\n",
       "\\item 'Belgium'\n",
       "\\item 'Benin'\n",
       "\\item 'Bolivia'\n",
       "\\item 'Bosnia and Herzegovina'\n",
       "\\item 'Botswana'\n",
       "\\item 'Brazil'\n",
       "\\item 'Bulgaria'\n",
       "\\item 'Burkina Faso'\n",
       "\\item 'Burundi'\n",
       "\\item 'Cambodia'\n",
       "\\item 'Cameroon'\n",
       "\\item 'Canada'\n",
       "\\item 'Chad'\n",
       "\\item 'Chile'\n",
       "\\item 'China'\n",
       "\\item 'Colombia'\n",
       "\\item 'Comoros'\n",
       "\\item 'Congo'\n",
       "\\item 'Costa Rica'\n",
       "\\item 'Cote d\\textbackslash{}'Ivoire'\n",
       "\\item 'Croatia'\n",
       "\\item 'Cyprus'\n",
       "\\item 'Czech Republic'\n",
       "\\item 'Denmark'\n",
       "\\item 'Dominican Republic'\n",
       "\\item 'Ecuador'\n",
       "\\item 'Egypt'\n",
       "\\item 'El Salvador'\n",
       "\\item 'Estonia'\n",
       "\\item 'Ethiopia'\n",
       "\\item 'Finland'\n",
       "\\item 'France'\n",
       "\\item 'Gabon'\n",
       "\\item 'Gambia'\n",
       "\\item 'Georgia'\n",
       "\\item 'Germany'\n",
       "\\item 'Ghana'\n",
       "\\item 'Greece'\n",
       "\\item 'Guatemala'\n",
       "\\item 'Guinea'\n",
       "\\item 'Haiti'\n",
       "\\item 'Honduras'\n",
       "\\item 'Hungary'\n",
       "\\item 'Iceland'\n",
       "\\item 'India'\n",
       "\\item 'Indonesia'\n",
       "\\item 'Iran'\n",
       "\\item 'Iraq'\n",
       "\\item 'Ireland'\n",
       "\\item 'Israel'\n",
       "\\item 'Italy'\n",
       "\\item 'Japan'\n",
       "\\item 'Jordan'\n",
       "\\item 'Kazakhstan'\n",
       "\\item 'Kenya'\n",
       "\\item 'Kosovo'\n",
       "\\item 'Kuwait'\n",
       "\\item 'Kyrgyzstan'\n",
       "\\item 'Laos'\n",
       "\\item 'Latvia'\n",
       "\\item 'Lebanon'\n",
       "\\item 'Liberia'\n",
       "\\item 'Libya'\n",
       "\\item 'Lithuania'\n",
       "\\item 'Luxembourg'\n",
       "\\item 'Macedonia'\n",
       "\\item 'Madagascar'\n",
       "\\item 'Malawi'\n",
       "\\item 'Malaysia'\n",
       "\\item 'Mali'\n",
       "\\item 'Malta'\n",
       "\\item 'Mauritania'\n",
       "\\item 'Mauritius'\n",
       "\\item 'Mexico'\n",
       "\\item 'Moldova'\n",
       "\\item 'Mongolia'\n",
       "\\item 'Montenegro'\n",
       "\\item 'Morocco'\n",
       "\\item 'Mozambique'\n",
       "\\item 'Myanmar'\n",
       "\\item 'Namibia'\n",
       "\\item 'Nepal'\n",
       "\\item 'Netherlands'\n",
       "\\item 'New Zealand'\n",
       "\\item 'Nicaragua'\n",
       "\\item 'Niger'\n",
       "\\item 'Nigeria'\n",
       "\\item 'Northern Cyprus'\n",
       "\\item 'Norway'\n",
       "\\item 'Pakistan'\n",
       "\\item 'Palestine'\n",
       "\\item 'Panama'\n",
       "\\item 'Paraguay'\n",
       "\\item 'Peru'\n",
       "\\item 'Philippines'\n",
       "\\item 'Poland'\n",
       "\\item 'Portugal'\n",
       "\\item 'Romania'\n",
       "\\item 'Russia'\n",
       "\\item 'Rwanda'\n",
       "\\item 'Saudi Arabia'\n",
       "\\item 'Senegal'\n",
       "\\item 'Serbia'\n",
       "\\item 'Sierra Leone'\n",
       "\\item 'Singapore'\n",
       "\\item 'Slovakia'\n",
       "\\item 'Slovenia'\n",
       "\\item 'South Africa'\n",
       "\\item 'South Korea'\n",
       "\\item 'Spain'\n",
       "\\item 'Sri Lanka'\n",
       "\\item 'Swaziland'\n",
       "\\item 'Sweden'\n",
       "\\item 'Switzerland'\n",
       "\\item 'Taiwan'\n",
       "\\item 'Tajikistan'\n",
       "\\item 'Tanzania'\n",
       "\\item 'Thailand'\n",
       "\\item 'Togo'\n",
       "\\item 'Tunisia'\n",
       "\\item 'Turkey'\n",
       "\\item 'Turkmenistan'\n",
       "\\item 'Uganda'\n",
       "\\item 'Ukraine'\n",
       "\\item 'United Arab Emirates'\n",
       "\\item 'United Kingdom'\n",
       "\\item 'United States'\n",
       "\\item 'Uruguay'\n",
       "\\item 'Uzbekistan'\n",
       "\\item 'Venezuela'\n",
       "\\item 'Vietnam'\n",
       "\\item 'Yemen'\n",
       "\\item 'Zambia'\n",
       "\\item 'Zimbabwe'\n",
       "\\end{enumerate*}\n"
      ],
      "text/markdown": [
       "Liberia\n",
       "**Levels**: 1. 'Afghanistan'\n",
       "2. 'Albania'\n",
       "3. 'Algeria'\n",
       "4. 'Argentina'\n",
       "5. 'Armenia'\n",
       "6. 'Australia'\n",
       "7. 'Austria'\n",
       "8. 'Azerbaijan'\n",
       "9. 'Bangladesh'\n",
       "10. 'Belarus'\n",
       "11. 'Belgium'\n",
       "12. 'Benin'\n",
       "13. 'Bolivia'\n",
       "14. 'Bosnia and Herzegovina'\n",
       "15. 'Botswana'\n",
       "16. 'Brazil'\n",
       "17. 'Bulgaria'\n",
       "18. 'Burkina Faso'\n",
       "19. 'Burundi'\n",
       "20. 'Cambodia'\n",
       "21. 'Cameroon'\n",
       "22. 'Canada'\n",
       "23. 'Chad'\n",
       "24. 'Chile'\n",
       "25. 'China'\n",
       "26. 'Colombia'\n",
       "27. 'Comoros'\n",
       "28. 'Congo'\n",
       "29. 'Costa Rica'\n",
       "30. 'Cote d\\'Ivoire'\n",
       "31. 'Croatia'\n",
       "32. 'Cyprus'\n",
       "33. 'Czech Republic'\n",
       "34. 'Denmark'\n",
       "35. 'Dominican Republic'\n",
       "36. 'Ecuador'\n",
       "37. 'Egypt'\n",
       "38. 'El Salvador'\n",
       "39. 'Estonia'\n",
       "40. 'Ethiopia'\n",
       "41. 'Finland'\n",
       "42. 'France'\n",
       "43. 'Gabon'\n",
       "44. 'Gambia'\n",
       "45. 'Georgia'\n",
       "46. 'Germany'\n",
       "47. 'Ghana'\n",
       "48. 'Greece'\n",
       "49. 'Guatemala'\n",
       "50. 'Guinea'\n",
       "51. 'Haiti'\n",
       "52. 'Honduras'\n",
       "53. 'Hungary'\n",
       "54. 'Iceland'\n",
       "55. 'India'\n",
       "56. 'Indonesia'\n",
       "57. 'Iran'\n",
       "58. 'Iraq'\n",
       "59. 'Ireland'\n",
       "60. 'Israel'\n",
       "61. 'Italy'\n",
       "62. 'Japan'\n",
       "63. 'Jordan'\n",
       "64. 'Kazakhstan'\n",
       "65. 'Kenya'\n",
       "66. 'Kosovo'\n",
       "67. 'Kuwait'\n",
       "68. 'Kyrgyzstan'\n",
       "69. 'Laos'\n",
       "70. 'Latvia'\n",
       "71. 'Lebanon'\n",
       "72. 'Liberia'\n",
       "73. 'Libya'\n",
       "74. 'Lithuania'\n",
       "75. 'Luxembourg'\n",
       "76. 'Macedonia'\n",
       "77. 'Madagascar'\n",
       "78. 'Malawi'\n",
       "79. 'Malaysia'\n",
       "80. 'Mali'\n",
       "81. 'Malta'\n",
       "82. 'Mauritania'\n",
       "83. 'Mauritius'\n",
       "84. 'Mexico'\n",
       "85. 'Moldova'\n",
       "86. 'Mongolia'\n",
       "87. 'Montenegro'\n",
       "88. 'Morocco'\n",
       "89. 'Mozambique'\n",
       "90. 'Myanmar'\n",
       "91. 'Namibia'\n",
       "92. 'Nepal'\n",
       "93. 'Netherlands'\n",
       "94. 'New Zealand'\n",
       "95. 'Nicaragua'\n",
       "96. 'Niger'\n",
       "97. 'Nigeria'\n",
       "98. 'Northern Cyprus'\n",
       "99. 'Norway'\n",
       "100. 'Pakistan'\n",
       "101. 'Palestine'\n",
       "102. 'Panama'\n",
       "103. 'Paraguay'\n",
       "104. 'Peru'\n",
       "105. 'Philippines'\n",
       "106. 'Poland'\n",
       "107. 'Portugal'\n",
       "108. 'Romania'\n",
       "109. 'Russia'\n",
       "110. 'Rwanda'\n",
       "111. 'Saudi Arabia'\n",
       "112. 'Senegal'\n",
       "113. 'Serbia'\n",
       "114. 'Sierra Leone'\n",
       "115. 'Singapore'\n",
       "116. 'Slovakia'\n",
       "117. 'Slovenia'\n",
       "118. 'South Africa'\n",
       "119. 'South Korea'\n",
       "120. 'Spain'\n",
       "121. 'Sri Lanka'\n",
       "122. 'Swaziland'\n",
       "123. 'Sweden'\n",
       "124. 'Switzerland'\n",
       "125. 'Taiwan'\n",
       "126. 'Tajikistan'\n",
       "127. 'Tanzania'\n",
       "128. 'Thailand'\n",
       "129. 'Togo'\n",
       "130. 'Tunisia'\n",
       "131. 'Turkey'\n",
       "132. 'Turkmenistan'\n",
       "133. 'Uganda'\n",
       "134. 'Ukraine'\n",
       "135. 'United Arab Emirates'\n",
       "136. 'United Kingdom'\n",
       "137. 'United States'\n",
       "138. 'Uruguay'\n",
       "139. 'Uzbekistan'\n",
       "140. 'Venezuela'\n",
       "141. 'Vietnam'\n",
       "142. 'Yemen'\n",
       "143. 'Zambia'\n",
       "144. 'Zimbabwe'\n",
       "\n",
       "\n"
      ],
      "text/plain": [
       "[1] Liberia\n",
       "144 Levels: Afghanistan Albania Algeria Argentina Armenia Australia ... Zimbabwe"
      ]
     },
     "metadata": {},
     "output_type": "display_data"
    }
   ],
   "source": [
    "vacc$country[72]"
   ]
  },
  {
   "cell_type": "markdown",
   "metadata": {},
   "source": [
    "Alternatively, we can find the country with the largest positive residual as follows."
   ]
  },
  {
   "cell_type": "code",
   "execution_count": 24,
   "metadata": {},
   "outputs": [
    {
     "data": {
      "text/html": [
       "Liberia\n",
       "<details>\n",
       "\t<summary style=display:list-item;cursor:pointer>\n",
       "\t\t<strong>Levels</strong>:\n",
       "\t</summary>\n",
       "\t<ol class=list-inline>\n",
       "\t\t<li>'Afghanistan'</li>\n",
       "\t\t<li>'Albania'</li>\n",
       "\t\t<li>'Algeria'</li>\n",
       "\t\t<li>'Argentina'</li>\n",
       "\t\t<li>'Armenia'</li>\n",
       "\t\t<li>'Australia'</li>\n",
       "\t\t<li>'Austria'</li>\n",
       "\t\t<li>'Azerbaijan'</li>\n",
       "\t\t<li>'Bangladesh'</li>\n",
       "\t\t<li>'Belarus'</li>\n",
       "\t\t<li>'Belgium'</li>\n",
       "\t\t<li>'Benin'</li>\n",
       "\t\t<li>'Bolivia'</li>\n",
       "\t\t<li>'Bosnia and Herzegovina'</li>\n",
       "\t\t<li>'Botswana'</li>\n",
       "\t\t<li>'Brazil'</li>\n",
       "\t\t<li>'Bulgaria'</li>\n",
       "\t\t<li>'Burkina Faso'</li>\n",
       "\t\t<li>'Burundi'</li>\n",
       "\t\t<li>'Cambodia'</li>\n",
       "\t\t<li>'Cameroon'</li>\n",
       "\t\t<li>'Canada'</li>\n",
       "\t\t<li>'Chad'</li>\n",
       "\t\t<li>'Chile'</li>\n",
       "\t\t<li>'China'</li>\n",
       "\t\t<li>'Colombia'</li>\n",
       "\t\t<li>'Comoros'</li>\n",
       "\t\t<li>'Congo'</li>\n",
       "\t\t<li>'Costa Rica'</li>\n",
       "\t\t<li>'Cote d\\'Ivoire'</li>\n",
       "\t\t<li>'Croatia'</li>\n",
       "\t\t<li>'Cyprus'</li>\n",
       "\t\t<li>'Czech Republic'</li>\n",
       "\t\t<li>'Denmark'</li>\n",
       "\t\t<li>'Dominican Republic'</li>\n",
       "\t\t<li>'Ecuador'</li>\n",
       "\t\t<li>'Egypt'</li>\n",
       "\t\t<li>'El Salvador'</li>\n",
       "\t\t<li>'Estonia'</li>\n",
       "\t\t<li>'Ethiopia'</li>\n",
       "\t\t<li>'Finland'</li>\n",
       "\t\t<li>'France'</li>\n",
       "\t\t<li>'Gabon'</li>\n",
       "\t\t<li>'Gambia'</li>\n",
       "\t\t<li>'Georgia'</li>\n",
       "\t\t<li>'Germany'</li>\n",
       "\t\t<li>'Ghana'</li>\n",
       "\t\t<li>'Greece'</li>\n",
       "\t\t<li>'Guatemala'</li>\n",
       "\t\t<li>'Guinea'</li>\n",
       "\t\t<li>'Haiti'</li>\n",
       "\t\t<li>'Honduras'</li>\n",
       "\t\t<li>'Hungary'</li>\n",
       "\t\t<li>'Iceland'</li>\n",
       "\t\t<li>'India'</li>\n",
       "\t\t<li>'Indonesia'</li>\n",
       "\t\t<li>'Iran'</li>\n",
       "\t\t<li>'Iraq'</li>\n",
       "\t\t<li>'Ireland'</li>\n",
       "\t\t<li>'Israel'</li>\n",
       "\t\t<li>'Italy'</li>\n",
       "\t\t<li>'Japan'</li>\n",
       "\t\t<li>'Jordan'</li>\n",
       "\t\t<li>'Kazakhstan'</li>\n",
       "\t\t<li>'Kenya'</li>\n",
       "\t\t<li>'Kosovo'</li>\n",
       "\t\t<li>'Kuwait'</li>\n",
       "\t\t<li>'Kyrgyzstan'</li>\n",
       "\t\t<li>'Laos'</li>\n",
       "\t\t<li>'Latvia'</li>\n",
       "\t\t<li>'Lebanon'</li>\n",
       "\t\t<li>'Liberia'</li>\n",
       "\t\t<li>'Libya'</li>\n",
       "\t\t<li>'Lithuania'</li>\n",
       "\t\t<li>'Luxembourg'</li>\n",
       "\t\t<li>'Macedonia'</li>\n",
       "\t\t<li>'Madagascar'</li>\n",
       "\t\t<li>'Malawi'</li>\n",
       "\t\t<li>'Malaysia'</li>\n",
       "\t\t<li>'Mali'</li>\n",
       "\t\t<li>'Malta'</li>\n",
       "\t\t<li>'Mauritania'</li>\n",
       "\t\t<li>'Mauritius'</li>\n",
       "\t\t<li>'Mexico'</li>\n",
       "\t\t<li>'Moldova'</li>\n",
       "\t\t<li>'Mongolia'</li>\n",
       "\t\t<li>'Montenegro'</li>\n",
       "\t\t<li>'Morocco'</li>\n",
       "\t\t<li>'Mozambique'</li>\n",
       "\t\t<li>'Myanmar'</li>\n",
       "\t\t<li>'Namibia'</li>\n",
       "\t\t<li>'Nepal'</li>\n",
       "\t\t<li>'Netherlands'</li>\n",
       "\t\t<li>'New Zealand'</li>\n",
       "\t\t<li>'Nicaragua'</li>\n",
       "\t\t<li>'Niger'</li>\n",
       "\t\t<li>'Nigeria'</li>\n",
       "\t\t<li>'Northern Cyprus'</li>\n",
       "\t\t<li>'Norway'</li>\n",
       "\t\t<li>'Pakistan'</li>\n",
       "\t\t<li>'Palestine'</li>\n",
       "\t\t<li>'Panama'</li>\n",
       "\t\t<li>'Paraguay'</li>\n",
       "\t\t<li>'Peru'</li>\n",
       "\t\t<li>'Philippines'</li>\n",
       "\t\t<li>'Poland'</li>\n",
       "\t\t<li>'Portugal'</li>\n",
       "\t\t<li>'Romania'</li>\n",
       "\t\t<li>'Russia'</li>\n",
       "\t\t<li>'Rwanda'</li>\n",
       "\t\t<li>'Saudi Arabia'</li>\n",
       "\t\t<li>'Senegal'</li>\n",
       "\t\t<li>'Serbia'</li>\n",
       "\t\t<li>'Sierra Leone'</li>\n",
       "\t\t<li>'Singapore'</li>\n",
       "\t\t<li>'Slovakia'</li>\n",
       "\t\t<li>'Slovenia'</li>\n",
       "\t\t<li>'South Africa'</li>\n",
       "\t\t<li>'South Korea'</li>\n",
       "\t\t<li>'Spain'</li>\n",
       "\t\t<li>'Sri Lanka'</li>\n",
       "\t\t<li>'Swaziland'</li>\n",
       "\t\t<li>'Sweden'</li>\n",
       "\t\t<li>'Switzerland'</li>\n",
       "\t\t<li>'Taiwan'</li>\n",
       "\t\t<li>'Tajikistan'</li>\n",
       "\t\t<li>'Tanzania'</li>\n",
       "\t\t<li>'Thailand'</li>\n",
       "\t\t<li>'Togo'</li>\n",
       "\t\t<li>'Tunisia'</li>\n",
       "\t\t<li>'Turkey'</li>\n",
       "\t\t<li>'Turkmenistan'</li>\n",
       "\t\t<li>'Uganda'</li>\n",
       "\t\t<li>'Ukraine'</li>\n",
       "\t\t<li>'United Arab Emirates'</li>\n",
       "\t\t<li>'United Kingdom'</li>\n",
       "\t\t<li>'United States'</li>\n",
       "\t\t<li>'Uruguay'</li>\n",
       "\t\t<li>'Uzbekistan'</li>\n",
       "\t\t<li>'Venezuela'</li>\n",
       "\t\t<li>'Vietnam'</li>\n",
       "\t\t<li>'Yemen'</li>\n",
       "\t\t<li>'Zambia'</li>\n",
       "\t\t<li>'Zimbabwe'</li>\n",
       "\t</ol>\n",
       "</details>"
      ],
      "text/latex": [
       "Liberia\n",
       "\\emph{Levels}: \\begin{enumerate*}\n",
       "\\item 'Afghanistan'\n",
       "\\item 'Albania'\n",
       "\\item 'Algeria'\n",
       "\\item 'Argentina'\n",
       "\\item 'Armenia'\n",
       "\\item 'Australia'\n",
       "\\item 'Austria'\n",
       "\\item 'Azerbaijan'\n",
       "\\item 'Bangladesh'\n",
       "\\item 'Belarus'\n",
       "\\item 'Belgium'\n",
       "\\item 'Benin'\n",
       "\\item 'Bolivia'\n",
       "\\item 'Bosnia and Herzegovina'\n",
       "\\item 'Botswana'\n",
       "\\item 'Brazil'\n",
       "\\item 'Bulgaria'\n",
       "\\item 'Burkina Faso'\n",
       "\\item 'Burundi'\n",
       "\\item 'Cambodia'\n",
       "\\item 'Cameroon'\n",
       "\\item 'Canada'\n",
       "\\item 'Chad'\n",
       "\\item 'Chile'\n",
       "\\item 'China'\n",
       "\\item 'Colombia'\n",
       "\\item 'Comoros'\n",
       "\\item 'Congo'\n",
       "\\item 'Costa Rica'\n",
       "\\item 'Cote d\\textbackslash{}'Ivoire'\n",
       "\\item 'Croatia'\n",
       "\\item 'Cyprus'\n",
       "\\item 'Czech Republic'\n",
       "\\item 'Denmark'\n",
       "\\item 'Dominican Republic'\n",
       "\\item 'Ecuador'\n",
       "\\item 'Egypt'\n",
       "\\item 'El Salvador'\n",
       "\\item 'Estonia'\n",
       "\\item 'Ethiopia'\n",
       "\\item 'Finland'\n",
       "\\item 'France'\n",
       "\\item 'Gabon'\n",
       "\\item 'Gambia'\n",
       "\\item 'Georgia'\n",
       "\\item 'Germany'\n",
       "\\item 'Ghana'\n",
       "\\item 'Greece'\n",
       "\\item 'Guatemala'\n",
       "\\item 'Guinea'\n",
       "\\item 'Haiti'\n",
       "\\item 'Honduras'\n",
       "\\item 'Hungary'\n",
       "\\item 'Iceland'\n",
       "\\item 'India'\n",
       "\\item 'Indonesia'\n",
       "\\item 'Iran'\n",
       "\\item 'Iraq'\n",
       "\\item 'Ireland'\n",
       "\\item 'Israel'\n",
       "\\item 'Italy'\n",
       "\\item 'Japan'\n",
       "\\item 'Jordan'\n",
       "\\item 'Kazakhstan'\n",
       "\\item 'Kenya'\n",
       "\\item 'Kosovo'\n",
       "\\item 'Kuwait'\n",
       "\\item 'Kyrgyzstan'\n",
       "\\item 'Laos'\n",
       "\\item 'Latvia'\n",
       "\\item 'Lebanon'\n",
       "\\item 'Liberia'\n",
       "\\item 'Libya'\n",
       "\\item 'Lithuania'\n",
       "\\item 'Luxembourg'\n",
       "\\item 'Macedonia'\n",
       "\\item 'Madagascar'\n",
       "\\item 'Malawi'\n",
       "\\item 'Malaysia'\n",
       "\\item 'Mali'\n",
       "\\item 'Malta'\n",
       "\\item 'Mauritania'\n",
       "\\item 'Mauritius'\n",
       "\\item 'Mexico'\n",
       "\\item 'Moldova'\n",
       "\\item 'Mongolia'\n",
       "\\item 'Montenegro'\n",
       "\\item 'Morocco'\n",
       "\\item 'Mozambique'\n",
       "\\item 'Myanmar'\n",
       "\\item 'Namibia'\n",
       "\\item 'Nepal'\n",
       "\\item 'Netherlands'\n",
       "\\item 'New Zealand'\n",
       "\\item 'Nicaragua'\n",
       "\\item 'Niger'\n",
       "\\item 'Nigeria'\n",
       "\\item 'Northern Cyprus'\n",
       "\\item 'Norway'\n",
       "\\item 'Pakistan'\n",
       "\\item 'Palestine'\n",
       "\\item 'Panama'\n",
       "\\item 'Paraguay'\n",
       "\\item 'Peru'\n",
       "\\item 'Philippines'\n",
       "\\item 'Poland'\n",
       "\\item 'Portugal'\n",
       "\\item 'Romania'\n",
       "\\item 'Russia'\n",
       "\\item 'Rwanda'\n",
       "\\item 'Saudi Arabia'\n",
       "\\item 'Senegal'\n",
       "\\item 'Serbia'\n",
       "\\item 'Sierra Leone'\n",
       "\\item 'Singapore'\n",
       "\\item 'Slovakia'\n",
       "\\item 'Slovenia'\n",
       "\\item 'South Africa'\n",
       "\\item 'South Korea'\n",
       "\\item 'Spain'\n",
       "\\item 'Sri Lanka'\n",
       "\\item 'Swaziland'\n",
       "\\item 'Sweden'\n",
       "\\item 'Switzerland'\n",
       "\\item 'Taiwan'\n",
       "\\item 'Tajikistan'\n",
       "\\item 'Tanzania'\n",
       "\\item 'Thailand'\n",
       "\\item 'Togo'\n",
       "\\item 'Tunisia'\n",
       "\\item 'Turkey'\n",
       "\\item 'Turkmenistan'\n",
       "\\item 'Uganda'\n",
       "\\item 'Ukraine'\n",
       "\\item 'United Arab Emirates'\n",
       "\\item 'United Kingdom'\n",
       "\\item 'United States'\n",
       "\\item 'Uruguay'\n",
       "\\item 'Uzbekistan'\n",
       "\\item 'Venezuela'\n",
       "\\item 'Vietnam'\n",
       "\\item 'Yemen'\n",
       "\\item 'Zambia'\n",
       "\\item 'Zimbabwe'\n",
       "\\end{enumerate*}\n"
      ],
      "text/markdown": [
       "Liberia\n",
       "**Levels**: 1. 'Afghanistan'\n",
       "2. 'Albania'\n",
       "3. 'Algeria'\n",
       "4. 'Argentina'\n",
       "5. 'Armenia'\n",
       "6. 'Australia'\n",
       "7. 'Austria'\n",
       "8. 'Azerbaijan'\n",
       "9. 'Bangladesh'\n",
       "10. 'Belarus'\n",
       "11. 'Belgium'\n",
       "12. 'Benin'\n",
       "13. 'Bolivia'\n",
       "14. 'Bosnia and Herzegovina'\n",
       "15. 'Botswana'\n",
       "16. 'Brazil'\n",
       "17. 'Bulgaria'\n",
       "18. 'Burkina Faso'\n",
       "19. 'Burundi'\n",
       "20. 'Cambodia'\n",
       "21. 'Cameroon'\n",
       "22. 'Canada'\n",
       "23. 'Chad'\n",
       "24. 'Chile'\n",
       "25. 'China'\n",
       "26. 'Colombia'\n",
       "27. 'Comoros'\n",
       "28. 'Congo'\n",
       "29. 'Costa Rica'\n",
       "30. 'Cote d\\'Ivoire'\n",
       "31. 'Croatia'\n",
       "32. 'Cyprus'\n",
       "33. 'Czech Republic'\n",
       "34. 'Denmark'\n",
       "35. 'Dominican Republic'\n",
       "36. 'Ecuador'\n",
       "37. 'Egypt'\n",
       "38. 'El Salvador'\n",
       "39. 'Estonia'\n",
       "40. 'Ethiopia'\n",
       "41. 'Finland'\n",
       "42. 'France'\n",
       "43. 'Gabon'\n",
       "44. 'Gambia'\n",
       "45. 'Georgia'\n",
       "46. 'Germany'\n",
       "47. 'Ghana'\n",
       "48. 'Greece'\n",
       "49. 'Guatemala'\n",
       "50. 'Guinea'\n",
       "51. 'Haiti'\n",
       "52. 'Honduras'\n",
       "53. 'Hungary'\n",
       "54. 'Iceland'\n",
       "55. 'India'\n",
       "56. 'Indonesia'\n",
       "57. 'Iran'\n",
       "58. 'Iraq'\n",
       "59. 'Ireland'\n",
       "60. 'Israel'\n",
       "61. 'Italy'\n",
       "62. 'Japan'\n",
       "63. 'Jordan'\n",
       "64. 'Kazakhstan'\n",
       "65. 'Kenya'\n",
       "66. 'Kosovo'\n",
       "67. 'Kuwait'\n",
       "68. 'Kyrgyzstan'\n",
       "69. 'Laos'\n",
       "70. 'Latvia'\n",
       "71. 'Lebanon'\n",
       "72. 'Liberia'\n",
       "73. 'Libya'\n",
       "74. 'Lithuania'\n",
       "75. 'Luxembourg'\n",
       "76. 'Macedonia'\n",
       "77. 'Madagascar'\n",
       "78. 'Malawi'\n",
       "79. 'Malaysia'\n",
       "80. 'Mali'\n",
       "81. 'Malta'\n",
       "82. 'Mauritania'\n",
       "83. 'Mauritius'\n",
       "84. 'Mexico'\n",
       "85. 'Moldova'\n",
       "86. 'Mongolia'\n",
       "87. 'Montenegro'\n",
       "88. 'Morocco'\n",
       "89. 'Mozambique'\n",
       "90. 'Myanmar'\n",
       "91. 'Namibia'\n",
       "92. 'Nepal'\n",
       "93. 'Netherlands'\n",
       "94. 'New Zealand'\n",
       "95. 'Nicaragua'\n",
       "96. 'Niger'\n",
       "97. 'Nigeria'\n",
       "98. 'Northern Cyprus'\n",
       "99. 'Norway'\n",
       "100. 'Pakistan'\n",
       "101. 'Palestine'\n",
       "102. 'Panama'\n",
       "103. 'Paraguay'\n",
       "104. 'Peru'\n",
       "105. 'Philippines'\n",
       "106. 'Poland'\n",
       "107. 'Portugal'\n",
       "108. 'Romania'\n",
       "109. 'Russia'\n",
       "110. 'Rwanda'\n",
       "111. 'Saudi Arabia'\n",
       "112. 'Senegal'\n",
       "113. 'Serbia'\n",
       "114. 'Sierra Leone'\n",
       "115. 'Singapore'\n",
       "116. 'Slovakia'\n",
       "117. 'Slovenia'\n",
       "118. 'South Africa'\n",
       "119. 'South Korea'\n",
       "120. 'Spain'\n",
       "121. 'Sri Lanka'\n",
       "122. 'Swaziland'\n",
       "123. 'Sweden'\n",
       "124. 'Switzerland'\n",
       "125. 'Taiwan'\n",
       "126. 'Tajikistan'\n",
       "127. 'Tanzania'\n",
       "128. 'Thailand'\n",
       "129. 'Togo'\n",
       "130. 'Tunisia'\n",
       "131. 'Turkey'\n",
       "132. 'Turkmenistan'\n",
       "133. 'Uganda'\n",
       "134. 'Ukraine'\n",
       "135. 'United Arab Emirates'\n",
       "136. 'United Kingdom'\n",
       "137. 'United States'\n",
       "138. 'Uruguay'\n",
       "139. 'Uzbekistan'\n",
       "140. 'Venezuela'\n",
       "141. 'Vietnam'\n",
       "142. 'Yemen'\n",
       "143. 'Zambia'\n",
       "144. 'Zimbabwe'\n",
       "\n",
       "\n"
      ],
      "text/plain": [
       "[1] Liberia\n",
       "144 Levels: Afghanistan Albania Algeria Argentina Armenia Australia ... Zimbabwe"
      ]
     },
     "metadata": {},
     "output_type": "display_data"
    }
   ],
   "source": [
    "# CREATE RESIDUALS OF THE MODEL\n",
    "res <- residuals(model)\n",
    "\n",
    "# FIND THE MAXIMUM VALUE\n",
    "vacc$country[which.max(res)]"
   ]
  },
  {
   "cell_type": "markdown",
   "metadata": {},
   "source": [
    "Why does Liberia have an unusually large residual? The Wellcome Global Monitor 2018 gives a plausible explanation.\n",
    "\n",
    "In Liberia, where 28% of people disagree that vaccines are effective (the highest in the world), just 3% of people disagree that they are safe… Liberia continues to grapple with infectious diseases such as yellow fever and tetanus, despite vaccination programmes. In countries where weak health supply and infrastructure systems exist, and there are difficulties with access to vaccines (in terms of distance to nearest clinics, for example), it is harder to achieve the vaccination rates necessary for herd immunity, and the persistence of infectious diseases may lead some people to conclude that the vaccines themselves are not working."
   ]
  },
  {
   "cell_type": "markdown",
   "metadata": {},
   "source": [
    "### Step 8: Investigate the residuals by checking normality of distribution"
   ]
  },
  {
   "cell_type": "code",
   "execution_count": 25,
   "metadata": {},
   "outputs": [
    {
     "data": {
      "image/png": "[encoded data removed]",
      "text/plain": [
       "Plot with title \"Normal Q-Q Plot\""
      ]
     },
     "metadata": {},
     "output_type": "display_data"
    }
   ],
   "source": [
    "# PLOT QQ LINE OF RESIDUALS\n",
    "qqnorm(residuals(model))\n",
    "\n",
    "# PLOT A STRAIGHT LINE\n",
    "qqline(residuals(model),\n",
    "      col = \"red\")\n",
    "\n",
    "grid()"
   ]
  },
  {
   "cell_type": "markdown",
   "metadata": {},
   "source": [
    "The Q-Q plot indicates some deviation from a normal distribution. A histogram shows that the distribution of the residuals is more concentrated in the centre than a normal distribution."
   ]
  },
  {
   "cell_type": "code",
   "execution_count": 26,
   "metadata": {},
   "outputs": [
    {
     "data": {
      "image/png": "[encoded data removed]",
      "text/plain": [
       "Plot with title \"Distribution of Residuals\""
      ]
     },
     "metadata": {},
     "output_type": "display_data"
    }
   ],
   "source": [
    "# PLOT HISTOGRAM OF RESIDUALS\n",
    "hist(res,\n",
    "     breaks = seq(-1.0, 1.2, 0.1),\n",
    "     freq = FALSE,\n",
    "     main = \"Distribution of Residuals\",\n",
    "     xlab = \"Residual\")\n",
    "\n",
    "# ADD A CURVE TO THE HISTOGRAM TO CHECK FOR NORMALITY\n",
    "curve(dnorm(x, mean = 0, sd = sd(res)),\n",
    "      add = TRUE,\n",
    "      col = \"red\")"
   ]
  }
 ],
 "metadata": {
  "kernelspec": {
   "display_name": "R",
   "language": "R",
   "name": "ir"
  },
  "language_info": {
   "codemirror_mode": "r",
   "file_extension": ".r",
   "mimetype": "text/x-r-source",
   "name": "R",
   "pygments_lexer": "r",
   "version": "3.6.1"
  }
 },
 "nbformat": 4,
 "nbformat_minor": 4
}
