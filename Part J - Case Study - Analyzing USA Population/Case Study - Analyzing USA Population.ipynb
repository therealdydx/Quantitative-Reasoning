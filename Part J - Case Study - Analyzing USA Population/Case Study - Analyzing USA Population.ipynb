{
 "cells": [
  {
   "cell_type": "markdown",
   "metadata": {},
   "source": [
    "# Exercise 10 - Case Study - Analyzing USA Population\n",
    "\n",
    "### The data\n",
    "\n",
    "In the week-6-Monday class, we will work with the National Health and Nutrition Examination Survey (nhanes) data from the USA National Center for Health Statistics. Read the following web page for more information on this nhanes data: https://www.cdc.gov/nchs/nhanes/about_nhanes.htm. The data file you will work with is compiled from data files downloaded from this website. This prep work is meant for you to get familiar with the data set. On Monday you will be asked to work (semi-)independently on a couple of assignments that will use this same data set.\n",
    "\n",
    "Download ‘nhanes.csv’ from Canvas. After setting the correct working directory, read in this dataset in R using the command ‘read.csv()’."
   ]
  },
  {
   "cell_type": "code",
   "execution_count": 1,
   "metadata": {},
   "outputs": [],
   "source": [
    "nhanes <- read.csv(\"C:/Users/Admin/OneDrive/Documents/Yale-NUS/Quantitative Reasoning/Quantitative Reasoning Repository/Part J - Case Study - Analyzing USA Population/nhanes.csv\")"
   ]
  },
  {
   "cell_type": "markdown",
   "metadata": {},
   "source": [
    "### Question 1: What are the variables in the data set and what is their data type? What are the dimension of the data set?"
   ]
  },
  {
   "cell_type": "markdown",
   "metadata": {},
   "source": [
    "Multiple options. You can get all this information with one single function."
   ]
  },
  {
   "cell_type": "code",
   "execution_count": 2,
   "metadata": {},
   "outputs": [
    {
     "data": {
      "text/html": [
       "<ol class=list-inline>\n",
       "\t<li>'id'</li>\n",
       "\t<li>'year'</li>\n",
       "\t<li>'weight'</li>\n",
       "\t<li>'height'</li>\n",
       "\t<li>'gender'</li>\n",
       "\t<li>'age_yrs'</li>\n",
       "\t<li>'ethn'</li>\n",
       "\t<li>'educ'</li>\n",
       "\t<li>'marital'</li>\n",
       "\t<li>'income_class'</li>\n",
       "\t<li>'poverty'</li>\n",
       "\t<li>'citizenship'</li>\n",
       "\t<li>'household'</li>\n",
       "\t<li>'income_mid'</li>\n",
       "\t<li>'poverty_class'</li>\n",
       "\t<li>'years_USA_mid'</li>\n",
       "\t<li>'lead_conc'</li>\n",
       "\t<li>'age_class'</li>\n",
       "</ol>\n"
      ],
      "text/latex": [
       "\\begin{enumerate*}\n",
       "\\item 'id'\n",
       "\\item 'year'\n",
       "\\item 'weight'\n",
       "\\item 'height'\n",
       "\\item 'gender'\n",
       "\\item 'age\\_yrs'\n",
       "\\item 'ethn'\n",
       "\\item 'educ'\n",
       "\\item 'marital'\n",
       "\\item 'income\\_class'\n",
       "\\item 'poverty'\n",
       "\\item 'citizenship'\n",
       "\\item 'household'\n",
       "\\item 'income\\_mid'\n",
       "\\item 'poverty\\_class'\n",
       "\\item 'years\\_USA\\_mid'\n",
       "\\item 'lead\\_conc'\n",
       "\\item 'age\\_class'\n",
       "\\end{enumerate*}\n"
      ],
      "text/markdown": [
       "1. 'id'\n",
       "2. 'year'\n",
       "3. 'weight'\n",
       "4. 'height'\n",
       "5. 'gender'\n",
       "6. 'age_yrs'\n",
       "7. 'ethn'\n",
       "8. 'educ'\n",
       "9. 'marital'\n",
       "10. 'income_class'\n",
       "11. 'poverty'\n",
       "12. 'citizenship'\n",
       "13. 'household'\n",
       "14. 'income_mid'\n",
       "15. 'poverty_class'\n",
       "16. 'years_USA_mid'\n",
       "17. 'lead_conc'\n",
       "18. 'age_class'\n",
       "\n",
       "\n"
      ],
      "text/plain": [
       " [1] \"id\"            \"year\"          \"weight\"        \"height\"       \n",
       " [5] \"gender\"        \"age_yrs\"       \"ethn\"          \"educ\"         \n",
       " [9] \"marital\"       \"income_class\"  \"poverty\"       \"citizenship\"  \n",
       "[13] \"household\"     \"income_mid\"    \"poverty_class\" \"years_USA_mid\"\n",
       "[17] \"lead_conc\"     \"age_class\"    "
      ]
     },
     "metadata": {},
     "output_type": "display_data"
    }
   ],
   "source": [
    "# Some options that give you some of the information\n",
    "names(nhanes)"
   ]
  },
  {
   "cell_type": "code",
   "execution_count": 3,
   "metadata": {},
   "outputs": [
    {
     "data": {
      "text/html": [
       "<ol class=list-inline>\n",
       "\t<li>16733</li>\n",
       "\t<li>18</li>\n",
       "</ol>\n"
      ],
      "text/latex": [
       "\\begin{enumerate*}\n",
       "\\item 16733\n",
       "\\item 18\n",
       "\\end{enumerate*}\n"
      ],
      "text/markdown": [
       "1. 16733\n",
       "2. 18\n",
       "\n",
       "\n"
      ],
      "text/plain": [
       "[1] 16733    18"
      ]
     },
     "metadata": {},
     "output_type": "display_data"
    }
   ],
   "source": [
    "dim(nhanes)"
   ]
  },
  {
   "cell_type": "code",
   "execution_count": 4,
   "metadata": {},
   "outputs": [
    {
     "data": {
      "text/html": [
       "16733"
      ],
      "text/latex": [
       "16733"
      ],
      "text/markdown": [
       "16733"
      ],
      "text/plain": [
       "[1] 16733"
      ]
     },
     "metadata": {},
     "output_type": "display_data"
    }
   ],
   "source": [
    "nrow(nhanes)"
   ]
  },
  {
   "cell_type": "code",
   "execution_count": 5,
   "metadata": {},
   "outputs": [
    {
     "data": {
      "text/html": [
       "18"
      ],
      "text/latex": [
       "18"
      ],
      "text/markdown": [
       "18"
      ],
      "text/plain": [
       "[1] 18"
      ]
     },
     "metadata": {},
     "output_type": "display_data"
    }
   ],
   "source": [
    "ncol(nhanes)"
   ]
  },
  {
   "cell_type": "code",
   "execution_count": 6,
   "metadata": {},
   "outputs": [
    {
     "name": "stdout",
     "output_type": "stream",
     "text": [
      "'data.frame':\t16733 obs. of  18 variables:\n",
      " $ id           : int  8594 8073 1604 7197 4492 1443 1519 5341 5286 6583 ...\n",
      " $ year         : int  2000 2000 2000 2000 2000 2000 2000 2000 2000 2000 ...\n",
      " $ weight       : num  34.2 83.6 55.2 64.7 113.9 ...\n",
      " $ height       : num  141 167 170 180 173 ...\n",
      " $ gender       : Factor w/ 2 levels \"F\",\"M\": 1 1 1 2 1 1 2 2 2 2 ...\n",
      " $ age_yrs      : int  10 19 47 63 24 25 12 50 78 14 ...\n",
      " $ ethn         : Factor w/ 5 levels \"Mexican American\",..: 1 1 3 2 1 3 1 4 1 1 ...\n",
      " $ educ         : Factor w/ 5 levels \"< 9th grade\",..: NA NA 3 2 4 5 NA 1 1 NA ...\n",
      " $ marital      : Factor w/ 6 levels \"Divorced\",\"Married\",..: NA 3 2 4 2 2 NA 3 NA 3 ...\n",
      " $ income_class : Factor w/ 13 levels \"0 to 4,999\",\"10,000 to 14,999\",..: NA 3 11 8 6 6 12 4 6 5 ...\n",
      " $ poverty      : num  NA 1.56 5 0.62 3.38 2.47 0.81 0.96 3.48 1.35 ...\n",
      " $ citizenship  : Factor w/ 2 levels \"citizen \",\"not_citizen\": 2 1 1 1 1 1 1 2 2 1 ...\n",
      " $ household    : int  7 2 5 1 2 3 7 2 2 5 ...\n",
      " $ income_mid   : int  NA 17500 100000 7500 40000 40000 NA 22500 40000 30000 ...\n",
      " $ poverty_class: int  NA 2 5 1 4 3 1 1 4 2 ...\n",
      " $ years_USA_mid: num  NA NA NA NA NA NA NA 25 75 NA ...\n",
      " $ lead_conc    : num  NA 0.039 0.072 0.531 0.014 0.024 0.053 0.077 0.111 0.087 ...\n",
      " $ age_class    : num  12.5 17.5 47.5 62.5 22.5 27.5 12.5 52.5 77.5 12.5 ...\n"
     ]
    }
   ],
   "source": [
    "# All information + data types\n",
    "str(nhanes)"
   ]
  },
  {
   "cell_type": "markdown",
   "metadata": {},
   "source": [
    "### Question 2: What survey years are included in the data set and how many participants were there in each survey?"
   ]
  },
  {
   "cell_type": "code",
   "execution_count": 7,
   "metadata": {},
   "outputs": [
    {
     "data": {
      "text/html": [
       "<ol class=list-inline>\n",
       "\t<li>2000</li>\n",
       "\t<li>2018</li>\n",
       "</ol>\n"
      ],
      "text/latex": [
       "\\begin{enumerate*}\n",
       "\\item 2000\n",
       "\\item 2018\n",
       "\\end{enumerate*}\n"
      ],
      "text/markdown": [
       "1. 2000\n",
       "2. 2018\n",
       "\n",
       "\n"
      ],
      "text/plain": [
       "[1] 2000 2018"
      ]
     },
     "metadata": {},
     "output_type": "display_data"
    }
   ],
   "source": [
    "# survey years\n",
    "unique(nhanes$year)"
   ]
  },
  {
   "cell_type": "code",
   "execution_count": 8,
   "metadata": {},
   "outputs": [
    {
     "data": {
      "text/html": [
       "8367"
      ],
      "text/latex": [
       "8367"
      ],
      "text/markdown": [
       "8367"
      ],
      "text/plain": [
       "[1] 8367"
      ]
     },
     "metadata": {},
     "output_type": "display_data"
    }
   ],
   "source": [
    "# Number of participants per survey\n",
    "sum(nhanes$year == 2000, na.rm = TRUE)"
   ]
  },
  {
   "cell_type": "code",
   "execution_count": 9,
   "metadata": {},
   "outputs": [
    {
     "data": {
      "text/html": [
       "8366"
      ],
      "text/latex": [
       "8366"
      ],
      "text/markdown": [
       "8366"
      ],
      "text/plain": [
       "[1] 8366"
      ]
     },
     "metadata": {},
     "output_type": "display_data"
    }
   ],
   "source": [
    "sum(nhanes$year == 2018, na.rm = TRUE)"
   ]
  },
  {
   "cell_type": "markdown",
   "metadata": {},
   "source": [
    "### Question 3: What income groups are defined in this data set and how many participants were there per income class per survey?"
   ]
  },
  {
   "cell_type": "code",
   "execution_count": 10,
   "metadata": {},
   "outputs": [
    {
     "data": {
      "text/plain": [
       "                  \n",
       "                   2000 2018\n",
       "  0 to 4,999        235  249\n",
       "  10,000 to 14,999  730  364\n",
       "  15,000 to 19,999  638  485\n",
       "  20,000 to 24,999  658  489\n",
       "  25,000 to 34,999  976  866\n",
       "  35,000 to 44,999  705  824\n",
       "  45,000 to 54,999  515  544\n",
       "  5,000 to 9,999    528  236\n",
       "  55,000 to 64,999  429  531\n",
       "  65,000 to 74,999  312  395\n",
       "  75,000 and over  1048 2254\n",
       "  Over 20,000       272  297\n",
       "  Under 20,000       39  105"
      ]
     },
     "metadata": {},
     "output_type": "display_data"
    }
   ],
   "source": [
    "table(nhanes$income_class, nhanes$year)"
   ]
  },
  {
   "cell_type": "markdown",
   "metadata": {},
   "source": [
    "There are two different classifications of income, one that defines 12 income brackets and one that defines only 2 (under and over 20,000). In any analysis that includes income, you’ll have to make a choice and work with one of the two income classification options!\n",
    "\n",
    "There is another variable income_mid, which includes the mid-value of each income bracket of the first income classification option (the one with 12 income classes). Answer the question “how many participants were there per income class per survey?” again, but now using this variable."
   ]
  },
  {
   "cell_type": "code",
   "execution_count": 11,
   "metadata": {},
   "outputs": [
    {
     "data": {
      "text/plain": [
       "        \n",
       "         2000 2018\n",
       "  2500    235  249\n",
       "  7500    528  236\n",
       "  12500   730  364\n",
       "  17500   638  485\n",
       "  22500   658  489\n",
       "  30000   976  866\n",
       "  40000   705  824\n",
       "  50000   515  544\n",
       "  60000   429  531\n",
       "  70000   312  395\n",
       "  87500     0  765\n",
       "  100000 1048 1489"
      ]
     },
     "metadata": {},
     "output_type": "display_data"
    }
   ],
   "source": [
    "table(nhanes$income_mid, nhanes$year)"
   ]
  },
  {
   "cell_type": "markdown",
   "metadata": {},
   "source": [
    "Since the income class of 75,000 and over doesn’t have a mid-value (no known upper limit), a value of 100,000 is used instead."
   ]
  },
  {
   "cell_type": "markdown",
   "metadata": {},
   "source": [
    "### Question 4: What educational levels are defined in this data set and how many participants obtained each of these educational levels\n",
    "Try to use one line of code with a single function to get the answer to both questions"
   ]
  },
  {
   "cell_type": "code",
   "execution_count": 12,
   "metadata": {},
   "outputs": [
    {
     "data": {
      "text/plain": [
       "                           \n",
       "                            2000 2018\n",
       "  < 9th grade                797  454\n",
       "  9-11th grade               833  598\n",
       "  college graduate or above  674 1261\n",
       "  High School                954 1251\n",
       "  some college or AA         947 1689"
      ]
     },
     "metadata": {},
     "output_type": "display_data"
    }
   ],
   "source": [
    "table(nhanes$educ, nhanes$year)"
   ]
  },
  {
   "cell_type": "markdown",
   "metadata": {},
   "source": [
    "Plot the data as a barplot"
   ]
  },
  {
   "cell_type": "code",
   "execution_count": 13,
   "metadata": {},
   "outputs": [
    {
     "data": {
      "image/png": "[encoded data removed]",
      "text/plain": [
       "Plot with title \"orange = 2000, blue = 2018\""
      ]
     },
     "metadata": {},
     "output_type": "display_data"
    }
   ],
   "source": [
    "barplot(table(nhanes$year, nhanes$educ), \n",
    "        beside = TRUE, \n",
    "        names.arg = c(\"< grade 9\", \"grade 9-11\", \"College\", \"high school\", \"AA\"),\n",
    "        col = c(\"darkorange1\", \"dodgerblue3\"),\n",
    "        main = \"orange = 2000, blue = 2018\",\n",
    "        xlab  = \"Educational level\", \n",
    "        ylab = \"Number of participants\")"
   ]
  },
  {
   "cell_type": "markdown",
   "metadata": {},
   "source": [
    "### Question 5: Does the distribution of participants among ethnicities differ between the two survey years?"
   ]
  },
  {
   "cell_type": "code",
   "execution_count": 14,
   "metadata": {},
   "outputs": [
    {
     "data": {
      "text/html": [
       "<ol class=list-inline>\n",
       "\t<li>Mexican American</li>\n",
       "\t<li>Non-Hispanic White</li>\n",
       "\t<li>Non-Hispanic Black</li>\n",
       "\t<li>Other Hispanic</li>\n",
       "\t<li>Other Race and multi</li>\n",
       "\t<li>&lt;NA&gt;</li>\n",
       "</ol>\n",
       "\n",
       "<details>\n",
       "\t<summary style=display:list-item;cursor:pointer>\n",
       "\t\t<strong>Levels</strong>:\n",
       "\t</summary>\n",
       "\t<ol class=list-inline>\n",
       "\t\t<li>'Mexican American'</li>\n",
       "\t\t<li>'Non-Hispanic Black'</li>\n",
       "\t\t<li>'Non-Hispanic White'</li>\n",
       "\t\t<li>'Other Hispanic'</li>\n",
       "\t\t<li>'Other Race and multi'</li>\n",
       "\t</ol>\n",
       "</details>"
      ],
      "text/latex": [
       "\\begin{enumerate*}\n",
       "\\item Mexican American\n",
       "\\item Non-Hispanic White\n",
       "\\item Non-Hispanic Black\n",
       "\\item Other Hispanic\n",
       "\\item Other Race and multi\n",
       "\\item <NA>\n",
       "\\end{enumerate*}\n",
       "\n",
       "\\emph{Levels}: \\begin{enumerate*}\n",
       "\\item 'Mexican American'\n",
       "\\item 'Non-Hispanic Black'\n",
       "\\item 'Non-Hispanic White'\n",
       "\\item 'Other Hispanic'\n",
       "\\item 'Other Race and multi'\n",
       "\\end{enumerate*}\n"
      ],
      "text/markdown": [
       "1. Mexican American\n",
       "2. Non-Hispanic White\n",
       "3. Non-Hispanic Black\n",
       "4. Other Hispanic\n",
       "5. Other Race and multi\n",
       "6. &lt;NA&gt;\n",
       "\n",
       "\n",
       "\n",
       "**Levels**: 1. 'Mexican American'\n",
       "2. 'Non-Hispanic Black'\n",
       "3. 'Non-Hispanic White'\n",
       "4. 'Other Hispanic'\n",
       "5. 'Other Race and multi'\n",
       "\n",
       "\n"
      ],
      "text/plain": [
       "[1] Mexican American     Non-Hispanic White   Non-Hispanic Black  \n",
       "[4] Other Hispanic       Other Race and multi <NA>                \n",
       "5 Levels: Mexican American Non-Hispanic Black ... Other Race and multi"
      ]
     },
     "metadata": {},
     "output_type": "display_data"
    }
   ],
   "source": [
    "unique(nhanes$ethn)"
   ]
  },
  {
   "cell_type": "markdown",
   "metadata": {},
   "source": [
    "Since ethnicity is a categorical variables, we can’t calculate means or medians and other related statistics to characterize the distribution of participants among ethnic groups. However, you can calculate the frequency of participants per ethnicity (rows) and year (columns). Try to do this."
   ]
  },
  {
   "cell_type": "code",
   "execution_count": 15,
   "metadata": {
    "scrolled": true
   },
   "outputs": [
    {
     "data": {
      "text/plain": [
       "                      \n",
       "                       2000 2018\n",
       "  Mexican American     2866 1229\n",
       "  Non-Hispanic Black   1974 1949\n",
       "  Non-Hispanic White   2818 2792\n",
       "  Other Hispanic        479  738\n",
       "  Other Race and multi  230 1083"
      ]
     },
     "metadata": {},
     "output_type": "display_data"
    }
   ],
   "source": [
    "table(nhanes$ethn, nhanes$year)"
   ]
  },
  {
   "cell_type": "code",
   "execution_count": 16,
   "metadata": {},
   "outputs": [
    {
     "data": {
      "text/plain": [
       "                      \n",
       "                       2000\n",
       "  Mexican American     34.2\n",
       "  Non-Hispanic Black   23.6\n",
       "  Non-Hispanic White   33.7\n",
       "  Other Hispanic        5.7\n",
       "  Other Race and multi  2.7"
      ]
     },
     "metadata": {},
     "output_type": "display_data"
    }
   ],
   "source": [
    "# The number of participants is basically the same, so we can directly compare\n",
    "# number of participants per group, no need to convert numbers to percentages.\n",
    "# But still, a comparison in terms of percentages might be more insightful.\n",
    "# This is one way of doing that. \n",
    "\n",
    "nhanes2000 <- nhanes[nhanes$year == 2000, ]\n",
    "\n",
    "# the round() function rounds a number to the indicated number of digits after the decimal point\n",
    "round(100 * table(nhanes2000$ethn, nhanes2000$year) / sum(nhanes == 2000, na.rm = TRUE), digits = 1)"
   ]
  },
  {
   "cell_type": "code",
   "execution_count": 17,
   "metadata": {},
   "outputs": [
    {
     "data": {
      "text/plain": [
       "                      \n",
       "                       2018\n",
       "  Mexican American     14.7\n",
       "  Non-Hispanic Black   23.3\n",
       "  Non-Hispanic White   33.4\n",
       "  Other Hispanic        8.8\n",
       "  Other Race and multi 12.9"
      ]
     },
     "metadata": {},
     "output_type": "display_data"
    }
   ],
   "source": [
    "nhanes2018 <- nhanes[nhanes$year == 2018,]\n",
    "\n",
    "round(100 * table(nhanes2018$ethn, nhanes2018$year) / sum(nhanes == 2018, na.rm = TRUE), digits = 1)"
   ]
  },
  {
   "cell_type": "markdown",
   "metadata": {},
   "source": [
    "You can plot this data in a barplot. Plot the data as pairs of bars (2000 and 2018) per ethnic group. Define the colors of the bars, add graph title and y-axis and x-axis titles (when appropriate), project x-axis labels perpendicular to the axis and shorten bar labels with the argument names.arg if necessary, and add a legend."
   ]
  },
  {
   "cell_type": "code",
   "execution_count": 18,
   "metadata": {},
   "outputs": [
    {
     "data": {
      "image/png": "[encoded data removed]",
      "text/plain": [
       "Plot with title \"Ethicity of participants\""
      ]
     },
     "metadata": {},
     "output_type": "display_data"
    }
   ],
   "source": [
    "barplot(table(nhanes$year, nhanes$ethn), \n",
    "        beside = TRUE, \n",
    "        las = 2, \n",
    "        col = c(\"darkorange1\", \"dodgerblue3\"),\n",
    "        legend = TRUE,\n",
    "        main = \"Ethicity of participants\", \n",
    "        ylab = \"Number of participants\",\n",
    "        names.arg =\n",
    "          c(\"Mex. Am.\", \"N.-h. black\", \"N.-h. white\", \"Hispanic\", \"Other\"))"
   ]
  },
  {
   "cell_type": "markdown",
   "metadata": {},
   "source": [
    "### Question 6: Does the age distribution of participants differ between the two survey years?\n",
    "\n",
    "Calculate summary statistics of age_yrs for both years."
   ]
  },
  {
   "cell_type": "code",
   "execution_count": 19,
   "metadata": {},
   "outputs": [
    {
     "data": {
      "text/plain": [
       "   Min. 1st Qu.  Median    Mean 3rd Qu.    Max. \n",
       "   1.00   12.00   20.00   30.52   49.00   85.00 "
      ]
     },
     "metadata": {},
     "output_type": "display_data"
    }
   ],
   "source": [
    "# Some of the many options\n",
    "summary(nhanes[nhanes$year == 2000, \"age_yrs\"])"
   ]
  },
  {
   "cell_type": "code",
   "execution_count": 20,
   "metadata": {},
   "outputs": [
    {
     "data": {
      "text/plain": [
       "   Min. 1st Qu.  Median    Mean 3rd Qu.    Max. \n",
       "   1.00   12.00   33.00   35.83   59.00   80.00 "
      ]
     },
     "metadata": {},
     "output_type": "display_data"
    }
   ],
   "source": [
    "summary(nhanes[nhanes$year == 2018, \"age_yrs\"])"
   ]
  },
  {
   "cell_type": "markdown",
   "metadata": {},
   "source": [
    "Use the aggregate() function to get the mean age of the participants per survey year\n",
    "\n"
   ]
  },
  {
   "cell_type": "code",
   "execution_count": 21,
   "metadata": {},
   "outputs": [
    {
     "data": {
      "text/html": [
       "<table>\n",
       "<thead><tr><th scope=col>year</th><th scope=col>age_yrs</th></tr></thead>\n",
       "<tbody>\n",
       "\t<tr><td>2000    </td><td>30.51787</td></tr>\n",
       "\t<tr><td>2018    </td><td>35.83003</td></tr>\n",
       "</tbody>\n",
       "</table>\n"
      ],
      "text/latex": [
       "\\begin{tabular}{r|ll}\n",
       " year & age\\_yrs\\\\\n",
       "\\hline\n",
       "\t 2000     & 30.51787\\\\\n",
       "\t 2018     & 35.83003\\\\\n",
       "\\end{tabular}\n"
      ],
      "text/markdown": [
       "\n",
       "| year | age_yrs |\n",
       "|---|---|\n",
       "| 2000     | 30.51787 |\n",
       "| 2018     | 35.83003 |\n",
       "\n"
      ],
      "text/plain": [
       "  year age_yrs \n",
       "1 2000 30.51787\n",
       "2 2018 35.83003"
      ]
     },
     "metadata": {},
     "output_type": "display_data"
    }
   ],
   "source": [
    "aggregate(age_yrs ~ year, data = nhanes, FUN = mean)"
   ]
  },
  {
   "cell_type": "markdown",
   "metadata": {},
   "source": [
    "Compare the age distribution of the two years graphically using boxplots. Add appropriate graph, x-axis and y-axis titles."
   ]
  },
  {
   "cell_type": "code",
   "execution_count": 22,
   "metadata": {},
   "outputs": [
    {
     "data": {
      "image/png": "[encoded data removed]",
      "text/plain": [
       "plot without title"
      ]
     },
     "metadata": {},
     "output_type": "display_data"
    }
   ],
   "source": [
    "boxplot(age_yrs ~ year,\n",
    "        data = nhanes,\n",
    "        col = \"seagreen4\",\n",
    "        xlab = \"survey year\",\n",
    "        ylab = \"Age of participants\")"
   ]
  },
  {
   "cell_type": "markdown",
   "metadata": {},
   "source": [
    "Compare the age distribution of the two years graphically using a separate histogram for each of the two years. Add appropriate graph, x-axis and y-axis titles, use different colors for each of the two years. Plot the two histograms next to each other in a single graphical display. Make sure the range of values is the same on the y-axis of both graphs."
   ]
  },
  {
   "cell_type": "code",
   "execution_count": 24,
   "metadata": {},
   "outputs": [
    {
     "data": {
      "image/png": "[encoded data removed]",
      "text/plain": [
       "Plot with title \"2018\""
      ]
     },
     "metadata": {},
     "output_type": "display_data"
    }
   ],
   "source": [
    "par(mfrow = c(2,1))\n",
    "\n",
    "hist(nhanes[nhanes$year == 2000,]$age_yrs,\n",
    "        col = c(\"darkorange1\"),\n",
    "        freq = FALSE,\n",
    "        xlab=\"Age of participants\",\n",
    "        ylab = \"proportion\",\n",
    "        main = 2000,\n",
    "        ylim = c(0, 0.035))\n",
    "\n",
    "hist(nhanes[nhanes$year == 2018,]$age_yrs,\n",
    "        col = c(\"dodgerblue3\"),\n",
    "        freq = FALSE,\n",
    "        xlab=\"Age of participants\",\n",
    "        ylab = \"proportion\",\n",
    "        main = 2018,\n",
    "        ylim = c(0, 0.035))"
   ]
  }
 ],
 "metadata": {
  "kernelspec": {
   "display_name": "R",
   "language": "R",
   "name": "ir"
  },
  "language_info": {
   "codemirror_mode": "r",
   "file_extension": ".r",
   "mimetype": "text/x-r-source",
   "name": "R",
   "pygments_lexer": "r",
   "version": "3.6.1"
  }
 },
 "nbformat": 4,
 "nbformat_minor": 4
}
