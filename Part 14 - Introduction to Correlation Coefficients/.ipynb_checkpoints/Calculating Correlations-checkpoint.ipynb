{
 "cells": [
  {
   "cell_type": "markdown",
   "metadata": {},
   "source": [
    "# Exercise 10 – Correlations and Regression\n",
    "\n",
    "Notebook Written By: WDY (Yale-NUS '24) \n",
    "(Come say hi at https://www.linkedin.com/in/dys-profile/)\n",
    "\n",
    "### Introduction\n",
    "\n",
    "We will be working with the dataset from a survey conducted from the school on Quantitative Reasoning students. Let's read the data into the notebook first. Following that, let's do a quick look through of the dataset to find any interesting information."
   ]
  },
  {
   "cell_type": "code",
   "execution_count": 23,
   "metadata": {},
   "outputs": [],
   "source": [
    "survey <- read.csv(\"C:/Users/User/OneDrive/Documents/Yale-NUS/Quantitative Reasoning/Quantitative Reasoning Repository/Exercise 10 - Calculating Correlations/survey.csv\")"
   ]
  },
  {
   "cell_type": "code",
   "execution_count": 24,
   "metadata": {},
   "outputs": [
    {
     "name": "stdout",
     "output_type": "stream",
     "text": [
      "'data.frame':\t213 obs. of  9 variables:\n",
      " $ gender     : Factor w/ 3 levels \"Female\",\"Male\",..: 1 3 1 1 1 1 2 2 2 2 ...\n",
      " $ nationality: Factor w/ 3 levels \"Non-Singaporean\",..: 3 1 3 1 1 1 1 1 3 1 ...\n",
      " $ height     : num  164 178 170 167 163 160 172 177 NA 186 ...\n",
      " $ phone      : int  42 63 22 94 41 60 53 12 72 NA ...\n",
      " $ facebook   : int  NA 7 27 33 185 10 27 0 NA 212 ...\n",
      " $ youtube    : num  8.90e+04 4.50e+04 1.10e+06 2.44e+05 1.79e+08 ...\n",
      " $ shoe       : num  37 28.7 25.4 39 39 23.9 28 28 24.7 29.4 ...\n",
      " $ postcode   : num  1 3 1 0 NA 4 1 0 1 0 ...\n",
      " $ boxoffice  : num  7.91e+07 2.58e+08 2.88e+07 6.15e+07 3.55e+08 ...\n"
     ]
    }
   ],
   "source": [
    "str(survey)"
   ]
  },
  {
   "cell_type": "code",
   "execution_count": 25,
   "metadata": {},
   "outputs": [
    {
     "data": {
      "text/html": [
       "<table>\n",
       "<thead><tr><th scope=col>gender</th><th scope=col>nationality</th><th scope=col>height</th><th scope=col>phone</th><th scope=col>facebook</th><th scope=col>youtube</th><th scope=col>shoe</th><th scope=col>postcode</th><th scope=col>boxoffice</th></tr></thead>\n",
       "<tbody>\n",
       "\t<tr><td>Female         </td><td>Singaporean    </td><td>164            </td><td>42             </td><td> NA            </td><td>    89000      </td><td>37.0           </td><td> 1             </td><td> 79097104      </td></tr>\n",
       "\t<tr><td>Neither        </td><td>Non-Singaporean</td><td>178            </td><td>63             </td><td>  7            </td><td>    45000      </td><td>28.7           </td><td> 3             </td><td>257620288      </td></tr>\n",
       "\t<tr><td>Female         </td><td>Singaporean    </td><td>170            </td><td>22             </td><td> 27            </td><td>  1100000      </td><td>25.4           </td><td> 1             </td><td> 28815245      </td></tr>\n",
       "\t<tr><td>Female         </td><td>Non-Singaporean</td><td>167            </td><td>94             </td><td> 33            </td><td>   244153      </td><td>39.0           </td><td> 0             </td><td> 61459425      </td></tr>\n",
       "\t<tr><td>Female         </td><td>Non-Singaporean</td><td>163            </td><td>41             </td><td>185            </td><td>178667673      </td><td>39.0           </td><td>NA             </td><td>355467056      </td></tr>\n",
       "\t<tr><td>Female         </td><td>Non-Singaporean</td><td>160            </td><td>60             </td><td> 10            </td><td>  6370000      </td><td>23.9           </td><td> 4             </td><td>      199      </td></tr>\n",
       "</tbody>\n",
       "</table>\n"
      ],
      "text/latex": [
       "\\begin{tabular}{r|lllllllll}\n",
       " gender & nationality & height & phone & facebook & youtube & shoe & postcode & boxoffice\\\\\n",
       "\\hline\n",
       "\t Female          & Singaporean     & 164             & 42              &  NA             &     89000       & 37.0            &  1              &  79097104      \\\\\n",
       "\t Neither         & Non-Singaporean & 178             & 63              &   7             &     45000       & 28.7            &  3              & 257620288      \\\\\n",
       "\t Female          & Singaporean     & 170             & 22              &  27             &   1100000       & 25.4            &  1              &  28815245      \\\\\n",
       "\t Female          & Non-Singaporean & 167             & 94              &  33             &    244153       & 39.0            &  0              &  61459425      \\\\\n",
       "\t Female          & Non-Singaporean & 163             & 41              & 185             & 178667673       & 39.0            & NA              & 355467056      \\\\\n",
       "\t Female          & Non-Singaporean & 160             & 60              &  10             &   6370000       & 23.9            &  4              &       199      \\\\\n",
       "\\end{tabular}\n"
      ],
      "text/markdown": [
       "\n",
       "| gender | nationality | height | phone | facebook | youtube | shoe | postcode | boxoffice |\n",
       "|---|---|---|---|---|---|---|---|---|\n",
       "| Female          | Singaporean     | 164             | 42              |  NA             |     89000       | 37.0            |  1              |  79097104       |\n",
       "| Neither         | Non-Singaporean | 178             | 63              |   7             |     45000       | 28.7            |  3              | 257620288       |\n",
       "| Female          | Singaporean     | 170             | 22              |  27             |   1100000       | 25.4            |  1              |  28815245       |\n",
       "| Female          | Non-Singaporean | 167             | 94              |  33             |    244153       | 39.0            |  0              |  61459425       |\n",
       "| Female          | Non-Singaporean | 163             | 41              | 185             | 178667673       | 39.0            | NA              | 355467056       |\n",
       "| Female          | Non-Singaporean | 160             | 60              |  10             |   6370000       | 23.9            |  4              |       199       |\n",
       "\n"
      ],
      "text/plain": [
       "  gender  nationality     height phone facebook youtube   shoe postcode\n",
       "1 Female  Singaporean     164    42     NA          89000 37.0  1      \n",
       "2 Neither Non-Singaporean 178    63      7          45000 28.7  3      \n",
       "3 Female  Singaporean     170    22     27        1100000 25.4  1      \n",
       "4 Female  Non-Singaporean 167    94     33         244153 39.0  0      \n",
       "5 Female  Non-Singaporean 163    41    185      178667673 39.0 NA      \n",
       "6 Female  Non-Singaporean 160    60     10        6370000 23.9  4      \n",
       "  boxoffice\n",
       "1  79097104\n",
       "2 257620288\n",
       "3  28815245\n",
       "4  61459425\n",
       "5 355467056\n",
       "6       199"
      ]
     },
     "metadata": {},
     "output_type": "display_data"
    }
   ],
   "source": [
    "head(survey)"
   ]
  },
  {
   "cell_type": "markdown",
   "metadata": {},
   "source": [
    "## Step 1: Check for missing values "
   ]
  },
  {
   "cell_type": "code",
   "execution_count": 26,
   "metadata": {},
   "outputs": [
    {
     "data": {
      "text/plain": [
       "\n",
       "FALSE  TRUE \n",
       "  209     4 "
      ]
     },
     "metadata": {},
     "output_type": "display_data"
    }
   ],
   "source": [
    "table(is.na(survey$height))"
   ]
  },
  {
   "cell_type": "code",
   "execution_count": 27,
   "metadata": {},
   "outputs": [
    {
     "data": {
      "text/plain": [
       "\n",
       "FALSE  TRUE \n",
       "  207     6 "
      ]
     },
     "metadata": {},
     "output_type": "display_data"
    }
   ],
   "source": [
    "table(is.na(survey$shoe))"
   ]
  },
  {
   "cell_type": "markdown",
   "metadata": {},
   "source": [
    "## Step 2: Calculate Correlation Manually\n",
    "\n",
    "Since there are missing values in our variables that can cause issues when calculating the correlation coefficient, let's create a new data frame that omits the NA values"
   ]
  },
  {
   "cell_type": "code",
   "execution_count": 28,
   "metadata": {},
   "outputs": [],
   "source": [
    "# REMOVE NA VALUES IN THE DATAFRAME SURVEY\n",
    "\n",
    "survey.narm <-na.omit(survey[, c('height', 'shoe')])"
   ]
  },
  {
   "cell_type": "code",
   "execution_count": 29,
   "metadata": {},
   "outputs": [
    {
     "data": {
      "text/html": [
       "205"
      ],
      "text/latex": [
       "205"
      ],
      "text/markdown": [
       "205"
      ],
      "text/plain": [
       "[1] 205"
      ]
     },
     "metadata": {},
     "output_type": "display_data"
    },
    {
     "data": {
      "text/html": [
       "213"
      ],
      "text/latex": [
       "213"
      ],
      "text/markdown": [
       "213"
      ],
      "text/plain": [
       "[1] 213"
      ]
     },
     "metadata": {},
     "output_type": "display_data"
    }
   ],
   "source": [
    "# CHECK THAT THE NA ROWS HAVE BEEN REMOVED\n",
    "\n",
    "nrow(survey.narm)\n",
    "nrow(survey)"
   ]
  },
  {
   "cell_type": "code",
   "execution_count": 30,
   "metadata": {},
   "outputs": [
    {
     "data": {
      "text/html": [
       "168.330926829268"
      ],
      "text/latex": [
       "168.330926829268"
      ],
      "text/markdown": [
       "168.330926829268"
      ],
      "text/plain": [
       "[1] 168.3309"
      ]
     },
     "metadata": {},
     "output_type": "display_data"
    }
   ],
   "source": [
    "# CALCULATE MEAN OF HEIGHT\n",
    "\n",
    "height_mean <- mean(survey.narm$height)\n",
    "height_mean"
   ]
  },
  {
   "cell_type": "code",
   "execution_count": 31,
   "metadata": {},
   "outputs": [
    {
     "data": {
      "text/html": [
       "27.6841463414634"
      ],
      "text/latex": [
       "27.6841463414634"
      ],
      "text/markdown": [
       "27.6841463414634"
      ],
      "text/plain": [
       "[1] 27.68415"
      ]
     },
     "metadata": {},
     "output_type": "display_data"
    }
   ],
   "source": [
    "# CALCULATE MEAN OF SHOE\n",
    "\n",
    "shoe_mean <- mean(survey.narm$shoe)\n",
    "shoe_mean"
   ]
  },
  {
   "cell_type": "code",
   "execution_count": 32,
   "metadata": {},
   "outputs": [
    {
     "data": {
      "text/html": [
       "9.00595650489992"
      ],
      "text/latex": [
       "9.00595650489992"
      ],
      "text/markdown": [
       "9.00595650489992"
      ],
      "text/plain": [
       "[1] 9.005957"
      ]
     },
     "metadata": {},
     "output_type": "display_data"
    }
   ],
   "source": [
    "# CALCULATE SD OF HEIGHT\n",
    "\n",
    "height_sd <- sd(survey.narm$height)\n",
    "height_sd"
   ]
  },
  {
   "cell_type": "code",
   "execution_count": 33,
   "metadata": {},
   "outputs": [
    {
     "data": {
      "text/html": [
       "4.17348714847419"
      ],
      "text/latex": [
       "4.17348714847419"
      ],
      "text/markdown": [
       "4.17348714847419"
      ],
      "text/plain": [
       "[1] 4.173487"
      ]
     },
     "metadata": {},
     "output_type": "display_data"
    }
   ],
   "source": [
    "# CALCULATE SD OF SHOE\n",
    "\n",
    "shoe_sd <- sd(survey.narm$shoe)\n",
    "shoe_sd"
   ]
  },
  {
   "cell_type": "code",
   "execution_count": 34,
   "metadata": {},
   "outputs": [
    {
     "data": {
      "text/html": [
       "205"
      ],
      "text/latex": [
       "205"
      ],
      "text/markdown": [
       "205"
      ],
      "text/plain": [
       "[1] 205"
      ]
     },
     "metadata": {},
     "output_type": "display_data"
    },
    {
     "data": {
      "text/html": [
       "205"
      ],
      "text/latex": [
       "205"
      ],
      "text/markdown": [
       "205"
      ],
      "text/plain": [
       "[1] 205"
      ]
     },
     "metadata": {},
     "output_type": "display_data"
    }
   ],
   "source": [
    "# CHECK THAT THERE ARE NO NA VALUES IN EACH SECTION\n",
    "\n",
    "sum(!is.na(survey.narm$height))\n",
    "sum(!is.na(survey.narm$shoe))"
   ]
  },
  {
   "cell_type": "code",
   "execution_count": 35,
   "metadata": {},
   "outputs": [
    {
     "data": {
      "text/html": [
       "0.173664067314719"
      ],
      "text/latex": [
       "0.173664067314719"
      ],
      "text/markdown": [
       "0.173664067314719"
      ],
      "text/plain": [
       "[1] 0.1736641"
      ]
     },
     "metadata": {},
     "output_type": "display_data"
    },
    {
     "data": {
      "text/html": [
       "0.173664067314719"
      ],
      "text/latex": [
       "0.173664067314719"
      ],
      "text/markdown": [
       "0.173664067314719"
      ],
      "text/plain": [
       "[1] 0.1736641"
      ]
     },
     "metadata": {},
     "output_type": "display_data"
    }
   ],
   "source": [
    "# MANUAL WAY OF CALCULATING CORRELATION\n",
    "ManualCorCoef1 <- sum((survey.narm$height - height_mean) * (survey.narm$shoe - shoe_mean) / \n",
    "    (height_sd * shoe_sd) / \n",
    "    (nrow(survey.narm) - 1))\n",
    "\n",
    "ManualCorCoef1\n",
    "\n",
    "# SIMPLER WAY OF CALCULATING\n",
    "\n",
    "survey.narm$heightZ <- (survey.narm$height - height_mean)/height_sd # CALCULATE Z SCORE OF HEIGHT\n",
    "survey.narm$shoeZ <- (survey.narm$shoe - shoe_mean)/shoe_sd # CALCULATE Z SCORE OF SHOE\n",
    "\n",
    "ManualCorCoef2 <- sum(survey.narm$heightZ * survey.narm$shoeZ) / (nrow(survey.narm) - 1)\n",
    "ManualCorCoef2"
   ]
  },
  {
   "cell_type": "code",
   "execution_count": 57,
   "metadata": {},
   "outputs": [
    {
     "data": {
      "text/html": [
       "0.173664067314719"
      ],
      "text/latex": [
       "0.173664067314719"
      ],
      "text/markdown": [
       "0.173664067314719"
      ],
      "text/plain": [
       "[1] 0.1736641"
      ]
     },
     "metadata": {},
     "output_type": "display_data"
    }
   ],
   "source": [
    "# AUTOMATIC WAY OF CALCULATING CORRELATION\n",
    "r <- cor(survey$height, survey$shoe, use = \"complete.obs\")\n",
    "r"
   ]
  },
  {
   "cell_type": "markdown",
   "metadata": {},
   "source": [
    "## Step 3: Calculate Various Correlations"
   ]
  },
  {
   "cell_type": "code",
   "execution_count": 37,
   "metadata": {
    "scrolled": true
   },
   "outputs": [
    {
     "data": {
      "text/html": [
       "0.173664067314719"
      ],
      "text/latex": [
       "0.173664067314719"
      ],
      "text/markdown": [
       "0.173664067314719"
      ],
      "text/plain": [
       "[1] 0.1736641"
      ]
     },
     "metadata": {},
     "output_type": "display_data"
    },
    {
     "data": {
      "text/html": [
       "0.173664067314719"
      ],
      "text/latex": [
       "0.173664067314719"
      ],
      "text/markdown": [
       "0.173664067314719"
      ],
      "text/plain": [
       "[1] 0.1736641"
      ]
     },
     "metadata": {},
     "output_type": "display_data"
    }
   ],
   "source": [
    "cor(survey$height, survey$shoe, use = \"complete.obs\")\n",
    "cor(survey$shoe, survey$height, use = \"complete.obs\")"
   ]
  },
  {
   "cell_type": "markdown",
   "metadata": {},
   "source": [
    "They turn out to be the same."
   ]
  },
  {
   "cell_type": "markdown",
   "metadata": {},
   "source": [
    "## Step 4: Plot scatterplot of Height and Shoe Size "
   ]
  },
  {
   "cell_type": "code",
   "execution_count": 38,
   "metadata": {},
   "outputs": [
    {
     "data": {
      "image/png": "[encoded data removed]",
      "text/plain": [
       "Plot with title \"Height and Shoe Size\""
      ]
     },
     "metadata": {},
     "output_type": "display_data"
    }
   ],
   "source": [
    "plot(height ~ shoe, \n",
    "    data = survey,\n",
    "    main = \"Height and Shoe Size\",\n",
    "    ylab = \"Height\",\n",
    "    xlab = \"Shoe Size\")"
   ]
  },
  {
   "cell_type": "markdown",
   "metadata": {},
   "source": [
    "We asked to report shoe size in centimetres (not EU)\n",
    "\n",
    "Thus, it looks like outliers might have come from respondents who did not read the directions closely when they completed the survey. The outliers are thus presumably errors.\n",
    "\n",
    "Generate a new scatter plot for height and shoe\n",
    "- Make sure it excludes the outliers (i.e. shoe > 35)\n",
    "- With the outliers excluded, recalculate the correlation"
   ]
  },
  {
   "cell_type": "code",
   "execution_count": 39,
   "metadata": {},
   "outputs": [
    {
     "data": {
      "text/html": [
       "0.782022612816589"
      ],
      "text/latex": [
       "0.782022612816589"
      ],
      "text/markdown": [
       "0.782022612816589"
      ],
      "text/plain": [
       "[1] 0.7820226"
      ]
     },
     "metadata": {},
     "output_type": "display_data"
    }
   ],
   "source": [
    "r_outlier <- cor(survey$height[survey$shoe < 35], survey$shoe[survey$shoe < 35], use = \"complete.obs\")\n",
    "r_outlier"
   ]
  },
  {
   "cell_type": "code",
   "execution_count": 40,
   "metadata": {},
   "outputs": [
    {
     "data": {
      "image/png": "[encoded data removed]",
      "text/plain": [
       "Plot with title \"Height and Shoe Size\""
      ]
     },
     "metadata": {},
     "output_type": "display_data"
    }
   ],
   "source": [
    "# Remove the outliers\n",
    "\n",
    "plot(height[survey$shoe < 35] ~ shoe[survey$shoe < 35], \n",
    "     data = survey,\n",
    "    main = \"Height and Shoe Size\",\n",
    "    xlab = \"Shoe Size\",\n",
    "    ylab = \"Height\")"
   ]
  },
  {
   "cell_type": "markdown",
   "metadata": {},
   "source": [
    "## Step 5: Transform variables and replot variables\n",
    "\n",
    "What happens to the correlation when we transform the variables, for example, by adding or subtracting a numeric value to height and shoe? Let’s see.\n",
    "\n",
    "Create a pair of new variables of \n",
    "- height_subX OR height_plusX and \n",
    "- shoe_subY OR shoe_plusY \n",
    "that take the following values. Append them to the data frame. Choose your own values of X and Y.\n",
    "\n",
    "Now working together with your peers, do the following in R:\n",
    "\n",
    "- Create a scatter plot for new variables for height and shoe.\n",
    "- Make sure to exclude the outliers (i.e. shoe > 35)\n",
    "- With the outliers excluded, recalculate the correlation for the new variables for height and shoe."
   ]
  },
  {
   "cell_type": "code",
   "execution_count": 44,
   "metadata": {},
   "outputs": [],
   "source": [
    "x <- survey\n",
    "\n",
    "x$height_sub5 <- x$height - 5\n",
    "x$shoe_plus10 <- x$shoe + 10"
   ]
  },
  {
   "cell_type": "code",
   "execution_count": 46,
   "metadata": {},
   "outputs": [
    {
     "data": {
      "image/png": "[encoded data removed]",
      "text/plain": [
       "Plot with title \"Height and Shoe Size\""
      ]
     },
     "metadata": {},
     "output_type": "display_data"
    }
   ],
   "source": [
    "plot(x$height_sub5[x$shoe < 35] ~ x$shoe_plus10[x$shoe < 35],\n",
    "     main = \"Height and Shoe Size\",\n",
    "     xlab = \"Shoe Size\",\n",
    "     ylab = \"Height\")"
   ]
  },
  {
   "cell_type": "code",
   "execution_count": 49,
   "metadata": {},
   "outputs": [
    {
     "data": {
      "text/html": [
       "0.782022612816589"
      ],
      "text/latex": [
       "0.782022612816589"
      ],
      "text/markdown": [
       "0.782022612816589"
      ],
      "text/plain": [
       "[1] 0.7820226"
      ]
     },
     "metadata": {},
     "output_type": "display_data"
    },
    {
     "data": {
      "text/html": [
       "0.782022612816589"
      ],
      "text/latex": [
       "0.782022612816589"
      ],
      "text/markdown": [
       "0.782022612816589"
      ],
      "text/plain": [
       "[1] 0.7820226"
      ]
     },
     "metadata": {},
     "output_type": "display_data"
    }
   ],
   "source": [
    "r_outlier_plus <- cor(x$height_sub5[x$shoe < 35], x$shoe_plus10[x$shoe < 35], use = \"complete.obs\")\n",
    "r_outlier_plus\n",
    "\n",
    "r_outlier"
   ]
  },
  {
   "cell_type": "markdown",
   "metadata": {},
   "source": [
    "## Step 6: Multiply or divide height and shoe by a constant\n",
    "\n",
    "What happens to the correlation when we transform the variables, for example, by multiplying or dividing height and shoe by a constant? Let’s see by converting height and shoe (measured in centimetres) into inches."
   ]
  },
  {
   "cell_type": "code",
   "execution_count": 50,
   "metadata": {},
   "outputs": [],
   "source": [
    "x$height_inches <- x$height / 2.54\n",
    "\n",
    "x$shoe_inches <- x$shoe / 2.54"
   ]
  },
  {
   "cell_type": "code",
   "execution_count": 51,
   "metadata": {},
   "outputs": [
    {
     "data": {
      "image/png": "[encoded data removed]",
      "text/plain": [
       "Plot with title \"Height (in) and Shoe Size (in)\""
      ]
     },
     "metadata": {},
     "output_type": "display_data"
    }
   ],
   "source": [
    "par(mfrow = c(2,2))\n",
    "\n",
    "# PLOT HEIGHT BY SHOE\n",
    "\n",
    "plot(height[x$shoe < 35] ~ shoe[x$shoe < 35],\n",
    "    data = x,\n",
    "    main = \"Height and Shoe Size (cm)\",\n",
    "    xlab = \"Shoe Size (cm)\",\n",
    "    ylab = \"Height (cm)\")\n",
    "\n",
    "# PLOT HEIGHT BY SHOE INCHES\n",
    "\n",
    "plot(height[x$shoe < 35] ~ shoe_inches[x$shoe < 35],\n",
    "    data = x,\n",
    "    main = \"Height and Shoe Size (in)\",\n",
    "    xlab = \"Shoe Size (in)\",\n",
    "    ylab = \"Height (cm)\")\n",
    "\n",
    "# PLOT HEIGHT INCHES BY SHOE\n",
    "\n",
    "plot(height_inches[x$shoe < 35] ~ shoe[x$shoe < 35],\n",
    "    data = x,\n",
    "    main = \"Height (in) and Shoe Size (cm)\",\n",
    "    xlab = \"Shoe Size (cm)\",\n",
    "    ylab = \"Height (in)\")\n",
    "\n",
    "# PLOT HEIGHT INCHES BY SHOE INCHES\n",
    "\n",
    "plot(height_inches[x$shoe < 35] ~ shoe_inches[x$shoe < 35],\n",
    "    data = x,\n",
    "    main = \"Height (in) and Shoe Size (in)\",\n",
    "    xlab = \"Shoe Size (in)\",\n",
    "    ylab = \"Height (in)\")\n"
   ]
  },
  {
   "cell_type": "code",
   "execution_count": 54,
   "metadata": {},
   "outputs": [
    {
     "data": {
      "text/html": [
       "0.782022612816589"
      ],
      "text/latex": [
       "0.782022612816589"
      ],
      "text/markdown": [
       "0.782022612816589"
      ],
      "text/plain": [
       "[1] 0.7820226"
      ]
     },
     "metadata": {},
     "output_type": "display_data"
    }
   ],
   "source": [
    "r_outlier_in <- cor(x$height_inches[x$shoe < 35], x$shoe_inches[x$shoe < 35], use = \"complete.obs\")\n",
    "r_outlier_in"
   ]
  },
  {
   "cell_type": "markdown",
   "metadata": {},
   "source": [
    "Now find the log transformed variables and the correlation of it."
   ]
  },
  {
   "cell_type": "code",
   "execution_count": 63,
   "metadata": {},
   "outputs": [
    {
     "name": "stdout",
     "output_type": "stream",
     "text": [
      "[1] \"r_outlier_log_log is 0.780642885104771\"\n",
      "[1] \"r_outlier is 0.782022612816589\"\n",
      "[1] \"r_log_log is 0.229473886812648\"\n",
      "[1] \"r correlation is 0.173664067314719\"\n"
     ]
    }
   ],
   "source": [
    "x <- survey.narm\n",
    "\n",
    "x$height_log <- log(x$height, 10)\n",
    "\n",
    "x$shoe_log <- log(x$shoe, 10)\n",
    "\n",
    "r_outlier_log_log <- cor(x$height_log[x$shoe < 35], x$shoe_log[x$shoe < 35])\n",
    "print(paste(\"r_outlier_log_log is\", r_outlier_log_log))\n",
    "\n",
    "print(paste(\"r_outlier is\", r_outlier))\n",
    "\n",
    "r_log_log <- cor(x$height_log, x$shoe_log)\n",
    "print(paste(\"r_log_log is\", r_log_log))\n",
    "\n",
    "print(paste(\"r correlation is\", r)) "
   ]
  }
 ],
 "metadata": {
  "kernelspec": {
   "display_name": "R",
   "language": "R",
   "name": "ir"
  },
  "language_info": {
   "codemirror_mode": "r",
   "file_extension": ".r",
   "mimetype": "text/x-r-source",
   "name": "R",
   "pygments_lexer": "r",
   "version": "3.6.1"
  }
 },
 "nbformat": 4,
 "nbformat_minor": 4
}
