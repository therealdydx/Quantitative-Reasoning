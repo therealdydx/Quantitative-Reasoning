{
 "cells": [
  {
   "cell_type": "markdown",
   "metadata": {},
   "source": [
    "# Exercise 6 – Analysis of Lung Cancer Statistics\n",
    "\n",
    "Notebook Written By: WDY (Yale-NUS '24) \n",
    "(Come say hi at https://www.linkedin.com/in/dys-profile/)\n",
    "\n",
    "### Introduction\n",
    "\n",
    "Globally, lung cancer is one of the most common types of cancer with estimates of about 1.8 million cases or some 12.9% of all new cases of cancer in 2012 alone. The rates of lung cancer incidence may differ among countries because of factors such as levels of air pollution and smoking.\n",
    "\n",
    "In this activity we will try to figure out if someone from, say, Viet Nam has a higher probability of getting lung cancer than someone from the UK. We will compare the following eight countries: Viet Nam, Singapore, the UK, Ethiopia, Austria, China, Georgia and the Philippines.\n",
    "\n",
    "We will be working with a lung cancer dataset. Let's read the data into the notebook first. Following that, let's do a quick look through of the dataset to find any interesting information."
   ]
  },
  {
   "cell_type": "code",
   "execution_count": 9,
   "metadata": {},
   "outputs": [],
   "source": [
    "lc <- read.csv(\"C:/Users/Admin/OneDrive/Documents/Yale-NUS/Quantitative Reasoning/Quantitative Reasoning Repository/Exercise 6 - Lung Cancer Prevalence/lung_cancer.csv\")"
   ]
  },
  {
   "cell_type": "code",
   "execution_count": 10,
   "metadata": {},
   "outputs": [
    {
     "data": {
      "text/html": [
       "<ol class=list-inline>\n",
       "\t<li>80</li>\n",
       "\t<li>4</li>\n",
       "</ol>\n"
      ],
      "text/latex": [
       "\\begin{enumerate*}\n",
       "\\item 80\n",
       "\\item 4\n",
       "\\end{enumerate*}\n"
      ],
      "text/markdown": [
       "1. 80\n",
       "2. 4\n",
       "\n",
       "\n"
      ],
      "text/plain": [
       "[1] 80  4"
      ]
     },
     "metadata": {},
     "output_type": "display_data"
    }
   ],
   "source": [
    "dim(lc)"
   ]
  },
  {
   "cell_type": "code",
   "execution_count": 11,
   "metadata": {},
   "outputs": [
    {
     "data": {
      "text/html": [
       "<table>\n",
       "<thead><tr><th scope=col>Country</th><th scope=col>AgeClass</th><th scope=col>Population</th><th scope=col>Cases</th></tr></thead>\n",
       "<tbody>\n",
       "\t<tr><td>Viet Nam</td><td>0-14    </td><td>29180000</td><td>  21    </td></tr>\n",
       "\t<tr><td>Viet Nam</td><td>15-39   </td><td>31967459</td><td>1282    </td></tr>\n",
       "\t<tr><td>Viet Nam</td><td>40-44   </td><td> 6292329</td><td>1319    </td></tr>\n",
       "\t<tr><td>Viet Nam</td><td>45-49   </td><td> 5765012</td><td>2243    </td></tr>\n",
       "\t<tr><td>Viet Nam</td><td>50-54   </td><td> 5102671</td><td>2986    </td></tr>\n",
       "\t<tr><td>Viet Nam</td><td>55-59   </td><td> 4005732</td><td>3312    </td></tr>\n",
       "</tbody>\n",
       "</table>\n"
      ],
      "text/latex": [
       "\\begin{tabular}{r|llll}\n",
       " Country & AgeClass & Population & Cases\\\\\n",
       "\\hline\n",
       "\t Viet Nam & 0-14     & 29180000 &   21    \\\\\n",
       "\t Viet Nam & 15-39    & 31967459 & 1282    \\\\\n",
       "\t Viet Nam & 40-44    &  6292329 & 1319    \\\\\n",
       "\t Viet Nam & 45-49    &  5765012 & 2243    \\\\\n",
       "\t Viet Nam & 50-54    &  5102671 & 2986    \\\\\n",
       "\t Viet Nam & 55-59    &  4005732 & 3312    \\\\\n",
       "\\end{tabular}\n"
      ],
      "text/markdown": [
       "\n",
       "| Country | AgeClass | Population | Cases |\n",
       "|---|---|---|---|\n",
       "| Viet Nam | 0-14     | 29180000 |   21     |\n",
       "| Viet Nam | 15-39    | 31967459 | 1282     |\n",
       "| Viet Nam | 40-44    |  6292329 | 1319     |\n",
       "| Viet Nam | 45-49    |  5765012 | 2243     |\n",
       "| Viet Nam | 50-54    |  5102671 | 2986     |\n",
       "| Viet Nam | 55-59    |  4005732 | 3312     |\n",
       "\n"
      ],
      "text/plain": [
       "  Country  AgeClass Population Cases\n",
       "1 Viet Nam 0-14     29180000     21 \n",
       "2 Viet Nam 15-39    31967459   1282 \n",
       "3 Viet Nam 40-44     6292329   1319 \n",
       "4 Viet Nam 45-49     5765012   2243 \n",
       "5 Viet Nam 50-54     5102671   2986 \n",
       "6 Viet Nam 55-59     4005732   3312 "
      ]
     },
     "metadata": {},
     "output_type": "display_data"
    }
   ],
   "source": [
    "head(lc)"
   ]
  },
  {
   "cell_type": "code",
   "execution_count": 12,
   "metadata": {},
   "outputs": [
    {
     "data": {
      "text/html": [
       "<table>\n",
       "<thead><tr><th></th><th scope=col>Country</th><th scope=col>AgeClass</th><th scope=col>Population</th><th scope=col>Cases</th></tr></thead>\n",
       "<tbody>\n",
       "\t<tr><th scope=row>75</th><td>Ethiopia</td><td>50-54   </td><td>2504587 </td><td>273     </td></tr>\n",
       "\t<tr><th scope=row>76</th><td>Ethiopia</td><td>55-59   </td><td>2019867 </td><td>305     </td></tr>\n",
       "\t<tr><th scope=row>77</th><td>Ethiopia</td><td>60-64   </td><td>1649123 </td><td>282     </td></tr>\n",
       "\t<tr><th scope=row>78</th><td>Ethiopia</td><td>65-69   </td><td>1258741 </td><td>180     </td></tr>\n",
       "\t<tr><th scope=row>79</th><td>Ethiopia</td><td>70-74   </td><td> 853659 </td><td>105     </td></tr>\n",
       "\t<tr><th scope=row>80</th><td>Ethiopia</td><td>75+     </td><td> 868687 </td><td> 86     </td></tr>\n",
       "</tbody>\n",
       "</table>\n"
      ],
      "text/latex": [
       "\\begin{tabular}{r|llll}\n",
       "  & Country & AgeClass & Population & Cases\\\\\n",
       "\\hline\n",
       "\t75 & Ethiopia & 50-54    & 2504587  & 273     \\\\\n",
       "\t76 & Ethiopia & 55-59    & 2019867  & 305     \\\\\n",
       "\t77 & Ethiopia & 60-64    & 1649123  & 282     \\\\\n",
       "\t78 & Ethiopia & 65-69    & 1258741  & 180     \\\\\n",
       "\t79 & Ethiopia & 70-74    &  853659  & 105     \\\\\n",
       "\t80 & Ethiopia & 75+      &  868687  &  86     \\\\\n",
       "\\end{tabular}\n"
      ],
      "text/markdown": [
       "\n",
       "| <!--/--> | Country | AgeClass | Population | Cases |\n",
       "|---|---|---|---|---|\n",
       "| 75 | Ethiopia | 50-54    | 2504587  | 273      |\n",
       "| 76 | Ethiopia | 55-59    | 2019867  | 305      |\n",
       "| 77 | Ethiopia | 60-64    | 1649123  | 282      |\n",
       "| 78 | Ethiopia | 65-69    | 1258741  | 180      |\n",
       "| 79 | Ethiopia | 70-74    |  853659  | 105      |\n",
       "| 80 | Ethiopia | 75+      |  868687  |  86      |\n",
       "\n"
      ],
      "text/plain": [
       "   Country  AgeClass Population Cases\n",
       "75 Ethiopia 50-54    2504587    273  \n",
       "76 Ethiopia 55-59    2019867    305  \n",
       "77 Ethiopia 60-64    1649123    282  \n",
       "78 Ethiopia 65-69    1258741    180  \n",
       "79 Ethiopia 70-74     853659    105  \n",
       "80 Ethiopia 75+       868687     86  "
      ]
     },
     "metadata": {},
     "output_type": "display_data"
    }
   ],
   "source": [
    "tail(lc)"
   ]
  },
  {
   "cell_type": "code",
   "execution_count": 13,
   "metadata": {},
   "outputs": [
    {
     "name": "stdout",
     "output_type": "stream",
     "text": [
      "'data.frame':\t80 obs. of  4 variables:\n",
      " $ Country   : Factor w/ 8 levels \"Austria\",\"China\",..: 8 8 8 8 8 8 8 8 8 8 ...\n",
      " $ AgeClass  : Factor w/ 10 levels \"0-14\",\"15-39\",..: 1 2 3 4 5 6 7 8 9 10 ...\n",
      " $ Population: int  29180000 31967459 6292329 5765012 5102671 4005732 2577193 1654129 1388447 2399292 ...\n",
      " $ Cases     : int  21 1282 1319 2243 2986 3312 2667 2038 2031 3966 ...\n"
     ]
    }
   ],
   "source": [
    "str(lc)"
   ]
  },
  {
   "cell_type": "code",
   "execution_count": 14,
   "metadata": {},
   "outputs": [
    {
     "data": {
      "text/html": [
       "<table>\n",
       "<thead><tr><th scope=col>Country</th><th scope=col>AgeClass</th><th scope=col>Population</th><th scope=col>Cases</th></tr></thead>\n",
       "<tbody>\n",
       "\t<tr><td>Viet Nam </td><td>0-14     </td><td>29180000 </td><td>   21    </td></tr>\n",
       "\t<tr><td>Viet Nam </td><td>15-39    </td><td>31967459 </td><td> 1282    </td></tr>\n",
       "\t<tr><td>Viet Nam </td><td>40-44    </td><td> 6292329 </td><td> 1319    </td></tr>\n",
       "\t<tr><td>Viet Nam </td><td>45-49    </td><td> 5765012 </td><td> 2243    </td></tr>\n",
       "\t<tr><td>Viet Nam </td><td>50-54    </td><td> 5102671 </td><td> 2986    </td></tr>\n",
       "\t<tr><td>Viet Nam </td><td>55-59    </td><td> 4005732 </td><td> 3312    </td></tr>\n",
       "\t<tr><td>Viet Nam </td><td>60-64    </td><td> 2577193 </td><td> 2667    </td></tr>\n",
       "\t<tr><td>Viet Nam </td><td>65-69    </td><td> 1654129 </td><td> 2038    </td></tr>\n",
       "\t<tr><td>Viet Nam </td><td>70-74    </td><td> 1388447 </td><td> 2031    </td></tr>\n",
       "\t<tr><td>Viet Nam </td><td>75+      </td><td> 2399292 </td><td> 3966    </td></tr>\n",
       "\t<tr><td>Singapore</td><td>0-14     </td><td>  874409 </td><td>    0    </td></tr>\n",
       "\t<tr><td>Singapore</td><td>15-39    </td><td> 1880889 </td><td>   14    </td></tr>\n",
       "\t<tr><td>Singapore</td><td>40-44    </td><td>  445588 </td><td>   33    </td></tr>\n",
       "\t<tr><td>Singapore</td><td>45-49    </td><td>  453066 </td><td>   69    </td></tr>\n",
       "\t<tr><td>Singapore</td><td>50-54    </td><td>  451878 </td><td>  122    </td></tr>\n",
       "\t<tr><td>Singapore</td><td>55-59    </td><td>  379936 </td><td>  187    </td></tr>\n",
       "\t<tr><td>Singapore</td><td>60-64    </td><td>  292004 </td><td>  274    </td></tr>\n",
       "\t<tr><td>Singapore</td><td>65-69    </td><td>  193908 </td><td>  307    </td></tr>\n",
       "\t<tr><td>Singapore</td><td>70-74    </td><td>  130149 </td><td>  313    </td></tr>\n",
       "\t<tr><td>Singapore</td><td>75+      </td><td>  198266 </td><td>  655    </td></tr>\n",
       "\t<tr><td>UK       </td><td>0-14     </td><td>11427668 </td><td>    3    </td></tr>\n",
       "\t<tr><td>UK       </td><td>15-39    </td><td>20700000 </td><td>  207    </td></tr>\n",
       "\t<tr><td>UK       </td><td>40-44    </td><td> 4519231 </td><td>  235    </td></tr>\n",
       "\t<tr><td>UK       </td><td>45-49    </td><td> 4652439 </td><td>  763    </td></tr>\n",
       "\t<tr><td>UK       </td><td>50-54    </td><td> 4201613 </td><td> 1563    </td></tr>\n",
       "\t<tr><td>UK       </td><td>55-59    </td><td> 3637701 </td><td> 2721    </td></tr>\n",
       "\t<tr><td>UK       </td><td>60-64    </td><td> 3685606 </td><td> 4865    </td></tr>\n",
       "\t<tr><td>UK       </td><td>65-69    </td><td> 3219090 </td><td> 6509    </td></tr>\n",
       "\t<tr><td>UK       </td><td>70-74    </td><td> 2516451 </td><td> 6807    </td></tr>\n",
       "\t<tr><td>UK       </td><td>75+      </td><td> 5013201 </td><td>16709    </td></tr>\n",
       "\t<tr><td>...</td><td>...</td><td>...</td><td>...</td></tr>\n",
       "\t<tr><td>China      </td><td>0-14       </td><td>237592696  </td><td>    64     </td></tr>\n",
       "\t<tr><td>China      </td><td>15-39      </td><td>539714286  </td><td>  7556     </td></tr>\n",
       "\t<tr><td>China      </td><td>40-44      </td><td>125000000  </td><td> 15875     </td></tr>\n",
       "\t<tr><td>China      </td><td>45-49      </td><td>105912409  </td><td> 29020     </td></tr>\n",
       "\t<tr><td>China      </td><td>50-54      </td><td> 83580392  </td><td> 42626     </td></tr>\n",
       "\t<tr><td>China      </td><td>55-59      </td><td> 81406143  </td><td> 71556     </td></tr>\n",
       "\t<tr><td>China      </td><td>60-64      </td><td> 64972018  </td><td> 88232     </td></tr>\n",
       "\t<tr><td>China      </td><td>65-69      </td><td> 42272982  </td><td> 75415     </td></tr>\n",
       "\t<tr><td>China      </td><td>70-74      </td><td> 31373572  </td><td> 82387     </td></tr>\n",
       "\t<tr><td>China      </td><td>75+        </td><td> 43561502  </td><td>240111     </td></tr>\n",
       "\t<tr><td>Philippines</td><td>0-14       </td><td> 33887069  </td><td>    13     </td></tr>\n",
       "\t<tr><td>Philippines</td><td>15-39      </td><td> 39363636  </td><td>   433     </td></tr>\n",
       "\t<tr><td>Philippines</td><td>40-44      </td><td>  5180556  </td><td>   373     </td></tr>\n",
       "\t<tr><td>Philippines</td><td>45-49      </td><td>  4569832  </td><td>   818     </td></tr>\n",
       "\t<tr><td>Philippines</td><td>50-54      </td><td>  3881720  </td><td>  1444     </td></tr>\n",
       "\t<tr><td>Philippines</td><td>55-59      </td><td>  3229560  </td><td>  2054     </td></tr>\n",
       "\t<tr><td>Philippines</td><td>60-64      </td><td>  2261364  </td><td>  2189     </td></tr>\n",
       "\t<tr><td>Philippines</td><td>65-69      </td><td>  1495025  </td><td>  1803     </td></tr>\n",
       "\t<tr><td>Philippines</td><td>70-74      </td><td>  1040149  </td><td>  1399     </td></tr>\n",
       "\t<tr><td>Philippines</td><td>75+        </td><td>  1108089  </td><td>  1548     </td></tr>\n",
       "\t<tr><td>Ethiopia   </td><td>0-14       </td><td> 45480134  </td><td>     0     </td></tr>\n",
       "\t<tr><td>Ethiopia   </td><td>15-39      </td><td> 30666667  </td><td>    92     </td></tr>\n",
       "\t<tr><td>Ethiopia   </td><td>40-44      </td><td>  3750000  </td><td>    75     </td></tr>\n",
       "\t<tr><td>Ethiopia   </td><td>45-49      </td><td>  3139535  </td><td>   135     </td></tr>\n",
       "\t<tr><td>Ethiopia   </td><td>50-54      </td><td>  2504587  </td><td>   273     </td></tr>\n",
       "\t<tr><td>Ethiopia   </td><td>55-59      </td><td>  2019867  </td><td>   305     </td></tr>\n",
       "\t<tr><td>Ethiopia   </td><td>60-64      </td><td>  1649123  </td><td>   282     </td></tr>\n",
       "\t<tr><td>Ethiopia   </td><td>65-69      </td><td>  1258741  </td><td>   180     </td></tr>\n",
       "\t<tr><td>Ethiopia   </td><td>70-74      </td><td>   853659  </td><td>   105     </td></tr>\n",
       "\t<tr><td>Ethiopia   </td><td>75+        </td><td>   868687  </td><td>    86     </td></tr>\n",
       "</tbody>\n",
       "</table>\n"
      ],
      "text/latex": [
       "\\begin{tabular}{r|llll}\n",
       " Country & AgeClass & Population & Cases\\\\\n",
       "\\hline\n",
       "\t Viet Nam  & 0-14      & 29180000  &    21    \\\\\n",
       "\t Viet Nam  & 15-39     & 31967459  &  1282    \\\\\n",
       "\t Viet Nam  & 40-44     &  6292329  &  1319    \\\\\n",
       "\t Viet Nam  & 45-49     &  5765012  &  2243    \\\\\n",
       "\t Viet Nam  & 50-54     &  5102671  &  2986    \\\\\n",
       "\t Viet Nam  & 55-59     &  4005732  &  3312    \\\\\n",
       "\t Viet Nam  & 60-64     &  2577193  &  2667    \\\\\n",
       "\t Viet Nam  & 65-69     &  1654129  &  2038    \\\\\n",
       "\t Viet Nam  & 70-74     &  1388447  &  2031    \\\\\n",
       "\t Viet Nam  & 75+       &  2399292  &  3966    \\\\\n",
       "\t Singapore & 0-14      &   874409  &     0    \\\\\n",
       "\t Singapore & 15-39     &  1880889  &    14    \\\\\n",
       "\t Singapore & 40-44     &   445588  &    33    \\\\\n",
       "\t Singapore & 45-49     &   453066  &    69    \\\\\n",
       "\t Singapore & 50-54     &   451878  &   122    \\\\\n",
       "\t Singapore & 55-59     &   379936  &   187    \\\\\n",
       "\t Singapore & 60-64     &   292004  &   274    \\\\\n",
       "\t Singapore & 65-69     &   193908  &   307    \\\\\n",
       "\t Singapore & 70-74     &   130149  &   313    \\\\\n",
       "\t Singapore & 75+       &   198266  &   655    \\\\\n",
       "\t UK        & 0-14      & 11427668  &     3    \\\\\n",
       "\t UK        & 15-39     & 20700000  &   207    \\\\\n",
       "\t UK        & 40-44     &  4519231  &   235    \\\\\n",
       "\t UK        & 45-49     &  4652439  &   763    \\\\\n",
       "\t UK        & 50-54     &  4201613  &  1563    \\\\\n",
       "\t UK        & 55-59     &  3637701  &  2721    \\\\\n",
       "\t UK        & 60-64     &  3685606  &  4865    \\\\\n",
       "\t UK        & 65-69     &  3219090  &  6509    \\\\\n",
       "\t UK        & 70-74     &  2516451  &  6807    \\\\\n",
       "\t UK        & 75+       &  5013201  & 16709    \\\\\n",
       "\t ... & ... & ... & ...\\\\\n",
       "\t China       & 0-14        & 237592696   &     64     \\\\\n",
       "\t China       & 15-39       & 539714286   &   7556     \\\\\n",
       "\t China       & 40-44       & 125000000   &  15875     \\\\\n",
       "\t China       & 45-49       & 105912409   &  29020     \\\\\n",
       "\t China       & 50-54       &  83580392   &  42626     \\\\\n",
       "\t China       & 55-59       &  81406143   &  71556     \\\\\n",
       "\t China       & 60-64       &  64972018   &  88232     \\\\\n",
       "\t China       & 65-69       &  42272982   &  75415     \\\\\n",
       "\t China       & 70-74       &  31373572   &  82387     \\\\\n",
       "\t China       & 75+         &  43561502   & 240111     \\\\\n",
       "\t Philippines & 0-14        &  33887069   &     13     \\\\\n",
       "\t Philippines & 15-39       &  39363636   &    433     \\\\\n",
       "\t Philippines & 40-44       &   5180556   &    373     \\\\\n",
       "\t Philippines & 45-49       &   4569832   &    818     \\\\\n",
       "\t Philippines & 50-54       &   3881720   &   1444     \\\\\n",
       "\t Philippines & 55-59       &   3229560   &   2054     \\\\\n",
       "\t Philippines & 60-64       &   2261364   &   2189     \\\\\n",
       "\t Philippines & 65-69       &   1495025   &   1803     \\\\\n",
       "\t Philippines & 70-74       &   1040149   &   1399     \\\\\n",
       "\t Philippines & 75+         &   1108089   &   1548     \\\\\n",
       "\t Ethiopia    & 0-14        &  45480134   &      0     \\\\\n",
       "\t Ethiopia    & 15-39       &  30666667   &     92     \\\\\n",
       "\t Ethiopia    & 40-44       &   3750000   &     75     \\\\\n",
       "\t Ethiopia    & 45-49       &   3139535   &    135     \\\\\n",
       "\t Ethiopia    & 50-54       &   2504587   &    273     \\\\\n",
       "\t Ethiopia    & 55-59       &   2019867   &    305     \\\\\n",
       "\t Ethiopia    & 60-64       &   1649123   &    282     \\\\\n",
       "\t Ethiopia    & 65-69       &   1258741   &    180     \\\\\n",
       "\t Ethiopia    & 70-74       &    853659   &    105     \\\\\n",
       "\t Ethiopia    & 75+         &    868687   &     86     \\\\\n",
       "\\end{tabular}\n"
      ],
      "text/markdown": [
       "\n",
       "| Country | AgeClass | Population | Cases |\n",
       "|---|---|---|---|\n",
       "| Viet Nam  | 0-14      | 29180000  |    21     |\n",
       "| Viet Nam  | 15-39     | 31967459  |  1282     |\n",
       "| Viet Nam  | 40-44     |  6292329  |  1319     |\n",
       "| Viet Nam  | 45-49     |  5765012  |  2243     |\n",
       "| Viet Nam  | 50-54     |  5102671  |  2986     |\n",
       "| Viet Nam  | 55-59     |  4005732  |  3312     |\n",
       "| Viet Nam  | 60-64     |  2577193  |  2667     |\n",
       "| Viet Nam  | 65-69     |  1654129  |  2038     |\n",
       "| Viet Nam  | 70-74     |  1388447  |  2031     |\n",
       "| Viet Nam  | 75+       |  2399292  |  3966     |\n",
       "| Singapore | 0-14      |   874409  |     0     |\n",
       "| Singapore | 15-39     |  1880889  |    14     |\n",
       "| Singapore | 40-44     |   445588  |    33     |\n",
       "| Singapore | 45-49     |   453066  |    69     |\n",
       "| Singapore | 50-54     |   451878  |   122     |\n",
       "| Singapore | 55-59     |   379936  |   187     |\n",
       "| Singapore | 60-64     |   292004  |   274     |\n",
       "| Singapore | 65-69     |   193908  |   307     |\n",
       "| Singapore | 70-74     |   130149  |   313     |\n",
       "| Singapore | 75+       |   198266  |   655     |\n",
       "| UK        | 0-14      | 11427668  |     3     |\n",
       "| UK        | 15-39     | 20700000  |   207     |\n",
       "| UK        | 40-44     |  4519231  |   235     |\n",
       "| UK        | 45-49     |  4652439  |   763     |\n",
       "| UK        | 50-54     |  4201613  |  1563     |\n",
       "| UK        | 55-59     |  3637701  |  2721     |\n",
       "| UK        | 60-64     |  3685606  |  4865     |\n",
       "| UK        | 65-69     |  3219090  |  6509     |\n",
       "| UK        | 70-74     |  2516451  |  6807     |\n",
       "| UK        | 75+       |  5013201  | 16709     |\n",
       "| ... | ... | ... | ... |\n",
       "| China       | 0-14        | 237592696   |     64      |\n",
       "| China       | 15-39       | 539714286   |   7556      |\n",
       "| China       | 40-44       | 125000000   |  15875      |\n",
       "| China       | 45-49       | 105912409   |  29020      |\n",
       "| China       | 50-54       |  83580392   |  42626      |\n",
       "| China       | 55-59       |  81406143   |  71556      |\n",
       "| China       | 60-64       |  64972018   |  88232      |\n",
       "| China       | 65-69       |  42272982   |  75415      |\n",
       "| China       | 70-74       |  31373572   |  82387      |\n",
       "| China       | 75+         |  43561502   | 240111      |\n",
       "| Philippines | 0-14        |  33887069   |     13      |\n",
       "| Philippines | 15-39       |  39363636   |    433      |\n",
       "| Philippines | 40-44       |   5180556   |    373      |\n",
       "| Philippines | 45-49       |   4569832   |    818      |\n",
       "| Philippines | 50-54       |   3881720   |   1444      |\n",
       "| Philippines | 55-59       |   3229560   |   2054      |\n",
       "| Philippines | 60-64       |   2261364   |   2189      |\n",
       "| Philippines | 65-69       |   1495025   |   1803      |\n",
       "| Philippines | 70-74       |   1040149   |   1399      |\n",
       "| Philippines | 75+         |   1108089   |   1548      |\n",
       "| Ethiopia    | 0-14        |  45480134   |      0      |\n",
       "| Ethiopia    | 15-39       |  30666667   |     92      |\n",
       "| Ethiopia    | 40-44       |   3750000   |     75      |\n",
       "| Ethiopia    | 45-49       |   3139535   |    135      |\n",
       "| Ethiopia    | 50-54       |   2504587   |    273      |\n",
       "| Ethiopia    | 55-59       |   2019867   |    305      |\n",
       "| Ethiopia    | 60-64       |   1649123   |    282      |\n",
       "| Ethiopia    | 65-69       |   1258741   |    180      |\n",
       "| Ethiopia    | 70-74       |    853659   |    105      |\n",
       "| Ethiopia    | 75+         |    868687   |     86      |\n",
       "\n"
      ],
      "text/plain": [
       "    Country     AgeClass Population Cases \n",
       "1   Viet Nam    0-14     29180000      21 \n",
       "2   Viet Nam    15-39    31967459    1282 \n",
       "3   Viet Nam    40-44     6292329    1319 \n",
       "4   Viet Nam    45-49     5765012    2243 \n",
       "5   Viet Nam    50-54     5102671    2986 \n",
       "6   Viet Nam    55-59     4005732    3312 \n",
       "7   Viet Nam    60-64     2577193    2667 \n",
       "8   Viet Nam    65-69     1654129    2038 \n",
       "9   Viet Nam    70-74     1388447    2031 \n",
       "10  Viet Nam    75+       2399292    3966 \n",
       "11  Singapore   0-14       874409       0 \n",
       "12  Singapore   15-39     1880889      14 \n",
       "13  Singapore   40-44      445588      33 \n",
       "14  Singapore   45-49      453066      69 \n",
       "15  Singapore   50-54      451878     122 \n",
       "16  Singapore   55-59      379936     187 \n",
       "17  Singapore   60-64      292004     274 \n",
       "18  Singapore   65-69      193908     307 \n",
       "19  Singapore   70-74      130149     313 \n",
       "20  Singapore   75+        198266     655 \n",
       "21  UK          0-14     11427668       3 \n",
       "22  UK          15-39    20700000     207 \n",
       "23  UK          40-44     4519231     235 \n",
       "24  UK          45-49     4652439     763 \n",
       "25  UK          50-54     4201613    1563 \n",
       "26  UK          55-59     3637701    2721 \n",
       "27  UK          60-64     3685606    4865 \n",
       "28  UK          65-69     3219090    6509 \n",
       "29  UK          70-74     2516451    6807 \n",
       "30  UK          75+       5013201   16709 \n",
       "... ...         ...      ...        ...   \n",
       "51  China       0-14     237592696      64\n",
       "52  China       15-39    539714286    7556\n",
       "53  China       40-44    125000000   15875\n",
       "54  China       45-49    105912409   29020\n",
       "55  China       50-54     83580392   42626\n",
       "56  China       55-59     81406143   71556\n",
       "57  China       60-64     64972018   88232\n",
       "58  China       65-69     42272982   75415\n",
       "59  China       70-74     31373572   82387\n",
       "60  China       75+       43561502  240111\n",
       "61  Philippines 0-14      33887069      13\n",
       "62  Philippines 15-39     39363636     433\n",
       "63  Philippines 40-44      5180556     373\n",
       "64  Philippines 45-49      4569832     818\n",
       "65  Philippines 50-54      3881720    1444\n",
       "66  Philippines 55-59      3229560    2054\n",
       "67  Philippines 60-64      2261364    2189\n",
       "68  Philippines 65-69      1495025    1803\n",
       "69  Philippines 70-74      1040149    1399\n",
       "70  Philippines 75+        1108089    1548\n",
       "71  Ethiopia    0-14      45480134       0\n",
       "72  Ethiopia    15-39     30666667      92\n",
       "73  Ethiopia    40-44      3750000      75\n",
       "74  Ethiopia    45-49      3139535     135\n",
       "75  Ethiopia    50-54      2504587     273\n",
       "76  Ethiopia    55-59      2019867     305\n",
       "77  Ethiopia    60-64      1649123     282\n",
       "78  Ethiopia    65-69      1258741     180\n",
       "79  Ethiopia    70-74       853659     105\n",
       "80  Ethiopia    75+         868687      86"
      ]
     },
     "metadata": {},
     "output_type": "display_data"
    }
   ],
   "source": [
    "unique(lc)"
   ]
  },
  {
   "cell_type": "markdown",
   "metadata": {},
   "source": [
    "## Step 1: Find incidence rates distribution by age group in a specific counrty"
   ]
  },
  {
   "cell_type": "code",
   "execution_count": 15,
   "metadata": {
    "scrolled": true
   },
   "outputs": [
    {
     "data": {
      "text/html": [
       "<table>\n",
       "<thead><tr><th></th><th scope=col>Country</th><th scope=col>AgeClass</th><th scope=col>Population</th><th scope=col>Cases</th></tr></thead>\n",
       "<tbody>\n",
       "\t<tr><th scope=row>21</th><td>UK      </td><td>0-14    </td><td>11427668</td><td>    3   </td></tr>\n",
       "\t<tr><th scope=row>22</th><td>UK      </td><td>15-39   </td><td>20700000</td><td>  207   </td></tr>\n",
       "\t<tr><th scope=row>23</th><td>UK      </td><td>40-44   </td><td> 4519231</td><td>  235   </td></tr>\n",
       "\t<tr><th scope=row>24</th><td>UK      </td><td>45-49   </td><td> 4652439</td><td>  763   </td></tr>\n",
       "\t<tr><th scope=row>25</th><td>UK      </td><td>50-54   </td><td> 4201613</td><td> 1563   </td></tr>\n",
       "\t<tr><th scope=row>26</th><td>UK      </td><td>55-59   </td><td> 3637701</td><td> 2721   </td></tr>\n",
       "\t<tr><th scope=row>27</th><td>UK      </td><td>60-64   </td><td> 3685606</td><td> 4865   </td></tr>\n",
       "\t<tr><th scope=row>28</th><td>UK      </td><td>65-69   </td><td> 3219090</td><td> 6509   </td></tr>\n",
       "\t<tr><th scope=row>29</th><td>UK      </td><td>70-74   </td><td> 2516451</td><td> 6807   </td></tr>\n",
       "\t<tr><th scope=row>30</th><td>UK      </td><td>75+     </td><td> 5013201</td><td>16709   </td></tr>\n",
       "</tbody>\n",
       "</table>\n"
      ],
      "text/latex": [
       "\\begin{tabular}{r|llll}\n",
       "  & Country & AgeClass & Population & Cases\\\\\n",
       "\\hline\n",
       "\t21 & UK       & 0-14     & 11427668 &     3   \\\\\n",
       "\t22 & UK       & 15-39    & 20700000 &   207   \\\\\n",
       "\t23 & UK       & 40-44    &  4519231 &   235   \\\\\n",
       "\t24 & UK       & 45-49    &  4652439 &   763   \\\\\n",
       "\t25 & UK       & 50-54    &  4201613 &  1563   \\\\\n",
       "\t26 & UK       & 55-59    &  3637701 &  2721   \\\\\n",
       "\t27 & UK       & 60-64    &  3685606 &  4865   \\\\\n",
       "\t28 & UK       & 65-69    &  3219090 &  6509   \\\\\n",
       "\t29 & UK       & 70-74    &  2516451 &  6807   \\\\\n",
       "\t30 & UK       & 75+      &  5013201 & 16709   \\\\\n",
       "\\end{tabular}\n"
      ],
      "text/markdown": [
       "\n",
       "| <!--/--> | Country | AgeClass | Population | Cases |\n",
       "|---|---|---|---|---|\n",
       "| 21 | UK       | 0-14     | 11427668 |     3    |\n",
       "| 22 | UK       | 15-39    | 20700000 |   207    |\n",
       "| 23 | UK       | 40-44    |  4519231 |   235    |\n",
       "| 24 | UK       | 45-49    |  4652439 |   763    |\n",
       "| 25 | UK       | 50-54    |  4201613 |  1563    |\n",
       "| 26 | UK       | 55-59    |  3637701 |  2721    |\n",
       "| 27 | UK       | 60-64    |  3685606 |  4865    |\n",
       "| 28 | UK       | 65-69    |  3219090 |  6509    |\n",
       "| 29 | UK       | 70-74    |  2516451 |  6807    |\n",
       "| 30 | UK       | 75+      |  5013201 | 16709    |\n",
       "\n"
      ],
      "text/plain": [
       "   Country AgeClass Population Cases\n",
       "21 UK      0-14     11427668       3\n",
       "22 UK      15-39    20700000     207\n",
       "23 UK      40-44     4519231     235\n",
       "24 UK      45-49     4652439     763\n",
       "25 UK      50-54     4201613    1563\n",
       "26 UK      55-59     3637701    2721\n",
       "27 UK      60-64     3685606    4865\n",
       "28 UK      65-69     3219090    6509\n",
       "29 UK      70-74     2516451    6807\n",
       "30 UK      75+       5013201   16709"
      ]
     },
     "metadata": {},
     "output_type": "display_data"
    }
   ],
   "source": [
    "uk <- lc[lc$Country == \"UK\", ]\n",
    "uk"
   ]
  },
  {
   "cell_type": "code",
   "execution_count": 26,
   "metadata": {},
   "outputs": [
    {
     "data": {
      "text/html": [
       "<table>\n",
       "<thead><tr><th></th><th scope=col>Country</th><th scope=col>AgeClass</th><th scope=col>Population</th><th scope=col>Cases</th><th scope=col>Incidence</th></tr></thead>\n",
       "<tbody>\n",
       "\t<tr><th scope=row>21</th><td>UK          </td><td>0-14        </td><td>11427668    </td><td>    3       </td><td>  0.02625208</td></tr>\n",
       "\t<tr><th scope=row>22</th><td>UK          </td><td>15-39       </td><td>20700000    </td><td>  207       </td><td>  1.00000000</td></tr>\n",
       "\t<tr><th scope=row>23</th><td>UK          </td><td>40-44       </td><td> 4519231    </td><td>  235       </td><td>  5.19999973</td></tr>\n",
       "\t<tr><th scope=row>24</th><td>UK          </td><td>45-49       </td><td> 4652439    </td><td>  763       </td><td> 16.40000009</td></tr>\n",
       "\t<tr><th scope=row>25</th><td>UK          </td><td>50-54       </td><td> 4201613    </td><td> 1563       </td><td> 37.19999914</td></tr>\n",
       "\t<tr><th scope=row>26</th><td>UK          </td><td>55-59       </td><td> 3637701    </td><td> 2721       </td><td> 74.79999043</td></tr>\n",
       "\t<tr><th scope=row>27</th><td>UK          </td><td>60-64       </td><td> 3685606    </td><td> 4865       </td><td>132.00000217</td></tr>\n",
       "\t<tr><th scope=row>28</th><td>UK          </td><td>65-69       </td><td> 3219090    </td><td> 6509       </td><td>202.20000062</td></tr>\n",
       "\t<tr><th scope=row>29</th><td>UK          </td><td>70-74       </td><td> 2516451    </td><td> 6807       </td><td>270.50000179</td></tr>\n",
       "\t<tr><th scope=row>30</th><td>UK          </td><td>75+         </td><td> 5013201    </td><td>16709       </td><td>333.30002128</td></tr>\n",
       "</tbody>\n",
       "</table>\n"
      ],
      "text/latex": [
       "\\begin{tabular}{r|lllll}\n",
       "  & Country & AgeClass & Population & Cases & Incidence\\\\\n",
       "\\hline\n",
       "\t21 & UK           & 0-14         & 11427668     &     3        &   0.02625208\\\\\n",
       "\t22 & UK           & 15-39        & 20700000     &   207        &   1.00000000\\\\\n",
       "\t23 & UK           & 40-44        &  4519231     &   235        &   5.19999973\\\\\n",
       "\t24 & UK           & 45-49        &  4652439     &   763        &  16.40000009\\\\\n",
       "\t25 & UK           & 50-54        &  4201613     &  1563        &  37.19999914\\\\\n",
       "\t26 & UK           & 55-59        &  3637701     &  2721        &  74.79999043\\\\\n",
       "\t27 & UK           & 60-64        &  3685606     &  4865        & 132.00000217\\\\\n",
       "\t28 & UK           & 65-69        &  3219090     &  6509        & 202.20000062\\\\\n",
       "\t29 & UK           & 70-74        &  2516451     &  6807        & 270.50000179\\\\\n",
       "\t30 & UK           & 75+          &  5013201     & 16709        & 333.30002128\\\\\n",
       "\\end{tabular}\n"
      ],
      "text/markdown": [
       "\n",
       "| <!--/--> | Country | AgeClass | Population | Cases | Incidence |\n",
       "|---|---|---|---|---|---|\n",
       "| 21 | UK           | 0-14         | 11427668     |     3        |   0.02625208 |\n",
       "| 22 | UK           | 15-39        | 20700000     |   207        |   1.00000000 |\n",
       "| 23 | UK           | 40-44        |  4519231     |   235        |   5.19999973 |\n",
       "| 24 | UK           | 45-49        |  4652439     |   763        |  16.40000009 |\n",
       "| 25 | UK           | 50-54        |  4201613     |  1563        |  37.19999914 |\n",
       "| 26 | UK           | 55-59        |  3637701     |  2721        |  74.79999043 |\n",
       "| 27 | UK           | 60-64        |  3685606     |  4865        | 132.00000217 |\n",
       "| 28 | UK           | 65-69        |  3219090     |  6509        | 202.20000062 |\n",
       "| 29 | UK           | 70-74        |  2516451     |  6807        | 270.50000179 |\n",
       "| 30 | UK           | 75+          |  5013201     | 16709        | 333.30002128 |\n",
       "\n"
      ],
      "text/plain": [
       "   Country AgeClass Population Cases Incidence   \n",
       "21 UK      0-14     11427668       3   0.02625208\n",
       "22 UK      15-39    20700000     207   1.00000000\n",
       "23 UK      40-44     4519231     235   5.19999973\n",
       "24 UK      45-49     4652439     763  16.40000009\n",
       "25 UK      50-54     4201613    1563  37.19999914\n",
       "26 UK      55-59     3637701    2721  74.79999043\n",
       "27 UK      60-64     3685606    4865 132.00000217\n",
       "28 UK      65-69     3219090    6509 202.20000062\n",
       "29 UK      70-74     2516451    6807 270.50000179\n",
       "30 UK      75+       5013201   16709 333.30002128"
      ]
     },
     "metadata": {},
     "output_type": "display_data"
    }
   ],
   "source": [
    "uk$Incidence <- 100000 * uk$Cases / uk$Population\n",
    "uk"
   ]
  },
  {
   "cell_type": "code",
   "execution_count": 28,
   "metadata": {},
   "outputs": [
    {
     "data": {
      "image/png": "[encoded data removed]",
      "text/plain": [
       "Plot with title \"UK Lung Cancer Incidence by Age Group\""
      ]
     },
     "metadata": {},
     "output_type": "display_data"
    }
   ],
   "source": [
    "barplot(uk$Incidence,\n",
    "        names.arg = uk$AgeClass,\n",
    "        main = \"UK Lung Cancer Incidence by Age Group\",\n",
    "        ylab = \"Incidence rate per 100,000\",\n",
    "        col=\"violetred3\",\n",
    "        las = 2)\n",
    "\n",
    "# In here, las means whether it is perpendicular or parallel, the labels. So either 0 or 2.\n",
    "\n",
    "grid()"
   ]
  },
  {
   "cell_type": "markdown",
   "metadata": {},
   "source": [
    "## Step 2: Find overall incidence rate distribution by country"
   ]
  },
  {
   "cell_type": "code",
   "execution_count": 30,
   "metadata": {},
   "outputs": [
    {
     "data": {
      "text/html": [
       "<table>\n",
       "<thead><tr><th scope=col>Country</th><th scope=col>Cases</th></tr></thead>\n",
       "<tbody>\n",
       "\t<tr><td>Austria    </td><td>  4576     </td></tr>\n",
       "\t<tr><td>China      </td><td>652842     </td></tr>\n",
       "\t<tr><td>Ethiopia   </td><td>  1533     </td></tr>\n",
       "\t<tr><td>Georgia    </td><td>  1129     </td></tr>\n",
       "\t<tr><td>Philippines</td><td> 12074     </td></tr>\n",
       "\t<tr><td>Singapore  </td><td>  1974     </td></tr>\n",
       "\t<tr><td>UK         </td><td> 40382     </td></tr>\n",
       "\t<tr><td>Viet Nam   </td><td> 21865     </td></tr>\n",
       "</tbody>\n",
       "</table>\n"
      ],
      "text/latex": [
       "\\begin{tabular}{r|ll}\n",
       " Country & Cases\\\\\n",
       "\\hline\n",
       "\t Austria     &   4576     \\\\\n",
       "\t China       & 652842     \\\\\n",
       "\t Ethiopia    &   1533     \\\\\n",
       "\t Georgia     &   1129     \\\\\n",
       "\t Philippines &  12074     \\\\\n",
       "\t Singapore   &   1974     \\\\\n",
       "\t UK          &  40382     \\\\\n",
       "\t Viet Nam    &  21865     \\\\\n",
       "\\end{tabular}\n"
      ],
      "text/markdown": [
       "\n",
       "| Country | Cases |\n",
       "|---|---|\n",
       "| Austria     |   4576      |\n",
       "| China       | 652842      |\n",
       "| Ethiopia    |   1533      |\n",
       "| Georgia     |   1129      |\n",
       "| Philippines |  12074      |\n",
       "| Singapore   |   1974      |\n",
       "| UK          |  40382      |\n",
       "| Viet Nam    |  21865      |\n",
       "\n"
      ],
      "text/plain": [
       "  Country     Cases \n",
       "1 Austria       4576\n",
       "2 China       652842\n",
       "3 Ethiopia      1533\n",
       "4 Georgia       1129\n",
       "5 Philippines  12074\n",
       "6 Singapore     1974\n",
       "7 UK           40382\n",
       "8 Viet Nam     21865"
      ]
     },
     "metadata": {},
     "output_type": "display_data"
    }
   ],
   "source": [
    "aggregate(Cases ~ Country, data = lc, sum)\n",
    "total <- aggregate(cbind(Cases, Population) ~ Country, data = lc, sum)"
   ]
  },
  {
   "cell_type": "code",
   "execution_count": 31,
   "metadata": {},
   "outputs": [
    {
     "data": {
      "text/html": [
       "<table>\n",
       "<thead><tr><th scope=col>Country</th><th scope=col>Cases</th><th scope=col>Population</th><th scope=col>Incidence</th></tr></thead>\n",
       "<tbody>\n",
       "\t<tr><td>Austria    </td><td>  4576     </td><td>   8455000 </td><td>54.121821  </td></tr>\n",
       "\t<tr><td>China      </td><td>652842     </td><td>1355386000 </td><td>48.166500  </td></tr>\n",
       "\t<tr><td>Ethiopia   </td><td>  1533     </td><td>  92191000 </td><td> 1.662852  </td></tr>\n",
       "\t<tr><td>Georgia    </td><td>  1129     </td><td>   4138000 </td><td>27.283712  </td></tr>\n",
       "\t<tr><td>Philippines</td><td> 12074     </td><td>  96017000 </td><td>12.574857  </td></tr>\n",
       "\t<tr><td>Singapore  </td><td>  1974     </td><td>   5300093 </td><td>37.244629  </td></tr>\n",
       "\t<tr><td>UK         </td><td> 40382     </td><td>  63573000 </td><td>63.520677  </td></tr>\n",
       "\t<tr><td>Viet Nam   </td><td> 21865     </td><td>  90332264 </td><td>24.205084  </td></tr>\n",
       "</tbody>\n",
       "</table>\n"
      ],
      "text/latex": [
       "\\begin{tabular}{r|llll}\n",
       " Country & Cases & Population & Incidence\\\\\n",
       "\\hline\n",
       "\t Austria     &   4576      &    8455000  & 54.121821  \\\\\n",
       "\t China       & 652842      & 1355386000  & 48.166500  \\\\\n",
       "\t Ethiopia    &   1533      &   92191000  &  1.662852  \\\\\n",
       "\t Georgia     &   1129      &    4138000  & 27.283712  \\\\\n",
       "\t Philippines &  12074      &   96017000  & 12.574857  \\\\\n",
       "\t Singapore   &   1974      &    5300093  & 37.244629  \\\\\n",
       "\t UK          &  40382      &   63573000  & 63.520677  \\\\\n",
       "\t Viet Nam    &  21865      &   90332264  & 24.205084  \\\\\n",
       "\\end{tabular}\n"
      ],
      "text/markdown": [
       "\n",
       "| Country | Cases | Population | Incidence |\n",
       "|---|---|---|---|\n",
       "| Austria     |   4576      |    8455000  | 54.121821   |\n",
       "| China       | 652842      | 1355386000  | 48.166500   |\n",
       "| Ethiopia    |   1533      |   92191000  |  1.662852   |\n",
       "| Georgia     |   1129      |    4138000  | 27.283712   |\n",
       "| Philippines |  12074      |   96017000  | 12.574857   |\n",
       "| Singapore   |   1974      |    5300093  | 37.244629   |\n",
       "| UK          |  40382      |   63573000  | 63.520677   |\n",
       "| Viet Nam    |  21865      |   90332264  | 24.205084   |\n",
       "\n"
      ],
      "text/plain": [
       "  Country     Cases  Population Incidence\n",
       "1 Austria       4576    8455000 54.121821\n",
       "2 China       652842 1355386000 48.166500\n",
       "3 Ethiopia      1533   92191000  1.662852\n",
       "4 Georgia       1129    4138000 27.283712\n",
       "5 Philippines  12074   96017000 12.574857\n",
       "6 Singapore     1974    5300093 37.244629\n",
       "7 UK           40382   63573000 63.520677\n",
       "8 Viet Nam     21865   90332264 24.205084"
      ]
     },
     "metadata": {},
     "output_type": "display_data"
    }
   ],
   "source": [
    "total$Incidence <- (total$Cases / total$Population) * 100000\n",
    "total"
   ]
  },
  {
   "cell_type": "markdown",
   "metadata": {},
   "source": [
    "Here, it is seen that the incidence rate for e.g. UK is 63 per 100,000 people."
   ]
  },
  {
   "cell_type": "code",
   "execution_count": 34,
   "metadata": {},
   "outputs": [
    {
     "data": {
      "image/png": "[encoded data removed]",
      "text/plain": [
       "Plot with title \"Overall Lung Cancer Incidence\""
      ]
     },
     "metadata": {},
     "output_type": "display_data"
    }
   ],
   "source": [
    "barplot(total$Incidence, \n",
    "        names.arg = total$Country,\n",
    "        main = \"Overall Lung Cancer Incidence\",\n",
    "        ylab = \"Incidence rate per 100,000\",\n",
    "        las = 2)\n",
    "\n",
    "grid()"
   ]
  },
  {
   "cell_type": "markdown",
   "metadata": {},
   "source": [
    "## Step 3: Calculate what proportion of each country is in each age group"
   ]
  },
  {
   "cell_type": "code",
   "execution_count": 46,
   "metadata": {},
   "outputs": [
    {
     "data": {
      "text/html": [
       "<table>\n",
       "<thead><tr><th scope=col>Country</th><th scope=col>AgeClass</th><th scope=col>Population</th><th scope=col>Cases</th><th scope=col>Proportion</th></tr></thead>\n",
       "<tbody>\n",
       "\t<tr><td>Viet Nam  </td><td>0-14      </td><td>29180000  </td><td>  21      </td><td>0.32302965</td></tr>\n",
       "\t<tr><td>Viet Nam  </td><td>15-39     </td><td>31967459  </td><td>1282      </td><td>0.35388750</td></tr>\n",
       "\t<tr><td>Viet Nam  </td><td>40-44     </td><td> 6292329  </td><td>1319      </td><td>0.06965760</td></tr>\n",
       "\t<tr><td>Viet Nam  </td><td>45-49     </td><td> 5765012  </td><td>2243      </td><td>0.06382008</td></tr>\n",
       "\t<tr><td>Viet Nam  </td><td>50-54     </td><td> 5102671  </td><td>2986      </td><td>0.05648780</td></tr>\n",
       "\t<tr><td>Viet Nam  </td><td>55-59     </td><td> 4005732  </td><td>3312      </td><td>0.04434442</td></tr>\n",
       "</tbody>\n",
       "</table>\n"
      ],
      "text/latex": [
       "\\begin{tabular}{r|lllll}\n",
       " Country & AgeClass & Population & Cases & Proportion\\\\\n",
       "\\hline\n",
       "\t Viet Nam   & 0-14       & 29180000   &   21       & 0.32302965\\\\\n",
       "\t Viet Nam   & 15-39      & 31967459   & 1282       & 0.35388750\\\\\n",
       "\t Viet Nam   & 40-44      &  6292329   & 1319       & 0.06965760\\\\\n",
       "\t Viet Nam   & 45-49      &  5765012   & 2243       & 0.06382008\\\\\n",
       "\t Viet Nam   & 50-54      &  5102671   & 2986       & 0.05648780\\\\\n",
       "\t Viet Nam   & 55-59      &  4005732   & 3312       & 0.04434442\\\\\n",
       "\\end{tabular}\n"
      ],
      "text/markdown": [
       "\n",
       "| Country | AgeClass | Population | Cases | Proportion |\n",
       "|---|---|---|---|---|\n",
       "| Viet Nam   | 0-14       | 29180000   |   21       | 0.32302965 |\n",
       "| Viet Nam   | 15-39      | 31967459   | 1282       | 0.35388750 |\n",
       "| Viet Nam   | 40-44      |  6292329   | 1319       | 0.06965760 |\n",
       "| Viet Nam   | 45-49      |  5765012   | 2243       | 0.06382008 |\n",
       "| Viet Nam   | 50-54      |  5102671   | 2986       | 0.05648780 |\n",
       "| Viet Nam   | 55-59      |  4005732   | 3312       | 0.04434442 |\n",
       "\n"
      ],
      "text/plain": [
       "  Country  AgeClass Population Cases Proportion\n",
       "1 Viet Nam 0-14     29180000     21  0.32302965\n",
       "2 Viet Nam 15-39    31967459   1282  0.35388750\n",
       "3 Viet Nam 40-44     6292329   1319  0.06965760\n",
       "4 Viet Nam 45-49     5765012   2243  0.06382008\n",
       "5 Viet Nam 50-54     5102671   2986  0.05648780\n",
       "6 Viet Nam 55-59     4005732   3312  0.04434442"
      ]
     },
     "metadata": {},
     "output_type": "display_data"
    }
   ],
   "source": [
    "# CREATE A NEW COLUMN\n",
    "lc[, \"Proportion\"] <- NA \n",
    "\n",
    "# GET THE COLUMN NAMES\n",
    "country_names = unique(lc$Country)\n",
    "\n",
    "\n",
    "for (name in country_names) {\n",
    "  name <- toString(name)\n",
    "  country <- name\n",
    "  country_population <- sum(lc$Population[lc$Country == country])\n",
    "  \n",
    "  lc$Proportion[lc$Country == country] <- lc$Population[lc$Country == country] / country_population\n",
    "}\n",
    "head(lc)"
   ]
  },
  {
   "cell_type": "code",
   "execution_count": 52,
   "metadata": {},
   "outputs": [
    {
     "data": {
      "image/png": "[encoded data removed]",
      "text/plain": [
       "Plot with title \"Age Proportion in Country: Ethiopia\""
      ]
     },
     "metadata": {},
     "output_type": "display_data"
    }
   ],
   "source": [
    "par(mfrow = c(4, 2)) \n",
    "\n",
    "for (name in country_names) {\n",
    "  name <- toString(name)\n",
    "  barplot(lc$Proportion[lc$Country == name],\n",
    "          names.arg = lc$AgeClass[lc$Country == name],\n",
    "          main = paste(\"Age Proportion in Country:\", name),\n",
    "          ylab = \"Proportion Per Age Group\",\n",
    "          ylim = c(0.00, 0.50),\n",
    "          las = 2)\n",
    "}  \n",
    "par(mfrow = c(1, 1)) "
   ]
  },
  {
   "cell_type": "code",
   "execution_count": 36,
   "metadata": {},
   "outputs": [
    {
     "data": {
      "image/png": "[encoded data removed]",
      "text/plain": [
       "Plot with title \"UK Age Distribution\""
      ]
     },
     "metadata": {},
     "output_type": "display_data"
    }
   ],
   "source": [
    "uk_total_population <- sum(uk$Population)\n",
    "\n",
    "barplot(uk$Population / uk_total_population,\n",
    "        names.arg = uk$AgeClass,\n",
    "        main = \"UK Age Distribution\",\n",
    "        ylab = \"Relative population\",\n",
    "        col=\"darkorchid3\",\n",
    "        las = 2)\n",
    "grid()"
   ]
  },
  {
   "cell_type": "markdown",
   "metadata": {},
   "source": [
    "## Step 4: Standardize the age differences to better compare between the different countries\n",
    "\n",
    "Age structure differs among countries, with a high percentage of older people in high income countries such as the UK and a very young population in countries like Ethiopia or even the Philippines.\n",
    "\n",
    "You can compare the age structure of all countries in the world at https://www.populationpyramid.net/world/2012. In many countries, the population is aging while birth rates are falling. So it might be that some of the difference in total lung cancer incidence rates across countries is due to their different underlying demographic structure.\n",
    "\n",
    "Ideally we would compute a “corrected” or “age-standardized” incidence rate that accounts for these age-specific differences in countries’ demographic structure. We’re going to use the UK as the “standard” population because it has the highest crude lung cancer incidence rate, at least for these 8 countries considered. Alternatively, if we had the data, we could use the 2012 World population for standardization."
   ]
  },
  {
   "cell_type": "markdown",
   "metadata": {},
   "source": [
    "Let’s compare two hypothetical countries A and B.\n",
    "\n",
    "Suppose there were only two age groups and\n",
    "\n",
    "- the incidence rates were\n",
    "- low for the young group,\n",
    "- high for the old group, but\n",
    "- identical for both age groups in country A and country B.\n",
    "\n",
    "If A has a higher proportion of elderly, A will have a higher overall incidence rate.\n",
    "\n",
    "But is it a “fair” comparison between A and B?"
   ]
  },
  {
   "cell_type": "markdown",
   "metadata": {},
   "source": [
    "Let's try to solve this.\n"
   ]
  },
  {
   "cell_type": "markdown",
   "metadata": {},
   "source": [
    "## Step 5: Append a column Population_UK to the Lung Cancer data frame "
   ]
  },
  {
   "cell_type": "code",
   "execution_count": 68,
   "metadata": {},
   "outputs": [],
   "source": [
    "uk_population <- lc$Population[lc$Country == \"UK\"]\n",
    "\n",
    "# Allows for the population of UK in that age group to match the age group population of the other country population respectively\n",
    "\n",
    "lc$Population_UK <- uk_population"
   ]
  },
  {
   "cell_type": "markdown",
   "metadata": {},
   "source": [
    "## Step 6: Append another column Cases_if_UK that contains the hypothetical number of cases if the country in the corresponding row had the population of the UK in this age group."
   ]
  },
  {
   "cell_type": "code",
   "execution_count": 78,
   "metadata": {},
   "outputs": [
    {
     "data": {
      "text/html": [
       "<table>\n",
       "<thead><tr><th scope=col>Country</th><th scope=col>AgeClass</th><th scope=col>Population</th><th scope=col>Cases</th><th scope=col>Proportion</th><th scope=col>Population_UK</th><th scope=col>Cases_if_UK</th></tr></thead>\n",
       "<tbody>\n",
       "\t<tr><td>Viet Nam   </td><td>0-14       </td><td>29180000   </td><td>  21       </td><td>0.32302965 </td><td>11427668   </td><td>   8.224161</td></tr>\n",
       "\t<tr><td>Viet Nam   </td><td>15-39      </td><td>31967459   </td><td>1282       </td><td>0.35388750 </td><td>20700000   </td><td> 830.137922</td></tr>\n",
       "\t<tr><td>Viet Nam   </td><td>40-44      </td><td> 6292329   </td><td>1319       </td><td>0.06965760 </td><td> 4519231   </td><td> 947.322635</td></tr>\n",
       "\t<tr><td>Viet Nam   </td><td>45-49      </td><td> 5765012   </td><td>2243       </td><td>0.06382008 </td><td> 4652439   </td><td>1810.129914</td></tr>\n",
       "\t<tr><td>Viet Nam   </td><td>50-54      </td><td> 5102671   </td><td>2986       </td><td>0.05648780 </td><td> 4201613   </td><td>2458.715527</td></tr>\n",
       "\t<tr><td>Viet Nam   </td><td>55-59      </td><td> 4005732   </td><td>3312       </td><td>0.04434442 </td><td> 3637701   </td><td>3007.706385</td></tr>\n",
       "\t<tr><td>Viet Nam   </td><td>60-64      </td><td> 2577193   </td><td>2667       </td><td>0.02853015 </td><td> 3685606   </td><td>3814.037677</td></tr>\n",
       "\t<tr><td>Viet Nam   </td><td>65-69      </td><td> 1654129   </td><td>2038       </td><td>0.01831161 </td><td> 3219090   </td><td>3966.138929</td></tr>\n",
       "\t<tr><td>Viet Nam   </td><td>70-74      </td><td> 1388447   </td><td>2031       </td><td>0.01537044 </td><td> 2516451   </td><td>3681.027782</td></tr>\n",
       "\t<tr><td>Viet Nam   </td><td>75+        </td><td> 2399292   </td><td>3966       </td><td>0.02656074 </td><td> 5013201   </td><td>8286.759246</td></tr>\n",
       "</tbody>\n",
       "</table>\n"
      ],
      "text/latex": [
       "\\begin{tabular}{r|lllllll}\n",
       " Country & AgeClass & Population & Cases & Proportion & Population\\_UK & Cases\\_if\\_UK\\\\\n",
       "\\hline\n",
       "\t Viet Nam    & 0-14        & 29180000    &   21        & 0.32302965  & 11427668    &    8.224161\\\\\n",
       "\t Viet Nam    & 15-39       & 31967459    & 1282        & 0.35388750  & 20700000    &  830.137922\\\\\n",
       "\t Viet Nam    & 40-44       &  6292329    & 1319        & 0.06965760  &  4519231    &  947.322635\\\\\n",
       "\t Viet Nam    & 45-49       &  5765012    & 2243        & 0.06382008  &  4652439    & 1810.129914\\\\\n",
       "\t Viet Nam    & 50-54       &  5102671    & 2986        & 0.05648780  &  4201613    & 2458.715527\\\\\n",
       "\t Viet Nam    & 55-59       &  4005732    & 3312        & 0.04434442  &  3637701    & 3007.706385\\\\\n",
       "\t Viet Nam    & 60-64       &  2577193    & 2667        & 0.02853015  &  3685606    & 3814.037677\\\\\n",
       "\t Viet Nam    & 65-69       &  1654129    & 2038        & 0.01831161  &  3219090    & 3966.138929\\\\\n",
       "\t Viet Nam    & 70-74       &  1388447    & 2031        & 0.01537044  &  2516451    & 3681.027782\\\\\n",
       "\t Viet Nam    & 75+         &  2399292    & 3966        & 0.02656074  &  5013201    & 8286.759246\\\\\n",
       "\\end{tabular}\n"
      ],
      "text/markdown": [
       "\n",
       "| Country | AgeClass | Population | Cases | Proportion | Population_UK | Cases_if_UK |\n",
       "|---|---|---|---|---|---|---|\n",
       "| Viet Nam    | 0-14        | 29180000    |   21        | 0.32302965  | 11427668    |    8.224161 |\n",
       "| Viet Nam    | 15-39       | 31967459    | 1282        | 0.35388750  | 20700000    |  830.137922 |\n",
       "| Viet Nam    | 40-44       |  6292329    | 1319        | 0.06965760  |  4519231    |  947.322635 |\n",
       "| Viet Nam    | 45-49       |  5765012    | 2243        | 0.06382008  |  4652439    | 1810.129914 |\n",
       "| Viet Nam    | 50-54       |  5102671    | 2986        | 0.05648780  |  4201613    | 2458.715527 |\n",
       "| Viet Nam    | 55-59       |  4005732    | 3312        | 0.04434442  |  3637701    | 3007.706385 |\n",
       "| Viet Nam    | 60-64       |  2577193    | 2667        | 0.02853015  |  3685606    | 3814.037677 |\n",
       "| Viet Nam    | 65-69       |  1654129    | 2038        | 0.01831161  |  3219090    | 3966.138929 |\n",
       "| Viet Nam    | 70-74       |  1388447    | 2031        | 0.01537044  |  2516451    | 3681.027782 |\n",
       "| Viet Nam    | 75+         |  2399292    | 3966        | 0.02656074  |  5013201    | 8286.759246 |\n",
       "\n"
      ],
      "text/plain": [
       "   Country  AgeClass Population Cases Proportion Population_UK Cases_if_UK\n",
       "1  Viet Nam 0-14     29180000     21  0.32302965 11427668         8.224161\n",
       "2  Viet Nam 15-39    31967459   1282  0.35388750 20700000       830.137922\n",
       "3  Viet Nam 40-44     6292329   1319  0.06965760  4519231       947.322635\n",
       "4  Viet Nam 45-49     5765012   2243  0.06382008  4652439      1810.129914\n",
       "5  Viet Nam 50-54     5102671   2986  0.05648780  4201613      2458.715527\n",
       "6  Viet Nam 55-59     4005732   3312  0.04434442  3637701      3007.706385\n",
       "7  Viet Nam 60-64     2577193   2667  0.02853015  3685606      3814.037677\n",
       "8  Viet Nam 65-69     1654129   2038  0.01831161  3219090      3966.138929\n",
       "9  Viet Nam 70-74     1388447   2031  0.01537044  2516451      3681.027782\n",
       "10 Viet Nam 75+       2399292   3966  0.02656074  5013201      8286.759246"
      ]
     },
     "metadata": {},
     "output_type": "display_data"
    },
    {
     "data": {
      "text/html": [
       "<table>\n",
       "<thead><tr><th></th><th scope=col>Country</th><th scope=col>AgeClass</th><th scope=col>Population</th><th scope=col>Cases</th><th scope=col>Proportion</th><th scope=col>Population_UK</th><th scope=col>Cases_if_UK</th></tr></thead>\n",
       "<tbody>\n",
       "\t<tr><th scope=row>21</th><td>UK        </td><td>0-14      </td><td>11427668  </td><td>    3     </td><td>0.17975663</td><td>11427668  </td><td>    3     </td></tr>\n",
       "\t<tr><th scope=row>22</th><td>UK        </td><td>15-39     </td><td>20700000  </td><td>  207     </td><td>0.32560993</td><td>20700000  </td><td>  207     </td></tr>\n",
       "\t<tr><th scope=row>23</th><td>UK        </td><td>40-44     </td><td> 4519231  </td><td>  235     </td><td>0.07108727</td><td> 4519231  </td><td>  235     </td></tr>\n",
       "\t<tr><th scope=row>24</th><td>UK        </td><td>45-49     </td><td> 4652439  </td><td>  763     </td><td>0.07318262</td><td> 4652439  </td><td>  763     </td></tr>\n",
       "\t<tr><th scope=row>25</th><td>UK        </td><td>50-54     </td><td> 4201613  </td><td> 1563     </td><td>0.06609116</td><td> 4201613  </td><td> 1563     </td></tr>\n",
       "\t<tr><th scope=row>26</th><td>UK        </td><td>55-59     </td><td> 3637701  </td><td> 2721     </td><td>0.05722085</td><td> 3637701  </td><td> 2721     </td></tr>\n",
       "\t<tr><th scope=row>27</th><td>UK        </td><td>60-64     </td><td> 3685606  </td><td> 4865     </td><td>0.05797439</td><td> 3685606  </td><td> 4865     </td></tr>\n",
       "\t<tr><th scope=row>28</th><td>UK        </td><td>65-69     </td><td> 3219090  </td><td> 6509     </td><td>0.05063612</td><td> 3219090  </td><td> 6509     </td></tr>\n",
       "\t<tr><th scope=row>29</th><td>UK        </td><td>70-74     </td><td> 2516451  </td><td> 6807     </td><td>0.03958364</td><td> 2516451  </td><td> 6807     </td></tr>\n",
       "\t<tr><th scope=row>30</th><td>UK        </td><td>75+       </td><td> 5013201  </td><td>16709     </td><td>0.07885739</td><td> 5013201  </td><td>16709     </td></tr>\n",
       "</tbody>\n",
       "</table>\n"
      ],
      "text/latex": [
       "\\begin{tabular}{r|lllllll}\n",
       "  & Country & AgeClass & Population & Cases & Proportion & Population\\_UK & Cases\\_if\\_UK\\\\\n",
       "\\hline\n",
       "\t21 & UK         & 0-14       & 11427668   &     3      & 0.17975663 & 11427668   &     3     \\\\\n",
       "\t22 & UK         & 15-39      & 20700000   &   207      & 0.32560993 & 20700000   &   207     \\\\\n",
       "\t23 & UK         & 40-44      &  4519231   &   235      & 0.07108727 &  4519231   &   235     \\\\\n",
       "\t24 & UK         & 45-49      &  4652439   &   763      & 0.07318262 &  4652439   &   763     \\\\\n",
       "\t25 & UK         & 50-54      &  4201613   &  1563      & 0.06609116 &  4201613   &  1563     \\\\\n",
       "\t26 & UK         & 55-59      &  3637701   &  2721      & 0.05722085 &  3637701   &  2721     \\\\\n",
       "\t27 & UK         & 60-64      &  3685606   &  4865      & 0.05797439 &  3685606   &  4865     \\\\\n",
       "\t28 & UK         & 65-69      &  3219090   &  6509      & 0.05063612 &  3219090   &  6509     \\\\\n",
       "\t29 & UK         & 70-74      &  2516451   &  6807      & 0.03958364 &  2516451   &  6807     \\\\\n",
       "\t30 & UK         & 75+        &  5013201   & 16709      & 0.07885739 &  5013201   & 16709     \\\\\n",
       "\\end{tabular}\n"
      ],
      "text/markdown": [
       "\n",
       "| <!--/--> | Country | AgeClass | Population | Cases | Proportion | Population_UK | Cases_if_UK |\n",
       "|---|---|---|---|---|---|---|---|\n",
       "| 21 | UK         | 0-14       | 11427668   |     3      | 0.17975663 | 11427668   |     3      |\n",
       "| 22 | UK         | 15-39      | 20700000   |   207      | 0.32560993 | 20700000   |   207      |\n",
       "| 23 | UK         | 40-44      |  4519231   |   235      | 0.07108727 |  4519231   |   235      |\n",
       "| 24 | UK         | 45-49      |  4652439   |   763      | 0.07318262 |  4652439   |   763      |\n",
       "| 25 | UK         | 50-54      |  4201613   |  1563      | 0.06609116 |  4201613   |  1563      |\n",
       "| 26 | UK         | 55-59      |  3637701   |  2721      | 0.05722085 |  3637701   |  2721      |\n",
       "| 27 | UK         | 60-64      |  3685606   |  4865      | 0.05797439 |  3685606   |  4865      |\n",
       "| 28 | UK         | 65-69      |  3219090   |  6509      | 0.05063612 |  3219090   |  6509      |\n",
       "| 29 | UK         | 70-74      |  2516451   |  6807      | 0.03958364 |  2516451   |  6807      |\n",
       "| 30 | UK         | 75+        |  5013201   | 16709      | 0.07885739 |  5013201   | 16709      |\n",
       "\n"
      ],
      "text/plain": [
       "   Country AgeClass Population Cases Proportion Population_UK Cases_if_UK\n",
       "21 UK      0-14     11427668       3 0.17975663 11427668          3      \n",
       "22 UK      15-39    20700000     207 0.32560993 20700000        207      \n",
       "23 UK      40-44     4519231     235 0.07108727  4519231        235      \n",
       "24 UK      45-49     4652439     763 0.07318262  4652439        763      \n",
       "25 UK      50-54     4201613    1563 0.06609116  4201613       1563      \n",
       "26 UK      55-59     3637701    2721 0.05722085  3637701       2721      \n",
       "27 UK      60-64     3685606    4865 0.05797439  3685606       4865      \n",
       "28 UK      65-69     3219090    6509 0.05063612  3219090       6509      \n",
       "29 UK      70-74     2516451    6807 0.03958364  2516451       6807      \n",
       "30 UK      75+       5013201   16709 0.07885739  5013201      16709      "
      ]
     },
     "metadata": {},
     "output_type": "display_data"
    }
   ],
   "source": [
    "lc$Cases_if_UK <- (lc$Population_UK / lc$Population) * lc$Cases\n",
    "\n",
    "# Dividing by the population of UK with the population of host country at that age group MULTIPLIED by\n",
    "# number of cases in that country in that age group\n",
    "\n",
    "head(lc, 10)\n",
    "\n",
    "# Comparing with UK population by table\n",
    "\n",
    "lc[21:30,]"
   ]
  },
  {
   "cell_type": "markdown",
   "metadata": {},
   "source": [
    "## Step 7: Use the aggregate() function to calculate the total number of cases that the country would have if it had the population and age structure of the UK"
   ]
  },
  {
   "cell_type": "code",
   "execution_count": 81,
   "metadata": {},
   "outputs": [
    {
     "data": {
      "text/html": [
       "<table>\n",
       "<thead><tr><th scope=col>Country</th><th scope=col>Cases_if_UK</th></tr></thead>\n",
       "<tbody>\n",
       "\t<tr><td>Austria    </td><td>32421.764  </td></tr>\n",
       "\t<tr><td>China      </td><td>52470.825  </td></tr>\n",
       "\t<tr><td>Ethiopia   </td><td> 3256.207  </td></tr>\n",
       "\t<tr><td>Georgia    </td><td>17782.716  </td></tr>\n",
       "\t<tr><td>Philippines</td><td>23104.787  </td></tr>\n",
       "\t<tr><td>Singapore  </td><td>35290.753  </td></tr>\n",
       "\t<tr><td>UK         </td><td>40382.000  </td></tr>\n",
       "\t<tr><td>Viet Nam   </td><td>28810.200  </td></tr>\n",
       "</tbody>\n",
       "</table>\n"
      ],
      "text/latex": [
       "\\begin{tabular}{r|ll}\n",
       " Country & Cases\\_if\\_UK\\\\\n",
       "\\hline\n",
       "\t Austria     & 32421.764  \\\\\n",
       "\t China       & 52470.825  \\\\\n",
       "\t Ethiopia    &  3256.207  \\\\\n",
       "\t Georgia     & 17782.716  \\\\\n",
       "\t Philippines & 23104.787  \\\\\n",
       "\t Singapore   & 35290.753  \\\\\n",
       "\t UK          & 40382.000  \\\\\n",
       "\t Viet Nam    & 28810.200  \\\\\n",
       "\\end{tabular}\n"
      ],
      "text/markdown": [
       "\n",
       "| Country | Cases_if_UK |\n",
       "|---|---|\n",
       "| Austria     | 32421.764   |\n",
       "| China       | 52470.825   |\n",
       "| Ethiopia    |  3256.207   |\n",
       "| Georgia     | 17782.716   |\n",
       "| Philippines | 23104.787   |\n",
       "| Singapore   | 35290.753   |\n",
       "| UK          | 40382.000   |\n",
       "| Viet Nam    | 28810.200   |\n",
       "\n"
      ],
      "text/plain": [
       "  Country     Cases_if_UK\n",
       "1 Austria     32421.764  \n",
       "2 China       52470.825  \n",
       "3 Ethiopia     3256.207  \n",
       "4 Georgia     17782.716  \n",
       "5 Philippines 23104.787  \n",
       "6 Singapore   35290.753  \n",
       "7 UK          40382.000  \n",
       "8 Viet Nam    28810.200  "
      ]
     },
     "metadata": {},
     "output_type": "display_data"
    }
   ],
   "source": [
    "adjusted <- aggregate(Cases_if_UK ~ Country, data = lc, sum)\n",
    "adjusted"
   ]
  },
  {
   "cell_type": "markdown",
   "metadata": {},
   "source": [
    "## Step 8: Calculate the age-adjusted incidence rate"
   ]
  },
  {
   "cell_type": "code",
   "execution_count": 86,
   "metadata": {},
   "outputs": [
    {
     "data": {
      "text/html": [
       "<table>\n",
       "<thead><tr><th scope=col>Country</th><th scope=col>Cases_if_UK</th><th scope=col>Incidence</th></tr></thead>\n",
       "<tbody>\n",
       "\t<tr><td>Austria    </td><td>32421.764  </td><td>50.999267  </td></tr>\n",
       "\t<tr><td>China      </td><td>52470.825  </td><td>82.536335  </td></tr>\n",
       "\t<tr><td>Ethiopia   </td><td> 3256.207  </td><td> 5.121997  </td></tr>\n",
       "\t<tr><td>Georgia    </td><td>17782.716  </td><td>27.972121  </td></tr>\n",
       "\t<tr><td>Philippines</td><td>23104.787  </td><td>36.343711  </td></tr>\n",
       "\t<tr><td>Singapore  </td><td>35290.753  </td><td>55.512171  </td></tr>\n",
       "\t<tr><td>UK         </td><td>40382.000  </td><td>63.520677  </td></tr>\n",
       "\t<tr><td>Viet Nam   </td><td>28810.200  </td><td>45.318296  </td></tr>\n",
       "</tbody>\n",
       "</table>\n"
      ],
      "text/latex": [
       "\\begin{tabular}{r|lll}\n",
       " Country & Cases\\_if\\_UK & Incidence\\\\\n",
       "\\hline\n",
       "\t Austria     & 32421.764   & 50.999267  \\\\\n",
       "\t China       & 52470.825   & 82.536335  \\\\\n",
       "\t Ethiopia    &  3256.207   &  5.121997  \\\\\n",
       "\t Georgia     & 17782.716   & 27.972121  \\\\\n",
       "\t Philippines & 23104.787   & 36.343711  \\\\\n",
       "\t Singapore   & 35290.753   & 55.512171  \\\\\n",
       "\t UK          & 40382.000   & 63.520677  \\\\\n",
       "\t Viet Nam    & 28810.200   & 45.318296  \\\\\n",
       "\\end{tabular}\n"
      ],
      "text/markdown": [
       "\n",
       "| Country | Cases_if_UK | Incidence |\n",
       "|---|---|---|\n",
       "| Austria     | 32421.764   | 50.999267   |\n",
       "| China       | 52470.825   | 82.536335   |\n",
       "| Ethiopia    |  3256.207   |  5.121997   |\n",
       "| Georgia     | 17782.716   | 27.972121   |\n",
       "| Philippines | 23104.787   | 36.343711   |\n",
       "| Singapore   | 35290.753   | 55.512171   |\n",
       "| UK          | 40382.000   | 63.520677   |\n",
       "| Viet Nam    | 28810.200   | 45.318296   |\n",
       "\n"
      ],
      "text/plain": [
       "  Country     Cases_if_UK Incidence\n",
       "1 Austria     32421.764   50.999267\n",
       "2 China       52470.825   82.536335\n",
       "3 Ethiopia     3256.207    5.121997\n",
       "4 Georgia     17782.716   27.972121\n",
       "5 Philippines 23104.787   36.343711\n",
       "6 Singapore   35290.753   55.512171\n",
       "7 UK          40382.000   63.520677\n",
       "8 Viet Nam    28810.200   45.318296"
      ]
     },
     "metadata": {},
     "output_type": "display_data"
    }
   ],
   "source": [
    "adjusted$Incidence <- adjusted$Cases_if_UK / sum(uk_population) * 100000\n",
    "adjusted"
   ]
  },
  {
   "cell_type": "markdown",
   "metadata": {},
   "source": [
    "## Step 9: Make a bar chart of the age-adjusted incidence rate (one bar for each country)"
   ]
  },
  {
   "cell_type": "code",
   "execution_count": 85,
   "metadata": {},
   "outputs": [
    {
     "data": {
      "image/png": "[encoded data removed]",
      "text/plain": [
       "Plot with title \"Age-adjusted Lung Cancer Incidence\""
      ]
     },
     "metadata": {},
     "output_type": "display_data"
    }
   ],
   "source": [
    "barplot(adjusted$Incidence, \n",
    "        names.arg = adjusted$Country,\n",
    "        main = \"Age-adjusted Lung Cancer Incidence\", \n",
    "        ylab = \"Incidence rate per 100,000\",\n",
    "        col=\"tan2\", \n",
    "        las = 2)\n",
    "grid()"
   ]
  },
  {
   "cell_type": "markdown",
   "metadata": {},
   "source": [
    "## Step 10: Compare this plot with the bar chart for the overall (i.e. unadjusted) incidence rate that you made during the prep work for toady. Are there any noteworthy changes?"
   ]
  },
  {
   "cell_type": "code",
   "execution_count": 114,
   "metadata": {},
   "outputs": [
    {
     "data": {
      "image/png": "[encoded data removed]",
      "text/plain": [
       "Plot with title \"Age-adjusted Lung Cancer Incidence\""
      ]
     },
     "metadata": {},
     "output_type": "display_data"
    }
   ],
   "source": [
    "barplot(rbind(adjusted$Incidence, total$Incidence),\n",
    "        names.arg = adjusted$Country,\n",
    "        beside = TRUE,\n",
    "        main = \"Age-adjusted Lung Cancer Incidence\", \n",
    "        ylab = \"Incidence rate per 100,000\",\n",
    "        col= c(\"red\", \"lightblue\"), \n",
    "        las = 2)\n",
    "grid()\n",
    "\n",
    "legend(15, 82, \n",
    "       legend = c(\"Adjusted\", \"Non-Adjusted\"), \n",
    "       fill = c(\"red\", \"lightblue\"))"
   ]
  },
  {
   "cell_type": "markdown",
   "metadata": {},
   "source": [
    "## THANK YOU FOR VIEWING THIS NOTEBOOK :-)"
   ]
  }
 ],
 "metadata": {
  "kernelspec": {
   "display_name": "R",
   "language": "R",
   "name": "ir"
  },
  "language_info": {
   "codemirror_mode": "r",
   "file_extension": ".r",
   "mimetype": "text/x-r-source",
   "name": "R",
   "pygments_lexer": "r",
   "version": "3.6.1"
  }
 },
 "nbformat": 4,
 "nbformat_minor": 4
}
