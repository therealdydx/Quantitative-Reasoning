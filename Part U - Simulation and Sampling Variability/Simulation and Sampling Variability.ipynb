{
 "cells": [
  {
   "cell_type": "markdown",
   "metadata": {},
   "source": [
    "# Exercise 21 – Simulations and Sampling\n",
    "\n",
    "Notebook Written By: WDY (Yale-NUS '24) \n",
    "(Come say hi at https://www.linkedin.com/in/dys-profile/)\n",
    "\n",
    "### Introduction\n",
    "\n",
    "In a group of 367 students, we can be certain that at least 2 students share the same birthday. (Pigeon hole principle)\n",
    "\n",
    "How big is the chance that in a class of 10 students at least 2 share the same birthday?\n",
    "\n",
    "How about for class sizes of 20 or 40 students?\n",
    "\n",
    "To begin with, let’s assume that all 366 calendar days throughout a year are equally likely to be a birthday (even February 29 which we include here).\n"
   ]
  },
  {
   "cell_type": "markdown",
   "metadata": {},
   "source": [
    "### Step 1: Use R to randomly choose 1 class from this population and check whether in it at least 2 students share a birthday\n",
    "\n",
    "- Our universe of examples to consider are all possible classes with, say, 10 students.\n",
    "\n",
    "- Use R to randomly choose one class from this population and check whether in it at least 2 students share a birthday."
   ]
  },
  {
   "cell_type": "code",
   "execution_count": 1,
   "metadata": {},
   "outputs": [
    {
     "data": {
      "text/html": [
       "FALSE"
      ],
      "text/latex": [
       "FALSE"
      ],
      "text/markdown": [
       "FALSE"
      ],
      "text/plain": [
       "[1] FALSE"
      ]
     },
     "metadata": {},
     "output_type": "display_data"
    }
   ],
   "source": [
    "class_size <- 10\n",
    "\n",
    "same_pair <- 2\n",
    "\n",
    "class <- sample(1:365, size = class_size, replace = TRUE)\n",
    "\n",
    "max(table(class)) >= same_pair"
   ]
  },
  {
   "cell_type": "markdown",
   "metadata": {},
   "source": [
    "We are not interested in individual birthdays. This code results in either FALSE if there isn't a shared birthday, or TRUE if there is."
   ]
  },
  {
   "cell_type": "markdown",
   "metadata": {},
   "source": [
    "### Step 2: Simulating many classes\n",
    "\n",
    "Using the previous code, implement a for loop to count how many classes have at least 2 students who share a birthday if you randomly draw a sample of 10 classes from the population of all possible classes."
   ]
  },
  {
   "cell_type": "code",
   "execution_count": 7,
   "metadata": {},
   "outputs": [
    {
     "data": {
      "text/html": [
       "2"
      ],
      "text/latex": [
       "2"
      ],
      "text/markdown": [
       "2"
      ],
      "text/plain": [
       "[1] 2"
      ]
     },
     "metadata": {},
     "output_type": "display_data"
    },
    {
     "data": {
      "text/html": [
       "0.2"
      ],
      "text/latex": [
       "0.2"
      ],
      "text/markdown": [
       "0.2"
      ],
      "text/plain": [
       "[1] 0.2"
      ]
     },
     "metadata": {},
     "output_type": "display_data"
    },
    {
     "data": {
      "text/html": [
       "10"
      ],
      "text/latex": [
       "10"
      ],
      "text/markdown": [
       "10"
      ],
      "text/plain": [
       "[1] 10"
      ]
     },
     "metadata": {},
     "output_type": "display_data"
    },
    {
     "data": {
      "text/html": [
       "1"
      ],
      "text/latex": [
       "1"
      ],
      "text/markdown": [
       "1"
      ],
      "text/plain": [
       "[1] 1"
      ]
     },
     "metadata": {},
     "output_type": "display_data"
    }
   ],
   "source": [
    "nmbrHits <- 0\n",
    "\n",
    "class_size <- 10\n",
    "\n",
    "same_pair <- 2\n",
    "\n",
    "for (i in 1:10) {\n",
    "    \n",
    "    class <- sample(1:365, size = class_size, replace = TRUE)\n",
    "    result <- max(table(class)) >= same_pair\n",
    "    \n",
    "    if (result == TRUE) {\n",
    "        nmbrHits <- nmbrHits + 1\n",
    "    }\n",
    "    \n",
    "    # OR: nmbrHits <- nmbrHits + result\n",
    "}\n",
    "nmbrHits\n",
    "\n",
    "nmbrHits/10"
   ]
  },
  {
   "cell_type": "markdown",
   "metadata": {},
   "source": [
    "The probabilities change when the class size changes."
   ]
  },
  {
   "cell_type": "code",
   "execution_count": 8,
   "metadata": {},
   "outputs": [
    {
     "data": {
      "text/html": [
       "9"
      ],
      "text/latex": [
       "9"
      ],
      "text/markdown": [
       "9"
      ],
      "text/plain": [
       "[1] 9"
      ]
     },
     "metadata": {},
     "output_type": "display_data"
    },
    {
     "data": {
      "text/html": [
       "0.9"
      ],
      "text/latex": [
       "0.9"
      ],
      "text/markdown": [
       "0.9"
      ],
      "text/plain": [
       "[1] 0.9"
      ]
     },
     "metadata": {},
     "output_type": "display_data"
    }
   ],
   "source": [
    "nmbrHits <- 0\n",
    "\n",
    "class_size <- 40\n",
    "\n",
    "same_pair <- 2\n",
    "\n",
    "for (i in 1:10) {\n",
    "    \n",
    "    class <- sample(1:365, size = class_size, replace = TRUE)\n",
    "    result <- max(table(class)) >= same_pair\n",
    "    \n",
    "    if (result == TRUE) {\n",
    "        nmbrHits <- nmbrHits + 1\n",
    "    }\n",
    "    \n",
    "    # OR: nmbrHits <- nmbrHits + result\n",
    "}\n",
    "nmbrHits\n",
    "\n",
    "nmbrHits/10"
   ]
  },
  {
   "cell_type": "markdown",
   "metadata": {},
   "source": [
    "### Step 3: Estimate the probabilities that in a class of 50 and 100 students, at least 2 people share the same birthday\n",
    "\n",
    "It would already be much harder to find a formula for the probability of at least 3 students to share a birthday. In this case the complementary event splits up into a variety of subcases.\n",
    "\n",
    "On the other hand, we can readily use our simulation model:\n",
    "\n",
    "- Estimate the probabilites that in a class of 50 and 100 students at least 2, at least 3, and at least 4 students share a birthday."
   ]
  },
  {
   "cell_type": "code",
   "execution_count": 15,
   "metadata": {},
   "outputs": [
    {
     "data": {
      "text/html": [
       "10"
      ],
      "text/latex": [
       "10"
      ],
      "text/markdown": [
       "10"
      ],
      "text/plain": [
       "[1] 10"
      ]
     },
     "metadata": {},
     "output_type": "display_data"
    },
    {
     "data": {
      "text/html": [
       "1"
      ],
      "text/latex": [
       "1"
      ],
      "text/markdown": [
       "1"
      ],
      "text/plain": [
       "[1] 1"
      ]
     },
     "metadata": {},
     "output_type": "display_data"
    }
   ],
   "source": [
    "nmbrHits <- 0\n",
    "class_size <- 50\n",
    "same_pair <- 2\n",
    "\n",
    "for (i in 1:10) {\n",
    "    \n",
    "    class <- sample(1:365, size = class_size, replace = TRUE)\n",
    "    result <- max(table(class)) >= same_pair\n",
    "    \n",
    "    if (result == TRUE) {\n",
    "        nmbrHits <- nmbrHits + 1\n",
    "    }\n",
    "}\n",
    "nmbrHits\n",
    "nmbrHits/10"
   ]
  },
  {
   "cell_type": "code",
   "execution_count": 18,
   "metadata": {},
   "outputs": [
    {
     "data": {
      "text/html": [
       "3"
      ],
      "text/latex": [
       "3"
      ],
      "text/markdown": [
       "3"
      ],
      "text/plain": [
       "[1] 3"
      ]
     },
     "metadata": {},
     "output_type": "display_data"
    },
    {
     "data": {
      "text/html": [
       "0.3"
      ],
      "text/latex": [
       "0.3"
      ],
      "text/markdown": [
       "0.3"
      ],
      "text/plain": [
       "[1] 0.3"
      ]
     },
     "metadata": {},
     "output_type": "display_data"
    }
   ],
   "source": [
    "nmbrHits <- 0\n",
    "class_size <- 50\n",
    "same_pair <- 3\n",
    "\n",
    "for (i in 1:10) {\n",
    "    \n",
    "    class <- sample(1:365, size = class_size, replace = TRUE)\n",
    "    result <- max(table(class)) >= same_pair\n",
    "    \n",
    "    if (result == TRUE) {\n",
    "        nmbrHits <- nmbrHits + 1\n",
    "    }\n",
    "}\n",
    "nmbrHits\n",
    "nmbrHits/10"
   ]
  },
  {
   "cell_type": "code",
   "execution_count": 20,
   "metadata": {},
   "outputs": [
    {
     "data": {
      "text/html": [
       "0"
      ],
      "text/latex": [
       "0"
      ],
      "text/markdown": [
       "0"
      ],
      "text/plain": [
       "[1] 0"
      ]
     },
     "metadata": {},
     "output_type": "display_data"
    },
    {
     "data": {
      "text/html": [
       "0"
      ],
      "text/latex": [
       "0"
      ],
      "text/markdown": [
       "0"
      ],
      "text/plain": [
       "[1] 0"
      ]
     },
     "metadata": {},
     "output_type": "display_data"
    }
   ],
   "source": [
    "nmbrHits <- 0\n",
    "class_size <- 50\n",
    "same_pair <- 4\n",
    "\n",
    "for (i in 1:10) {\n",
    "    \n",
    "    class <- sample(1:365, size = class_size, replace = TRUE)\n",
    "    result <- max(table(class)) >= same_pair\n",
    "    \n",
    "    if (result == TRUE) {\n",
    "        nmbrHits <- nmbrHits + 1\n",
    "    }\n",
    "}\n",
    "nmbrHits\n",
    "nmbrHits/10"
   ]
  },
  {
   "cell_type": "markdown",
   "metadata": {},
   "source": [
    "Our simulation can easily be adapted to reflect the unequal distribution of birthdays in a certain country. The mathematics on the other hand would become enormously complex.\n",
    "\n",
    "What will happen if we use realistic assumptions for the occurences of birthdays on different calendar days? Would the results change a lot?\n",
    "\n",
    "The file EnglandWalesBdays.csv contains the total number of birthdays on each calendar day of 2016 in England and Wales. Use it to adapt your simulation by including a prob vector of length 366 in sample() to adjust the probabilities of each calendar day to be a birthday."
   ]
  },
  {
   "cell_type": "code",
   "execution_count": 26,
   "metadata": {},
   "outputs": [],
   "source": [
    "birthdays <- read.csv(\"C:/Users/Admin/OneDrive/Documents/Yale-NUS/Quantitative Reasoning/Quantitative Reasoning Repository/Exercise S - Simulation and Sampling Variability/EnglandWalesBirthdays.csv\")"
   ]
  },
  {
   "cell_type": "code",
   "execution_count": 27,
   "metadata": {},
   "outputs": [
    {
     "data": {
      "text/html": [
       "<table>\n",
       "<thead><tr><th scope=col>Date</th><th scope=col>X2016</th></tr></thead>\n",
       "<tbody>\n",
       "\t<tr><td>1-Jan</td><td>1653 </td></tr>\n",
       "\t<tr><td>2-Jan</td><td>1648 </td></tr>\n",
       "\t<tr><td>3-Jan</td><td>1570 </td></tr>\n",
       "\t<tr><td>4-Jan</td><td>2002 </td></tr>\n",
       "\t<tr><td>5-Jan</td><td>1982 </td></tr>\n",
       "\t<tr><td>6-Jan</td><td>2064 </td></tr>\n",
       "</tbody>\n",
       "</table>\n"
      ],
      "text/latex": [
       "\\begin{tabular}{r|ll}\n",
       " Date & X2016\\\\\n",
       "\\hline\n",
       "\t 1-Jan & 1653 \\\\\n",
       "\t 2-Jan & 1648 \\\\\n",
       "\t 3-Jan & 1570 \\\\\n",
       "\t 4-Jan & 2002 \\\\\n",
       "\t 5-Jan & 1982 \\\\\n",
       "\t 6-Jan & 2064 \\\\\n",
       "\\end{tabular}\n"
      ],
      "text/markdown": [
       "\n",
       "| Date | X2016 |\n",
       "|---|---|\n",
       "| 1-Jan | 1653  |\n",
       "| 2-Jan | 1648  |\n",
       "| 3-Jan | 1570  |\n",
       "| 4-Jan | 2002  |\n",
       "| 5-Jan | 1982  |\n",
       "| 6-Jan | 2064  |\n",
       "\n"
      ],
      "text/plain": [
       "  Date  X2016\n",
       "1 1-Jan 1653 \n",
       "2 2-Jan 1648 \n",
       "3 3-Jan 1570 \n",
       "4 4-Jan 2002 \n",
       "5 5-Jan 1982 \n",
       "6 6-Jan 2064 "
      ]
     },
     "metadata": {},
     "output_type": "display_data"
    }
   ],
   "source": [
    "head(birthdays)"
   ]
  },
  {
   "cell_type": "code",
   "execution_count": 29,
   "metadata": {},
   "outputs": [
    {
     "data": {
      "text/html": [
       "0.0055"
      ],
      "text/latex": [
       "0.0055"
      ],
      "text/markdown": [
       "0.0055"
      ],
      "text/plain": [
       "[1] 0.0055"
      ]
     },
     "metadata": {},
     "output_type": "display_data"
    }
   ],
   "source": [
    "nmbrHits <- 0\n",
    "class_size <- 50\n",
    "same_pair <- 4\n",
    "numTrials <- 10000\n",
    "\n",
    "for (i in 1:numTrials) {\n",
    "    \n",
    "    class <- sample(1:366, size = class_size, replace = TRUE, prob = birthdays$X2016)\n",
    "    result <- max(table(class)) >= same_pair\n",
    "    \n",
    "    if (result == TRUE) {\n",
    "        nmbrHits <- nmbrHits + 1\n",
    "    }\n",
    "}\n",
    "nmbrHits/numTrials"
   ]
  },
  {
   "cell_type": "markdown",
   "metadata": {},
   "source": [
    "It seems our toy model simulation was already a pretty good reflection of reality, in which birthdays are not distributed equally but nevertheless fairly evenly.\n",
    "\n",
    "While sometimes nuance is important, often simplifying assumptions are very reasonable."
   ]
  }
 ],
 "metadata": {
  "kernelspec": {
   "display_name": "R",
   "language": "R",
   "name": "ir"
  },
  "language_info": {
   "codemirror_mode": "r",
   "file_extension": ".r",
   "mimetype": "text/x-r-source",
   "name": "R",
   "pygments_lexer": "r",
   "version": "3.6.1"
  }
 },
 "nbformat": 4,
 "nbformat_minor": 4
}
