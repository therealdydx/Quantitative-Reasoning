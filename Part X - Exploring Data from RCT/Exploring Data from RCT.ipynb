{
 "cells": [
  {
   "cell_type": "markdown",
   "metadata": {},
   "source": [
    "# Exercise 24 – Exploring Sleep Deprivation\n",
    "\n",
    "\n",
    "Notebook Written By: WDY (Yale-NUS '24) (Come say hi at https://www.linkedin.com/in/dys-profile/)\n",
    "\n",
    "### Introduction\n",
    "\n",
    "Researchers from a sleep laboratory were interested in examining the effects of sleep deprivation on short-term memory. Short-term memory holds a limited amount of information for seconds to minutes.\n",
    "\n",
    "100 adults were randomly assigned to either the study group (n=50) or the control group (n=50). In the study group, participants were not permitted to sleep for 24 hours, whereas in the control group, participants slept normally (8 hours of sleep from 11:00 pm - 7:00 am).\n",
    "\n",
    "Individuals from both groups spent the 24 hours prior to testing (at 8:00 am) in the laboratory, where they were observed.\n",
    "\n",
    "Participants were given a short-term memory task, for which they had to…\n",
    "\n",
    "1. memorize a list of 20 words in 2 minutes,\n",
    "\n",
    "2. do math problems (a filler task) for 2 minutes, and then\n",
    "\n",
    "3. recall as many as they could in 2 minutes.\n",
    "\n",
    "The number of words they could recall accurately was the response variable.\n",
    "\n",
    "Additional information was collected about the participants. We'll consider participant age and sleep habits."
   ]
  },
  {
   "cell_type": "code",
   "execution_count": 1,
   "metadata": {},
   "outputs": [],
   "source": [
    "x <- read.csv(\"C:/Users/User/OneDrive/Documents/Yale-NUS/Quantitative Reasoning/Quantitative Reasoning Repository/Exercise V - Exploring data from RCTs/slpdata.csv\")"
   ]
  },
  {
   "cell_type": "code",
   "execution_count": 2,
   "metadata": {},
   "outputs": [
    {
     "name": "stdout",
     "output_type": "stream",
     "text": [
      "'data.frame':\t100 obs. of  5 variables:\n",
      " $ ppt      : int  1 2 3 4 5 6 7 8 9 10 ...\n",
      " $ condition: Factor w/ 2 levels \"control\",\"depriv\": 1 1 1 1 1 1 1 1 1 1 ...\n",
      " $ memory   : int  13 11 15 13 10 11 11 15 11 11 ...\n",
      " $ wk.slp   : int  6 8 9 5 5 5 7 5 4 7 ...\n",
      " $ age      : int  31 22 44 33 24 66 55 25 20 20 ...\n"
     ]
    }
   ],
   "source": [
    "str(x)"
   ]
  },
  {
   "cell_type": "code",
   "execution_count": 8,
   "metadata": {},
   "outputs": [
    {
     "data": {
      "text/html": [
       "<table>\n",
       "<thead><tr><th scope=col>ppt</th><th scope=col>condition</th><th scope=col>memory</th><th scope=col>wk.slp</th><th scope=col>age</th></tr></thead>\n",
       "<tbody>\n",
       "\t<tr><td>1      </td><td>control</td><td>13     </td><td>6      </td><td>31     </td></tr>\n",
       "\t<tr><td>2      </td><td>control</td><td>11     </td><td>8      </td><td>22     </td></tr>\n",
       "\t<tr><td>3      </td><td>control</td><td>15     </td><td>9      </td><td>44     </td></tr>\n",
       "\t<tr><td>4      </td><td>control</td><td>13     </td><td>5      </td><td>33     </td></tr>\n",
       "\t<tr><td>5      </td><td>control</td><td>10     </td><td>5      </td><td>24     </td></tr>\n",
       "\t<tr><td>6      </td><td>control</td><td>11     </td><td>5      </td><td>66     </td></tr>\n",
       "</tbody>\n",
       "</table>\n"
      ],
      "text/latex": [
       "\\begin{tabular}{r|lllll}\n",
       " ppt & condition & memory & wk.slp & age\\\\\n",
       "\\hline\n",
       "\t 1       & control & 13      & 6       & 31     \\\\\n",
       "\t 2       & control & 11      & 8       & 22     \\\\\n",
       "\t 3       & control & 15      & 9       & 44     \\\\\n",
       "\t 4       & control & 13      & 5       & 33     \\\\\n",
       "\t 5       & control & 10      & 5       & 24     \\\\\n",
       "\t 6       & control & 11      & 5       & 66     \\\\\n",
       "\\end{tabular}\n"
      ],
      "text/markdown": [
       "\n",
       "| ppt | condition | memory | wk.slp | age |\n",
       "|---|---|---|---|---|\n",
       "| 1       | control | 13      | 6       | 31      |\n",
       "| 2       | control | 11      | 8       | 22      |\n",
       "| 3       | control | 15      | 9       | 44      |\n",
       "| 4       | control | 13      | 5       | 33      |\n",
       "| 5       | control | 10      | 5       | 24      |\n",
       "| 6       | control | 11      | 5       | 66      |\n",
       "\n"
      ],
      "text/plain": [
       "  ppt condition memory wk.slp age\n",
       "1 1   control   13     6      31 \n",
       "2 2   control   11     8      22 \n",
       "3 3   control   15     9      44 \n",
       "4 4   control   13     5      33 \n",
       "5 5   control   10     5      24 \n",
       "6 6   control   11     5      66 "
      ]
     },
     "metadata": {},
     "output_type": "display_data"
    }
   ],
   "source": [
    "head(x)"
   ]
  },
  {
   "cell_type": "markdown",
   "metadata": {},
   "source": [
    "Visualize the effects of sleep deprivation on short-term memory using boxplots. What do you observe?\n",
    "\n",
    "Compare the mean number of words recalled in each group. What do you observe?\n",
    "\n",
    "What interim conclusion might you draw?"
   ]
  },
  {
   "cell_type": "markdown",
   "metadata": {},
   "source": [
    "### Step 1: Visualize the effects of sleep deprivation on short-term memory using boxplots"
   ]
  },
  {
   "cell_type": "code",
   "execution_count": 4,
   "metadata": {},
   "outputs": [
    {
     "data": {
      "image/png": "[encoded data removed]",
      "text/plain": [
       "Plot with title \"Effects of sleep deprivation on memory\""
      ]
     },
     "metadata": {},
     "output_type": "display_data"
    }
   ],
   "source": [
    "boxplot(memory ~ condition,\n",
    "        data = x,\n",
    "        ylab = \"memory (number of items recalled)\",\n",
    "        main = \"Effects of sleep deprivation on memory\")"
   ]
  },
  {
   "cell_type": "code",
   "execution_count": 5,
   "metadata": {},
   "outputs": [
    {
     "data": {
      "text/html": [
       "<table>\n",
       "<thead><tr><th scope=col>condition</th><th scope=col>memory</th></tr></thead>\n",
       "<tbody>\n",
       "\t<tr><td>control</td><td>11.98  </td></tr>\n",
       "\t<tr><td>depriv </td><td> 7.60  </td></tr>\n",
       "</tbody>\n",
       "</table>\n"
      ],
      "text/latex": [
       "\\begin{tabular}{r|ll}\n",
       " condition & memory\\\\\n",
       "\\hline\n",
       "\t control & 11.98  \\\\\n",
       "\t depriv  &  7.60  \\\\\n",
       "\\end{tabular}\n"
      ],
      "text/markdown": [
       "\n",
       "| condition | memory |\n",
       "|---|---|\n",
       "| control | 11.98   |\n",
       "| depriv  |  7.60   |\n",
       "\n"
      ],
      "text/plain": [
       "  condition memory\n",
       "1 control   11.98 \n",
       "2 depriv     7.60 "
      ]
     },
     "metadata": {},
     "output_type": "display_data"
    }
   ],
   "source": [
    "aggregate(memory ~ condition, data = x, FUN = mean)"
   ]
  },
  {
   "cell_type": "markdown",
   "metadata": {},
   "source": [
    "Sleep deprivation impairs short-term memory. In this experiment, participants in the study group remembered 4.38 words fewer than those in the control group. That's a reduction of about one third.\n",
    "\n",
    "As we saw on the boxplots, there is a fairly large spread of scores in both groups. But the difference between the group medians (or means) is still clear."
   ]
  },
  {
   "cell_type": "markdown",
   "metadata": {},
   "source": [
    "### Potential confounds\n",
    "\n",
    "Recall that a confounding variable is one that causes or prevents the outcome of interest (for example, memory problems), other than the variable of interest (for example, sleep deprivation)."
   ]
  },
  {
   "cell_type": "markdown",
   "metadata": {},
   "source": [
    "Some confounds are hard to remove entirely. For example:\n",
    "\n",
    "- Participants will know whether they have been deprived of sleep.\n",
    "\n",
    "- Sleep-deprived participants will do things (read, play games, etc.) instead of sleeping.\n",
    "\n",
    "- Control participants may have trouble sleeping in the lab.\n",
    "\n",
    "But for many potential confounds (such as caffeine intake or baseline memory ability), random assignment with a sufficient sample size reduces the problem. Potential confounding variables are spread randomly across our groups."
   ]
  },
  {
   "cell_type": "markdown",
   "metadata": {},
   "source": [
    "### Potential confounds: Checking sleep habits\n",
    "\n",
    "Recall that we have data for each participant's average hours of sleep during the week before the experiment.\n",
    "\n",
    "- Examine if there are any differences in wk.slp across the groups.\n",
    "\n",
    "\n",
    "- What do you observe?\n",
    "\n",
    "\n",
    "- Consider a hypothetical situation. What if participants in the control group had longer hours of wk.slp compared to those in the study group? How might that situation affect our conclusions about the effect of sleep deprivation?"
   ]
  },
  {
   "cell_type": "markdown",
   "metadata": {},
   "source": [
    "### Step 2: Checking sleep habits of group by week"
   ]
  },
  {
   "cell_type": "code",
   "execution_count": 6,
   "metadata": {},
   "outputs": [
    {
     "data": {
      "image/png": "[encoded data removed]",
      "text/plain": [
       "Plot with title \"Sleep habits by group\""
      ]
     },
     "metadata": {},
     "output_type": "display_data"
    }
   ],
   "source": [
    "boxplot(wk.slp ~ condition, data = x,\n",
    "        ylab = \"Average hours of sleep (wk.slp)\",\n",
    "        main = \"Sleep habits by group\")"
   ]
  },
  {
   "cell_type": "markdown",
   "metadata": {},
   "source": [
    "Each participant's age was also measured.\n",
    "\n",
    "- Examine if there are any differences in age across the groups.\n",
    "\n",
    "\n",
    "- What do you observe?\n",
    "\n",
    "\n",
    "- Consider a hypothetical situation. What if participants in the control group were older compared to those in the study group? How might that situation affect our conclusions about the effect of sleep deprivation?"
   ]
  },
  {
   "cell_type": "markdown",
   "metadata": {},
   "source": [
    "### Step 3: Check the differences in age between the 2 groups"
   ]
  },
  {
   "cell_type": "code",
   "execution_count": 9,
   "metadata": {},
   "outputs": [
    {
     "data": {
      "image/png": "[encoded data removed]",
      "text/plain": [
       "Plot with title \"Age by group\""
      ]
     },
     "metadata": {},
     "output_type": "display_data"
    }
   ],
   "source": [
    "boxplot(age ~ condition, data = x,\n",
    "        ylab = \"Participant age (years)\",\n",
    "        main = \"Age by group\")"
   ]
  },
  {
   "cell_type": "markdown",
   "metadata": {},
   "source": [
    "It's good that age didn't differ by group. Short-term memory performance declines (gracefully) with age.\n",
    "\n",
    "Can we see such effects in our sample?\n",
    "\n",
    "And does sleep deprivation affect the relationship?"
   ]
  },
  {
   "cell_type": "markdown",
   "metadata": {},
   "source": [
    "### Step 4: Create a scatterplot of memory as a function of age for control group\n",
    "\n",
    "- Create a scatterplot of memory as a function of age.\n",
    "\n",
    "- Perform a linear regression analysis on the same. What do the slopes mean?\n",
    "\n",
    "- Add the regression line to the plot."
   ]
  },
  {
   "cell_type": "code",
   "execution_count": 10,
   "metadata": {},
   "outputs": [
    {
     "data": {
      "text/plain": [
       "\n",
       "Call:\n",
       "lm(formula = memory ~ age, data = control)\n",
       "\n",
       "Coefficients:\n",
       "(Intercept)          age  \n",
       "   14.24206     -0.06838  \n"
      ]
     },
     "metadata": {},
     "output_type": "display_data"
    }
   ],
   "source": [
    "control <- x[(x$condition == \"control\"), ]\n",
    "\n",
    "reg.control <- lm(memory ~ age, data = control)\n",
    "reg.control\n",
    "\n",
    "# Maximum by regression line is 14.24\n",
    "# Drops by 0.06 words per age"
   ]
  },
  {
   "cell_type": "code",
   "execution_count": 11,
   "metadata": {},
   "outputs": [
    {
     "data": {
      "image/png": "[encoded data removed]",
      "text/plain": [
       "Plot with title \"relationship between age and memory for control group\""
      ]
     },
     "metadata": {},
     "output_type": "display_data"
    }
   ],
   "source": [
    "# PLOT SCATTER PLOT OF MEMORY OF CONTROL GROUP\n",
    "plot(memory ~ age, data = control,\n",
    "     xlab = \"age\",\n",
    "     ylab = \"memory\",\n",
    "     main = \"relationship between age and memory for control group\")\n",
    "\n",
    "# ADD A REGRESSION LINE TO THE PLOT\n",
    "abline(reg.control, col = \"blue\", lwd = 3)"
   ]
  },
  {
   "cell_type": "markdown",
   "metadata": {},
   "source": [
    "### Step 5: Compute the correlation and R-squared\n",
    "\n",
    "- Compute the correlation and R-squared. What do they mean?"
   ]
  },
  {
   "cell_type": "code",
   "execution_count": 13,
   "metadata": {},
   "outputs": [
    {
     "data": {
      "text/html": [
       "-0.369138240716254"
      ],
      "text/latex": [
       "-0.369138240716254"
      ],
      "text/markdown": [
       "-0.369138240716254"
      ],
      "text/plain": [
       "[1] -0.3691382"
      ]
     },
     "metadata": {},
     "output_type": "display_data"
    }
   ],
   "source": [
    "# CORRELATION\n",
    "cor(control$memory, control$age)"
   ]
  },
  {
   "cell_type": "code",
   "execution_count": 14,
   "metadata": {},
   "outputs": [
    {
     "data": {
      "text/html": [
       "0.136263040759091"
      ],
      "text/latex": [
       "0.136263040759091"
      ],
      "text/markdown": [
       "0.136263040759091"
      ],
      "text/plain": [
       "[1] 0.136263"
      ]
     },
     "metadata": {},
     "output_type": "display_data"
    }
   ],
   "source": [
    "# R-SQUARED\n",
    "cor(control$memory, control$age)^2"
   ]
  },
  {
   "cell_type": "markdown",
   "metadata": {},
   "source": [
    "### Step 6: Create a scatter plot of deprived students"
   ]
  },
  {
   "cell_type": "code",
   "execution_count": 15,
   "metadata": {},
   "outputs": [
    {
     "data": {
      "text/plain": [
       "\n",
       "Call:\n",
       "lm(formula = memory ~ age, data = depriv)\n",
       "\n",
       "Coefficients:\n",
       "(Intercept)          age  \n",
       "    12.0019      -0.1286  \n"
      ]
     },
     "metadata": {},
     "output_type": "display_data"
    }
   ],
   "source": [
    "depriv <- x[(x$condition == \"depriv\"), ]\n",
    "\n",
    "reg.depriv <- lm(memory ~ age, data = depriv)\n",
    "reg.depriv\n",
    "\n",
    "# Maximum by regression line is 12.0019\n",
    "# Drops by 0.1286 words per age"
   ]
  },
  {
   "cell_type": "code",
   "execution_count": 16,
   "metadata": {},
   "outputs": [
    {
     "data": {
      "image/png": "[encoded data removed]",
      "text/plain": [
       "Plot with title \"relationship between age and memory for sleep deprivation group\""
      ]
     },
     "metadata": {},
     "output_type": "display_data"
    }
   ],
   "source": [
    "plot(memory ~ age, data = depriv,\n",
    "     xlab = \"age\",\n",
    "     ylab = \"memory\",\n",
    "     main = \"relationship between age and memory for sleep deprivation group\")\n",
    "\n",
    "abline(reg.depriv, col = \"red\", lwd = 3)"
   ]
  },
  {
   "cell_type": "markdown",
   "metadata": {},
   "source": [
    "### Step 7: Compute the correlation and R-Squared"
   ]
  },
  {
   "cell_type": "code",
   "execution_count": 17,
   "metadata": {},
   "outputs": [
    {
     "data": {
      "text/html": [
       "-0.539446684940785"
      ],
      "text/latex": [
       "-0.539446684940785"
      ],
      "text/markdown": [
       "-0.539446684940785"
      ],
      "text/plain": [
       "[1] -0.5394467"
      ]
     },
     "metadata": {},
     "output_type": "display_data"
    }
   ],
   "source": [
    "# CORRELATION\n",
    "cor(depriv$memory, depriv$age)   "
   ]
  },
  {
   "cell_type": "code",
   "execution_count": 18,
   "metadata": {},
   "outputs": [
    {
     "data": {
      "text/html": [
       "0.291002725893602"
      ],
      "text/latex": [
       "0.291002725893602"
      ],
      "text/markdown": [
       "0.291002725893602"
      ],
      "text/plain": [
       "[1] 0.2910027"
      ]
     },
     "metadata": {},
     "output_type": "display_data"
    }
   ],
   "source": [
    "# R-SQUARED\n",
    "cor(depriv$memory, depriv$age)^2 "
   ]
  },
  {
   "cell_type": "markdown",
   "metadata": {},
   "source": [
    "To better illustrate the group differences for the relationship between age and short-term memory, create a single plot with the data points and regression lines for each group.\n",
    "\n",
    "What conclusions do you draw?"
   ]
  },
  {
   "cell_type": "markdown",
   "metadata": {},
   "source": [
    "### Step 8: Create a scatter plot of both data points of both groups"
   ]
  },
  {
   "cell_type": "code",
   "execution_count": 19,
   "metadata": {},
   "outputs": [
    {
     "data": {
      "image/png": "[encoded data removed]",
      "text/plain": [
       "Plot with title \"relationship between age and memory\""
      ]
     },
     "metadata": {},
     "output_type": "display_data"
    }
   ],
   "source": [
    "# PLOT THE CONTROL DATASET\n",
    "plot(memory ~ age, \n",
    "     data = control,\n",
    "     col = \"blue\",\n",
    "     xlab = \"age\",\n",
    "     ylab = \"memory\",\n",
    "     main = \"relationship between age and memory\",\n",
    "     ylim = c(0, 17))\n",
    "\n",
    "# PLOT THE DEPRIVED DATASET\n",
    "points(memory ~ age,\n",
    "       data = depriv,\n",
    "       col = \"red\")\n",
    "\n",
    "# CREATE A REGRESSION LINE OF THE CONTROL DATASET\n",
    "abline(reg.control, col = \"blue\", lwd = 3)\n",
    "\n",
    "# CREATE A REGRESSION LINE OF THE DEPRIVED DATASET\n",
    "abline(reg.depriv, col = \"red\", lwd = 3)"
   ]
  },
  {
   "cell_type": "markdown",
   "metadata": {},
   "source": [
    "### Conclusion\n",
    "\n",
    "24 hours of sleep deprivation caused poorer short-term memory performance compared to a night of normal sleep.\n",
    "\n",
    "Age is associated with declining short-term memory performance. This conclusion was possible because correlation analyses can often be performed within experiments.\n",
    "\n",
    "The negative slope of short-term memory performance as a function of age appeared to be steeper during sleep deprivation. That is, sleep deprivation may have made age-related decline more apparent and more severe.\n",
    "\n",
    "Age and sleep deprivation interact. That is, their combination is different from either effect alone. Most effects have multiple causes! Subsequent courses explore this idea in detail."
   ]
  }
 ],
 "metadata": {
  "kernelspec": {
   "display_name": "R",
   "language": "R",
   "name": "ir"
  },
  "language_info": {
   "codemirror_mode": "r",
   "file_extension": ".r",
   "mimetype": "text/x-r-source",
   "name": "R",
   "pygments_lexer": "r",
   "version": "3.6.1"
  }
 },
 "nbformat": 4,
 "nbformat_minor": 4
}
