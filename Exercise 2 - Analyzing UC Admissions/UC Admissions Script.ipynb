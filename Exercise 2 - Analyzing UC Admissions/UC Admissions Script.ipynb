{
 "cells": [
  {
   "cell_type": "markdown",
   "metadata": {},
   "source": [
    "# Exercise 2 – Analysis of UC Admissions\n",
    "\n",
    "Notebook Written By: WDY (Yale-NUS '24) \n",
    "(Come say hi at https://www.linkedin.com/in/dys-profile/)\n",
    "\n",
    "### Introduction\n",
    "\n",
    "We will be working with the dataset from UC Admissions. Let's read the data into the notebook first. Following that, let's do a quick look through of the dataset to find any interesting information."
   ]
  },
  {
   "cell_type": "code",
   "execution_count": 3,
   "metadata": {},
   "outputs": [],
   "source": [
    "x <- read.csv(\"C:/Users/Admin/OneDrive/Documents/Yale-NUS/Quantitative Reasoning/Quantitative Reasoning Repository/Exercise 2 - Analyzing UC Admissions/AdmissionsData.csv\")"
   ]
  },
  {
   "cell_type": "code",
   "execution_count": 5,
   "metadata": {},
   "outputs": [
    {
     "data": {
      "text/html": [
       "<ol class=list-inline>\n",
       "\t<li>4425</li>\n",
       "\t<li>3</li>\n",
       "</ol>\n"
      ],
      "text/latex": [
       "\\begin{enumerate*}\n",
       "\\item 4425\n",
       "\\item 3\n",
       "\\end{enumerate*}\n"
      ],
      "text/markdown": [
       "1. 4425\n",
       "2. 3\n",
       "\n",
       "\n"
      ],
      "text/plain": [
       "[1] 4425    3"
      ]
     },
     "metadata": {},
     "output_type": "display_data"
    },
    {
     "data": {
      "text/html": [
       "<table>\n",
       "<thead><tr><th scope=col>Department</th><th scope=col>Sex</th><th scope=col>Admitted</th></tr></thead>\n",
       "<tbody>\n",
       "\t<tr><td>Biology</td><td>M      </td><td>Yes    </td></tr>\n",
       "\t<tr><td>Biology</td><td>M      </td><td>Yes    </td></tr>\n",
       "\t<tr><td>Biology</td><td>M      </td><td>Yes    </td></tr>\n",
       "\t<tr><td>Biology</td><td>M      </td><td>Yes    </td></tr>\n",
       "\t<tr><td>Biology</td><td>M      </td><td>Yes    </td></tr>\n",
       "\t<tr><td>Biology</td><td>M      </td><td>Yes    </td></tr>\n",
       "</tbody>\n",
       "</table>\n"
      ],
      "text/latex": [
       "\\begin{tabular}{r|lll}\n",
       " Department & Sex & Admitted\\\\\n",
       "\\hline\n",
       "\t Biology & M       & Yes    \\\\\n",
       "\t Biology & M       & Yes    \\\\\n",
       "\t Biology & M       & Yes    \\\\\n",
       "\t Biology & M       & Yes    \\\\\n",
       "\t Biology & M       & Yes    \\\\\n",
       "\t Biology & M       & Yes    \\\\\n",
       "\\end{tabular}\n"
      ],
      "text/markdown": [
       "\n",
       "| Department | Sex | Admitted |\n",
       "|---|---|---|\n",
       "| Biology | M       | Yes     |\n",
       "| Biology | M       | Yes     |\n",
       "| Biology | M       | Yes     |\n",
       "| Biology | M       | Yes     |\n",
       "| Biology | M       | Yes     |\n",
       "| Biology | M       | Yes     |\n",
       "\n"
      ],
      "text/plain": [
       "  Department Sex Admitted\n",
       "1 Biology    M   Yes     \n",
       "2 Biology    M   Yes     \n",
       "3 Biology    M   Yes     \n",
       "4 Biology    M   Yes     \n",
       "5 Biology    M   Yes     \n",
       "6 Biology    M   Yes     "
      ]
     },
     "metadata": {},
     "output_type": "display_data"
    },
    {
     "name": "stdout",
     "output_type": "stream",
     "text": [
      "'data.frame':\t4425 obs. of  3 variables:\n",
      " $ Department: Factor w/ 6 levels \"Biology\",\"English\",..: 1 1 1 1 1 1 1 1 1 1 ...\n",
      " $ Sex       : Factor w/ 2 levels \"F\",\"M\": 2 2 2 2 2 2 2 2 2 2 ...\n",
      " $ Admitted  : Factor w/ 2 levels \"No\",\"Yes\": 2 2 2 2 2 2 2 2 2 2 ...\n"
     ]
    },
    {
     "data": {
      "text/html": [
       "<ol class=list-inline>\n",
       "\t<li>'Department'</li>\n",
       "\t<li>'Sex'</li>\n",
       "\t<li>'Admitted'</li>\n",
       "</ol>\n"
      ],
      "text/latex": [
       "\\begin{enumerate*}\n",
       "\\item 'Department'\n",
       "\\item 'Sex'\n",
       "\\item 'Admitted'\n",
       "\\end{enumerate*}\n"
      ],
      "text/markdown": [
       "1. 'Department'\n",
       "2. 'Sex'\n",
       "3. 'Admitted'\n",
       "\n",
       "\n"
      ],
      "text/plain": [
       "[1] \"Department\" \"Sex\"        \"Admitted\"  "
      ]
     },
     "metadata": {},
     "output_type": "display_data"
    }
   ],
   "source": [
    "# Find some patterns\n",
    "dim(x)\n",
    "head(x)\n",
    "str(x)\n",
    "names(x)"
   ]
  },
  {
   "cell_type": "markdown",
   "metadata": {},
   "source": [
    "## Step 1: What was the overall acceptance rate for male vs female applicants?"
   ]
  },
  {
   "cell_type": "code",
   "execution_count": 13,
   "metadata": {},
   "outputs": [
    {
     "name": "stdout",
     "output_type": "stream",
     "text": [
      "[1] \"percentage male out of ALL applicants: 26.9378531073446\"\n",
      "[1] \"percentage female out of ALL applicants: 12.5875706214689\"\n"
     ]
    }
   ],
   "source": [
    "# Calculate the total number of males that have been accepted\n",
    "\n",
    "acceptance_male_number <- sum(x$Sex == \"M\" & x$Admitted == \"Yes\", na.rm = TRUE)\n",
    "\n",
    "# Make sure that non binary genders are filtered and then calculate total\n",
    "acceptance_total <- sum(x$Sex == \"F\" | x$Sex == \"M\", na.rm = TRUE)\n",
    "\n",
    "# Find the overall percentage rate of males\n",
    "percentage_male <- acceptance_male_number / acceptance_total * 100\n",
    "print(paste(\"percentage male out of ALL applicants:\", percentage_male))\n",
    "\n",
    "# Calculate the total number of females that have been accepted\n",
    "acceptance_female_number <- sum(x$Sex == \"F\" & x$Admitted == \"Yes\", na.rm = TRUE)\n",
    "\n",
    "# Find the overall percentage rate of females\n",
    "percentage_female <- acceptance_female_number / acceptance_total * 100\n",
    "print(paste(\"percentage female out of ALL applicants:\", percentage_female))"
   ]
  },
  {
   "cell_type": "code",
   "execution_count": 15,
   "metadata": {},
   "outputs": [
    {
     "data": {
      "text/plain": [
       "   \n",
       "      No  Yes\n",
       "  F 1278  557\n",
       "  M 1398 1192"
      ]
     },
     "metadata": {},
     "output_type": "display_data"
    }
   ],
   "source": [
    "# ALTERNATIVELY, there is a simpler way to approach this question\n",
    "\n",
    "# Using a table, you can easily compare the differences\n",
    "\n",
    "table(x$Sex, x$Admitted)\n",
    "\n",
    "# From here. pluck the numbers as required."
   ]
  },
  {
   "cell_type": "markdown",
   "metadata": {},
   "source": [
    "We may be seeing some discrimination here against females, but more analysis is necessary to show causation rather than correlation."
   ]
  },
  {
   "cell_type": "markdown",
   "metadata": {},
   "source": [
    "## Step 2: Give your own take. Is there a significant difference or not?"
   ]
  },
  {
   "cell_type": "code",
   "execution_count": 16,
   "metadata": {},
   "outputs": [
    {
     "data": {
      "text/plain": [
       "\n",
       "   F    M \n",
       "1835 2590 "
      ]
     },
     "metadata": {},
     "output_type": "display_data"
    }
   ],
   "source": [
    "# There could be significant discrimination, but more evidence is necessary\n",
    "\n",
    "# It is important to note that there are 800 more male applicants than females\n",
    "\n",
    "# This means that results could potentially be skewed\n",
    "\n",
    "# The calculations for the total number of males and females is below.\n",
    "\n",
    "table(x$Sex)"
   ]
  },
  {
   "cell_type": "markdown",
   "metadata": {},
   "source": [
    "## Is there any particular department that seems especially problematic in terms of differential admission rates?\n",
    "\n",
    "First, find the male and female admission rates for each department."
   ]
  },
  {
   "cell_type": "code",
   "execution_count": 22,
   "metadata": {},
   "outputs": [
    {
     "data": {
      "text/plain": [
       "             \n",
       "                F   M\n",
       "  Biology     341 272\n",
       "  English     393 191\n",
       "  History     375 417\n",
       "  Mathematics 108 825\n",
       "  Philosophy   25 560\n",
       "  Psychology  593 325"
      ]
     },
     "metadata": {},
     "output_type": "display_data"
    }
   ],
   "source": [
    "#Create a table for all the students that were rejected\n",
    "\n",
    "x_table <- table(x$Department, x$Sex)\n",
    "x_table\n",
    "\n",
    "y <- x[x$Admitted == \"No\", ]"
   ]
  },
  {
   "cell_type": "code",
   "execution_count": 21,
   "metadata": {},
   "outputs": [
    {
     "data": {
      "text/plain": [
       "             \n",
       "                F   M\n",
       "  Biology     317 256\n",
       "  English     299 138\n",
       "  History     244 278\n",
       "  Mathematics  19 314\n",
       "  Philosophy    8 207\n",
       "  Psychology  391 205"
      ]
     },
     "metadata": {},
     "output_type": "display_data"
    }
   ],
   "source": [
    "# Create a table for all the students that were rejected\n",
    "\n",
    "y <- x[x$Admitted == \"No\", ]\n",
    "\n",
    "y_table <- table(y$Department, y$Sex)\n",
    "y_table"
   ]
  },
  {
   "cell_type": "code",
   "execution_count": 24,
   "metadata": {},
   "outputs": [
    {
     "data": {
      "text/html": [
       "<table>\n",
       "<thead><tr><th></th><th scope=col>F</th><th scope=col>M</th></tr></thead>\n",
       "<tbody>\n",
       "\t<tr><th scope=row>Biology</th><td>92.96188</td><td>94.11765</td></tr>\n",
       "\t<tr><th scope=row>English</th><td>76.08142</td><td>72.25131</td></tr>\n",
       "\t<tr><th scope=row>History</th><td>65.06667</td><td>66.66667</td></tr>\n",
       "\t<tr><th scope=row>Mathematics</th><td>17.59259</td><td>38.06061</td></tr>\n",
       "\t<tr><th scope=row>Philosophy</th><td>32.00000</td><td>36.96429</td></tr>\n",
       "\t<tr><th scope=row>Psychology</th><td>65.93592</td><td>63.07692</td></tr>\n",
       "</tbody>\n",
       "</table>\n"
      ],
      "text/latex": [
       "\\begin{tabular}{r|ll}\n",
       "  & F & M\\\\\n",
       "\\hline\n",
       "\tBiology & 92.96188 & 94.11765\\\\\n",
       "\tEnglish & 76.08142 & 72.25131\\\\\n",
       "\tHistory & 65.06667 & 66.66667\\\\\n",
       "\tMathematics & 17.59259 & 38.06061\\\\\n",
       "\tPhilosophy & 32.00000 & 36.96429\\\\\n",
       "\tPsychology & 65.93592 & 63.07692\\\\\n",
       "\\end{tabular}\n"
      ],
      "text/markdown": [
       "\n",
       "| <!--/--> | F | M |\n",
       "|---|---|---|\n",
       "| Biology | 92.96188 | 94.11765 |\n",
       "| English | 76.08142 | 72.25131 |\n",
       "| History | 65.06667 | 66.66667 |\n",
       "| Mathematics | 17.59259 | 38.06061 |\n",
       "| Philosophy | 32.00000 | 36.96429 |\n",
       "| Psychology | 65.93592 | 63.07692 |\n",
       "\n"
      ],
      "text/plain": [
       "            F        M       \n",
       "Biology     92.96188 94.11765\n",
       "English     76.08142 72.25131\n",
       "History     65.06667 66.66667\n",
       "Mathematics 17.59259 38.06061\n",
       "Philosophy  32.00000 36.96429\n",
       "Psychology  65.93592 63.07692"
      ]
     },
     "metadata": {},
     "output_type": "display_data"
    }
   ],
   "source": [
    "# Create an empty dataframe with the subjects\n",
    "\n",
    "df <- data.frame(matrix(ncol = 2, nrow = 6))\n",
    "\n",
    "# Create the row names and input into empty dataframe\n",
    "row_names <- c(\"Biology\", \"English\", \"History\", \"Mathematics\", \"Philosophy\", \"Psychology\")\n",
    "rownames(df) <- row_names\n",
    "\n",
    "# Create the column names and input into empty dataframe\n",
    "col_names <- c(\"F\", \"M\")\n",
    "colnames(df) <- col_names\n",
    "\n",
    "# to find the issue for females\n",
    "for (i in 1:6) {\n",
    "  female_rejection_rates <- y_table[i, \"F\"] / x_table[i, \"F\"] * 100\n",
    "  df$F[i] <- female_rejection_rates\n",
    "}\n",
    "\n",
    "# to find the issue for males\n",
    "for (i in 1:6) {\n",
    "  male_rejection_rates <- y_table[i, \"M\"] / x_table[i, \"M\"] * 100\n",
    "  df$M[i] <- male_rejection_rates\n",
    "}\n",
    "\n",
    "df"
   ]
  },
  {
   "cell_type": "code",
   "execution_count": 27,
   "metadata": {},
   "outputs": [
    {
     "data": {
      "text/plain": [
       "             \n",
       "                     F        M\n",
       "  Biology     92.96188 94.11765\n",
       "  English     76.08142 72.25131\n",
       "  History     65.06667 66.66667\n",
       "  Mathematics 17.59259 38.06061\n",
       "  Philosophy  32.00000 36.96429\n",
       "  Psychology  65.93592 63.07692"
      ]
     },
     "metadata": {},
     "output_type": "display_data"
    }
   ],
   "source": [
    "# There is an alternative way to do it, a simpler way without loops\n",
    "\n",
    "table(x[x$Admitted == \"No\", ]$Department,\n",
    "     x[x$Admitted == \"No\", ]$Sex) / table(x$Department, x$Sex) * 100"
   ]
  },
  {
   "cell_type": "code",
   "execution_count": 29,
   "metadata": {},
   "outputs": [
    {
     "data": {
      "image/png": "[encoded data removed]",
      "text/plain": [
       "Plot with title \"Acceptance Rates By Gender\""
      ]
     },
     "metadata": {},
     "output_type": "display_data"
    },
    {
     "data": {
      "image/png": "[encoded data removed]",
      "text/plain": [
       "Plot with title \"Applications by sex and department\""
      ]
     },
     "metadata": {},
     "output_type": "display_data"
    }
   ],
   "source": [
    "# You can use a graph to visualize the data\n",
    "\n",
    "barplot(table(x[x$Admitted == \"Yes\", ]$Sex, \n",
    "              x[x$Admitted == \"Yes\", ]$Department)/table(x$Sex, x$Department), \n",
    "        beside = TRUE, \n",
    "        legend = TRUE, \n",
    "        main = \"Acceptance Rates By Gender\")\n",
    "\n",
    "barplot(table(x$Sex, x$Department), \n",
    "        legend = TRUE, \n",
    "        main = \"Applications by sex and department\")\n"
   ]
  },
  {
   "cell_type": "markdown",
   "metadata": {},
   "source": [
    "### Step 4: Is there evidence for sex-based discrimination?"
   ]
  },
  {
   "cell_type": "code",
   "execution_count": 31,
   "metadata": {},
   "outputs": [],
   "source": [
    "# Based on the data, it seems that there could be discrimination against males.\n",
    "\n",
    "# This happens in Mathematics.\n",
    "\n",
    "# Given the double amount of acceptances by females compared to males."
   ]
  },
  {
   "cell_type": "code",
   "execution_count": 34,
   "metadata": {
    "scrolled": true
   },
   "outputs": [
    {
     "data": {
      "image/png": "[encoded data removed]",
      "text/plain": [
       "plot without title"
      ]
     },
     "metadata": {},
     "output_type": "display_data"
    },
    {
     "data": {
      "image/png": "[encoded data removed]",
      "text/plain": [
       "plot without title"
      ]
     },
     "metadata": {},
     "output_type": "display_data"
    }
   ],
   "source": [
    "# Based on analysis, it seems that females also apply to more competitive fields\n",
    "\n",
    "barplot(table(x$Admitted, x$Department), legend = TRUE)\n",
    "\n",
    "# Biology is extremely competitive here, as is English and maybe Psychology\n",
    "\n",
    "barplot(table(x$Sex, x$Department), legend = TRUE)\n",
    "\n",
    "# On the other hand, males are overrepresented in easier fields such as:\n",
    "# > Mathematics\n",
    "# > Philosophy"
   ]
  }
 ],
 "metadata": {
  "kernelspec": {
   "display_name": "R",
   "language": "R",
   "name": "ir"
  },
  "language_info": {
   "codemirror_mode": "r",
   "file_extension": ".r",
   "mimetype": "text/x-r-source",
   "name": "R",
   "pygments_lexer": "r",
   "version": "3.6.1"
  }
 },
 "nbformat": 4,
 "nbformat_minor": 4
}
