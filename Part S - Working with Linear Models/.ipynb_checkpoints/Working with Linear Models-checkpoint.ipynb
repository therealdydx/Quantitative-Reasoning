{
 "cells": [
  {
   "cell_type": "markdown",
   "metadata": {},
   "source": [
    "# Exercise 19 – Working with Linear Models\n",
    "\n",
    "### Introduction\n",
    "\n",
    "The learning goals for this script are as follows:\n",
    "\n",
    "- further practice and understand linear models\n",
    "- use them for predictions, and\n",
    "- investigate problems that arise from using summary data\n",
    "\n",
    "To achieve these goals we will spend today’s class with data collected from the Old Faithful geyser."
   ]
  },
  {
   "cell_type": "markdown",
   "metadata": {},
   "source": [
    "A data frame about the Old Faithful geyser is preinstalled in R. You can load it into your environment by typing"
   ]
  },
  {
   "cell_type": "code",
   "execution_count": 1,
   "metadata": {},
   "outputs": [],
   "source": [
    "data(faithful)"
   ]
  },
  {
   "cell_type": "code",
   "execution_count": 3,
   "metadata": {},
   "outputs": [
    {
     "name": "stdout",
     "output_type": "stream",
     "text": [
      "'data.frame':\t272 obs. of  2 variables:\n",
      " $ eruptions: num  3.6 1.8 3.33 2.28 4.53 ...\n",
      " $ waiting  : num  79 54 74 62 85 55 88 85 51 85 ...\n"
     ]
    }
   ],
   "source": [
    "str(faithful)"
   ]
  },
  {
   "cell_type": "markdown",
   "metadata": {},
   "source": [
    "The data contains observations of two variables:\n",
    "\n",
    "- Eruption duration times in mins, and\n",
    "- Corresponding waiting times until the next eruption in mins.\n",
    "\n",
    "Rangers in Yellowstone National Park use data observations of this type to make daily predictions about the time of the next eruption for tourists.\n",
    "\n",
    "In other words, they use the duration of an eruption to predict the waiting time until the next eruption."
   ]
  },
  {
   "cell_type": "markdown",
   "metadata": {},
   "source": [
    "### Step 1: Data Analysis of Ranger Profession\n",
    "Let’s explore the data analysis part of the ranger profession.\n",
    "\n",
    "- As usual, have a look at the data to come up with an idea of how predictions of eruption times could be done.\n",
    "\n",
    "- Would the mean or median be a good statistic for waiting time prediction?\n",
    "\n",
    "- Check if necessary conditions for the method you plan to use are met."
   ]
  },
  {
   "cell_type": "code",
   "execution_count": 5,
   "metadata": {},
   "outputs": [
    {
     "data": {
      "text/html": [
       "<table>\n",
       "<thead><tr><th scope=col>eruptions</th><th scope=col>waiting</th></tr></thead>\n",
       "<tbody>\n",
       "\t<tr><td>3.600</td><td>79   </td></tr>\n",
       "\t<tr><td>1.800</td><td>54   </td></tr>\n",
       "\t<tr><td>3.333</td><td>74   </td></tr>\n",
       "\t<tr><td>2.283</td><td>62   </td></tr>\n",
       "\t<tr><td>4.533</td><td>85   </td></tr>\n",
       "\t<tr><td>2.883</td><td>55   </td></tr>\n",
       "</tbody>\n",
       "</table>\n"
      ],
      "text/latex": [
       "\\begin{tabular}{r|ll}\n",
       " eruptions & waiting\\\\\n",
       "\\hline\n",
       "\t 3.600 & 79   \\\\\n",
       "\t 1.800 & 54   \\\\\n",
       "\t 3.333 & 74   \\\\\n",
       "\t 2.283 & 62   \\\\\n",
       "\t 4.533 & 85   \\\\\n",
       "\t 2.883 & 55   \\\\\n",
       "\\end{tabular}\n"
      ],
      "text/markdown": [
       "\n",
       "| eruptions | waiting |\n",
       "|---|---|\n",
       "| 3.600 | 79    |\n",
       "| 1.800 | 54    |\n",
       "| 3.333 | 74    |\n",
       "| 2.283 | 62    |\n",
       "| 4.533 | 85    |\n",
       "| 2.883 | 55    |\n",
       "\n"
      ],
      "text/plain": [
       "  eruptions waiting\n",
       "1 3.600     79     \n",
       "2 1.800     54     \n",
       "3 3.333     74     \n",
       "4 2.283     62     \n",
       "5 4.533     85     \n",
       "6 2.883     55     "
      ]
     },
     "metadata": {},
     "output_type": "display_data"
    }
   ],
   "source": [
    "head(faithful)"
   ]
  },
  {
   "cell_type": "code",
   "execution_count": 6,
   "metadata": {},
   "outputs": [
    {
     "data": {
      "image/png": "[encoded data removed]",
      "text/plain": [
       "Plot with title \"Waiting times between eruptions\""
      ]
     },
     "metadata": {},
     "output_type": "display_data"
    }
   ],
   "source": [
    "hist(faithful$waiting,\n",
    "    breaks = seq(40,100,3),\n",
    "    col = \"lightblue\",\n",
    "    main = \"Waiting times between eruptions\",\n",
    "    xlab = \"Waiting times in mins\")"
   ]
  },
  {
   "cell_type": "markdown",
   "metadata": {},
   "source": [
    "- The distribution of waiting times appears to be bimodal.\n",
    "\n",
    "- The mean or median would be good statistics for average waiting time if the distribution was, say, close to a normal distribution. Here it would however be more accurate to say that waiting times between eruptions are either around 80 mins or around 55 mins.\n",
    "\n",
    "- What can we say beyond that?\n",
    "\n",
    "- Can the duration of a current eruption help to explain the time interval between that eruption and the next eruption?\n",
    "\n",
    "- Is it reasonable to use a linear model for inference of waiting times from an observed eruption duration?"
   ]
  },
  {
   "cell_type": "code",
   "execution_count": 7,
   "metadata": {},
   "outputs": [
    {
     "data": {
      "image/png": "[encoded data removed]",
      "text/plain": [
       "Plot with title \"Waiting time vs. duration of eruption\""
      ]
     },
     "metadata": {},
     "output_type": "display_data"
    }
   ],
   "source": [
    "plot(waiting ~ eruptions, \n",
    "     data = faithful,  \n",
    "     main = \"Waiting time vs. duration of eruption\",\n",
    "     xlab = \"duration of eruption\", \n",
    "     ylab = \"waiting time\")"
   ]
  },
  {
   "cell_type": "markdown",
   "metadata": {},
   "source": [
    "### Step 2: Fit a Linear Model\n",
    "\n",
    "Does the ‘straight enough condition’ seem to be satisfied in the scatterplot? Are there outliers?\n",
    "\n",
    "- To see whether eruption duration (x) can be used to predict waiting times till the next eruption (y), fit a linear model.\n",
    "\n",
    "- Describe the linear equation for the model and the summary statistic R2."
   ]
  },
  {
   "cell_type": "code",
   "execution_count": 8,
   "metadata": {},
   "outputs": [
    {
     "data": {
      "text/html": [
       "<dl class=dl-horizontal>\n",
       "\t<dt>(Intercept)</dt>\n",
       "\t\t<dd>33.4743970227533</dd>\n",
       "\t<dt>eruptions</dt>\n",
       "\t\t<dd>10.7296413951335</dd>\n",
       "</dl>\n"
      ],
      "text/latex": [
       "\\begin{description*}\n",
       "\\item[(Intercept)] 33.4743970227533\n",
       "\\item[eruptions] 10.7296413951335\n",
       "\\end{description*}\n"
      ],
      "text/markdown": [
       "(Intercept)\n",
       ":   33.4743970227533eruptions\n",
       ":   10.7296413951335\n",
       "\n"
      ],
      "text/plain": [
       "(Intercept)   eruptions \n",
       "   33.47440    10.72964 "
      ]
     },
     "metadata": {},
     "output_type": "display_data"
    }
   ],
   "source": [
    "geyserlm <- lm(waiting ~ eruptions, data = faithful)\n",
    "coef(geyserlm) "
   ]
  },
  {
   "cell_type": "code",
   "execution_count": 9,
   "metadata": {},
   "outputs": [
    {
     "data": {
      "text/html": [
       "0.81146076097331"
      ],
      "text/latex": [
       "0.81146076097331"
      ],
      "text/markdown": [
       "0.81146076097331"
      ],
      "text/plain": [
       "[1] 0.8114608"
      ]
     },
     "metadata": {},
     "output_type": "display_data"
    }
   ],
   "source": [
    "summary(geyserlm)$r.squared "
   ]
  },
  {
   "cell_type": "markdown",
   "metadata": {},
   "source": [
    "While the R2 of 81% says nothing about causality it indicates that the waiting time till the next eruption is much accounted for by the duration of the previous eruption. Here 81% of the variation in the waiting time is explained by the eruption duration."
   ]
  },
  {
   "cell_type": "markdown",
   "metadata": {},
   "source": [
    "### Step 3: Check whether the R2 value you just calculated is really the square of the correlation coefficient r between x and y."
   ]
  },
  {
   "cell_type": "code",
   "execution_count": 10,
   "metadata": {},
   "outputs": [
    {
     "data": {
      "text/html": [
       "0.81146076097331"
      ],
      "text/latex": [
       "0.81146076097331"
      ],
      "text/markdown": [
       "0.81146076097331"
      ],
      "text/plain": [
       "[1] 0.8114608"
      ]
     },
     "metadata": {},
     "output_type": "display_data"
    }
   ],
   "source": [
    "summary(geyserlm)$r.squared"
   ]
  },
  {
   "cell_type": "code",
   "execution_count": 11,
   "metadata": {},
   "outputs": [
    {
     "data": {
      "text/html": [
       "0.81146076097331"
      ],
      "text/latex": [
       "0.81146076097331"
      ],
      "text/markdown": [
       "0.81146076097331"
      ],
      "text/plain": [
       "[1] 0.8114608"
      ]
     },
     "metadata": {},
     "output_type": "display_data"
    }
   ],
   "source": [
    "cor(faithful$eruptions, faithful$waiting)^2"
   ]
  },
  {
   "cell_type": "markdown",
   "metadata": {},
   "source": [
    "It is not surprising that R2 and r should be related:\n",
    "\n",
    "- r describes how strong two variables are correlated\n",
    "\n",
    "- R2 describes how well the data is explained for by the model."
   ]
  },
  {
   "cell_type": "markdown",
   "metadata": {},
   "source": [
    "### Step 4: Add a line of best fit to the scatter plot\n",
    "Add the line of best fit to your scatterplot.\n",
    "\n",
    "Do you think that the duration of eruption can be used to predict the waiting time to the next eruption via the linear model you just calculated?\n",
    "\n",
    "Beyond the inspection of the model fit and of R2 just done, base your answer on assessing whether the conditions on the residuals are met.\n",
    "\n",
    "- Check the plot of the residuals against either the predictor (x) or the fitted values stored in your linear model.\n",
    "\n",
    "- Check whether the residuals have a Normal-distribution.\n",
    "\n",
    "- What plots should you use? What should you look out for in those plots?"
   ]
  },
  {
   "cell_type": "code",
   "execution_count": 12,
   "metadata": {},
   "outputs": [
    {
     "data": {
      "image/png": "[encoded data removed]",
      "text/plain": [
       "Plot with title \"Waiting time vs. duration of eruption\""
      ]
     },
     "metadata": {},
     "output_type": "display_data"
    }
   ],
   "source": [
    "plot(waiting ~ eruptions, \n",
    "     data = faithful,  \n",
    "     main = \"Waiting time vs. duration of eruption\",\n",
    "     xlab = \"duration of eruption\", \n",
    "     ylab = \"waiting time\")\n",
    "\n",
    "abline(geyserlm, col = \"blue\", lwd = 3) "
   ]
  },
  {
   "cell_type": "code",
   "execution_count": 13,
   "metadata": {},
   "outputs": [
    {
     "data": {
      "image/png": "[encoded data removed]",
      "text/plain": [
       "Plot with title \"Residuals vs. fitted values\""
      ]
     },
     "metadata": {},
     "output_type": "display_data"
    }
   ],
   "source": [
    "plot(residuals(geyserlm) ~ predict(geyserlm),  \n",
    "     xlab = \"fitted values\", \n",
    "     ylab='Residuals', \n",
    "     main = \"Residuals vs. fitted values\")"
   ]
  },
  {
   "cell_type": "code",
   "execution_count": 15,
   "metadata": {
    "scrolled": false
   },
   "outputs": [
    {
     "data": {
      "image/png": "[encoded data removed]",
      "text/plain": [
       "Plot with title \"Residuals vs. x\""
      ]
     },
     "metadata": {},
     "output_type": "display_data"
    }
   ],
   "source": [
    "plot(residuals(geyserlm) ~ faithful$eruptions, \n",
    "     xlab = \"duration of eruption\",\n",
    "     ylab='Residuals', \n",
    "     main = \"Residuals vs. x\")"
   ]
  },
  {
   "cell_type": "code",
   "execution_count": 16,
   "metadata": {},
   "outputs": [
    {
     "data": {
      "image/png": "[encoded data removed]",
      "text/plain": [
       "Plot with title \"Histogram of the residuals\""
      ]
     },
     "metadata": {},
     "output_type": "display_data"
    }
   ],
   "source": [
    "hist(residuals(geyserlm), \n",
    "     breaks=seq(-15,20,3), \n",
    "     col=\"lightblue\",  \n",
    "     main = \"Histogram of the residuals\", \n",
    "     xlab = \"Residuals\")"
   ]
  },
  {
   "cell_type": "code",
   "execution_count": 17,
   "metadata": {},
   "outputs": [
    {
     "data": {
      "image/png": "[encoded data removed]",
      "text/plain": [
       "Plot with title \"Normal Q-Q Plot\""
      ]
     },
     "metadata": {},
     "output_type": "display_data"
    }
   ],
   "source": [
    "qqnorm(residuals(geyserlm)) \n",
    "qqline(residuals(geyserlm), col=\"deeppink\")"
   ]
  },
  {
   "cell_type": "markdown",
   "metadata": {},
   "source": [
    "## Evaluation\n",
    "- Linear model fits the relationship well. Large R2 suggests duration of eruption is highly associated with waiting time till next eruption.\n",
    "\n",
    "- Linearity conditions are also verified by inspection of the residual plot: It does not notably bend nor “thicken”, suggesting that the variation is constant throughout the range of x.\n",
    "\n",
    "- The two residual scatterplots look identical since the fitted value is a linear transformation of the waiting time.\n",
    "\n",
    "- Neither the scatter plot nor the residual plot show notable outliers.\n",
    "\n",
    "- In the qq-plot of the residuals there appears to be some deviation from normality in the left tail.\n",
    "\n",
    "- It doesn’t look like any transformation of the data is needed."
   ]
  },
  {
   "cell_type": "markdown",
   "metadata": {},
   "source": [
    "### More Evaluation\n",
    "\n",
    "- In a linear regression we associate y (here waiting time) with x (here previous eruption duration).\n",
    "\n",
    "- Some reasons causing longer or shorter waiting times are left in the residual.\n",
    "\n",
    "- If those reasons are not just random fluctuations, this would mean that some explanatory information was still left in the residual. It would mean there is something beyond the linear relationship that potentially could also be included in the model, e.g. another variable we didn’t consider, a term or transformation to model a curve, etc.\n",
    "\n",
    "- If, however, those other reasons are essentially random, then the residual plot should look like scatter with no structure.\n",
    "\n",
    "- Then isn’t it enough to only quickly check that the residuals and x have no correlation?"
   ]
  },
  {
   "cell_type": "code",
   "execution_count": 18,
   "metadata": {},
   "outputs": [
    {
     "data": {
      "text/html": [
       "7.89477284406727e-18"
      ],
      "text/latex": [
       "7.89477284406727e-18"
      ],
      "text/markdown": [
       "7.89477284406727e-18"
      ],
      "text/plain": [
       "[1] 7.894773e-18"
      ]
     },
     "metadata": {},
     "output_type": "display_data"
    }
   ],
   "source": [
    "cor(residuals(geyserlm), predict(geyserlm))"
   ]
  },
  {
   "cell_type": "markdown",
   "metadata": {},
   "source": [
    "No! After fitting the linear model, the residual and the fitted values are always completely uncorrelated.\n",
    "\n",
    "This is because R has fitted the best possible linear model and thus no “linear model” explanatory component is left in the residuals."
   ]
  },
  {
   "cell_type": "markdown",
   "metadata": {},
   "source": [
    "### Step 5: Predict the waiting times for the ranger\n",
    "Based on your linear model, what waiting times should the ranger anounce on the tourist boards after she observed eruption durations of 2.25, 4.1, or 4.72 minutes?"
   ]
  },
  {
   "cell_type": "code",
   "execution_count": 19,
   "metadata": {},
   "outputs": [
    {
     "data": {
      "text/html": [
       "<dl class=dl-horizontal>\n",
       "\t<dt>1</dt>\n",
       "\t\t<dd>57.6160901618038</dd>\n",
       "\t<dt>2</dt>\n",
       "\t\t<dd>77.4659267428008</dd>\n",
       "\t<dt>3</dt>\n",
       "\t\t<dd>84.1183044077836</dd>\n",
       "</dl>\n"
      ],
      "text/latex": [
       "\\begin{description*}\n",
       "\\item[1] 57.6160901618038\n",
       "\\item[2] 77.4659267428008\n",
       "\\item[3] 84.1183044077836\n",
       "\\end{description*}\n"
      ],
      "text/markdown": [
       "1\n",
       ":   57.61609016180382\n",
       ":   77.46592674280083\n",
       ":   84.1183044077836\n",
       "\n"
      ],
      "text/plain": [
       "       1        2        3 \n",
       "57.61609 77.46593 84.11830 "
      ]
     },
     "metadata": {},
     "output_type": "display_data"
    }
   ],
   "source": [
    "measurements <- data.frame(eruptions = c(2.25,4.1,4.72))\n",
    "predict(geyserlm, newdata = measurements)"
   ]
  },
  {
   "cell_type": "markdown",
   "metadata": {},
   "source": [
    "### Step 6: Flip the roles of x and y variables into the linear model\n",
    "Find out which parts of the output would change, and which won't."
   ]
  },
  {
   "cell_type": "code",
   "execution_count": 20,
   "metadata": {},
   "outputs": [
    {
     "data": {
      "text/html": [
       "<dl class=dl-horizontal>\n",
       "\t<dt>(Intercept)</dt>\n",
       "\t\t<dd>-1.87401598641073</dd>\n",
       "\t<dt>waiting</dt>\n",
       "\t\t<dd>0.0756279479518627</dd>\n",
       "</dl>\n"
      ],
      "text/latex": [
       "\\begin{description*}\n",
       "\\item[(Intercept)] -1.87401598641073\n",
       "\\item[waiting] 0.0756279479518627\n",
       "\\end{description*}\n"
      ],
      "text/markdown": [
       "(Intercept)\n",
       ":   -1.87401598641073waiting\n",
       ":   0.0756279479518627\n",
       "\n"
      ],
      "text/plain": [
       "(Intercept)     waiting \n",
       "-1.87401599  0.07562795 "
      ]
     },
     "metadata": {},
     "output_type": "display_data"
    }
   ],
   "source": [
    "geyserlm2 <- lm(eruptions ~ waiting, data = faithful)\n",
    "coef(geyserlm2)"
   ]
  },
  {
   "cell_type": "code",
   "execution_count": 21,
   "metadata": {},
   "outputs": [
    {
     "data": {
      "text/html": [
       "0.81146076097331"
      ],
      "text/latex": [
       "0.81146076097331"
      ],
      "text/markdown": [
       "0.81146076097331"
      ],
      "text/plain": [
       "[1] 0.8114608"
      ]
     },
     "metadata": {},
     "output_type": "display_data"
    }
   ],
   "source": [
    "summary(geyserlm2)$r.squared"
   ]
  },
  {
   "cell_type": "markdown",
   "metadata": {},
   "source": [
    "While the slope and intercept of the linear model change, R2 stays the same as before.\n",
    "\n",
    "This illustrates how the order of variables matters in linear regression but doesn’t in correlations."
   ]
  },
  {
   "cell_type": "markdown",
   "metadata": {},
   "source": [
    "Does this mean we can use the waiting time to predict the eruption duration?\n",
    "\n",
    "Like telling tourists: “Just stay, – even if the announced waiting time is long. It will be worth your time since you will see a longer eruption.” ?"
   ]
  },
  {
   "cell_type": "markdown",
   "metadata": {},
   "source": [
    "Well, – maybe… But not from the data that we just considered!\n",
    "\n",
    "We need data about the\n",
    "\n",
    "- eruption times and the\n",
    "\n",
    "- corresponding waiting times before these respective eruptions.\n",
    "\n",
    "Data of this type (in mins) is provided on Canvas for you to download:"
   ]
  },
  {
   "cell_type": "code",
   "execution_count": 24,
   "metadata": {},
   "outputs": [],
   "source": [
    "faithful_pd <- read.csv(\"C:/Users/User/OneDrive/Documents/Yale-NUS/Quantitative Reasoning/Quantitative Reasoning Repository/Exercise 17 - Yellowstone National Park/faithful_AzzaliniBowman1990.csv\")"
   ]
  },
  {
   "cell_type": "markdown",
   "metadata": {},
   "source": [
    "### Step 7: Use the faithful_pd data to find out the waiting times between eruptions\n",
    "\n",
    "- How much of the variance in eruption duration is explained by the waiting time between eruptions?\n",
    "\n",
    "- Does this linear model have more or less explanatory power than the one we just considered?\n",
    "\n",
    "- Perform the same assessment as for the previous linear model."
   ]
  },
  {
   "cell_type": "code",
   "execution_count": 25,
   "metadata": {},
   "outputs": [
    {
     "data": {
      "image/png": "[encoded data removed]",
      "text/plain": [
       "plot without title"
      ]
     },
     "metadata": {},
     "output_type": "display_data"
    }
   ],
   "source": [
    "plot(duration ~ waiting, data = faithful_pd)"
   ]
  },
  {
   "cell_type": "markdown",
   "metadata": {},
   "source": [
    "From the scatter plot we see that\n",
    "\n",
    "- if one observes an eruption lasting about 2 mins, then one has probably waited 80 to 90 minutes from the last eruption to the current one.\n",
    "\n",
    "- if one observes an eruption lasting around 4.5 mins, the waiting time could have been any time between around 50 and 90 mins.\n",
    "\n",
    "- a short waiting time is always followed by a long eruption, but a long waiting time is followed by short or long eruptions in roughly equal proportions.\n",
    "\n",
    "Such conclusions cannot be made from a linear model.\n",
    "\n",
    "What happens when we assess the linear model?"
   ]
  },
  {
   "cell_type": "code",
   "execution_count": 26,
   "metadata": {},
   "outputs": [
    {
     "data": {
      "text/html": [
       "-0.644623006047782"
      ],
      "text/latex": [
       "-0.644623006047782"
      ],
      "text/markdown": [
       "-0.644623006047782"
      ],
      "text/plain": [
       "[1] -0.644623"
      ]
     },
     "metadata": {},
     "output_type": "display_data"
    }
   ],
   "source": [
    "cor(faithful_pd$duration, faithful_pd$waiting)"
   ]
  },
  {
   "cell_type": "markdown",
   "metadata": {},
   "source": [
    "The negative correlation indicates an inverse relationship between waiting time and eruption duration: the longer the eruption, the shorter the waiting time before the eruption."
   ]
  },
  {
   "cell_type": "markdown",
   "metadata": {},
   "source": [
    "### Step 8: Assess the fit\n",
    "- Plot scatter plot and linear model"
   ]
  },
  {
   "cell_type": "code",
   "execution_count": 28,
   "metadata": {},
   "outputs": [
    {
     "data": {
      "image/png": "[encoded data removed]",
      "text/plain": [
       "plot without title"
      ]
     },
     "metadata": {},
     "output_type": "display_data"
    }
   ],
   "source": [
    "geyserlm_pd <- lm(duration ~ waiting, data = faithful_pd)\n",
    "\n",
    "plot(duration ~ waiting, \n",
    "     data = faithful_pd)\n",
    "\n",
    "abline(geyserlm_pd, \n",
    "       col = \"lightblue\", \n",
    "       lwd = 3) "
   ]
  },
  {
   "cell_type": "code",
   "execution_count": 29,
   "metadata": {},
   "outputs": [
    {
     "data": {
      "image/png": "[encoded data removed]",
      "text/plain": [
       "Plot with title \"Residuals vs. fitted values\""
      ]
     },
     "metadata": {},
     "output_type": "display_data"
    }
   ],
   "source": [
    "plot(residuals(geyserlm_pd) ~ predict(geyserlm_pd), \n",
    "     xlab = \"Fitted values\",\n",
    "     ylab='Residuals', \n",
    "     main = \"Residuals vs. fitted values\")"
   ]
  },
  {
   "cell_type": "code",
   "execution_count": 30,
   "metadata": {},
   "outputs": [
    {
     "data": {
      "text/html": [
       "-1.93951013454728e-17"
      ],
      "text/latex": [
       "-1.93951013454728e-17"
      ],
      "text/markdown": [
       "-1.93951013454728e-17"
      ],
      "text/plain": [
       "[1] -1.93951e-17"
      ]
     },
     "metadata": {},
     "output_type": "display_data"
    }
   ],
   "source": [
    "cor(residuals(geyserlm_pd), predict(geyserlm_pd))"
   ]
  },
  {
   "cell_type": "markdown",
   "metadata": {},
   "source": [
    "The correlation between residuals and predicted eruption durations is still zero!"
   ]
  },
  {
   "cell_type": "markdown",
   "metadata": {},
   "source": [
    "This is just saying we fitted the best linear model and so no linear component is left in the residual. But we see from the plots that even the best among the linear models here cannot do that good."
   ]
  },
  {
   "cell_type": "code",
   "execution_count": 31,
   "metadata": {},
   "outputs": [
    {
     "data": {
      "image/png": "[encoded data removed]",
      "text/plain": [
       "Plot with title \"Histogram of the residuals\""
      ]
     },
     "metadata": {},
     "output_type": "display_data"
    }
   ],
   "source": [
    "hist(geyserlm_pd$residuals, \n",
    "     breaks=seq(-3,3,0.5), \n",
    "     col=\"lightblue\",  \n",
    "     main = \"Histogram of the residuals\", \n",
    "     xlab = \"Residuals\")"
   ]
  },
  {
   "cell_type": "code",
   "execution_count": 32,
   "metadata": {},
   "outputs": [
    {
     "data": {
      "image/png": "[encoded data removed]",
      "text/plain": [
       "Plot with title \"Normal Q-Q Plot\""
      ]
     },
     "metadata": {},
     "output_type": "display_data"
    }
   ],
   "source": [
    "qqnorm(geyserlm_pd$residuals)\n",
    "qqline(geyserlm_pd$residuals, col=\"deeppink\")"
   ]
  },
  {
   "cell_type": "markdown",
   "metadata": {},
   "source": [
    "Have you noticed the high proportion of eruptions lasting exactly 2 and exactly 4 mins in the data? Some rangers just indicated L for long and S for short eruptions."
   ]
  },
  {
   "cell_type": "markdown",
   "metadata": {},
   "source": [
    "### Step 9: Predicting eruption duration from summary data\n",
    "\n",
    "Suppose a ranger wants to summarize the data even further by taking means of waiting times for eruption durations that fall within 0.1 mins intervals.\n",
    "\n",
    "- First use the function round to append a new column to ‘faithful_pd’ containing the eruption durations rounded to one decimal place. (Hint: ?round)\n",
    "\n",
    "- Then use aggregate to get the mean waiting times per duration bin.\n",
    "\n",
    "- Finally, fit a linear model to this summarized data.\n",
    "\n",
    "From a quick assessment, what seems to be problematic about working with summary data?"
   ]
  },
  {
   "cell_type": "code",
   "execution_count": 33,
   "metadata": {},
   "outputs": [
    {
     "data": {
      "text/html": [
       "<table>\n",
       "<thead><tr><th scope=col>duration_rounded</th><th scope=col>waiting</th></tr></thead>\n",
       "<tbody>\n",
       "\t<tr><td>0.8     </td><td>80.00000</td></tr>\n",
       "\t<tr><td>1.6     </td><td>89.75000</td></tr>\n",
       "\t<tr><td>1.7     </td><td>84.83333</td></tr>\n",
       "\t<tr><td>1.8     </td><td>84.57143</td></tr>\n",
       "\t<tr><td>1.9     </td><td>83.87500</td></tr>\n",
       "\t<tr><td>2.0     </td><td>81.44444</td></tr>\n",
       "</tbody>\n",
       "</table>\n"
      ],
      "text/latex": [
       "\\begin{tabular}{r|ll}\n",
       " duration\\_rounded & waiting\\\\\n",
       "\\hline\n",
       "\t 0.8      & 80.00000\\\\\n",
       "\t 1.6      & 89.75000\\\\\n",
       "\t 1.7      & 84.83333\\\\\n",
       "\t 1.8      & 84.57143\\\\\n",
       "\t 1.9      & 83.87500\\\\\n",
       "\t 2.0      & 81.44444\\\\\n",
       "\\end{tabular}\n"
      ],
      "text/markdown": [
       "\n",
       "| duration_rounded | waiting |\n",
       "|---|---|\n",
       "| 0.8      | 80.00000 |\n",
       "| 1.6      | 89.75000 |\n",
       "| 1.7      | 84.83333 |\n",
       "| 1.8      | 84.57143 |\n",
       "| 1.9      | 83.87500 |\n",
       "| 2.0      | 81.44444 |\n",
       "\n"
      ],
      "text/plain": [
       "  duration_rounded waiting \n",
       "1 0.8              80.00000\n",
       "2 1.6              89.75000\n",
       "3 1.7              84.83333\n",
       "4 1.8              84.57143\n",
       "5 1.9              83.87500\n",
       "6 2.0              81.44444"
      ]
     },
     "metadata": {},
     "output_type": "display_data"
    }
   ],
   "source": [
    "faithful_pd$duration_rounded <- round(faithful_pd$duration, 1) \n",
    "\n",
    "geyser_summarized <- aggregate(waiting ~ duration_rounded, \n",
    "                               data = faithful_pd, \n",
    "                               FUN = mean)\n",
    "head(geyser_summarized)"
   ]
  },
  {
   "cell_type": "code",
   "execution_count": 34,
   "metadata": {},
   "outputs": [
    {
     "data": {
      "text/html": [
       "<dl class=dl-horizontal>\n",
       "\t<dt>(Intercept)</dt>\n",
       "\t\t<dd>9.97540249804187</dd>\n",
       "\t<dt>waiting</dt>\n",
       "\t\t<dd>-0.0895498622042046</dd>\n",
       "</dl>\n"
      ],
      "text/latex": [
       "\\begin{description*}\n",
       "\\item[(Intercept)] 9.97540249804187\n",
       "\\item[waiting] -0.0895498622042046\n",
       "\\end{description*}\n"
      ],
      "text/markdown": [
       "(Intercept)\n",
       ":   9.97540249804187waiting\n",
       ":   -0.0895498622042046\n",
       "\n"
      ],
      "text/plain": [
       "(Intercept)     waiting \n",
       " 9.97540250 -0.08954986 "
      ]
     },
     "metadata": {},
     "output_type": "display_data"
    }
   ],
   "source": [
    "coef(lm(geyser_summarized))"
   ]
  },
  {
   "cell_type": "code",
   "execution_count": 35,
   "metadata": {},
   "outputs": [
    {
     "data": {
      "text/html": [
       "0.763190421950987"
      ],
      "text/latex": [
       "0.763190421950987"
      ],
      "text/markdown": [
       "0.763190421950987"
      ],
      "text/plain": [
       "[1] 0.7631904"
      ]
     },
     "metadata": {},
     "output_type": "display_data"
    }
   ],
   "source": [
    "summary(lm(geyser_summarized))$r.squared"
   ]
  },
  {
   "cell_type": "code",
   "execution_count": 36,
   "metadata": {},
   "outputs": [
    {
     "data": {
      "image/png": "[encoded data removed]",
      "text/plain": [
       "Plot with title \"\""
      ]
     },
     "metadata": {},
     "output_type": "display_data"
    }
   ],
   "source": [
    "plot(geyser_summarized$duration_rounded ~ geyser_summarized$waiting, \n",
    "     xlab = \"\", \n",
    "     ylab='', \n",
    "     main = \"\")\n",
    "abline(lm(geyser_summarized), col = \"lightblue\", lwd = 3) "
   ]
  },
  {
   "cell_type": "markdown",
   "metadata": {},
   "source": [
    "Can this really have helped to be able to better explain the eruption duration from the waiting time?!\n",
    "\n",
    "While we have seen earlier that a linear model does not do well in predicting eruption duration from waiting time, when using summarized data it erroneously looks as if a linear model can now do much better!\n",
    "\n",
    "This illustrates some important general points:\n",
    "\n",
    "- To the extend possible, one should use raw data for analysis of relationships between variables.\n",
    "\n",
    "- Using summary data reduces the variance and in regression analysis gives a false impression of how well the linear model fits the data.\n",
    "\n",
    "- If sampling is uneven across the classes or bins in which the data is summarized, the estimated slope may well be wrong."
   ]
  }
 ],
 "metadata": {
  "kernelspec": {
   "display_name": "R",
   "language": "R",
   "name": "ir"
  },
  "language_info": {
   "codemirror_mode": "r",
   "file_extension": ".r",
   "mimetype": "text/x-r-source",
   "name": "R",
   "pygments_lexer": "r",
   "version": "3.6.1"
  }
 },
 "nbformat": 4,
 "nbformat_minor": 4
}
