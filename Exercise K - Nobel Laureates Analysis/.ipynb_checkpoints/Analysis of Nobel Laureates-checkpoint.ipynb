{
 "cells": [
  {
   "cell_type": "markdown",
   "metadata": {},
   "source": [
    "# Exercise 11 - Analysis of Nobel Laureates\n",
    "\n",
    "Notebook Written By: WDY (Yale-NUS '24) \n",
    "(Come say hi at https://www.linkedin.com/in/dys-profile/)\n",
    "\n",
    "### Introduction\n",
    "\n",
    "We will be working with the dataset from a statistic of nobel laureates. Let's read the data into the notebook first. Following that, let's do a quick look through of the dataset to find any interesting information."
   ]
  },
  {
   "cell_type": "code",
   "execution_count": 2,
   "metadata": {},
   "outputs": [],
   "source": [
    "nobel <- read.csv(\"C:/Users/User/OneDrive/Documents/Yale-NUS/Quantitative Reasoning/Quantitative Reasoning Repository/Exercise 11 - Nobel Laureates Analysis/Nobel.csv\")"
   ]
  },
  {
   "cell_type": "code",
   "execution_count": 3,
   "metadata": {},
   "outputs": [
    {
     "data": {
      "text/html": [
       "<table>\n",
       "<thead><tr><th scope=col>Country</th><th scope=col>X</th><th scope=col>Y</th></tr></thead>\n",
       "<tbody>\n",
       "\t<tr><td>China   </td><td>0.758   </td><td>0.117   </td></tr>\n",
       "\t<tr><td>Japan   </td><td>1.794   </td><td>1.348   </td></tr>\n",
       "\t<tr><td>Portugal</td><td>1.979   </td><td>2.169   </td></tr>\n",
       "\t<tr><td>Greece  </td><td>2.515   </td><td>1.583   </td></tr>\n",
       "\t<tr><td>Brazil  </td><td>2.867   </td><td>0.059   </td></tr>\n",
       "\t<tr><td>Spain   </td><td>3.625   </td><td>1.407   </td></tr>\n",
       "</tbody>\n",
       "</table>\n"
      ],
      "text/latex": [
       "\\begin{tabular}{r|lll}\n",
       " Country & X & Y\\\\\n",
       "\\hline\n",
       "\t China    & 0.758    & 0.117   \\\\\n",
       "\t Japan    & 1.794    & 1.348   \\\\\n",
       "\t Portugal & 1.979    & 2.169   \\\\\n",
       "\t Greece   & 2.515    & 1.583   \\\\\n",
       "\t Brazil   & 2.867    & 0.059   \\\\\n",
       "\t Spain    & 3.625    & 1.407   \\\\\n",
       "\\end{tabular}\n"
      ],
      "text/markdown": [
       "\n",
       "| Country | X | Y |\n",
       "|---|---|---|\n",
       "| China    | 0.758    | 0.117    |\n",
       "| Japan    | 1.794    | 1.348    |\n",
       "| Portugal | 1.979    | 2.169    |\n",
       "| Greece   | 2.515    | 1.583    |\n",
       "| Brazil   | 2.867    | 0.059    |\n",
       "| Spain    | 3.625    | 1.407    |\n",
       "\n"
      ],
      "text/plain": [
       "  Country  X     Y    \n",
       "1 China    0.758 0.117\n",
       "2 Japan    1.794 1.348\n",
       "3 Portugal 1.979 2.169\n",
       "4 Greece   2.515 1.583\n",
       "5 Brazil   2.867 0.059\n",
       "6 Spain    3.625 1.407"
      ]
     },
     "metadata": {},
     "output_type": "display_data"
    }
   ],
   "source": [
    "head(nobel)"
   ]
  },
  {
   "cell_type": "code",
   "execution_count": 4,
   "metadata": {},
   "outputs": [
    {
     "name": "stdout",
     "output_type": "stream",
     "text": [
      "'data.frame':\t22 obs. of  3 variables:\n",
      " $ Country: Factor w/ 22 levels \"Australia\",\"Austria\",..: 6 14 17 11 4 18 13 5 3 1 ...\n",
      " $ X      : num  0.758 1.794 1.979 2.515 2.867 ...\n",
      " $ Y      : num  0.117 1.348 2.169 1.583 0.059 ...\n"
     ]
    }
   ],
   "source": [
    "str(nobel)"
   ]
  },
  {
   "cell_type": "code",
   "execution_count": 5,
   "metadata": {},
   "outputs": [
    {
     "data": {
      "text/html": [
       "<table>\n",
       "<thead><tr><th></th><th scope=col>Country</th><th scope=col>X</th><th scope=col>Y</th></tr></thead>\n",
       "<tbody>\n",
       "\t<tr><th scope=row>17</th><td>Denmark       </td><td> 8.527        </td><td>25.034        </td></tr>\n",
       "\t<tr><th scope=row>18</th><td>Ireland       </td><td> 8.822        </td><td>12.605        </td></tr>\n",
       "\t<tr><th scope=row>19</th><td>Norway        </td><td> 9.414        </td><td>23.275        </td></tr>\n",
       "\t<tr><th scope=row>20</th><td>United Kingdom</td><td> 9.766        </td><td>18.878        </td></tr>\n",
       "\t<tr><th scope=row>21</th><td>Germany       </td><td>11.520        </td><td>12.429        </td></tr>\n",
       "\t<tr><th scope=row>22</th><td>Switzerland   </td><td>11.985        </td><td>32.596        </td></tr>\n",
       "</tbody>\n",
       "</table>\n"
      ],
      "text/latex": [
       "\\begin{tabular}{r|lll}\n",
       "  & Country & X & Y\\\\\n",
       "\\hline\n",
       "\t17 & Denmark        &  8.527         & 25.034        \\\\\n",
       "\t18 & Ireland        &  8.822         & 12.605        \\\\\n",
       "\t19 & Norway         &  9.414         & 23.275        \\\\\n",
       "\t20 & United Kingdom &  9.766         & 18.878        \\\\\n",
       "\t21 & Germany        & 11.520         & 12.429        \\\\\n",
       "\t22 & Switzerland    & 11.985         & 32.596        \\\\\n",
       "\\end{tabular}\n"
      ],
      "text/markdown": [
       "\n",
       "| <!--/--> | Country | X | Y |\n",
       "|---|---|---|---|\n",
       "| 17 | Denmark        |  8.527         | 25.034         |\n",
       "| 18 | Ireland        |  8.822         | 12.605         |\n",
       "| 19 | Norway         |  9.414         | 23.275         |\n",
       "| 20 | United Kingdom |  9.766         | 18.878         |\n",
       "| 21 | Germany        | 11.520         | 12.429         |\n",
       "| 22 | Switzerland    | 11.985         | 32.596         |\n",
       "\n"
      ],
      "text/plain": [
       "   Country        X      Y     \n",
       "17 Denmark         8.527 25.034\n",
       "18 Ireland         8.822 12.605\n",
       "19 Norway          9.414 23.275\n",
       "20 United Kingdom  9.766 18.878\n",
       "21 Germany        11.520 12.429\n",
       "22 Switzerland    11.985 32.596"
      ]
     },
     "metadata": {},
     "output_type": "display_data"
    }
   ],
   "source": [
    "tail(nobel)"
   ]
  },
  {
   "cell_type": "markdown",
   "metadata": {},
   "source": [
    "## Step 1: Use plot() to generate a scatter plot of the data (Y by X)\n",
    "\n",
    "In addition to Country which clearly contains the names of countries, the data frame Nobel also contains two numeric variables. Etched on the outside of the thumbnail drive is note that informs us as to the nature of Y but not X:\n",
    "\n",
    "- Y: Nobel Laureates per 10 Million Population\n",
    "- X: Mystery\n",
    "\n",
    "Again, your curiousity gets the better of you and you want to know whether there is an association between the variables."
   ]
  },
  {
   "cell_type": "code",
   "execution_count": 8,
   "metadata": {},
   "outputs": [
    {
     "data": {
      "image/png": "[encoded data removed]",
      "text/plain": [
       "Plot with title \"Nobel Laureates / 10 MM Pop by Mystery\""
      ]
     },
     "metadata": {},
     "output_type": "display_data"
    }
   ],
   "source": [
    "plot(Y ~ X,\n",
    "    data = nobel,\n",
    "    main = \"Nobel Laureates / 10 MM Pop by Mystery\",\n",
    "    xlab = \"Mystery\",\n",
    "    ylab = \"Nobel Laureates / 10 MM Pop\")\n",
    "\n",
    "text(Y ~ X, labels = Country, data = nobel, cex = 0.8, font = 2)"
   ]
  },
  {
   "cell_type": "markdown",
   "metadata": {},
   "source": [
    "It seems that countries with higher levels of our Mystery variable (X) seem to have more Nobel Laureates per 10 Million population (Y).\n",
    "\n",
    "But is there an association? Let’s calculate the correlation…"
   ]
  },
  {
   "cell_type": "markdown",
   "metadata": {},
   "source": [
    "## Step 2: Compute the correlation coefficient r using cor()"
   ]
  },
  {
   "cell_type": "code",
   "execution_count": 10,
   "metadata": {},
   "outputs": [
    {
     "data": {
      "text/html": [
       "0.787834211806676"
      ],
      "text/latex": [
       "0.787834211806676"
      ],
      "text/markdown": [
       "0.787834211806676"
      ],
      "text/plain": [
       "[1] 0.7878342"
      ]
     },
     "metadata": {},
     "output_type": "display_data"
    }
   ],
   "source": [
    "r <- cor(nobel$X, nobel$Y)\n",
    "r\n",
    "\n",
    "# POSITIVE ASSOCIATION BETWEEN MYSTERY VARIABLE AND NOBEL LAUREATES"
   ]
  },
  {
   "cell_type": "markdown",
   "metadata": {},
   "source": [
    "## Step 3: Calculate Z Scores for X and Y\n",
    "\n",
    "- Calculate Z-Scores for X and Y\n",
    "- Manually calculate the correlation of the Z-Scores for X and Y"
   ]
  },
  {
   "cell_type": "code",
   "execution_count": 14,
   "metadata": {},
   "outputs": [],
   "source": [
    "# CALCULATE THE Z SCORE FOR X\n",
    "\n",
    "meanX <- mean(nobel$X)\n",
    "sdX <- sd(nobel$X)\n",
    "\n",
    "# CALCULATE Zx in a new column\n",
    "nobel$Zx <- (nobel$X - meanX)/sdX\n",
    "\n",
    "# CALCULATE THE Z SCORE FOR X\n",
    "\n",
    "meanY <- mean(nobel$Y)\n",
    "sdY <- sd(nobel$Y)\n",
    "\n",
    "# CALCULATE Zx in a new column\n",
    "nobel$Zy <- (nobel$Y - meanY)/sdY"
   ]
  },
  {
   "cell_type": "code",
   "execution_count": 19,
   "metadata": {},
   "outputs": [
    {
     "data": {
      "text/html": [
       "0.787834211806675"
      ],
      "text/latex": [
       "0.787834211806675"
      ],
      "text/markdown": [
       "0.787834211806675"
      ],
      "text/plain": [
       "[1] 0.7878342"
      ]
     },
     "metadata": {},
     "output_type": "display_data"
    },
    {
     "data": {
      "text/html": [
       "0.787834211806675"
      ],
      "text/latex": [
       "0.787834211806675"
      ],
      "text/markdown": [
       "0.787834211806675"
      ],
      "text/plain": [
       "[1] 0.7878342"
      ]
     },
     "metadata": {},
     "output_type": "display_data"
    },
    {
     "name": "stdout",
     "output_type": "stream",
     "text": [
      "[1] \"TRUE\"\n"
     ]
    }
   ],
   "source": [
    "# MANUALLY CALCULATE CORRELATION\n",
    "\n",
    "ManualCorCoef <- sum(nobel$Zx * nobel$Zy) / (nrow(nobel) - 1)\n",
    "ManualCorCoef\n",
    "\n",
    "# USE COMMAND COR() TO CONFIRM RESULT\n",
    "\n",
    "CorCoef <- cor(nobel$Zx, nobel$Zy)\n",
    "CorCoef\n",
    "\n",
    "if (CorCoef == ManualCorCoef) {\n",
    "    print(\"TRUE\")\n",
    "}"
   ]
  },
  {
   "cell_type": "markdown",
   "metadata": {},
   "source": [
    "## What is the mystery variable?\n",
    "\n",
    "### It’s chocolate!\n",
    "\n",
    "Per capita chocolate consumption is found to be strongly correlated with the number of Nobel Laureates per 10 million population. In fact, a research note detailing this findings was actually published in the New England Journal of Medicine (NEJM) in 2012\n",
    "\n",
    "- Cocoa rich in flavanols and is contained in chocolate\n",
    "- Flavanols seem effective in slowing or even reversing reductions of cognitive performance that occur with aging\n",
    "- Implies a relationship between chocolate consumption and cognitive performance (measured here by Nobel Laureates)\n",
    "\n",
    "Chocolate make you smart! Or does it…what else could explain?"
   ]
  },
  {
   "cell_type": "markdown",
   "metadata": {},
   "source": [
    "## Correlation ≠ Causation\n",
    "\n",
    "Observing a correlation does not imply causation, even when we have a plausible or convincing mechanism / story to explain the correlation\n",
    "Some possible alternatives:\n",
    "\n",
    "- Lurking variables\n",
    "- Reverse causality\n",
    "- Mutual causality\n",
    "- Pure randomness\n",
    "\n",
    "Anything else you can think of?"
   ]
  }
 ],
 "metadata": {
  "kernelspec": {
   "display_name": "R",
   "language": "R",
   "name": "ir"
  },
  "language_info": {
   "codemirror_mode": "r",
   "file_extension": ".r",
   "mimetype": "text/x-r-source",
   "name": "R",
   "pygments_lexer": "r",
   "version": "3.6.1"
  }
 },
 "nbformat": 4,
 "nbformat_minor": 4
}
