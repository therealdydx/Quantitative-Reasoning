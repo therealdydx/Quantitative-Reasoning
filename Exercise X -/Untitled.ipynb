{
 "cells": [
  {
   "cell_type": "markdown",
   "metadata": {},
   "source": [
    "Exercise -- >"
   ]
  },
  {
   "cell_type": "markdown",
   "metadata": {},
   "source": []
  },
  {
   "cell_type": "code",
   "execution_count": 15,
   "metadata": {},
   "outputs": [],
   "source": [
    "vector1picks <- c(1, 2, 4, 5, 4, 4, 3, 2, 1, 4, 5, 3, 2, 4, 1, 1, 4, 5, 2, 3)\n",
    "\n",
    "vector1guess <- c(1, 3, 3, 3, 3, 3, 2, 2, 4, 5, 1, 5, 1, 1, 1, 3, 1, 2, 5, 1)\n",
    "\n",
    "vector1test <- c()"
   ]
  },
  {
   "cell_type": "code",
   "execution_count": 18,
   "metadata": {},
   "outputs": [
    {
     "data": {
      "text/html": [
       "<ol class=list-inline>\n",
       "\t<li>'T'</li>\n",
       "\t<li>'F'</li>\n",
       "\t<li>'F'</li>\n",
       "\t<li>'F'</li>\n",
       "\t<li>'F'</li>\n",
       "\t<li>'F'</li>\n",
       "\t<li>'F'</li>\n",
       "\t<li>'T'</li>\n",
       "\t<li>'F'</li>\n",
       "\t<li>'F'</li>\n",
       "\t<li>'F'</li>\n",
       "\t<li>'F'</li>\n",
       "\t<li>'F'</li>\n",
       "\t<li>'F'</li>\n",
       "\t<li>'T'</li>\n",
       "\t<li>'F'</li>\n",
       "\t<li>'F'</li>\n",
       "\t<li>'F'</li>\n",
       "\t<li>'F'</li>\n",
       "\t<li>'F'</li>\n",
       "</ol>\n"
      ],
      "text/latex": [
       "\\begin{enumerate*}\n",
       "\\item 'T'\n",
       "\\item 'F'\n",
       "\\item 'F'\n",
       "\\item 'F'\n",
       "\\item 'F'\n",
       "\\item 'F'\n",
       "\\item 'F'\n",
       "\\item 'T'\n",
       "\\item 'F'\n",
       "\\item 'F'\n",
       "\\item 'F'\n",
       "\\item 'F'\n",
       "\\item 'F'\n",
       "\\item 'F'\n",
       "\\item 'T'\n",
       "\\item 'F'\n",
       "\\item 'F'\n",
       "\\item 'F'\n",
       "\\item 'F'\n",
       "\\item 'F'\n",
       "\\end{enumerate*}\n"
      ],
      "text/markdown": [
       "1. 'T'\n",
       "2. 'F'\n",
       "3. 'F'\n",
       "4. 'F'\n",
       "5. 'F'\n",
       "6. 'F'\n",
       "7. 'F'\n",
       "8. 'T'\n",
       "9. 'F'\n",
       "10. 'F'\n",
       "11. 'F'\n",
       "12. 'F'\n",
       "13. 'F'\n",
       "14. 'F'\n",
       "15. 'T'\n",
       "16. 'F'\n",
       "17. 'F'\n",
       "18. 'F'\n",
       "19. 'F'\n",
       "20. 'F'\n",
       "\n",
       "\n"
      ],
      "text/plain": [
       " [1] \"T\" \"F\" \"F\" \"F\" \"F\" \"F\" \"F\" \"T\" \"F\" \"F\" \"F\" \"F\" \"F\" \"F\" \"T\" \"F\" \"F\" \"F\" \"F\"\n",
       "[20] \"F\""
      ]
     },
     "metadata": {},
     "output_type": "display_data"
    }
   ],
   "source": [
    "for (i in 1:20) {\n",
    "    if (vector1picks[i] == vector1guess[i]) {\n",
    "        vector1test[i] = \"T\"\n",
    "    }\n",
    "    else {\n",
    "        vector1test[i] = \"F\"\n",
    "    }\n",
    "}\n",
    "\n",
    "vector1test"
   ]
  },
  {
   "cell_type": "code",
   "execution_count": 19,
   "metadata": {},
   "outputs": [],
   "source": [
    "vector2picks <- c(3, 4, 2, 1, 3, 5, 5, 5, 5, 5, 1, 4, 3, 2, 1, 5, 4, 3, 2, 1)\n",
    "\n",
    "vector2guess <- c(2, 2, 3, 4, 5, 5, 1, 1, 1, 1, 1, 1, 4, 3, 4, 5, 4, 3, 2, 1)"
   ]
  },
  {
   "cell_type": "code",
   "execution_count": 20,
   "metadata": {},
   "outputs": [
    {
     "data": {
      "text/html": [
       "<ol class=list-inline>\n",
       "\t<li>'F'</li>\n",
       "\t<li>'F'</li>\n",
       "\t<li>'F'</li>\n",
       "\t<li>'F'</li>\n",
       "\t<li>'F'</li>\n",
       "\t<li>'T'</li>\n",
       "\t<li>'F'</li>\n",
       "\t<li>'F'</li>\n",
       "\t<li>'F'</li>\n",
       "\t<li>'F'</li>\n",
       "\t<li>'T'</li>\n",
       "\t<li>'F'</li>\n",
       "\t<li>'F'</li>\n",
       "\t<li>'F'</li>\n",
       "\t<li>'F'</li>\n",
       "\t<li>'T'</li>\n",
       "\t<li>'T'</li>\n",
       "\t<li>'T'</li>\n",
       "\t<li>'T'</li>\n",
       "\t<li>'T'</li>\n",
       "</ol>\n"
      ],
      "text/latex": [
       "\\begin{enumerate*}\n",
       "\\item 'F'\n",
       "\\item 'F'\n",
       "\\item 'F'\n",
       "\\item 'F'\n",
       "\\item 'F'\n",
       "\\item 'T'\n",
       "\\item 'F'\n",
       "\\item 'F'\n",
       "\\item 'F'\n",
       "\\item 'F'\n",
       "\\item 'T'\n",
       "\\item 'F'\n",
       "\\item 'F'\n",
       "\\item 'F'\n",
       "\\item 'F'\n",
       "\\item 'T'\n",
       "\\item 'T'\n",
       "\\item 'T'\n",
       "\\item 'T'\n",
       "\\item 'T'\n",
       "\\end{enumerate*}\n"
      ],
      "text/markdown": [
       "1. 'F'\n",
       "2. 'F'\n",
       "3. 'F'\n",
       "4. 'F'\n",
       "5. 'F'\n",
       "6. 'T'\n",
       "7. 'F'\n",
       "8. 'F'\n",
       "9. 'F'\n",
       "10. 'F'\n",
       "11. 'T'\n",
       "12. 'F'\n",
       "13. 'F'\n",
       "14. 'F'\n",
       "15. 'F'\n",
       "16. 'T'\n",
       "17. 'T'\n",
       "18. 'T'\n",
       "19. 'T'\n",
       "20. 'T'\n",
       "\n",
       "\n"
      ],
      "text/plain": [
       " [1] \"F\" \"F\" \"F\" \"F\" \"F\" \"T\" \"F\" \"F\" \"F\" \"F\" \"T\" \"F\" \"F\" \"F\" \"F\" \"T\" \"T\" \"T\" \"T\"\n",
       "[20] \"T\""
      ]
     },
     "metadata": {},
     "output_type": "display_data"
    }
   ],
   "source": [
    "for (i in 1:20) {\n",
    "    if (vector2picks[i] == vector2guess[i]) {\n",
    "        vector2test[i] = \"T\"\n",
    "    }\n",
    "    else {\n",
    "        vector2test[i] = \"F\"\n",
    "    }\n",
    "}\n",
    "\n",
    "vector2test"
   ]
  },
  {
   "cell_type": "markdown",
   "metadata": {},
   "source": [
    "Human intuition is not so good after all! Let's write this out using a R simulation!"
   ]
  },
  {
   "cell_type": "code",
   "execution_count": 26,
   "metadata": {},
   "outputs": [
    {
     "data": {
      "text/html": [
       "<ol class=list-inline>\n",
       "\t<li>'F'</li>\n",
       "\t<li>'F'</li>\n",
       "\t<li>'F'</li>\n",
       "\t<li>'F'</li>\n",
       "\t<li>'F'</li>\n",
       "\t<li>'F'</li>\n",
       "\t<li>'F'</li>\n",
       "\t<li>'F'</li>\n",
       "\t<li>'T'</li>\n",
       "\t<li>'T'</li>\n",
       "\t<li>'F'</li>\n",
       "\t<li>'F'</li>\n",
       "\t<li>'F'</li>\n",
       "\t<li>'F'</li>\n",
       "\t<li>'T'</li>\n",
       "\t<li>'F'</li>\n",
       "\t<li>'F'</li>\n",
       "\t<li>'T'</li>\n",
       "\t<li>'F'</li>\n",
       "\t<li>'F'</li>\n",
       "</ol>\n"
      ],
      "text/latex": [
       "\\begin{enumerate*}\n",
       "\\item 'F'\n",
       "\\item 'F'\n",
       "\\item 'F'\n",
       "\\item 'F'\n",
       "\\item 'F'\n",
       "\\item 'F'\n",
       "\\item 'F'\n",
       "\\item 'F'\n",
       "\\item 'T'\n",
       "\\item 'T'\n",
       "\\item 'F'\n",
       "\\item 'F'\n",
       "\\item 'F'\n",
       "\\item 'F'\n",
       "\\item 'T'\n",
       "\\item 'F'\n",
       "\\item 'F'\n",
       "\\item 'T'\n",
       "\\item 'F'\n",
       "\\item 'F'\n",
       "\\end{enumerate*}\n"
      ],
      "text/markdown": [
       "1. 'F'\n",
       "2. 'F'\n",
       "3. 'F'\n",
       "4. 'F'\n",
       "5. 'F'\n",
       "6. 'F'\n",
       "7. 'F'\n",
       "8. 'F'\n",
       "9. 'T'\n",
       "10. 'T'\n",
       "11. 'F'\n",
       "12. 'F'\n",
       "13. 'F'\n",
       "14. 'F'\n",
       "15. 'T'\n",
       "16. 'F'\n",
       "17. 'F'\n",
       "18. 'T'\n",
       "19. 'F'\n",
       "20. 'F'\n",
       "\n",
       "\n"
      ],
      "text/plain": [
       " [1] \"F\" \"F\" \"F\" \"F\" \"F\" \"F\" \"F\" \"F\" \"T\" \"T\" \"F\" \"F\" \"F\" \"F\" \"T\" \"F\" \"F\" \"T\" \"F\"\n",
       "[20] \"F\""
      ]
     },
     "metadata": {},
     "output_type": "display_data"
    }
   ],
   "source": [
    "set.seed(1)\n",
    "sim <- sample(c(1, 2, 3, 4, 5), size = 20, replace = TRUE)\n",
    "\n",
    "set.seed(2)\n",
    "simguess <- sample(c(1, 2, 3, 4, 5), size = 20, replace = TRUE)\n",
    "\n",
    "simtest <- c()\n",
    "\n",
    "for (i in 1:20) {\n",
    "    if (sim[i] == simguess[i]) {\n",
    "        simtest[i] = \"T\"\n",
    "    }\n",
    "    else {\n",
    "        simtest[i] = \"F\"\n",
    "    }\n",
    "}\n",
    "simtest"
   ]
  },
  {
   "cell_type": "code",
   "execution_count": null,
   "metadata": {},
   "outputs": [],
   "source": []
  }
 ],
 "metadata": {
  "kernelspec": {
   "display_name": "R",
   "language": "R",
   "name": "ir"
  },
  "language_info": {
   "codemirror_mode": "r",
   "file_extension": ".r",
   "mimetype": "text/x-r-source",
   "name": "R",
   "pygments_lexer": "r",
   "version": "3.6.1"
  }
 },
 "nbformat": 4,
 "nbformat_minor": 4
}
