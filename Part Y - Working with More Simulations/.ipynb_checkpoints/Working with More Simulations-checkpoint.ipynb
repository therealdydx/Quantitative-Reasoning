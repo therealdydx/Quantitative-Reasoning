{
 "cells": [
  {
   "cell_type": "markdown",
   "metadata": {},
   "source": [
    "# Exercise 25 – Working with More Simulations\n",
    "\n",
    "\n",
    "Notebook Written By: WDY (Yale-NUS '24) (Come say hi at https://www.linkedin.com/in/dys-profile/)\n",
    "\n",
    "### Introduction\n",
    "\n",
    "- Can you read someone else's mind?\n",
    "\n",
    "- Can you transmit thoughts directly to another person's mind?\n",
    "\n",
    "- Lots of people have claimed to have such powers. Today we'll test whether we have them."
   ]
  },
  {
   "cell_type": "markdown",
   "metadata": {},
   "source": [
    "### Step 1: Person 1 Test\n",
    "\n",
    "Working in pairs, designate one person as the sender and one person as the receiver. (We'll swap roles in a moment.)\n",
    "\n",
    "- Here's the procedure for each attempted transmission. The sender thinks of a number between one to five, attempting to transmit it to the receiver by the power of thought alone. \n",
    "\n",
    "- Within five seconds, the receiver makes a guess about the number. The sender then indicates whether it is correct, and the receiver writes down the outcome."
   ]
  },
  {
   "cell_type": "code",
   "execution_count": 14,
   "metadata": {},
   "outputs": [],
   "source": [
    "person1picks <- c(1, 2, 4, 5, 4, 4, 3, 2, 1, 4, 5, 3, 2, 4, 1, 1, 4, 5, 2, 3)\n",
    "\n",
    "person2guess <- c(1, 3, 3, 3, 3, 3, 2, 2, 4, 5, 1, 5, 1, 1, 1, 3, 1, 2, 5, 1)\n",
    "\n",
    "person2test <- c()"
   ]
  },
  {
   "cell_type": "code",
   "execution_count": 15,
   "metadata": {},
   "outputs": [
    {
     "data": {
      "text/html": [
       "<ol class=list-inline>\n",
       "\t<li>'T'</li>\n",
       "\t<li>'F'</li>\n",
       "\t<li>'F'</li>\n",
       "\t<li>'F'</li>\n",
       "\t<li>'F'</li>\n",
       "\t<li>'F'</li>\n",
       "\t<li>'F'</li>\n",
       "\t<li>'T'</li>\n",
       "\t<li>'F'</li>\n",
       "\t<li>'F'</li>\n",
       "\t<li>'F'</li>\n",
       "\t<li>'F'</li>\n",
       "\t<li>'F'</li>\n",
       "\t<li>'F'</li>\n",
       "\t<li>'T'</li>\n",
       "\t<li>'F'</li>\n",
       "\t<li>'F'</li>\n",
       "\t<li>'F'</li>\n",
       "\t<li>'F'</li>\n",
       "\t<li>'F'</li>\n",
       "</ol>\n"
      ],
      "text/latex": [
       "\\begin{enumerate*}\n",
       "\\item 'T'\n",
       "\\item 'F'\n",
       "\\item 'F'\n",
       "\\item 'F'\n",
       "\\item 'F'\n",
       "\\item 'F'\n",
       "\\item 'F'\n",
       "\\item 'T'\n",
       "\\item 'F'\n",
       "\\item 'F'\n",
       "\\item 'F'\n",
       "\\item 'F'\n",
       "\\item 'F'\n",
       "\\item 'F'\n",
       "\\item 'T'\n",
       "\\item 'F'\n",
       "\\item 'F'\n",
       "\\item 'F'\n",
       "\\item 'F'\n",
       "\\item 'F'\n",
       "\\end{enumerate*}\n"
      ],
      "text/markdown": [
       "1. 'T'\n",
       "2. 'F'\n",
       "3. 'F'\n",
       "4. 'F'\n",
       "5. 'F'\n",
       "6. 'F'\n",
       "7. 'F'\n",
       "8. 'T'\n",
       "9. 'F'\n",
       "10. 'F'\n",
       "11. 'F'\n",
       "12. 'F'\n",
       "13. 'F'\n",
       "14. 'F'\n",
       "15. 'T'\n",
       "16. 'F'\n",
       "17. 'F'\n",
       "18. 'F'\n",
       "19. 'F'\n",
       "20. 'F'\n",
       "\n",
       "\n"
      ],
      "text/plain": [
       " [1] \"T\" \"F\" \"F\" \"F\" \"F\" \"F\" \"F\" \"T\" \"F\" \"F\" \"F\" \"F\" \"F\" \"F\" \"T\" \"F\" \"F\" \"F\" \"F\"\n",
       "[20] \"F\""
      ]
     },
     "metadata": {},
     "output_type": "display_data"
    }
   ],
   "source": [
    "for (i in 1:20) {\n",
    "    if (person1picks[i] == person2guess[i]) {\n",
    "        person2test[i] = \"T\"\n",
    "    }\n",
    "    else {\n",
    "        person2test[i] = \"F\"\n",
    "    }\n",
    "}\n",
    "\n",
    "person2test"
   ]
  },
  {
   "cell_type": "markdown",
   "metadata": {},
   "source": [
    "### Step 2: Person 2 Test\n",
    "\n",
    "- Repeat the procedure above 20 times. Then swap roles and work through another 20 attempts.\n",
    "\n",
    "- Once you have your data, calculate the proportion of correct responses. What was the expected proportion? Are your results weird?"
   ]
  },
  {
   "cell_type": "code",
   "execution_count": 16,
   "metadata": {},
   "outputs": [],
   "source": [
    "person2picks <- c(3, 4, 2, 1, 3, 5, 5, 5, 5, 5, 1, 4, 3, 2, 1, 5, 4, 3, 2, 1)\n",
    "\n",
    "person1guess <- c(2, 2, 3, 4, 5, 5, 1, 1, 1, 1, 1, 1, 4, 3, 4, 5, 4, 3, 2, 1)\n",
    "\n",
    "person1test <-c()"
   ]
  },
  {
   "cell_type": "code",
   "execution_count": 17,
   "metadata": {},
   "outputs": [
    {
     "data": {
      "text/html": [
       "<ol class=list-inline>\n",
       "\t<li>'F'</li>\n",
       "\t<li>'F'</li>\n",
       "\t<li>'F'</li>\n",
       "\t<li>'F'</li>\n",
       "\t<li>'F'</li>\n",
       "\t<li>'T'</li>\n",
       "\t<li>'F'</li>\n",
       "\t<li>'F'</li>\n",
       "\t<li>'F'</li>\n",
       "\t<li>'F'</li>\n",
       "\t<li>'T'</li>\n",
       "\t<li>'F'</li>\n",
       "\t<li>'F'</li>\n",
       "\t<li>'F'</li>\n",
       "\t<li>'F'</li>\n",
       "\t<li>'T'</li>\n",
       "\t<li>'T'</li>\n",
       "\t<li>'T'</li>\n",
       "\t<li>'T'</li>\n",
       "\t<li>'T'</li>\n",
       "</ol>\n"
      ],
      "text/latex": [
       "\\begin{enumerate*}\n",
       "\\item 'F'\n",
       "\\item 'F'\n",
       "\\item 'F'\n",
       "\\item 'F'\n",
       "\\item 'F'\n",
       "\\item 'T'\n",
       "\\item 'F'\n",
       "\\item 'F'\n",
       "\\item 'F'\n",
       "\\item 'F'\n",
       "\\item 'T'\n",
       "\\item 'F'\n",
       "\\item 'F'\n",
       "\\item 'F'\n",
       "\\item 'F'\n",
       "\\item 'T'\n",
       "\\item 'T'\n",
       "\\item 'T'\n",
       "\\item 'T'\n",
       "\\item 'T'\n",
       "\\end{enumerate*}\n"
      ],
      "text/markdown": [
       "1. 'F'\n",
       "2. 'F'\n",
       "3. 'F'\n",
       "4. 'F'\n",
       "5. 'F'\n",
       "6. 'T'\n",
       "7. 'F'\n",
       "8. 'F'\n",
       "9. 'F'\n",
       "10. 'F'\n",
       "11. 'T'\n",
       "12. 'F'\n",
       "13. 'F'\n",
       "14. 'F'\n",
       "15. 'F'\n",
       "16. 'T'\n",
       "17. 'T'\n",
       "18. 'T'\n",
       "19. 'T'\n",
       "20. 'T'\n",
       "\n",
       "\n"
      ],
      "text/plain": [
       " [1] \"F\" \"F\" \"F\" \"F\" \"F\" \"T\" \"F\" \"F\" \"F\" \"F\" \"T\" \"F\" \"F\" \"F\" \"F\" \"T\" \"T\" \"T\" \"T\"\n",
       "[20] \"T\""
      ]
     },
     "metadata": {},
     "output_type": "display_data"
    }
   ],
   "source": [
    "for (i in 1:20) {\n",
    "    if (person2picks[i] == person1guess[i]) {\n",
    "        person1test[i] = \"T\"\n",
    "    }\n",
    "    else {\n",
    "        person1test[i] = \"F\"\n",
    "    }\n",
    "}\n",
    "\n",
    "person1test"
   ]
  },
  {
   "cell_type": "code",
   "execution_count": 23,
   "metadata": {},
   "outputs": [
    {
     "name": "stdout",
     "output_type": "stream",
     "text": [
      "[1] \"person 1 guess is 7\"\n",
      "[1] \"person 2 guess is 3\"\n"
     ]
    }
   ],
   "source": [
    "# PERSON 1 RESULT\n",
    "person1result <- 0\n",
    "\n",
    "for (i in 1:20) {\n",
    "    if (person1test[i] == \"T\") {\n",
    "        person1result <- person1result + 1\n",
    "    }\n",
    "}\n",
    "print(paste(\"person 1 guess is\" , person1result))\n",
    "\n",
    "# PERSON 2 RESULT\n",
    "person2result <- 0\n",
    "      \n",
    "for (i in 1:20) {\n",
    "    if (person2test[i] == \"T\") {\n",
    "        person2result <- person2result + 1\n",
    "    }\n",
    "}\n",
    "      \n",
    "print(paste(\"person 2 guess is\" , person2result))"
   ]
  },
  {
   "cell_type": "markdown",
   "metadata": {},
   "source": [
    "Human intuition is not so good after all! Let's write this out using a R simulation!\n",
    "\n",
    "### Step 3: Write out manual procedure with an R simulation instead"
   ]
  },
  {
   "cell_type": "code",
   "execution_count": 7,
   "metadata": {},
   "outputs": [
    {
     "data": {
      "text/html": [
       "<ol class=list-inline>\n",
       "\t<li>'F'</li>\n",
       "\t<li>'F'</li>\n",
       "\t<li>'F'</li>\n",
       "\t<li>'F'</li>\n",
       "\t<li>'F'</li>\n",
       "\t<li>'F'</li>\n",
       "\t<li>'F'</li>\n",
       "\t<li>'F'</li>\n",
       "\t<li>'T'</li>\n",
       "\t<li>'T'</li>\n",
       "\t<li>'F'</li>\n",
       "\t<li>'F'</li>\n",
       "\t<li>'F'</li>\n",
       "\t<li>'F'</li>\n",
       "\t<li>'T'</li>\n",
       "\t<li>'F'</li>\n",
       "\t<li>'F'</li>\n",
       "\t<li>'T'</li>\n",
       "\t<li>'F'</li>\n",
       "\t<li>'F'</li>\n",
       "</ol>\n"
      ],
      "text/latex": [
       "\\begin{enumerate*}\n",
       "\\item 'F'\n",
       "\\item 'F'\n",
       "\\item 'F'\n",
       "\\item 'F'\n",
       "\\item 'F'\n",
       "\\item 'F'\n",
       "\\item 'F'\n",
       "\\item 'F'\n",
       "\\item 'T'\n",
       "\\item 'T'\n",
       "\\item 'F'\n",
       "\\item 'F'\n",
       "\\item 'F'\n",
       "\\item 'F'\n",
       "\\item 'T'\n",
       "\\item 'F'\n",
       "\\item 'F'\n",
       "\\item 'T'\n",
       "\\item 'F'\n",
       "\\item 'F'\n",
       "\\end{enumerate*}\n"
      ],
      "text/markdown": [
       "1. 'F'\n",
       "2. 'F'\n",
       "3. 'F'\n",
       "4. 'F'\n",
       "5. 'F'\n",
       "6. 'F'\n",
       "7. 'F'\n",
       "8. 'F'\n",
       "9. 'T'\n",
       "10. 'T'\n",
       "11. 'F'\n",
       "12. 'F'\n",
       "13. 'F'\n",
       "14. 'F'\n",
       "15. 'T'\n",
       "16. 'F'\n",
       "17. 'F'\n",
       "18. 'T'\n",
       "19. 'F'\n",
       "20. 'F'\n",
       "\n",
       "\n"
      ],
      "text/plain": [
       " [1] \"F\" \"F\" \"F\" \"F\" \"F\" \"F\" \"F\" \"F\" \"T\" \"T\" \"F\" \"F\" \"F\" \"F\" \"T\" \"F\" \"F\" \"T\" \"F\"\n",
       "[20] \"F\""
      ]
     },
     "metadata": {},
     "output_type": "display_data"
    }
   ],
   "source": [
    "set.seed(1)\n",
    "sim <- sample(c(1, 2, 3, 4, 5), size = 20, replace = TRUE)\n",
    "\n",
    "set.seed(2)\n",
    "simguess <- sample(c(1, 2, 3, 4, 5), size = 20, replace = TRUE)\n",
    "\n",
    "simtest <- c()\n",
    "\n",
    "for (i in 1:20) {\n",
    "    if (sim[i] == simguess[i]) {\n",
    "        simtest[i] = \"T\"\n",
    "    }\n",
    "    else {\n",
    "        simtest[i] = \"F\"\n",
    "    }\n",
    "}\n",
    "simtest"
   ]
  },
  {
   "cell_type": "code",
   "execution_count": 27,
   "metadata": {},
   "outputs": [
    {
     "name": "stdout",
     "output_type": "stream",
     "text": [
      "[1] \"simulated guess is 4\"\n"
     ]
    }
   ],
   "source": [
    "simresult <- 0\n",
    "\n",
    "for (i in 1:20) {\n",
    "    if (simtest[i] == \"T\") {\n",
    "        simresult <- simresult + 1\n",
    "    }\n",
    "}\n",
    "print(paste(\"simulated guess is\" , simresult))"
   ]
  },
  {
   "cell_type": "markdown",
   "metadata": {},
   "source": [
    "### Step 4: Create another simulation of experiment and plot results\n",
    "\n",
    "- Create a simulation of the experiment.\n",
    "\n",
    "- Then run it 10,000 times by using a for loop."
   ]
  },
  {
   "cell_type": "code",
   "execution_count": 28,
   "metadata": {},
   "outputs": [],
   "source": [
    "# INITIALIZE ARRAY OF 10,000 UNITS\n",
    "proportion_correct <- numeric(10000)\n",
    "\n",
    "# CREATE A FOR LOOP TO APPEND VALUES INSIDE\n",
    "for (i in 1:10000) {\n",
    "\n",
    "    # CREATE SIMULATION OF 20 GUESSES OF TRUE OR FALSE\n",
    "    simulated_attempts <- sample(c('Correct', 'Incorrect'), \n",
    "                               size = 20, \n",
    "                               prob = c(0.2, 0.8), \n",
    "                               replace = TRUE)\n",
    "  \n",
    "    # APPEND MEAN VALUE INTO ARRAY\n",
    "    proportion_correct[i] <- mean(simulated_attempts == 'Correct')\n",
    "}"
   ]
  },
  {
   "cell_type": "markdown",
   "metadata": {},
   "source": [
    "### Step 5: Plot distribution of the simulation results"
   ]
  },
  {
   "cell_type": "code",
   "execution_count": 31,
   "metadata": {},
   "outputs": [
    {
     "data": {
      "image/png": "[encoded data removed]",
      "text/plain": [
       "Plot with title \"Histogram of proportion_correct\""
      ]
     },
     "metadata": {},
     "output_type": "display_data"
    }
   ],
   "source": [
    "hist(proportion_correct, \n",
    "     freq = FALSE, \n",
    "     col = \"lightblue\",\n",
    "     breaks = seq(-0.025, max(proportion_correct) + 0.025, 0.05))"
   ]
  },
  {
   "cell_type": "markdown",
   "metadata": {},
   "source": [
    "How weird were the proportions you observed? How often would you expect to get the score you found just by chance? How often would you expect to find that score or an even higher one?\n",
    "\n",
    "Do you think that chance fully accounts for your score?\n",
    "\n",
    "If you got a rather high score, what should you do next?"
   ]
  },
  {
   "cell_type": "markdown",
   "metadata": {},
   "source": [
    "How often would you expect to get the score you found just by chance? How often would you expect to find that score or an even higher one?\n",
    "\n",
    "Consider a proportion of 0.4. How often would you expect to score 8 of 20?"
   ]
  },
  {
   "cell_type": "code",
   "execution_count": 41,
   "metadata": {},
   "outputs": [
    {
     "data": {
      "text/html": [
       "0.0224"
      ],
      "text/latex": [
       "0.0224"
      ],
      "text/markdown": [
       "0.0224"
      ],
      "text/plain": [
       "[1] 0.0224"
      ]
     },
     "metadata": {},
     "output_type": "display_data"
    }
   ],
   "source": [
    "mean(proportion_correct == 0.4)"
   ]
  },
  {
   "cell_type": "markdown",
   "metadata": {},
   "source": [
    "What about scoring at least an 8 of 20?"
   ]
  },
  {
   "cell_type": "code",
   "execution_count": 39,
   "metadata": {},
   "outputs": [
    {
     "data": {
      "text/html": [
       "0.0338"
      ],
      "text/latex": [
       "0.0338"
      ],
      "text/markdown": [
       "0.0338"
      ],
      "text/plain": [
       "[1] 0.0338"
      ]
     },
     "metadata": {},
     "output_type": "display_data"
    }
   ],
   "source": [
    "mean(proportion_correct >= 0.4)"
   ]
  },
  {
   "cell_type": "markdown",
   "metadata": {},
   "source": [
    "What about the anti-psychics? Is 0 out of 20 uncommon?"
   ]
  },
  {
   "cell_type": "code",
   "execution_count": 42,
   "metadata": {},
   "outputs": [
    {
     "data": {
      "text/html": [
       "0.0115"
      ],
      "text/latex": [
       "0.0115"
      ],
      "text/markdown": [
       "0.0115"
      ],
      "text/plain": [
       "[1] 0.0115"
      ]
     },
     "metadata": {},
     "output_type": "display_data"
    }
   ],
   "source": [
    "mean(proportion_correct == 0)"
   ]
  },
  {
   "cell_type": "markdown",
   "metadata": {},
   "source": [
    "Do you think that chance fully accounts for your score?\n",
    "\n",
    "Probably not. People aren't good random number generators, so the sender probably had fewer repeats (e.g. 1, then 1 again) than a random sequence would. People also think that if a number hasn't come up in a while, it is \"due\". Finally, the sender may have communicated non-telepathically, whether deliberately or not. That's a potential confound.\n",
    "\n",
    "If you got a rather high score, what should you do next?\n",
    "\n",
    "- Replicate.\n",
    "\n",
    "- Look for confounds.\n",
    "\n",
    "- Profit. (Okay, don't do this. But people who do emphasize their rare–but expected–successes and ignore their failures!)"
   ]
  }
 ],
 "metadata": {
  "kernelspec": {
   "display_name": "R",
   "language": "R",
   "name": "ir"
  },
  "language_info": {
   "codemirror_mode": "r",
   "file_extension": ".r",
   "mimetype": "text/x-r-source",
   "name": "R",
   "pygments_lexer": "r",
   "version": "3.6.1"
  }
 },
 "nbformat": 4,
 "nbformat_minor": 4
}
