{
 "cells": [
  {
   "cell_type": "markdown",
   "metadata": {},
   "source": [
    "# Exercise 20 – Introduction to Statistical Significance\n",
    "\n",
    "Notebook Written By: WDY (Yale-NUS '24) \n",
    "(Come say hi at https://www.linkedin.com/in/dys-profile/)\n",
    "\n",
    "### Introduction\n",
    "\n",
    "- Uncertainty quantification requires the concept of randomness, introduced recently.\n",
    "\n",
    "\n",
    "- Statistical significance is one method for uncertainty quantification.\n",
    "\n",
    "\n",
    "- We recently introduced the for loop, a programming technique which allows for more efficient programming of simulations.\n",
    "\n",
    "\n",
    "- Today, we use simulations to determine statistical significance."
   ]
  },
  {
   "cell_type": "markdown",
   "metadata": {},
   "source": [
    "### Permutation tests\n",
    "\n",
    "Statistical significance is about whether an observed effect was likely if there is actually no effect in the data generating process. A simulation-based way to investigate statistical significance is permutation.\n",
    "\n",
    "Consider permuting (randomly switching) the values of the variable that is suspected to have an effect on an outcome. Permuting breaks any association with the outcome. Thus, permuting is a data-generating process in which there is no effect on the outcome.\n",
    "\n",
    "We will compare simulated data with observed data to determine statistical significance."
   ]
  },
  {
   "cell_type": "markdown",
   "metadata": {},
   "source": [
    "### Based on this exercise:\n",
    "\n",
    "- Decide practical significance.\n",
    "\n",
    "\n",
    "- Describe statistical significance using simulations.\n",
    "\n",
    "\n",
    "- Use the chi-square statistic as a response variable in a permutation test to decide statistical significance of patterns in categorical variables.\n",
    "\n",
    "\n",
    "- Use the slope of a linear model as a response variable in a permutation test to decide statistical significance of patterns in numerical variables.\n",
    "\n",
    "\n",
    "- Describe p-hacking, and explain why it should never be done."
   ]
  },
  {
   "cell_type": "markdown",
   "metadata": {},
   "source": [
    "### Step 1: Read the Titanic dataset"
   ]
  },
  {
   "cell_type": "code",
   "execution_count": 2,
   "metadata": {},
   "outputs": [],
   "source": [
    "titanic <- read.csv(\"C:/Users/Admin/OneDrive/Documents/Yale-NUS/Quantitative Reasoning/Quantitative Reasoning Repo/Part 26 - Introduction to Statistical Significance/titanic.csv\")"
   ]
  },
  {
   "cell_type": "code",
   "execution_count": 3,
   "metadata": {},
   "outputs": [
    {
     "data": {
      "text/html": [
       "<table>\n",
       "<thead><tr><th scope=col>gender</th><th scope=col>age</th><th scope=col>class</th><th scope=col>survived</th><th scope=col>ticket_pound</th><th scope=col>ticket_shilling</th><th scope=col>ticket_penny</th></tr></thead>\n",
       "<tbody>\n",
       "\t<tr><td>Male  </td><td>41    </td><td>3rd   </td><td>FALSE </td><td> 7    </td><td>11    </td><td> 0    </td></tr>\n",
       "\t<tr><td>Male  </td><td>21    </td><td>Crew  </td><td>FALSE </td><td>NA    </td><td>NA    </td><td>NA    </td></tr>\n",
       "\t<tr><td>Male  </td><td>13    </td><td>3rd   </td><td>FALSE </td><td>20    </td><td> 5    </td><td> 0    </td></tr>\n",
       "\t<tr><td>Male  </td><td>16    </td><td>3rd   </td><td>FALSE </td><td>20    </td><td> 5    </td><td> 0    </td></tr>\n",
       "\t<tr><td>Female</td><td>39    </td><td>3rd   </td><td> TRUE </td><td>20    </td><td> 5    </td><td> 0    </td></tr>\n",
       "\t<tr><td>Female</td><td>16    </td><td>3rd   </td><td> TRUE </td><td> 7    </td><td>13    </td><td> 0    </td></tr>\n",
       "</tbody>\n",
       "</table>\n"
      ],
      "text/latex": [
       "\\begin{tabular}{r|lllllll}\n",
       " gender & age & class & survived & ticket\\_pound & ticket\\_shilling & ticket\\_penny\\\\\n",
       "\\hline\n",
       "\t Male   & 41     & 3rd    & FALSE  &  7     & 11     &  0    \\\\\n",
       "\t Male   & 21     & Crew   & FALSE  & NA     & NA     & NA    \\\\\n",
       "\t Male   & 13     & 3rd    & FALSE  & 20     &  5     &  0    \\\\\n",
       "\t Male   & 16     & 3rd    & FALSE  & 20     &  5     &  0    \\\\\n",
       "\t Female & 39     & 3rd    &  TRUE  & 20     &  5     &  0    \\\\\n",
       "\t Female & 16     & 3rd    &  TRUE  &  7     & 13     &  0    \\\\\n",
       "\\end{tabular}\n"
      ],
      "text/markdown": [
       "\n",
       "| gender | age | class | survived | ticket_pound | ticket_shilling | ticket_penny |\n",
       "|---|---|---|---|---|---|---|\n",
       "| Male   | 41     | 3rd    | FALSE  |  7     | 11     |  0     |\n",
       "| Male   | 21     | Crew   | FALSE  | NA     | NA     | NA     |\n",
       "| Male   | 13     | 3rd    | FALSE  | 20     |  5     |  0     |\n",
       "| Male   | 16     | 3rd    | FALSE  | 20     |  5     |  0     |\n",
       "| Female | 39     | 3rd    |  TRUE  | 20     |  5     |  0     |\n",
       "| Female | 16     | 3rd    |  TRUE  |  7     | 13     |  0     |\n",
       "\n"
      ],
      "text/plain": [
       "  gender age class survived ticket_pound ticket_shilling ticket_penny\n",
       "1 Male   41  3rd   FALSE     7           11               0          \n",
       "2 Male   21  Crew  FALSE    NA           NA              NA          \n",
       "3 Male   13  3rd   FALSE    20            5               0          \n",
       "4 Male   16  3rd   FALSE    20            5               0          \n",
       "5 Female 39  3rd    TRUE    20            5               0          \n",
       "6 Female 16  3rd    TRUE     7           13               0          "
      ]
     },
     "metadata": {},
     "output_type": "display_data"
    }
   ],
   "source": [
    "head(titanic)"
   ]
  },
  {
   "cell_type": "markdown",
   "metadata": {},
   "source": [
    "- There are several ways of analyzing dependence in 2-way tables.\n",
    "\n",
    "\n",
    "- We will explore two of them for the simple case of two binary variables and the corresponding 2 x 2 contingency table.\n",
    "\n",
    "\n",
    "- We are going to use simulations, in particular a technique called permutation.\n",
    "\n",
    "\n",
    "- We first study the dependence between survival and gender. We wish to make inferences about the probabilities of survival for males and females. In particular, we wish to examine whether gender and survival are associated."
   ]
  },
  {
   "cell_type": "markdown",
   "metadata": {},
   "source": [
    "### Step 2: Analyze the relationship between Survival and Gender\n",
    "\n",
    "- Create a 2x2 contingency table of survived and gender.\n",
    "\n",
    "- Visualize these data appropriately"
   ]
  },
  {
   "cell_type": "code",
   "execution_count": 4,
   "metadata": {},
   "outputs": [
    {
     "data": {
      "text/plain": [
       "       \n",
       "        Female Male\n",
       "  FALSE    130 1366\n",
       "  TRUE     349  363"
      ]
     },
     "metadata": {},
     "output_type": "display_data"
    }
   ],
   "source": [
    "table(titanic$survived, titanic$gender)"
   ]
  },
  {
   "cell_type": "code",
   "execution_count": 5,
   "metadata": {},
   "outputs": [
    {
     "data": {
      "image/png": "[encoded data removed]",
      "text/plain": [
       "plot without title"
      ]
     },
     "metadata": {},
     "output_type": "display_data"
    }
   ],
   "source": [
    "barplot(table(titanic$survived, titanic$gender),\n",
    "       legend = TRUE,\n",
    "       args.legend = list(x = \"topleft\",\n",
    "                         bty = \"n\"))"
   ]
  },
  {
   "cell_type": "markdown",
   "metadata": {},
   "source": [
    "### Step 3:  Compute the proportion of males and the proportion of females that died."
   ]
  },
  {
   "cell_type": "code",
   "execution_count": 6,
   "metadata": {},
   "outputs": [
    {
     "data": {
      "text/plain": [
       "\n",
       "    FALSE      TRUE \n",
       "0.7900521 0.2099479 "
      ]
     },
     "metadata": {},
     "output_type": "display_data"
    }
   ],
   "source": [
    "# CALCULATE MALES THAT SURVIVED\n",
    "\n",
    "males <- titanic[titanic$gender == \"Male\", ]\n",
    "\n",
    "table(males$survived)/nrow(males)"
   ]
  },
  {
   "cell_type": "code",
   "execution_count": 7,
   "metadata": {},
   "outputs": [
    {
     "data": {
      "text/plain": [
       "\n",
       "    FALSE      TRUE \n",
       "0.2713987 0.7286013 "
      ]
     },
     "metadata": {},
     "output_type": "display_data"
    }
   ],
   "source": [
    "# CALCULATE FEMALES THAT SURVIVED\n",
    "\n",
    "females <- titanic[titanic$gender == \"Female\", ]\n",
    "\n",
    "table(females$survived)/nrow(females)"
   ]
  },
  {
   "cell_type": "markdown",
   "metadata": {},
   "source": [
    "### Practical and statistical significance\n",
    "\n",
    "- Is 79% of the males dying versus 27% of females practically significant?\n",
    "\n",
    "- Is 79% of the males dying versus 27% of females statistically significant?"
   ]
  },
  {
   "cell_type": "markdown",
   "metadata": {},
   "source": [
    "- Males dying 3 times as often as females is a meaningful difference and therefore practically significant.\n",
    "\n",
    "- Whether this difference is statistically significant depends on how likely such a difference is when survival does not depend on gender. To decide this likelihood, we can do some simulations with a permutation test."
   ]
  },
  {
   "cell_type": "markdown",
   "metadata": {},
   "source": [
    "### The response variable as a ratio\n",
    "\n",
    "We want to study the statistical significance of changing two statistics: male mortality rate and female mortality rate. Comparing two statistics simultaneously is difficult, because it requires thinking and plotting graphs in more than two dimensions.\n",
    "\n",
    "So we combine the two statistics into a single response variable.\n",
    "\n",
    "There are several ways of doing this; one is to have the response be the ratio:\n",
    "- male mortality rate / female mortality rate\n",
    "\n",
    "\n",
    "- The range of possible values would be (0,∞)\n",
    "\n",
    "- Another way of combining the two statistics together would be to subtract one from the other"
   ]
  },
  {
   "cell_type": "markdown",
   "metadata": {},
   "source": [
    "### Step 4: Perform a simulation to check for statistical significance\n",
    "\n",
    "Let us perform a simulation to check for statistical significance:\n",
    "\n",
    "- Write code that computes the response variable, namely the ratio of the mortality rates for males versus females, from a data frame. To make your code reusable, begin by making a copy of your data frame tmp <- titanic and using the data frame tmp thereafter.\n",
    "- Check that your code computes the response variable close to 3 for the real data."
   ]
  },
  {
   "cell_type": "code",
   "execution_count": 8,
   "metadata": {},
   "outputs": [
    {
     "data": {
      "text/html": [
       "2.91103794990435"
      ],
      "text/latex": [
       "2.91103794990435"
      ],
      "text/markdown": [
       "2.91103794990435"
      ],
      "text/plain": [
       "[1] 2.911038"
      ]
     },
     "metadata": {},
     "output_type": "display_data"
    }
   ],
   "source": [
    "tmp <- titanic\n",
    "\n",
    "# CALCULATE MEAN MORTALITY FOR MALES\n",
    "mean.mortality_males <- 1 - mean(tmp$survived[tmp$gender == \"Male\"])\n",
    "\n",
    "# CALCULATE MEAN MORTALITY FOR FEMALES\n",
    "mean.mortality_females <- 1 - mean(tmp$survived[tmp$gender == \"Female\"])\n",
    "\n",
    "# DELIVER THE RATIO OF MORTALITY RATES OF MALES AGAINST MORTALITY RATES OF FEMALES\n",
    "response.true <- mean.mortality_males/mean.mortality_females\n",
    "\n",
    "response.true"
   ]
  },
  {
   "cell_type": "markdown",
   "metadata": {},
   "source": [
    "Create more code that permutes gender in the data frame tmp, to break any dependence with survival, and returns the response variable."
   ]
  },
  {
   "cell_type": "code",
   "execution_count": 9,
   "metadata": {},
   "outputs": [
    {
     "data": {
      "text/html": [
       "1.030374407263"
      ],
      "text/latex": [
       "1.030374407263"
      ],
      "text/markdown": [
       "1.030374407263"
      ],
      "text/plain": [
       "[1] 1.030374"
      ]
     },
     "metadata": {},
     "output_type": "display_data"
    }
   ],
   "source": [
    "tmp <- titanic \n",
    "\n",
    "# PERMUTE THE GENDER, RANDOMIZE THE GENDER FOR EACH DATA\n",
    "tmp$gender <- sample(tmp$gender)\n",
    "\n",
    "# NOW CALCULATE THE MEAN MORTALITY FOR MALES AND FEMALES\n",
    "mean.mortality_males <- 1 - mean(tmp$survived[tmp$gender == \"Male\"])\n",
    "mean.mortality_females <- 1 - mean(tmp$survived[tmp$gender == \"Female\"])\n",
    "\n",
    "response <- mean.mortality_males/mean.mortality_females\n",
    "\n",
    "response"
   ]
  },
  {
   "cell_type": "markdown",
   "metadata": {},
   "source": [
    "This value is slightly less than 1. "
   ]
  },
  {
   "cell_type": "markdown",
   "metadata": {},
   "source": [
    "### Step 5: Create more simulations to check for statistical significance\n",
    "\n",
    "We wrote some code to generate a single response based on a random permutation. We will use this code to test whether the ratio of mortalities of 2.9 is statistically significant.\n",
    "\n",
    "Use 10,000 trials and visualize the results from your permutation test.\n"
   ]
  },
  {
   "cell_type": "code",
   "execution_count": 10,
   "metadata": {},
   "outputs": [],
   "source": [
    "tmp <- titanic\n",
    "\n",
    "# NUMBER OF TRIALS\n",
    "trials <- 10000\n",
    "\n",
    "# INITALIZE ARRAY OF 10000 TRIES\n",
    "responses <- numeric(trials)\n",
    "\n",
    "for (i in 1:trials) {\n",
    "    \n",
    "    # PERMUTE THE GENDER, RANDOMIZE THE GENDER FOR EACH DATA\n",
    "    tmp$gender <- sample(tmp$gender)\n",
    "\n",
    "    # NOW CALCULATE THE MEAN MORTALITY FOR MALES AND FEMALES\n",
    "    mean.mortality_males <- 1 - mean(tmp$survived[tmp$gender == \"Male\"])\n",
    "    mean.mortality_females <- 1 - mean(tmp$survived[tmp$gender == \"Female\"])\n",
    "\n",
    "    # APPEND VALUE INTO ARRAY\n",
    "    responses[i] <- mean.mortality_males/mean.mortality_females\n",
    "}"
   ]
  },
  {
   "cell_type": "markdown",
   "metadata": {},
   "source": [
    "### Step 6: Display on a histogram the distribution of the response variable.\n",
    "\n",
    "- On the same histogram, use vertical ablines to show the interval in which 95% of the responses fall, and where the actual response is.\n",
    "- We use 95% because it is range in which we are reasonably confident that the true value will lie. This corresponds to 2 standard deviations on either side of the mean for a normal distribution."
   ]
  },
  {
   "cell_type": "code",
   "execution_count": 11,
   "metadata": {},
   "outputs": [
    {
     "data": {
      "image/png": "[encoded data removed]",
      "text/plain": [
       "Plot with title \"Histogram of responses\""
      ]
     },
     "metadata": {},
     "output_type": "display_data"
    }
   ],
   "source": [
    "hist(responses, \n",
    "    col = \"lightblue\")"
   ]
  },
  {
   "cell_type": "markdown",
   "metadata": {},
   "source": [
    "The actual response of 2.9 in the ratio of mortalities is statistically significant since the permutation test never yielded an actual response so large."
   ]
  },
  {
   "cell_type": "markdown",
   "metadata": {},
   "source": [
    "Because responses has values in the interval (0,∞), and x and 1/x are equivalently extreme, it makes sense to plot the log(responses)."
   ]
  },
  {
   "cell_type": "markdown",
   "metadata": {},
   "source": [
    "### Step 7: Plot the log(responses)"
   ]
  },
  {
   "cell_type": "code",
   "execution_count": 19,
   "metadata": {},
   "outputs": [
    {
     "data": {
      "image/png": "[encoded data removed]",
      "text/plain": [
       "Plot with title \"Histogram of log(responses)\""
      ]
     },
     "metadata": {},
     "output_type": "display_data"
    }
   ],
   "source": [
    "# PLOT THE HISTOGRAM OF LOG RESPONSES\n",
    "hist(log(responses),\n",
    "    xlim = c(-1.2, 1.2))\n",
    "\n",
    "# PLOT STRAIGHT LINES TO THE HISTOGRAM\n",
    "\n",
    "# DISPLAY THE 2 TAILS, AND THE CORRESPONDING 95% RANGE\n",
    "abline(v = quantile(log(responses), c(0.025, 0.975)),\n",
    "      col = \"orange\", \n",
    "      lwd = 2)\n",
    "\n",
    "# PLOT THE LINE OF RESPONSE.TRUE TO SEE HOW FAR THE PLOTS ARE FROM THE GRAPH\n",
    "abline(v = log(response.true), \n",
    "       col = \"blue\",\n",
    "       lwd = 2)\n",
    "\n",
    "# CREATE LEGEND OF THE ABLINES\n",
    "legend(\"topleft\",\n",
    "       legend = c(\"range of 95% of log(responses)\",\n",
    "                 \"log(actual response)\"),\n",
    "       lty = 1,\n",
    "       lwd = 2, \n",
    "       col = c(\"orange\", \"blue\"))"
   ]
  },
  {
   "cell_type": "markdown",
   "metadata": {},
   "source": [
    "### Conclusion\n",
    "\n",
    "We performed a permutation test, which randomly permutes the gender of passengers, then calculates the response variable, a ratio of mortalities of males and females.\n",
    "\n",
    "By using many permutations, we found the distribution of the response variable under random chance.\n",
    "\n",
    "We found that it is extremely unlikely (much less than 5%) that the response variable of 2.9 could have arisen by chance.\n",
    "\n",
    "We conclude that the value of the ratio we studied is statistically significant, so the mortality rates for males and females \n",
    "differ in a statistically significant way; the difference is not just large (79% vs 27%), but is unlikely to be due to chance alone."
   ]
  },
  {
   "cell_type": "code",
   "execution_count": 20,
   "metadata": {},
   "outputs": [
    {
     "data": {
      "text/html": [
       "<table>\n",
       "<thead><tr><th scope=col>gender</th><th scope=col>age</th><th scope=col>class</th><th scope=col>survived</th><th scope=col>ticket_pound</th><th scope=col>ticket_shilling</th><th scope=col>ticket_penny</th></tr></thead>\n",
       "<tbody>\n",
       "\t<tr><td>Male  </td><td>41    </td><td>3rd   </td><td>FALSE </td><td> 7    </td><td>11    </td><td> 0    </td></tr>\n",
       "\t<tr><td>Male  </td><td>21    </td><td>Crew  </td><td>FALSE </td><td>NA    </td><td>NA    </td><td>NA    </td></tr>\n",
       "\t<tr><td>Male  </td><td>13    </td><td>3rd   </td><td>FALSE </td><td>20    </td><td> 5    </td><td> 0    </td></tr>\n",
       "\t<tr><td>Male  </td><td>16    </td><td>3rd   </td><td>FALSE </td><td>20    </td><td> 5    </td><td> 0    </td></tr>\n",
       "\t<tr><td>Female</td><td>39    </td><td>3rd   </td><td> TRUE </td><td>20    </td><td> 5    </td><td> 0    </td></tr>\n",
       "\t<tr><td>Female</td><td>16    </td><td>3rd   </td><td> TRUE </td><td> 7    </td><td>13    </td><td> 0    </td></tr>\n",
       "</tbody>\n",
       "</table>\n"
      ],
      "text/latex": [
       "\\begin{tabular}{r|lllllll}\n",
       " gender & age & class & survived & ticket\\_pound & ticket\\_shilling & ticket\\_penny\\\\\n",
       "\\hline\n",
       "\t Male   & 41     & 3rd    & FALSE  &  7     & 11     &  0    \\\\\n",
       "\t Male   & 21     & Crew   & FALSE  & NA     & NA     & NA    \\\\\n",
       "\t Male   & 13     & 3rd    & FALSE  & 20     &  5     &  0    \\\\\n",
       "\t Male   & 16     & 3rd    & FALSE  & 20     &  5     &  0    \\\\\n",
       "\t Female & 39     & 3rd    &  TRUE  & 20     &  5     &  0    \\\\\n",
       "\t Female & 16     & 3rd    &  TRUE  &  7     & 13     &  0    \\\\\n",
       "\\end{tabular}\n"
      ],
      "text/markdown": [
       "\n",
       "| gender | age | class | survived | ticket_pound | ticket_shilling | ticket_penny |\n",
       "|---|---|---|---|---|---|---|\n",
       "| Male   | 41     | 3rd    | FALSE  |  7     | 11     |  0     |\n",
       "| Male   | 21     | Crew   | FALSE  | NA     | NA     | NA     |\n",
       "| Male   | 13     | 3rd    | FALSE  | 20     |  5     |  0     |\n",
       "| Male   | 16     | 3rd    | FALSE  | 20     |  5     |  0     |\n",
       "| Female | 39     | 3rd    |  TRUE  | 20     |  5     |  0     |\n",
       "| Female | 16     | 3rd    |  TRUE  |  7     | 13     |  0     |\n",
       "\n"
      ],
      "text/plain": [
       "  gender age class survived ticket_pound ticket_shilling ticket_penny\n",
       "1 Male   41  3rd   FALSE     7           11               0          \n",
       "2 Male   21  Crew  FALSE    NA           NA              NA          \n",
       "3 Male   13  3rd   FALSE    20            5               0          \n",
       "4 Male   16  3rd   FALSE    20            5               0          \n",
       "5 Female 39  3rd    TRUE    20            5               0          \n",
       "6 Female 16  3rd    TRUE     7           13               0          "
      ]
     },
     "metadata": {},
     "output_type": "display_data"
    }
   ],
   "source": [
    "head(titanic)"
   ]
  },
  {
   "cell_type": "markdown",
   "metadata": {},
   "source": [
    "### More Categorical Variables\n",
    "\n",
    "The table of mortality and survival by class has 8 statistics."
   ]
  },
  {
   "cell_type": "code",
   "execution_count": 21,
   "metadata": {},
   "outputs": [
    {
     "data": {
      "text/plain": [
       "      \n",
       "       FALSE TRUE\n",
       "  1st    113  173\n",
       "  2nd    154  117\n",
       "  3rd    528  181\n",
       "  Crew   701  241"
      ]
     },
     "metadata": {},
     "output_type": "display_data"
    }
   ],
   "source": [
    "table(titanic$class, titanic$survived)"
   ]
  },
  {
   "cell_type": "markdown",
   "metadata": {},
   "source": [
    "With only 2 statistics, we could take a ratio to produce a single response variable, but with 8 statistics we need something more advanced: the chi-square statistic (χ2 statistic)."
   ]
  },
  {
   "cell_type": "markdown",
   "metadata": {},
   "source": [
    "We compare values of the statistics in the data with expected values:\n",
    "\n",
    "- The expected values are the values are what those values would be if mortality rates were the same for each class.\n",
    "- Expected values can be computed using the number of people in each class and the mean death rate across classes.\n",
    "- Expected values are all positive.\n",
    "\n",
    "- χ2 = ∑ (k an entry in the table) (Observedk − Expectedk)^2 / Expectedk"
   ]
  },
  {
   "cell_type": "markdown",
   "metadata": {},
   "source": [
    "### Step 8: Build R Code for the χ2 statistic"
   ]
  },
  {
   "cell_type": "code",
   "execution_count": 28,
   "metadata": {},
   "outputs": [
    {
     "data": {
      "text/html": [
       "153.011152294791"
      ],
      "text/latex": [
       "153.011152294791"
      ],
      "text/markdown": [
       "153.011152294791"
      ],
      "text/plain": [
       "[1] 153.0112"
      ]
     },
     "metadata": {},
     "output_type": "display_data"
    }
   ],
   "source": [
    "tmp <- titanic\n",
    "\n",
    "# CREATE A TABLE OF OBSERVED VALUES\n",
    "Observed <- table(tmp$class, tmp$survived)\n",
    "\n",
    "# CREATE A TABLE OF EXPECTED VALUES\n",
    "Expected <- table(tmp$class, tmp$survived)\n",
    "\n",
    "# FIND THE MEAN MORTALITY RATE OF ALL\n",
    "mean.mortality <- 1 - mean(tmp$survived)\n",
    "\n",
    "# MULTIPLY THE MEAN MORTALITY RATE BY THE TOTAL NUMBER OF PEOPLE IN EACH CLASS TO GET EXPECTED MORTALITY RATE\n",
    "Expected[, 1] <- mean.mortality * table(tmp$class)\n",
    "\n",
    "# MULTIPLY THE 1 - MEAN MORTALITY RATE BY THE TOTAL NUMBER OF PEOPLE IN EACH CLASS TO GET EXPECTED SURVIVAL RATE\n",
    "Expected[, 2] <- (1 - mean.mortality) * table(tmp$class)\n",
    "\n",
    "response <- sum( (Observed - Expected)^2 / Expected )\n",
    "response"
   ]
  },
  {
   "cell_type": "markdown",
   "metadata": {},
   "source": [
    "The response variable is the chi-square statistic."
   ]
  },
  {
   "cell_type": "markdown",
   "metadata": {},
   "source": [
    "### Step 9: Perform a permutation test to determine whether the association between survival and class is statistically significant"
   ]
  },
  {
   "cell_type": "markdown",
   "metadata": {},
   "source": [
    "- Use the chi-square statistic as the response variable.\n",
    "- You will have to edit the code to introduce a loop and record many responses.\n",
    "- You might also want to edit / rearrange the code to make it run more efficiently. Think about what needs to be within the loop and what does not."
   ]
  },
  {
   "cell_type": "code",
   "execution_count": 34,
   "metadata": {},
   "outputs": [],
   "source": [
    "# CREATE A TABLE OF EXPECTED VALUES\n",
    "Expected <- table(titanic$class, titanic$survived)\n",
    "\n",
    "# FIND THE MORTALITY RATE OF ALL\n",
    "mean.mortality <- 1 - mean(tmp$survived)\n",
    "\n",
    "# NOW ADJUST THE VALUES INSIDE EXPECTED TABLE\n",
    "Expected[, 1] <- mean.mortality * table(titanic$class)\n",
    "Expected[, 2] <- (1 - mean.mortality) * table(titanic$class)"
   ]
  },
  {
   "cell_type": "code",
   "execution_count": 35,
   "metadata": {},
   "outputs": [],
   "source": [
    "# INTRODUCE NUMBER OF TRIALS\n",
    "trials <- 10000\n",
    "\n",
    "# INITIALIZE AN ARRAY TO FIT THE TRIAL RESULTS INSIDE\n",
    "responses <- numeric(trials)\n",
    "\n",
    "# APPEND VALUES INTO THE ARRAY USING A FOR LOOP\n",
    "for (i in 1:trials) {\n",
    "    \n",
    "    # CREATE A TEMPORARY DATASET TO BE ITERATED\n",
    "    tmp <- titanic\n",
    "    \n",
    "    # NOW PERMUTE THE VALUES INSIDE CLASS TO MAKE THE CLASS ROW VALUES RANDOMIZED\n",
    "    tmp$class <- sample(tmp$class)\n",
    "    \n",
    "    # NOW FIND THE TABLE OF SIMULATED VALUES OF SURVIVED AND FATAL\n",
    "    Simulated <- table(tmp$class, tmp$survived)\n",
    "    \n",
    "    # RECORD THE RESPONSE VARIABLE INTO THE ARRAY\n",
    "    responses[i] <- sum( (Simulated - Expected)^2 / Expected)\n",
    "}"
   ]
  },
  {
   "cell_type": "markdown",
   "metadata": {},
   "source": [
    "### Step 10: Plot the distribution of the responses array"
   ]
  },
  {
   "cell_type": "code",
   "execution_count": 37,
   "metadata": {},
   "outputs": [
    {
     "data": {
      "image/png": "[encoded data removed]",
      "text/plain": [
       "Plot with title \"Histogram of responses\""
      ]
     },
     "metadata": {},
     "output_type": "display_data"
    }
   ],
   "source": [
    "hist(responses,\n",
    "    col = \"lightblue\")"
   ]
  },
  {
   "cell_type": "code",
   "execution_count": 38,
   "metadata": {},
   "outputs": [
    {
     "data": {
      "text/html": [
       "153.011152294791"
      ],
      "text/latex": [
       "153.011152294791"
      ],
      "text/markdown": [
       "153.011152294791"
      ],
      "text/plain": [
       "[1] 153.0112"
      ]
     },
     "metadata": {},
     "output_type": "display_data"
    }
   ],
   "source": [
    "Observed <- table(titanic$class, titanic$survived)\n",
    "response <- sum( ( Observed - Expected )^2 / Expected )\n",
    "response"
   ]
  },
  {
   "cell_type": "markdown",
   "metadata": {},
   "source": [
    "The observed chi-square is much (very very much!) larger than any of the simulated chi-square values. Therefore there is statistical significance."
   ]
  },
  {
   "cell_type": "markdown",
   "metadata": {},
   "source": [
    "### Conclusion\n",
    "\n",
    "- We learned that the chi-square statistic can be used with permutation tests in which the response variable has to synthesize the output of several categorical variables.\n",
    "\n",
    "\n",
    "- We learned how to compute the chi-square statistic.\n",
    "\n",
    "\n",
    "- We performed a permutation test, which randomly permutes the class of passengers, then calculates the response variable, a chi-square statistic.\n",
    "\n",
    "\n",
    "- By using many permutations, we found the distribution of the response variable under random chance.\n",
    "\n",
    "\n",
    "- We found that it is extremely unlikely (much less than 5%) that the response variable of 2.9 could have arisen by chance.\n",
    "\n",
    "\n",
    "- We conclude that the chi-square statistic is statistically significant."
   ]
  }
 ],
 "metadata": {
  "kernelspec": {
   "display_name": "R",
   "language": "R",
   "name": "ir"
  },
  "language_info": {
   "codemirror_mode": "r",
   "file_extension": ".r",
   "mimetype": "text/x-r-source",
   "name": "R",
   "pygments_lexer": "r",
   "version": "3.6.1"
  }
 },
 "nbformat": 4,
 "nbformat_minor": 4
}
