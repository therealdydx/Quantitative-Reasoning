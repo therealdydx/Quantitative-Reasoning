{
 "cells": [
  {
   "cell_type": "markdown",
   "metadata": {},
   "source": [
    "# Exercise 5 – Female Demographics in Singapore\n",
    "\n",
    "Notebook Written By: WDY (Yale-NUS '24) (Come say hi at https://www.linkedin.com/in/dys-profile/)\n",
    "\n",
    "### Introduction"
   ]
  },
  {
   "cell_type": "markdown",
   "metadata": {},
   "source": [
    "The Urban Redevelopment Authority divides Singapore into 231 subzones for purposes of statistics and urban planning.\n",
    "\n",
    "The objective of this activity is to determine whether we can apply the normal model to the proportion of women in the subzones."
   ]
  },
  {
   "cell_type": "markdown",
   "metadata": {},
   "source": [
    "We will be working with a dataset of Singapore's demographics. Let's read the data into the notebook first. Following that, let's do a quick look through of the dataset to find any interesting information."
   ]
  },
  {
   "cell_type": "code",
   "execution_count": 12,
   "metadata": {},
   "outputs": [],
   "source": [
    "sg_pop <- read.csv(\"C:/Users/Admin/OneDrive/Documents/Yale-NUS/Quantitative Reasoning/Quantitative Reasoning Repository/Exercise 8 - Analyzing Student Surveys/sg_pop.csv\")"
   ]
  },
  {
   "cell_type": "markdown",
   "metadata": {},
   "source": [
    "## Step 1: Append a column fem_prop that contains the proportion of residents that are female."
   ]
  },
  {
   "cell_type": "code",
   "execution_count": 13,
   "metadata": {},
   "outputs": [],
   "source": [
    "sg_pop$fem_prop <- sg_pop$female / (sg_pop$female + sg_pop$male)"
   ]
  },
  {
   "cell_type": "markdown",
   "metadata": {},
   "source": [
    "## Step 2: Calculate the mean y¯ and standard deviation s of fem_prop."
   ]
  },
  {
   "cell_type": "code",
   "execution_count": 14,
   "metadata": {},
   "outputs": [
    {
     "data": {
      "text/html": [
       "0.511845110060475"
      ],
      "text/latex": [
       "0.511845110060475"
      ],
      "text/markdown": [
       "0.511845110060475"
      ],
      "text/plain": [
       "[1] 0.5118451"
      ]
     },
     "metadata": {},
     "output_type": "display_data"
    },
    {
     "data": {
      "text/html": [
       "0.0282637608072816"
      ],
      "text/latex": [
       "0.0282637608072816"
      ],
      "text/markdown": [
       "0.0282637608072816"
      ],
      "text/plain": [
       "[1] 0.02826376"
      ]
     },
     "metadata": {},
     "output_type": "display_data"
    }
   ],
   "source": [
    "y_bar <- mean(sg_pop$fem_prop)\n",
    "y_bar\n",
    "\n",
    "s <- sd(sg_pop$fem_prop)\n",
    "s"
   ]
  },
  {
   "cell_type": "markdown",
   "metadata": {},
   "source": [
    "## Step 3: Plot a histogram of fem_prop. Does the distribution pass the criteria for modelling as a normal distribution?"
   ]
  },
  {
   "cell_type": "code",
   "execution_count": 15,
   "metadata": {},
   "outputs": [
    {
     "data": {
      "image/png": "[encoded data removed]",
      "text/plain": [
       "Plot with title \"Histogram of sg_pop$fem_prop\""
      ]
     },
     "metadata": {},
     "output_type": "display_data"
    }
   ],
   "source": [
    "hist(sg_pop$fem_prop)"
   ]
  },
  {
   "cell_type": "markdown",
   "metadata": {},
   "source": [
    "## Step 4: Use R to answer the following questions.\n",
    "\n",
    "What percentage of subzones has a proportion of women <0.45:\n",
    "- according to the normal model,\n",
    "- according to the data?\n",
    "\n",
    "What are the predicted and observed percentages of subzones with a female proportion >0.55."
   ]
  },
  {
   "cell_type": "code",
   "execution_count": 16,
   "metadata": {},
   "outputs": [
    {
     "data": {
      "text/html": [
       "1.43296456944353"
      ],
      "text/latex": [
       "1.43296456944353"
      ],
      "text/markdown": [
       "1.43296456944353"
      ],
      "text/plain": [
       "[1] 1.432965"
      ]
     },
     "metadata": {},
     "output_type": "display_data"
    }
   ],
   "source": [
    "# What percentage of a normal distribution N(y_bar, s) is below 0.45?\n",
    "\n",
    "# pnorm(x, mean, sd)\n",
    "\n",
    "pnorm(0.45, mean = y_bar, sd = s) * 100"
   ]
  },
  {
   "cell_type": "code",
   "execution_count": 17,
   "metadata": {},
   "outputs": [
    {
     "data": {
      "text/html": [
       "2.16450216450216"
      ],
      "text/latex": [
       "2.16450216450216"
      ],
      "text/markdown": [
       "2.16450216450216"
      ],
      "text/plain": [
       "[1] 2.164502"
      ]
     },
     "metadata": {},
     "output_type": "display_data"
    }
   ],
   "source": [
    "# What percentage of the subzones are below 0.45?\n",
    "\n",
    "sum(sg_pop$fem_prop < 0.45) / nrow(sg_pop) * 100"
   ]
  },
  {
   "cell_type": "code",
   "execution_count": 18,
   "metadata": {},
   "outputs": [
    {
     "data": {
      "text/html": [
       "8.85147281387034"
      ],
      "text/latex": [
       "8.85147281387034"
      ],
      "text/markdown": [
       "8.85147281387034"
      ],
      "text/plain": [
       "[1] 8.851473"
      ]
     },
     "metadata": {},
     "output_type": "display_data"
    }
   ],
   "source": [
    "# What percentage of a normal distribution N(y_bar, s) is above 0.55?\n",
    "\n",
    "# 1 - probability because 0.55 is from 0 to 0.55 while we are finding 1 to 0.55\n",
    "\n",
    "(1 - pnorm(0.55, mean = y_bar, sd = s)) * 100"
   ]
  },
  {
   "cell_type": "code",
   "execution_count": 19,
   "metadata": {},
   "outputs": [
    {
     "data": {
      "text/html": [
       "2.5974025974026"
      ],
      "text/latex": [
       "2.5974025974026"
      ],
      "text/markdown": [
       "2.5974025974026"
      ],
      "text/plain": [
       "[1] 2.597403"
      ]
     },
     "metadata": {},
     "output_type": "display_data"
    }
   ],
   "source": [
    "# What percentage of the subzones are above 0.55?\n",
    "\n",
    "sum(sg_pop$fem_prop > 0.55) / nrow(sg_pop) * 100"
   ]
  },
  {
   "cell_type": "markdown",
   "metadata": {},
   "source": [
    "## Step 5: Make a histogram of fem_prop and overlay a normal distribution with the same mean and standard deviation. Vary the bin width to explore the data."
   ]
  },
  {
   "cell_type": "code",
   "execution_count": 21,
   "metadata": {},
   "outputs": [
    {
     "data": {
      "image/png": "[encoded data removed]",
      "text/plain": [
       "Plot with title \"Proportion of women in Singapore's subzones\""
      ]
     },
     "metadata": {},
     "output_type": "display_data"
    }
   ],
   "source": [
    "hist(sg_pop$fem_prop,\n",
    "     breaks = seq(0.24, 0.76, 0.01),\n",
    "     freq = FALSE,\n",
    "     col = \"lightgreen\",\n",
    "     main = \"Proportion of women in Singapore's subzones\",\n",
    "     xlab = \"Proportion\")\n",
    "\n",
    "# dnorm refers to the height of the point to the x axis, so you can draw a curve like that\n",
    "\n",
    "# dnorm(x, mean, sd)\n",
    "\n",
    "# curve(x, from = , to = , add = TRUE)\n",
    "# In this case, add is to add another existing plot on the current plot\n",
    "\n",
    "curve(dnorm(x, mean = y_bar, sd = s),\n",
    "      from = min(sg_pop$fem_prop),\n",
    "      to = max(sg_pop$fem_prop),\n",
    "      add = TRUE,\n",
    "      col = \"red\")"
   ]
  },
  {
   "cell_type": "markdown",
   "metadata": {},
   "source": [
    "## Step 6: Make a “Normal Probability Plot”."
   ]
  },
  {
   "cell_type": "code",
   "execution_count": 22,
   "metadata": {},
   "outputs": [
    {
     "data": {
      "image/png": "[encoded data removed]",
      "text/plain": [
       "Plot with title \"Normal Q-Q Plot\""
      ]
     },
     "metadata": {},
     "output_type": "display_data"
    }
   ],
   "source": [
    "# In this case, qq norm is basically a quantitle-quantile plot\n",
    "\n",
    "qqnorm(sg_pop$fem_prop)"
   ]
  },
  {
   "cell_type": "markdown",
   "metadata": {},
   "source": [
    "## Step 7: Remove Outliers\n",
    "\n",
    "Which subzones have a female proportion below 0.4? Which subzones have a female proportion above 0.6?"
   ]
  },
  {
   "cell_type": "code",
   "execution_count": 25,
   "metadata": {},
   "outputs": [
    {
     "data": {
      "text/html": [
       "<table>\n",
       "<thead><tr><th></th><th scope=col>subzone</th><th scope=col>female</th><th scope=col>male</th><th scope=col>fem_prop</th></tr></thead>\n",
       "<tbody>\n",
       "\t<tr><th scope=row>42</th><td>Clarke Quay </td><td>50          </td><td> 80         </td><td>0.3846154   </td></tr>\n",
       "\t<tr><th scope=row>88</th><td>Kampong Glam</td><td>60          </td><td>120         </td><td>0.3333333   </td></tr>\n",
       "</tbody>\n",
       "</table>\n"
      ],
      "text/latex": [
       "\\begin{tabular}{r|llll}\n",
       "  & subzone & female & male & fem\\_prop\\\\\n",
       "\\hline\n",
       "\t42 & Clarke Quay  & 50           &  80          & 0.3846154   \\\\\n",
       "\t88 & Kampong Glam & 60           & 120          & 0.3333333   \\\\\n",
       "\\end{tabular}\n"
      ],
      "text/markdown": [
       "\n",
       "| <!--/--> | subzone | female | male | fem_prop |\n",
       "|---|---|---|---|---|\n",
       "| 42 | Clarke Quay  | 50           |  80          | 0.3846154    |\n",
       "| 88 | Kampong Glam | 60           | 120          | 0.3333333    |\n",
       "\n"
      ],
      "text/plain": [
       "   subzone      female male fem_prop \n",
       "42 Clarke Quay  50      80  0.3846154\n",
       "88 Kampong Glam 60     120  0.3333333"
      ]
     },
     "metadata": {},
     "output_type": "display_data"
    },
    {
     "data": {
      "text/html": [
       "<table>\n",
       "<thead><tr><th></th><th scope=col>subzone</th><th scope=col>female</th><th scope=col>male</th><th scope=col>fem_prop</th></tr></thead>\n",
       "<tbody>\n",
       "\t<tr><th scope=row>65</th><td>Gali Batu                    </td><td> 80                          </td><td> 50                          </td><td>0.6153846                    </td></tr>\n",
       "\t<tr><th scope=row>129</th><td>National University of S'pore</td><td>260                          </td><td>100                          </td><td>0.7222222                    </td></tr>\n",
       "</tbody>\n",
       "</table>\n"
      ],
      "text/latex": [
       "\\begin{tabular}{r|llll}\n",
       "  & subzone & female & male & fem\\_prop\\\\\n",
       "\\hline\n",
       "\t65 & Gali Batu                     &  80                           &  50                           & 0.6153846                    \\\\\n",
       "\t129 & National University of S'pore & 260                           & 100                           & 0.7222222                    \\\\\n",
       "\\end{tabular}\n"
      ],
      "text/markdown": [
       "\n",
       "| <!--/--> | subzone | female | male | fem_prop |\n",
       "|---|---|---|---|---|\n",
       "| 65 | Gali Batu                     |  80                           |  50                           | 0.6153846                     |\n",
       "| 129 | National University of S'pore | 260                           | 100                           | 0.7222222                     |\n",
       "\n"
      ],
      "text/plain": [
       "    subzone                       female male fem_prop \n",
       "65  Gali Batu                      80     50  0.6153846\n",
       "129 National University of S'pore 260    100  0.7222222"
      ]
     },
     "metadata": {},
     "output_type": "display_data"
    },
    {
     "data": {
      "image/png": "[encoded data removed]",
      "text/plain": [
       "Plot with title \"Proportion of women in Singapore's subzones\""
      ]
     },
     "metadata": {},
     "output_type": "display_data"
    }
   ],
   "source": [
    "# Information about the extremes of the distribution.\n",
    "sg_pop[sg_pop$fem_prop < 0.4, ]\n",
    "\n",
    "sg_pop[sg_pop$fem_prop > 0.6, ]\n",
    "\n",
    "# Remove outliers.\n",
    "sg_trim <- sg_pop[sg_pop$fem_prop >= 0.4 & sg_pop$fem_prop <= 0.6, ]\n",
    "\n",
    "# We must compute the mean and standard deviation of the trimmed\n",
    "# distribution.\n",
    "y_bar_trim <- mean(sg_trim$fem_prop)\n",
    "s_trim <- sd(sg_trim$fem_prop)\n",
    "\n",
    "# Replot the graphs\n",
    "\n",
    "hist(sg_trim$fem_prop,\n",
    "    breaks = seq(0.38, 0.62, 0.01),\n",
    "    freq = FALSE,\n",
    "    col = \"lightgreen\", \n",
    "    main = \"Proportion of women in Singapore's subzones\",\n",
    "    xlab = \"Proportion\")\n",
    "\n",
    "curve(dnorm(x, mean = y_bar_trim, sd = s_trim),\n",
    "     from = min(sg_trim$fem_prop),\n",
    "     to = max(sg_trim$fem_prop),\n",
    "     add = TRUE,\n",
    "     col = \"red\")"
   ]
  },
  {
   "cell_type": "markdown",
   "metadata": {},
   "source": [
    "## Step 8: Remove these subzones from the data. Does the normal model fit the remaining data better?"
   ]
  },
  {
   "cell_type": "code",
   "execution_count": 26,
   "metadata": {},
   "outputs": [
    {
     "data": {
      "image/png": "[encoded data removed]",
      "text/plain": [
       "Plot with title \"Normal Q-Q Plot\""
      ]
     },
     "metadata": {},
     "output_type": "display_data"
    }
   ],
   "source": [
    "qqnorm(sg_trim$fem_prop)"
   ]
  },
  {
   "cell_type": "markdown",
   "metadata": {},
   "source": [
    "## Step 9: Check if outliers were reasonable to remove.\n",
    "\n",
    "Add a column total to the data frame and investigate with a histogram and the order() function. Does this justify removing the outliers?"
   ]
  },
  {
   "cell_type": "code",
   "execution_count": 27,
   "metadata": {},
   "outputs": [
    {
     "data": {
      "image/png": "[encoded data removed]",
      "text/plain": [
       "Plot with title \"Histogram of sg_pop$total\""
      ]
     },
     "metadata": {},
     "output_type": "display_data"
    }
   ],
   "source": [
    "sg_pop$total <- sg_pop$female + sg_pop$male\n",
    "hist(sg_pop$total, breaks = seq(0, 140000, 1000))"
   ]
  },
  {
   "cell_type": "code",
   "execution_count": 28,
   "metadata": {},
   "outputs": [
    {
     "data": {
      "text/html": [
       "<table>\n",
       "<thead><tr><th></th><th scope=col>subzone</th><th scope=col>female</th><th scope=col>male</th><th scope=col>fem_prop</th><th scope=col>total</th></tr></thead>\n",
       "<tbody>\n",
       "\t<tr><th scope=row>112</th><td>Mackenzie                    </td><td> 50                          </td><td> 60                          </td><td>0.4545455                    </td><td>110                          </td></tr>\n",
       "\t<tr><th scope=row>42</th><td>Clarke Quay                  </td><td> 50                          </td><td> 80                          </td><td>0.3846154                    </td><td>130                          </td></tr>\n",
       "\t<tr><th scope=row>65</th><td>Gali Batu                    </td><td> 80                          </td><td> 50                          </td><td>0.6153846                    </td><td>130                          </td></tr>\n",
       "\t<tr><th scope=row>180</th><td>Somerset                     </td><td> 70                          </td><td> 60                          </td><td>0.5384615                    </td><td>130                          </td></tr>\n",
       "\t<tr><th scope=row>151</th><td>Port                         </td><td> 70                          </td><td> 70                          </td><td>0.5000000                    </td><td>140                          </td></tr>\n",
       "\t<tr><th scope=row>146</th><td>Paterson                     </td><td> 80                          </td><td> 70                          </td><td>0.5333333                    </td><td>150                          </td></tr>\n",
       "\t<tr><th scope=row>31</th><td>Cecil                        </td><td> 70                          </td><td> 90                          </td><td>0.4375000                    </td><td>160                          </td></tr>\n",
       "\t<tr><th scope=row>63</th><td>Fort Canning                 </td><td> 80                          </td><td> 80                          </td><td>0.5000000                    </td><td>160                          </td></tr>\n",
       "\t<tr><th scope=row>179</th><td>Singapore Polytechnic        </td><td> 80                          </td><td> 80                          </td><td>0.5000000                    </td><td>160                          </td></tr>\n",
       "\t<tr><th scope=row>17</th><td>Boat Quay                    </td><td> 80                          </td><td>100                          </td><td>0.4444444                    </td><td>180                          </td></tr>\n",
       "\t<tr><th scope=row>88</th><td>Kampong Glam                 </td><td> 60                          </td><td>120                          </td><td>0.3333333                    </td><td>180                          </td></tr>\n",
       "\t<tr><th scope=row>53</th><td>Dhoby Ghaut                  </td><td>110                          </td><td>100                          </td><td>0.5238095                    </td><td>210                          </td></tr>\n",
       "\t<tr><th scope=row>111</th><td>Loyang West                  </td><td>110                          </td><td>100                          </td><td>0.5238095                    </td><td>210                          </td></tr>\n",
       "\t<tr><th scope=row>132</th><td>Newton Circus                </td><td>110                          </td><td>110                          </td><td>0.5000000                    </td><td>220                          </td></tr>\n",
       "\t<tr><th scope=row>162</th><td>Seletar                      </td><td>130                          </td><td>130                          </td><td>0.5000000                    </td><td>260                          </td></tr>\n",
       "\t<tr><th scope=row>155</th><td>Queensway                    </td><td>140                          </td><td>140                          </td><td>0.5000000                    </td><td>280                          </td></tr>\n",
       "\t<tr><th scope=row>161</th><td>Selegie                      </td><td>130                          </td><td>150                          </td><td>0.4642857                    </td><td>280                          </td></tr>\n",
       "\t<tr><th scope=row>135</th><td>Northshore                   </td><td>140                          </td><td>150                          </td><td>0.4827586                    </td><td>290                          </td></tr>\n",
       "\t<tr><th scope=row>129</th><td>National University of S'pore</td><td>260                          </td><td>100                          </td><td>0.7222222                    </td><td>360                          </td></tr>\n",
       "\t<tr><th scope=row>150</th><td>People's Park                </td><td>200                          </td><td>190                          </td><td>0.5128205                    </td><td>390                          </td></tr>\n",
       "</tbody>\n",
       "</table>\n"
      ],
      "text/latex": [
       "\\begin{tabular}{r|lllll}\n",
       "  & subzone & female & male & fem\\_prop & total\\\\\n",
       "\\hline\n",
       "\t112 & Mackenzie                     &  50                           &  60                           & 0.4545455                     & 110                          \\\\\n",
       "\t42 & Clarke Quay                   &  50                           &  80                           & 0.3846154                     & 130                          \\\\\n",
       "\t65 & Gali Batu                     &  80                           &  50                           & 0.6153846                     & 130                          \\\\\n",
       "\t180 & Somerset                      &  70                           &  60                           & 0.5384615                     & 130                          \\\\\n",
       "\t151 & Port                          &  70                           &  70                           & 0.5000000                     & 140                          \\\\\n",
       "\t146 & Paterson                      &  80                           &  70                           & 0.5333333                     & 150                          \\\\\n",
       "\t31 & Cecil                         &  70                           &  90                           & 0.4375000                     & 160                          \\\\\n",
       "\t63 & Fort Canning                  &  80                           &  80                           & 0.5000000                     & 160                          \\\\\n",
       "\t179 & Singapore Polytechnic         &  80                           &  80                           & 0.5000000                     & 160                          \\\\\n",
       "\t17 & Boat Quay                     &  80                           & 100                           & 0.4444444                     & 180                          \\\\\n",
       "\t88 & Kampong Glam                  &  60                           & 120                           & 0.3333333                     & 180                          \\\\\n",
       "\t53 & Dhoby Ghaut                   & 110                           & 100                           & 0.5238095                     & 210                          \\\\\n",
       "\t111 & Loyang West                   & 110                           & 100                           & 0.5238095                     & 210                          \\\\\n",
       "\t132 & Newton Circus                 & 110                           & 110                           & 0.5000000                     & 220                          \\\\\n",
       "\t162 & Seletar                       & 130                           & 130                           & 0.5000000                     & 260                          \\\\\n",
       "\t155 & Queensway                     & 140                           & 140                           & 0.5000000                     & 280                          \\\\\n",
       "\t161 & Selegie                       & 130                           & 150                           & 0.4642857                     & 280                          \\\\\n",
       "\t135 & Northshore                    & 140                           & 150                           & 0.4827586                     & 290                          \\\\\n",
       "\t129 & National University of S'pore & 260                           & 100                           & 0.7222222                     & 360                          \\\\\n",
       "\t150 & People's Park                 & 200                           & 190                           & 0.5128205                     & 390                          \\\\\n",
       "\\end{tabular}\n"
      ],
      "text/markdown": [
       "\n",
       "| <!--/--> | subzone | female | male | fem_prop | total |\n",
       "|---|---|---|---|---|---|\n",
       "| 112 | Mackenzie                     |  50                           |  60                           | 0.4545455                     | 110                           |\n",
       "| 42 | Clarke Quay                   |  50                           |  80                           | 0.3846154                     | 130                           |\n",
       "| 65 | Gali Batu                     |  80                           |  50                           | 0.6153846                     | 130                           |\n",
       "| 180 | Somerset                      |  70                           |  60                           | 0.5384615                     | 130                           |\n",
       "| 151 | Port                          |  70                           |  70                           | 0.5000000                     | 140                           |\n",
       "| 146 | Paterson                      |  80                           |  70                           | 0.5333333                     | 150                           |\n",
       "| 31 | Cecil                         |  70                           |  90                           | 0.4375000                     | 160                           |\n",
       "| 63 | Fort Canning                  |  80                           |  80                           | 0.5000000                     | 160                           |\n",
       "| 179 | Singapore Polytechnic         |  80                           |  80                           | 0.5000000                     | 160                           |\n",
       "| 17 | Boat Quay                     |  80                           | 100                           | 0.4444444                     | 180                           |\n",
       "| 88 | Kampong Glam                  |  60                           | 120                           | 0.3333333                     | 180                           |\n",
       "| 53 | Dhoby Ghaut                   | 110                           | 100                           | 0.5238095                     | 210                           |\n",
       "| 111 | Loyang West                   | 110                           | 100                           | 0.5238095                     | 210                           |\n",
       "| 132 | Newton Circus                 | 110                           | 110                           | 0.5000000                     | 220                           |\n",
       "| 162 | Seletar                       | 130                           | 130                           | 0.5000000                     | 260                           |\n",
       "| 155 | Queensway                     | 140                           | 140                           | 0.5000000                     | 280                           |\n",
       "| 161 | Selegie                       | 130                           | 150                           | 0.4642857                     | 280                           |\n",
       "| 135 | Northshore                    | 140                           | 150                           | 0.4827586                     | 290                           |\n",
       "| 129 | National University of S'pore | 260                           | 100                           | 0.7222222                     | 360                           |\n",
       "| 150 | People's Park                 | 200                           | 190                           | 0.5128205                     | 390                           |\n",
       "\n"
      ],
      "text/plain": [
       "    subzone                       female male fem_prop  total\n",
       "112 Mackenzie                      50     60  0.4545455 110  \n",
       "42  Clarke Quay                    50     80  0.3846154 130  \n",
       "65  Gali Batu                      80     50  0.6153846 130  \n",
       "180 Somerset                       70     60  0.5384615 130  \n",
       "151 Port                           70     70  0.5000000 140  \n",
       "146 Paterson                       80     70  0.5333333 150  \n",
       "31  Cecil                          70     90  0.4375000 160  \n",
       "63  Fort Canning                   80     80  0.5000000 160  \n",
       "179 Singapore Polytechnic          80     80  0.5000000 160  \n",
       "17  Boat Quay                      80    100  0.4444444 180  \n",
       "88  Kampong Glam                   60    120  0.3333333 180  \n",
       "53  Dhoby Ghaut                   110    100  0.5238095 210  \n",
       "111 Loyang West                   110    100  0.5238095 210  \n",
       "132 Newton Circus                 110    110  0.5000000 220  \n",
       "162 Seletar                       130    130  0.5000000 260  \n",
       "155 Queensway                     140    140  0.5000000 280  \n",
       "161 Selegie                       130    150  0.4642857 280  \n",
       "135 Northshore                    140    150  0.4827586 290  \n",
       "129 National University of S'pore 260    100  0.7222222 360  \n",
       "150 People's Park                 200    190  0.5128205 390  "
      ]
     },
     "metadata": {},
     "output_type": "display_data"
    }
   ],
   "source": [
    "head(sg_pop[order(sg_pop$total),],20)"
   ]
  },
  {
   "cell_type": "markdown",
   "metadata": {},
   "source": [
    "These 4 are not even the lowest, though all in lowest 20. This is poor justification for removing the outliers (for removing just the outliers)."
   ]
  },
  {
   "cell_type": "markdown",
   "metadata": {},
   "source": [
    "## Conclusion: \n",
    "\n",
    "National University of Singapore is not a place people tend to live permanently. Perhaps each of the outliers is a special zone with unusual land use.\n",
    "\n",
    "Use https://www.citypopulation.de/en/singapore/admin/ to investigate the land use in each of these regions. It looks like these data are from the mid 2015 estimate. Does this justify removing the outliers?\n",
    "\n",
    "- Gali batu is a train depot, disused quarry, small industrial estate, and wild land. No one lives there.\n",
    "- NUS is a student zone. No one lives there permanently.\n",
    "- Clarke Quay is tourist & nightlife location, not residential.\n",
    " -Kampong Glam is also tourist not residential.\n",
    "\n",
    "That seems like good reason for removing these subzones. But there are other regions that should also be removed by the same reasoning:\n",
    "\n",
    "- One North is an industrial estate\n",
    "- Fort Canning is a park\n",
    "- Western Water Catchment is a nature reserve, university (NTU), cemeteries, aquaculture, reservoirs and military base\n",
    "- Port is a port!\n",
    "\n",
    "When removing outliers,\n",
    "\n",
    "- justify the removal on the basis of the data, not on trying to get a good fit to a preferred model,\n",
    "- consider that it might be appropriate to remove other data points for the same reasons as the outliers,\n",
    "- you may need to seek more contextual information beyond your dataset to make informed decision on data points to discard.\n"
   ]
  },
  {
   "cell_type": "markdown",
   "metadata": {},
   "source": [
    "## THANK YOU FOR VIEWING THIS NOTEBOOK :-)"
   ]
  }
 ],
 "metadata": {
  "kernelspec": {
   "display_name": "R",
   "language": "R",
   "name": "ir"
  },
  "language_info": {
   "codemirror_mode": "r",
   "file_extension": ".r",
   "mimetype": "text/x-r-source",
   "name": "R",
   "pygments_lexer": "r",
   "version": "3.6.1"
  }
 },
 "nbformat": 4,
 "nbformat_minor": 4
}
