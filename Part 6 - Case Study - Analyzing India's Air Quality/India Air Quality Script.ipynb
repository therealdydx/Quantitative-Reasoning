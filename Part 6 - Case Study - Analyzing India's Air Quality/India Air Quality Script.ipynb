{
 "cells": [
  {
   "cell_type": "markdown",
   "metadata": {},
   "source": [
    "# Exercise 5 – Analysis of India's Air Quality\n",
    "\n",
    "Notebook Written By: WDY (Yale-NUS '24) \n",
    "(Come say hi at https://www.linkedin.com/in/dys-profile/)\n",
    "\n",
    "### Introduction\n",
    "\n",
    "We will be working with a dataset on the aftermath of India's Air Quality. \n",
    "\n",
    "PM2.5 is an important air quality index (AQI):\n",
    "\n",
    "http://airnow.gov/index.cfm?action=aqibasics.aqi.\n",
    "\n",
    "The data for each city can be found here:\n",
    "\n",
    "https://www.airnow.gov/\n",
    "\n",
    "This data set contains hourly PM2.5 measurements for the month of June, 2016, in five cities in India. PM2.5 is very small (“fine”) particulate matter – see\n",
    "\n",
    "https://blissair.com/what-is-pm-2-5.htm, one of several common measurements used in studies of air quality.\n",
    "\n",
    "Let's read the data into the notebook first. Following that, let's do a quick look through of the dataset to find any interesting information."
   ]
  },
  {
   "cell_type": "code",
   "execution_count": 1,
   "metadata": {},
   "outputs": [],
   "source": [
    "x <- read.csv(\"C:/Users/Admin/OneDrive/Documents/Yale-NUS/Quantitative Reasoning/Quantitative Reasoning Repository/Exercise 5 - Analyzing India Air Quality/India_AirQuality.csv\")"
   ]
  },
  {
   "cell_type": "code",
   "execution_count": 27,
   "metadata": {},
   "outputs": [
    {
     "data": {
      "text/html": [
       "<table>\n",
       "<thead><tr><th scope=col>DateTime</th><th scope=col>Chennai</th><th scope=col>Delhi</th><th scope=col>Hyderabad</th><th scope=col>Kolkata</th><th scope=col>hour</th><th scope=col>date</th></tr></thead>\n",
       "<tbody>\n",
       "\t<tr><td>1/6/16 1:00</td><td>20         </td><td>34         </td><td>32         </td><td>41         </td><td>1          </td><td>1          </td></tr>\n",
       "\t<tr><td>1/6/16 2:00</td><td>32         </td><td>43         </td><td>40         </td><td>33         </td><td>2          </td><td>1          </td></tr>\n",
       "\t<tr><td>1/6/16 3:00</td><td>36         </td><td>74         </td><td>39         </td><td>28         </td><td>3          </td><td>1          </td></tr>\n",
       "\t<tr><td>1/6/16 4:00</td><td>27         </td><td>52         </td><td>33         </td><td>18         </td><td>4          </td><td>1          </td></tr>\n",
       "\t<tr><td>1/6/16 5:00</td><td>31         </td><td>46         </td><td>35         </td><td>22         </td><td>5          </td><td>1          </td></tr>\n",
       "\t<tr><td>1/6/16 6:00</td><td>33         </td><td>38         </td><td>35         </td><td>23         </td><td>6          </td><td>1          </td></tr>\n",
       "</tbody>\n",
       "</table>\n"
      ],
      "text/latex": [
       "\\begin{tabular}{r|lllllll}\n",
       " DateTime & Chennai & Delhi & Hyderabad & Kolkata & hour & date\\\\\n",
       "\\hline\n",
       "\t 1/6/16 1:00 & 20          & 34          & 32          & 41          & 1           & 1          \\\\\n",
       "\t 1/6/16 2:00 & 32          & 43          & 40          & 33          & 2           & 1          \\\\\n",
       "\t 1/6/16 3:00 & 36          & 74          & 39          & 28          & 3           & 1          \\\\\n",
       "\t 1/6/16 4:00 & 27          & 52          & 33          & 18          & 4           & 1          \\\\\n",
       "\t 1/6/16 5:00 & 31          & 46          & 35          & 22          & 5           & 1          \\\\\n",
       "\t 1/6/16 6:00 & 33          & 38          & 35          & 23          & 6           & 1          \\\\\n",
       "\\end{tabular}\n"
      ],
      "text/markdown": [
       "\n",
       "| DateTime | Chennai | Delhi | Hyderabad | Kolkata | hour | date |\n",
       "|---|---|---|---|---|---|---|\n",
       "| 1/6/16 1:00 | 20          | 34          | 32          | 41          | 1           | 1           |\n",
       "| 1/6/16 2:00 | 32          | 43          | 40          | 33          | 2           | 1           |\n",
       "| 1/6/16 3:00 | 36          | 74          | 39          | 28          | 3           | 1           |\n",
       "| 1/6/16 4:00 | 27          | 52          | 33          | 18          | 4           | 1           |\n",
       "| 1/6/16 5:00 | 31          | 46          | 35          | 22          | 5           | 1           |\n",
       "| 1/6/16 6:00 | 33          | 38          | 35          | 23          | 6           | 1           |\n",
       "\n"
      ],
      "text/plain": [
       "  DateTime    Chennai Delhi Hyderabad Kolkata hour date\n",
       "1 1/6/16 1:00 20      34    32        41      1    1   \n",
       "2 1/6/16 2:00 32      43    40        33      2    1   \n",
       "3 1/6/16 3:00 36      74    39        28      3    1   \n",
       "4 1/6/16 4:00 27      52    33        18      4    1   \n",
       "5 1/6/16 5:00 31      46    35        22      5    1   \n",
       "6 1/6/16 6:00 33      38    35        23      6    1   "
      ]
     },
     "metadata": {},
     "output_type": "display_data"
    }
   ],
   "source": [
    "head(x)"
   ]
  },
  {
   "cell_type": "code",
   "execution_count": 7,
   "metadata": {},
   "outputs": [
    {
     "data": {
      "text/html": [
       "<table>\n",
       "<thead><tr><th></th><th scope=col>DateTime</th><th scope=col>Chennai</th><th scope=col>Delhi</th><th scope=col>Hyderabad</th><th scope=col>Kolkata</th><th scope=col>hour</th><th scope=col>date</th></tr></thead>\n",
       "<tbody>\n",
       "\t<tr><th scope=row>715</th><td>30/6/16 19:00</td><td>35           </td><td>41           </td><td>-15          </td><td>24           </td><td>19           </td><td>30           </td></tr>\n",
       "\t<tr><th scope=row>716</th><td>30/6/16 20:00</td><td>43           </td><td>45           </td><td> NA          </td><td>18           </td><td>20           </td><td>30           </td></tr>\n",
       "\t<tr><th scope=row>717</th><td>30/6/16 21:00</td><td>27           </td><td>39           </td><td> NA          </td><td>25           </td><td>21           </td><td>30           </td></tr>\n",
       "\t<tr><th scope=row>718</th><td>30/6/16 22:00</td><td>33           </td><td>45           </td><td> NA          </td><td>29           </td><td>22           </td><td>30           </td></tr>\n",
       "\t<tr><th scope=row>719</th><td>30/6/16 23:00</td><td>32           </td><td>44           </td><td> NA          </td><td>15           </td><td>23           </td><td>30           </td></tr>\n",
       "\t<tr><th scope=row>720</th><td>30/6/16 23:59</td><td>28           </td><td>39           </td><td> NA          </td><td>17           </td><td>24           </td><td>30           </td></tr>\n",
       "</tbody>\n",
       "</table>\n"
      ],
      "text/latex": [
       "\\begin{tabular}{r|lllllll}\n",
       "  & DateTime & Chennai & Delhi & Hyderabad & Kolkata & hour & date\\\\\n",
       "\\hline\n",
       "\t715 & 30/6/16 19:00 & 35            & 41            & -15           & 24            & 19            & 30           \\\\\n",
       "\t716 & 30/6/16 20:00 & 43            & 45            &  NA           & 18            & 20            & 30           \\\\\n",
       "\t717 & 30/6/16 21:00 & 27            & 39            &  NA           & 25            & 21            & 30           \\\\\n",
       "\t718 & 30/6/16 22:00 & 33            & 45            &  NA           & 29            & 22            & 30           \\\\\n",
       "\t719 & 30/6/16 23:00 & 32            & 44            &  NA           & 15            & 23            & 30           \\\\\n",
       "\t720 & 30/6/16 23:59 & 28            & 39            &  NA           & 17            & 24            & 30           \\\\\n",
       "\\end{tabular}\n"
      ],
      "text/markdown": [
       "\n",
       "| <!--/--> | DateTime | Chennai | Delhi | Hyderabad | Kolkata | hour | date |\n",
       "|---|---|---|---|---|---|---|---|\n",
       "| 715 | 30/6/16 19:00 | 35            | 41            | -15           | 24            | 19            | 30            |\n",
       "| 716 | 30/6/16 20:00 | 43            | 45            |  NA           | 18            | 20            | 30            |\n",
       "| 717 | 30/6/16 21:00 | 27            | 39            |  NA           | 25            | 21            | 30            |\n",
       "| 718 | 30/6/16 22:00 | 33            | 45            |  NA           | 29            | 22            | 30            |\n",
       "| 719 | 30/6/16 23:00 | 32            | 44            |  NA           | 15            | 23            | 30            |\n",
       "| 720 | 30/6/16 23:59 | 28            | 39            |  NA           | 17            | 24            | 30            |\n",
       "\n"
      ],
      "text/plain": [
       "    DateTime      Chennai Delhi Hyderabad Kolkata hour date\n",
       "715 30/6/16 19:00 35      41    -15       24      19   30  \n",
       "716 30/6/16 20:00 43      45     NA       18      20   30  \n",
       "717 30/6/16 21:00 27      39     NA       25      21   30  \n",
       "718 30/6/16 22:00 33      45     NA       29      22   30  \n",
       "719 30/6/16 23:00 32      44     NA       15      23   30  \n",
       "720 30/6/16 23:59 28      39     NA       17      24   30  "
      ]
     },
     "metadata": {},
     "output_type": "display_data"
    }
   ],
   "source": [
    "tail(x)"
   ]
  },
  {
   "cell_type": "code",
   "execution_count": 8,
   "metadata": {},
   "outputs": [
    {
     "name": "stdout",
     "output_type": "stream",
     "text": [
      "'data.frame':\t720 obs. of  7 variables:\n",
      " $ DateTime : Factor w/ 720 levels \"1/6/16 1:00\",..: 1 12 18 19 20 21 22 23 24 2 ...\n",
      " $ Chennai  : int  20 32 36 27 31 33 27 28 31 27 ...\n",
      " $ Delhi    : int  34 43 74 52 46 38 46 38 48 52 ...\n",
      " $ Hyderabad: int  32 40 39 33 35 35 30 42 43 34 ...\n",
      " $ Kolkata  : int  41 33 28 18 22 23 30 27 24 22 ...\n",
      " $ hour     : int  1 2 3 4 5 6 7 8 9 10 ...\n",
      " $ date     : int  1 1 1 1 1 1 1 1 1 1 ...\n"
     ]
    }
   ],
   "source": [
    "str(x)"
   ]
  },
  {
   "cell_type": "code",
   "execution_count": 9,
   "metadata": {},
   "outputs": [
    {
     "data": {
      "text/html": [
       "<ol class=list-inline>\n",
       "\t<li>720</li>\n",
       "\t<li>7</li>\n",
       "</ol>\n"
      ],
      "text/latex": [
       "\\begin{enumerate*}\n",
       "\\item 720\n",
       "\\item 7\n",
       "\\end{enumerate*}\n"
      ],
      "text/markdown": [
       "1. 720\n",
       "2. 7\n",
       "\n",
       "\n"
      ],
      "text/plain": [
       "[1] 720   7"
      ]
     },
     "metadata": {},
     "output_type": "display_data"
    }
   ],
   "source": [
    "dim(x)"
   ]
  },
  {
   "cell_type": "markdown",
   "metadata": {},
   "source": [
    "## Step 1: Pick a city: Chennai, Hyderabad, Kolkata.\n",
    "\n",
    "For your city, calculate the following: the minimum, maximum, mean, median, standard deviation, interquartile range, and the 5th and 95th percentiles (or quantiles).\n",
    "\n",
    "Calculate the number of missing values by using functions sum and is.na."
   ]
  },
  {
   "cell_type": "code",
   "execution_count": 11,
   "metadata": {},
   "outputs": [
    {
     "data": {
      "text/html": [
       "6"
      ],
      "text/latex": [
       "6"
      ],
      "text/markdown": [
       "6"
      ],
      "text/plain": [
       "[1] 6"
      ]
     },
     "metadata": {},
     "output_type": "display_data"
    }
   ],
   "source": [
    "min(x$Delhi)"
   ]
  },
  {
   "cell_type": "code",
   "execution_count": 12,
   "metadata": {},
   "outputs": [
    {
     "data": {
      "text/html": [
       "129"
      ],
      "text/latex": [
       "129"
      ],
      "text/markdown": [
       "129"
      ],
      "text/plain": [
       "[1] 129"
      ]
     },
     "metadata": {},
     "output_type": "display_data"
    }
   ],
   "source": [
    "max(x$Delhi)"
   ]
  },
  {
   "cell_type": "code",
   "execution_count": 13,
   "metadata": {},
   "outputs": [
    {
     "data": {
      "text/html": [
       "49.0652777777778"
      ],
      "text/latex": [
       "49.0652777777778"
      ],
      "text/markdown": [
       "49.0652777777778"
      ],
      "text/plain": [
       "[1] 49.06528"
      ]
     },
     "metadata": {},
     "output_type": "display_data"
    }
   ],
   "source": [
    "mean(x$Delhi)"
   ]
  },
  {
   "cell_type": "code",
   "execution_count": 14,
   "metadata": {},
   "outputs": [
    {
     "data": {
      "text/html": [
       "48"
      ],
      "text/latex": [
       "48"
      ],
      "text/markdown": [
       "48"
      ],
      "text/plain": [
       "[1] 48"
      ]
     },
     "metadata": {},
     "output_type": "display_data"
    }
   ],
   "source": [
    "median(x$Delhi)"
   ]
  },
  {
   "cell_type": "code",
   "execution_count": 15,
   "metadata": {},
   "outputs": [
    {
     "data": {
      "text/html": [
       "19.0814786133087"
      ],
      "text/latex": [
       "19.0814786133087"
      ],
      "text/markdown": [
       "19.0814786133087"
      ],
      "text/plain": [
       "[1] 19.08148"
      ]
     },
     "metadata": {},
     "output_type": "display_data"
    }
   ],
   "source": [
    "sd(x$Delhi)"
   ]
  },
  {
   "cell_type": "code",
   "execution_count": 16,
   "metadata": {},
   "outputs": [
    {
     "data": {
      "text/html": [
       "23"
      ],
      "text/latex": [
       "23"
      ],
      "text/markdown": [
       "23"
      ],
      "text/plain": [
       "[1] 23"
      ]
     },
     "metadata": {},
     "output_type": "display_data"
    }
   ],
   "source": [
    "IQR(x$Delhi)"
   ]
  },
  {
   "cell_type": "code",
   "execution_count": 18,
   "metadata": {},
   "outputs": [
    {
     "data": {
      "text/html": [
       "<dl class=dl-horizontal>\n",
       "\t<dt>5%</dt>\n",
       "\t\t<dd>21.95</dd>\n",
       "\t<dt>95%</dt>\n",
       "\t\t<dd>84</dd>\n",
       "</dl>\n"
      ],
      "text/latex": [
       "\\begin{description*}\n",
       "\\item[5\\textbackslash{}\\%] 21.95\n",
       "\\item[95\\textbackslash{}\\%] 84\n",
       "\\end{description*}\n"
      ],
      "text/markdown": [
       "5%\n",
       ":   21.9595%\n",
       ":   84\n",
       "\n"
      ],
      "text/plain": [
       "   5%   95% \n",
       "21.95 84.00 "
      ]
     },
     "metadata": {},
     "output_type": "display_data"
    }
   ],
   "source": [
    "quantile(x$Delhi, probs = c(0.05, 0.95))\n",
    "\n",
    "# We can use the probs argument to get basically any quantile metric that we want."
   ]
  },
  {
   "cell_type": "code",
   "execution_count": 19,
   "metadata": {},
   "outputs": [
    {
     "data": {
      "text/html": [
       "0"
      ],
      "text/latex": [
       "0"
      ],
      "text/markdown": [
       "0"
      ],
      "text/plain": [
       "[1] 0"
      ]
     },
     "metadata": {},
     "output_type": "display_data"
    }
   ],
   "source": [
    "sum(is.na(x$Delhi))"
   ]
  },
  {
   "cell_type": "code",
   "execution_count": 21,
   "metadata": {
    "scrolled": true
   },
   "outputs": [
    {
     "data": {
      "image/png": "[encoded data removed]",
      "text/plain": [
       "Plot with title \"PM2.5 in India\""
      ]
     },
     "metadata": {},
     "output_type": "display_data"
    }
   ],
   "source": [
    "boxplot(x$Delhi,\n",
    "       main = \"PM2.5 in India\")"
   ]
  },
  {
   "cell_type": "markdown",
   "metadata": {},
   "source": [
    "## Step 2: We would like to find out what is the pollution cycle over a day for your assigned city. \n",
    "\n",
    "In the dataset, there is a variable, hour, which indicates a hour of day at which the measurement was taken.\n",
    "\n",
    "For your city, calculate the mean of the PM2.5 for each hour. Hint: use the aggregate function."
   ]
  },
  {
   "cell_type": "code",
   "execution_count": 34,
   "metadata": {},
   "outputs": [
    {
     "data": {
      "text/html": [
       "<table>\n",
       "<thead><tr><th scope=col>hour</th><th scope=col>Delhi</th></tr></thead>\n",
       "<tbody>\n",
       "\t<tr><td>1       </td><td>48.46667</td></tr>\n",
       "\t<tr><td>2       </td><td>49.23333</td></tr>\n",
       "\t<tr><td>3       </td><td>50.26667</td></tr>\n",
       "\t<tr><td>4       </td><td>48.80000</td></tr>\n",
       "\t<tr><td>5       </td><td>49.03333</td></tr>\n",
       "\t<tr><td>6       </td><td>49.46667</td></tr>\n",
       "</tbody>\n",
       "</table>\n"
      ],
      "text/latex": [
       "\\begin{tabular}{r|ll}\n",
       " hour & Delhi\\\\\n",
       "\\hline\n",
       "\t 1        & 48.46667\\\\\n",
       "\t 2        & 49.23333\\\\\n",
       "\t 3        & 50.26667\\\\\n",
       "\t 4        & 48.80000\\\\\n",
       "\t 5        & 49.03333\\\\\n",
       "\t 6        & 49.46667\\\\\n",
       "\\end{tabular}\n"
      ],
      "text/markdown": [
       "\n",
       "| hour | Delhi |\n",
       "|---|---|\n",
       "| 1        | 48.46667 |\n",
       "| 2        | 49.23333 |\n",
       "| 3        | 50.26667 |\n",
       "| 4        | 48.80000 |\n",
       "| 5        | 49.03333 |\n",
       "| 6        | 49.46667 |\n",
       "\n"
      ],
      "text/plain": [
       "  hour Delhi   \n",
       "1 1    48.46667\n",
       "2 2    49.23333\n",
       "3 3    50.26667\n",
       "4 4    48.80000\n",
       "5 5    49.03333\n",
       "6 6    49.46667"
      ]
     },
     "metadata": {},
     "output_type": "display_data"
    }
   ],
   "source": [
    "# The logic for this is: Delhi PM2.5 as a group of the hour. Think of it like SQL's groupby()\n",
    "\n",
    "Delhi_hour <- aggregate(Delhi ~ hour, data = x, FUN = mean)\n",
    "head(Delhi_hour)\n",
    "\n",
    "# If you use x$Delhi, you get a column as such. Then, you will need to rename the columns. That is more trouble for no point."
   ]
  },
  {
   "cell_type": "code",
   "execution_count": 35,
   "metadata": {},
   "outputs": [
    {
     "data": {
      "image/png": "[encoded data removed]",
      "text/plain": [
       "Plot with title \"PM2.5 in Delhi\""
      ]
     },
     "metadata": {},
     "output_type": "display_data"
    }
   ],
   "source": [
    "plot(Delhi_hour$Delhi, \n",
    "     type=\"l\", \n",
    "     main=\"PM2.5 in Delhi\", \n",
    "     xlab=\"Hour\", \n",
    "     ylab=\"PM2.5\")\n",
    "\n",
    "# Type parameter allows you to change from a scatter plot which is the default setting for plot() to line plot."
   ]
  },
  {
   "cell_type": "markdown",
   "metadata": {},
   "source": [
    "## Step 3: We would like to find out what is the pollution cycle over a day for the rest of the cities"
   ]
  },
  {
   "cell_type": "code",
   "execution_count": 37,
   "metadata": {},
   "outputs": [],
   "source": [
    "Chennai_hour <- aggregate(Chennai~hour, data= x, FUN = mean)\n",
    "Hyderabad_hour <- aggregate(Hyderabad~hour, data= x, FUN = mean)\n",
    "Kolkata_hour <- aggregate(Kolkata~hour, data= x, FUN = mean)"
   ]
  },
  {
   "cell_type": "code",
   "execution_count": 47,
   "metadata": {},
   "outputs": [
    {
     "data": {
      "image/png": "[encoded data removed]",
      "text/plain": [
       "Plot with title \"PM2.5\""
      ]
     },
     "metadata": {},
     "output_type": "display_data"
    }
   ],
   "source": [
    "# par(mfrow) helps set charts beside each other\n",
    "\n",
    "par(mfrow = c(3,1))\n",
    "\n",
    "plot(Chennai_hour$Chennai, type=\"l\", main=\"PM2.5\", xlab=\"Hour\", ylab=\"PM2.5\")\n",
    "\n",
    "plot(Kolkata_hour$Kolkata, type=\"l\", main=\"PM2.5\", xlab=\"Hour\", ylab=\"PM2.5\")\n",
    "\n",
    "plot(Hyderabad_hour$Hyderabad, type=\"l\", main=\"PM2.5\", xlab=\"Hour\", ylab=\"PM2.5\")\n",
    "\n",
    "par(mfrow=c(1,1))"
   ]
  },
  {
   "cell_type": "markdown",
   "metadata": {},
   "source": [
    "## Step 4: Fix the scales of the graphs\n",
    "\n",
    "As the graphs are not consistent in range, there is a need to adjust their range. We should begin by finding the overall maximum and minimum values of the hourly average of PM2.5 over all cities."
   ]
  },
  {
   "cell_type": "code",
   "execution_count": 41,
   "metadata": {},
   "outputs": [
    {
     "data": {
      "text/html": [
       "<ol class=list-inline>\n",
       "\t<li>45.8333333333333</li>\n",
       "\t<li>54.9333333333333</li>\n",
       "</ol>\n"
      ],
      "text/latex": [
       "\\begin{enumerate*}\n",
       "\\item 45.8333333333333\n",
       "\\item 54.9333333333333\n",
       "\\end{enumerate*}\n"
      ],
      "text/markdown": [
       "1. 45.8333333333333\n",
       "2. 54.9333333333333\n",
       "\n",
       "\n"
      ],
      "text/plain": [
       "[1] 45.83333 54.93333"
      ]
     },
     "metadata": {},
     "output_type": "display_data"
    }
   ],
   "source": [
    "range(Delhi_hour$Delhi, na.rm=TRUE)"
   ]
  },
  {
   "cell_type": "code",
   "execution_count": 42,
   "metadata": {},
   "outputs": [
    {
     "data": {
      "text/html": [
       "<ol class=list-inline>\n",
       "\t<li>28.5172413793103</li>\n",
       "\t<li>55.6428571428571</li>\n",
       "</ol>\n"
      ],
      "text/latex": [
       "\\begin{enumerate*}\n",
       "\\item 28.5172413793103\n",
       "\\item 55.6428571428571\n",
       "\\end{enumerate*}\n"
      ],
      "text/markdown": [
       "1. 28.5172413793103\n",
       "2. 55.6428571428571\n",
       "\n",
       "\n"
      ],
      "text/plain": [
       "[1] 28.51724 55.64286"
      ]
     },
     "metadata": {},
     "output_type": "display_data"
    }
   ],
   "source": [
    "range(Chennai_hour$Chennai, na.rm=TRUE)"
   ]
  },
  {
   "cell_type": "code",
   "execution_count": 43,
   "metadata": {},
   "outputs": [
    {
     "data": {
      "text/html": [
       "<ol class=list-inline>\n",
       "\t<li>26.6666666666667</li>\n",
       "\t<li>46.7777777777778</li>\n",
       "</ol>\n"
      ],
      "text/latex": [
       "\\begin{enumerate*}\n",
       "\\item 26.6666666666667\n",
       "\\item 46.7777777777778\n",
       "\\end{enumerate*}\n"
      ],
      "text/markdown": [
       "1. 26.6666666666667\n",
       "2. 46.7777777777778\n",
       "\n",
       "\n"
      ],
      "text/plain": [
       "[1] 26.66667 46.77778"
      ]
     },
     "metadata": {},
     "output_type": "display_data"
    }
   ],
   "source": [
    "range(Hyderabad_hour$Hyderabad, na.rm=TRUE)"
   ]
  },
  {
   "cell_type": "code",
   "execution_count": 44,
   "metadata": {},
   "outputs": [
    {
     "data": {
      "text/html": [
       "<ol class=list-inline>\n",
       "\t<li>23.3</li>\n",
       "\t<li>35.2333333333333</li>\n",
       "</ol>\n"
      ],
      "text/latex": [
       "\\begin{enumerate*}\n",
       "\\item 23.3\n",
       "\\item 35.2333333333333\n",
       "\\end{enumerate*}\n"
      ],
      "text/markdown": [
       "1. 23.3\n",
       "2. 35.2333333333333\n",
       "\n",
       "\n"
      ],
      "text/plain": [
       "[1] 23.30000 35.23333"
      ]
     },
     "metadata": {},
     "output_type": "display_data"
    }
   ],
   "source": [
    "range(Kolkata_hour$Kolkata, na.rm=TRUE)"
   ]
  },
  {
   "cell_type": "markdown",
   "metadata": {},
   "source": [
    "Afterwards, we should now set a scale that goes from 23 to 56."
   ]
  },
  {
   "cell_type": "code",
   "execution_count": 46,
   "metadata": {},
   "outputs": [
    {
     "data": {
      "image/png": "[encoded data removed]",
      "text/plain": [
       "Plot with title \"PM2.5 in Delhi\""
      ]
     },
     "metadata": {},
     "output_type": "display_data"
    }
   ],
   "source": [
    "plot(Delhi_hour$Delhi, \n",
    "     type=\"l\", \n",
    "     main=\"PM2.5 in Delhi\",\n",
    "     xlab=\"Hour\", \n",
    "     ylab=\"PM2.5\", \n",
    "     ylim=c(23, 56))"
   ]
  },
  {
   "cell_type": "markdown",
   "metadata": {},
   "source": [
    "## Step 5: Let's slot the graphs into 1 graph."
   ]
  },
  {
   "cell_type": "code",
   "execution_count": 50,
   "metadata": {},
   "outputs": [
    {
     "data": {
      "image/png": "[encoded data removed]",
      "text/plain": [
       "Plot with title \"PM2.5 in Delhi (black) and Chennai (red)\""
      ]
     },
     "metadata": {},
     "output_type": "display_data"
    }
   ],
   "source": [
    "plot(Delhi_hour$Delhi, \n",
    "     type=\"l\", \n",
    "     xlab=\"Hour\", \n",
    "     ylab=\"PM2.5\", \n",
    "     ylim=c(23, 56),\n",
    "     main=\"PM2.5 in Delhi (black) and Chennai (red)\")\n",
    "\n",
    "# Adding lines() function helps add another line with the data point, and according to the scale and labels set in the either plot\n",
    "\n",
    "# col parameter stands for colour\n",
    "\n",
    "lines(Chennai_hour$Chennai, col=\"red\")\n",
    "\n",
    "lines(Hyderabad_hour$Hyderabad , col=\"blue\")\n",
    "\n",
    "lines(Kolkata_hour$Kolkata, col=\"orange\")"
   ]
  },
  {
   "cell_type": "markdown",
   "metadata": {},
   "source": [
    "## Step 6: Use the boxplot to gauge the distribution for each hour."
   ]
  },
  {
   "cell_type": "code",
   "execution_count": 53,
   "metadata": {},
   "outputs": [
    {
     "data": {
      "image/png": "[encoded data removed]",
      "text/plain": [
       "Plot with title \"PM2.5 in Delhi\""
      ]
     },
     "metadata": {},
     "output_type": "display_data"
    }
   ],
   "source": [
    "# Where Delhi's PM2.5 rating is a subset of the hours recorded\n",
    "\n",
    "boxplot(x$Delhi ~ x$hour, \n",
    "        main=\"PM2.5 in Delhi\", \n",
    "        xlab=\"Hour\", ylab=\"PM2.5\")\n",
    "grid()"
   ]
  },
  {
   "cell_type": "markdown",
   "metadata": {},
   "source": [
    "## Step 7: How often is PM2.5 at an unhealthy level? "
   ]
  },
  {
   "cell_type": "code",
   "execution_count": 67,
   "metadata": {},
   "outputs": [
    {
     "data": {
      "text/html": [
       "<table>\n",
       "<thead><tr><th></th><th scope=col>Rating</th></tr></thead>\n",
       "<tbody>\n",
       "\t<tr><th scope=row>Chennai</th><td>5.86552217453505 % </td></tr>\n",
       "\t<tr><th scope=row>Delhi</th><td>1.25 %             </td></tr>\n",
       "\t<tr><th scope=row>Hyderabad</th><td>0.154798761609907 %</td></tr>\n",
       "\t<tr><th scope=row>Kolkata</th><td>0.141242937853107 %</td></tr>\n",
       "</tbody>\n",
       "</table>\n"
      ],
      "text/latex": [
       "\\begin{tabular}{r|l}\n",
       "  & Rating\\\\\n",
       "\\hline\n",
       "\tChennai & 5.86552217453505 \\% \\\\\n",
       "\tDelhi & 1.25 \\%             \\\\\n",
       "\tHyderabad & 0.154798761609907 \\%\\\\\n",
       "\tKolkata & 0.141242937853107 \\%\\\\\n",
       "\\end{tabular}\n"
      ],
      "text/markdown": [
       "\n",
       "| <!--/--> | Rating |\n",
       "|---|---|\n",
       "| Chennai | 5.86552217453505 %  |\n",
       "| Delhi | 1.25 %              |\n",
       "| Hyderabad | 0.154798761609907 % |\n",
       "| Kolkata | 0.141242937853107 % |\n",
       "\n"
      ],
      "text/plain": [
       "          Rating             \n",
       "Chennai   5.86552217453505 % \n",
       "Delhi     1.25 %             \n",
       "Hyderabad 0.154798761609907 %\n",
       "Kolkata   0.141242937853107 %"
      ]
     },
     "metadata": {},
     "output_type": "display_data"
    }
   ],
   "source": [
    "Level <- 100\n",
    "\n",
    "vector <- 100 * c(sum(x$Chennai >= Level, na.rm = TRUE)/sum(!is.na(x$Chennai)),\n",
    "  sum(x$Delhi >= Level, na.rm = TRUE)/sum(!is.na(x$Delhi)),\n",
    "  sum(x$Hyderabad >= Level, na.rm = TRUE)/sum(!is.na(x$Hyderabad)),\n",
    "  sum(x$Kolkata >= Level, na.rm = TRUE)/sum(!is.na(x$Kolkata)))\n",
    "\n",
    "# Create a data frame so that it is easier to see\n",
    "\n",
    "df <- data.frame(matrix(ncol = 1, nrow = 4))\n",
    "rownames(df) <- c(\"Chennai\", \"Delhi\", \"Hyderabad\", \"Kolkata\")\n",
    "colnames(df) <- c(\"Rating\")\n",
    "\n",
    "for (i in 1:4) {\n",
    "    df$Rating[i] <- paste(vector[i], \"%\") \n",
    "}\n",
    "df"
   ]
  }
 ],
 "metadata": {
  "kernelspec": {
   "display_name": "R",
   "language": "R",
   "name": "ir"
  },
  "language_info": {
   "codemirror_mode": "r",
   "file_extension": ".r",
   "mimetype": "text/x-r-source",
   "name": "R",
   "pygments_lexer": "r",
   "version": "3.6.1"
  }
 },
 "nbformat": 4,
 "nbformat_minor": 4
}
