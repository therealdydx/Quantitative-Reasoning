{
 "cells": [
  {
   "cell_type": "markdown",
   "metadata": {},
   "source": [
    "# Exercise 7 – Analysis of Athletes Statistics\n",
    "\n",
    "Notebook Written By: WDY (Yale-NUS '24) (Come say hi at https://www.linkedin.com/in/dys-profile/)\n",
    "\n",
    "### Introduction\n",
    "\n",
    "Our textbook proposes that the performances of athletes in multi-event disciplines can be compared on the basis of z-scores. In this activity, we apply this idea to the 2016 women’s Olympic heptathlon (100 m hurdles, 200 m and 800 m runs, high jump, shot put, long jump and javelin throw)."
   ]
  },
  {
   "cell_type": "markdown",
   "metadata": {},
   "source": [
    "We will be working with a dataset of Singapore's demographics. Let's read the data into the notebook first. Following that, let's do a quick look through of the dataset to find any interesting information."
   ]
  },
  {
   "cell_type": "code",
   "execution_count": 1,
   "metadata": {},
   "outputs": [],
   "source": [
    "hept <- read.csv(\"C:/Users/Admin/OneDrive/Documents/Yale-NUS/Quantitative Reasoning/Quantitative Reasoning Repository/Exercise 7 - Analyzing Athletes Winnings/hept.csv\")"
   ]
  },
  {
   "cell_type": "markdown",
   "metadata": {},
   "source": [
    "## Step 1:  Append the total DVVB-scores as a column hept$dvvb_total.\n",
    "\n",
    "The sum of all seven DVVB-scores is a measure of the athletes’ overall performance."
   ]
  },
  {
   "cell_type": "code",
   "execution_count": null,
   "metadata": {},
   "outputs": [],
   "source": [
    "hept <- read.csv(\"hept.csv\")\n",
    "tail(hept)"
   ]
  },
  {
   "cell_type": "code",
   "execution_count": 2,
   "metadata": {},
   "outputs": [],
   "source": [
    "hept <- read.csv(\"hept.csv\")\n",
    "hept$dvvb_hurdles <- -(hept$hurdles-mean(hept$hurdles,na.rm=TRUE))/\n",
    "                        sd(hept$hurdles,na.rm=TRUE)\n",
    "\n",
    "hept$dvvb_hj      <-  (hept$hj-mean(hept$hj,na.rm=TRUE))/\n",
    "                        sd(hept$hj,na.rm=TRUE)\n",
    "\n",
    "hept$dvvb_sp      <-  (hept$sp-mean(hept$sp,na.rm=TRUE))/\n",
    "                        sd(hept$sp,na.rm=TRUE)\n",
    "\n",
    "hept$dvvb_run200  <- -(hept$run200-mean(hept$run200,na.rm=TRUE))/\n",
    "                        sd(hept$run200,na.rm=TRUE)\n",
    "\n",
    "hept$dvvb_lj      <-  (hept$lj-mean(hept$lj,na.rm=TRUE))/\n",
    "                        sd(hept$lj,na.rm=TRUE)\n",
    "\n",
    "hept$dvvb_jt      <-  (hept$jt-mean(hept$jt,na.rm=TRUE))/\n",
    "                        sd(hept$jt,na.rm=TRUE)\n",
    "\n",
    "hept$dvvb_run800  <- -(hept$run800-mean(hept$run800,na.rm=TRUE))/\n",
    "                        sd(hept$run800,na.rm=TRUE)\n",
    "\n",
    "hept$dvvb_total <-\n",
    "  hept$dvvb_hurdles + hept$dvvb_hj + hept$dvvb_sp     + hept$dvvb_run200 +\n",
    "  hept$dvvb_lj      + hept$dvvb_jt + hept$dvvb_run800"
   ]
  },
  {
   "cell_type": "markdown",
   "metadata": {},
   "source": [
    "## Step 2: Create a scatter plot\n",
    "\n",
    "To compare the official points (pts_hurdles, pts_hj, …) with the DVVB-scores, make scatter plots (e.g. pts_hurdles vs. dvvb_hurdles).\n",
    "\n",
    "When you have a plot, add a lowess line to the plot."
   ]
  },
  {
   "cell_type": "code",
   "execution_count": 4,
   "metadata": {},
   "outputs": [
    {
     "data": {
      "image/png": "[encoded data removed]",
      "text/plain": [
       "Plot with title \"Hurdles\""
      ]
     },
     "metadata": {},
     "output_type": "display_data"
    }
   ],
   "source": [
    "plot(pts_hurdles ~ dvvb_hurdles,\n",
    "     data = hept,\n",
    "     main = \"Hurdles\",\n",
    "     xlab = \"DVVB-score\",\n",
    "     ylab = \"Official score\")\n",
    "\n",
    "# Lowess line\n",
    "lines(lowess(hept$pts_hurdles ~ hept$dvvb_hurdles))\n",
    "\n",
    "# Lowess Line: lowess(x, y, etc.)\n",
    "\n",
    "# Lowess is local regression, it returns an x and y value based on the x and y coordinates provided which smoothes out the curve\n",
    "# Then, these points can be joined using a line to form a regression line."
   ]
  },
  {
   "cell_type": "markdown",
   "metadata": {},
   "source": [
    "## Step 3: Compare the total scores, which are used to determine the athetes’ ranking.\n",
    "\n",
    "Redo activity 2 but instead of studying individual events, investigate the total scores.\n",
    "\n",
    "To compare the official points (pts_total) with the DVVB-score (dvvb_total), make a scatter plot. Add a lowess line to the plot."
   ]
  },
  {
   "cell_type": "code",
   "execution_count": 6,
   "metadata": {
    "scrolled": true
   },
   "outputs": [
    {
     "data": {
      "image/png": "[encoded data removed]",
      "text/plain": [
       "plot without title"
      ]
     },
     "metadata": {},
     "output_type": "display_data"
    }
   ],
   "source": [
    "plot(pts_total[!is.na(hept$run800)] ~ dvvb_total[!is.na(hept$run800)],\n",
    "     data = hept,\n",
    "     xlab = \"Total DVVB-score\",\n",
    "     ylab = \"Total Official score\",\n",
    "     ylim = range(pts_total[!is.na(run800)]))\n",
    "\n",
    "# Add text to the points\n",
    "text(hept$dvvb_total, hept$pts_total, hept$lastname, pos = 1, cex=0.8)\n",
    "\n",
    "# Lowess line, and remove missing DVVB scores from people that did not finish the events\n",
    "lines(lowess(hept$pts_total[!is.na(hept$run800)] ~ hept$dvvb_total[!is.na(hept$run800)]))"
   ]
  },
  {
   "cell_type": "markdown",
   "metadata": {},
   "source": [
    "Now find a standard deviation to see if there are any deviations for different events"
   ]
  },
  {
   "cell_type": "code",
   "execution_count": 16,
   "metadata": {},
   "outputs": [
    {
     "data": {
      "text/html": [
       "<ol class=list-inline>\n",
       "\t<li>66.9417657370942</li>\n",
       "\t<li>104.659870560531</li>\n",
       "\t<li>67.1509401905357</li>\n",
       "\t<li>60.9462736831553</li>\n",
       "\t<li>76.7395794501585</li>\n",
       "\t<li>110.677259023815</li>\n",
       "\t<li>94.102780688635</li>\n",
       "</ol>\n"
      ],
      "text/latex": [
       "\\begin{enumerate*}\n",
       "\\item 66.9417657370942\n",
       "\\item 104.659870560531\n",
       "\\item 67.1509401905357\n",
       "\\item 60.9462736831553\n",
       "\\item 76.7395794501585\n",
       "\\item 110.677259023815\n",
       "\\item 94.102780688635\n",
       "\\end{enumerate*}\n"
      ],
      "text/markdown": [
       "1. 66.9417657370942\n",
       "2. 104.659870560531\n",
       "3. 67.1509401905357\n",
       "4. 60.9462736831553\n",
       "5. 76.7395794501585\n",
       "6. 110.677259023815\n",
       "7. 94.102780688635\n",
       "\n",
       "\n"
      ],
      "text/plain": [
       "[1]  66.94177 104.65987  67.15094  60.94627  76.73958 110.67726  94.10278"
      ]
     },
     "metadata": {},
     "output_type": "display_data"
    }
   ],
   "source": [
    "# Another comparison can be made via standard deviations\n",
    "\n",
    "all_sd <- c(sd(hept$pts_hurdles, na.rm = TRUE), sd(hept$pts_hj, na.rm = TRUE), sd(hept$pts_sp, na.rm = TRUE),\n",
    "            sd(hept$pts_run200,  na.rm = TRUE), sd(hept$pts_lj, na.rm = TRUE), sd(hept$pts_jt, na.rm = TRUE),\n",
    "            sd(hept$pts_run800,  na.rm = TRUE))\n",
    "all_sd"
   ]
  },
  {
   "cell_type": "markdown",
   "metadata": {},
   "source": [
    "The main distinction between the DVVB-score and the official score is that\n",
    "\n",
    "- the DVVB-score must have standard deviation 1 in each event,\n",
    "- the official score’s standard deviation can be different for different events.\n",
    "\n",
    "⇒ Those who win the events with higher SD are advantaged."
   ]
  },
  {
   "cell_type": "markdown",
   "metadata": {},
   "source": [
    "## Step 4: Calculate a column vector of the points difference\n",
    "\n",
    "The difference between Thiam and Ennis-Hill in each event, and store it as pts_dif.\n",
    "\n",
    "To ensure the data are formatted in a column rather than a row, you may have to use the transpose function, t()."
   ]
  },
  {
   "cell_type": "code",
   "execution_count": 13,
   "metadata": {},
   "outputs": [
    {
     "data": {
      "text/html": [
       "<table>\n",
       "<thead><tr><th scope=col>pts_hurdles</th><th scope=col>pts_hj</th><th scope=col>pts_sp</th><th scope=col>pts_run200</th><th scope=col>pts_lj</th><th scope=col>pts_jt</th><th scope=col>pts_run800</th></tr></thead>\n",
       "<tbody>\n",
       "\t<tr><td>-108</td><td>118 </td><td>70  </td><td>-152</td><td>77  </td><td>137 </td><td>-107</td></tr>\n",
       "</tbody>\n",
       "</table>\n"
      ],
      "text/latex": [
       "\\begin{tabular}{r|lllllll}\n",
       " pts\\_hurdles & pts\\_hj & pts\\_sp & pts\\_run200 & pts\\_lj & pts\\_jt & pts\\_run800\\\\\n",
       "\\hline\n",
       "\t -108 & 118  & 70   & -152 & 77   & 137  & -107\\\\\n",
       "\\end{tabular}\n"
      ],
      "text/markdown": [
       "\n",
       "| pts_hurdles | pts_hj | pts_sp | pts_run200 | pts_lj | pts_jt | pts_run800 |\n",
       "|---|---|---|---|---|---|---|\n",
       "| -108 | 118  | 70   | -152 | 77   | 137  | -107 |\n",
       "\n"
      ],
      "text/plain": [
       "  pts_hurdles pts_hj pts_sp pts_run200 pts_lj pts_jt pts_run800\n",
       "1 -108        118    70     -152       77     137    -107      "
      ]
     },
     "metadata": {},
     "output_type": "display_data"
    }
   ],
   "source": [
    "# A positive value implies that Thiam (row 1) was better than Ennis-Hill\n",
    "# (row 2). The official scores are in columns 7, 8, 11, ...\n",
    "\n",
    "#Thiam - Ennis Hill, [row, column]\n",
    "\n",
    "pts_dif <- hept[1, c(7, 9, 11, 13, 15, 17, 19)] - hept[2, c(7, 9, 11, 13, 15, 17, 19)]\n",
    "pts_dif\n",
    "\n",
    "# pts_dif is a data frame with a single row. For plotting, we need a column\n",
    "# rather than a row. Let's transpose.\n",
    "pts_dif <- t(pts_dif)\n",
    "\n",
    "# Transposing the dataset helps to reshape the dataset. So here, rows become columns and columns become rows."
   ]
  },
  {
   "cell_type": "markdown",
   "metadata": {},
   "source": [
    "## Step 5: Plot the standard deviations of official scores for each event against the points difference between Thiam and Ennis-Hill. \n",
    "\n",
    "We already have a vector, all_sd of the standard deviations of official points for each event, and we just calculated pts_dif for the points difference.\n",
    "\n",
    "Use abline(v=0 , col=\"darkgreen\") to add a vertical line to the plot, indicating the center, at which Thiam and Ennis-Hill would score the same for an event."
   ]
  },
  {
   "cell_type": "code",
   "execution_count": 17,
   "metadata": {},
   "outputs": [
    {
     "data": {
      "image/png": "[encoded data removed]",
      "text/plain": [
       "Plot with title \"Points difference between Thiam and Ennis-Hill\""
      ]
     },
     "metadata": {},
     "output_type": "display_data"
    }
   ],
   "source": [
    "plot(all_sd ~ pts_dif,\n",
    "     main = \"Points difference between Thiam and Ennis-Hill\",\n",
    "     xlab = \"Difference in official scores\",\n",
    "     ylab = \"Standard deviation (official score)\")\n",
    "\n",
    "# Adds a center line to the plot\n",
    "\n",
    "abline(v=0 , col=\"darkgreen\")\n",
    "\n",
    "# abline() allows you to add straight lines to a plot. here, abline is \n",
    "# abline(a = intecept, b = slope, h = y value for a horizontal line, v = x value for a vertical line)"
   ]
  },
  {
   "cell_type": "markdown",
   "metadata": {},
   "source": [
    "## Step 6: Improve the plot\n",
    "\n",
    "Add a grid to the plot.\n",
    "\n",
    "Use the points() function n conjunction with the argument type=n of plot() to change how the points on your plot are displayed; use different colours to indicate who performed better in the event. Also add a legend to explain.\n",
    "\n",
    "Label each point with its event name using the text() function."
   ]
  },
  {
   "cell_type": "code",
   "execution_count": 18,
   "metadata": {},
   "outputs": [
    {
     "data": {
      "image/png": "[encoded data removed]",
      "text/plain": [
       "Plot with title \"Score difference between Thiam and Ennis-Hill\""
      ]
     },
     "metadata": {},
     "output_type": "display_data"
    }
   ],
   "source": [
    "plot(all_sd ~ pts_dif,\n",
    "     main = \"Score difference between Thiam and Ennis-Hill\",\n",
    "     xlab = \"Difference in official scores\",\n",
    "     ylab = \"Standard deviation (official score)\",\n",
    "     type = \"n\")\n",
    "# Add the grid.\n",
    "grid()\n",
    "\n",
    "# Use blue squares (pch = 15, col = \"blue\") and red triangles (pch = 17,\n",
    "# col = \"red\") to indicate who performed better.\n",
    "points(pts_dif[pts_dif > 0],all_sd[pts_dif > 0], pch = 15, col = \"blue\")\n",
    "points(pts_dif[pts_dif < 0],all_sd[pts_dif < 0], pch = 17, col = \"red\")\n",
    "legend(x = \"topleft\",\n",
    "       legend = c(\"Thiam better\", \"Ennis-Hill better\"),\n",
    "       pch = c(15, 17),\n",
    "       col = c(\"blue\", \"red\"))\n",
    "\n",
    "# Center line.\n",
    "abline(v=0 , col=\"darkgreen\")\n",
    "\n",
    "# Label the points.\n",
    "text( pts_dif, all_sd,names(hept)[c(6, 8, 10, 12, 14, 16, 18)], pos = 4)"
   ]
  },
  {
   "cell_type": "markdown",
   "metadata": {},
   "source": [
    "## Step 7: Make a second plot\n",
    "\n",
    "Make a second plot showing the DVVB standard deviation against the DVVB difference between Thiam and Ennis-Hill.\n",
    "\n",
    "Display the plots side by side."
   ]
  },
  {
   "cell_type": "code",
   "execution_count": 20,
   "metadata": {},
   "outputs": [
    {
     "data": {
      "image/png": "[encoded data removed]",
      "text/plain": [
       "Plot with title \"Score difference between Thiam and Ennis-Hill\""
      ]
     },
     "metadata": {},
     "output_type": "display_data"
    }
   ],
   "source": [
    "# Layout plots side by side\n",
    "par(mfrow = c(1, 2))\n",
    "# Official scores plot (as in previous exercise).\n",
    "plot(all_sd ~ pts_dif, main = \"Score difference between Thiam and Ennis-Hill\", type = \"n\",\n",
    "     xlab = \"Difference in official scores\", ylab = \"Standard deviation (official score)\")\n",
    "\n",
    "grid()\n",
    "\n",
    "points(pts_dif[pts_dif > 0],all_sd[pts_dif > 0], pch = 15, col = \"blue\")\n",
    "points(pts_dif[pts_dif < 0],all_sd[pts_dif < 0], pch = 17, col = \"red\")\n",
    "\n",
    "legend(x = \"topleft\", legend = c(\"Thiam better\", \"Ennis-Hill better\"), pch = c(15, 17), col = c(\"blue\", \"red\"))\n",
    "\n",
    "abline(v=0 , col=\"darkgreen\")\n",
    "text( pts_dif, all_sd,names(hept)[c(6, 8, 10, 12, 14, 16, 18)], pos = 4)\n",
    "\n",
    "# Calculate the DVVB score difference\n",
    "dvvb_dif <- hept[1, seq(20, 26, 1)] - hept[2, seq(20, 26, 1)]\n",
    "dvvb_dif <- t(dvvb_dif)\n",
    "\n",
    "# When using DVVB standardization, all events have standard deviation 1.\n",
    "dvvb_all_sd <- c(1.0,1.0,1.0,1.0,1.0,1.0,1.0)\n",
    "\n",
    "# DVVB plot.\n",
    "plot(dvvb_all_sd ~ dvvb_dif, main = \"Score difference between Thiam and Ennis-Hill\", type = \"n\",\n",
    "     xlab = \"Difference in official scores\", ylab = \"Standard deviation (official score)\", ylim = c(0,2))\n",
    "\n",
    "grid()\n",
    "\n",
    "points(dvvb_dif[dvvb_dif > 0],dvvb_all_sd[dvvb_dif > 0], pch = 15, col = \"blue\", cex = 0.6)\n",
    "points(dvvb_dif[dvvb_dif < 0],dvvb_all_sd[dvvb_dif < 0], pch = 17, col = \"red\", cex = 0.6)\n",
    "\n",
    "legend(x = \"topleft\", legend = c(\"Thiam better\", \"Ennis-Hill better\"), pch = c(15, 17), col = c(\"blue\", \"red\"))\n",
    "\n",
    "abline(v=0 , col=\"darkgreen\")\n",
    "\n",
    "text(dvvb_dif, dvvb_all_sd,names(hept)[c(6, 8, 10, 12, 14, 16, 18)], pos = c(1,3,1,4,3,3,3))\n",
    "\n",
    "# Remember to set the plot layout back to its original value afterwards.\n",
    "par(mfrow = c(1, 1))"
   ]
  },
  {
   "cell_type": "markdown",
   "metadata": {},
   "source": [
    "The standard deviations in official scores tend to be\n",
    "\n",
    "- low in Ennis-Hill’s best disciplines (e.g. 100 m hurdles, 200 m run),\n",
    "- high in Thiam’s best disciplines (e.g. high jump, javelin).\n",
    "\n",
    "This confirms that Thiam wins more events with high SD than Ennis-Hill.\n",
    "\n",
    "So, Ennis-Hill was at a disadvantage in the official scoring system. Although she has a higher DVVB-score, her best performances were in events that didn’t give her many official points."
   ]
  },
  {
   "cell_type": "markdown",
   "metadata": {},
   "source": [
    "Events that appear in the upper half of the first plot had relatively high standard deviation, so a win (for either athlete) are counted as bigger wins.\n",
    "\n",
    "Events that appear in the lower half of the first plot had relatively low standard deviation, so a win (for either athlete) are counted as smaller wins.\n",
    "\n",
    "Normalizing to DVVB sets the standard deviation to 1 for all events. This\n",
    "\n",
    "- attenuates wins in events with large official standard deviations.\n",
    "- amplifies wins in events with small official standard deviations.\n",
    "\n",
    "                                                                                                        \n",
    "Ennis-Hill’s official big win in the 200m run was, in DVVB terms, a very big win.\n",
    "\n",
    "Thiam’s official big win in the javelin throw was, in DVVB terms, not so big.\n",
    "\n",
    "Note that the standard deviations (and the point differences) for all events have been reduced, but we are discussing the relative reduction, which varies. Because the discussion is relative, it helps to have different scales on the two plots."
   ]
  }
 ],
 "metadata": {
  "kernelspec": {
   "display_name": "R",
   "language": "R",
   "name": "ir"
  },
  "language_info": {
   "codemirror_mode": "r",
   "file_extension": ".r",
   "mimetype": "text/x-r-source",
   "name": "R",
   "pygments_lexer": "r",
   "version": "3.6.1"
  }
 },
 "nbformat": 4,
 "nbformat_minor": 4
}
